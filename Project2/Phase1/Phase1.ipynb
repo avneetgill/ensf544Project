{
 "cells": [
  {
   "cell_type": "markdown",
   "metadata": {},
   "source": [
    "# Phase 1 \n",
    "\n",
    "### Preprocessing"
   ]
  },
  {
   "cell_type": "code",
   "execution_count": 1,
   "metadata": {},
   "outputs": [],
   "source": [
    "import pandas as pd\n",
    "import numpy as np\n",
    "import os\n",
    "import nltk\n",
    "from nltk.corpus import stopwords \n",
    "from nltk.tokenize import word_tokenize \n",
    "from nltk.stem import PorterStemmer"
   ]
  },
  {
   "cell_type": "markdown",
   "metadata": {},
   "source": [
    "### Now load the pickle data into dataframes from the Output folder one directory above"
   ]
  },
  {
   "cell_type": "code",
   "execution_count": 32,
   "metadata": {},
   "outputs": [
    {
     "name": "stdout",
     "output_type": "stream",
     "text": [
      "*** All Bug Reports are Loaded. ***\n",
      "*** All Source Codes are Loaded. ***\n"
     ]
    },
    {
     "data": {
      "text/plain": [
       "'217'"
      ]
     },
     "metadata": {},
     "output_type": "display_data"
    },
    {
     "data": {
      "text/plain": [
       "2"
      ]
     },
     "metadata": {},
     "output_type": "display_data"
    }
   ],
   "source": [
    "def loadEverything():\n",
    "    all_projects_bugreports = pd.read_pickle('Output/allBugReports.pickle')\n",
    "    print(\"*** All Bug Reports are Loaded. ***\")\n",
    "    all_projects_source_codes = pd.read_pickle('Output/allSourceCodes.pickle')\n",
    "    print(\"*** All Source Codes are Loaded. ***\")\n",
    "    return all_projects_bugreports, all_projects_source_codes\n",
    "\n",
    "all_projects_bugreports, all_projects_source_codes = loadEverything()\n",
    "display(all_projects_bugreports.iloc[0])\n",
    "display(all_projects_source_codes.iloc[2])\n",
    "display(all_projects_bugreports.iloc[0].name)\n",
    "display(all_projects_source_codes.iloc[2].name)"
   ]
  },
  {
   "cell_type": "code",
   "execution_count": 6,
   "metadata": {},
   "outputs": [
    {
     "data": {
      "text/plain": [
       "array(['org.apache.commons.collections.map.flat3map.java',\n",
       "       'org.apache.commons.collections.map.testflat3map.java'],\n",
       "      dtype='<U52')"
      ]
     },
     "metadata": {},
     "output_type": "display_data"
    },
    {
     "data": {
      "text/plain": [
       "0     \\gitrepo\\src\\java\\org\\apache\\commons\\collectio...\n",
       "1     \\gitrepo\\src\\java\\org\\apache\\commons\\collectio...\n",
       "2     \\gitrepo\\src\\java\\org\\apache\\commons\\collectio...\n",
       "3     \\gitrepo\\src\\java\\org\\apache\\commons\\collectio...\n",
       "4     \\gitrepo\\src\\java\\org\\apache\\commons\\collectio...\n",
       "                            ...                        \n",
       "63    \\gitrepo\\src\\main\\java\\org\\wildfly\\security\\ut...\n",
       "64    \\gitrepo\\src\\main\\java\\org\\wildfly\\security\\_p...\n",
       "65    \\gitrepo\\src\\test\\java\\org\\wildfly\\security\\ma...\n",
       "66    \\gitrepo\\src\\test\\java\\org\\wildfly\\security\\ma...\n",
       "67    \\gitrepo\\src\\test\\java\\org\\wildfly\\security\\ss...\n",
       "Name: filename, Length: 10461, dtype: object"
      ]
     },
     "metadata": {},
     "output_type": "display_data"
    }
   ],
   "source": [
    "# need to get the file names in the bug report an source code to be the same\n",
    "display(all_projects_bugreports.iloc[0].fix)\n",
    "display(all_projects_source_codes.filename)\n"
   ]
  },
  {
   "cell_type": "markdown",
   "metadata": {},
   "source": [
    "## Removing composite varaibles"
   ]
  },
  {
   "cell_type": "code",
   "execution_count": 22,
   "metadata": {},
   "outputs": [],
   "source": [
    "import re\n",
    "#remove next line characters:\n",
    "def remove_new_lines(text):\n",
    "#     return str(x).replace('\\n', '').replace('*', '').replace('/', '').replace('\\\\','').replace('\\t','')\n",
    "    text = str(text)\n",
    "    COMBINE_WHITE_SPACE = re.compile(r\"(?a:\\s+)\")\n",
    "    text = COMBINE_WHITE_SPACE.sub(' ', text)\n",
    "    return text.replace('*', '').replace('/', '').replace('\\\\','')\n",
    "    \n",
    "# clean up the various white space and remove some *\n",
    "def clean_new_lines_source_code(df):\n",
    "    df.unprocessed_code = df.unprocessed_code.apply(remove_new_lines)\n",
    "    return df\n",
    "\n",
    "# clean up the description and summary, they will both be used for the query\n",
    "def clean_new_lines_bug_report(df):\n",
    "    df.summary = df.summary.apply(remove_new_lines)\n",
    "    df['description'] = df['description'].astype('|S')\n",
    "    df.description = df.description.apply(remove_new_lines)\n",
    "    return df\n",
    "\n",
    "# need to reformat the source code so it can be compared to the bug reports fix array\n",
    "def format_sc_filename(x):\n",
    "  \n",
    "    x = x.split('apache')\n",
    "    if len(x) != 2:\n",
    "        x = x[0].split('springframework')\n",
    "        if len(x) != 2:\n",
    "            x = x[0].split('wildfly')\n",
    "            if len(x) == 2:\n",
    "                x = 'org.wildfly' + x[1]\n",
    "        else:\n",
    "             x = 'org.springframework' + x[1]\n",
    "    else:\n",
    "         x = 'org.apache' + x[1]\n",
    "    if len(x) == 1:\n",
    "        x = x[0]\n",
    "   \n",
    "    x = str(x).replace(\"\\\\\",\".\")\n",
    "    return x\n",
    "\n",
    "# apply the fixes to the filename \n",
    "def clean_sc_filepath(df):\n",
    "    df.filename = df.filename.apply(format_sc_filename)\n",
    "    return df\n",
    "\n"
   ]
  },
  {
   "cell_type": "code",
   "execution_count": 8,
   "metadata": {},
   "outputs": [],
   "source": [
    "#splitting composite words\n",
    "def findCompositeWords(s):\n",
    "    return ' '.join(re.findall('[A-Z][^A-Z]*', s))   \n",
    "\n",
    "\n",
    "def clean_composite_source_code(df):\n",
    "    df.unprocessed_code = df.unprocessed_code.apply(findCompositeWords)\n",
    "    return df\n",
    "\n",
    "def clean_composite_bug_report(df):\n",
    "    df.summary = df.summary.apply(findCompositeWords)\n",
    "    df.description = df.description.apply(findCompositeWords)\n",
    "    return df\n"
   ]
  },
  {
   "cell_type": "code",
   "execution_count": 9,
   "metadata": {},
   "outputs": [],
   "source": [
    "from sklearn.feature_extraction.text import ENGLISH_STOP_WORDS\n",
    "\n",
    "# add the Java key words to the stop words\n",
    "java_keywords = [\"abstract\", \"assert**\",\"assert\", \"boolean\", \"break\", \"byte\", \"case\", \"catch\", \"char\", \"const\", \"continue\", \"default\", \"do\", \"double\", \"else\", \"enum\", \"enum****\" \"extends\", \"final\", \"finally\", \"for\", \"goto\",\"goto*\", \"if\", \"implements\", \"import\", \"instanceof\", \"int\",\"interface\", \"long\", \"native\", \"new\", \"package\", \"private\", \"protected\", \"public\", \"return\", \"short\", \"static\", \"strictfp**\",\"strictfp\", \"super\", \"switch\", \"synchornized\", \"this\", \"throw\", \"throws\", \"transient\", \"try\", \"void\", \"volatile\", \"while\"]\n",
    "java_operators = [\"+\", \"-\", \"*\", \"/\", \"%\", \"+=\", \"-=\", \"*=\", \"/=\", \"++\", \"--\", \"==\", \"!=\", \"<\", \">\", \"<=\", \">=\", \".\", \"[\", \"]\", \"(\",\")\", \"!\", \"~\",\"instanceof\", \"<<\", \">>\", \">>>\", \"&\", \"^\", \"|\", \"&&\", \"||\", \"?\", \":\", \"^=\", \"%=\", \"<<=\", \">>=\", \">>>=\", \"&=\"]\n",
    "stop = java_keywords + java_operators\n",
    "STOP_WORDS = ENGLISH_STOP_WORDS.union(stop)\n",
    "# STOP_WORDS\n"
   ]
  },
  {
   "cell_type": "markdown",
   "metadata": {},
   "source": [
    "### Start working on TF-IDF and Cosine similarity calculations"
   ]
  },
  {
   "cell_type": "code",
   "execution_count": 24,
   "metadata": {},
   "outputs": [
    {
     "name": "stdout",
     "output_type": "stream",
     "text": [
      "['COLLECTIONS' 'CONFIGURATION' 'IO' 'LANG' 'DATACMNS' 'DATAMONGO'\n",
      " 'DATAREST' 'LDAP' 'SEC' 'SOCIALFB' 'SPR' 'ELY']\n"
     ]
    },
    {
     "data": {
      "text/html": [
       "<div>\n",
       "<style scoped>\n",
       "    .dataframe tbody tr th:only-of-type {\n",
       "        vertical-align: middle;\n",
       "    }\n",
       "\n",
       "    .dataframe tbody tr th {\n",
       "        vertical-align: top;\n",
       "    }\n",
       "\n",
       "    .dataframe thead th {\n",
       "        text-align: right;\n",
       "    }\n",
       "</style>\n",
       "<table border=\"1\" class=\"dataframe\">\n",
       "  <thead>\n",
       "    <tr style=\"text-align: right;\">\n",
       "      <th></th>\n",
       "      <th>filename</th>\n",
       "      <th>unprocessed_code</th>\n",
       "      <th>project</th>\n",
       "    </tr>\n",
       "  </thead>\n",
       "  <tbody>\n",
       "    <tr>\n",
       "      <th>0</th>\n",
       "      <td>org.apache.commons.collections.arraystack.java</td>\n",
       "      <td>Licensed to the  Apache  Software  Foundation ...</td>\n",
       "      <td>COLLECTIONS</td>\n",
       "    </tr>\n",
       "    <tr>\n",
       "      <th>1</th>\n",
       "      <td>org.apache.commons.collections.bag.java</td>\n",
       "      <td>Licensed to the  Apache  Software  Foundation ...</td>\n",
       "      <td>COLLECTIONS</td>\n",
       "    </tr>\n",
       "    <tr>\n",
       "      <th>2</th>\n",
       "      <td>org.apache.commons.collections.bagutils.java</td>\n",
       "      <td>Licensed to the  Apache  Software  Foundation ...</td>\n",
       "      <td>COLLECTIONS</td>\n",
       "    </tr>\n",
       "    <tr>\n",
       "      <th>3</th>\n",
       "      <td>org.apache.commons.collections.beanmap.java</td>\n",
       "      <td>Licensed to the  Apache  Software  Foundation ...</td>\n",
       "      <td>COLLECTIONS</td>\n",
       "    </tr>\n",
       "    <tr>\n",
       "      <th>4</th>\n",
       "      <td>org.apache.commons.collections.bidimap.java</td>\n",
       "      <td>Licensed to the  Apache  Software  Foundation ...</td>\n",
       "      <td>COLLECTIONS</td>\n",
       "    </tr>\n",
       "    <tr>\n",
       "      <th>...</th>\n",
       "      <td>...</td>\n",
       "      <td>...</td>\n",
       "      <td>...</td>\n",
       "    </tr>\n",
       "    <tr>\n",
       "      <th>471</th>\n",
       "      <td>org.apache.commons.collections.set.testtransfo...</td>\n",
       "      <td>Licensed to the  Apache  Software  Foundation ...</td>\n",
       "      <td>COLLECTIONS</td>\n",
       "    </tr>\n",
       "    <tr>\n",
       "      <th>472</th>\n",
       "      <td>org.apache.commons.collections.set.testtypedse...</td>\n",
       "      <td>Licensed to the  Apache  Software  Foundation ...</td>\n",
       "      <td>COLLECTIONS</td>\n",
       "    </tr>\n",
       "    <tr>\n",
       "      <th>473</th>\n",
       "      <td>org.apache.commons.collections.set.testtypedso...</td>\n",
       "      <td>Licensed to the  Apache  Software  Foundation ...</td>\n",
       "      <td>COLLECTIONS</td>\n",
       "    </tr>\n",
       "    <tr>\n",
       "      <th>474</th>\n",
       "      <td>org.apache.commons.collections.set.testunmodif...</td>\n",
       "      <td>Licensed to the  Apache  Software  Foundation ...</td>\n",
       "      <td>COLLECTIONS</td>\n",
       "    </tr>\n",
       "    <tr>\n",
       "      <th>475</th>\n",
       "      <td>org.apache.commons.collections.set.testunmodif...</td>\n",
       "      <td>Licensed to the  Apache  Software  Foundation ...</td>\n",
       "      <td>COLLECTIONS</td>\n",
       "    </tr>\n",
       "  </tbody>\n",
       "</table>\n",
       "<p>476 rows × 3 columns</p>\n",
       "</div>"
      ],
      "text/plain": [
       "                                              filename  \\\n",
       "0       org.apache.commons.collections.arraystack.java   \n",
       "1              org.apache.commons.collections.bag.java   \n",
       "2         org.apache.commons.collections.bagutils.java   \n",
       "3          org.apache.commons.collections.beanmap.java   \n",
       "4          org.apache.commons.collections.bidimap.java   \n",
       "..                                                 ...   \n",
       "471  org.apache.commons.collections.set.testtransfo...   \n",
       "472  org.apache.commons.collections.set.testtypedse...   \n",
       "473  org.apache.commons.collections.set.testtypedso...   \n",
       "474  org.apache.commons.collections.set.testunmodif...   \n",
       "475  org.apache.commons.collections.set.testunmodif...   \n",
       "\n",
       "                                      unprocessed_code      project  \n",
       "0    Licensed to the  Apache  Software  Foundation ...  COLLECTIONS  \n",
       "1    Licensed to the  Apache  Software  Foundation ...  COLLECTIONS  \n",
       "2    Licensed to the  Apache  Software  Foundation ...  COLLECTIONS  \n",
       "3    Licensed to the  Apache  Software  Foundation ...  COLLECTIONS  \n",
       "4    Licensed to the  Apache  Software  Foundation ...  COLLECTIONS  \n",
       "..                                                 ...          ...  \n",
       "471  Licensed to the  Apache  Software  Foundation ...  COLLECTIONS  \n",
       "472  Licensed to the  Apache  Software  Foundation ...  COLLECTIONS  \n",
       "473  Licensed to the  Apache  Software  Foundation ...  COLLECTIONS  \n",
       "474  Licensed to the  Apache  Software  Foundation ...  COLLECTIONS  \n",
       "475  Licensed to the  Apache  Software  Foundation ...  COLLECTIONS  \n",
       "\n",
       "[476 rows x 3 columns]"
      ]
     },
     "metadata": {},
     "output_type": "display_data"
    }
   ],
   "source": [
    "from sklearn.feature_extraction.text import CountVectorizer, TfidfVectorizer\n",
    "\n",
    "# clean up the unprocessed code column\n",
    "def clean_source_df(df):\n",
    "    df = clean_new_lines_source_code(df)\n",
    "    df = clean_composite_source_code(df)\n",
    "    df = clean_sc_filepath(df)\n",
    "    return df\n",
    "\n",
    "# add the summary and description together and clean the data\n",
    "def clean_combine_bug_df(df):\n",
    "    df = clean_new_lines_bug_report(df)\n",
    "    df = clean_composite_bug_report(df)\n",
    "    df[\"query\"] = df[\"summary\"] + df[\"description\"]\n",
    "    return df\n",
    "\n",
    "# get clean versions of the dataframes\n",
    "sc_df = clean_source_df(all_projects_source_codes)\n",
    "br_df = clean_bug_df(all_projects_bugreports)\n",
    "\n",
    "\n",
    "# get a list of the projects \n",
    "print(sc_df.project.unique())\n",
    "projects = sc_df.project.unique()\n",
    "\n",
    "# group the data frames\n",
    "sc_grouped_df = sc_df.groupby(sc_df.project)\n",
    "\n",
    "# example of getting a data frame for a single project\n",
    "col_df = sc_grouped_df.get_group(\"COLLECTIONS\")\n",
    "display(col_df)\n",
    "\n",
    "\n"
   ]
  },
  {
   "cell_type": "code",
   "execution_count": 56,
   "metadata": {},
   "outputs": [
    {
     "name": "stderr",
     "output_type": "stream",
     "text": [
      "C:\\Users\\kfrie\\AppData\\Roaming\\Python\\Python37\\site-packages\\ipykernel_launcher.py:30: SettingWithCopyWarning: \n",
      "A value is trying to be set on a copy of a slice from a DataFrame.\n",
      "Try using .loc[row_indexer,col_indexer] = value instead\n",
      "\n",
      "See the caveats in the documentation: https://pandas.pydata.org/pandas-docs/stable/user_guide/indexing.html#returning-a-view-versus-a-copy\n"
     ]
    },
    {
     "data": {
      "text/plain": [
       "<476x3470 sparse matrix of type '<class 'numpy.float64'>'\n",
       "\twith 62997 stored elements in Compressed Sparse Row format>"
      ]
     },
     "metadata": {},
     "output_type": "display_data"
    },
    {
     "data": {
      "text/plain": [
       "array([0.05491227, 0.08307253, 0.00525185, 0.13749   , 0.25435228,\n",
       "       0.03154885, 0.00409805, 0.03625311, 0.09471012, 0.05533985,\n",
       "       0.01266685, 0.01520771, 0.00794535, 0.01807229, 0.02798844,\n",
       "       0.1110047 , 0.02495558, 0.06850777, 0.12213955, 0.40626593,\n",
       "       0.16665006, 0.01509533, 0.19119782, 0.02706737, 0.01797271,\n",
       "       0.04131702, 0.24868529, 0.22858314, 0.01121147, 0.05541785,\n",
       "       0.31931149, 0.0449976 , 0.1419158 , 0.02953132, 0.16821687,\n",
       "       0.28199789, 0.25851874, 0.26881468, 0.17298281, 0.14359683,\n",
       "       0.0111001 , 0.1793797 , 0.08785956, 0.07853233, 0.01950166,\n",
       "       0.03024614, 0.23415322, 0.29455995, 0.01034233, 0.00932091,\n",
       "       0.2886287 , 0.20109146, 0.02197036, 0.15004874, 0.21342391,\n",
       "       0.00579909, 0.05282834, 0.04924567, 0.07070813, 0.03696102,\n",
       "       0.01329643, 0.03427723, 0.22176788, 0.00554332, 0.07351123,\n",
       "       0.02505379, 0.008805  , 0.04811389, 0.00472125, 0.04227651,\n",
       "       0.00737919, 0.07936347, 0.00781077, 0.0074546 , 0.06595123,\n",
       "       0.06401865, 0.18751392, 0.40716164, 0.11001202, 0.11519045,\n",
       "       0.16068826, 0.22373801, 0.16439646, 0.21974728, 0.19540604,\n",
       "       0.17796962, 0.00707402, 0.02687846, 0.01542505, 0.04383866,\n",
       "       0.01367677, 0.01082074, 0.03714058, 0.00707567, 0.00881274,\n",
       "       0.0089511 , 0.04784283, 0.03593564, 0.0499453 , 0.03871002,\n",
       "       0.03631706, 0.04666954, 0.02984038, 0.0267211 , 0.01404663,\n",
       "       0.01759897, 0.02814292, 0.07730189, 0.04003985, 0.04175185,\n",
       "       0.07172481, 0.03804514, 0.03833852, 0.04271091, 0.01570586,\n",
       "       0.01099845, 0.01728538, 0.01039101, 0.01707866, 0.03418257,\n",
       "       0.01032151, 0.01715978, 0.01689396, 0.19659152, 0.01487531,\n",
       "       0.01293084, 0.02461922, 0.01946176, 0.01181482, 0.02136272,\n",
       "       0.01951061, 0.04479983, 0.16132511, 0.00907687, 0.01694212,\n",
       "       0.02301662, 0.02950115, 0.02412931, 0.16131809, 0.01530139,\n",
       "       0.00880592, 0.01148171, 0.02586788, 0.01361883, 0.01829583,\n",
       "       0.0157338 , 0.01500496, 0.02161628, 0.01782058, 0.01091481,\n",
       "       0.        , 0.01462183, 0.02567418, 0.06285632, 0.04573501,\n",
       "       0.05293396, 0.01476013, 0.01046333, 0.02921006, 0.0178304 ,\n",
       "       0.10300935, 0.01809668, 0.16103735, 0.02036085, 0.04857147,\n",
       "       0.19401838, 0.16754653, 0.06717254, 0.10210817, 0.12429204,\n",
       "       0.03232318, 0.02783163, 0.09226203, 0.        , 0.07942769,\n",
       "       0.34077452, 0.03409655, 0.11292047, 0.14343988, 0.03081698,\n",
       "       0.03134713, 0.05876232, 0.04347397, 0.0407288 , 0.06733494,\n",
       "       0.10990847, 0.06572072, 0.03425257, 0.03981952, 0.06714892,\n",
       "       0.07793899, 0.0840082 , 0.05131082, 0.01957418, 0.01906099,\n",
       "       0.04980998, 0.19907821, 0.17256846, 0.26701976, 0.41602203,\n",
       "       0.41529112, 0.36400989, 0.36171096, 0.05088341, 0.39352367,\n",
       "       0.41716537, 0.13456679, 0.0631419 , 0.03648569, 0.05459512,\n",
       "       0.04739341, 0.07456601, 0.06647465, 0.03295849, 0.05799193,\n",
       "       0.19155204, 0.0453073 , 0.0611493 , 0.08031152, 0.01265673,\n",
       "       0.04477852, 0.41092735, 0.46420143, 0.38084681, 0.27720715,\n",
       "       0.14767292, 0.3620678 , 0.14287238, 0.14176332, 0.1231181 ,\n",
       "       0.25831576, 0.23921449, 0.20897838, 0.44707953, 0.13486494,\n",
       "       0.25838478, 0.18420532, 0.14580474, 0.23905135, 0.35556808,\n",
       "       0.27596813, 0.19575136, 0.2580333 , 0.29242762, 0.15021146,\n",
       "       0.14864172, 0.10777493, 0.38059223, 0.21879456, 0.19416971,\n",
       "       0.14518692, 0.12850884, 0.11441271, 0.28656698, 0.25324702,\n",
       "       0.22662923, 0.21223272, 0.12476321, 0.17870902, 0.16084602,\n",
       "       0.14620149, 0.18477033, 0.24763467, 0.17784506, 0.15473065,\n",
       "       0.18620112, 0.15764188, 0.12656016, 0.15282676, 0.14263939,\n",
       "       0.12669043, 0.17309976, 0.16158565, 0.05598869, 0.07309339,\n",
       "       0.12986497, 0.20928856, 0.02297534, 0.01232358, 0.04456068,\n",
       "       0.03915696, 0.0067288 , 0.25500739, 0.02160423, 0.0164075 ,\n",
       "       0.00374827, 0.00697054, 0.02576132, 0.069877  , 0.04405248,\n",
       "       0.11373519, 0.00404801, 0.0284673 , 0.02873771, 0.02330382,\n",
       "       0.03052056, 0.10547672, 0.09141628, 0.10672554, 0.06959109,\n",
       "       0.01209309, 0.04249842, 0.016172  , 0.02074273, 0.13753364,\n",
       "       0.10563145, 0.21077121, 0.0077871 , 0.19210417, 0.10941799,\n",
       "       0.18690794, 0.12105025, 0.03743176, 0.        , 0.16078711,\n",
       "       0.01975847, 0.01225818, 0.00793771, 0.        , 0.0081532 ,\n",
       "       0.00897993, 0.0224935 , 0.0046969 , 0.00468485, 0.00229368,\n",
       "       0.        , 0.03037054, 0.00838564, 0.27414357, 0.10005755,\n",
       "       0.18277843, 0.10416241, 0.03880083, 0.08189191, 0.07015982,\n",
       "       0.08415657, 0.11749843, 0.09067487, 0.09248519, 0.09728828,\n",
       "       0.00555836, 0.01257525, 0.00486213, 0.01324492, 0.00405024,\n",
       "       0.0073257 , 0.00794074, 0.02424374, 0.00242549, 0.00512533,\n",
       "       0.01318646, 0.00474027, 0.0667556 , 0.0092014 , 0.08945028,\n",
       "       0.01479173, 0.00247248, 0.01239887, 0.00589235, 0.0155836 ,\n",
       "       0.0082588 , 0.01109893, 0.00458574, 0.01855868, 0.01374402,\n",
       "       0.01125988, 0.01799632, 0.07948764, 0.0077361 , 0.00833524,\n",
       "       0.00818867, 0.00749528, 0.01149692, 0.01199414, 0.05949293,\n",
       "       0.00816914, 0.04869729, 0.17497224, 0.37782135, 0.21486274,\n",
       "       0.01088601, 0.07544781, 0.0471444 , 0.0840922 , 0.01090048,\n",
       "       0.0239304 , 0.02964268, 0.026048  , 0.06313719, 0.08946711,\n",
       "       0.01187451, 0.01316993, 0.0861579 , 0.09291902, 0.03102428,\n",
       "       0.03458646, 0.0596543 , 0.083768  , 0.12032204, 0.10174973,\n",
       "       0.04495766, 0.01499829, 0.0170547 , 0.16786677, 0.15981634,\n",
       "       0.36753119, 0.07600923, 0.18433015, 0.40965851, 0.02291326,\n",
       "       0.3229086 , 0.38511175, 0.05231739, 0.07738523, 0.00972993,\n",
       "       0.04812588, 0.00530436, 0.02925463, 0.01144169, 0.01720404,\n",
       "       0.0618032 , 0.00264675, 0.01026461, 0.01948301, 0.0057926 ,\n",
       "       0.01392412, 0.19893586, 0.30400943, 0.13279451, 0.1511432 ,\n",
       "       0.06547864, 0.15014932, 0.15934661, 0.18651036, 0.13159702,\n",
       "       0.1232104 , 0.29510549, 0.15516222, 0.16786742, 0.13888121,\n",
       "       0.14619179, 0.14029658, 0.10494018, 0.10118085, 0.19183938,\n",
       "       0.02792762, 0.24082457, 0.24997659, 0.22137469, 0.20184587,\n",
       "       0.19866903, 0.19181882, 0.11907296, 0.17721069, 0.17227628,\n",
       "       0.14405438, 0.13624795, 0.12782461, 0.17653918, 0.11300723,\n",
       "       0.05494914, 0.15167633, 0.16652095, 0.15222518, 0.16907526,\n",
       "       0.14574225, 0.17038243, 0.15218873, 0.11374261, 0.0983486 ,\n",
       "       0.14921765, 0.13578838, 0.1185299 , 0.18522514, 0.14819126,\n",
       "       0.15249085])"
      ]
     },
     "metadata": {},
     "output_type": "display_data"
    }
   ],
   "source": [
    "from sklearn.metrics.pairwise import cosine_similarity\n",
    "\n",
    "\n",
    "def calculate_similarity(src_vect, query):\n",
    "    cosSim = cosine_similarity(query, src_vect).flatten()\n",
    "    return cosSim\n",
    "\n",
    "# fit the vectorizer and transform data\n",
    "def get_similarity(vect, src_vect, query_data):\n",
    "    query = vect.transform(query_data)\n",
    "    similarity = calculate_similarity(src_vect,query)\n",
    "     \n",
    "    return similarity\n",
    "\n",
    "# remove the stem and stop words\n",
    "# takes in an array of strings returns an array of strings\n",
    "def stem_stop(text):\n",
    "    stemmer = PorterStemmer()   #\"english\"\n",
    "    text = text.split()\n",
    "    text = [w for w in text if not w in STOP_WORDS]\n",
    "    text = list(map(lambda x: stemmer.stem(x), text))\n",
    "    text = ' '.join(text)\n",
    "    text = text.strip()\n",
    "    return text\n",
    "\n",
    "# take in the source code df for a project and a signle query return scores\n",
    "def generate_scores(source, query):\n",
    "    \n",
    "    # get a list of strings from the data frames to be vectorized\n",
    "    source['unprocessed_code'] = source['unprocessed_code'].map(stem_stop)\n",
    "    query[\"query\"] = query[\"query\"].map(stem_stop)\n",
    "    query_str = query[\"query\"].iloc[0]\n",
    "     \n",
    "    # fit a vectorizer to the data\n",
    "    vect = TfidfVectorizer(min_df=1).fit(source['unprocessed_code'])\n",
    "    src_vect = vect.transform(source['unprocessed_code'])\n",
    "    display(src_vect)\n",
    "    \n",
    "    #get the similarity scores for the bug reports\n",
    "    \n",
    "    #iterate through the query\n",
    "    for q in query[\"query\"]:\n",
    "        similarity = get_similarity(vect, src_vect, [q])\n",
    "        # some sort of data structure (dict) to collect the queries to add it to the dataframe later\n",
    "    \n",
    "    return # the data structure of the similarity scores\n",
    "    \n",
    "generate_scores(col_df, br_df)"
   ]
  },
  {
   "cell_type": "markdown",
   "metadata": {},
   "source": [
    "- Now we need to run each project through the above code, and all the bugs for that project\n",
    "- Store the similarity score for each bug in the dataframe\n",
    "- Figure out index of the top 20\n",
    "- Figure out index of files where the fix was ( this is in the bug report )\n",
    "- Calculate MAP and MRR for each"
   ]
  },
  {
   "cell_type": "code",
   "execution_count": null,
   "metadata": {},
   "outputs": [],
   "source": []
  },
  {
   "cell_type": "code",
   "execution_count": 45,
   "metadata": {},
   "outputs": [
    {
     "name": "stderr",
     "output_type": "stream",
     "text": [
      "C:\\Users\\kfrie\\AppData\\Roaming\\Python\\Python37\\site-packages\\ipykernel_launcher.py:1: SettingWithCopyWarning: \n",
      "A value is trying to be set on a copy of a slice from a DataFrame.\n",
      "Try using .loc[row_indexer,col_indexer] = value instead\n",
      "\n",
      "See the caveats in the documentation: https://pandas.pydata.org/pandas-docs/stable/user_guide/indexing.html#returning-a-view-versus-a-copy\n",
      "  \"\"\"Entry point for launching an IPython kernel.\n"
     ]
    }
   ],
   "source": [
    "col_df['unprocessed_code'] = col_df['unprocessed_code'].map(stem_stop)\n",
    "br_df[\"query\"] = br_df[\"query\"].map(stem_stop)\n",
    "\n"
   ]
  },
  {
   "cell_type": "markdown",
   "metadata": {},
   "source": [
    "Tired and trying to figure out what I need to do"
   ]
  },
  {
   "cell_type": "code",
   "execution_count": 46,
   "metadata": {},
   "outputs": [],
   "source": [
    "vect = TfidfVectorizer(min_df=1).fit(col_df['unprocessed_code'])\n",
    "src_vect = vect.transform(col_df['unprocessed_code'])"
   ]
  },
  {
   "cell_type": "code",
   "execution_count": 49,
   "metadata": {},
   "outputs": [
    {
     "data": {
      "text/plain": [
       "'flat3 map. entry.set value() overwrit entri valuesflat3 map&amp;apos; entri object overwrit entry&amp;apos; valu entry.set value() call one. It overwrit entri hand.n i&amp;apos;v look source, statement incorrectli fall through, return like should:n flat3 map.java, line 646-660:n object set value( object value) {n (can remov false) n{n illeg state exception( abstract hash map. S E T V A L U E_ I N V A L I d);n }n object old = value();n (next index) n{n 3: n parent.value3 = value;n 2:n parent.value2 = value;n 1:n parent.value1 = value;n }n old;n }n with code, I set valu item entri set, valu set value.\\'\"\\'\\'\\'\\'\\'\\'\\''"
      ]
     },
     "execution_count": 49,
     "metadata": {},
     "output_type": "execute_result"
    }
   ],
   "source": [
    "query = br_df[\"query\"].iloc[0]\n",
    "query"
   ]
  },
  {
   "cell_type": "code",
   "execution_count": 52,
   "metadata": {},
   "outputs": [
    {
     "data": {
      "text/plain": [
       "<101x3470 sparse matrix of type '<class 'numpy.float64'>'\n",
       "\twith 73 stored elements in Compressed Sparse Row format>"
      ]
     },
     "execution_count": 52,
     "metadata": {},
     "output_type": "execute_result"
    }
   ],
   "source": [
    "qv = vect.transform(query.split())\n",
    "qv"
   ]
  },
  {
   "cell_type": "code",
   "execution_count": 53,
   "metadata": {},
   "outputs": [
    {
     "data": {
      "text/plain": [
       "<1x3470 sparse matrix of type '<class 'numpy.float64'>'\n",
       "\twith 41 stored elements in Compressed Sparse Row format>"
      ]
     },
     "execution_count": 53,
     "metadata": {},
     "output_type": "execute_result"
    }
   ],
   "source": [
    "qv = vect.transform([query])\n",
    "qv"
   ]
  },
  {
   "cell_type": "code",
   "execution_count": null,
   "metadata": {},
   "outputs": [],
   "source": []
  }
 ],
 "metadata": {
  "kernelspec": {
   "display_name": "Python 3",
   "language": "python",
   "name": "python3"
  },
  "language_info": {
   "codemirror_mode": {
    "name": "ipython",
    "version": 3
   },
   "file_extension": ".py",
   "mimetype": "text/x-python",
   "name": "python",
   "nbconvert_exporter": "python",
   "pygments_lexer": "ipython3",
   "version": "3.7.6"
  }
 },
 "nbformat": 4,
 "nbformat_minor": 4
}
