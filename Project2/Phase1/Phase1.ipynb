{
 "cells": [
  {
   "cell_type": "markdown",
   "metadata": {},
   "source": [
    "# Phase 1 \n",
    "\n",
    "### Preprocessing"
   ]
  },
  {
   "cell_type": "code",
   "execution_count": 7,
   "metadata": {},
   "outputs": [],
   "source": [
    "import pandas as pd\n",
    "import numpy as np\n",
    "import os\n",
    "import nltk\n",
    "from nltk.corpus import stopwords \n",
    "from nltk.tokenize import word_tokenize \n",
    "from nltk.stem import PorterStemmer"
   ]
  },
  {
   "source": [
    "### Now load the pickle data into dataframes from the Output folder one directory above"
   ],
   "cell_type": "markdown",
   "metadata": {}
  },
  {
   "cell_type": "code",
   "execution_count": 5,
   "metadata": {},
   "outputs": [
    {
     "output_type": "stream",
     "name": "stdout",
     "text": [
      "*** All Bug Reports are Loaded. ***\n*** All Source Codes are Loaded. ***\n"
     ]
    },
    {
     "output_type": "display_data",
     "data": {
      "text/plain": "fix                  [org.apache.commons.collections.map.flat3map.j...\ntext                                                               NaN\nfixdate                                            2006-07-18 22:02:11\nsummary              Flat3Map.Entry.setValue() overwrites other Ent...\ndescription          Flat3Map&amp;apos;s Entry objects will overwri...\nproject                                                    COLLECTIONS\naverage_precision                                                    0\nName: 217, dtype: object"
     },
     "metadata": {}
    },
    {
     "output_type": "display_data",
     "data": {
      "text/plain": "'/*\\n *  Licensed to the Apache Software Foundation (ASF) under one or more\\n *  contributor license agreements.  See the NOTICE file distributed with\\n *  this work for additional information regarding copyright ownership.\\n *  The ASF licenses this file to You under the Apache License, Version 2.0\\n *  (the \"License\"); you may not use this file except in compliance with\\n *  the License.  You may obtain a copy of the License at\\n *\\n *      http://www.apache.org/licenses/LICENSE-2.0\\n *\\n *  Unless required by applicable law or agreed to in writing, software\\n *  distributed under the License is distributed on an \"AS IS\" BASIS,\\n *  WITHOUT WARRANTIES OR CONDITIONS OF ANY KIND, either express or implied.\\n *  See the License for the specific language governing permissions and\\n *  limitations under the License.\\n */\\npackage org.apache.commons.collections;\\n\\nimport java.util.ArrayList;\\nimport java.util.EmptyStackException;\\n\\n/**\\n * An implementation of the {@link java.util.Stack} API that is based on an\\n * <code>ArrayList</code> instead of a <code>Vector</code>, so it is not\\n * synchronized to protect against multi-threaded access.  The implementation\\n * is therefore operates faster in environments where you do not need to\\n * worry about multiple thread contention.\\n * <p>\\n * The removal order of an <code>ArrayStack</code> is based on insertion \\n * order: The most recently added element is removed first.  The iteration\\n * order is <i>not</i> the same as the removal order.  The iterator returns\\n * elements from the bottom up, whereas the {@link #remove()} method removes\\n * them from the top down.\\n * <p>\\n * Unlike <code>Stack</code>, <code>ArrayStack</code> accepts null entries.\\n *\\n * @see java.util.Stack\\n * @since Commons Collections 1.0\\n * @version $Revision$ $Date$\\n * \\n * @author Craig R. McClanahan\\n * @author Paul Jack\\n * @author Stephen Colebourne\\n */\\npublic class ArrayStack extends ArrayList implements Buffer {\\n\\n    /** Ensure serialization compatibility */    \\n    private static final long serialVersionUID = 2130079159931574599L;\\n\\n    /**\\n     * Constructs a new empty <code>ArrayStack</code>. The initial size\\n     * is controlled by <code>ArrayList</code> and is currently 10.\\n     */\\n    public ArrayStack() {\\n        super();\\n    }\\n\\n    /**\\n     * Constructs a new empty <code>ArrayStack</code> with an initial size.\\n     * \\n     * @param initialSize  the initial size to use\\n     * @throws IllegalArgumentException  if the specified initial size\\n     *  is negative\\n     */\\n    public ArrayStack(int initialSize) {\\n        super(initialSize);\\n    }\\n\\n    /**\\n     * Return <code>true</code> if this stack is currently empty.\\n     * <p>\\n     * This method exists for compatibility with <code>java.util.Stack</code>.\\n     * New users of this class should use <code>isEmpty</code> instead.\\n     * \\n     * @return true if the stack is currently empty\\n     */\\n    public boolean empty() {\\n        return isEmpty();\\n    }\\n\\n    /**\\n     * Returns the top item off of this stack without removing it.\\n     *\\n     * @return the top item on the stack\\n     * @throws EmptyStackException  if the stack is empty\\n     */\\n    public Object peek() throws EmptyStackException {\\n        int n = size();\\n        if (n <= 0) {\\n            throw new EmptyStackException();\\n        } else {\\n            return get(n - 1);\\n        }\\n    }\\n\\n    /**\\n     * Returns the n\\'th item down (zero-relative) from the top of this\\n     * stack without removing it.\\n     *\\n     * @param n  the number of items down to go\\n     * @return the n\\'th item on the stack, zero relative\\n     * @throws EmptyStackException  if there are not enough items on the\\n     *  stack to satisfy this request\\n     */\\n    public Object peek(int n) throws EmptyStackException {\\n        int m = (size() - n) - 1;\\n        if (m < 0) {\\n            throw new EmptyStackException();\\n        } else {\\n            return get(m);\\n        }\\n    }\\n\\n    /**\\n     * Pops the top item off of this stack and return it.\\n     *\\n     * @return the top item on the stack\\n     * @throws EmptyStackException  if the stack is empty\\n     */\\n    public Object pop() throws EmptyStackException {\\n        int n = size();\\n        if (n <= 0) {\\n            throw new EmptyStackException();\\n        } else {\\n            return remove(n - 1);\\n        }\\n    }\\n\\n    /**\\n     * Pushes a new item onto the top of this stack. The pushed item is also\\n     * returned. This is equivalent to calling <code>add</code>.\\n     *\\n     * @param item  the item to be added\\n     * @return the item just pushed\\n     */\\n    public Object push(Object item) {\\n        add(item);\\n        return item;\\n    }\\n\\n    /**\\n     * Returns the one-based position of the distance from the top that the\\n     * specified object exists on this stack, where the top-most element is\\n     * considered to be at distance <code>1</code>.  If the object is not\\n     * present on the stack, return <code>-1</code> instead.  The\\n     * <code>equals()</code> method is used to compare to the items\\n     * in this stack.\\n     *\\n     * @param object  the object to be searched for\\n     * @return the 1-based depth into the stack of the object, or -1 if not found\\n     */\\n    public int search(Object object) {\\n        int i = size() - 1;        // Current index\\n        int n = 1;                 // Current distance\\n        while (i >= 0) {\\n            Object current = get(i);\\n            if ((object == null && current == null) ||\\n                (object != null && object.equals(current))) {\\n                return n;\\n            }\\n            i--;\\n            n++;\\n        }\\n        return -1;\\n    }\\n\\n    /**\\n     * Returns the element on the top of the stack.\\n     *\\n     * @return the element on the top of the stack\\n     * @throws BufferUnderflowException  if the stack is empty\\n     */\\n    public Object get() {\\n        int size = size();\\n        if (size == 0) {\\n            throw new BufferUnderflowException();\\n        }\\n        return get(size - 1);\\n    }\\n\\n    /**\\n     * Removes the element on the top of the stack.\\n     *\\n     * @return the removed element \\n     * @throws BufferUnderflowException  if the stack is empty\\n     */\\n    public Object remove() {\\n        int size = size();\\n        if (size == 0) {\\n            throw new BufferUnderflowException();\\n        }\\n        return remove(size - 1);\\n    }\\n\\n}\\n'"
     },
     "metadata": {}
    }
   ],
   "source": [
    "def loadEverything():\n",
    "    all_projects_bugreports = pd.read_pickle('../Output/allBugReports.pickle')\n",
    "    print(\"*** All Bug Reports are Loaded. ***\")\n",
    "    all_projects_source_codes = pd.read_pickle('../Output/allSourceCodes.pickle')\n",
    "    print(\"*** All Source Codes are Loaded. ***\")\n",
    "    return all_projects_bugreports, all_projects_source_codes\n",
    "\n",
    "all_projects_bugreports, all_projects_source_codes = loadEverything()\n",
    "display(all_projects_bugreports.iloc[0])\n",
    "display(all_projects_source_codes.iloc[0].unprocessed_code)"
   ]
  },
  {
   "cell_type": "code",
   "execution_count": null,
   "metadata": {},
   "outputs": [],
   "source": []
  }
 ],
 "metadata": {
  "kernelspec": {
   "display_name": "Python 3",
   "language": "python",
   "name": "python3"
  },
  "language_info": {
   "codemirror_mode": {
    "name": "ipython",
    "version": 3
   },
   "file_extension": ".py",
   "mimetype": "text/x-python",
   "name": "python",
   "nbconvert_exporter": "python",
   "pygments_lexer": "ipython3",
   "version": "3.7.6-final"
  }
 },
 "nbformat": 4,
 "nbformat_minor": 4
}