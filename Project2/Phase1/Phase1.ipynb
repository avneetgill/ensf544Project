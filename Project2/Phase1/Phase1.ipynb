{
 "cells": [
  {
   "cell_type": "markdown",
   "metadata": {},
   "source": [
    "# Phase 1 \n",
    "\n",
    "### Preprocessing"
   ]
  },
  {
   "cell_type": "code",
   "execution_count": 1,
   "metadata": {},
   "outputs": [],
   "source": [
    "import pandas as pd\n",
    "import numpy as np\n",
    "import os\n",
    "import nltk\n",
    "from nltk.corpus import stopwords \n",
    "from nltk.tokenize import word_tokenize \n",
    "from nltk.stem import PorterStemmer"
   ]
  },
  {
   "cell_type": "markdown",
   "metadata": {},
   "source": [
    "### Now load the pickle data into dataframes from the Output folder one directory above"
   ]
  },
  {
   "cell_type": "code",
   "execution_count": 5,
   "metadata": {},
   "outputs": [
    {
     "name": "stdout",
     "output_type": "stream",
     "text": [
      "*** All Bug Reports are Loaded. ***\n",
      "*** All Source Codes are Loaded. ***\n"
     ]
    },
    {
     "data": {
      "text/plain": [
       "fix                  [org.apache.commons.collections.map.flat3map.j...\n",
       "text                                                               NaN\n",
       "fixdate                                            2006-07-18 22:02:11\n",
       "summary              Flat3Map.Entry.setValue() overwrites other Ent...\n",
       "description          Flat3Map&amp;apos;s Entry objects will overwri...\n",
       "project                                                    COLLECTIONS\n",
       "average_precision                                                    0\n",
       "Name: 217, dtype: object"
      ]
     },
     "metadata": {},
     "output_type": "display_data"
    }
   ],
   "source": [
    "def loadEverything():\n",
    "    all_projects_bugreports = pd.read_pickle('Output/allBugReports.pickle')\n",
    "    print(\"*** All Bug Reports are Loaded. ***\")\n",
    "    all_projects_source_codes = pd.read_pickle('Output/allSourceCodes.pickle')\n",
    "    print(\"*** All Source Codes are Loaded. ***\")\n",
    "    return all_projects_bugreports, all_projects_source_codes\n",
    "\n",
    "all_projects_bugreports, all_projects_source_codes = loadEverything()\n",
    "display(all_projects_bugreports.iloc[0])\n"
   ]
  },
  {
   "cell_type": "code",
   "execution_count": 6,
   "metadata": {},
   "outputs": [
    {
     "data": {
      "text/plain": [
       "array(['org.apache.commons.collections.map.flat3map.java',\n",
       "       'org.apache.commons.collections.map.testflat3map.java'],\n",
       "      dtype='<U52')"
      ]
     },
     "metadata": {},
     "output_type": "display_data"
    },
    {
     "data": {
      "text/plain": [
       "0     \\gitrepo\\src\\java\\org\\apache\\commons\\collectio...\n",
       "1     \\gitrepo\\src\\java\\org\\apache\\commons\\collectio...\n",
       "2     \\gitrepo\\src\\java\\org\\apache\\commons\\collectio...\n",
       "3     \\gitrepo\\src\\java\\org\\apache\\commons\\collectio...\n",
       "4     \\gitrepo\\src\\java\\org\\apache\\commons\\collectio...\n",
       "                            ...                        \n",
       "63    \\gitrepo\\src\\main\\java\\org\\wildfly\\security\\ut...\n",
       "64    \\gitrepo\\src\\main\\java\\org\\wildfly\\security\\_p...\n",
       "65    \\gitrepo\\src\\test\\java\\org\\wildfly\\security\\ma...\n",
       "66    \\gitrepo\\src\\test\\java\\org\\wildfly\\security\\ma...\n",
       "67    \\gitrepo\\src\\test\\java\\org\\wildfly\\security\\ss...\n",
       "Name: filename, Length: 10461, dtype: object"
      ]
     },
     "metadata": {},
     "output_type": "display_data"
    }
   ],
   "source": [
    "# need to get the file names in the bug report an source code to be the same\n",
    "display(all_projects_bugreports.iloc[0].fix)\n",
    "display(all_projects_source_codes.filename)\n"
   ]
  },
  {
   "cell_type": "markdown",
   "metadata": {},
   "source": [
    "## Removing composite varaibles"
   ]
  },
  {
   "cell_type": "code",
   "execution_count": 22,
   "metadata": {},
   "outputs": [],
   "source": [
    "import re\n",
    "#remove next line characters:\n",
    "def remove_new_lines(text):\n",
    "#     return str(x).replace('\\n', '').replace('*', '').replace('/', '').replace('\\\\','').replace('\\t','')\n",
    "    text = str(text)\n",
    "    COMBINE_WHITE_SPACE = re.compile(r\"(?a:\\s+)\")\n",
    "    text = COMBINE_WHITE_SPACE.sub(' ', text)\n",
    "    return text.replace('*', '').replace('/', '').replace('\\\\','')\n",
    "    \n",
    "# clean up the various white space and remove some *\n",
    "def clean_new_lines_source_code(df):\n",
    "    df.unprocessed_code = df.unprocessed_code.apply(remove_new_lines)\n",
    "    return df\n",
    "\n",
    "# clean up the description and summary, they will both be used for the query\n",
    "def clean_new_lines_bug_report(df):\n",
    "    df.summary = df.summary.apply(remove_new_lines)\n",
    "    df['description'] = df['description'].astype('|S')\n",
    "    df.description = df.description.apply(remove_new_lines)\n",
    "    return df\n",
    "\n",
    "# need to reformat the source code so it can be compared to the bug reports fix array\n",
    "def format_sc_filename(x):\n",
    "  \n",
    "    x = x.split('apache')\n",
    "    if len(x) != 2:\n",
    "        x = x[0].split('springframework')\n",
    "        if len(x) != 2:\n",
    "            x = x[0].split('wildfly')\n",
    "            if len(x) == 2:\n",
    "                x = 'org.wildfly' + x[1]\n",
    "        else:\n",
    "             x = 'org.springframework' + x[1]\n",
    "    else:\n",
    "         x = 'org.apache' + x[1]\n",
    "    if len(x) == 1:\n",
    "        x = x[0]\n",
    "   \n",
    "    x = str(x).replace(\"\\\\\",\".\")\n",
    "    return x\n",
    "\n",
    "# apply the fixes to the filename \n",
    "def clean_sc_filepath(df):\n",
    "    df.filename = df.filename.apply(format_sc_filename)\n",
    "    return df\n",
    "\n"
   ]
  },
  {
   "cell_type": "code",
   "execution_count": 8,
   "metadata": {},
   "outputs": [],
   "source": [
    "\n",
    "\n",
    "#splitting composite words\n",
    "def findCompositeWords(s):\n",
    "    return ' '.join(re.findall('[A-Z][^A-Z]*', s))   \n",
    "\n",
    "\n",
    "def clean_composite_source_code(df):\n",
    "    df.unprocessed_code = df.unprocessed_code.apply(findCompositeWords)\n",
    "    return df\n",
    "\n",
    "def clean_composite_bug_report(df):\n",
    "    df.summary = df.summary.apply(findCompositeWords)\n",
    "    df.description = df.description.apply(findCompositeWords)\n",
    "    return df\n"
   ]
  },
  {
   "cell_type": "code",
   "execution_count": 9,
   "metadata": {},
   "outputs": [],
   "source": [
    "from sklearn.feature_extraction.text import ENGLISH_STOP_WORDS\n",
    "\n",
    "# add the Java key words to the stop words\n",
    "java_keywords = [\"abstract\", \"assert**\",\"assert\", \"boolean\", \"break\", \"byte\", \"case\", \"catch\", \"char\", \"const\", \"continue\", \"default\", \"do\", \"double\", \"else\", \"enum\", \"enum****\" \"extends\", \"final\", \"finally\", \"for\", \"goto\",\"goto*\", \"if\", \"implements\", \"import\", \"instanceof\", \"int\",\"interface\", \"long\", \"native\", \"new\", \"package\", \"private\", \"protected\", \"public\", \"return\", \"short\", \"static\", \"strictfp**\",\"strictfp\", \"super\", \"switch\", \"synchornized\", \"this\", \"throw\", \"throws\", \"transient\", \"try\", \"void\", \"volatile\", \"while\"]\n",
    "java_operators = [\"+\", \"-\", \"*\", \"/\", \"%\", \"+=\", \"-=\", \"*=\", \"/=\", \"++\", \"--\", \"==\", \"!=\", \"<\", \">\", \"<=\", \">=\", \".\", \"[\", \"]\", \"(\",\")\", \"!\", \"~\",\"instanceof\", \"<<\", \">>\", \">>>\", \"&\", \"^\", \"|\", \"&&\", \"||\", \"?\", \":\", \"^=\", \"%=\", \"<<=\", \">>=\", \">>>=\", \"&=\"]\n",
    "stop = java_keywords + java_operators\n",
    "STOP_WORDS = ENGLISH_STOP_WORDS.union(stop)\n",
    "# STOP_WORDS\n"
   ]
  },
  {
   "cell_type": "markdown",
   "metadata": {},
   "source": [
    "### Start working on TF-IDF and Cosine similarity calculations"
   ]
  },
  {
   "cell_type": "code",
   "execution_count": 23,
   "metadata": {},
   "outputs": [
    {
     "data": {
      "text/plain": [
       "'Flat3  Map&amp;apos;s  Entry objects will overwrite other  Entry&amp;apos;s values if  Entry.set  Value() is called on one.  It should only overwrite the  Entry at hand.n  I&amp;apos;ve looked at the source, and the case statement incorrectly falls through, rather than returning like it should:n  Flat3  Map.java, lines 646-660:n public  Object set  Value(  Object value) {n if (can  Remove == false) n{n throw new  Illegal  State  Exception(  Abstract  Hashed  Map.  S  E  T  V  A  L  U  E_  I  N  V  A  L  I  D);n }n  Object old = get  Value();n switch (next  Index) n{n case 3: n parent.value3 = value;n case 2:n parent.value2 = value;n case 1:n parent.value1 = value;n }n return old;n }n  With this code, if  I set the value of the third item in the  Entry  Set, then all three values are set to the new value.\\'\"\\'\\'\\'\\'\\'\\'\\''"
      ]
     },
     "metadata": {},
     "output_type": "display_data"
    },
    {
     "data": {
      "text/plain": [
       "'Flat3  Map.  Entry.set  Value() overwrites other  Entry valuesFlat3  Map&amp;apos;s  Entry objects will overwrite other  Entry&amp;apos;s values if  Entry.set  Value() is called on one.  It should only overwrite the  Entry at hand.n  I&amp;apos;ve looked at the source, and the case statement incorrectly falls through, rather than returning like it should:n  Flat3  Map.java, lines 646-660:n public  Object set  Value(  Object value) {n if (can  Remove == false) n{n throw new  Illegal  State  Exception(  Abstract  Hashed  Map.  S  E  T  V  A  L  U  E_  I  N  V  A  L  I  D);n }n  Object old = get  Value();n switch (next  Index) n{n case 3: n parent.value3 = value;n case 2:n parent.value2 = value;n case 1:n parent.value1 = value;n }n return old;n }n  With this code, if  I set the value of the third item in the  Entry  Set, then all three values are set to the new value.\\'\"\\'\\'\\'\\'\\'\\'\\''"
      ]
     },
     "metadata": {},
     "output_type": "display_data"
    },
    {
     "name": "stdout",
     "output_type": "stream",
     "text": [
      "['COLLECTIONS' 'CONFIGURATION' 'IO' 'LANG' 'DATACMNS' 'DATAMONGO'\n",
      " 'DATAREST' 'LDAP' 'SEC' 'SOCIALFB' 'SPR' 'ELY']\n"
     ]
    },
    {
     "data": {
      "text/html": [
       "<div>\n",
       "<style scoped>\n",
       "    .dataframe tbody tr th:only-of-type {\n",
       "        vertical-align: middle;\n",
       "    }\n",
       "\n",
       "    .dataframe tbody tr th {\n",
       "        vertical-align: top;\n",
       "    }\n",
       "\n",
       "    .dataframe thead th {\n",
       "        text-align: right;\n",
       "    }\n",
       "</style>\n",
       "<table border=\"1\" class=\"dataframe\">\n",
       "  <thead>\n",
       "    <tr style=\"text-align: right;\">\n",
       "      <th></th>\n",
       "      <th>filename</th>\n",
       "      <th>unprocessed_code</th>\n",
       "      <th>project</th>\n",
       "    </tr>\n",
       "  </thead>\n",
       "  <tbody>\n",
       "    <tr>\n",
       "      <th>0</th>\n",
       "      <td>org.apache.commons.collections.arraystack.java</td>\n",
       "      <td>Licensed to the  Apache  Software  Foundation ...</td>\n",
       "      <td>COLLECTIONS</td>\n",
       "    </tr>\n",
       "    <tr>\n",
       "      <th>1</th>\n",
       "      <td>org.apache.commons.collections.bag.java</td>\n",
       "      <td>Licensed to the  Apache  Software  Foundation ...</td>\n",
       "      <td>COLLECTIONS</td>\n",
       "    </tr>\n",
       "    <tr>\n",
       "      <th>2</th>\n",
       "      <td>org.apache.commons.collections.bagutils.java</td>\n",
       "      <td>Licensed to the  Apache  Software  Foundation ...</td>\n",
       "      <td>COLLECTIONS</td>\n",
       "    </tr>\n",
       "    <tr>\n",
       "      <th>3</th>\n",
       "      <td>org.apache.commons.collections.beanmap.java</td>\n",
       "      <td>Licensed to the  Apache  Software  Foundation ...</td>\n",
       "      <td>COLLECTIONS</td>\n",
       "    </tr>\n",
       "    <tr>\n",
       "      <th>4</th>\n",
       "      <td>org.apache.commons.collections.bidimap.java</td>\n",
       "      <td>Licensed to the  Apache  Software  Foundation ...</td>\n",
       "      <td>COLLECTIONS</td>\n",
       "    </tr>\n",
       "    <tr>\n",
       "      <th>...</th>\n",
       "      <td>...</td>\n",
       "      <td>...</td>\n",
       "      <td>...</td>\n",
       "    </tr>\n",
       "    <tr>\n",
       "      <th>471</th>\n",
       "      <td>org.apache.commons.collections.set.testtransfo...</td>\n",
       "      <td>Licensed to the  Apache  Software  Foundation ...</td>\n",
       "      <td>COLLECTIONS</td>\n",
       "    </tr>\n",
       "    <tr>\n",
       "      <th>472</th>\n",
       "      <td>org.apache.commons.collections.set.testtypedse...</td>\n",
       "      <td>Licensed to the  Apache  Software  Foundation ...</td>\n",
       "      <td>COLLECTIONS</td>\n",
       "    </tr>\n",
       "    <tr>\n",
       "      <th>473</th>\n",
       "      <td>org.apache.commons.collections.set.testtypedso...</td>\n",
       "      <td>Licensed to the  Apache  Software  Foundation ...</td>\n",
       "      <td>COLLECTIONS</td>\n",
       "    </tr>\n",
       "    <tr>\n",
       "      <th>474</th>\n",
       "      <td>org.apache.commons.collections.set.testunmodif...</td>\n",
       "      <td>Licensed to the  Apache  Software  Foundation ...</td>\n",
       "      <td>COLLECTIONS</td>\n",
       "    </tr>\n",
       "    <tr>\n",
       "      <th>475</th>\n",
       "      <td>org.apache.commons.collections.set.testunmodif...</td>\n",
       "      <td>Licensed to the  Apache  Software  Foundation ...</td>\n",
       "      <td>COLLECTIONS</td>\n",
       "    </tr>\n",
       "  </tbody>\n",
       "</table>\n",
       "<p>476 rows × 3 columns</p>\n",
       "</div>"
      ],
      "text/plain": [
       "                                              filename  \\\n",
       "0       org.apache.commons.collections.arraystack.java   \n",
       "1              org.apache.commons.collections.bag.java   \n",
       "2         org.apache.commons.collections.bagutils.java   \n",
       "3          org.apache.commons.collections.beanmap.java   \n",
       "4          org.apache.commons.collections.bidimap.java   \n",
       "..                                                 ...   \n",
       "471  org.apache.commons.collections.set.testtransfo...   \n",
       "472  org.apache.commons.collections.set.testtypedse...   \n",
       "473  org.apache.commons.collections.set.testtypedso...   \n",
       "474  org.apache.commons.collections.set.testunmodif...   \n",
       "475  org.apache.commons.collections.set.testunmodif...   \n",
       "\n",
       "                                      unprocessed_code      project  \n",
       "0    Licensed to the  Apache  Software  Foundation ...  COLLECTIONS  \n",
       "1    Licensed to the  Apache  Software  Foundation ...  COLLECTIONS  \n",
       "2    Licensed to the  Apache  Software  Foundation ...  COLLECTIONS  \n",
       "3    Licensed to the  Apache  Software  Foundation ...  COLLECTIONS  \n",
       "4    Licensed to the  Apache  Software  Foundation ...  COLLECTIONS  \n",
       "..                                                 ...          ...  \n",
       "471  Licensed to the  Apache  Software  Foundation ...  COLLECTIONS  \n",
       "472  Licensed to the  Apache  Software  Foundation ...  COLLECTIONS  \n",
       "473  Licensed to the  Apache  Software  Foundation ...  COLLECTIONS  \n",
       "474  Licensed to the  Apache  Software  Foundation ...  COLLECTIONS  \n",
       "475  Licensed to the  Apache  Software  Foundation ...  COLLECTIONS  \n",
       "\n",
       "[476 rows x 3 columns]"
      ]
     },
     "metadata": {},
     "output_type": "display_data"
    }
   ],
   "source": [
    "from sklearn.feature_extraction.text import CountVectorizer, TfidfVectorizer\n",
    "\n",
    "# clean up the unprocessed code column\n",
    "def clean_source_df(sc_df):\n",
    "    sc_df = clean_new_lines_source_code(sc_df)\n",
    "    sc_df = clean_composite_source_code(sc_df)\n",
    "    sc_df = clean_sc_filepath(sc_df)\n",
    "    return sc_df\n",
    "\n",
    "# add the summary and description together and clean the data\n",
    "def clean_bug_df(sc_df):\n",
    "    sc_df = clean_new_lines_bug_report(sc_df)\n",
    "    sc_df = clean_composite_bug_report(sc_df)\n",
    "    return sc_df\n",
    "\n",
    "# get clean versions of the dataframes\n",
    "sc_df = clean_source_df(all_projects_source_codes)\n",
    "br_df = clean_bug_df(all_projects_bugreports)\n",
    "\n",
    "display(br_df.iloc[0].description)\n",
    "br_df[\"query\"] = br_df[\"summary\"] + br_df[\"description\"]\n",
    "display(br_df.iloc[0].query)\n",
    "\n",
    "# get a list of the projects \n",
    "print(sc_df.project.unique())\n",
    "projects = sc_df.project.unique()\n",
    "\n",
    "# group the data frames\n",
    "sc_grouped_df = sc_df.groupby(sc_df.project)\n",
    "\n",
    "# example of getting a data frame for a single project\n",
    "col_df = sc_grouped_df.get_group(\"COLLECTIONS\")\n",
    "display(col_df)\n",
    "\n",
    "\n"
   ]
  },
  {
   "cell_type": "code",
   "execution_count": 11,
   "metadata": {},
   "outputs": [],
   "source": [
    "from sklearn.metrics.pairwise import cosine_similarity\n",
    "\n",
    "\n",
    "def calculate_similarity(source_code, bug):\n",
    "    cosSim = cosine_similarity(bug, source_code).flatten()\n",
    "    return cosSim\n",
    "\n",
    "# fit the vectorizer and transform data\n",
    "def transform_data(source_code_data, query_data):\n",
    "    # DO WE SET min_df?  default normalization is l2\n",
    "    s = [source_code_data]\n",
    "    q = [query_data]\n",
    "    vect = TfidfVectorizer(min_df=1).fit(s)\n",
    "    X = vect.transform(s)\n",
    "    y = vect.transform(q)\n",
    "    \n",
    "    \n",
    "    similarity = calculate_similarity(X,y)\n",
    "     \n",
    "    return X, y, similarity\n",
    "\n",
    "# remove the stem and stop words\n",
    "# takes in an array of strings returns an array of strings\n",
    "def stem_stop(text):\n",
    "    stemmer = PorterStemmer()   #\"english\"\n",
    "    text = text.split()\n",
    "    text = [w for w in text if not w in STOP_WORDS]\n",
    "    text = list(map(lambda x: stemmer.stem(x), text))\n",
    "    text = ' '.join(text)\n",
    "    text = text.strip()\n",
    "    return text\n",
    "\n",
    "# take in the source code df for a project and return scores\n",
    "def generate_scores(df):\n",
    "    \n",
    "    # get a list of strings from the data frame to be vectorized\n",
    "    \n",
    "    # fit a vectorizer to the data\n",
    "    \n",
    "    # iterate through the queries(bugs) and rank the similarities\n"
   ]
  },
  {
   "cell_type": "code",
   "execution_count": null,
   "metadata": {},
   "outputs": [],
   "source": [
    "# similarity vector should be a data frame with bug_report, bug_report_fix, source_code.filename, and the similarity score\n",
    "\n",
    "# another function that determines if the source_code file name is in the bugreport fix array. \n",
    "\n"
   ]
  },
  {
   "cell_type": "code",
   "execution_count": null,
   "metadata": {},
   "outputs": [],
   "source": [
    "print(type(scores['org.apache.commons.collections.arraystack.java']))"
   ]
  },
  {
   "cell_type": "code",
   "execution_count": null,
   "metadata": {},
   "outputs": [],
   "source": []
  }
 ],
 "metadata": {
  "kernelspec": {
   "display_name": "Python 3",
   "language": "python",
   "name": "python3"
  },
  "language_info": {
   "codemirror_mode": {
    "name": "ipython",
    "version": 3
   },
   "file_extension": ".py",
   "mimetype": "text/x-python",
   "name": "python",
   "nbconvert_exporter": "python",
   "pygments_lexer": "ipython3",
   "version": "3.7.6"
  }
 },
 "nbformat": 4,
 "nbformat_minor": 4
}
