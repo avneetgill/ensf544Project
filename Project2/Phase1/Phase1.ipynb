{
 "cells": [
  {
   "cell_type": "markdown",
   "metadata": {},
   "source": [
    "# Phase 1 \n",
    "\n",
    "### Preprocessing"
   ]
  },
  {
   "cell_type": "code",
   "execution_count": 29,
   "metadata": {},
   "outputs": [],
   "source": [
    "import pandas as pd\n",
    "import numpy as np\n",
    "import os\n",
    "import nltk\n",
    "from nltk.corpus import stopwords \n",
    "from nltk.tokenize import word_tokenize \n",
    "from nltk.stem import PorterStemmer"
   ]
  },
  {
   "cell_type": "markdown",
   "metadata": {},
   "source": [
    "### Now load the pickle data into dataframes from the Output folder one directory above"
   ]
  },
  {
   "cell_type": "code",
   "execution_count": 30,
   "metadata": {},
   "outputs": [
    {
     "name": "stdout",
     "output_type": "stream",
     "text": [
      "*** All Bug Reports are Loaded. ***\n",
      "*** All Source Codes are Loaded. ***\n"
     ]
    },
    {
     "data": {
      "text/plain": [
       "fix                  [org.apache.commons.collections.map.flat3map.j...\n",
       "text                                                               NaN\n",
       "fixdate                                            2006-07-18 22:02:11\n",
       "summary              Flat3Map.Entry.setValue() overwrites other Ent...\n",
       "description          Flat3Map&amp;apos;s Entry objects will overwri...\n",
       "project                                                    COLLECTIONS\n",
       "average_precision                                                    0\n",
       "Name: 217, dtype: object"
      ]
     },
     "metadata": {},
     "output_type": "display_data"
    },
    {
     "data": {
      "text/plain": [
       "'/*\\n *  Licensed to the Apache Software Foundation (ASF) under one or more\\n *  contributor license agreements.  See the NOTICE file distributed with\\n *  this work for additional information regarding copyright ownership.\\n *  The ASF licenses this file to You under the Apache License, Version 2.0\\n *  (the \"License\"); you may not use this file except in compliance with\\n *  the License.  You may obtain a copy of the License at\\n *\\n *      http://www.apache.org/licenses/LICENSE-2.0\\n *\\n *  Unless required by applicable law or agreed to in writing, software\\n *  distributed under the License is distributed on an \"AS IS\" BASIS,\\n *  WITHOUT WARRANTIES OR CONDITIONS OF ANY KIND, either express or implied.\\n *  See the License for the specific language governing permissions and\\n *  limitations under the License.\\n */\\npackage org.apache.commons.collections;\\n\\nimport java.util.ArrayList;\\nimport java.util.EmptyStackException;\\n\\n/**\\n * An implementation of the {@link java.util.Stack} API that is based on an\\n * <code>ArrayList</code> instead of a <code>Vector</code>, so it is not\\n * synchronized to protect against multi-threaded access.  The implementation\\n * is therefore operates faster in environments where you do not need to\\n * worry about multiple thread contention.\\n * <p>\\n * The removal order of an <code>ArrayStack</code> is based on insertion \\n * order: The most recently added element is removed first.  The iteration\\n * order is <i>not</i> the same as the removal order.  The iterator returns\\n * elements from the bottom up, whereas the {@link #remove()} method removes\\n * them from the top down.\\n * <p>\\n * Unlike <code>Stack</code>, <code>ArrayStack</code> accepts null entries.\\n *\\n * @see java.util.Stack\\n * @since Commons Collections 1.0\\n * @version $Revision$ $Date$\\n * \\n * @author Craig R. McClanahan\\n * @author Paul Jack\\n * @author Stephen Colebourne\\n */\\npublic class ArrayStack extends ArrayList implements Buffer {\\n\\n    /** Ensure serialization compatibility */    \\n    private static final long serialVersionUID = 2130079159931574599L;\\n\\n    /**\\n     * Constructs a new empty <code>ArrayStack</code>. The initial size\\n     * is controlled by <code>ArrayList</code> and is currently 10.\\n     */\\n    public ArrayStack() {\\n        super();\\n    }\\n\\n    /**\\n     * Constructs a new empty <code>ArrayStack</code> with an initial size.\\n     * \\n     * @param initialSize  the initial size to use\\n     * @throws IllegalArgumentException  if the specified initial size\\n     *  is negative\\n     */\\n    public ArrayStack(int initialSize) {\\n        super(initialSize);\\n    }\\n\\n    /**\\n     * Return <code>true</code> if this stack is currently empty.\\n     * <p>\\n     * This method exists for compatibility with <code>java.util.Stack</code>.\\n     * New users of this class should use <code>isEmpty</code> instead.\\n     * \\n     * @return true if the stack is currently empty\\n     */\\n    public boolean empty() {\\n        return isEmpty();\\n    }\\n\\n    /**\\n     * Returns the top item off of this stack without removing it.\\n     *\\n     * @return the top item on the stack\\n     * @throws EmptyStackException  if the stack is empty\\n     */\\n    public Object peek() throws EmptyStackException {\\n        int n = size();\\n        if (n <= 0) {\\n            throw new EmptyStackException();\\n        } else {\\n            return get(n - 1);\\n        }\\n    }\\n\\n    /**\\n     * Returns the n\\'th item down (zero-relative) from the top of this\\n     * stack without removing it.\\n     *\\n     * @param n  the number of items down to go\\n     * @return the n\\'th item on the stack, zero relative\\n     * @throws EmptyStackException  if there are not enough items on the\\n     *  stack to satisfy this request\\n     */\\n    public Object peek(int n) throws EmptyStackException {\\n        int m = (size() - n) - 1;\\n        if (m < 0) {\\n            throw new EmptyStackException();\\n        } else {\\n            return get(m);\\n        }\\n    }\\n\\n    /**\\n     * Pops the top item off of this stack and return it.\\n     *\\n     * @return the top item on the stack\\n     * @throws EmptyStackException  if the stack is empty\\n     */\\n    public Object pop() throws EmptyStackException {\\n        int n = size();\\n        if (n <= 0) {\\n            throw new EmptyStackException();\\n        } else {\\n            return remove(n - 1);\\n        }\\n    }\\n\\n    /**\\n     * Pushes a new item onto the top of this stack. The pushed item is also\\n     * returned. This is equivalent to calling <code>add</code>.\\n     *\\n     * @param item  the item to be added\\n     * @return the item just pushed\\n     */\\n    public Object push(Object item) {\\n        add(item);\\n        return item;\\n    }\\n\\n    /**\\n     * Returns the one-based position of the distance from the top that the\\n     * specified object exists on this stack, where the top-most element is\\n     * considered to be at distance <code>1</code>.  If the object is not\\n     * present on the stack, return <code>-1</code> instead.  The\\n     * <code>equals()</code> method is used to compare to the items\\n     * in this stack.\\n     *\\n     * @param object  the object to be searched for\\n     * @return the 1-based depth into the stack of the object, or -1 if not found\\n     */\\n    public int search(Object object) {\\n        int i = size() - 1;        // Current index\\n        int n = 1;                 // Current distance\\n        while (i >= 0) {\\n            Object current = get(i);\\n            if ((object == null && current == null) ||\\n                (object != null && object.equals(current))) {\\n                return n;\\n            }\\n            i--;\\n            n++;\\n        }\\n        return -1;\\n    }\\n\\n    /**\\n     * Returns the element on the top of the stack.\\n     *\\n     * @return the element on the top of the stack\\n     * @throws BufferUnderflowException  if the stack is empty\\n     */\\n    public Object get() {\\n        int size = size();\\n        if (size == 0) {\\n            throw new BufferUnderflowException();\\n        }\\n        return get(size - 1);\\n    }\\n\\n    /**\\n     * Removes the element on the top of the stack.\\n     *\\n     * @return the removed element \\n     * @throws BufferUnderflowException  if the stack is empty\\n     */\\n    public Object remove() {\\n        int size = size();\\n        if (size == 0) {\\n            throw new BufferUnderflowException();\\n        }\\n        return remove(size - 1);\\n    }\\n\\n}\\n'"
      ]
     },
     "metadata": {},
     "output_type": "display_data"
    }
   ],
   "source": [
    "def loadEverything():\n",
    "    all_projects_bugreports = pd.read_pickle('../Output/allBugReports.pickle')\n",
    "    print(\"*** All Bug Reports are Loaded. ***\")\n",
    "    all_projects_source_codes = pd.read_pickle('../Output/allSourceCodes.pickle')\n",
    "    print(\"*** All Source Codes are Loaded. ***\")\n",
    "    return all_projects_bugreports, all_projects_source_codes\n",
    "\n",
    "all_projects_bugreports, all_projects_source_codes = loadEverything()\n",
    "display(all_projects_bugreports.iloc[0])\n",
    "display(all_projects_source_codes.iloc[0].unprocessed_code)\n",
    "\n"
   ]
  },
  {
   "cell_type": "markdown",
   "metadata": {},
   "source": [
    "## Removing composite varaibles"
   ]
  },
  {
   "cell_type": "code",
   "execution_count": 31,
   "metadata": {},
   "outputs": [
    {
     "data": {
      "text/plain": [
       "'   Licensed to the Apache Software Foundation (ASF) under one or more   contributor license agreements.  See the NOTICE file distributed with   this work for additional information regarding copyright ownership.   The ASF licenses this file to You under the Apache License, Version 2.0   (the \"License\"); you may not use this file except in compliance with   the License.  You may obtain a copy of the License at        http:www.apache.orglicensesLICENSE-2.0    Unless required by applicable law or agreed to in writing, software   distributed under the License is distributed on an \"AS IS\" BASIS,   WITHOUT WARRANTIES OR CONDITIONS OF ANY KIND, either express or implied.   See the License for the specific language governing permissions and   limitations under the License. package org.apache.commons.collections;import java.util.ArrayList;import java.util.EmptyStackException;  An implementation of the {@link java.util.Stack} API that is based on an  <code>ArrayList<code> instead of a <code>Vector<code>, so it is not  synchronized to protect against multi-threaded access.  The implementation  is therefore operates faster in environments where you do not need to  worry about multiple thread contention.  <p>  The removal order of an <code>ArrayStack<code> is based on insertion   order: The most recently added element is removed first.  The iteration  order is <i>not<i> the same as the removal order.  The iterator returns  elements from the bottom up, whereas the {@link #remove()} method removes  them from the top down.  <p>  Unlike <code>Stack<code>, <code>ArrayStack<code> accepts null entries.   @see java.util.Stack  @since Commons Collections 1.0  @version $Revision$ $Date$    @author Craig R. McClanahan  @author Paul Jack  @author Stephen Colebourne public class ArrayStack extends ArrayList implements Buffer {     Ensure serialization compatibility         private static final long serialVersionUID = 2130079159931574599L;          Constructs a new empty <code>ArrayStack<code>. The initial size      is controlled by <code>ArrayList<code> and is currently 10.         public ArrayStack() {        super();    }          Constructs a new empty <code>ArrayStack<code> with an initial size.            @param initialSize  the initial size to use      @throws IllegalArgumentException  if the specified initial size       is negative         public ArrayStack(int initialSize) {        super(initialSize);    }          Return <code>true<code> if this stack is currently empty.      <p>      This method exists for compatibility with <code>java.util.Stack<code>.      New users of this class should use <code>isEmpty<code> instead.            @return true if the stack is currently empty         public boolean empty() {        return isEmpty();    }          Returns the top item off of this stack without removing it.           @return the top item on the stack      @throws EmptyStackException  if the stack is empty         public Object peek() throws EmptyStackException {        int n = size();        if (n <= 0) {            throw new EmptyStackException();        } else {            return get(n - 1);        }    }          Returns the n\\'th item down (zero-relative) from the top of this      stack without removing it.           @param n  the number of items down to go      @return the n\\'th item on the stack, zero relative      @throws EmptyStackException  if there are not enough items on the       stack to satisfy this request         public Object peek(int n) throws EmptyStackException {        int m = (size() - n) - 1;        if (m < 0) {            throw new EmptyStackException();        } else {            return get(m);        }    }          Pops the top item off of this stack and return it.           @return the top item on the stack      @throws EmptyStackException  if the stack is empty         public Object pop() throws EmptyStackException {        int n = size();        if (n <= 0) {            throw new EmptyStackException();        } else {            return remove(n - 1);        }    }          Pushes a new item onto the top of this stack. The pushed item is also      returned. This is equivalent to calling <code>add<code>.           @param item  the item to be added      @return the item just pushed         public Object push(Object item) {        add(item);        return item;    }          Returns the one-based position of the distance from the top that the      specified object exists on this stack, where the top-most element is      considered to be at distance <code>1<code>.  If the object is not      present on the stack, return <code>-1<code> instead.  The      <code>equals()<code> method is used to compare to the items      in this stack.           @param object  the object to be searched for      @return the 1-based depth into the stack of the object, or -1 if not found         public int search(Object object) {        int i = size() - 1;         Current index        int n = 1;                  Current distance        while (i >= 0) {            Object current = get(i);            if ((object == null && current == null) ||                (object != null && object.equals(current))) {                return n;            }            i--;            n++;        }        return -1;    }          Returns the element on the top of the stack.           @return the element on the top of the stack      @throws BufferUnderflowException  if the stack is empty         public Object get() {        int size = size();        if (size == 0) {            throw new BufferUnderflowException();        }        return get(size - 1);    }          Removes the element on the top of the stack.           @return the removed element       @throws BufferUnderflowException  if the stack is empty         public Object remove() {        int size = size();        if (size == 0) {            throw new BufferUnderflowException();        }        return remove(size - 1);    }}'"
      ]
     },
     "execution_count": 31,
     "metadata": {},
     "output_type": "execute_result"
    }
   ],
   "source": [
    "#remove next line characters:\n",
    "def remove_new_lines(x):\n",
    "    return x.replace('\\n', '').replace('*', '').replace('/', '').replace('\\t','')\n",
    "\n",
    "def clean_new_lines(df):\n",
    "    df.unprocessed_code = df.unprocessed_code.apply(remove_new_lines)\n",
    "    return df\n",
    "\n",
    "df = clean_new_lines(all_projects_source_codes)\n",
    "df.iloc[0].unprocessed_code"
   ]
  },
  {
   "cell_type": "code",
   "execution_count": 32,
   "metadata": {},
   "outputs": [
    {
     "data": {
      "text/html": [
       "<div>\n",
       "<style scoped>\n",
       "    .dataframe tbody tr th:only-of-type {\n",
       "        vertical-align: middle;\n",
       "    }\n",
       "\n",
       "    .dataframe tbody tr th {\n",
       "        vertical-align: top;\n",
       "    }\n",
       "\n",
       "    .dataframe thead th {\n",
       "        text-align: right;\n",
       "    }\n",
       "</style>\n",
       "<table border=\"1\" class=\"dataframe\">\n",
       "  <thead>\n",
       "    <tr style=\"text-align: right;\">\n",
       "      <th></th>\n",
       "      <th>filename</th>\n",
       "      <th>unprocessed_code</th>\n",
       "      <th>project</th>\n",
       "    </tr>\n",
       "  </thead>\n",
       "  <tbody>\n",
       "    <tr>\n",
       "      <th>0</th>\n",
       "      <td>\\gitrepo\\src\\java\\org\\apache\\commons\\collectio...</td>\n",
       "      <td>Licensed to the  Apache  Software  Foundation ...</td>\n",
       "      <td>COLLECTIONS</td>\n",
       "    </tr>\n",
       "    <tr>\n",
       "      <th>1</th>\n",
       "      <td>\\gitrepo\\src\\java\\org\\apache\\commons\\collectio...</td>\n",
       "      <td>Licensed to the  Apache  Software  Foundation ...</td>\n",
       "      <td>COLLECTIONS</td>\n",
       "    </tr>\n",
       "    <tr>\n",
       "      <th>2</th>\n",
       "      <td>\\gitrepo\\src\\java\\org\\apache\\commons\\collectio...</td>\n",
       "      <td>Licensed to the  Apache  Software  Foundation ...</td>\n",
       "      <td>COLLECTIONS</td>\n",
       "    </tr>\n",
       "    <tr>\n",
       "      <th>3</th>\n",
       "      <td>\\gitrepo\\src\\java\\org\\apache\\commons\\collectio...</td>\n",
       "      <td>Licensed to the  Apache  Software  Foundation ...</td>\n",
       "      <td>COLLECTIONS</td>\n",
       "    </tr>\n",
       "    <tr>\n",
       "      <th>4</th>\n",
       "      <td>\\gitrepo\\src\\java\\org\\apache\\commons\\collectio...</td>\n",
       "      <td>Licensed to the  Apache  Software  Foundation ...</td>\n",
       "      <td>COLLECTIONS</td>\n",
       "    </tr>\n",
       "    <tr>\n",
       "      <th>...</th>\n",
       "      <td>...</td>\n",
       "      <td>...</td>\n",
       "      <td>...</td>\n",
       "    </tr>\n",
       "    <tr>\n",
       "      <th>63</th>\n",
       "      <td>\\gitrepo\\src\\main\\java\\org\\wildfly\\security\\ut...</td>\n",
       "      <td>J Boss,  Home of  Professional  Open  Source. ...</td>\n",
       "      <td>ELY</td>\n",
       "    </tr>\n",
       "    <tr>\n",
       "      <th>64</th>\n",
       "      <td>\\gitrepo\\src\\main\\java\\org\\wildfly\\security\\_p...</td>\n",
       "      <td>J Boss,  Home of  Professional  Open  Source. ...</td>\n",
       "      <td>ELY</td>\n",
       "    </tr>\n",
       "    <tr>\n",
       "      <th>65</th>\n",
       "      <td>\\gitrepo\\src\\test\\java\\org\\wildfly\\security\\ma...</td>\n",
       "      <td>J Boss,  Home of  Professional  Open  Source. ...</td>\n",
       "      <td>ELY</td>\n",
       "    </tr>\n",
       "    <tr>\n",
       "      <th>66</th>\n",
       "      <td>\\gitrepo\\src\\test\\java\\org\\wildfly\\security\\ma...</td>\n",
       "      <td>J Boss,  Home of  Professional  Open  Source. ...</td>\n",
       "      <td>ELY</td>\n",
       "    </tr>\n",
       "    <tr>\n",
       "      <th>67</th>\n",
       "      <td>\\gitrepo\\src\\test\\java\\org\\wildfly\\security\\ss...</td>\n",
       "      <td>J Boss,  Home of  Professional  Open  Source. ...</td>\n",
       "      <td>ELY</td>\n",
       "    </tr>\n",
       "  </tbody>\n",
       "</table>\n",
       "<p>10461 rows × 3 columns</p>\n",
       "</div>"
      ],
      "text/plain": [
       "                                             filename  \\\n",
       "0   \\gitrepo\\src\\java\\org\\apache\\commons\\collectio...   \n",
       "1   \\gitrepo\\src\\java\\org\\apache\\commons\\collectio...   \n",
       "2   \\gitrepo\\src\\java\\org\\apache\\commons\\collectio...   \n",
       "3   \\gitrepo\\src\\java\\org\\apache\\commons\\collectio...   \n",
       "4   \\gitrepo\\src\\java\\org\\apache\\commons\\collectio...   \n",
       "..                                                ...   \n",
       "63  \\gitrepo\\src\\main\\java\\org\\wildfly\\security\\ut...   \n",
       "64  \\gitrepo\\src\\main\\java\\org\\wildfly\\security\\_p...   \n",
       "65  \\gitrepo\\src\\test\\java\\org\\wildfly\\security\\ma...   \n",
       "66  \\gitrepo\\src\\test\\java\\org\\wildfly\\security\\ma...   \n",
       "67  \\gitrepo\\src\\test\\java\\org\\wildfly\\security\\ss...   \n",
       "\n",
       "                                     unprocessed_code      project  \n",
       "0   Licensed to the  Apache  Software  Foundation ...  COLLECTIONS  \n",
       "1   Licensed to the  Apache  Software  Foundation ...  COLLECTIONS  \n",
       "2   Licensed to the  Apache  Software  Foundation ...  COLLECTIONS  \n",
       "3   Licensed to the  Apache  Software  Foundation ...  COLLECTIONS  \n",
       "4   Licensed to the  Apache  Software  Foundation ...  COLLECTIONS  \n",
       "..                                                ...          ...  \n",
       "63  J Boss,  Home of  Professional  Open  Source. ...          ELY  \n",
       "64  J Boss,  Home of  Professional  Open  Source. ...          ELY  \n",
       "65  J Boss,  Home of  Professional  Open  Source. ...          ELY  \n",
       "66  J Boss,  Home of  Professional  Open  Source. ...          ELY  \n",
       "67  J Boss,  Home of  Professional  Open  Source. ...          ELY  \n",
       "\n",
       "[10461 rows x 3 columns]"
      ]
     },
     "execution_count": 32,
     "metadata": {},
     "output_type": "execute_result"
    }
   ],
   "source": [
    "import re\n",
    "\n",
    "#splitting composite words\n",
    "def findCompositeWords(s):\n",
    "    return ' '.join(re.findall('[A-Z][^A-Z]*', s))   \n",
    "\n",
    "\n",
    "def clean_name_column(df):\n",
    "    df.unprocessed_code = df.unprocessed_code.apply(findCompositeWords)\n",
    "    return df\n",
    "\n",
    "df = clean_name_column(all_projects_source_codes)\n",
    "df"
   ]
  },
  {
   "cell_type": "code",
   "execution_count": 33,
   "metadata": {},
   "outputs": [
    {
     "data": {
      "text/plain": [
       "'Licensed to the  Apache  Software  Foundation ( A S F) under one or more   contributor license agreements.   See the  N O T I C E file distributed with   this work for additional information regarding copyright ownership.    The  A S F licenses this file to  You under the  Apache  License,  Version 2.0   (the \" License\"); you may not use this file except in compliance with   the  License.   You may obtain a copy of the  License at        http:www.apache.orglicenses L I C E N S E-2.0     Unless required by applicable law or agreed to in writing, software   distributed under the  License is distributed on an \" A S  I S\"  B A S I S,    W I T H O U T  W A R R A N T I E S  O R  C O N D I T I O N S  O F  A N Y  K I N D, either express or implied.    See the  License for the specific language governing permissions and   limitations under the  License. package org.apache.commons.collections;import java.util. Array List;import java.util. Empty Stack Exception;   An implementation of the {@link java.util. Stack}  A P I that is based on an  <code> Array List<code> instead of a <code> Vector<code>, so it is not  synchronized to protect against multi-threaded access.   The implementation  is therefore operates faster in environments where you do not need to  worry about multiple thread contention.  <p>   The removal order of an <code> Array Stack<code> is based on insertion   order:  The most recently added element is removed first.   The iteration  order is <i>not<i> the same as the removal order.   The iterator returns  elements from the bottom up, whereas the {@link #remove()} method removes  them from the top down.  <p>   Unlike <code> Stack<code>, <code> Array Stack<code> accepts null entries.   @see java.util. Stack  @since  Commons  Collections 1.0  @version $ Revision$ $ Date$    @author  Craig  R.  Mc Clanahan  @author  Paul  Jack  @author  Stephen  Colebourne public class  Array Stack extends  Array List implements  Buffer {      Ensure serialization compatibility         private static final long serial Version U I D = 2130079159931574599 L;           Constructs a new empty <code> Array Stack<code>.  The initial size      is controlled by <code> Array List<code> and is currently 10.         public  Array Stack() {        super();    }           Constructs a new empty <code> Array Stack<code> with an initial size.            @param initial Size  the initial size to use      @throws  Illegal Argument Exception  if the specified initial size       is negative         public  Array Stack(int initial Size) {        super(initial Size);    }           Return <code>true<code> if this stack is currently empty.      <p>       This method exists for compatibility with <code>java.util. Stack<code>.       New users of this class should use <code>is Empty<code> instead.            @return true if the stack is currently empty         public boolean empty() {        return is Empty();    }           Returns the top item off of this stack without removing it.           @return the top item on the stack      @throws  Empty Stack Exception  if the stack is empty         public  Object peek() throws  Empty Stack Exception {        int n = size();        if (n <= 0) {            throw new  Empty Stack Exception();        } else {            return get(n - 1);        }    }           Returns the n\\'th item down (zero-relative) from the top of this      stack without removing it.           @param n  the number of items down to go      @return the n\\'th item on the stack, zero relative      @throws  Empty Stack Exception  if there are not enough items on the       stack to satisfy this request         public  Object peek(int n) throws  Empty Stack Exception {        int m = (size() - n) - 1;        if (m < 0) {            throw new  Empty Stack Exception();        } else {            return get(m);        }    }           Pops the top item off of this stack and return it.           @return the top item on the stack      @throws  Empty Stack Exception  if the stack is empty         public  Object pop() throws  Empty Stack Exception {        int n = size();        if (n <= 0) {            throw new  Empty Stack Exception();        } else {            return remove(n - 1);        }    }           Pushes a new item onto the top of this stack.  The pushed item is also      returned.  This is equivalent to calling <code>add<code>.           @param item  the item to be added      @return the item just pushed         public  Object push( Object item) {        add(item);        return item;    }           Returns the one-based position of the distance from the top that the      specified object exists on this stack, where the top-most element is      considered to be at distance <code>1<code>.   If the object is not      present on the stack, return <code>-1<code> instead.   The      <code>equals()<code> method is used to compare to the items      in this stack.           @param object  the object to be searched for      @return the 1-based depth into the stack of the object, or -1 if not found         public int search( Object object) {        int i = size() - 1;          Current index        int n = 1;                   Current distance        while (i >= 0) {             Object current = get(i);            if ((object == null && current == null) ||                (object != null && object.equals(current))) {                return n;            }            i--;            n++;        }        return -1;    }           Returns the element on the top of the stack.           @return the element on the top of the stack      @throws  Buffer Underflow Exception  if the stack is empty         public  Object get() {        int size = size();        if (size == 0) {            throw new  Buffer Underflow Exception();        }        return get(size - 1);    }           Removes the element on the top of the stack.           @return the removed element       @throws  Buffer Underflow Exception  if the stack is empty         public  Object remove() {        int size = size();        if (size == 0) {            throw new  Buffer Underflow Exception();        }        return remove(size - 1);    }}'"
      ]
     },
     "execution_count": 33,
     "metadata": {},
     "output_type": "execute_result"
    }
   ],
   "source": [
    "df.iloc[0].unprocessed_code"
   ]
  },
  {
   "cell_type": "markdown",
   "metadata": {},
   "source": [
    "### put Kelvin's key word cleaning above this"
   ]
  },
  {
   "cell_type": "code",
   "execution_count": null,
   "metadata": {},
   "outputs": [],
   "source": [
    "from sklearn.feature_extraction.text import ENGLISH_STOP_WORDS\n",
    "java_keywords = [\"abstract\", \"assert**\",\"assert\", \"boolean\", \"break\", \"byte\", \"case\", \"catch\", \"char\", \"const\", \"continue\", \"default\", \"do\", \"double\", \"else\", \"enum\", \"enum****\" \"extends\", \"final\", \"finally\", \"for\", \"goto\",\"goto*\", \"if\", \"implements\", \"import\", \"instanceof\", \"int\",\"interface\", \"long\", \"native\", \"new\", \"package\", \"private\", \"protected\", \"public\", \"return\", \"short\", \"static\", \"strictfp**\",\"strictfp\", \"super\", \"switch\", \"synchornized\", \"this\", \"throw\", \"throws\", \"transient\", \"try\", \"void\", \"volatile\", \"while\"]\n",
    "stop = ENGLISH_STOP_WORDS.union(java_keywords)\n",
    "stop\n",
    "\n",
    "\n",
    "#vect = CountVectorizer(min_df = 5, stop_words = stop, analyzer = 'word')"
   ]
  },
  {
   "cell_type": "markdown",
   "metadata": {},
   "source": [
    "### Start working on TF-IDF and Cosine similarity calculations"
   ]
  },
  {
   "cell_type": "code",
   "execution_count": 43,
   "metadata": {},
   "outputs": [
    {
     "name": "stdout",
     "output_type": "stream",
     "text": [
      "['COLLECTIONS' 'CONFIGURATION' 'IO' 'LANG' 'DATACMNS' 'DATAMONGO'\n",
      " 'DATAREST' 'LDAP' 'SEC' 'SOCIALFB' 'SPR' 'ELY']\n"
     ]
    },
    {
     "data": {
      "text/plain": [
       "0      Licensed to the            Apache            S...\n",
       "1      Licensed to the            Apache            S...\n",
       "2      Licensed to the            Apache            S...\n",
       "3      Licensed to the            Apache            S...\n",
       "4      Licensed to the            Apache            S...\n",
       "                             ...                        \n",
       "471    Licensed to the            Apache            S...\n",
       "472    Licensed to the            Apache            S...\n",
       "473    Licensed to the            Apache            S...\n",
       "474    Licensed to the            Apache            S...\n",
       "475    Licensed to the            Apache            S...\n",
       "Name: unprocessed_code, Length: 476, dtype: object"
      ]
     },
     "execution_count": 43,
     "metadata": {},
     "output_type": "execute_result"
    }
   ],
   "source": [
    "from sklearn.feature_extraction.text import CountVectorizer, TfidfVectorizer\n",
    "\n",
    "# clean up the unprocessed code column\n",
    "def clean_source_code_list(sc_df):\n",
    "    sc_df = clean_new_lines(sc_df)\n",
    "    sc_df = clean_name_column(sc_df)\n",
    "    return sc_df\n",
    "\n",
    "\n",
    "sc_df = clean_source_code_list(all_projects_source_codes)\n",
    "\n",
    "# get a list of the projects and their parent project\n",
    "print(df.project.unique())\n",
    "projects = df.project.unique()\n",
    "commons_projects = projects[0:4]\n",
    "spring_projects = projects[4:11]\n",
    "wildfly_projects = projects[11]\n",
    "\n",
    "# group the data frames\n",
    "grouped_df = sc_df.groupby(df.project)\n",
    "\n",
    "# example of getting a single data frame\n",
    "col_df = grouped_df.get_group(\"COLLECTIONS\")\n",
    "display(col_df)\n",
    "\n",
    "config_df = grouped_df.get_group(commons_projects[1])\n",
    "ely_df = grouped_df.get_group(wildfly_projects)\n",
    "ldap_df = grouped_df.get_group(spring_projects[3])\n",
    "\n",
    "print(config_df.iloc[0].filename)\n",
    "print(col_df.iloc[0].filename)\n",
    "print(ely_df.iloc[0].filename)\n",
    "print(ldap_df.iloc[0].filename)\n",
    "\n"
   ]
  },
  {
   "cell_type": "code",
   "execution_count": null,
   "metadata": {},
   "outputs": [],
   "source": [
    "\n",
    "def gen_parent_df(group, names):\n",
    "    result = pd.DataFrame\n",
    "    temp = []\n",
    "    for name in names:\n",
    "        temp.append(group.get_group(name))\n",
    "    \n",
    "    result = pd.concate(temp, ignore_index = true)    \n",
    "    return result\n",
    "\n",
    "# don't know if we are looking at these groups OR each of the projects individually\n",
    "commons_df = gen_parent_df(grouped_df, commons_projects)\n",
    "sprint_df = gen_parent_df(grouped_df, spring_projects)\n",
    "wildfly_df = gen_parent_df(grouped_df, wildfly_projects)\n",
    "\n",
    "\n"
   ]
  },
  {
   "cell_type": "code",
   "execution_count": null,
   "metadata": {},
   "outputs": [],
   "source": [
    "from sklearn.metrics.pairwise import cosine_similarity\n",
    "\n",
    "\n",
    "def calculate_similarity(source_code, bug):\n",
    "    cosSim = cosine_similarity(bug, source_code).flatten()\n",
    "    return cosSim\n",
    "\n",
    "# fit the vectorizer and transform data\n",
    "def transform_data(source_code_data, query_data):\n",
    "    # DO WE SET min_df?  default normalization is l2\n",
    "    vect = TfidfVectorizer(min_df=1, stop_words=\"english\").fit(source_code_data)\n",
    "    X = vect.transform(source_code_data)\n",
    "    y = vect.transform(query_data)\n",
    "    similarity = calculate_similarity(X,y)\n",
    "    return X, y, similarity\n",
    "\n",
    "# remove the stem and stop words\n",
    "def stem_stop(text,stop_words):\n",
    "    stemmer =PorterStemmer(\"english\")\n",
    "    text = text.split()\n",
    "    text = [w for w in text if not w in stop_words]\n",
    "    text = list(map(lambda x: stemmer.stem(x), text))\n",
    "    text = ' '.join(text)\n",
    "    text = text.strip()\n",
    "\n",
    "    return text\n",
    "\n",
    "# first stem and remove stop words from the data frames column\n",
    "\n",
    "# source_code_df['unprocessed_code'] = source_code_df['unprocessed_code'].map(stem_stop)\n",
    "# bug_df['unprocessed_code'] = bug_df['unprocessed_code'].map(stem_stop)\n",
    "\n",
    "# then get the dataframe column you want to pass as source_code_data and as the query_data(bug)\n",
    "\n",
    "\n"
   ]
  }
 ],
 "metadata": {
  "kernelspec": {
   "display_name": "Python 3",
   "language": "python",
   "name": "python3"
  },
  "language_info": {
   "codemirror_mode": {
    "name": "ipython",
    "version": 3
   },
   "file_extension": ".py",
   "mimetype": "text/x-python",
   "name": "python",
   "nbconvert_exporter": "python",
   "pygments_lexer": "ipython3",
   "version": "3.8.3"
  }
 },
 "nbformat": 4,
 "nbformat_minor": 4
}