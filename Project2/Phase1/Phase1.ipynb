{
 "cells": [
  {
   "cell_type": "markdown",
   "metadata": {},
   "source": [
    "# Phase 1 \n",
    "\n",
    "### Preprocessing"
   ]
  },
  {
   "cell_type": "code",
   "execution_count": 1,
   "metadata": {},
   "outputs": [],
   "source": [
    "import pandas as pd\n",
    "import numpy as np\n",
    "import os\n",
    "import nltk\n",
    "from nltk.corpus import stopwords \n",
    "from nltk.tokenize import word_tokenize \n",
    "from nltk.stem import PorterStemmer"
   ]
  },
  {
   "cell_type": "markdown",
   "metadata": {},
   "source": [
    "### Now load the pickle data into dataframes from the Output folder one directory above"
   ]
  },
  {
   "cell_type": "code",
   "execution_count": 2,
   "metadata": {},
   "outputs": [
    {
     "output_type": "stream",
     "name": "stdout",
     "text": [
      "*** All Bug Reports are Loaded. ***\n*** All Source Codes are Loaded. ***\n"
     ]
    },
    {
     "output_type": "display_data",
     "data": {
      "text/plain": "fix                  [org.apache.commons.collections.map.flat3map.j...\ntext                                                               NaN\nfixdate                                            2006-07-18 22:02:11\nsummary              Flat3Map.Entry.setValue() overwrites other Ent...\ndescription          Flat3Map&amp;apos;s Entry objects will overwri...\nproject                                                    COLLECTIONS\naverage_precision                                                    0\nName: 217, dtype: object"
     },
     "metadata": {}
    },
    {
     "output_type": "display_data",
     "data": {
      "text/plain": "filename            \\gitrepo\\src\\java\\org\\apache\\commons\\collectio...\nunprocessed_code    /*\\n *  Licensed to the Apache Software Founda...\nproject                                                   COLLECTIONS\nName: 2, dtype: object"
     },
     "metadata": {}
    },
    {
     "output_type": "display_data",
     "data": {
      "text/plain": "'217'"
     },
     "metadata": {}
    },
    {
     "output_type": "display_data",
     "data": {
      "text/plain": "2"
     },
     "metadata": {}
    }
   ],
   "source": [
    "def loadEverything():\n",
    "    all_projects_bugreports = pd.read_pickle('Output/allBugReports.pickle')\n",
    "    print(\"*** All Bug Reports are Loaded. ***\")\n",
    "    all_projects_source_codes = pd.read_pickle('Output/allSourceCodes.pickle')\n",
    "    print(\"*** All Source Codes are Loaded. ***\")\n",
    "    return all_projects_bugreports, all_projects_source_codes\n",
    "\n",
    "all_projects_bugreports, all_projects_source_codes = loadEverything()\n",
    "display(all_projects_bugreports.iloc[0])\n",
    "display(all_projects_source_codes.iloc[2])\n",
    "display(all_projects_bugreports.iloc[0].name)\n",
    "display(all_projects_source_codes.iloc[2].name)"
   ]
  },
  {
   "cell_type": "code",
   "execution_count": 3,
   "metadata": {},
   "outputs": [
    {
     "output_type": "display_data",
     "data": {
      "text/plain": "array(['org.apache.commons.collections.map.flat3map.java',\n       'org.apache.commons.collections.map.testflat3map.java'],\n      dtype='<U52')"
     },
     "metadata": {}
    },
    {
     "output_type": "display_data",
     "data": {
      "text/plain": "'\\\\gitrepo\\\\src\\\\java\\\\org\\\\apache\\\\commons\\\\collections\\\\list\\\\transformedlist.java'"
     },
     "metadata": {}
    }
   ],
   "source": [
    "# need to get the file names in the bug report an source code to be the same\n",
    "\n",
    "# there is no index connection between bugreports index (.name) and the index of the source code\n",
    "display(all_projects_bugreports.iloc[0].fix)\n",
    "display(all_projects_source_codes.iloc[217].filename)\n"
   ]
  },
  {
   "cell_type": "markdown",
   "metadata": {},
   "source": [
    "## Removing composite varaibles"
   ]
  },
  {
   "cell_type": "code",
   "execution_count": 4,
   "metadata": {},
   "outputs": [],
   "source": [
    "import re\n",
    "#remove next line characters:\n",
    "def remove_new_lines(text):\n",
    "#     return str(x).replace('\\n', '').replace('*', '').replace('/', '').replace('\\\\','').replace('\\t','')\n",
    "    text = str(text)\n",
    "    COMBINE_WHITE_SPACE = re.compile(r\"(?a:\\s+)\")\n",
    "    text = COMBINE_WHITE_SPACE.sub(' ', text)\n",
    "    return text.replace('*', '').replace('/', '').replace('\\\\','')\n",
    "    \n",
    "# clean up the various white space and remove some *\n",
    "def clean_new_lines_source_code(df):\n",
    "    df.unprocessed_code = df.unprocessed_code.apply(remove_new_lines)\n",
    "    return df\n",
    "\n",
    "# clean up the description and summary, they will both be used for the query\n",
    "def clean_new_lines_bug_report(df):\n",
    "    df.summary = df.summary.apply(remove_new_lines)\n",
    "    df['description'] = df['description'].astype('|S')\n",
    "    df.description = df.description.apply(remove_new_lines)\n",
    "    return df\n",
    "\n",
    "# need to reformat the source code so it can be compared to the bug reports fix array\n",
    "def format_sc_filename(x):\n",
    "  \n",
    "    x = x.split('apache')\n",
    "    if len(x) != 2:\n",
    "        x = x[0].split('springframework')\n",
    "        if len(x) != 2:\n",
    "            x = x[0].split('wildfly')\n",
    "            if len(x) == 2:\n",
    "                x = 'org.wildfly' + x[1]\n",
    "        else:\n",
    "             x = 'org.springframework' + x[1]\n",
    "    else:\n",
    "         x = 'org.apache' + x[1]\n",
    "    if len(x) == 1:\n",
    "        x = x[0]\n",
    "   \n",
    "    x = str(x).replace(\"\\\\\",\".\")\n",
    "    return x\n",
    "\n",
    "# apply the fixes to the filename \n",
    "def clean_sc_filepath(df):\n",
    "    df.filename = df.filename.apply(format_sc_filename)\n",
    "    return df\n",
    "\n"
   ]
  },
  {
   "cell_type": "code",
   "execution_count": 5,
   "metadata": {},
   "outputs": [],
   "source": [
    "#splitting composite words\n",
    "def findCompositeWords(s):\n",
    "    return ' '.join(re.findall('[A-Z][^A-Z]*', s))   \n",
    "\n",
    "\n",
    "def clean_composite_source_code(df):\n",
    "    df.unprocessed_code = df.unprocessed_code.apply(findCompositeWords)\n",
    "    return df\n",
    "\n",
    "def clean_composite_bug_report(df):\n",
    "    df.summary = df.summary.apply(findCompositeWords)\n",
    "    df.description = df.description.apply(findCompositeWords)\n",
    "    return df\n"
   ]
  },
  {
   "cell_type": "code",
   "execution_count": 6,
   "metadata": {},
   "outputs": [],
   "source": [
    "from sklearn.feature_extraction.text import ENGLISH_STOP_WORDS\n",
    "\n",
    "# add the Java key words to the stop words\n",
    "java_keywords = [\"abstract\", \"assert**\",\"assert\", \"boolean\", \"break\", \"byte\", \"case\", \"catch\", \"char\", \"const\", \"continue\", \"default\", \"do\", \"double\", \"else\", \"enum\", \"enum****\" \"extends\", \"final\", \"finally\", \"for\", \"goto\",\"goto*\", \"if\", \"implements\", \"import\", \"instanceof\", \"int\",\"interface\", \"long\", \"native\", \"new\", \"package\", \"private\", \"protected\", \"public\", \"return\", \"short\", \"static\", \"strictfp**\",\"strictfp\", \"super\", \"switch\", \"synchornized\", \"this\", \"throw\", \"throws\", \"transient\", \"try\", \"void\", \"volatile\", \"while\"]\n",
    "java_operators = [\"+\", \"-\", \"*\", \"/\", \"%\", \"+=\", \"-=\", \"*=\", \"/=\", \"++\", \"--\", \"==\", \"!=\", \"<\", \">\", \"<=\", \">=\", \".\", \"[\", \"]\", \"(\",\")\", \"!\", \"~\",\"instanceof\", \"<<\", \">>\", \">>>\", \"&\", \"^\", \"|\", \"&&\", \"||\", \"?\", \":\", \"^=\", \"%=\", \"<<=\", \">>=\", \">>>=\", \"&=\"]\n",
    "stop = java_keywords + java_operators\n",
    "STOP_WORDS = ENGLISH_STOP_WORDS.union(stop)\n",
    "# STOP_WORDS\n"
   ]
  },
  {
   "cell_type": "markdown",
   "metadata": {},
   "source": [
    "### Start working on TF-IDF and Cosine similarity calculations"
   ]
  },
  {
   "cell_type": "code",
   "execution_count": 7,
   "metadata": {},
   "outputs": [
    {
     "output_type": "stream",
     "name": "stdout",
     "text": [
      "['COLLECTIONS' 'CONFIGURATION' 'IO' 'LANG' 'DATACMNS' 'DATAMONGO'\n 'DATAREST' 'LDAP' 'SEC' 'SOCIALFB' 'SPR' 'ELY']\n"
     ]
    },
    {
     "output_type": "display_data",
     "data": {
      "text/plain": "                                              filename  \\\n0       org.apache.commons.collections.arraystack.java   \n1              org.apache.commons.collections.bag.java   \n2         org.apache.commons.collections.bagutils.java   \n3          org.apache.commons.collections.beanmap.java   \n4          org.apache.commons.collections.bidimap.java   \n..                                                 ...   \n471  org.apache.commons.collections.set.testtransfo...   \n472  org.apache.commons.collections.set.testtypedse...   \n473  org.apache.commons.collections.set.testtypedso...   \n474  org.apache.commons.collections.set.testunmodif...   \n475  org.apache.commons.collections.set.testunmodif...   \n\n                                      unprocessed_code      project  \n0    Licensed to the  Apache  Software  Foundation ...  COLLECTIONS  \n1    Licensed to the  Apache  Software  Foundation ...  COLLECTIONS  \n2    Licensed to the  Apache  Software  Foundation ...  COLLECTIONS  \n3    Licensed to the  Apache  Software  Foundation ...  COLLECTIONS  \n4    Licensed to the  Apache  Software  Foundation ...  COLLECTIONS  \n..                                                 ...          ...  \n471  Licensed to the  Apache  Software  Foundation ...  COLLECTIONS  \n472  Licensed to the  Apache  Software  Foundation ...  COLLECTIONS  \n473  Licensed to the  Apache  Software  Foundation ...  COLLECTIONS  \n474  Licensed to the  Apache  Software  Foundation ...  COLLECTIONS  \n475  Licensed to the  Apache  Software  Foundation ...  COLLECTIONS  \n\n[476 rows x 3 columns]",
      "text/html": "<div>\n<style scoped>\n    .dataframe tbody tr th:only-of-type {\n        vertical-align: middle;\n    }\n\n    .dataframe tbody tr th {\n        vertical-align: top;\n    }\n\n    .dataframe thead th {\n        text-align: right;\n    }\n</style>\n<table border=\"1\" class=\"dataframe\">\n  <thead>\n    <tr style=\"text-align: right;\">\n      <th></th>\n      <th>filename</th>\n      <th>unprocessed_code</th>\n      <th>project</th>\n    </tr>\n  </thead>\n  <tbody>\n    <tr>\n      <th>0</th>\n      <td>org.apache.commons.collections.arraystack.java</td>\n      <td>Licensed to the  Apache  Software  Foundation ...</td>\n      <td>COLLECTIONS</td>\n    </tr>\n    <tr>\n      <th>1</th>\n      <td>org.apache.commons.collections.bag.java</td>\n      <td>Licensed to the  Apache  Software  Foundation ...</td>\n      <td>COLLECTIONS</td>\n    </tr>\n    <tr>\n      <th>2</th>\n      <td>org.apache.commons.collections.bagutils.java</td>\n      <td>Licensed to the  Apache  Software  Foundation ...</td>\n      <td>COLLECTIONS</td>\n    </tr>\n    <tr>\n      <th>3</th>\n      <td>org.apache.commons.collections.beanmap.java</td>\n      <td>Licensed to the  Apache  Software  Foundation ...</td>\n      <td>COLLECTIONS</td>\n    </tr>\n    <tr>\n      <th>4</th>\n      <td>org.apache.commons.collections.bidimap.java</td>\n      <td>Licensed to the  Apache  Software  Foundation ...</td>\n      <td>COLLECTIONS</td>\n    </tr>\n    <tr>\n      <th>...</th>\n      <td>...</td>\n      <td>...</td>\n      <td>...</td>\n    </tr>\n    <tr>\n      <th>471</th>\n      <td>org.apache.commons.collections.set.testtransfo...</td>\n      <td>Licensed to the  Apache  Software  Foundation ...</td>\n      <td>COLLECTIONS</td>\n    </tr>\n    <tr>\n      <th>472</th>\n      <td>org.apache.commons.collections.set.testtypedse...</td>\n      <td>Licensed to the  Apache  Software  Foundation ...</td>\n      <td>COLLECTIONS</td>\n    </tr>\n    <tr>\n      <th>473</th>\n      <td>org.apache.commons.collections.set.testtypedso...</td>\n      <td>Licensed to the  Apache  Software  Foundation ...</td>\n      <td>COLLECTIONS</td>\n    </tr>\n    <tr>\n      <th>474</th>\n      <td>org.apache.commons.collections.set.testunmodif...</td>\n      <td>Licensed to the  Apache  Software  Foundation ...</td>\n      <td>COLLECTIONS</td>\n    </tr>\n    <tr>\n      <th>475</th>\n      <td>org.apache.commons.collections.set.testunmodif...</td>\n      <td>Licensed to the  Apache  Software  Foundation ...</td>\n      <td>COLLECTIONS</td>\n    </tr>\n  </tbody>\n</table>\n<p>476 rows × 3 columns</p>\n</div>"
     },
     "metadata": {}
    }
   ],
   "source": [
    "from sklearn.feature_extraction.text import CountVectorizer, TfidfVectorizer\n",
    "\n",
    "# clean up the unprocessed code column\n",
    "def clean_source_df(df):\n",
    "    df = clean_new_lines_source_code(df)\n",
    "    df = clean_composite_source_code(df)\n",
    "    df = clean_sc_filepath(df)\n",
    "    return df\n",
    "\n",
    "# add the summary and description together and clean the data\n",
    "def clean_combine_bug_df(df):\n",
    "    df = clean_new_lines_bug_report(df)\n",
    "    df = clean_composite_bug_report(df)\n",
    "    df[\"query\"] = df[\"summary\"] + df[\"description\"]\n",
    "    return df\n",
    "\n",
    "# get clean versions of the dataframes\n",
    "sc_df = clean_source_df(all_projects_source_codes)\n",
    "br_df = clean_combine_bug_df(all_projects_bugreports)\n",
    "\n",
    "\n",
    "# get a list of the projects \n",
    "print(sc_df.project.unique())\n",
    "projects = sc_df.project.unique()\n",
    "\n",
    "# group the data frames\n",
    "# TODO ignore index here? Then maintain original index and concat the data frames\n",
    "sc_grouped_df = sc_df.groupby(sc_df.project)\n",
    "bg_grouped_df = br_df.groupby(br_df.project)\n",
    "\n",
    "# example of getting a data frame for a single project\n",
    "col_df = sc_grouped_df.get_group(\"COLLECTIONS\")\n",
    "display(col_df)\n",
    "\n",
    "\n"
   ]
  },
  {
   "cell_type": "code",
   "execution_count": 8,
   "metadata": {},
   "outputs": [],
   "source": [
    "from sklearn.metrics.pairwise import cosine_similarity\n",
    "\n",
    "\n",
    "def calculate_similarity(src_vect, query):\n",
    "    cosSim = cosine_similarity(query, src_vect).flatten()\n",
    "    return cosSim\n",
    "\n",
    "# fit the vectorizer and transform data\n",
    "def get_similarity(vect, src_vect, query_data):\n",
    "    query = vect.transform(query_data)\n",
    "    similarity = calculate_similarity(src_vect,query)\n",
    "     \n",
    "    return similarity\n",
    "\n",
    "# remove the stem and stop words\n",
    "# takes in an array of strings returns an array of strings\n",
    "def stem_stop(text):\n",
    "    stemmer = PorterStemmer()   #\"english\"\n",
    "    text = text.split()\n",
    "    text = [w for w in text if not w in STOP_WORDS]\n",
    "    text = list(map(lambda x: stemmer.stem(x), text))\n",
    "    text = ' '.join(text)\n",
    "    text = text.strip()\n",
    "    return text\n",
    "\n",
    "# take in the source code df for a project and a signle query return scores\n",
    "def generate_scores_list(source, query):\n",
    "    scores_list = [] \n",
    "    # get a list of strings from the data frames to be vectorized\n",
    "    source['unprocessed_code'] = source['unprocessed_code'].map(stem_stop)\n",
    "    query[\"query\"] = query[\"query\"].map(stem_stop)\n",
    "    query_str = query[\"query\"].iloc[0]\n",
    "     \n",
    "    # fit a vectorizer to the data\n",
    "    vect = TfidfVectorizer(min_df=1).fit(source['unprocessed_code'])\n",
    "    src_vect = vect.transform(source['unprocessed_code'])\n",
    "#     display(src_vect)\n",
    "    \n",
    "    #get the similarity scores for the bug reports    \n",
    "    #iterate through the query\n",
    "    for q in query[\"query\"]:\n",
    "        similarity = get_similarity(vect, src_vect, [q])\n",
    "        scores_list.append(similarity)\n",
    "        # some sort of data structure (dict) to collect the queries to add it to the dataframe later\n",
    "#         display(similarity)\n",
    "    return scores_list\n",
    "\n",
    "\n",
    "def rank_sim_scores(scores):\n",
    "    sim_scores = list()\n",
    "\n",
    "#     print(len(scores)) # number of bug reports\n",
    "    for score in scores:\n",
    "        indicies = range(len(score))\n",
    "#         print(len(score)) # number of source code files for this project\n",
    "        scores_tuple = tuple(zip(score,indicies))\n",
    "        sorted_tuple = sorted(scores_tuple, reverse = True)\n",
    "#         display(sorted_tuple)\n",
    "        sim_scores.append(sorted_tuple)\n",
    "    \n",
    "    return sim_scores\n",
    "\n",
    "# look through the src data frame to find where the fix is. \n",
    "def get_fix_indexes(bug, src):\n",
    "    fix_list = list()\n",
    "    for fixes in bug[\"fix\"]:\n",
    "#         print(fixes)\n",
    "        fix_sub=list()\n",
    "        for fix in fixes:\n",
    "#             print(fix)\n",
    "            df = src[src[\"filename\"].str.match(fix)]\n",
    "            if(df.shape[0] != 0):\n",
    "                fix_sub.append(df.index[0])\n",
    "            else:\n",
    "                fix_sub.append(-1)\n",
    "#         print(fix_sub)\n",
    "        fix_list.append(fix_sub)\n",
    "#     print(fix_list)\n",
    "    # this is a list of the indexes of the file where the fix was located\n",
    "    return fix_list\n",
    "        \n",
    "        \n",
    "def average_precision(bug,n=10):\n",
    "#checks precision for the top n values. If n is too large then this score loses meaning\n",
    "    ap_list = list()\n",
    "    for index, row in bug.iterrows():\n",
    "        countTrue = 0\n",
    "        for i in range(len(row['ranked_sim'])):\n",
    "            if i >= n:\n",
    "                break\n",
    "            # check if source file is actually where bug is located\n",
    "            if(row['ranked_sim'][i][1] in row['fix_indexes']):\n",
    "                countTrue+=1\n",
    "        ap_list.append(countTrue/n)\n",
    "    return ap_list\n",
    "\n",
    "def reciprocal_rank(bug):\n",
    "#reciprocal rank is 1/n, where n is the first position of a source file where the bug is located in the ranked_sim column\n",
    "    rr_list = list()\n",
    "    for index, row in bug.iterrows():\n",
    "        rr = 0\n",
    "        for i in range(len(row['ranked_sim'])):\n",
    "            # check if source file is actually where bug is located\n",
    "            if(row['ranked_sim'][i][1] in row['fix_indexes']):\n",
    "                rr = 1/(i+1)\n",
    "                break\n",
    "        rr_list.append(rr)\n",
    "    return rr_list\n",
    "\n",
    "\n",
    "def generate_all_scores():\n",
    "    \n",
    "    all_bugs = []\n",
    "    all_src = []\n",
    "    # iterate through the list of 12 projects\n",
    "    for proj in projects:\n",
    "        # create dataframes for each project\n",
    "        src_df = sc_grouped_df.get_group(proj)\n",
    "        bug_df = bg_grouped_df.get_group(proj).copy()\n",
    "        \n",
    "        # generate the scores list\n",
    "        scores = generate_scores_list(src_df, bug_df)\n",
    "    \n",
    "        #append scores list to the bug dataframe\n",
    "        bug_df[\"sim_vect\"] = scores # the only way that the matrix is related to the src code \n",
    "                                    # is through the index.\n",
    "        \n",
    "        # Rank the source code files and know what file(s) the bug was in\n",
    "        bug_df[\"ranked_sim\"] = rank_sim_scores(scores)\n",
    "        display(bug_df[\"ranked_sim\"])\n",
    "        # get list of where the fixes rank\n",
    "        bug_df[\"fix_indexes\"] = get_fix_indexes(bug_df, src_df)\n",
    "        display(bug_df)\n",
    "        #get location of the fix indexes within the ranked_sim\n",
    "        \n",
    "        # CALCULATE THE MAP AND MRR HERE WITH A FUNCTION AND ADD IT TO THE BUGS DATAFRAME\n",
    "        bug_df[\"average_precision_1\"] = average_precision(bug_df,1)\n",
    "        bug_df[\"average_precision_3\"] = average_precision(bug_df,3)\n",
    "        bug_df[\"average_precision_5\"] = average_precision(bug_df,5)\n",
    "        bug_df[\"average_precision_10\"] = average_precision(bug_df,10)\n",
    "\n",
    "        bug_df[\"reciprocal_rank\"] = reciprocal_rank(bug_df)\n",
    "        \n",
    "        # maintain a list of all the dataframes\n",
    "        all_bugs.append(bug_df)\n",
    "        all_src.append(src_df)\n",
    "    # concatenate all the data frames in order    \n",
    "    all_bug_df = pd.concat(all_bugs, ignore_index=True)\n",
    "    all_src_df = pd.concat(all_src, ignore_index=True)\n",
    "    return all_bug_df, all_src_df"
   ]
  },
  {
   "cell_type": "markdown",
   "metadata": {},
   "source": [
    "## TODO list\n",
    "- Figure out index of the top 20 in the bug sim_vect\n",
    "- Figure out index of files where the fix was ( this is in the bug report )\n",
    "- Calculate MAP and MRR for each\n",
    "- Generate graphs and report on the findings"
   ]
  },
  {
   "cell_type": "code",
   "execution_count": 9,
   "metadata": {},
   "outputs": [
    {
     "output_type": "display_data",
     "data": {
      "text/plain": "id\n217    [(0.4656718955142169, 222), (0.447279509685931...\n214    [(0.10345136646680671, 3), (0.0880717932156749...\n222    [(0.38644080002864695, 288), (0.37509355439192...\n261    [(0.5591516607470604, 305), (0.503968358691063...\n264    [(0.6582236412487737, 298), (0.643831204240897...\n                             ...                        \n577    [(0.12069235153633603, 109), (0.10860615800701...\n580    [(0.23762779658622352, 137), (0.22792879438408...\n583    [(0.0725756081794044, 60), (0.0442830912391032...\n586    [(0.33840731012035485, 427), (0.32327573122239...\n597    [(0.2173144095633128, 303), (0.194166721215988...\nName: ranked_sim, Length: 92, dtype: object"
     },
     "metadata": {}
    },
    {
     "output_type": "display_data",
     "data": {
      "text/plain": "                                                   fix text  \\\nid                                                            \n217  [org.apache.commons.collections.map.flat3map.j...  NaN   \n214  [org.apache.commons.collections.testextendedpr...  NaN   \n222  [org.apache.commons.collections.testlistutils....  NaN   \n261  [org.apache.commons.collections.map.flat3map.j...  NaN   \n264  [org.apache.commons.collections.fasttreemap.java]  NaN   \n..                                                 ...  ...   \n577  [org.apache.commons.collections4.trie.patricia...  NaN   \n580  [org.apache.commons.collections4.multimap.mult...  NaN   \n583  [org.apache.commons.collections4.multimap.mult...  NaN   \n586  [org.apache.commons.collections4.trie.abstract...  NaN   \n597  [org.apache.commons.collections4.functors.catc...  NaN   \n\n                 fixdate                                            summary  \\\nid                                                                            \n217  2006-07-18 22:02:11  Flat3 Map. Entry.set Value() overwrites other ...   \n214  2006-07-18 22:44:33  Extended Properties - field include should be ...   \n222  2006-08-18 19:01:22  Collection Utils remove All is actually retain...   \n261  2007-08-20 14:11:54  Flat3 Map.remove() does not return the correct...   \n264  2007-08-31 09:39:59               Fast Tree Map forgets the comparator   \n..                   ...                                                ...   \n577  2015-09-28 09:45:19     Patricia Trie bugs when only a few bits change   \n580  2015-11-21 10:02:58  Arbitrary remote code execution with  Invoker ...   \n583  2015-12-14 07:47:22  J A V A serialization vulnerability \" C V E-20...   \n586  2016-08-04 17:33:10  Patricia Trie prefix Map clear throws  Null Po...   \n597  2016-10-21 05:53:34  Correction of  Javadoc for org.apache.commons....   \n\n                                           description      project  \\\nid                                                                    \n217  Flat3 Map&amp;apos;s  Entry objects will overw...  COLLECTIONS   \n214  The field \"include\" in  Extended Properties is...  COLLECTIONS   \n222  The remove All( Collection collection,  Collec...  COLLECTIONS   \n261  Flat3 Map m = new  Flat3 Map();n m.put( new  I...  COLLECTIONS   \n264  In line 359 and 582 of the current 3.2 release...  COLLECTIONS   \n..                                                 ...          ...   \n577  I have a bug report for you, for the class  Ab...  COLLECTIONS   \n580  With  Invoker Transformer serializable collect...  COLLECTIONS   \n583  The vulnerability we are talking about is know...  COLLECTIONS   \n586  Clearing all entries of a prefix Map returned ...  COLLECTIONS   \n597  Correct the javadoc for org.apache.commons.col...  COLLECTIONS   \n\n     average_precision                                              query  \\\nid                                                                          \n217                0.0  flat3 map. entry.set value() overwrit entri va...   \n214                0.0  extend properti field includ non-stat privatet...   \n222                0.0  collect util remov all actual retain allth rem...   \n261                0.0  flat3 map.remove() doe correct valu size 3flat...   \n264                0.0  fast tree map forget comparatorin line 359 582...   \n..                 ...                                                ...   \n577                0.0  patricia trie bug bit changei bug report you, ...   \n580                0.0  arbitrari remot code execut invok transformerw...   \n583                0.0  J A V A serial vulner \" C V e-2015-4852\" commo...   \n586                0.0  patricia trie prefix map clear null pointer ex...   \n597                0.0  correct javadoc org.apache.commons.collections...   \n\n                                              sim_vect  \\\nid                                                       \n217  [0.058548134080555064, 0.08970216513375899, 0....   \n214  [0.013388795565578315, 0.028400683146419893, 0...   \n222  [0.04851850840676917, 0.16573102168998424, 0.0...   \n261  [0.03731537102786185, 0.046074298711050336, 0....   \n264  [0.016509059582201484, 0.016813266781609673, 0...   \n..                                                 ...   \n577  [0.0264495015828069, 0.06419356614392692, 0.00...   \n580  [0.05176015827563829, 0.11265190941103775, 0.0...   \n583  [0.018726170213306553, 0.025489324635428728, 0...   \n586  [0.022104950565093966, 0.0494487359380965, 0.0...   \n597  [0.006723914146577608, 0.015170794223233025, 0...   \n\n                                            ranked_sim  \\\nid                                                       \n217  [(0.4656718955142169, 222), (0.447279509685931...   \n214  [(0.10345136646680671, 3), (0.0880717932156749...   \n222  [(0.38644080002864695, 288), (0.37509355439192...   \n261  [(0.5591516607470604, 305), (0.503968358691063...   \n264  [(0.6582236412487737, 298), (0.643831204240897...   \n..                                                 ...   \n577  [(0.12069235153633603, 109), (0.10860615800701...   \n580  [(0.23762779658622352, 137), (0.22792879438408...   \n583  [(0.0725756081794044, 60), (0.0442830912391032...   \n586  [(0.33840731012035485, 427), (0.32327573122239...   \n597  [(0.2173144095633128, 303), (0.194166721215988...   \n\n                                           fix_indexes  \nid                                                      \n217                                         [233, 436]  \n214                                          [292, 22]  \n222                                     [303, 288, 15]  \n261                                         [233, 436]  \n264                                               [27]  \n..                                                 ...  \n577                                               [-1]  \n580  [-1, -1, -1, -1, -1, -1, -1, -1, -1, -1, -1, -...  \n583  [-1, -1, -1, -1, -1, -1, -1, -1, -1, -1, -1, -...  \n586                                           [-1, -1]  \n597                                               [-1]  \n\n[92 rows x 11 columns]",
      "text/html": "<div>\n<style scoped>\n    .dataframe tbody tr th:only-of-type {\n        vertical-align: middle;\n    }\n\n    .dataframe tbody tr th {\n        vertical-align: top;\n    }\n\n    .dataframe thead th {\n        text-align: right;\n    }\n</style>\n<table border=\"1\" class=\"dataframe\">\n  <thead>\n    <tr style=\"text-align: right;\">\n      <th></th>\n      <th>fix</th>\n      <th>text</th>\n      <th>fixdate</th>\n      <th>summary</th>\n      <th>description</th>\n      <th>project</th>\n      <th>average_precision</th>\n      <th>query</th>\n      <th>sim_vect</th>\n      <th>ranked_sim</th>\n      <th>fix_indexes</th>\n    </tr>\n    <tr>\n      <th>id</th>\n      <th></th>\n      <th></th>\n      <th></th>\n      <th></th>\n      <th></th>\n      <th></th>\n      <th></th>\n      <th></th>\n      <th></th>\n      <th></th>\n      <th></th>\n    </tr>\n  </thead>\n  <tbody>\n    <tr>\n      <th>217</th>\n      <td>[org.apache.commons.collections.map.flat3map.j...</td>\n      <td>NaN</td>\n      <td>2006-07-18 22:02:11</td>\n      <td>Flat3 Map. Entry.set Value() overwrites other ...</td>\n      <td>Flat3 Map&amp;amp;apos;s  Entry objects will overw...</td>\n      <td>COLLECTIONS</td>\n      <td>0.0</td>\n      <td>flat3 map. entry.set value() overwrit entri va...</td>\n      <td>[0.058548134080555064, 0.08970216513375899, 0....</td>\n      <td>[(0.4656718955142169, 222), (0.447279509685931...</td>\n      <td>[233, 436]</td>\n    </tr>\n    <tr>\n      <th>214</th>\n      <td>[org.apache.commons.collections.testextendedpr...</td>\n      <td>NaN</td>\n      <td>2006-07-18 22:44:33</td>\n      <td>Extended Properties - field include should be ...</td>\n      <td>The field \"include\" in  Extended Properties is...</td>\n      <td>COLLECTIONS</td>\n      <td>0.0</td>\n      <td>extend properti field includ non-stat privatet...</td>\n      <td>[0.013388795565578315, 0.028400683146419893, 0...</td>\n      <td>[(0.10345136646680671, 3), (0.0880717932156749...</td>\n      <td>[292, 22]</td>\n    </tr>\n    <tr>\n      <th>222</th>\n      <td>[org.apache.commons.collections.testlistutils....</td>\n      <td>NaN</td>\n      <td>2006-08-18 19:01:22</td>\n      <td>Collection Utils remove All is actually retain...</td>\n      <td>The remove All( Collection collection,  Collec...</td>\n      <td>COLLECTIONS</td>\n      <td>0.0</td>\n      <td>collect util remov all actual retain allth rem...</td>\n      <td>[0.04851850840676917, 0.16573102168998424, 0.0...</td>\n      <td>[(0.38644080002864695, 288), (0.37509355439192...</td>\n      <td>[303, 288, 15]</td>\n    </tr>\n    <tr>\n      <th>261</th>\n      <td>[org.apache.commons.collections.map.flat3map.j...</td>\n      <td>NaN</td>\n      <td>2007-08-20 14:11:54</td>\n      <td>Flat3 Map.remove() does not return the correct...</td>\n      <td>Flat3 Map m = new  Flat3 Map();n m.put( new  I...</td>\n      <td>COLLECTIONS</td>\n      <td>0.0</td>\n      <td>flat3 map.remove() doe correct valu size 3flat...</td>\n      <td>[0.03731537102786185, 0.046074298711050336, 0....</td>\n      <td>[(0.5591516607470604, 305), (0.503968358691063...</td>\n      <td>[233, 436]</td>\n    </tr>\n    <tr>\n      <th>264</th>\n      <td>[org.apache.commons.collections.fasttreemap.java]</td>\n      <td>NaN</td>\n      <td>2007-08-31 09:39:59</td>\n      <td>Fast Tree Map forgets the comparator</td>\n      <td>In line 359 and 582 of the current 3.2 release...</td>\n      <td>COLLECTIONS</td>\n      <td>0.0</td>\n      <td>fast tree map forget comparatorin line 359 582...</td>\n      <td>[0.016509059582201484, 0.016813266781609673, 0...</td>\n      <td>[(0.6582236412487737, 298), (0.643831204240897...</td>\n      <td>[27]</td>\n    </tr>\n    <tr>\n      <th>...</th>\n      <td>...</td>\n      <td>...</td>\n      <td>...</td>\n      <td>...</td>\n      <td>...</td>\n      <td>...</td>\n      <td>...</td>\n      <td>...</td>\n      <td>...</td>\n      <td>...</td>\n      <td>...</td>\n    </tr>\n    <tr>\n      <th>577</th>\n      <td>[org.apache.commons.collections4.trie.patricia...</td>\n      <td>NaN</td>\n      <td>2015-09-28 09:45:19</td>\n      <td>Patricia Trie bugs when only a few bits change</td>\n      <td>I have a bug report for you, for the class  Ab...</td>\n      <td>COLLECTIONS</td>\n      <td>0.0</td>\n      <td>patricia trie bug bit changei bug report you, ...</td>\n      <td>[0.0264495015828069, 0.06419356614392692, 0.00...</td>\n      <td>[(0.12069235153633603, 109), (0.10860615800701...</td>\n      <td>[-1]</td>\n    </tr>\n    <tr>\n      <th>580</th>\n      <td>[org.apache.commons.collections4.multimap.mult...</td>\n      <td>NaN</td>\n      <td>2015-11-21 10:02:58</td>\n      <td>Arbitrary remote code execution with  Invoker ...</td>\n      <td>With  Invoker Transformer serializable collect...</td>\n      <td>COLLECTIONS</td>\n      <td>0.0</td>\n      <td>arbitrari remot code execut invok transformerw...</td>\n      <td>[0.05176015827563829, 0.11265190941103775, 0.0...</td>\n      <td>[(0.23762779658622352, 137), (0.22792879438408...</td>\n      <td>[-1, -1, -1, -1, -1, -1, -1, -1, -1, -1, -1, -...</td>\n    </tr>\n    <tr>\n      <th>583</th>\n      <td>[org.apache.commons.collections4.multimap.mult...</td>\n      <td>NaN</td>\n      <td>2015-12-14 07:47:22</td>\n      <td>J A V A serialization vulnerability \" C V E-20...</td>\n      <td>The vulnerability we are talking about is know...</td>\n      <td>COLLECTIONS</td>\n      <td>0.0</td>\n      <td>J A V A serial vulner \" C V e-2015-4852\" commo...</td>\n      <td>[0.018726170213306553, 0.025489324635428728, 0...</td>\n      <td>[(0.0725756081794044, 60), (0.0442830912391032...</td>\n      <td>[-1, -1, -1, -1, -1, -1, -1, -1, -1, -1, -1, -...</td>\n    </tr>\n    <tr>\n      <th>586</th>\n      <td>[org.apache.commons.collections4.trie.abstract...</td>\n      <td>NaN</td>\n      <td>2016-08-04 17:33:10</td>\n      <td>Patricia Trie prefix Map clear throws  Null Po...</td>\n      <td>Clearing all entries of a prefix Map returned ...</td>\n      <td>COLLECTIONS</td>\n      <td>0.0</td>\n      <td>patricia trie prefix map clear null pointer ex...</td>\n      <td>[0.022104950565093966, 0.0494487359380965, 0.0...</td>\n      <td>[(0.33840731012035485, 427), (0.32327573122239...</td>\n      <td>[-1, -1]</td>\n    </tr>\n    <tr>\n      <th>597</th>\n      <td>[org.apache.commons.collections4.functors.catc...</td>\n      <td>NaN</td>\n      <td>2016-10-21 05:53:34</td>\n      <td>Correction of  Javadoc for org.apache.commons....</td>\n      <td>Correct the javadoc for org.apache.commons.col...</td>\n      <td>COLLECTIONS</td>\n      <td>0.0</td>\n      <td>correct javadoc org.apache.commons.collections...</td>\n      <td>[0.006723914146577608, 0.015170794223233025, 0...</td>\n      <td>[(0.2173144095633128, 303), (0.194166721215988...</td>\n      <td>[-1]</td>\n    </tr>\n  </tbody>\n</table>\n<p>92 rows × 11 columns</p>\n</div>"
     },
     "metadata": {}
    },
    {
     "output_type": "display_data",
     "data": {
      "text/plain": "id\n214    [(0.23315580619162965, 44), (0.222813202414673...\n220    [(0.4728875130121734, 20), (0.4383842872899957...\n228    [(0.33258710858771046, 199), (0.32662874906832...\n230    [(0.47956041675777716, 101), (0.39158177264962...\n233    [(0.40481658531465725, 158), (0.33150359849946...\n                             ...                        \n622    [(0.3578936443274483, 85), (0.2559812025463081...\n632    [(0.31837254475000587, 158), (0.29727680737522...\n634    [(0.30631823846047, 1), (0.3009557383930566, 1...\n627    [(0.6922626976261211, 172), (0.690829813075270...\n640    [(0.25792386181833615, 156), (0.24635408666422...\nName: ranked_sim, Length: 133, dtype: object"
     },
     "metadata": {}
    },
    {
     "output_type": "display_data",
     "data": {
      "text/plain": "                                                   fix text  \\\nid                                                            \n214  [org.apache.commons.configuration.testbaseconf...  NaN   \n220  [org.apache.commons.configuration.testdataconf...  NaN   \n228  [org.apache.commons.configuration.abstracthier...  NaN   \n230  [org.apache.commons.configuration.tree.xpath.t...  NaN   \n233  [org.apache.commons.configuration.testcomposit...  NaN   \n..                                                 ...  ...   \n622  [org.apache.commons.configuration2.iniconfigur...  NaN   \n632  [org.apache.commons.configuration2.compositeco...  NaN   \n634  [org.apache.commons.configuration2.io.fileloca...  NaN   \n627  [org.apache.commons.configuration2.builder.tes...  NaN   \n640  [org.apache.commons.configuration2.propertiesc...  NaN   \n\n                 fixdate                                            summary  \\\nid                                                                            \n214  2006-06-02 02:55:45  Adding an integer and getting it as a long cau...   \n220  2006-08-15 20:27:44  Date Array( String key,  Date[] default Value,...   \n228  2006-10-16 20:26:45  X M L Configuration.subset() with  File Change...   \n230  2006-10-21 15:23:54  X Path Expression Engine node Key method creat...   \n233  2006-10-28 15:11:24  Incomplete interpolation in  Composite Configu...   \n..                   ...                                                ...   \n622  2016-04-16 15:02:56         Writing  I N I file, keys with . become ..   \n632  2016-05-27 18:46:00  Composite configuration list variable interpol...   \n634  2016-06-24 15:52:33  Base Path is incorrectly computed while init o...   \n627  2016-10-06 19:54:41  Bean Helper exception on  X M L Configuration ...   \n640  2016-10-07 20:08:29  Colon in properties file value no longer unesc...   \n\n                                           description        project  \\\nid                                                                      \n214  Try this in a  Bean Shell:nbsh % p = new org.a...  CONFIGURATION   \n220  Date Array( String key,  Date[] default Value,...  CONFIGURATION   \n228  X M L Configuration.subset() with  File Change...  CONFIGURATION   \n230  In org.apache.commons.configuration.tree.xpath...  CONFIGURATION   \n233  Interpolsation is mostly done by  Abstract Con...  CONFIGURATION   \n..                                                 ...            ...   \n622  Here is sample input config:n[learningtask]ntr...  CONFIGURATION   \n632  Composite Configuration.get String Array, with...  CONFIGURATION   \n634  The base path should be just \"app\" instead of ...  CONFIGURATION   \n627  Creating an  X M L Configuration from a file w...  CONFIGURATION   \n640  A properties file create with java escape a co...  CONFIGURATION   \n\n     average_precision                                              query  \\\nid                                                                          \n214                0.0  ad integ get caus exceptiontri bean shell:nbsh...   \n220                0.0  date array( string key, date[] value, string f...   \n228                0.0  X M L configuration.subset() file chang reload...   \n230                0.0  X path express engin node key method creat wro...   \n233                0.0  incomplet interpol composit configuration.get ...   \n..                 ...                                                ...   \n622                0.0  write I N I file, key ..here sampl input confi...   \n632                0.0  composit configur list variabl interpol elemen...   \n634                0.0  base path incorrectli comput init composit con...   \n627                0.0  bean helper except X M L configur builder.get ...   \n640                0.0  colon properti file valu longer unescap common...   \n\n                                              sim_vect  \\\nid                                                       \n214  [0.22281320241467356, 0.11967983155719181, 0.0...   \n220  [0.2133006449069484, 0.04336703286256208, 0.03...   \n228  [0.053506835469580544, 0.1700085416215588, 0.1...   \n230  [0.14768536060154439, 0.14213074635185843, 0.0...   \n233  [0.22292038608066203, 0.10174021330155088, 0.0...   \n..                                                 ...   \n622  [0.15075777613595112, 0.08455167744081879, 0.0...   \n632  [0.22012750888311744, 0.05380179813170292, 0.0...   \n634  [0.08917308068530758, 0.30631823846047, 0.1442...   \n627  [0.0785131482475465, 0.06152017145702032, 0.04...   \n640  [0.12836192035234742, 0.16541630629696635, 0.0...   \n\n                                            ranked_sim      fix_indexes  \nid                                                                       \n214  [(0.23315580619162965, 44), (0.222813202414673...   [120, 44, 159]  \n220  [(0.4728875130121734, 20), (0.4383842872899957...        [135, 20]  \n228  [(0.33258710858771046, 199), (0.32662874906832...         [2, 168]  \n230  [(0.47956041675777716, 101), (0.39158177264962...  [217, 168, 101]  \n233  [(0.40481658531465725, 158), (0.33150359849946...         [125, 6]  \n..                                                 ...              ...  \n622  [(0.3578936443274483, 85), (0.2559812025463081...         [-1, -1]  \n632  [(0.31837254475000587, 158), (0.29727680737522...         [-1, -1]  \n634  [(0.30631823846047, 1), (0.3009557383930566, 1...         [-1, -1]  \n627  [(0.6922626976261211, 172), (0.690829813075270...             [-1]  \n640  [(0.25792386181833615, 156), (0.24635408666422...         [-1, -1]  \n\n[133 rows x 11 columns]",
      "text/html": "<div>\n<style scoped>\n    .dataframe tbody tr th:only-of-type {\n        vertical-align: middle;\n    }\n\n    .dataframe tbody tr th {\n        vertical-align: top;\n    }\n\n    .dataframe thead th {\n        text-align: right;\n    }\n</style>\n<table border=\"1\" class=\"dataframe\">\n  <thead>\n    <tr style=\"text-align: right;\">\n      <th></th>\n      <th>fix</th>\n      <th>text</th>\n      <th>fixdate</th>\n      <th>summary</th>\n      <th>description</th>\n      <th>project</th>\n      <th>average_precision</th>\n      <th>query</th>\n      <th>sim_vect</th>\n      <th>ranked_sim</th>\n      <th>fix_indexes</th>\n    </tr>\n    <tr>\n      <th>id</th>\n      <th></th>\n      <th></th>\n      <th></th>\n      <th></th>\n      <th></th>\n      <th></th>\n      <th></th>\n      <th></th>\n      <th></th>\n      <th></th>\n      <th></th>\n    </tr>\n  </thead>\n  <tbody>\n    <tr>\n      <th>214</th>\n      <td>[org.apache.commons.configuration.testbaseconf...</td>\n      <td>NaN</td>\n      <td>2006-06-02 02:55:45</td>\n      <td>Adding an integer and getting it as a long cau...</td>\n      <td>Try this in a  Bean Shell:nbsh % p = new org.a...</td>\n      <td>CONFIGURATION</td>\n      <td>0.0</td>\n      <td>ad integ get caus exceptiontri bean shell:nbsh...</td>\n      <td>[0.22281320241467356, 0.11967983155719181, 0.0...</td>\n      <td>[(0.23315580619162965, 44), (0.222813202414673...</td>\n      <td>[120, 44, 159]</td>\n    </tr>\n    <tr>\n      <th>220</th>\n      <td>[org.apache.commons.configuration.testdataconf...</td>\n      <td>NaN</td>\n      <td>2006-08-15 20:27:44</td>\n      <td>Date Array( String key,  Date[] default Value,...</td>\n      <td>Date Array( String key,  Date[] default Value,...</td>\n      <td>CONFIGURATION</td>\n      <td>0.0</td>\n      <td>date array( string key, date[] value, string f...</td>\n      <td>[0.2133006449069484, 0.04336703286256208, 0.03...</td>\n      <td>[(0.4728875130121734, 20), (0.4383842872899957...</td>\n      <td>[135, 20]</td>\n    </tr>\n    <tr>\n      <th>228</th>\n      <td>[org.apache.commons.configuration.abstracthier...</td>\n      <td>NaN</td>\n      <td>2006-10-16 20:26:45</td>\n      <td>X M L Configuration.subset() with  File Change...</td>\n      <td>X M L Configuration.subset() with  File Change...</td>\n      <td>CONFIGURATION</td>\n      <td>0.0</td>\n      <td>X M L configuration.subset() file chang reload...</td>\n      <td>[0.053506835469580544, 0.1700085416215588, 0.1...</td>\n      <td>[(0.33258710858771046, 199), (0.32662874906832...</td>\n      <td>[2, 168]</td>\n    </tr>\n    <tr>\n      <th>230</th>\n      <td>[org.apache.commons.configuration.tree.xpath.t...</td>\n      <td>NaN</td>\n      <td>2006-10-21 15:23:54</td>\n      <td>X Path Expression Engine node Key method creat...</td>\n      <td>In org.apache.commons.configuration.tree.xpath...</td>\n      <td>CONFIGURATION</td>\n      <td>0.0</td>\n      <td>X path express engin node key method creat wro...</td>\n      <td>[0.14768536060154439, 0.14213074635185843, 0.0...</td>\n      <td>[(0.47956041675777716, 101), (0.39158177264962...</td>\n      <td>[217, 168, 101]</td>\n    </tr>\n    <tr>\n      <th>233</th>\n      <td>[org.apache.commons.configuration.testcomposit...</td>\n      <td>NaN</td>\n      <td>2006-10-28 15:11:24</td>\n      <td>Incomplete interpolation in  Composite Configu...</td>\n      <td>Interpolsation is mostly done by  Abstract Con...</td>\n      <td>CONFIGURATION</td>\n      <td>0.0</td>\n      <td>incomplet interpol composit configuration.get ...</td>\n      <td>[0.22292038608066203, 0.10174021330155088, 0.0...</td>\n      <td>[(0.40481658531465725, 158), (0.33150359849946...</td>\n      <td>[125, 6]</td>\n    </tr>\n    <tr>\n      <th>...</th>\n      <td>...</td>\n      <td>...</td>\n      <td>...</td>\n      <td>...</td>\n      <td>...</td>\n      <td>...</td>\n      <td>...</td>\n      <td>...</td>\n      <td>...</td>\n      <td>...</td>\n      <td>...</td>\n    </tr>\n    <tr>\n      <th>622</th>\n      <td>[org.apache.commons.configuration2.iniconfigur...</td>\n      <td>NaN</td>\n      <td>2016-04-16 15:02:56</td>\n      <td>Writing  I N I file, keys with . become ..</td>\n      <td>Here is sample input config:n[learningtask]ntr...</td>\n      <td>CONFIGURATION</td>\n      <td>0.0</td>\n      <td>write I N I file, key ..here sampl input confi...</td>\n      <td>[0.15075777613595112, 0.08455167744081879, 0.0...</td>\n      <td>[(0.3578936443274483, 85), (0.2559812025463081...</td>\n      <td>[-1, -1]</td>\n    </tr>\n    <tr>\n      <th>632</th>\n      <td>[org.apache.commons.configuration2.compositeco...</td>\n      <td>NaN</td>\n      <td>2016-05-27 18:46:00</td>\n      <td>Composite configuration list variable interpol...</td>\n      <td>Composite Configuration.get String Array, with...</td>\n      <td>CONFIGURATION</td>\n      <td>0.0</td>\n      <td>composit configur list variabl interpol elemen...</td>\n      <td>[0.22012750888311744, 0.05380179813170292, 0.0...</td>\n      <td>[(0.31837254475000587, 158), (0.29727680737522...</td>\n      <td>[-1, -1]</td>\n    </tr>\n    <tr>\n      <th>634</th>\n      <td>[org.apache.commons.configuration2.io.fileloca...</td>\n      <td>NaN</td>\n      <td>2016-06-24 15:52:33</td>\n      <td>Base Path is incorrectly computed while init o...</td>\n      <td>The base path should be just \"app\" instead of ...</td>\n      <td>CONFIGURATION</td>\n      <td>0.0</td>\n      <td>base path incorrectli comput init composit con...</td>\n      <td>[0.08917308068530758, 0.30631823846047, 0.1442...</td>\n      <td>[(0.30631823846047, 1), (0.3009557383930566, 1...</td>\n      <td>[-1, -1]</td>\n    </tr>\n    <tr>\n      <th>627</th>\n      <td>[org.apache.commons.configuration2.builder.tes...</td>\n      <td>NaN</td>\n      <td>2016-10-06 19:54:41</td>\n      <td>Bean Helper exception on  X M L Configuration ...</td>\n      <td>Creating an  X M L Configuration from a file w...</td>\n      <td>CONFIGURATION</td>\n      <td>0.0</td>\n      <td>bean helper except X M L configur builder.get ...</td>\n      <td>[0.0785131482475465, 0.06152017145702032, 0.04...</td>\n      <td>[(0.6922626976261211, 172), (0.690829813075270...</td>\n      <td>[-1]</td>\n    </tr>\n    <tr>\n      <th>640</th>\n      <td>[org.apache.commons.configuration2.propertiesc...</td>\n      <td>NaN</td>\n      <td>2016-10-07 20:08:29</td>\n      <td>Colon in properties file value no longer unesc...</td>\n      <td>A properties file create with java escape a co...</td>\n      <td>CONFIGURATION</td>\n      <td>0.0</td>\n      <td>colon properti file valu longer unescap common...</td>\n      <td>[0.12836192035234742, 0.16541630629696635, 0.0...</td>\n      <td>[(0.25792386181833615, 156), (0.24635408666422...</td>\n      <td>[-1, -1]</td>\n    </tr>\n  </tbody>\n</table>\n<p>133 rows × 11 columns</p>\n</div>"
     },
     "metadata": {}
    },
    {
     "output_type": "display_data",
     "data": {
      "text/plain": "id\n83     [(0.1443172904905684, 4), (0.09686583572361723...\n90     [(0.7039782565897457, 4), (0.40275065477824284...\n91     [(0.49236508239973115, 4), (0.4310825413375522...\n93     [(0.23281292378534482, 49), (0.222956580125808...\n96     [(0.4033173760377858, 78), (0.2477563159392748...\n                             ...                        \n484    [(0.3550999878165109, 47), (0.2258156161261254...\n492    [(0.2126584813648012, 47), (0.1726280270386134...\n494    [(0.14950411519110665, 14), (0.129537265889307...\n502    [(0.11678094770118203, 5), (0.1007893197118989...\n512    [(0.6490579093540119, 34), (0.5185645284159798...\nName: ranked_sim, Length: 91, dtype: object"
     },
     "metadata": {}
    },
    {
     "output_type": "display_data",
     "data": {
      "text/plain": "                                                   fix text  \\\nid                                                            \n83   [org.apache.commons.io.filesystemutilstestcase...  NaN   \n90   [org.apache.commons.io.filesystemutilstestcase...  NaN   \n91   [org.apache.commons.io.filesystemutilstestcase...  NaN   \n93   [org.apache.commons.io.filesystemutilstestcase...  NaN   \n96   [org.apache.commons.io.testtools.filebasedtest...  NaN   \n..                                                 ...  ...   \n484  [org.apache.commons.io.filenameutilstestcase.j...  NaN   \n492               [org.apache.commons.io.ioutils.java]  NaN   \n494       [org.apache.commons.io.directorywalker.java]  NaN   \n502  [org.apache.commons.io.filesystemutils.java, o...  NaN   \n512  [org.apache.commons.io.output.deferredfileoutp...  NaN   \n\n                 fixdate                                            summary  \\\nid                                                                            \n83   2006-08-25 21:44:03      Bug with &apos;df&apos; command on  A I X 5.3   \n90   2006-08-26 00:06:22  Infinite loop in  File System Utils.free Space...   \n91   2006-08-29 20:52:38  File System Utils.free Space does not work on ...   \n93   2006-10-07 11:59:33  File System Utils needs to call  Process.destr...   \n96   2006-10-11 16:30:49    Test case misuses read(byte[]) and read(char[])   \n..                   ...                                                ...   \n484  2015-08-06 11:48:50   Filename Utils should handle embedded null bytes   \n492  2015-12-29 15:40:37  Typo:  In an  I O Utils.java comment it says \"...   \n494  2016-01-07 21:18:17  Mismatch return type in api docs of class  Dir...   \n502  2016-04-27 17:32:47  Exceptions are suppressed incorrectly when cop...   \n512  2016-08-17 00:51:26  Thresholding Output Stream.threshold Reached()...   \n\n                                           description project  \\\nid                                                               \n83   Reported via commons-owner@n------------------...      IO   \n90   When using  File System Utils.free Space Windo...      IO   \n91   The method  File System Utils.free Space does ...      IO   \n93   Calling the  File System Utils.get Free Space(...      IO   \n96   Message to mailing list from  Anthony  Greennh...      IO   \n..                                                 ...     ...   \n484                                   File Name Utils'      IO   \n492  See here: https:github.comapachecommons-ioblob...      IO   \n494  In the api docs of class org.apache.commons.io...      IO   \n502  When copying files or directories, exceptions ...      IO   \n512  I upgraded from commons-io-2.0.1.jar to v2.5 (...      IO   \n\n     average_precision                                              query  \\\nid                                                                          \n83                 0.0  bug &apos;df&apos; command A I X 5.3report com...   \n90                 0.0  infinit loop file system utils.fre space windo...   \n91                 0.0  file system utils.fre space doe work sun solar...   \n93                 0.0  file system util need process.destroy() exec&a...   \n96                 0.0  test misus read(byte[]) read(char[])messag mai...   \n..                 ...                                                ...   \n484                0.0  filenam util handl embed null bytesfil name ut...   \n492                0.0  typo: In I O utils.java comment say \"focussed\"...   \n494                0.0  mismatch type api doc class directori walker.i...   \n502                0.0  except suppress incorrectli copi files.when co...   \n512                0.0  threshold output stream.threshold reached() re...   \n\n                                              sim_vect  \\\nid                                                       \n83   [0.07539367732110494, 0.0063852544429664196, 0...   \n90   [0.13176186890132005, 0.057507394823933876, 0....   \n91   [0.03022667659016459, 0.006397142557761881, 0....   \n93   [0.08700277635127233, 0.014920533807064535, 0....   \n96   [0.11641035816540596, 0.07742284778470652, 0.0...   \n..                                                 ...   \n484  [0.021956907362549852, 0.001942601789168746, 0...   \n492  [0.0596185978041052, 0.003560938560003, 0.0074...   \n494  [0.110976739592103, 0.007121015164650417, 0.02...   \n502  [0.05376472240820154, 0.01568693188618951, 0.0...   \n512  [0.28910817836302294, 0.08488691874877347, 0.0...   \n\n                                            ranked_sim fix_indexes  \nid                                                                  \n83   [(0.1443172904905684, 4), (0.09686583572361723...     [49, 4]  \n90   [(0.7039782565897457, 4), (0.40275065477824284...     [49, 4]  \n91   [(0.49236508239973115, 4), (0.4310825413375522...     [49, 4]  \n93   [(0.23281292378534482, 49), (0.222956580125808...     [49, 4]  \n96   [(0.4033173760377858, 78), (0.2477563159392748...        [78]  \n..                                                 ...         ...  \n484  [(0.3550999878165109, 47), (0.2258156161261254...     [47, 3]  \n492  [(0.2126584813648012, 47), (0.1726280270386134...        [-1]  \n494  [(0.14950411519110665, 14), (0.129537265889307...        [-1]  \n502  [(0.11678094770118203, 5), (0.1007893197118989...      [4, 5]  \n512  [(0.6490579093540119, 34), (0.5185645284159798...        [34]  \n\n[91 rows x 11 columns]",
      "text/html": "<div>\n<style scoped>\n    .dataframe tbody tr th:only-of-type {\n        vertical-align: middle;\n    }\n\n    .dataframe tbody tr th {\n        vertical-align: top;\n    }\n\n    .dataframe thead th {\n        text-align: right;\n    }\n</style>\n<table border=\"1\" class=\"dataframe\">\n  <thead>\n    <tr style=\"text-align: right;\">\n      <th></th>\n      <th>fix</th>\n      <th>text</th>\n      <th>fixdate</th>\n      <th>summary</th>\n      <th>description</th>\n      <th>project</th>\n      <th>average_precision</th>\n      <th>query</th>\n      <th>sim_vect</th>\n      <th>ranked_sim</th>\n      <th>fix_indexes</th>\n    </tr>\n    <tr>\n      <th>id</th>\n      <th></th>\n      <th></th>\n      <th></th>\n      <th></th>\n      <th></th>\n      <th></th>\n      <th></th>\n      <th></th>\n      <th></th>\n      <th></th>\n      <th></th>\n    </tr>\n  </thead>\n  <tbody>\n    <tr>\n      <th>83</th>\n      <td>[org.apache.commons.io.filesystemutilstestcase...</td>\n      <td>NaN</td>\n      <td>2006-08-25 21:44:03</td>\n      <td>Bug with &amp;apos;df&amp;apos; command on  A I X 5.3</td>\n      <td>Reported via commons-owner@n------------------...</td>\n      <td>IO</td>\n      <td>0.0</td>\n      <td>bug &amp;apos;df&amp;apos; command A I X 5.3report com...</td>\n      <td>[0.07539367732110494, 0.0063852544429664196, 0...</td>\n      <td>[(0.1443172904905684, 4), (0.09686583572361723...</td>\n      <td>[49, 4]</td>\n    </tr>\n    <tr>\n      <th>90</th>\n      <td>[org.apache.commons.io.filesystemutilstestcase...</td>\n      <td>NaN</td>\n      <td>2006-08-26 00:06:22</td>\n      <td>Infinite loop in  File System Utils.free Space...</td>\n      <td>When using  File System Utils.free Space Windo...</td>\n      <td>IO</td>\n      <td>0.0</td>\n      <td>infinit loop file system utils.fre space windo...</td>\n      <td>[0.13176186890132005, 0.057507394823933876, 0....</td>\n      <td>[(0.7039782565897457, 4), (0.40275065477824284...</td>\n      <td>[49, 4]</td>\n    </tr>\n    <tr>\n      <th>91</th>\n      <td>[org.apache.commons.io.filesystemutilstestcase...</td>\n      <td>NaN</td>\n      <td>2006-08-29 20:52:38</td>\n      <td>File System Utils.free Space does not work on ...</td>\n      <td>The method  File System Utils.free Space does ...</td>\n      <td>IO</td>\n      <td>0.0</td>\n      <td>file system utils.fre space doe work sun solar...</td>\n      <td>[0.03022667659016459, 0.006397142557761881, 0....</td>\n      <td>[(0.49236508239973115, 4), (0.4310825413375522...</td>\n      <td>[49, 4]</td>\n    </tr>\n    <tr>\n      <th>93</th>\n      <td>[org.apache.commons.io.filesystemutilstestcase...</td>\n      <td>NaN</td>\n      <td>2006-10-07 11:59:33</td>\n      <td>File System Utils needs to call  Process.destr...</td>\n      <td>Calling the  File System Utils.get Free Space(...</td>\n      <td>IO</td>\n      <td>0.0</td>\n      <td>file system util need process.destroy() exec&amp;a...</td>\n      <td>[0.08700277635127233, 0.014920533807064535, 0....</td>\n      <td>[(0.23281292378534482, 49), (0.222956580125808...</td>\n      <td>[49, 4]</td>\n    </tr>\n    <tr>\n      <th>96</th>\n      <td>[org.apache.commons.io.testtools.filebasedtest...</td>\n      <td>NaN</td>\n      <td>2006-10-11 16:30:49</td>\n      <td>Test case misuses read(byte[]) and read(char[])</td>\n      <td>Message to mailing list from  Anthony  Greennh...</td>\n      <td>IO</td>\n      <td>0.0</td>\n      <td>test misus read(byte[]) read(char[])messag mai...</td>\n      <td>[0.11641035816540596, 0.07742284778470652, 0.0...</td>\n      <td>[(0.4033173760377858, 78), (0.2477563159392748...</td>\n      <td>[78]</td>\n    </tr>\n    <tr>\n      <th>...</th>\n      <td>...</td>\n      <td>...</td>\n      <td>...</td>\n      <td>...</td>\n      <td>...</td>\n      <td>...</td>\n      <td>...</td>\n      <td>...</td>\n      <td>...</td>\n      <td>...</td>\n      <td>...</td>\n    </tr>\n    <tr>\n      <th>484</th>\n      <td>[org.apache.commons.io.filenameutilstestcase.j...</td>\n      <td>NaN</td>\n      <td>2015-08-06 11:48:50</td>\n      <td>Filename Utils should handle embedded null bytes</td>\n      <td>File Name Utils'</td>\n      <td>IO</td>\n      <td>0.0</td>\n      <td>filenam util handl embed null bytesfil name ut...</td>\n      <td>[0.021956907362549852, 0.001942601789168746, 0...</td>\n      <td>[(0.3550999878165109, 47), (0.2258156161261254...</td>\n      <td>[47, 3]</td>\n    </tr>\n    <tr>\n      <th>492</th>\n      <td>[org.apache.commons.io.ioutils.java]</td>\n      <td>NaN</td>\n      <td>2015-12-29 15:40:37</td>\n      <td>Typo:  In an  I O Utils.java comment it says \"...</td>\n      <td>See here: https:github.comapachecommons-ioblob...</td>\n      <td>IO</td>\n      <td>0.0</td>\n      <td>typo: In I O utils.java comment say \"focussed\"...</td>\n      <td>[0.0596185978041052, 0.003560938560003, 0.0074...</td>\n      <td>[(0.2126584813648012, 47), (0.1726280270386134...</td>\n      <td>[-1]</td>\n    </tr>\n    <tr>\n      <th>494</th>\n      <td>[org.apache.commons.io.directorywalker.java]</td>\n      <td>NaN</td>\n      <td>2016-01-07 21:18:17</td>\n      <td>Mismatch return type in api docs of class  Dir...</td>\n      <td>In the api docs of class org.apache.commons.io...</td>\n      <td>IO</td>\n      <td>0.0</td>\n      <td>mismatch type api doc class directori walker.i...</td>\n      <td>[0.110976739592103, 0.007121015164650417, 0.02...</td>\n      <td>[(0.14950411519110665, 14), (0.129537265889307...</td>\n      <td>[-1]</td>\n    </tr>\n    <tr>\n      <th>502</th>\n      <td>[org.apache.commons.io.filesystemutils.java, o...</td>\n      <td>NaN</td>\n      <td>2016-04-27 17:32:47</td>\n      <td>Exceptions are suppressed incorrectly when cop...</td>\n      <td>When copying files or directories, exceptions ...</td>\n      <td>IO</td>\n      <td>0.0</td>\n      <td>except suppress incorrectli copi files.when co...</td>\n      <td>[0.05376472240820154, 0.01568693188618951, 0.0...</td>\n      <td>[(0.11678094770118203, 5), (0.1007893197118989...</td>\n      <td>[4, 5]</td>\n    </tr>\n    <tr>\n      <th>512</th>\n      <td>[org.apache.commons.io.output.deferredfileoutp...</td>\n      <td>NaN</td>\n      <td>2016-08-17 00:51:26</td>\n      <td>Thresholding Output Stream.threshold Reached()...</td>\n      <td>I upgraded from commons-io-2.0.1.jar to v2.5 (...</td>\n      <td>IO</td>\n      <td>0.0</td>\n      <td>threshold output stream.threshold reached() re...</td>\n      <td>[0.28910817836302294, 0.08488691874877347, 0.0...</td>\n      <td>[(0.6490579093540119, 34), (0.5185645284159798...</td>\n      <td>[34]</td>\n    </tr>\n  </tbody>\n</table>\n<p>91 rows × 11 columns</p>\n</div>"
     },
     "metadata": {}
    },
    {
     "output_type": "display_data",
     "data": {
      "text/plain": "id\n261     [(0.28105250858081515, 142), (0.25087591470289...\n100     [(0.628957300514116, 17), (0.5702296597481109,...\n59      [(0.43312207465973035, 233), (0.34926032191881...\n271     [(0.26564781924783387, 131), (0.19949989627882...\n259     [(0.5459522755873255, 12), (0.3528836211397922...\n                              ...                        \n1188    [(0.22184751714908688, 73), (0.199007027559982...\n1269    [(0.27149363232360074, 193), (0.21631570612279...\n1281    [(0.4634333185517182, 138), (0.317290156249210...\n1285    [(0.6713539280985087, 236), (0.635229577393574...\n1287    [(0.5601993730976251, 17), (0.4586093867852621...\nName: ranked_sim, Length: 217, dtype: object"
     },
     "metadata": {}
    },
    {
     "output_type": "display_data",
     "data": {
      "text/plain": "                                                    fix text  \\\nid                                                             \n261   [org.apache.commons.lang.stringutilstest.java,...  NaN   \n100   [org.apache.commons.lang.randomstringutils.jav...  NaN   \n59    [org.apache.commons.lang.time.dateutilstest.ja...  NaN   \n271      [org.apache.commons.lang.localeutilstest.java]  NaN   \n259   [org.apache.commons.lang.enums.valuedenumtest....  NaN   \n...                                                 ...  ...   \n1188        [org.apache.commons.lang3.stringutils.java]  NaN   \n1269  [org.apache.commons.lang3.stringutils.java, or...  NaN   \n1281        [org.apache.commons.lang3.stringutils.java]  NaN   \n1285  [org.apache.commons.lang3.time.fastdateparser....  NaN   \n1287  [org.apache.commons.lang3.randomstringutilstes...  NaN   \n\n                  fixdate                                            summary  \\\nid                                                                             \n261   2006-06-06 02:37:22  Error in an example in the javadoc of the  Str...   \n100   2006-06-27 07:28:09  Random String Utils.random() family of methods...   \n59    2006-07-21 05:15:42  Date Utils.truncate method is buggy when deali...   \n271   2006-08-10 21:25:47             Locale Utils test fails under  Mustang   \n259   2006-08-18 22:21:34  Valued Enum.compare To( Object other) not type...   \n...                   ...                                                ...   \n1188  2016-10-23 19:59:46  String Utils#join( T...): warning: [unchecked]...   \n1269  2016-10-28 17:23:52  Wrong name or result of  String Utils::get Jar...   \n1281  2016-11-06 11:20:58  Javadoc of  String Utils.ordinal Index Of is c...   \n1285  2016-11-16 20:47:21  Null Pointer Exception in  Fast Date Parser$ T...   \n1287  2016-11-18 15:53:54  Random String Utils#random can enter infinite ...   \n\n                                            description project  \\\nid                                                                \n261   There is an error in the javadoc of the org.ap...    LANG   \n100   Problem are surrogate pairs: n E.g.  Random St...    LANG   \n59    Try to truncate 2004-10-31 01:00:00  M D T by ...    LANG   \n271   Testsuite: org.apache.commons.lang. Lang Test ...    LANG   \n259   Valued Enum.compare To( Object other)n is not ...    LANG   \n...                                                 ...     ...   \n1188  String Utils.java:3302: warning: [unchecked]  ...    LANG   \n1269  The name of the method  String Utils::get Jaro...    LANG   \n1281  Javadoc of  String Utils.ordinal Index Of stat...    LANG   \n1285  It seems that after  L A N G-1186 was fixed, a...    LANG   \n1287  I faced that the random method can cause an in...    LANG   \n\n      average_precision                                              query  \\\nid                                                                           \n261                 0.0  error exampl javadoc string utils.split preser...   \n100                 0.0  random string utils.random() famili method cre...   \n59                  0.0  date utils.trunc method buggi deal D S T switc...   \n271                 0.0  local util test fail mustangtestsuite: org.apa...   \n259                 0.0  valu enum.compar to( object other) typesaf eas...   \n...                 ...                                                ...   \n1188                0.0  string utils#join( t...): warning: [unchecked]...   \n1269                0.0  wrong result string utils::get jaro winkler di...   \n1281                0.0  javadoc string utils.ordin index Of contradict...   \n1285                0.0  null pointer except fast date parser$ time zon...   \n1287                0.0  random string utils#random enter infinit loop ...   \n\n                                               sim_vect  \\\nid                                                        \n261   [0.01856874234950177, 0.027990785551905154, 0....   \n100   [0.019827159526949883, 0.016434351480101902, 0...   \n59    [0.010707172035154389, 0.01791434934200427, 0....   \n271   [0.02683072903207083, 0.019180852319783608, 0....   \n259   [0.044494572508530235, 0.0335860315964624, 0.0...   \n...                                                 ...   \n1188  [0.07715049777533511, 0.04460471954448596, 0.0...   \n1269  [0.05930543227775654, 0.040142121305718655, 0....   \n1281  [0.030107258466253138, 0.1770832549953721, 0.0...   \n1285  [0.009336509011149319, 0.008792340440156235, 0...   \n1287  [0.02060026057423903, 0.0281982942065355, 0.02...   \n\n                                             ranked_sim   fix_indexes  \nid                                                                     \n261   [(0.28105250858081515, 142), (0.25087591470289...      [-1, -1]  \n100   [(0.628957300514116, 17), (0.5702296597481109,...      [-1, -1]  \n59    [(0.43312207465973035, 233), (0.34926032191881...      [-1, -1]  \n271   [(0.26564781924783387, 131), (0.19949989627882...          [-1]  \n259   [(0.5459522755873255, 12), (0.3528836211397922...  [-1, -1, -1]  \n...                                                 ...           ...  \n1188  [(0.22184751714908688, 73), (0.199007027559982...          [22]  \n1269  [(0.27149363232360074, 193), (0.21631570612279...     [22, 142]  \n1281  [(0.4634333185517182, 138), (0.317290156249210...          [22]  \n1285  [(0.6713539280985087, 236), (0.635229577393574...         [102]  \n1287  [(0.5601993730976251, 17), (0.4586093867852621...     [134, 17]  \n\n[217 rows x 11 columns]",
      "text/html": "<div>\n<style scoped>\n    .dataframe tbody tr th:only-of-type {\n        vertical-align: middle;\n    }\n\n    .dataframe tbody tr th {\n        vertical-align: top;\n    }\n\n    .dataframe thead th {\n        text-align: right;\n    }\n</style>\n<table border=\"1\" class=\"dataframe\">\n  <thead>\n    <tr style=\"text-align: right;\">\n      <th></th>\n      <th>fix</th>\n      <th>text</th>\n      <th>fixdate</th>\n      <th>summary</th>\n      <th>description</th>\n      <th>project</th>\n      <th>average_precision</th>\n      <th>query</th>\n      <th>sim_vect</th>\n      <th>ranked_sim</th>\n      <th>fix_indexes</th>\n    </tr>\n    <tr>\n      <th>id</th>\n      <th></th>\n      <th></th>\n      <th></th>\n      <th></th>\n      <th></th>\n      <th></th>\n      <th></th>\n      <th></th>\n      <th></th>\n      <th></th>\n      <th></th>\n    </tr>\n  </thead>\n  <tbody>\n    <tr>\n      <th>261</th>\n      <td>[org.apache.commons.lang.stringutilstest.java,...</td>\n      <td>NaN</td>\n      <td>2006-06-06 02:37:22</td>\n      <td>Error in an example in the javadoc of the  Str...</td>\n      <td>There is an error in the javadoc of the org.ap...</td>\n      <td>LANG</td>\n      <td>0.0</td>\n      <td>error exampl javadoc string utils.split preser...</td>\n      <td>[0.01856874234950177, 0.027990785551905154, 0....</td>\n      <td>[(0.28105250858081515, 142), (0.25087591470289...</td>\n      <td>[-1, -1]</td>\n    </tr>\n    <tr>\n      <th>100</th>\n      <td>[org.apache.commons.lang.randomstringutils.jav...</td>\n      <td>NaN</td>\n      <td>2006-06-27 07:28:09</td>\n      <td>Random String Utils.random() family of methods...</td>\n      <td>Problem are surrogate pairs: n E.g.  Random St...</td>\n      <td>LANG</td>\n      <td>0.0</td>\n      <td>random string utils.random() famili method cre...</td>\n      <td>[0.019827159526949883, 0.016434351480101902, 0...</td>\n      <td>[(0.628957300514116, 17), (0.5702296597481109,...</td>\n      <td>[-1, -1]</td>\n    </tr>\n    <tr>\n      <th>59</th>\n      <td>[org.apache.commons.lang.time.dateutilstest.ja...</td>\n      <td>NaN</td>\n      <td>2006-07-21 05:15:42</td>\n      <td>Date Utils.truncate method is buggy when deali...</td>\n      <td>Try to truncate 2004-10-31 01:00:00  M D T by ...</td>\n      <td>LANG</td>\n      <td>0.0</td>\n      <td>date utils.trunc method buggi deal D S T switc...</td>\n      <td>[0.010707172035154389, 0.01791434934200427, 0....</td>\n      <td>[(0.43312207465973035, 233), (0.34926032191881...</td>\n      <td>[-1, -1]</td>\n    </tr>\n    <tr>\n      <th>271</th>\n      <td>[org.apache.commons.lang.localeutilstest.java]</td>\n      <td>NaN</td>\n      <td>2006-08-10 21:25:47</td>\n      <td>Locale Utils test fails under  Mustang</td>\n      <td>Testsuite: org.apache.commons.lang. Lang Test ...</td>\n      <td>LANG</td>\n      <td>0.0</td>\n      <td>local util test fail mustangtestsuite: org.apa...</td>\n      <td>[0.02683072903207083, 0.019180852319783608, 0....</td>\n      <td>[(0.26564781924783387, 131), (0.19949989627882...</td>\n      <td>[-1]</td>\n    </tr>\n    <tr>\n      <th>259</th>\n      <td>[org.apache.commons.lang.enums.valuedenumtest....</td>\n      <td>NaN</td>\n      <td>2006-08-18 22:21:34</td>\n      <td>Valued Enum.compare To( Object other) not type...</td>\n      <td>Valued Enum.compare To( Object other)n is not ...</td>\n      <td>LANG</td>\n      <td>0.0</td>\n      <td>valu enum.compar to( object other) typesaf eas...</td>\n      <td>[0.044494572508530235, 0.0335860315964624, 0.0...</td>\n      <td>[(0.5459522755873255, 12), (0.3528836211397922...</td>\n      <td>[-1, -1, -1]</td>\n    </tr>\n    <tr>\n      <th>...</th>\n      <td>...</td>\n      <td>...</td>\n      <td>...</td>\n      <td>...</td>\n      <td>...</td>\n      <td>...</td>\n      <td>...</td>\n      <td>...</td>\n      <td>...</td>\n      <td>...</td>\n      <td>...</td>\n    </tr>\n    <tr>\n      <th>1188</th>\n      <td>[org.apache.commons.lang3.stringutils.java]</td>\n      <td>NaN</td>\n      <td>2016-10-23 19:59:46</td>\n      <td>String Utils#join( T...): warning: [unchecked]...</td>\n      <td>String Utils.java:3302: warning: [unchecked]  ...</td>\n      <td>LANG</td>\n      <td>0.0</td>\n      <td>string utils#join( t...): warning: [unchecked]...</td>\n      <td>[0.07715049777533511, 0.04460471954448596, 0.0...</td>\n      <td>[(0.22184751714908688, 73), (0.199007027559982...</td>\n      <td>[22]</td>\n    </tr>\n    <tr>\n      <th>1269</th>\n      <td>[org.apache.commons.lang3.stringutils.java, or...</td>\n      <td>NaN</td>\n      <td>2016-10-28 17:23:52</td>\n      <td>Wrong name or result of  String Utils::get Jar...</td>\n      <td>The name of the method  String Utils::get Jaro...</td>\n      <td>LANG</td>\n      <td>0.0</td>\n      <td>wrong result string utils::get jaro winkler di...</td>\n      <td>[0.05930543227775654, 0.040142121305718655, 0....</td>\n      <td>[(0.27149363232360074, 193), (0.21631570612279...</td>\n      <td>[22, 142]</td>\n    </tr>\n    <tr>\n      <th>1281</th>\n      <td>[org.apache.commons.lang3.stringutils.java]</td>\n      <td>NaN</td>\n      <td>2016-11-06 11:20:58</td>\n      <td>Javadoc of  String Utils.ordinal Index Of is c...</td>\n      <td>Javadoc of  String Utils.ordinal Index Of stat...</td>\n      <td>LANG</td>\n      <td>0.0</td>\n      <td>javadoc string utils.ordin index Of contradict...</td>\n      <td>[0.030107258466253138, 0.1770832549953721, 0.0...</td>\n      <td>[(0.4634333185517182, 138), (0.317290156249210...</td>\n      <td>[22]</td>\n    </tr>\n    <tr>\n      <th>1285</th>\n      <td>[org.apache.commons.lang3.time.fastdateparser....</td>\n      <td>NaN</td>\n      <td>2016-11-16 20:47:21</td>\n      <td>Null Pointer Exception in  Fast Date Parser$ T...</td>\n      <td>It seems that after  L A N G-1186 was fixed, a...</td>\n      <td>LANG</td>\n      <td>0.0</td>\n      <td>null pointer except fast date parser$ time zon...</td>\n      <td>[0.009336509011149319, 0.008792340440156235, 0...</td>\n      <td>[(0.6713539280985087, 236), (0.635229577393574...</td>\n      <td>[102]</td>\n    </tr>\n    <tr>\n      <th>1287</th>\n      <td>[org.apache.commons.lang3.randomstringutilstes...</td>\n      <td>NaN</td>\n      <td>2016-11-18 15:53:54</td>\n      <td>Random String Utils#random can enter infinite ...</td>\n      <td>I faced that the random method can cause an in...</td>\n      <td>LANG</td>\n      <td>0.0</td>\n      <td>random string utils#random enter infinit loop ...</td>\n      <td>[0.02060026057423903, 0.0281982942065355, 0.02...</td>\n      <td>[(0.5601993730976251, 17), (0.4586093867852621...</td>\n      <td>[134, 17]</td>\n    </tr>\n  </tbody>\n</table>\n<p>217 rows × 11 columns</p>\n</div>"
     },
     "metadata": {}
    },
    {
     "output_type": "display_data",
     "data": {
      "text/plain": "id\n19     [(0.48278575081533964, 151), (0.44542764080030...\n23     [(0.675840856872818, 374), (0.6354451755751456...\n38     [(0.4717646263373042, 282), (0.262701562471761...\n40     [(0.6528069575410549, 235), (0.489530663519964...\n42     [(0.35700302358571145, 368), (0.32089962934556...\n                             ...                        \n943    [(0.5412562690291778, 151), (0.513984738519936...\n848    [(0.3108067238214017, 19), (0.2827915678168649...\n951    [(0.18276595990296476, 48), (0.166592492671941...\n934    [(0.4926358662697551, 418), (0.475192569681294...\n963    [(0.33499915399252045, 152), (0.32437998863092...\nName: ranked_sim, Length: 158, dtype: object"
     },
     "metadata": {}
    },
    {
     "output_type": "display_data",
     "data": {
      "text/plain": "                                                   fix text  \\\nid                                                            \n19   [org.springframework.data.repository.pagingand...  NaN   \n23   [org.springframework.data.domain.pageimpl.java...  NaN   \n38   [org.springframework.data.mapping.abstractmapp...  NaN   \n40   [org.springframework.data.repository.support.a...  NaN   \n42   [org.springframework.data.mapping.beanwrapper....  NaN   \n..                                                 ...  ...   \n943  [org.springframework.data.repository.core.supp...  NaN   \n848  [org.springframework.data.convert.jsr310conver...  NaN   \n951  [org.springframework.data.convert.jsr310conver...  NaN   \n934  [org.springframework.data.mapping.model.basicp...  NaN   \n963  [org.springframework.data.repository.query.ret...  NaN   \n\n                 fixdate                                            summary  \\\nid                                                                            \n19   2011-03-02 00:11:20  Invalid entity metadata when domain class impl...   \n23   2011-03-31 23:41:16  Page Impl can not be constructed with empty co...   \n38   2011-05-18 10:15:43  Stack Overflow Error on self-referencing  Objects   \n40   2011-05-24 08:34:56  Rename @ Repository Proxy to @ Repository Defi...   \n42   2011-06-06 15:52:18  Mapping Context does not map  Big Decimal corr...   \n..                   ...                                                ...   \n943  2016-11-24 16:25:00  Redeclared save( Iterable) results in wrong me...   \n848  2016-12-05 08:51:16  Support  J S R-310  Duration and  Period (to a...   \n951  2016-12-05 15:35:07  Add  Converters for  J S R-310  Duration and  ...   \n934  2016-12-05 16:07:55  Basic Persistent Entity.add Associations() mus...   \n963  2016-12-21 13:15:19  Returned Type.get Input Properties() does not ...   \n\n                                           description   project  \\\nid                                                                 \n19   Latest snapshot (spring-data-jpa-1.0.0. B U I ...  DATACMNS   \n23   When passing empty list to  Page Impl construc...  DATACMNS   \n38   Hi, i get the following error when starting a ...  DATACMNS   \n40                                               None'  DATACMNS   \n42                                               None'  DATACMNS   \n..                                                 ...       ...   \n943  I have upgrade my project from spring boot 1.3...  DATACMNS   \n848  The current  Jsr310 Converters.java doesn&amp;...  DATACMNS   \n951                                              None'  DATACMNS   \n934  The issue happens when use the same class to d...  DATACMNS   \n963  In case inheritance is used in projection inte...  DATACMNS   \n\n     average_precision                                              query  \\\nid                                                                          \n19                 0.0  invalid entiti metadata domain class persistab...   \n23                 0.0  page impl construct contentwhen pass list page...   \n38                 0.0  stack overflow error self-referenc objectshi, ...   \n40                 0.0  renam @ repositori proxi @ repositori definiti...   \n42                 0.0       map context doe map big decim correctlynone'   \n..                 ...                                                ...   \n943                0.0  redeclar save( iterable) result wrong method o...   \n848                0.0  support J S r-310 durat period (to string)th c...   \n951                0.0            add convert J S r-310 durat periodnone'   \n934                0.0  basic persist entity.add associations() add nu...   \n963                0.0  return type.get input properties() doe guarant...   \n\n                                              sim_vect  \\\nid                                                       \n19   [0.051780758887607053, 0.06002163946749635, 0....   \n23   [0.006637683250997997, 0.006085139495198832, 0...   \n38   [0.10580893728016386, 0.06177963769020931, 0.0...   \n40   [0.0, 0.0, 0.0, 0.0, 0.0, 0.0, 0.0, 0.0, 0.0, ...   \n42   [0.0, 0.0, 0.0, 0.0, 0.0, 0.0, 0.0, 0.0, 0.0, ...   \n..                                                 ...   \n943  [0.08391985424159, 0.0778139594060973, 0.07725...   \n848  [0.0443732407553895, 0.05057084137583423, 0.05...   \n951  [0.0, 0.0, 0.0, 0.0, 0.0, 0.0, 0.0, 0.0, 0.0, ...   \n934  [0.08986744327508164, 0.057958312852758286, 0....   \n963  [0.14657581265470615, 0.04835451713542279, 0.0...   \n\n                                            ranked_sim  \\\nid                                                       \n19   [(0.48278575081533964, 151), (0.44542764080030...   \n23   [(0.675840856872818, 374), (0.6354451755751456...   \n38   [(0.4717646263373042, 282), (0.262701562471761...   \n40   [(0.6528069575410549, 235), (0.489530663519964...   \n42   [(0.35700302358571145, 368), (0.32089962934556...   \n..                                                 ...   \n943  [(0.5412562690291778, 151), (0.513984738519936...   \n848  [(0.3108067238214017, 19), (0.2827915678168649...   \n951  [(0.18276595990296476, 48), (0.166592492671941...   \n934  [(0.4926358662697551, 418), (0.475192569681294...   \n963  [(0.33499915399252045, 152), (0.32437998863092...   \n\n                                   fix_indexes  \nid                                              \n19                      [179, 180, -1, -1, -1]  \n23                               [70, 374, 68]  \n38   [-1, -1, 324, 322, 312, 533, -1, -1, 526]  \n40                   [-1, 501, -1, -1, -1, -1]  \n42                                [-1, -1, -1]  \n..                                         ...  \n943                                 [220, 471]  \n848                                  [46, 367]  \n951                                  [46, 367]  \n934                                 [128, 418]  \n963                                   [-1, -1]  \n\n[158 rows x 11 columns]",
      "text/html": "<div>\n<style scoped>\n    .dataframe tbody tr th:only-of-type {\n        vertical-align: middle;\n    }\n\n    .dataframe tbody tr th {\n        vertical-align: top;\n    }\n\n    .dataframe thead th {\n        text-align: right;\n    }\n</style>\n<table border=\"1\" class=\"dataframe\">\n  <thead>\n    <tr style=\"text-align: right;\">\n      <th></th>\n      <th>fix</th>\n      <th>text</th>\n      <th>fixdate</th>\n      <th>summary</th>\n      <th>description</th>\n      <th>project</th>\n      <th>average_precision</th>\n      <th>query</th>\n      <th>sim_vect</th>\n      <th>ranked_sim</th>\n      <th>fix_indexes</th>\n    </tr>\n    <tr>\n      <th>id</th>\n      <th></th>\n      <th></th>\n      <th></th>\n      <th></th>\n      <th></th>\n      <th></th>\n      <th></th>\n      <th></th>\n      <th></th>\n      <th></th>\n      <th></th>\n    </tr>\n  </thead>\n  <tbody>\n    <tr>\n      <th>19</th>\n      <td>[org.springframework.data.repository.pagingand...</td>\n      <td>NaN</td>\n      <td>2011-03-02 00:11:20</td>\n      <td>Invalid entity metadata when domain class impl...</td>\n      <td>Latest snapshot (spring-data-jpa-1.0.0. B U I ...</td>\n      <td>DATACMNS</td>\n      <td>0.0</td>\n      <td>invalid entiti metadata domain class persistab...</td>\n      <td>[0.051780758887607053, 0.06002163946749635, 0....</td>\n      <td>[(0.48278575081533964, 151), (0.44542764080030...</td>\n      <td>[179, 180, -1, -1, -1]</td>\n    </tr>\n    <tr>\n      <th>23</th>\n      <td>[org.springframework.data.domain.pageimpl.java...</td>\n      <td>NaN</td>\n      <td>2011-03-31 23:41:16</td>\n      <td>Page Impl can not be constructed with empty co...</td>\n      <td>When passing empty list to  Page Impl construc...</td>\n      <td>DATACMNS</td>\n      <td>0.0</td>\n      <td>page impl construct contentwhen pass list page...</td>\n      <td>[0.006637683250997997, 0.006085139495198832, 0...</td>\n      <td>[(0.675840856872818, 374), (0.6354451755751456...</td>\n      <td>[70, 374, 68]</td>\n    </tr>\n    <tr>\n      <th>38</th>\n      <td>[org.springframework.data.mapping.abstractmapp...</td>\n      <td>NaN</td>\n      <td>2011-05-18 10:15:43</td>\n      <td>Stack Overflow Error on self-referencing  Objects</td>\n      <td>Hi, i get the following error when starting a ...</td>\n      <td>DATACMNS</td>\n      <td>0.0</td>\n      <td>stack overflow error self-referenc objectshi, ...</td>\n      <td>[0.10580893728016386, 0.06177963769020931, 0.0...</td>\n      <td>[(0.4717646263373042, 282), (0.262701562471761...</td>\n      <td>[-1, -1, 324, 322, 312, 533, -1, -1, 526]</td>\n    </tr>\n    <tr>\n      <th>40</th>\n      <td>[org.springframework.data.repository.support.a...</td>\n      <td>NaN</td>\n      <td>2011-05-24 08:34:56</td>\n      <td>Rename @ Repository Proxy to @ Repository Defi...</td>\n      <td>None'</td>\n      <td>DATACMNS</td>\n      <td>0.0</td>\n      <td>renam @ repositori proxi @ repositori definiti...</td>\n      <td>[0.0, 0.0, 0.0, 0.0, 0.0, 0.0, 0.0, 0.0, 0.0, ...</td>\n      <td>[(0.6528069575410549, 235), (0.489530663519964...</td>\n      <td>[-1, 501, -1, -1, -1, -1]</td>\n    </tr>\n    <tr>\n      <th>42</th>\n      <td>[org.springframework.data.mapping.beanwrapper....</td>\n      <td>NaN</td>\n      <td>2011-06-06 15:52:18</td>\n      <td>Mapping Context does not map  Big Decimal corr...</td>\n      <td>None'</td>\n      <td>DATACMNS</td>\n      <td>0.0</td>\n      <td>map context doe map big decim correctlynone'</td>\n      <td>[0.0, 0.0, 0.0, 0.0, 0.0, 0.0, 0.0, 0.0, 0.0, ...</td>\n      <td>[(0.35700302358571145, 368), (0.32089962934556...</td>\n      <td>[-1, -1, -1]</td>\n    </tr>\n    <tr>\n      <th>...</th>\n      <td>...</td>\n      <td>...</td>\n      <td>...</td>\n      <td>...</td>\n      <td>...</td>\n      <td>...</td>\n      <td>...</td>\n      <td>...</td>\n      <td>...</td>\n      <td>...</td>\n      <td>...</td>\n    </tr>\n    <tr>\n      <th>943</th>\n      <td>[org.springframework.data.repository.core.supp...</td>\n      <td>NaN</td>\n      <td>2016-11-24 16:25:00</td>\n      <td>Redeclared save( Iterable) results in wrong me...</td>\n      <td>I have upgrade my project from spring boot 1.3...</td>\n      <td>DATACMNS</td>\n      <td>0.0</td>\n      <td>redeclar save( iterable) result wrong method o...</td>\n      <td>[0.08391985424159, 0.0778139594060973, 0.07725...</td>\n      <td>[(0.5412562690291778, 151), (0.513984738519936...</td>\n      <td>[220, 471]</td>\n    </tr>\n    <tr>\n      <th>848</th>\n      <td>[org.springframework.data.convert.jsr310conver...</td>\n      <td>NaN</td>\n      <td>2016-12-05 08:51:16</td>\n      <td>Support  J S R-310  Duration and  Period (to a...</td>\n      <td>The current  Jsr310 Converters.java doesn&amp;amp;...</td>\n      <td>DATACMNS</td>\n      <td>0.0</td>\n      <td>support J S r-310 durat period (to string)th c...</td>\n      <td>[0.0443732407553895, 0.05057084137583423, 0.05...</td>\n      <td>[(0.3108067238214017, 19), (0.2827915678168649...</td>\n      <td>[46, 367]</td>\n    </tr>\n    <tr>\n      <th>951</th>\n      <td>[org.springframework.data.convert.jsr310conver...</td>\n      <td>NaN</td>\n      <td>2016-12-05 15:35:07</td>\n      <td>Add  Converters for  J S R-310  Duration and  ...</td>\n      <td>None'</td>\n      <td>DATACMNS</td>\n      <td>0.0</td>\n      <td>add convert J S r-310 durat periodnone'</td>\n      <td>[0.0, 0.0, 0.0, 0.0, 0.0, 0.0, 0.0, 0.0, 0.0, ...</td>\n      <td>[(0.18276595990296476, 48), (0.166592492671941...</td>\n      <td>[46, 367]</td>\n    </tr>\n    <tr>\n      <th>934</th>\n      <td>[org.springframework.data.mapping.model.basicp...</td>\n      <td>NaN</td>\n      <td>2016-12-05 16:07:55</td>\n      <td>Basic Persistent Entity.add Associations() mus...</td>\n      <td>The issue happens when use the same class to d...</td>\n      <td>DATACMNS</td>\n      <td>0.0</td>\n      <td>basic persist entity.add associations() add nu...</td>\n      <td>[0.08986744327508164, 0.057958312852758286, 0....</td>\n      <td>[(0.4926358662697551, 418), (0.475192569681294...</td>\n      <td>[128, 418]</td>\n    </tr>\n    <tr>\n      <th>963</th>\n      <td>[org.springframework.data.repository.query.ret...</td>\n      <td>NaN</td>\n      <td>2016-12-21 13:15:19</td>\n      <td>Returned Type.get Input Properties() does not ...</td>\n      <td>In case inheritance is used in projection inte...</td>\n      <td>DATACMNS</td>\n      <td>0.0</td>\n      <td>return type.get input properties() doe guarant...</td>\n      <td>[0.14657581265470615, 0.04835451713542279, 0.0...</td>\n      <td>[(0.33499915399252045, 152), (0.32437998863092...</td>\n      <td>[-1, -1]</td>\n    </tr>\n  </tbody>\n</table>\n<p>158 rows × 11 columns</p>\n</div>"
     },
     "metadata": {}
    },
    {
     "output_type": "display_data",
     "data": {
      "text/plain": "id\n273     [(0.461878511109809, 280), (0.4407226823567148...\n294     [(0.4082560437195211, 223), (0.190573311929165...\n316     [(0.6395658244296727, 9), (0.6128107299633535,...\n306     [(0.33340225199883733, 213), (0.31281607225202...\n315     [(0.37892458558636866, 154), (0.31702619472430...\n                              ...                        \n1513    [(0.5452445243981746, 276), (0.508535572013213...\n1500    [(0.39461699778714115, 153), (0.37223329395925...\n1521    [(0.21588024001276934, 116), (0.19165743340941...\n1534    [(0.2538486663666388, 165), (0.214918240035956...\n1565    [(0.3817462408062211, 276), (0.360033297890771...\nName: ranked_sim, Length: 271, dtype: object"
     },
     "metadata": {}
    },
    {
     "output_type": "display_data",
     "data": {
      "text/plain": "                                                    fix text  \\\nid                                                             \n273   [org.springframework.data.mongodb.core.convert...  NaN   \n294   [org.springframework.data.mongodb.core.convert...  NaN   \n316   [org.springframework.data.mongodb.config.mongo...  NaN   \n306   [org.springframework.data.mongodb.config.mongo...  NaN   \n315   [org.springframework.data.mongodb.core.mongote...  NaN   \n...                                                 ...  ...   \n1513  [org.springframework.data.mongodb.core.mongote...  NaN   \n1500  [org.springframework.data.mongodb.repository.q...  NaN   \n1521  [org.springframework.data.mongodb.core.aggrega...  NaN   \n1534  [org.springframework.data.mongodb.core.default...  NaN   \n1565  [org.springframework.data.mongodb.repository.q...  NaN   \n\n                  fixdate                                            summary  \\\nid                                                                             \n273   2011-10-11 04:25:21  Collection elements seem to lost their type wh...   \n294   2011-10-13 09:05:20  List elements nested in  Map lose their type w...   \n316   2011-11-14 13:38:08  Replica  Set configuration via properties file...   \n306   2011-11-14 19:47:51  Null Pointer Exception if mongo factory create...   \n315   2011-11-14 20:30:06  Mongo Template.find One(query) methods ignore ...   \n...                   ...                                                ...   \n1513  2016-11-03 08:16:02  Non- Object Id identifiers generated by event ...   \n1500  2016-11-03 08:37:57  Runtime Exception for query methods with field...   \n1521  2016-11-03 14:05:28  Aggregation.skip(...) expects int but new  Ski...   \n1534  2016-11-28 08:18:25  Type hint is missing when using  Bulk Operatio...   \n1565  2016-12-19 17:16:57  Placeholders in manually defined queries not e...   \n\n                                            description    project  \\\nid                                                                   \n273   When  I persist a list of objects they do not ...  DATAMONGO   \n294   Possibly related to  D A T A M O N G O-273, ob...  DATAMONGO   \n316   Mongo  Replica Set configuration via propertie...  DATAMONGO   \n306   Configuring mongo data factory with a  U R I t...  DATAMONGO   \n315   Query query = query(where(\"type\").is(\"ad\"));nq...  DATAMONGO   \n...                                                 ...        ...   \n1513  We have observed issues when persisting multip...  DATAMONGO   \n1500  When  I upgrade from version 1.8.4. R E L E A ...  DATAMONGO   \n1521  Currently the class  Skip Operation takes an l...  DATAMONGO   \n1534  Template.bulk Ops( Bulk Operations. Bulk Mode....  DATAMONGO   \n1565  By Application Id And Name(\"fff?1fff\", \" This ...  DATAMONGO   \n\n      average_precision                                              query  \\\nid                                                                           \n273                 0.0  collect element lost type persistedwhen I pers...   \n294                 0.0  list element nest map lose type persistedposs ...   \n316                 0.0  replica set configur properti file array index...   \n306                 0.0  null pointer except mongo factori creat U R I ...   \n315                 0.0  mongo template.find one(query) method ignor so...   \n...                 ...                                                ...   \n1513                0.0  non- object Id identifi gener event listen pop...   \n1500                0.0  runtim except queri method field declar pageab...   \n1521                0.0  aggregation.skip(...) expect skip operation(.....   \n1534                0.0  type hint miss use bulk operations.inserttempl...   \n1565                0.0  placehold manual defin queri escap properlybi ...   \n\n                                               sim_vect  \\\nid                                                        \n273   [0.04165471438570245, 0.0062813515000857975, 0...   \n294   [0.004656169952694837, 0.003842146791802098, 0...   \n316   [0.015877361706726253, 0.01741794117850124, 0....   \n306   [0.139328388401939, 0.07791721469655562, 0.076...   \n315   [0.019301637262810013, 0.008683137040430585, 0...   \n...                                                 ...   \n1513  [0.02094051257003031, 0.008308995523330046, 0....   \n1500  [0.049967780771922765, 0.03709789784508038, 0....   \n1521  [0.0005427055706525631, 0.0006117857063579902,...   \n1534  [0.0029427206023373517, 0.003729806713341573, ...   \n1565  [0.021787744319991927, 0.016431131592000003, 0...   \n\n                                             ranked_sim    fix_indexes  \nid                                                                      \n273   [(0.461878511109809, 280), (0.4407226823567148...           [-1]  \n294   [(0.4082560437195211, 223), (0.190573311929165...           [-1]  \n316   [(0.6395658244296727, 9), (0.6128107299633535,...  [13, -1, 173]  \n306   [(0.33340225199883733, 213), (0.31281607225202...      [172, 41]  \n315   [(0.37892458558636866, 154), (0.31702619472430...      [192, 39]  \n...                                                 ...            ...  \n1513  [(0.5452445243981746, 276), (0.508535572013213...      [192, 39]  \n1500  [(0.39461699778714115, 153), (0.37223329395925...      [-1, 153]  \n1521  [(0.21588024001276934, 116), (0.19165743340941...   [-1, -1, -1]  \n1534  [(0.2538486663666388, 165), (0.214918240035956...       [-1, -1]  \n1565  [(0.3817462408062211, 276), (0.360033297890771...      [332, -1]  \n\n[271 rows x 11 columns]",
      "text/html": "<div>\n<style scoped>\n    .dataframe tbody tr th:only-of-type {\n        vertical-align: middle;\n    }\n\n    .dataframe tbody tr th {\n        vertical-align: top;\n    }\n\n    .dataframe thead th {\n        text-align: right;\n    }\n</style>\n<table border=\"1\" class=\"dataframe\">\n  <thead>\n    <tr style=\"text-align: right;\">\n      <th></th>\n      <th>fix</th>\n      <th>text</th>\n      <th>fixdate</th>\n      <th>summary</th>\n      <th>description</th>\n      <th>project</th>\n      <th>average_precision</th>\n      <th>query</th>\n      <th>sim_vect</th>\n      <th>ranked_sim</th>\n      <th>fix_indexes</th>\n    </tr>\n    <tr>\n      <th>id</th>\n      <th></th>\n      <th></th>\n      <th></th>\n      <th></th>\n      <th></th>\n      <th></th>\n      <th></th>\n      <th></th>\n      <th></th>\n      <th></th>\n      <th></th>\n    </tr>\n  </thead>\n  <tbody>\n    <tr>\n      <th>273</th>\n      <td>[org.springframework.data.mongodb.core.convert...</td>\n      <td>NaN</td>\n      <td>2011-10-11 04:25:21</td>\n      <td>Collection elements seem to lost their type wh...</td>\n      <td>When  I persist a list of objects they do not ...</td>\n      <td>DATAMONGO</td>\n      <td>0.0</td>\n      <td>collect element lost type persistedwhen I pers...</td>\n      <td>[0.04165471438570245, 0.0062813515000857975, 0...</td>\n      <td>[(0.461878511109809, 280), (0.4407226823567148...</td>\n      <td>[-1]</td>\n    </tr>\n    <tr>\n      <th>294</th>\n      <td>[org.springframework.data.mongodb.core.convert...</td>\n      <td>NaN</td>\n      <td>2011-10-13 09:05:20</td>\n      <td>List elements nested in  Map lose their type w...</td>\n      <td>Possibly related to  D A T A M O N G O-273, ob...</td>\n      <td>DATAMONGO</td>\n      <td>0.0</td>\n      <td>list element nest map lose type persistedposs ...</td>\n      <td>[0.004656169952694837, 0.003842146791802098, 0...</td>\n      <td>[(0.4082560437195211, 223), (0.190573311929165...</td>\n      <td>[-1]</td>\n    </tr>\n    <tr>\n      <th>316</th>\n      <td>[org.springframework.data.mongodb.config.mongo...</td>\n      <td>NaN</td>\n      <td>2011-11-14 13:38:08</td>\n      <td>Replica  Set configuration via properties file...</td>\n      <td>Mongo  Replica Set configuration via propertie...</td>\n      <td>DATAMONGO</td>\n      <td>0.0</td>\n      <td>replica set configur properti file array index...</td>\n      <td>[0.015877361706726253, 0.01741794117850124, 0....</td>\n      <td>[(0.6395658244296727, 9), (0.6128107299633535,...</td>\n      <td>[13, -1, 173]</td>\n    </tr>\n    <tr>\n      <th>306</th>\n      <td>[org.springframework.data.mongodb.config.mongo...</td>\n      <td>NaN</td>\n      <td>2011-11-14 19:47:51</td>\n      <td>Null Pointer Exception if mongo factory create...</td>\n      <td>Configuring mongo data factory with a  U R I t...</td>\n      <td>DATAMONGO</td>\n      <td>0.0</td>\n      <td>null pointer except mongo factori creat U R I ...</td>\n      <td>[0.139328388401939, 0.07791721469655562, 0.076...</td>\n      <td>[(0.33340225199883733, 213), (0.31281607225202...</td>\n      <td>[172, 41]</td>\n    </tr>\n    <tr>\n      <th>315</th>\n      <td>[org.springframework.data.mongodb.core.mongote...</td>\n      <td>NaN</td>\n      <td>2011-11-14 20:30:06</td>\n      <td>Mongo Template.find One(query) methods ignore ...</td>\n      <td>Query query = query(where(\"type\").is(\"ad\"));nq...</td>\n      <td>DATAMONGO</td>\n      <td>0.0</td>\n      <td>mongo template.find one(query) method ignor so...</td>\n      <td>[0.019301637262810013, 0.008683137040430585, 0...</td>\n      <td>[(0.37892458558636866, 154), (0.31702619472430...</td>\n      <td>[192, 39]</td>\n    </tr>\n    <tr>\n      <th>...</th>\n      <td>...</td>\n      <td>...</td>\n      <td>...</td>\n      <td>...</td>\n      <td>...</td>\n      <td>...</td>\n      <td>...</td>\n      <td>...</td>\n      <td>...</td>\n      <td>...</td>\n      <td>...</td>\n    </tr>\n    <tr>\n      <th>1513</th>\n      <td>[org.springframework.data.mongodb.core.mongote...</td>\n      <td>NaN</td>\n      <td>2016-11-03 08:16:02</td>\n      <td>Non- Object Id identifiers generated by event ...</td>\n      <td>We have observed issues when persisting multip...</td>\n      <td>DATAMONGO</td>\n      <td>0.0</td>\n      <td>non- object Id identifi gener event listen pop...</td>\n      <td>[0.02094051257003031, 0.008308995523330046, 0....</td>\n      <td>[(0.5452445243981746, 276), (0.508535572013213...</td>\n      <td>[192, 39]</td>\n    </tr>\n    <tr>\n      <th>1500</th>\n      <td>[org.springframework.data.mongodb.repository.q...</td>\n      <td>NaN</td>\n      <td>2016-11-03 08:37:57</td>\n      <td>Runtime Exception for query methods with field...</td>\n      <td>When  I upgrade from version 1.8.4. R E L E A ...</td>\n      <td>DATAMONGO</td>\n      <td>0.0</td>\n      <td>runtim except queri method field declar pageab...</td>\n      <td>[0.049967780771922765, 0.03709789784508038, 0....</td>\n      <td>[(0.39461699778714115, 153), (0.37223329395925...</td>\n      <td>[-1, 153]</td>\n    </tr>\n    <tr>\n      <th>1521</th>\n      <td>[org.springframework.data.mongodb.core.aggrega...</td>\n      <td>NaN</td>\n      <td>2016-11-03 14:05:28</td>\n      <td>Aggregation.skip(...) expects int but new  Ski...</td>\n      <td>Currently the class  Skip Operation takes an l...</td>\n      <td>DATAMONGO</td>\n      <td>0.0</td>\n      <td>aggregation.skip(...) expect skip operation(.....</td>\n      <td>[0.0005427055706525631, 0.0006117857063579902,...</td>\n      <td>[(0.21588024001276934, 116), (0.19165743340941...</td>\n      <td>[-1, -1, -1]</td>\n    </tr>\n    <tr>\n      <th>1534</th>\n      <td>[org.springframework.data.mongodb.core.default...</td>\n      <td>NaN</td>\n      <td>2016-11-28 08:18:25</td>\n      <td>Type hint is missing when using  Bulk Operatio...</td>\n      <td>Template.bulk Ops( Bulk Operations. Bulk Mode....</td>\n      <td>DATAMONGO</td>\n      <td>0.0</td>\n      <td>type hint miss use bulk operations.inserttempl...</td>\n      <td>[0.0029427206023373517, 0.003729806713341573, ...</td>\n      <td>[(0.2538486663666388, 165), (0.214918240035956...</td>\n      <td>[-1, -1]</td>\n    </tr>\n    <tr>\n      <th>1565</th>\n      <td>[org.springframework.data.mongodb.repository.q...</td>\n      <td>NaN</td>\n      <td>2016-12-19 17:16:57</td>\n      <td>Placeholders in manually defined queries not e...</td>\n      <td>By Application Id And Name(\"fff?1fff\", \" This ...</td>\n      <td>DATAMONGO</td>\n      <td>0.0</td>\n      <td>placehold manual defin queri escap properlybi ...</td>\n      <td>[0.021787744319991927, 0.016431131592000003, 0...</td>\n      <td>[(0.3817462408062211, 276), (0.360033297890771...</td>\n      <td>[332, -1]</td>\n    </tr>\n  </tbody>\n</table>\n<p>271 rows × 11 columns</p>\n</div>"
     },
     "metadata": {}
    },
    {
     "output_type": "display_data",
     "data": {
      "text/plain": "id\n23     [(0.40012432265720416, 77), (0.392445486338773...\n21     [(0.27774937518312637, 312), (0.27395354629481...\n41     [(0.2857860122350136, 159), (0.222451186376427...\n45     [(0.22971289864694402, 240), (0.16960755049596...\n38     [(0.1494588486526988, 240), (0.134581438051345...\n                             ...                        \n937    [(0.23960663587204478, 176), (0.23829075819102...\n938    [(0.3944444246383264, 138), (0.205197455753854...\n953    [(0.32013982354372544, 30), (0.199188710883224...\n956    [(0.2762116172032765, 30), (0.2018946269773551...\n958    [(0.17147158598769477, 21), (0.154484488333747...\nName: ranked_sim, Length: 132, dtype: object"
     },
     "metadata": {}
    },
    {
     "output_type": "display_data",
     "data": {
      "text/plain": "                                                   fix text  \\\nid                                                            \n23   [org.springframework.data.rest.webmvc.reposito...  NaN   \n21   [org.springframework.data.rest.webmvc.reposito...  NaN   \n41   [org.springframework.data.rest.webmvc.json.rep...  NaN   \n45   [org.springframework.data.rest.webmvc.entityto...  NaN   \n38   [org.springframework.data.rest.webmvc.reposito...  NaN   \n..                                                 ...  ...   \n937  [org.springframework.data.rest.webmvc.json.dom...  NaN   \n938  [org.springframework.data.rest.webmvc.json.dom...  NaN   \n953  [org.springframework.data.rest.webmvc.json.dom...  NaN   \n956  [org.springframework.data.rest.webmvc.json.dom...  NaN   \n958  [org.springframework.data.rest.webmvc.json.dom...  NaN   \n\n                 fixdate                                            summary  \\\nid                                                                            \n23   2012-07-31 11:48:16           Searches which returns null gives  N P E   \n21   2012-07-31 11:49:25                                                      \n41   2012-09-05 06:07:58                               No update on objects   \n45   2012-09-05 06:09:20              No  I Ds in href of objects displayed   \n38   2012-09-05 06:29:43  Listing relations with  Accept:applicationx-sp...   \n..                   ...                                                ...   \n937  2016-12-06 08:49:35  Transient properties in  J S O N should be inc...   \n938  2016-12-07 17:57:17  Nested entities are replaced with new instance...   \n953  2016-12-07 17:58:13                    P U T empties nested collection   \n956  2016-12-08 09:13:14  P U T does not apply new items in nested colle...   \n958  2016-12-08 16:50:49  P U T of  Document with  List<> fails to add e...   \n\n                                           description   project  \\\nid                                                                 \n23   A search which returns null gives  Null Pointe...  DATAREST   \n21   By in href .prev and .nextn Page&lt; Loan Info...  DATAREST   \n41   When  I try to update an object, the only thin...  DATAREST   \n45   Browsing to: http:localhost:8080restsla result...  DATAREST   \n38   When loading a relation like this: nhttp:local...  DATAREST   \n..                                                 ...       ...   \n937  When using the repository domain object update...  DATAREST   \n938  When using the repository domain object update...  DATAREST   \n953  In the following scenario  Parent and  Child a...  DATAREST   \n956  In the following scenario  Parent and  Child a...  DATAREST   \n958  As demonstrated in the following project:nnhtt...  DATAREST   \n\n     average_precision                                              query  \\\nid                                                                          \n23                 0.0  search return null give N P EA search return n...   \n21                 0.0  By href .prev .nextn page&lt; loan info&gt; By...   \n41                 0.0  No updat objectswhen I updat object, think hap...   \n45                 0.0  No I Ds href object displayedbrows to: http:lo...   \n38                 0.0  list relat accept:applicationx-spring-data-com...   \n..                 ...                                                ...   \n937                0.0  transient properti J S O N includ mergewhen us...   \n938                0.0  nest entiti replac instanc instead updat mergi...   \n953                0.0  P U T empti nest collectionin follow scenario ...   \n956                0.0  P U T doe appli item nest collectionin follow ...   \n958                0.0  P U T document list<> fail add entri post hopp...   \n\n                                              sim_vect  \\\nid                                                       \n23   [0.023132469973543318, 0.01312116811644595, 0....   \n21   [0.022247483077878626, 0.0, 0.0034034813771508...   \n41   [0.028293803625791068, 0.0, 0.1069652761073853...   \n45   [0.024320433300272903, 0.0, 0.0196223391108284...   \n38   [0.015194685519929417, 0.019725218796311738, 0...   \n..                                                 ...   \n937  [0.0575014051349833, 0.013128974547781657, 0.0...   \n938  [0.05744003187044647, 0.005406276522817488, 0....   \n953  [0.001706125906207984, 0.0034123199971163565, ...   \n956  [0.0028040731233811953, 0.01331460495412598, 0...   \n958  [0.021615163811504228, 0.012401436369240503, 0...   \n\n                                            ranked_sim  \\\nid                                                       \n23   [(0.40012432265720416, 77), (0.392445486338773...   \n21   [(0.27774937518312637, 312), (0.27395354629481...   \n41   [(0.2857860122350136, 159), (0.222451186376427...   \n45   [(0.22971289864694402, 240), (0.16960755049596...   \n38   [(0.1494588486526988, 240), (0.134581438051345...   \n..                                                 ...   \n937  [(0.23960663587204478, 176), (0.23829075819102...   \n938  [(0.3944444246383264, 138), (0.205197455753854...   \n953  [(0.32013982354372544, 30), (0.199188710883224...   \n956  [(0.2762116172032765, 30), (0.2018946269773551...   \n958  [(0.17147158598769477, 21), (0.154484488333747...   \n\n                                 fix_indexes  \nid                                            \n23                                     [139]  \n21   [-1, -1, 152, -1, -1, 142, -1, 139, -1]  \n41                                      [-1]  \n45                                 [-1, 139]  \n38                                     [139]  \n..                                       ...  \n937                               [296, 168]  \n938                               [296, 168]  \n953                                    [296]  \n956                               [296, 168]  \n958                               [296, 168]  \n\n[132 rows x 11 columns]",
      "text/html": "<div>\n<style scoped>\n    .dataframe tbody tr th:only-of-type {\n        vertical-align: middle;\n    }\n\n    .dataframe tbody tr th {\n        vertical-align: top;\n    }\n\n    .dataframe thead th {\n        text-align: right;\n    }\n</style>\n<table border=\"1\" class=\"dataframe\">\n  <thead>\n    <tr style=\"text-align: right;\">\n      <th></th>\n      <th>fix</th>\n      <th>text</th>\n      <th>fixdate</th>\n      <th>summary</th>\n      <th>description</th>\n      <th>project</th>\n      <th>average_precision</th>\n      <th>query</th>\n      <th>sim_vect</th>\n      <th>ranked_sim</th>\n      <th>fix_indexes</th>\n    </tr>\n    <tr>\n      <th>id</th>\n      <th></th>\n      <th></th>\n      <th></th>\n      <th></th>\n      <th></th>\n      <th></th>\n      <th></th>\n      <th></th>\n      <th></th>\n      <th></th>\n      <th></th>\n    </tr>\n  </thead>\n  <tbody>\n    <tr>\n      <th>23</th>\n      <td>[org.springframework.data.rest.webmvc.reposito...</td>\n      <td>NaN</td>\n      <td>2012-07-31 11:48:16</td>\n      <td>Searches which returns null gives  N P E</td>\n      <td>A search which returns null gives  Null Pointe...</td>\n      <td>DATAREST</td>\n      <td>0.0</td>\n      <td>search return null give N P EA search return n...</td>\n      <td>[0.023132469973543318, 0.01312116811644595, 0....</td>\n      <td>[(0.40012432265720416, 77), (0.392445486338773...</td>\n      <td>[139]</td>\n    </tr>\n    <tr>\n      <th>21</th>\n      <td>[org.springframework.data.rest.webmvc.reposito...</td>\n      <td>NaN</td>\n      <td>2012-07-31 11:49:25</td>\n      <td></td>\n      <td>By in href .prev and .nextn Page&amp;lt; Loan Info...</td>\n      <td>DATAREST</td>\n      <td>0.0</td>\n      <td>By href .prev .nextn page&amp;lt; loan info&amp;gt; By...</td>\n      <td>[0.022247483077878626, 0.0, 0.0034034813771508...</td>\n      <td>[(0.27774937518312637, 312), (0.27395354629481...</td>\n      <td>[-1, -1, 152, -1, -1, 142, -1, 139, -1]</td>\n    </tr>\n    <tr>\n      <th>41</th>\n      <td>[org.springframework.data.rest.webmvc.json.rep...</td>\n      <td>NaN</td>\n      <td>2012-09-05 06:07:58</td>\n      <td>No update on objects</td>\n      <td>When  I try to update an object, the only thin...</td>\n      <td>DATAREST</td>\n      <td>0.0</td>\n      <td>No updat objectswhen I updat object, think hap...</td>\n      <td>[0.028293803625791068, 0.0, 0.1069652761073853...</td>\n      <td>[(0.2857860122350136, 159), (0.222451186376427...</td>\n      <td>[-1]</td>\n    </tr>\n    <tr>\n      <th>45</th>\n      <td>[org.springframework.data.rest.webmvc.entityto...</td>\n      <td>NaN</td>\n      <td>2012-09-05 06:09:20</td>\n      <td>No  I Ds in href of objects displayed</td>\n      <td>Browsing to: http:localhost:8080restsla result...</td>\n      <td>DATAREST</td>\n      <td>0.0</td>\n      <td>No I Ds href object displayedbrows to: http:lo...</td>\n      <td>[0.024320433300272903, 0.0, 0.0196223391108284...</td>\n      <td>[(0.22971289864694402, 240), (0.16960755049596...</td>\n      <td>[-1, 139]</td>\n    </tr>\n    <tr>\n      <th>38</th>\n      <td>[org.springframework.data.rest.webmvc.reposito...</td>\n      <td>NaN</td>\n      <td>2012-09-05 06:29:43</td>\n      <td>Listing relations with  Accept:applicationx-sp...</td>\n      <td>When loading a relation like this: nhttp:local...</td>\n      <td>DATAREST</td>\n      <td>0.0</td>\n      <td>list relat accept:applicationx-spring-data-com...</td>\n      <td>[0.015194685519929417, 0.019725218796311738, 0...</td>\n      <td>[(0.1494588486526988, 240), (0.134581438051345...</td>\n      <td>[139]</td>\n    </tr>\n    <tr>\n      <th>...</th>\n      <td>...</td>\n      <td>...</td>\n      <td>...</td>\n      <td>...</td>\n      <td>...</td>\n      <td>...</td>\n      <td>...</td>\n      <td>...</td>\n      <td>...</td>\n      <td>...</td>\n      <td>...</td>\n    </tr>\n    <tr>\n      <th>937</th>\n      <td>[org.springframework.data.rest.webmvc.json.dom...</td>\n      <td>NaN</td>\n      <td>2016-12-06 08:49:35</td>\n      <td>Transient properties in  J S O N should be inc...</td>\n      <td>When using the repository domain object update...</td>\n      <td>DATAREST</td>\n      <td>0.0</td>\n      <td>transient properti J S O N includ mergewhen us...</td>\n      <td>[0.0575014051349833, 0.013128974547781657, 0.0...</td>\n      <td>[(0.23960663587204478, 176), (0.23829075819102...</td>\n      <td>[296, 168]</td>\n    </tr>\n    <tr>\n      <th>938</th>\n      <td>[org.springframework.data.rest.webmvc.json.dom...</td>\n      <td>NaN</td>\n      <td>2016-12-07 17:57:17</td>\n      <td>Nested entities are replaced with new instance...</td>\n      <td>When using the repository domain object update...</td>\n      <td>DATAREST</td>\n      <td>0.0</td>\n      <td>nest entiti replac instanc instead updat mergi...</td>\n      <td>[0.05744003187044647, 0.005406276522817488, 0....</td>\n      <td>[(0.3944444246383264, 138), (0.205197455753854...</td>\n      <td>[296, 168]</td>\n    </tr>\n    <tr>\n      <th>953</th>\n      <td>[org.springframework.data.rest.webmvc.json.dom...</td>\n      <td>NaN</td>\n      <td>2016-12-07 17:58:13</td>\n      <td>P U T empties nested collection</td>\n      <td>In the following scenario  Parent and  Child a...</td>\n      <td>DATAREST</td>\n      <td>0.0</td>\n      <td>P U T empti nest collectionin follow scenario ...</td>\n      <td>[0.001706125906207984, 0.0034123199971163565, ...</td>\n      <td>[(0.32013982354372544, 30), (0.199188710883224...</td>\n      <td>[296]</td>\n    </tr>\n    <tr>\n      <th>956</th>\n      <td>[org.springframework.data.rest.webmvc.json.dom...</td>\n      <td>NaN</td>\n      <td>2016-12-08 09:13:14</td>\n      <td>P U T does not apply new items in nested colle...</td>\n      <td>In the following scenario  Parent and  Child a...</td>\n      <td>DATAREST</td>\n      <td>0.0</td>\n      <td>P U T doe appli item nest collectionin follow ...</td>\n      <td>[0.0028040731233811953, 0.01331460495412598, 0...</td>\n      <td>[(0.2762116172032765, 30), (0.2018946269773551...</td>\n      <td>[296, 168]</td>\n    </tr>\n    <tr>\n      <th>958</th>\n      <td>[org.springframework.data.rest.webmvc.json.dom...</td>\n      <td>NaN</td>\n      <td>2016-12-08 16:50:49</td>\n      <td>P U T of  Document with  List&lt;&gt; fails to add e...</td>\n      <td>As demonstrated in the following project:nnhtt...</td>\n      <td>DATAREST</td>\n      <td>0.0</td>\n      <td>P U T document list&lt;&gt; fail add entri post hopp...</td>\n      <td>[0.021615163811504228, 0.012401436369240503, 0...</td>\n      <td>[(0.17147158598769477, 21), (0.154484488333747...</td>\n      <td>[296, 168]</td>\n    </tr>\n  </tbody>\n</table>\n<p>132 rows × 11 columns</p>\n</div>"
     },
     "metadata": {}
    },
    {
     "output_type": "display_data",
     "data": {
      "text/plain": "id\n26     [(0.4061213152888272, 55), (0.3514795315986699...\n15     [(0.4553004848681104, 274), (0.454024879614414...\n37     [(0.7751922995084781, 51), (0.6104279429465098...\n46     [(0.3360145692324042, 81), (0.2873490778330751...\n13     [(0.2810151111911879, 75), (0.2546878789443092...\n66     [(0.5668062776399034, 50), (0.5504714234482452...\n83     [(0.44743036556028093, 292), (0.31946200651416...\n93     [(0.49596435822311147, 370), (0.43658542417964...\n100    [(0.35909768060453995, 40), (0.353175181592752...\n102    [(0.4919056797017911, 94), (0.4547006443370565...\n96     [(0.36097088810622824, 3), (0.3379409376304682...\n109    [(0.2661289383667827, 467), (0.212970746018278...\n50     [(0.2731339362203755, 285), (0.261589650090780...\n134    [(0.3262322520742047, 94), (0.3250442237089695...\n121    [(0.5979621449106288, 323), (0.472968255981909...\n114    [(0.2698300113950828, 189), (0.253172216128155...\n122    [(0.5814029275820537, 241), (0.574602807510365...\n97     [(0.34298041415996494, 402), (0.32036883130153...\n151    [(0.5045044324572212, 467), (0.378368972178382...\n123    [(0.7127686815478459, 239), (0.665802603292193...\n184    [(0.7194332394265134, 256), (0.589562341496321...\n192    [(0.4095171132375127, 6), (0.40016790089074955...\n196    [(0.3107790968494297, 320), (0.292540252352396...\n186    [(0.365833826296039, 63), (0.3569621591738242,...\n198    [(0.49276105301860607, 305), (0.47276652415410...\n215    [(0.4422080084352885, 74), (0.3893058199146062...\n217    [(0.610451185724267, 131), (0.5711981077931857...\n213    [(0.680413013746917, 305), (0.6747757376529686...\n189    [(0.4841772579247291, 323), (0.436147885964534...\n188    [(0.30581303021519496, 534), (0.28665568859469...\n234    [(0.5572891898347788, 455), (0.526398105230763...\n237    [(0.14457427776550033, 136), (0.14013998643917...\n233    [(0.32416472466372986, 24), (0.322690901927069...\n229    [(0.25213830726925507, 72), (0.237428170458650...\n119    [(0.3121720463144521, 37), (0.2863601461113679...\n179    [(0.5546754600209034, 239), (0.443663370828577...\n240    [(0.6317269113219984, 407), (0.375158155501624...\n246    [(0.3496985299750136, 407), (0.237660629874755...\n238    [(0.551681554639648, 88), (0.5081373673363572,...\n128    [(0.6741668473734274, 55), (0.6591937912352688...\n101    [(0.49940767390450913, 187), (0.48510372869521...\n271    [(0.362267685360283, 150), (0.3083435795790588...\n277    [(0.306151971155758, 140), (0.2990955606052125...\n278    [(0.33962478870803814, 148), (0.22767013857201...\n177    [(0.5069818071223302, 27), (0.3266684217043700...\n291    [(0.4248722515989525, 6), (0.3997800035717499,...\n290    [(0.5073721280608271, 65), (0.4495565239455408...\n295    [(0.25537309050069124, 281), (0.19775225876910...\n317    [(0.24845581829045704, 161), (0.24843653703777...\n314    [(0.5982988355109337, 208), (0.310923792816841...\n304    [(0.3674228954448284, 447), (0.352347614708895...\n321    [(0.5551525129344334, 514), (0.450523224699025...\n335    [(0.3138198558030513, 46), (0.2737595714725139...\nName: ranked_sim, dtype: object"
     },
     "metadata": {}
    },
    {
     "output_type": "display_data",
     "data": {
      "text/plain": "                                                   fix text  \\\nid                                                            \n26   [org.springframework.ldap.ldaptemplatetest.jav...  NaN   \n15   [org.springframework.ldap.support.dircontextad...  NaN   \n37   [org.springframework.ldap.control.abstractrequ...  NaN   \n46   [org.springframework.ldap.core.dircontextadapt...  NaN   \n13   [org.springframework.ldap.core.dircontextadapt...  NaN   \n66   [org.springframework.ldap.control.pagedresults...  NaN   \n83   [org.springframework.ldap.core.support.abstrac...  NaN   \n93   [org.springframework.ldap.core.simple.simpleld...  NaN   \n100  [org.springframework.ldap.ldapreferralexceptio...  NaN   \n102  [org.springframework.ldap.core.ldaptemplate.java]  NaN   \n96   [org.springframework.ldap.core.dircontextadapt...  NaN   \n109  [org.springframework.ldap.support.ldaputils.ja...  NaN   \n50   [org.springframework.ldap.support.ldaputils.ja...  NaN   \n134  [org.springframework.ldap.core.support.default...  NaN   \n121  [org.springframework.ldap.pool.validation.defa...  NaN   \n114  [org.springframework.ldap.control.requestcontr...  NaN   \n122  [org.springframework.transaction.compensating....  NaN   \n97   [org.springframework.ldap.core.distinguishedna...  NaN   \n151  [org.springframework.ldap.core.distinguishedna...  NaN   \n123  [org.springframework.ldap.transaction.compensa...  NaN   \n184  [org.springframework.transaction.compensating....  NaN   \n192  [org.springframework.ldap.ldaptemplateauthenti...  NaN   \n196  [org.springframework.ldap.core.support.default...  NaN   \n186  [org.springframework.ldap.ldaptemplateauthenti...  NaN   \n198  [org.springframework.ldap.filter.presentfilter...  NaN   \n215  [org.springframework.ldap.core.dircontextadapt...  NaN   \n217    [org.springframework.ldap.filter.orfilter.java]  NaN   \n213  [org.springframework.ldap.filter.notpresentfil...  NaN   \n189  [org.springframework.ldap.pool.validation.defa...  NaN   \n188  [org.springframework.ldap.core.distinguishedna...  NaN   \n234  [org.springframework.ldap.support.ad.listattri...  NaN   \n237  [org.springframework.ldap.core.distinguishedna...  NaN   \n233  [org.springframework.ldap.ldif.defaultattribut...  NaN   \n229  [org.springframework.ldap.control.virtuallistv...  NaN   \n119  [org.springframework.ldap.ldaptemplatemodifyit...  NaN   \n179  [org.springframework.ldap.transaction.compensa...  NaN   \n240  [org.springframework.ldap.odm.tools.schemaread...  NaN   \n246  [org.springframework.ldap.itest.ad.schematojav...  NaN   \n238  [org.springframework.ldap.core.collectingnamec...  NaN   \n128  [org.springframework.ldap.control.pagedresults...  NaN   \n101  [org.springframework.ldap.pool.factory.pooling...  NaN   \n271  [org.springframework.ldap.odm.core.impl.defaul...  NaN   \n277  [org.springframework.ldap.odm.core.impl.defaul...  NaN   \n278  [org.springframework.ldap.odm.core.impl.defaul...  NaN   \n177  [org.springframework.ldap.support.ldaputils.ja...  NaN   \n291  [org.springframework.ldap.core.ldaptemplate.ja...  NaN   \n290  [org.springframework.ldap.core.ldaptemplate.java]  NaN   \n295  [org.springframework.ldap.odm.core.impl.defaul...  NaN   \n317  [org.springframework.ldap.config.contextsource...  NaN   \n314  [org.springframework.ldap.repository.query.par...  NaN   \n304  [org.springframework.ldap.core.dircontextadapt...  NaN   \n321  [org.springframework.ldap.transaction.compensa...  NaN   \n335  [org.springframework.ldap.config.ldapnamespace...  NaN   \n\n                 fixdate                                            summary  \\\nid                                                                            \n26   2007-01-10 04:17:20  Paged Results Request Control failing when use...   \n15   2007-01-10 04:37:26               Dir Context Adapter.set Attribute()    \n37   2007-02-06 04:51:17  Controls[] java.lang. Null Pointer Exception w...   \n46   2007-04-20 04:52:07  Dir Context Adapter.get Modificatio Items() do...   \n13   2007-04-20 04:55:53  Dir Context Adapter.get Modification Items() r...   \n66   2007-05-01 05:43:29  Null Pointer Exception when getting  Paged Res...   \n83   2007-10-18 06:58:23  Abstract Connection Source should ignore  S U ...   \n93   2007-12-07 04:29:54  Simple Ldap Template search method delegates t...   \n100  2008-04-20 00:39:47  Ldap Utils#convert Ldap Exception fails to con...   \n102  2008-06-17 19:27:29  Error in javadoc  Ldap Template search( Search...   \n96   2008-06-18 00:32:10  The order of a multi-valued attribute is not p...   \n109  2008-07-01 06:46:10  Distinguished Name.parse() does not correctly ...   \n50   2008-07-01 06:47:25  Bad Ldap Grammar Exception when a group or pri...   \n134  2008-10-11 02:54:26       Name Not Found is silently ignored in search   \n121  2008-10-20 21:39:29  Default Dir Context Validator uses  O N E L E ...   \n114  2008-10-20 21:48:22  Paged results doesn&apos;t work when using a s...   \n122  2008-10-21 20:24:57  Illegal State Exception:  Cannot deactivate tr...   \n97   2008-10-21 23:59:46  Escaping of weird characters in  Distinguished...   \n151  2008-11-13 00:39:09  Distinguished Name violates the equals()hash C...   \n123  2009-01-02 20:32:23  Class Cast Exception: org.springframework.ldap...   \n184  2009-07-06 17:19:18  Default Compensating Transaction Operation Man...   \n192  2009-12-17 23:41:36  Add authentication methods that provide authen...   \n196  2009-12-19 22:44:46  Default Dir Context Factory uses  Java5  Illeg...   \n186  2009-12-21 08:23:18  Enhance or create  Ldap Template.authenticate ...   \n198  2010-01-24 17:19:51        Not Present Filter does not define equals()   \n215  2010-09-25 14:26:36  Dir Context Adapter.get Object Attribute throw...   \n217  2010-10-16 01:37:26  Class-level  Java Doc for  Or Filter uses  And...   \n213  2010-10-17 15:17:08  Javadoc for  Present Filter and  Not Present F...   \n189  2010-10-17 15:46:33  The constructor  Default Dir Context Validator...   \n188  2010-11-15 14:55:12  Active  Directory --  Dir Context Adapter.add ...   \n234  2013-08-01 02:13:44           Rollback intermittently causes data loss   \n237  2013-08-12 02:03:57  Spring  L D A P does not correctly parse  D N ...   \n233  2013-08-12 02:49:08  Ldif Parser goes into infinite loop when passe...   \n229  2013-08-12 03:50:53  Default  D N parser does not handle hashsharp ...   \n119  2013-08-14 02:26:55  Attributes produces invalid  Schema Violation ...   \n179  2013-08-14 03:22:11  Data Source connections not being released whe...   \n240  2013-08-15 06:08:52     Schema To Java fails to generate  Java classes   \n246  2013-08-16 02:45:16  Schema To Java doesn&apos;t handle dashes in a...   \n238  2013-08-28 08:13:38  Context Mapper map From Context does not throw...   \n128  2013-09-10 06:06:35                                                      \n101  2013-09-11 02:03:53                                                      \n271  2013-10-21 23:56:33  O D M: nullable attributes are not removed fro...   \n277  2013-11-06 03:42:57  O D M needs to use  D N  Attribute index when ...   \n278  2013-11-07 06:05:25      Static fields should be disregarded by  O D M   \n177  2013-11-18 03:42:47  Ldap Utils convert Ldap Exception fails to con...   \n291  2014-02-11 13:16:37  Template#authenticate does not throw  Empty Re...   \n290  2014-02-11 13:17:38  Ldap Template logs message at  I N F O level i...   \n295  2014-02-14 12:16:37  Default Object Directory Mapper#is At Least30(...   \n317  2015-04-24 11:49:22                                                      \n314  2015-04-24 13:15:56                                      Entity(base=)   \n304  2015-04-27 09:26:55  Null Pointer Exception  Dir Context Adapter.co...   \n321  2015-04-28 11:28:18  Illegal State Exception:  No value for key  Po...   \n335  2015-09-02 14:01:08  No Class Def Found Error:  Repository Configur...   \n\n                                           description project  \\\nid                                                               \n26   Bug raised in response to following post on th...    LDAP   \n15   Dir Context Adapter.set Attribute Value( Strin...    LDAP   \n37   Control[] request Controls = ldap Context.get ...    LDAP   \n46   Dir Context Adapter.get Modication Items() cal...    LDAP   \n13   Hello,nn We have a  Person.java pojo containin...    LDAP   \n66   The problem is similar to  L D A P-37, but for...    LDAP   \n83   If  I pass in a base environment to  Abstract ...    LDAP   \n93   The following method on  Simple Ldap Template ...    LDAP   \n100  Ldap Utils#convert Ldap Exception checks wheth...    LDAP   \n102  Javadoc of org.springframework.ldap.core. Ldap...    LDAP   \n96   As an example, consider two values of attribut...    LDAP   \n109                                              None'    LDAP   \n50   Hi  Guys,n Here is the relevant issue that we ...    LDAP   \n134  If a search results in a  Name Not Found Excep...    LDAP   \n121  I found a small issue with org.springframework...    LDAP   \n114  Paged results requires holding on to a single ...    LDAP   \n122  Our project is using  Spring-2.0.7 and  Spring...    LDAP   \n97   I can create a  Distinguished Name that contai...    LDAP   \n151  The javadoc for  Object#hash Code states that ...    LDAP   \n123  Our project is using  Spring-2.0.7 and spring-...    LDAP   \n184  When using the spring-ldap 1.3 release source ...    LDAP   \n192  I realize that the  Authentication Exception i...    LDAP   \n196  Default Dir Object Factory calls the  Illegal ...    LDAP   \n186  The ldaptemplate.authenticate method swallows ...    LDAP   \n198  The class  Not Present Filter does not define ...    LDAP   \n215  Dir Context Adapter.get Object Attribute metho...    LDAP   \n217  The class-level  Java Doc for o.s.l.filter. Or...    LDAP   \n213  The example in the  Javadoc for  Not Present F...    LDAP   \n189  Call to  Search Controls.set Search Scope(int)...    LDAP   \n188  I&amp;apos;m using spring-ldap against an  Act...    LDAP   \n234  While creating a new user and adding that user...    LDAP   \n237  Distinguished Name.parse() is confused upon re...    LDAP   \n233  Ldif Parser has a corner case in get Record(),...    LDAP   \n229  Dn Parser Impl incorrectly terminates  D N par...    LDAP   \n119  This is most likely not related to any environ...    LDAP   \n179  When using  J D B C transaction integration in...    LDAP   \n240  I have a  L D A P schema with a structure like...    LDAP   \n246  There are many attribute names in  Active  Dir...    LDAP   \n238  Per the 1.3.1 source in the trunk:nnnnnnn Cont...    LDAP   \n128  The  Paged Results Request Control class gas a...    LDAP   \n101  If a search fails due to a connection fault, t...    LDAP   \n271  Hi.  I&amp;apos;ve faced with a problem using ...    LDAP   \n277  If the same attribute is part of the  D N twic...    LDAP   \n278                                              None'    LDAP   \n177  Changes to  Ldap Utils were made to facilitate...    LDAP   \n291  Template#authenticate does not throw  Empty Re...    LDAP   \n290  When there is an authentication exception in t...    LDAP   \n295  I was trying to leverage  Spring  L D A P 2.0 ...    LDAP   \n317  I have tried to create ldap-context in xml, an...    LDAP   \n314  Ldap Repository query methods ignore @ Entry(b...    LDAP   \n304  My domain class has following javax.naming. Na...    LDAP   \n321  I created a  Test with spring test context:nnn...    LDAP   \n335  This seems to have been caused by changes for ...    LDAP   \n\n     average_precision                                              query  \\\nid                                                                          \n26                 0.0  page result request control fail use A dbug ra...   \n15                 0.0  dir context adapter.set attribute() dir contex...   \n37                 0.0  controls[] java.lang. null pointer except perf...   \n46                 0.0  dir context adapter.get modificatio items() do...   \n13                 0.0  dir context adapter.get modif items() return p...   \n66                 0.0  null pointer except get page result request co...   \n83                 0.0  abstract connect sourc ignor S U N_ L D A P_ P...   \n93                 0.0  simpl ldap templat search method deleg incorre...   \n100                0.0  ldap utils#convert ldap except fail convert na...   \n102                0.0  error javadoc ldap templat search( search exec...   \n96                 0.0  the order multi-valu attribut preserv modifi a...   \n109                0.0  distinguish name.parse() doe correctli handl D...   \n50                 0.0  bad ldap grammar except group princip contain ...   \n134                0.0  name not found silent ignor searchif search re...   \n121                0.0  default dir context valid use O N E L E V E L_...   \n114                0.0  page result doesn&apos;t work use singl pool c...   \n122                0.0  illeg state exception: cannot deactiv transact...   \n97                 0.0  escap weird charact distinguish name inconsist...   \n151                0.0  distinguish name violat equals()hash code() co...   \n123                0.0  class cast exception: org.springframework.ldap...   \n184                0.0  default compens transact oper manag incorrect ...   \n192                0.0  add authent method provid authent exceptioni r...   \n196                0.0  default dir context factori use java5 illeg ar...   \n186                0.0  enhanc creat ldap template.authent method exce...   \n198                0.0  not present filter doe defin equals()th class ...   \n215                0.0  dir context adapter.get object attribut java.u...   \n217                0.0  class-level java doc Or filter use and filter ...   \n213                0.0  javadoc present filter not present filter inco...   \n189                0.0  the constructor default dir context validator(...   \n188                0.0  activ directori dir context adapter.add attrib...   \n234                0.0  rollback intermitt caus data losswhil creat us...   \n237                0.0  spring L D A P doe correctli pars D N name dou...   \n233                0.0  ldif parser goe infinit loop pass non- L D I F...   \n229                0.0  default D N parser doe handl hashsharp symbol ...   \n119                0.0  attribut produc invalid schema violat except p...   \n179                0.0  data sourc connect releas L D A P connect fail...   \n240                0.0  schema To java fail gener java classesi L D A ...   \n246                0.0  schema To java doesn&apos;t handl dash attribu...   \n238                0.0  context mapper map from context doe javax.nami...   \n128                0.0  the page result request control class ga cooki...   \n101                0.0  If search fail connect fault, connect assum in...   \n271                0.0  O D M: nullabl attribut remov L D A P odm mana...   \n277                0.0  O D M need use D N attribut index popul Dn att...   \n278                0.0                  static field disregard O D mnone'   \n177                0.0  ldap util convert ldap except fail convert exc...   \n291                0.0  template#authent doe empti result data access ...   \n290                0.0  ldap templat log messag I N F O level instead ...   \n295                0.0  default object directori mapper#i At least30()...   \n317                0.0  I tri creat ldap-context xml, set attribut pro...   \n314                0.0  entity(base=)ldap repositori queri method igno...   \n304                0.0  null pointer except dir context adapter.collec...   \n321                0.0  illeg state exception: No valu key pool contex...   \n335                0.0  No class def found error: repositori configur ...   \n\n                                              sim_vect  \\\nid                                                       \n26   [0.06145402713683966, 0.24581704586681075, 0.2...   \n15   [0.1854652530964352, 0.04937123981712338, 0.11...   \n37   [0.019291160859286664, 0.3993329057400961, 0.3...   \n46   [0.07180274379191559, 0.07008009277219729, 0.0...   \n13   [0.2087238064233349, 0.1254654330806083, 0.140...   \n66   [0.03135985688024871, 0.21190551579074057, 0.1...   \n83   [0.006273278975200381, 0.0051867408464039075, ...   \n93   [0.12515251065848731, 0.22752990489671385, 0.3...   \n100  [0.03484231832936939, 0.024971120913666336, 0....   \n102  [0.06092819419984596, 0.26111487729701943, 0.3...   \n96   [0.15624756614912025, 0.05467973325252297, 0.1...   \n109  [0.02161956625974384, 0.014993273768412677, 0....   \n50   [0.06607955365453354, 0.08105239623022763, 0.1...   \n134  [0.02053803679581521, 0.1496520530019226, 0.17...   \n121  [0.05791685363139791, 0.17462504787707644, 0.2...   \n114  [0.02373537451199021, 0.048771527654222165, 0....   \n122  [0.02303584554551111, 0.021217147133181565, 0....   \n97   [0.12456336860516876, 0.15507078256119095, 0.2...   \n151  [0.07375872163249678, 0.03657519937455208, 0.0...   \n123  [0.03324619728092703, 0.021787803973937453, 0....   \n184  [0.008745206460699158, 0.03266158797809755, 0....   \n192  [0.006339130007794348, 0.002058684179504066, 0...   \n196  [0.03912642666041169, 0.009476557909774964, 0....   \n186  [0.008718207219090555, 0.007446904340211917, 0...   \n198  [0.02050662648257809, 0.0067010349039164935, 0...   \n215  [0.17369316973141302, 0.14902727367455812, 0.1...   \n217  [0.0270867324529955, 0.02544499507864117, 0.02...   \n213  [0.0010780923255315094, 0.004748395670623507, ...   \n189  [0.045412787051520895, 0.2102245966020983, 0.2...   \n188  [0.11631647187519799, 0.03920604164419088, 0.0...   \n234  [0.06721401630780871, 0.05361249902693302, 0.0...   \n237  [0.0055657504497558085, 0.005950490223637728, ...   \n233  [0.03135628122341403, 0.02022752082253544, 0.0...   \n229  [0.09033343747792033, 0.019306874608978106, 0....   \n119  [0.04783961564169869, 0.02898824122158015, 0.0...   \n179  [0.012922316760207398, 0.012289817947567857, 0...   \n240  [0.04611533051639929, 0.03306928627118389, 0.0...   \n246  [0.07865457304011159, 0.09309063876645683, 0.1...   \n238  [0.1338101685084945, 0.24658967408844965, 0.33...   \n128  [0.05177679713570434, 0.4427711972366622, 0.22...   \n101  [0.04841257284365731, 0.057228665152522985, 0....   \n271  [0.0660847064051823, 0.03940746369712779, 0.05...   \n277  [0.10612066705802164, 0.014624862576532267, 0....   \n278  [0.0, 0.0, 0.0, 0.011717902687470076, 0.0, 0.0...   \n177  [0.025943815275771383, 0.04087098090701199, 0....   \n291  [0.03656633027842284, 0.03070635549557217, 0.0...   \n290  [0.023484161471680726, 0.09392589746671973, 0....   \n295  [0.09477492336964154, 0.05300806344544268, 0.0...   \n317  [0.06470585498202469, 0.03734545527400021, 0.0...   \n314  [0.025169844953205907, 0.020062334207778358, 0...   \n304  [0.10189469948409317, 0.051848136755031, 0.074...   \n321  [0.077842187011632, 0.0615225982182457, 0.0738...   \n335  [0.023698736272044784, 0.07126565475984425, 0....   \n\n                                            ranked_sim  \\\nid                                                       \n26   [(0.4061213152888272, 55), (0.3514795315986699...   \n15   [(0.4553004848681104, 274), (0.454024879614414...   \n37   [(0.7751922995084781, 51), (0.6104279429465098...   \n46   [(0.3360145692324042, 81), (0.2873490778330751...   \n13   [(0.2810151111911879, 75), (0.2546878789443092...   \n66   [(0.5668062776399034, 50), (0.5504714234482452...   \n83   [(0.44743036556028093, 292), (0.31946200651416...   \n93   [(0.49596435822311147, 370), (0.43658542417964...   \n100  [(0.35909768060453995, 40), (0.353175181592752...   \n102  [(0.4919056797017911, 94), (0.4547006443370565...   \n96   [(0.36097088810622824, 3), (0.3379409376304682...   \n109  [(0.2661289383667827, 467), (0.212970746018278...   \n50   [(0.2731339362203755, 285), (0.261589650090780...   \n134  [(0.3262322520742047, 94), (0.3250442237089695...   \n121  [(0.5979621449106288, 323), (0.472968255981909...   \n114  [(0.2698300113950828, 189), (0.253172216128155...   \n122  [(0.5814029275820537, 241), (0.574602807510365...   \n97   [(0.34298041415996494, 402), (0.32036883130153...   \n151  [(0.5045044324572212, 467), (0.378368972178382...   \n123  [(0.7127686815478459, 239), (0.665802603292193...   \n184  [(0.7194332394265134, 256), (0.589562341496321...   \n192  [(0.4095171132375127, 6), (0.40016790089074955...   \n196  [(0.3107790968494297, 320), (0.292540252352396...   \n186  [(0.365833826296039, 63), (0.3569621591738242,...   \n198  [(0.49276105301860607, 305), (0.47276652415410...   \n215  [(0.4422080084352885, 74), (0.3893058199146062...   \n217  [(0.610451185724267, 131), (0.5711981077931857...   \n213  [(0.680413013746917, 305), (0.6747757376529686...   \n189  [(0.4841772579247291, 323), (0.436147885964534...   \n188  [(0.30581303021519496, 534), (0.28665568859469...   \n234  [(0.5572891898347788, 455), (0.526398105230763...   \n237  [(0.14457427776550033, 136), (0.14013998643917...   \n233  [(0.32416472466372986, 24), (0.322690901927069...   \n229  [(0.25213830726925507, 72), (0.237428170458650...   \n119  [(0.3121720463144521, 37), (0.2863601461113679...   \n179  [(0.5546754600209034, 239), (0.443663370828577...   \n240  [(0.6317269113219984, 407), (0.375158155501624...   \n246  [(0.3496985299750136, 407), (0.237660629874755...   \n238  [(0.551681554639648, 88), (0.5081373673363572,...   \n128  [(0.6741668473734274, 55), (0.6591937912352688...   \n101  [(0.49940767390450913, 187), (0.48510372869521...   \n271  [(0.362267685360283, 150), (0.3083435795790588...   \n277  [(0.306151971155758, 140), (0.2990955606052125...   \n278  [(0.33962478870803814, 148), (0.22767013857201...   \n177  [(0.5069818071223302, 27), (0.3266684217043700...   \n291  [(0.4248722515989525, 6), (0.3997800035717499,...   \n290  [(0.5073721280608271, 65), (0.4495565239455408...   \n295  [(0.25537309050069124, 281), (0.19775225876910...   \n317  [(0.24845581829045704, 161), (0.24843653703777...   \n314  [(0.5982988355109337, 208), (0.310923792816841...   \n304  [(0.3674228954448284, 447), (0.352347614708895...   \n321  [(0.5551525129344334, 514), (0.450523224699025...   \n335  [(0.3138198558030513, 46), (0.2737595714725139...   \n\n                                           fix_indexes  \nid                                                      \n26                                            [-1, 88]  \n15                                            [-1, -1]  \n37                                            [-1, 51]  \n46                                           [74, 274]  \n13                                           [74, 274]  \n66                                            [56, -1]  \n83                                           [96, 292]  \n93                                               [371]  \n100                                          [21, 222]  \n102                                               [88]  \n96                                           [274, 74]  \n109                   [222, 274, 107, 84, 276, 74, 78]  \n50                    [222, 274, 107, 84, 276, 74, 78]  \n134                    [290, 107, 74, 75, -1, 283, 88]  \n121                                              [178]  \n114                                     [269, 177, 51]  \n122                                    [252, 359, 242]  \n97                                               [276]  \n151                                          [276, 87]  \n123                                         [359, 239]  \n184                                              [256]  \n192                                  [-1, 88, 85, 222]  \n196                                              [107]  \n186                                  [-1, 88, 85, 222]  \n198  [137, 300, 135, 131, 126, 304, 134, 305, 302, ...  \n215                                      [74, 274, 75]  \n217                                              [136]  \n213                          [135, 137, 131, 134, 136]  \n189                                         [323, 178]  \n188                                  [78, -1, 276, 87]  \n234  [-1, -1, -1, -1, -1, 351, 229, -1, -1, -1, -1,...  \n237                                          [78, 276]  \n233                                    [398, 400, 389]  \n229                                         [458, 276]  \n119                                           [-1, 74]  \n179                                         [240, 239]  \n240                                         [407, 417]  \n246                               [535, 405, 417, 404]  \n238                         [66, 69, 272, 70, 271, 91]  \n128                                           [55, 54]  \n101                          [177, 175, 320, 555, 168]  \n271                                         [150, 527]  \n277                                              [150]  \n278                                    [150, 153, 148]  \n177                                 [222, 29, 345, 36]  \n291                                          [88, 283]  \n290                                               [88]  \n295                                         [150, 310]  \n317                                          [43, 264]  \n314                                         [339, 208]  \n304                                          [74, 274]  \n321                                              [241]  \n335                                               [46]  ",
      "text/html": "<div>\n<style scoped>\n    .dataframe tbody tr th:only-of-type {\n        vertical-align: middle;\n    }\n\n    .dataframe tbody tr th {\n        vertical-align: top;\n    }\n\n    .dataframe thead th {\n        text-align: right;\n    }\n</style>\n<table border=\"1\" class=\"dataframe\">\n  <thead>\n    <tr style=\"text-align: right;\">\n      <th></th>\n      <th>fix</th>\n      <th>text</th>\n      <th>fixdate</th>\n      <th>summary</th>\n      <th>description</th>\n      <th>project</th>\n      <th>average_precision</th>\n      <th>query</th>\n      <th>sim_vect</th>\n      <th>ranked_sim</th>\n      <th>fix_indexes</th>\n    </tr>\n    <tr>\n      <th>id</th>\n      <th></th>\n      <th></th>\n      <th></th>\n      <th></th>\n      <th></th>\n      <th></th>\n      <th></th>\n      <th></th>\n      <th></th>\n      <th></th>\n      <th></th>\n    </tr>\n  </thead>\n  <tbody>\n    <tr>\n      <th>26</th>\n      <td>[org.springframework.ldap.ldaptemplatetest.jav...</td>\n      <td>NaN</td>\n      <td>2007-01-10 04:17:20</td>\n      <td>Paged Results Request Control failing when use...</td>\n      <td>Bug raised in response to following post on th...</td>\n      <td>LDAP</td>\n      <td>0.0</td>\n      <td>page result request control fail use A dbug ra...</td>\n      <td>[0.06145402713683966, 0.24581704586681075, 0.2...</td>\n      <td>[(0.4061213152888272, 55), (0.3514795315986699...</td>\n      <td>[-1, 88]</td>\n    </tr>\n    <tr>\n      <th>15</th>\n      <td>[org.springframework.ldap.support.dircontextad...</td>\n      <td>NaN</td>\n      <td>2007-01-10 04:37:26</td>\n      <td>Dir Context Adapter.set Attribute()</td>\n      <td>Dir Context Adapter.set Attribute Value( Strin...</td>\n      <td>LDAP</td>\n      <td>0.0</td>\n      <td>dir context adapter.set attribute() dir contex...</td>\n      <td>[0.1854652530964352, 0.04937123981712338, 0.11...</td>\n      <td>[(0.4553004848681104, 274), (0.454024879614414...</td>\n      <td>[-1, -1]</td>\n    </tr>\n    <tr>\n      <th>37</th>\n      <td>[org.springframework.ldap.control.abstractrequ...</td>\n      <td>NaN</td>\n      <td>2007-02-06 04:51:17</td>\n      <td>Controls[] java.lang. Null Pointer Exception w...</td>\n      <td>Control[] request Controls = ldap Context.get ...</td>\n      <td>LDAP</td>\n      <td>0.0</td>\n      <td>controls[] java.lang. null pointer except perf...</td>\n      <td>[0.019291160859286664, 0.3993329057400961, 0.3...</td>\n      <td>[(0.7751922995084781, 51), (0.6104279429465098...</td>\n      <td>[-1, 51]</td>\n    </tr>\n    <tr>\n      <th>46</th>\n      <td>[org.springframework.ldap.core.dircontextadapt...</td>\n      <td>NaN</td>\n      <td>2007-04-20 04:52:07</td>\n      <td>Dir Context Adapter.get Modificatio Items() do...</td>\n      <td>Dir Context Adapter.get Modication Items() cal...</td>\n      <td>LDAP</td>\n      <td>0.0</td>\n      <td>dir context adapter.get modificatio items() do...</td>\n      <td>[0.07180274379191559, 0.07008009277219729, 0.0...</td>\n      <td>[(0.3360145692324042, 81), (0.2873490778330751...</td>\n      <td>[74, 274]</td>\n    </tr>\n    <tr>\n      <th>13</th>\n      <td>[org.springframework.ldap.core.dircontextadapt...</td>\n      <td>NaN</td>\n      <td>2007-04-20 04:55:53</td>\n      <td>Dir Context Adapter.get Modification Items() r...</td>\n      <td>Hello,nn We have a  Person.java pojo containin...</td>\n      <td>LDAP</td>\n      <td>0.0</td>\n      <td>dir context adapter.get modif items() return p...</td>\n      <td>[0.2087238064233349, 0.1254654330806083, 0.140...</td>\n      <td>[(0.2810151111911879, 75), (0.2546878789443092...</td>\n      <td>[74, 274]</td>\n    </tr>\n    <tr>\n      <th>66</th>\n      <td>[org.springframework.ldap.control.pagedresults...</td>\n      <td>NaN</td>\n      <td>2007-05-01 05:43:29</td>\n      <td>Null Pointer Exception when getting  Paged Res...</td>\n      <td>The problem is similar to  L D A P-37, but for...</td>\n      <td>LDAP</td>\n      <td>0.0</td>\n      <td>null pointer except get page result request co...</td>\n      <td>[0.03135985688024871, 0.21190551579074057, 0.1...</td>\n      <td>[(0.5668062776399034, 50), (0.5504714234482452...</td>\n      <td>[56, -1]</td>\n    </tr>\n    <tr>\n      <th>83</th>\n      <td>[org.springframework.ldap.core.support.abstrac...</td>\n      <td>NaN</td>\n      <td>2007-10-18 06:58:23</td>\n      <td>Abstract Connection Source should ignore  S U ...</td>\n      <td>If  I pass in a base environment to  Abstract ...</td>\n      <td>LDAP</td>\n      <td>0.0</td>\n      <td>abstract connect sourc ignor S U N_ L D A P_ P...</td>\n      <td>[0.006273278975200381, 0.0051867408464039075, ...</td>\n      <td>[(0.44743036556028093, 292), (0.31946200651416...</td>\n      <td>[96, 292]</td>\n    </tr>\n    <tr>\n      <th>93</th>\n      <td>[org.springframework.ldap.core.simple.simpleld...</td>\n      <td>NaN</td>\n      <td>2007-12-07 04:29:54</td>\n      <td>Simple Ldap Template search method delegates t...</td>\n      <td>The following method on  Simple Ldap Template ...</td>\n      <td>LDAP</td>\n      <td>0.0</td>\n      <td>simpl ldap templat search method deleg incorre...</td>\n      <td>[0.12515251065848731, 0.22752990489671385, 0.3...</td>\n      <td>[(0.49596435822311147, 370), (0.43658542417964...</td>\n      <td>[371]</td>\n    </tr>\n    <tr>\n      <th>100</th>\n      <td>[org.springframework.ldap.ldapreferralexceptio...</td>\n      <td>NaN</td>\n      <td>2008-04-20 00:39:47</td>\n      <td>Ldap Utils#convert Ldap Exception fails to con...</td>\n      <td>Ldap Utils#convert Ldap Exception checks wheth...</td>\n      <td>LDAP</td>\n      <td>0.0</td>\n      <td>ldap utils#convert ldap except fail convert na...</td>\n      <td>[0.03484231832936939, 0.024971120913666336, 0....</td>\n      <td>[(0.35909768060453995, 40), (0.353175181592752...</td>\n      <td>[21, 222]</td>\n    </tr>\n    <tr>\n      <th>102</th>\n      <td>[org.springframework.ldap.core.ldaptemplate.java]</td>\n      <td>NaN</td>\n      <td>2008-06-17 19:27:29</td>\n      <td>Error in javadoc  Ldap Template search( Search...</td>\n      <td>Javadoc of org.springframework.ldap.core. Ldap...</td>\n      <td>LDAP</td>\n      <td>0.0</td>\n      <td>error javadoc ldap templat search( search exec...</td>\n      <td>[0.06092819419984596, 0.26111487729701943, 0.3...</td>\n      <td>[(0.4919056797017911, 94), (0.4547006443370565...</td>\n      <td>[88]</td>\n    </tr>\n    <tr>\n      <th>96</th>\n      <td>[org.springframework.ldap.core.dircontextadapt...</td>\n      <td>NaN</td>\n      <td>2008-06-18 00:32:10</td>\n      <td>The order of a multi-valued attribute is not p...</td>\n      <td>As an example, consider two values of attribut...</td>\n      <td>LDAP</td>\n      <td>0.0</td>\n      <td>the order multi-valu attribut preserv modifi a...</td>\n      <td>[0.15624756614912025, 0.05467973325252297, 0.1...</td>\n      <td>[(0.36097088810622824, 3), (0.3379409376304682...</td>\n      <td>[274, 74]</td>\n    </tr>\n    <tr>\n      <th>109</th>\n      <td>[org.springframework.ldap.support.ldaputils.ja...</td>\n      <td>NaN</td>\n      <td>2008-07-01 06:46:10</td>\n      <td>Distinguished Name.parse() does not correctly ...</td>\n      <td>None'</td>\n      <td>LDAP</td>\n      <td>0.0</td>\n      <td>distinguish name.parse() doe correctli handl D...</td>\n      <td>[0.02161956625974384, 0.014993273768412677, 0....</td>\n      <td>[(0.2661289383667827, 467), (0.212970746018278...</td>\n      <td>[222, 274, 107, 84, 276, 74, 78]</td>\n    </tr>\n    <tr>\n      <th>50</th>\n      <td>[org.springframework.ldap.support.ldaputils.ja...</td>\n      <td>NaN</td>\n      <td>2008-07-01 06:47:25</td>\n      <td>Bad Ldap Grammar Exception when a group or pri...</td>\n      <td>Hi  Guys,n Here is the relevant issue that we ...</td>\n      <td>LDAP</td>\n      <td>0.0</td>\n      <td>bad ldap grammar except group princip contain ...</td>\n      <td>[0.06607955365453354, 0.08105239623022763, 0.1...</td>\n      <td>[(0.2731339362203755, 285), (0.261589650090780...</td>\n      <td>[222, 274, 107, 84, 276, 74, 78]</td>\n    </tr>\n    <tr>\n      <th>134</th>\n      <td>[org.springframework.ldap.core.support.default...</td>\n      <td>NaN</td>\n      <td>2008-10-11 02:54:26</td>\n      <td>Name Not Found is silently ignored in search</td>\n      <td>If a search results in a  Name Not Found Excep...</td>\n      <td>LDAP</td>\n      <td>0.0</td>\n      <td>name not found silent ignor searchif search re...</td>\n      <td>[0.02053803679581521, 0.1496520530019226, 0.17...</td>\n      <td>[(0.3262322520742047, 94), (0.3250442237089695...</td>\n      <td>[290, 107, 74, 75, -1, 283, 88]</td>\n    </tr>\n    <tr>\n      <th>121</th>\n      <td>[org.springframework.ldap.pool.validation.defa...</td>\n      <td>NaN</td>\n      <td>2008-10-20 21:39:29</td>\n      <td>Default Dir Context Validator uses  O N E L E ...</td>\n      <td>I found a small issue with org.springframework...</td>\n      <td>LDAP</td>\n      <td>0.0</td>\n      <td>default dir context valid use O N E L E V E L_...</td>\n      <td>[0.05791685363139791, 0.17462504787707644, 0.2...</td>\n      <td>[(0.5979621449106288, 323), (0.472968255981909...</td>\n      <td>[178]</td>\n    </tr>\n    <tr>\n      <th>114</th>\n      <td>[org.springframework.ldap.control.requestcontr...</td>\n      <td>NaN</td>\n      <td>2008-10-20 21:48:22</td>\n      <td>Paged results doesn&amp;apos;t work when using a s...</td>\n      <td>Paged results requires holding on to a single ...</td>\n      <td>LDAP</td>\n      <td>0.0</td>\n      <td>page result doesn&amp;apos;t work use singl pool c...</td>\n      <td>[0.02373537451199021, 0.048771527654222165, 0....</td>\n      <td>[(0.2698300113950828, 189), (0.253172216128155...</td>\n      <td>[269, 177, 51]</td>\n    </tr>\n    <tr>\n      <th>122</th>\n      <td>[org.springframework.transaction.compensating....</td>\n      <td>NaN</td>\n      <td>2008-10-21 20:24:57</td>\n      <td>Illegal State Exception:  Cannot deactivate tr...</td>\n      <td>Our project is using  Spring-2.0.7 and  Spring...</td>\n      <td>LDAP</td>\n      <td>0.0</td>\n      <td>illeg state exception: cannot deactiv transact...</td>\n      <td>[0.02303584554551111, 0.021217147133181565, 0....</td>\n      <td>[(0.5814029275820537, 241), (0.574602807510365...</td>\n      <td>[252, 359, 242]</td>\n    </tr>\n    <tr>\n      <th>97</th>\n      <td>[org.springframework.ldap.core.distinguishedna...</td>\n      <td>NaN</td>\n      <td>2008-10-21 23:59:46</td>\n      <td>Escaping of weird characters in  Distinguished...</td>\n      <td>I can create a  Distinguished Name that contai...</td>\n      <td>LDAP</td>\n      <td>0.0</td>\n      <td>escap weird charact distinguish name inconsist...</td>\n      <td>[0.12456336860516876, 0.15507078256119095, 0.2...</td>\n      <td>[(0.34298041415996494, 402), (0.32036883130153...</td>\n      <td>[276]</td>\n    </tr>\n    <tr>\n      <th>151</th>\n      <td>[org.springframework.ldap.core.distinguishedna...</td>\n      <td>NaN</td>\n      <td>2008-11-13 00:39:09</td>\n      <td>Distinguished Name violates the equals()hash C...</td>\n      <td>The javadoc for  Object#hash Code states that ...</td>\n      <td>LDAP</td>\n      <td>0.0</td>\n      <td>distinguish name violat equals()hash code() co...</td>\n      <td>[0.07375872163249678, 0.03657519937455208, 0.0...</td>\n      <td>[(0.5045044324572212, 467), (0.378368972178382...</td>\n      <td>[276, 87]</td>\n    </tr>\n    <tr>\n      <th>123</th>\n      <td>[org.springframework.ldap.transaction.compensa...</td>\n      <td>NaN</td>\n      <td>2009-01-02 20:32:23</td>\n      <td>Class Cast Exception: org.springframework.ldap...</td>\n      <td>Our project is using  Spring-2.0.7 and spring-...</td>\n      <td>LDAP</td>\n      <td>0.0</td>\n      <td>class cast exception: org.springframework.ldap...</td>\n      <td>[0.03324619728092703, 0.021787803973937453, 0....</td>\n      <td>[(0.7127686815478459, 239), (0.665802603292193...</td>\n      <td>[359, 239]</td>\n    </tr>\n    <tr>\n      <th>184</th>\n      <td>[org.springframework.transaction.compensating....</td>\n      <td>NaN</td>\n      <td>2009-07-06 17:19:18</td>\n      <td>Default Compensating Transaction Operation Man...</td>\n      <td>When using the spring-ldap 1.3 release source ...</td>\n      <td>LDAP</td>\n      <td>0.0</td>\n      <td>default compens transact oper manag incorrect ...</td>\n      <td>[0.008745206460699158, 0.03266158797809755, 0....</td>\n      <td>[(0.7194332394265134, 256), (0.589562341496321...</td>\n      <td>[256]</td>\n    </tr>\n    <tr>\n      <th>192</th>\n      <td>[org.springframework.ldap.ldaptemplateauthenti...</td>\n      <td>NaN</td>\n      <td>2009-12-17 23:41:36</td>\n      <td>Add authentication methods that provide authen...</td>\n      <td>I realize that the  Authentication Exception i...</td>\n      <td>LDAP</td>\n      <td>0.0</td>\n      <td>add authent method provid authent exceptioni r...</td>\n      <td>[0.006339130007794348, 0.002058684179504066, 0...</td>\n      <td>[(0.4095171132375127, 6), (0.40016790089074955...</td>\n      <td>[-1, 88, 85, 222]</td>\n    </tr>\n    <tr>\n      <th>196</th>\n      <td>[org.springframework.ldap.core.support.default...</td>\n      <td>NaN</td>\n      <td>2009-12-19 22:44:46</td>\n      <td>Default Dir Context Factory uses  Java5  Illeg...</td>\n      <td>Default Dir Object Factory calls the  Illegal ...</td>\n      <td>LDAP</td>\n      <td>0.0</td>\n      <td>default dir context factori use java5 illeg ar...</td>\n      <td>[0.03912642666041169, 0.009476557909774964, 0....</td>\n      <td>[(0.3107790968494297, 320), (0.292540252352396...</td>\n      <td>[107]</td>\n    </tr>\n    <tr>\n      <th>186</th>\n      <td>[org.springframework.ldap.ldaptemplateauthenti...</td>\n      <td>NaN</td>\n      <td>2009-12-21 08:23:18</td>\n      <td>Enhance or create  Ldap Template.authenticate ...</td>\n      <td>The ldaptemplate.authenticate method swallows ...</td>\n      <td>LDAP</td>\n      <td>0.0</td>\n      <td>enhanc creat ldap template.authent method exce...</td>\n      <td>[0.008718207219090555, 0.007446904340211917, 0...</td>\n      <td>[(0.365833826296039, 63), (0.3569621591738242,...</td>\n      <td>[-1, 88, 85, 222]</td>\n    </tr>\n    <tr>\n      <th>198</th>\n      <td>[org.springframework.ldap.filter.presentfilter...</td>\n      <td>NaN</td>\n      <td>2010-01-24 17:19:51</td>\n      <td>Not Present Filter does not define equals()</td>\n      <td>The class  Not Present Filter does not define ...</td>\n      <td>LDAP</td>\n      <td>0.0</td>\n      <td>not present filter doe defin equals()th class ...</td>\n      <td>[0.02050662648257809, 0.0067010349039164935, 0...</td>\n      <td>[(0.49276105301860607, 305), (0.47276652415410...</td>\n      <td>[137, 300, 135, 131, 126, 304, 134, 305, 302, ...</td>\n    </tr>\n    <tr>\n      <th>215</th>\n      <td>[org.springframework.ldap.core.dircontextadapt...</td>\n      <td>NaN</td>\n      <td>2010-09-25 14:26:36</td>\n      <td>Dir Context Adapter.get Object Attribute throw...</td>\n      <td>Dir Context Adapter.get Object Attribute metho...</td>\n      <td>LDAP</td>\n      <td>0.0</td>\n      <td>dir context adapter.get object attribut java.u...</td>\n      <td>[0.17369316973141302, 0.14902727367455812, 0.1...</td>\n      <td>[(0.4422080084352885, 74), (0.3893058199146062...</td>\n      <td>[74, 274, 75]</td>\n    </tr>\n    <tr>\n      <th>217</th>\n      <td>[org.springframework.ldap.filter.orfilter.java]</td>\n      <td>NaN</td>\n      <td>2010-10-16 01:37:26</td>\n      <td>Class-level  Java Doc for  Or Filter uses  And...</td>\n      <td>The class-level  Java Doc for o.s.l.filter. Or...</td>\n      <td>LDAP</td>\n      <td>0.0</td>\n      <td>class-level java doc Or filter use and filter ...</td>\n      <td>[0.0270867324529955, 0.02544499507864117, 0.02...</td>\n      <td>[(0.610451185724267, 131), (0.5711981077931857...</td>\n      <td>[136]</td>\n    </tr>\n    <tr>\n      <th>213</th>\n      <td>[org.springframework.ldap.filter.notpresentfil...</td>\n      <td>NaN</td>\n      <td>2010-10-17 15:17:08</td>\n      <td>Javadoc for  Present Filter and  Not Present F...</td>\n      <td>The example in the  Javadoc for  Not Present F...</td>\n      <td>LDAP</td>\n      <td>0.0</td>\n      <td>javadoc present filter not present filter inco...</td>\n      <td>[0.0010780923255315094, 0.004748395670623507, ...</td>\n      <td>[(0.680413013746917, 305), (0.6747757376529686...</td>\n      <td>[135, 137, 131, 134, 136]</td>\n    </tr>\n    <tr>\n      <th>189</th>\n      <td>[org.springframework.ldap.pool.validation.defa...</td>\n      <td>NaN</td>\n      <td>2010-10-17 15:46:33</td>\n      <td>The constructor  Default Dir Context Validator...</td>\n      <td>Call to  Search Controls.set Search Scope(int)...</td>\n      <td>LDAP</td>\n      <td>0.0</td>\n      <td>the constructor default dir context validator(...</td>\n      <td>[0.045412787051520895, 0.2102245966020983, 0.2...</td>\n      <td>[(0.4841772579247291, 323), (0.436147885964534...</td>\n      <td>[323, 178]</td>\n    </tr>\n    <tr>\n      <th>188</th>\n      <td>[org.springframework.ldap.core.distinguishedna...</td>\n      <td>NaN</td>\n      <td>2010-11-15 14:55:12</td>\n      <td>Active  Directory --  Dir Context Adapter.add ...</td>\n      <td>I&amp;amp;apos;m using spring-ldap against an  Act...</td>\n      <td>LDAP</td>\n      <td>0.0</td>\n      <td>activ directori dir context adapter.add attrib...</td>\n      <td>[0.11631647187519799, 0.03920604164419088, 0.0...</td>\n      <td>[(0.30581303021519496, 534), (0.28665568859469...</td>\n      <td>[78, -1, 276, 87]</td>\n    </tr>\n    <tr>\n      <th>234</th>\n      <td>[org.springframework.ldap.support.ad.listattri...</td>\n      <td>NaN</td>\n      <td>2013-08-01 02:13:44</td>\n      <td>Rollback intermittently causes data loss</td>\n      <td>While creating a new user and adding that user...</td>\n      <td>LDAP</td>\n      <td>0.0</td>\n      <td>rollback intermitt caus data losswhil creat us...</td>\n      <td>[0.06721401630780871, 0.05361249902693302, 0.0...</td>\n      <td>[(0.5572891898347788, 455), (0.526398105230763...</td>\n      <td>[-1, -1, -1, -1, -1, 351, 229, -1, -1, -1, -1,...</td>\n    </tr>\n    <tr>\n      <th>237</th>\n      <td>[org.springframework.ldap.core.distinguishedna...</td>\n      <td>NaN</td>\n      <td>2013-08-12 02:03:57</td>\n      <td>Spring  L D A P does not correctly parse  D N ...</td>\n      <td>Distinguished Name.parse() is confused upon re...</td>\n      <td>LDAP</td>\n      <td>0.0</td>\n      <td>spring L D A P doe correctli pars D N name dou...</td>\n      <td>[0.0055657504497558085, 0.005950490223637728, ...</td>\n      <td>[(0.14457427776550033, 136), (0.14013998643917...</td>\n      <td>[78, 276]</td>\n    </tr>\n    <tr>\n      <th>233</th>\n      <td>[org.springframework.ldap.ldif.defaultattribut...</td>\n      <td>NaN</td>\n      <td>2013-08-12 02:49:08</td>\n      <td>Ldif Parser goes into infinite loop when passe...</td>\n      <td>Ldif Parser has a corner case in get Record(),...</td>\n      <td>LDAP</td>\n      <td>0.0</td>\n      <td>ldif parser goe infinit loop pass non- L D I F...</td>\n      <td>[0.03135628122341403, 0.02022752082253544, 0.0...</td>\n      <td>[(0.32416472466372986, 24), (0.322690901927069...</td>\n      <td>[398, 400, 389]</td>\n    </tr>\n    <tr>\n      <th>229</th>\n      <td>[org.springframework.ldap.control.virtuallistv...</td>\n      <td>NaN</td>\n      <td>2013-08-12 03:50:53</td>\n      <td>Default  D N parser does not handle hashsharp ...</td>\n      <td>Dn Parser Impl incorrectly terminates  D N par...</td>\n      <td>LDAP</td>\n      <td>0.0</td>\n      <td>default D N parser doe handl hashsharp symbol ...</td>\n      <td>[0.09033343747792033, 0.019306874608978106, 0....</td>\n      <td>[(0.25213830726925507, 72), (0.237428170458650...</td>\n      <td>[458, 276]</td>\n    </tr>\n    <tr>\n      <th>119</th>\n      <td>[org.springframework.ldap.ldaptemplatemodifyit...</td>\n      <td>NaN</td>\n      <td>2013-08-14 02:26:55</td>\n      <td>Attributes produces invalid  Schema Violation ...</td>\n      <td>This is most likely not related to any environ...</td>\n      <td>LDAP</td>\n      <td>0.0</td>\n      <td>attribut produc invalid schema violat except p...</td>\n      <td>[0.04783961564169869, 0.02898824122158015, 0.0...</td>\n      <td>[(0.3121720463144521, 37), (0.2863601461113679...</td>\n      <td>[-1, 74]</td>\n    </tr>\n    <tr>\n      <th>179</th>\n      <td>[org.springframework.ldap.transaction.compensa...</td>\n      <td>NaN</td>\n      <td>2013-08-14 03:22:11</td>\n      <td>Data Source connections not being released whe...</td>\n      <td>When using  J D B C transaction integration in...</td>\n      <td>LDAP</td>\n      <td>0.0</td>\n      <td>data sourc connect releas L D A P connect fail...</td>\n      <td>[0.012922316760207398, 0.012289817947567857, 0...</td>\n      <td>[(0.5546754600209034, 239), (0.443663370828577...</td>\n      <td>[240, 239]</td>\n    </tr>\n    <tr>\n      <th>240</th>\n      <td>[org.springframework.ldap.odm.tools.schemaread...</td>\n      <td>NaN</td>\n      <td>2013-08-15 06:08:52</td>\n      <td>Schema To Java fails to generate  Java classes</td>\n      <td>I have a  L D A P schema with a structure like...</td>\n      <td>LDAP</td>\n      <td>0.0</td>\n      <td>schema To java fail gener java classesi L D A ...</td>\n      <td>[0.04611533051639929, 0.03306928627118389, 0.0...</td>\n      <td>[(0.6317269113219984, 407), (0.375158155501624...</td>\n      <td>[407, 417]</td>\n    </tr>\n    <tr>\n      <th>246</th>\n      <td>[org.springframework.ldap.itest.ad.schematojav...</td>\n      <td>NaN</td>\n      <td>2013-08-16 02:45:16</td>\n      <td>Schema To Java doesn&amp;apos;t handle dashes in a...</td>\n      <td>There are many attribute names in  Active  Dir...</td>\n      <td>LDAP</td>\n      <td>0.0</td>\n      <td>schema To java doesn&amp;apos;t handl dash attribu...</td>\n      <td>[0.07865457304011159, 0.09309063876645683, 0.1...</td>\n      <td>[(0.3496985299750136, 407), (0.237660629874755...</td>\n      <td>[535, 405, 417, 404]</td>\n    </tr>\n    <tr>\n      <th>238</th>\n      <td>[org.springframework.ldap.core.collectingnamec...</td>\n      <td>NaN</td>\n      <td>2013-08-28 08:13:38</td>\n      <td>Context Mapper map From Context does not throw...</td>\n      <td>Per the 1.3.1 source in the trunk:nnnnnnn Cont...</td>\n      <td>LDAP</td>\n      <td>0.0</td>\n      <td>context mapper map from context doe javax.nami...</td>\n      <td>[0.1338101685084945, 0.24658967408844965, 0.33...</td>\n      <td>[(0.551681554639648, 88), (0.5081373673363572,...</td>\n      <td>[66, 69, 272, 70, 271, 91]</td>\n    </tr>\n    <tr>\n      <th>128</th>\n      <td>[org.springframework.ldap.control.pagedresults...</td>\n      <td>NaN</td>\n      <td>2013-09-10 06:06:35</td>\n      <td></td>\n      <td>The  Paged Results Request Control class gas a...</td>\n      <td>LDAP</td>\n      <td>0.0</td>\n      <td>the page result request control class ga cooki...</td>\n      <td>[0.05177679713570434, 0.4427711972366622, 0.22...</td>\n      <td>[(0.6741668473734274, 55), (0.6591937912352688...</td>\n      <td>[55, 54]</td>\n    </tr>\n    <tr>\n      <th>101</th>\n      <td>[org.springframework.ldap.pool.factory.pooling...</td>\n      <td>NaN</td>\n      <td>2013-09-11 02:03:53</td>\n      <td></td>\n      <td>If a search fails due to a connection fault, t...</td>\n      <td>LDAP</td>\n      <td>0.0</td>\n      <td>If search fail connect fault, connect assum in...</td>\n      <td>[0.04841257284365731, 0.057228665152522985, 0....</td>\n      <td>[(0.49940767390450913, 187), (0.48510372869521...</td>\n      <td>[177, 175, 320, 555, 168]</td>\n    </tr>\n    <tr>\n      <th>271</th>\n      <td>[org.springframework.ldap.odm.core.impl.defaul...</td>\n      <td>NaN</td>\n      <td>2013-10-21 23:56:33</td>\n      <td>O D M: nullable attributes are not removed fro...</td>\n      <td>Hi.  I&amp;amp;apos;ve faced with a problem using ...</td>\n      <td>LDAP</td>\n      <td>0.0</td>\n      <td>O D M: nullabl attribut remov L D A P odm mana...</td>\n      <td>[0.0660847064051823, 0.03940746369712779, 0.05...</td>\n      <td>[(0.362267685360283, 150), (0.3083435795790588...</td>\n      <td>[150, 527]</td>\n    </tr>\n    <tr>\n      <th>277</th>\n      <td>[org.springframework.ldap.odm.core.impl.defaul...</td>\n      <td>NaN</td>\n      <td>2013-11-06 03:42:57</td>\n      <td>O D M needs to use  D N  Attribute index when ...</td>\n      <td>If the same attribute is part of the  D N twic...</td>\n      <td>LDAP</td>\n      <td>0.0</td>\n      <td>O D M need use D N attribut index popul Dn att...</td>\n      <td>[0.10612066705802164, 0.014624862576532267, 0....</td>\n      <td>[(0.306151971155758, 140), (0.2990955606052125...</td>\n      <td>[150]</td>\n    </tr>\n    <tr>\n      <th>278</th>\n      <td>[org.springframework.ldap.odm.core.impl.defaul...</td>\n      <td>NaN</td>\n      <td>2013-11-07 06:05:25</td>\n      <td>Static fields should be disregarded by  O D M</td>\n      <td>None'</td>\n      <td>LDAP</td>\n      <td>0.0</td>\n      <td>static field disregard O D mnone'</td>\n      <td>[0.0, 0.0, 0.0, 0.011717902687470076, 0.0, 0.0...</td>\n      <td>[(0.33962478870803814, 148), (0.22767013857201...</td>\n      <td>[150, 153, 148]</td>\n    </tr>\n    <tr>\n      <th>177</th>\n      <td>[org.springframework.ldap.support.ldaputils.ja...</td>\n      <td>NaN</td>\n      <td>2013-11-18 03:42:47</td>\n      <td>Ldap Utils convert Ldap Exception fails to con...</td>\n      <td>Changes to  Ldap Utils were made to facilitate...</td>\n      <td>LDAP</td>\n      <td>0.0</td>\n      <td>ldap util convert ldap except fail convert exc...</td>\n      <td>[0.025943815275771383, 0.04087098090701199, 0....</td>\n      <td>[(0.5069818071223302, 27), (0.3266684217043700...</td>\n      <td>[222, 29, 345, 36]</td>\n    </tr>\n    <tr>\n      <th>291</th>\n      <td>[org.springframework.ldap.core.ldaptemplate.ja...</td>\n      <td>NaN</td>\n      <td>2014-02-11 13:16:37</td>\n      <td>Template#authenticate does not throw  Empty Re...</td>\n      <td>Template#authenticate does not throw  Empty Re...</td>\n      <td>LDAP</td>\n      <td>0.0</td>\n      <td>template#authent doe empti result data access ...</td>\n      <td>[0.03656633027842284, 0.03070635549557217, 0.0...</td>\n      <td>[(0.4248722515989525, 6), (0.3997800035717499,...</td>\n      <td>[88, 283]</td>\n    </tr>\n    <tr>\n      <th>290</th>\n      <td>[org.springframework.ldap.core.ldaptemplate.java]</td>\n      <td>NaN</td>\n      <td>2014-02-11 13:17:38</td>\n      <td>Ldap Template logs message at  I N F O level i...</td>\n      <td>When there is an authentication exception in t...</td>\n      <td>LDAP</td>\n      <td>0.0</td>\n      <td>ldap templat log messag I N F O level instead ...</td>\n      <td>[0.023484161471680726, 0.09392589746671973, 0....</td>\n      <td>[(0.5073721280608271, 65), (0.4495565239455408...</td>\n      <td>[88]</td>\n    </tr>\n    <tr>\n      <th>295</th>\n      <td>[org.springframework.ldap.odm.core.impl.defaul...</td>\n      <td>NaN</td>\n      <td>2014-02-14 12:16:37</td>\n      <td>Default Object Directory Mapper#is At Least30(...</td>\n      <td>I was trying to leverage  Spring  L D A P 2.0 ...</td>\n      <td>LDAP</td>\n      <td>0.0</td>\n      <td>default object directori mapper#i At least30()...</td>\n      <td>[0.09477492336964154, 0.05300806344544268, 0.0...</td>\n      <td>[(0.25537309050069124, 281), (0.19775225876910...</td>\n      <td>[150, 310]</td>\n    </tr>\n    <tr>\n      <th>317</th>\n      <td>[org.springframework.ldap.config.contextsource...</td>\n      <td>NaN</td>\n      <td>2015-04-24 11:49:22</td>\n      <td></td>\n      <td>I have tried to create ldap-context in xml, an...</td>\n      <td>LDAP</td>\n      <td>0.0</td>\n      <td>I tri creat ldap-context xml, set attribut pro...</td>\n      <td>[0.06470585498202469, 0.03734545527400021, 0.0...</td>\n      <td>[(0.24845581829045704, 161), (0.24843653703777...</td>\n      <td>[43, 264]</td>\n    </tr>\n    <tr>\n      <th>314</th>\n      <td>[org.springframework.ldap.repository.query.par...</td>\n      <td>NaN</td>\n      <td>2015-04-24 13:15:56</td>\n      <td>Entity(base=)</td>\n      <td>Ldap Repository query methods ignore @ Entry(b...</td>\n      <td>LDAP</td>\n      <td>0.0</td>\n      <td>entity(base=)ldap repositori queri method igno...</td>\n      <td>[0.025169844953205907, 0.020062334207778358, 0...</td>\n      <td>[(0.5982988355109337, 208), (0.310923792816841...</td>\n      <td>[339, 208]</td>\n    </tr>\n    <tr>\n      <th>304</th>\n      <td>[org.springframework.ldap.core.dircontextadapt...</td>\n      <td>NaN</td>\n      <td>2015-04-27 09:26:55</td>\n      <td>Null Pointer Exception  Dir Context Adapter.co...</td>\n      <td>My domain class has following javax.naming. Na...</td>\n      <td>LDAP</td>\n      <td>0.0</td>\n      <td>null pointer except dir context adapter.collec...</td>\n      <td>[0.10189469948409317, 0.051848136755031, 0.074...</td>\n      <td>[(0.3674228954448284, 447), (0.352347614708895...</td>\n      <td>[74, 274]</td>\n    </tr>\n    <tr>\n      <th>321</th>\n      <td>[org.springframework.ldap.transaction.compensa...</td>\n      <td>NaN</td>\n      <td>2015-04-28 11:28:18</td>\n      <td>Illegal State Exception:  No value for key  Po...</td>\n      <td>I created a  Test with spring test context:nnn...</td>\n      <td>LDAP</td>\n      <td>0.0</td>\n      <td>illeg state exception: No valu key pool contex...</td>\n      <td>[0.077842187011632, 0.0615225982182457, 0.0738...</td>\n      <td>[(0.5551525129344334, 514), (0.450523224699025...</td>\n      <td>[241]</td>\n    </tr>\n    <tr>\n      <th>335</th>\n      <td>[org.springframework.ldap.config.ldapnamespace...</td>\n      <td>NaN</td>\n      <td>2015-09-02 14:01:08</td>\n      <td>No Class Def Found Error:  Repository Configur...</td>\n      <td>This seems to have been caused by changes for ...</td>\n      <td>LDAP</td>\n      <td>0.0</td>\n      <td>No class def found error: repositori configur ...</td>\n      <td>[0.023698736272044784, 0.07126565475984425, 0....</td>\n      <td>[(0.3138198558030513, 46), (0.2737595714725139...</td>\n      <td>[46]</td>\n    </tr>\n  </tbody>\n</table>\n</div>"
     },
     "metadata": {}
    },
    {
     "output_type": "display_data",
     "data": {
      "text/plain": "id\n22      [(0.4204576949614777, 30), (0.4066328607264836...\n27      [(0.49617636172352214, 1143), (0.4252787932866...\n20      [(0.3383075783061122, 1180), (0.33376159537517...\n48      [(0.5087779701773529, 878), (0.501509699282769...\n43      [(0.4165427618136085, 35), (0.3266538478046951...\n                              ...                        \n3147    [(0.32283995852228076, 158), (0.31409319962891...\n3160    [(0.4421523138972144, 349), (0.431452311553012...\n3159    [(0.15680063080423742, 1121), (0.0793439520080...\n3158    [(0.5096043348666628, 1184), (0.35922681555554...\n3170    [(0.7564674930382571, 172), (0.601673350659336...\nName: ranked_sim, Length: 541, dtype: object"
     },
     "metadata": {}
    },
    {
     "output_type": "display_data",
     "data": {
      "text/plain": "                                                    fix text  \\\nid                                                             \n22    [org.acegisecurity.adapters.jboss.jbossacegilo...  NaN   \n27    [org.acegisecurity.ui.rememberme.remembermepro...  NaN   \n20    [org.acegisecurity.context.httpsessioncontexti...  NaN   \n48    [org.acegisecurity.providers.jaas.jaasnamecall...  NaN   \n43    [org.acegisecurity.acl.basic.jdbc.jdbcextended...  NaN   \n...                                                 ...  ...   \n3147  [org.springframework.security.config.http.form...  NaN   \n3160  [org.springframework.security.web.util.matcher...  NaN   \n3159  [org.springframework.security.config.annotatio...  NaN   \n3158  [org.springframework.security.web.context.supp...  NaN   \n3170  [org.springframework.security.config.annotatio...  NaN   \n\n                  fixdate                                            summary  \\\nid                                                                             \n22    2005-06-26 13:06:38  J Boss Acegi Login Module -  Bug when identity...   \n27    2005-07-08 08:21:14  Remember Me Processing Filter should not fire ...   \n20    2005-07-11 16:46:19  Http Session Context Integration Filter must s...   \n48    2005-08-23 02:16:13  Improve  Jaas Name Callback Handler handling o...   \n43    2005-10-20 18:32:44  Jdbc Extended Dao Impl doesn&apos;t work with ...   \n...                   ...                                                ...   \n3147  2015-11-12 21:23:42  Include the error parameter into authenticatio...   \n3160  2015-11-29 02:57:29           Invalid  H T T P verb throws 500 not 400   \n3159  2015-11-29 03:00:53      Java doc inaccurate on  Http Security#headers   \n3158  2015-12-04 04:17:43  Required Web Application Context requires  Spr...   \n3170  2015-12-15 15:55:24  Custom  Remember Me Services that does not imp...   \n\n                                            description project  \\\nid                                                                \n22    Currently the code used to create the  Princip...     SEC   \n27    I have tried to start my application with the ...     SEC   \n20    Http Session Context Integration Filter must s...     SEC   \n48    I submitted this via the listserv on 7212005, ...     SEC   \n43    Using  Jdbc Extended Dao Impl together with  P...     SEC   \n...                                                 ...     ...   \n3147  If  X M L  Config used, parameter that indicat...     SEC   \n3160  Had a few cases of a bad client request which ...     SEC   \n3159                                              None'     SEC   \n3158  Inside  Abstract Authorize Tag the static meth...     SEC   \n3170  When your  Remember Me service does not implem...     SEC   \n\n      average_precision                                              query  \\\nid                                                                           \n22                  0.0  J boss acegi login modul bug ident createdcurr...   \n27                  0.0  rememb Me process filter interact authent succ...   \n20                  0.0  http session context integr filter set null ir...   \n48                  0.0  improv jaa name callback handler handl string ...   \n43                  0.0  jdbc extend dao impl doesn&apos;t work postgre...   \n...                 ...                                                ...   \n3147                0.0  includ error paramet authentication-failure-ur...   \n3160                0.0  invalid H T T P verb 500 400had case bad clien...   \n3159                0.0        java doc inaccur http security#headersnone'   \n3158                0.0  requir web applic context requir spring 4.2.xi...   \n3170                0.0  custom rememb Me servic doe implement logout h...   \n\n                                               sim_vect  \\\nid                                                        \n22    [0.101334145208633, 0.045397402001438644, 0.06...   \n27    [0.08255529073504998, 0.03338184996967553, 0.0...   \n20    [0.023153658756365, 0.006062434355440043, 0.01...   \n48    [0.025186978369223664, 0.013953890323086157, 0...   \n43    [0.14999048044058916, 0.1423429168777629, 0.17...   \n...                                                 ...   \n3147  [0.025489411801762247, 0.00517518003935089, 0....   \n3160  [0.08605493570110317, 0.03908110451771762, 0.0...   \n3159  [0.01566726801109783, 0.016273053602977018, 0....   \n3158  [0.04091241986818229, 0.00033334263585519123, ...   \n3170  [0.023893594004464978, 0.00830379210040861, 0....   \n\n                                             ranked_sim  \\\nid                                                        \n22    [(0.4204576949614777, 30), (0.4066328607264836...   \n27    [(0.49617636172352214, 1143), (0.4252787932866...   \n20    [(0.3383075783061122, 1180), (0.33376159537517...   \n48    [(0.5087779701773529, 878), (0.501509699282769...   \n43    [(0.4165427618136085, 35), (0.3266538478046951...   \n...                                                 ...   \n3147  [(0.32283995852228076, 158), (0.31409319962891...   \n3160  [(0.4421523138972144, 349), (0.431452311553012...   \n3159  [(0.15680063080423742, 1121), (0.0793439520080...   \n3158  [(0.5096043348666628, 1184), (0.35922681555554...   \n3170  [(0.7564674930382571, 172), (0.601673350659336...   \n\n                   fix_indexes  \nid                              \n22                        [-1]  \n27                        [-1]  \n20                    [-1, -1]  \n48                        [-1]  \n43                        [-1]  \n...                        ...  \n3147                     [203]  \n3160  [1262, 1270, 1391, 1398]  \n3159                     [152]  \n3158                    [1184]  \n3170                [175, 172]  \n\n[541 rows x 11 columns]",
      "text/html": "<div>\n<style scoped>\n    .dataframe tbody tr th:only-of-type {\n        vertical-align: middle;\n    }\n\n    .dataframe tbody tr th {\n        vertical-align: top;\n    }\n\n    .dataframe thead th {\n        text-align: right;\n    }\n</style>\n<table border=\"1\" class=\"dataframe\">\n  <thead>\n    <tr style=\"text-align: right;\">\n      <th></th>\n      <th>fix</th>\n      <th>text</th>\n      <th>fixdate</th>\n      <th>summary</th>\n      <th>description</th>\n      <th>project</th>\n      <th>average_precision</th>\n      <th>query</th>\n      <th>sim_vect</th>\n      <th>ranked_sim</th>\n      <th>fix_indexes</th>\n    </tr>\n    <tr>\n      <th>id</th>\n      <th></th>\n      <th></th>\n      <th></th>\n      <th></th>\n      <th></th>\n      <th></th>\n      <th></th>\n      <th></th>\n      <th></th>\n      <th></th>\n      <th></th>\n    </tr>\n  </thead>\n  <tbody>\n    <tr>\n      <th>22</th>\n      <td>[org.acegisecurity.adapters.jboss.jbossacegilo...</td>\n      <td>NaN</td>\n      <td>2005-06-26 13:06:38</td>\n      <td>J Boss Acegi Login Module -  Bug when identity...</td>\n      <td>Currently the code used to create the  Princip...</td>\n      <td>SEC</td>\n      <td>0.0</td>\n      <td>J boss acegi login modul bug ident createdcurr...</td>\n      <td>[0.101334145208633, 0.045397402001438644, 0.06...</td>\n      <td>[(0.4204576949614777, 30), (0.4066328607264836...</td>\n      <td>[-1]</td>\n    </tr>\n    <tr>\n      <th>27</th>\n      <td>[org.acegisecurity.ui.rememberme.remembermepro...</td>\n      <td>NaN</td>\n      <td>2005-07-08 08:21:14</td>\n      <td>Remember Me Processing Filter should not fire ...</td>\n      <td>I have tried to start my application with the ...</td>\n      <td>SEC</td>\n      <td>0.0</td>\n      <td>rememb Me process filter interact authent succ...</td>\n      <td>[0.08255529073504998, 0.03338184996967553, 0.0...</td>\n      <td>[(0.49617636172352214, 1143), (0.4252787932866...</td>\n      <td>[-1]</td>\n    </tr>\n    <tr>\n      <th>20</th>\n      <td>[org.acegisecurity.context.httpsessioncontexti...</td>\n      <td>NaN</td>\n      <td>2005-07-11 16:46:19</td>\n      <td>Http Session Context Integration Filter must s...</td>\n      <td>Http Session Context Integration Filter must s...</td>\n      <td>SEC</td>\n      <td>0.0</td>\n      <td>http session context integr filter set null ir...</td>\n      <td>[0.023153658756365, 0.006062434355440043, 0.01...</td>\n      <td>[(0.3383075783061122, 1180), (0.33376159537517...</td>\n      <td>[-1, -1]</td>\n    </tr>\n    <tr>\n      <th>48</th>\n      <td>[org.acegisecurity.providers.jaas.jaasnamecall...</td>\n      <td>NaN</td>\n      <td>2005-08-23 02:16:13</td>\n      <td>Improve  Jaas Name Callback Handler handling o...</td>\n      <td>I submitted this via the listserv on 7212005, ...</td>\n      <td>SEC</td>\n      <td>0.0</td>\n      <td>improv jaa name callback handler handl string ...</td>\n      <td>[0.025186978369223664, 0.013953890323086157, 0...</td>\n      <td>[(0.5087779701773529, 878), (0.501509699282769...</td>\n      <td>[-1]</td>\n    </tr>\n    <tr>\n      <th>43</th>\n      <td>[org.acegisecurity.acl.basic.jdbc.jdbcextended...</td>\n      <td>NaN</td>\n      <td>2005-10-20 18:32:44</td>\n      <td>Jdbc Extended Dao Impl doesn&amp;apos;t work with ...</td>\n      <td>Using  Jdbc Extended Dao Impl together with  P...</td>\n      <td>SEC</td>\n      <td>0.0</td>\n      <td>jdbc extend dao impl doesn&amp;apos;t work postgre...</td>\n      <td>[0.14999048044058916, 0.1423429168777629, 0.17...</td>\n      <td>[(0.4165427618136085, 35), (0.3266538478046951...</td>\n      <td>[-1]</td>\n    </tr>\n    <tr>\n      <th>...</th>\n      <td>...</td>\n      <td>...</td>\n      <td>...</td>\n      <td>...</td>\n      <td>...</td>\n      <td>...</td>\n      <td>...</td>\n      <td>...</td>\n      <td>...</td>\n      <td>...</td>\n      <td>...</td>\n    </tr>\n    <tr>\n      <th>3147</th>\n      <td>[org.springframework.security.config.http.form...</td>\n      <td>NaN</td>\n      <td>2015-11-12 21:23:42</td>\n      <td>Include the error parameter into authenticatio...</td>\n      <td>If  X M L  Config used, parameter that indicat...</td>\n      <td>SEC</td>\n      <td>0.0</td>\n      <td>includ error paramet authentication-failure-ur...</td>\n      <td>[0.025489411801762247, 0.00517518003935089, 0....</td>\n      <td>[(0.32283995852228076, 158), (0.31409319962891...</td>\n      <td>[203]</td>\n    </tr>\n    <tr>\n      <th>3160</th>\n      <td>[org.springframework.security.web.util.matcher...</td>\n      <td>NaN</td>\n      <td>2015-11-29 02:57:29</td>\n      <td>Invalid  H T T P verb throws 500 not 400</td>\n      <td>Had a few cases of a bad client request which ...</td>\n      <td>SEC</td>\n      <td>0.0</td>\n      <td>invalid H T T P verb 500 400had case bad clien...</td>\n      <td>[0.08605493570110317, 0.03908110451771762, 0.0...</td>\n      <td>[(0.4421523138972144, 349), (0.431452311553012...</td>\n      <td>[1262, 1270, 1391, 1398]</td>\n    </tr>\n    <tr>\n      <th>3159</th>\n      <td>[org.springframework.security.config.annotatio...</td>\n      <td>NaN</td>\n      <td>2015-11-29 03:00:53</td>\n      <td>Java doc inaccurate on  Http Security#headers</td>\n      <td>None'</td>\n      <td>SEC</td>\n      <td>0.0</td>\n      <td>java doc inaccur http security#headersnone'</td>\n      <td>[0.01566726801109783, 0.016273053602977018, 0....</td>\n      <td>[(0.15680063080423742, 1121), (0.0793439520080...</td>\n      <td>[152]</td>\n    </tr>\n    <tr>\n      <th>3158</th>\n      <td>[org.springframework.security.web.context.supp...</td>\n      <td>NaN</td>\n      <td>2015-12-04 04:17:43</td>\n      <td>Required Web Application Context requires  Spr...</td>\n      <td>Inside  Abstract Authorize Tag the static meth...</td>\n      <td>SEC</td>\n      <td>0.0</td>\n      <td>requir web applic context requir spring 4.2.xi...</td>\n      <td>[0.04091241986818229, 0.00033334263585519123, ...</td>\n      <td>[(0.5096043348666628, 1184), (0.35922681555554...</td>\n      <td>[1184]</td>\n    </tr>\n    <tr>\n      <th>3170</th>\n      <td>[org.springframework.security.config.annotatio...</td>\n      <td>NaN</td>\n      <td>2015-12-15 15:55:24</td>\n      <td>Custom  Remember Me Services that does not imp...</td>\n      <td>When your  Remember Me service does not implem...</td>\n      <td>SEC</td>\n      <td>0.0</td>\n      <td>custom rememb Me servic doe implement logout h...</td>\n      <td>[0.023893594004464978, 0.00830379210040861, 0....</td>\n      <td>[(0.7564674930382571, 172), (0.601673350659336...</td>\n      <td>[175, 172]</td>\n    </tr>\n  </tbody>\n</table>\n<p>541 rows × 11 columns</p>\n</div>"
     },
     "metadata": {}
    },
    {
     "output_type": "display_data",
     "data": {
      "text/plain": "id\n33     [(0.2408063790244172, 45), (0.2310396712017594...\n42     [(0.5031022922072373, 104), (0.206740510250076...\n75     [(0.6014737672709399, 32), (0.5792161137133891...\n80     [(0.3386305297278515, 53), (0.3226849300833272...\n92     [(0.4078900493339114, 237), (0.160108559663805...\n97     [(0.25055486032161856, 0), (0.218214271127685,...\n128    [(0.41208910986388936, 230), (0.24460927043648...\n141    [(0.27169454350711303, 226), (0.21461168771241...\n138    [(0.3976118007098437, 159), (0.358806632700635...\n165    [(0.40665496740380824, 213), (0.37698995177779...\n153    [(0.36354310569560155, 144), (0.34180119604483...\n163    [(0.39125940883112215, 144), (0.36779627572260...\n168    [(0.5652824393613409, 58), (0.5087742584307914...\n169    [(0.23420433678054095, 22), (0.194830508876896...\n189    [(0.286795873660561, 112), (0.2395032447554063...\nName: ranked_sim, dtype: object"
     },
     "metadata": {}
    },
    {
     "output_type": "display_data",
     "data": {
      "text/plain": "                                                   fix text  \\\nid                                                            \n33   [org.springframework.social.facebook.api.impl....  NaN   \n42   [org.springframework.social.facebook.api.impl....  NaN   \n75   [org.springframework.social.facebook.api.fqlte...  NaN   \n80   [org.springframework.social.facebook.api.impl....  NaN   \n92   [org.springframework.social.facebook.api.impl....  NaN   \n97   [org.springframework.social.facebook.api.impl....  NaN   \n128  [org.springframework.social.facebook.web.canva...  NaN   \n141  [org.springframework.social.facebook.api.liket...  NaN   \n138  [org.springframework.social.facebook.api.impl....  NaN   \n165  [org.springframework.social.facebook.api.usert...  NaN   \n153  [org.springframework.social.facebook.api.impl....  NaN   \n163  [org.springframework.social.facebook.api.impl....  NaN   \n168  [org.springframework.social.facebook.api.pagin...  NaN   \n169  [org.springframework.social.facebook.api.usero...  NaN   \n189  [org.springframework.social.facebook.api.impl....  NaN   \n\n                 fixdate                                            summary  \\\nid                                                                            \n33   2011-11-07 15:25:27  N P E when  F B sends back data for likes inst...   \n42   2012-01-30 09:15:11  Facebook Error Handler will be handle 404  Not...   \n75   2012-04-16 13:19:48  Fql Result.get List( String field Name,  Fql R...   \n80   2012-05-09 10:34:15  Operation Not Permitted Exception thrown when ...   \n92   2012-08-30 13:22:32  Changes to page pictures property will break  ...   \n97   2012-09-06 21:21:21  Facebook Template.initialize() is called twice...   \n128  2013-08-09 09:06:16         Error 405 using  Canvas Sign In Controller   \n141  2014-04-10 13:49:06  Like Operations.get Pages Liked doesn&apos;t g...   \n138  2014-04-10 14:00:09            Jackson  Map  Exception on checkinposts   \n165  2014-12-30 13:48:06  In  Spring soical facebook 2.0.0. M release, t...   \n153  2014-12-30 14:23:04  V2  A P I -  Feed Operations.get Feed() throws...   \n163  2014-12-30 14:23:55  Json Mapping Exception  Upon  Feed Operations....   \n168  2015-04-02 08:53:56            Paging Parameters must use paging token   \n169  2015-04-02 09:47:12  Add updated_time property to  User Operations....   \n189  2015-08-19 10:05:57  Error deserializing null into primitives when ...   \n\n                                           description   project  \\\nid                                                                 \n33   Sometimes  Facebook sends back a count for the...  SOCIALFB   \n42   Facebook Error Handler doesn&amp;apos;t handle...  SOCIALFB   \n75   Using  F Q L to access the stream table, many ...  SOCIALFB   \n80   Facebook has recently started improving its er...  SOCIALFB   \n92   On 1032012 the  Facebook  A P I will be change...  SOCIALFB   \n97   Facebook Template( String access Token) {ntthi...  SOCIALFB   \n128  Error 405 is encountered using  Canvas Sign In...  SOCIALFB   \n141  I tested directly the fb graph api explorer an...  SOCIALFB   \n138  Some checkins do not provide a complete locati...  SOCIALFB   \n165  Facebook Profile prof=con.get Api().user Opera...  SOCIALFB   \n153  The following issue occurs in 2.0.0. M1 and  I...  SOCIALFB   \n163  This code, which worked on 1.1.0. R E L E A S ...  SOCIALFB   \n168  When fetching the posts of a page, the respons...  SOCIALFB   \n169                                              None'  SOCIALFB   \n189  Prior to  Jackson 2.6 custom deserializers app...  SOCIALFB   \n\n     average_precision                                              query  \\\nid                                                                          \n33                 0.0  N P E F B send data like instead countsometim ...   \n42                 0.0  facebook error handler handl 404 not found err...   \n75                 0.0  fql result.get list( string field name, fql re...   \n80                 0.0  oper not permit except thrown insuffici permis...   \n92                 0.0  chang page pictur properti A P I bindingon 103...   \n97                 0.0  facebook template.initialize() call twice cons...   \n128                0.0  error 405 use canva sign In controllererror 40...   \n141                0.0  like operations.get page like doesn&apos;t cov...   \n138                0.0  jackson map except checkinpostssom checkin pro...   \n165                0.0  In spring soical facebook 2.0.0. M release, se...   \n153                0.0  V2 A P I feed operations.get feed() except des...   \n163                0.0  json map except upon feed operations.get post(...   \n168                0.0  page paramet use page tokenwhen fetch post pag...   \n169                0.0  add updated_tim properti user operations. P R ...   \n189                0.0  error deseri null primit use jackson 2.6prior ...   \n\n                                              sim_vect  \\\nid                                                       \n33   [0.002427785334770079, 0.10963025361230919, 0....   \n42   [0.013179096945761339, 0.004595560082810438, 0...   \n75   [0.07556967745382166, 0.021434336070158995, 0....   \n80   [0.012595012033483163, 0.029330888594376336, 0...   \n92   [0.030800885613523905, 0.02376409256672579, 0....   \n97   [0.25055486032161856, 0.010041806835385012, 0....   \n128  [0.008737503654279704, 0.0030467734763824144, ...   \n141  [0.04831546924376236, 0.010326610005126736, 0....   \n138  [0.016189153195231457, 0.018245525528132963, 0...   \n165  [0.04626861421316104, 0.012798511970947272, 0....   \n153  [0.049176223729261205, 0.12046668260876787, 0....   \n163  [0.04806410644112159, 0.07255373672168801, 0.0...   \n168  [0.038988256249401304, 0.037381370970725594, 0...   \n169  [0.0, 0.0, 0.0, 0.0, 0.0, 0.030851712327788137...   \n189  [0.0031577064084445817, 0.046376475637036056, ...   \n\n                                            ranked_sim  \\\nid                                                       \n33   [(0.2408063790244172, 45), (0.2310396712017594...   \n42   [(0.5031022922072373, 104), (0.206740510250076...   \n75   [(0.6014737672709399, 32), (0.5792161137133891...   \n80   [(0.3386305297278515, 53), (0.3226849300833272...   \n92   [(0.4078900493339114, 237), (0.160108559663805...   \n97   [(0.25055486032161856, 0), (0.218214271127685,...   \n128  [(0.41208910986388936, 230), (0.24460927043648...   \n141  [(0.27169454350711303, 226), (0.21461168771241...   \n138  [(0.3976118007098437, 159), (0.358806632700635...   \n165  [(0.40665496740380824, 213), (0.37698995177779...   \n153  [(0.36354310569560155, 144), (0.34180119604483...   \n163  [(0.39125940883112215, 144), (0.36779627572260...   \n168  [(0.5652824393613409, 58), (0.5087742584307914...   \n169  [(0.23420433678054095, 22), (0.194830508876896...   \n189  [(0.286795873660561, 112), (0.2395032447554063...   \n\n                                           fix_indexes  \nid                                                      \n33                                               [162]  \n42                                          [104, 198]  \n75                                            [-1, 31]  \n80                                          [104, 198]  \n92   [152, 179, 206, 93, 70, 162, 200, 73, 158, 205...  \n97                                               [105]  \n128                                              [230]  \n141                                         [205, 111]  \n138                                      [152, -1, 47]  \n165                                     [213, 91, 121]  \n153                                         [138, 162]  \n163                                         [138, 162]  \n168                                     [66, 106, 117]  \n169                                               [91]  \n189                                         [162, 125]  ",
      "text/html": "<div>\n<style scoped>\n    .dataframe tbody tr th:only-of-type {\n        vertical-align: middle;\n    }\n\n    .dataframe tbody tr th {\n        vertical-align: top;\n    }\n\n    .dataframe thead th {\n        text-align: right;\n    }\n</style>\n<table border=\"1\" class=\"dataframe\">\n  <thead>\n    <tr style=\"text-align: right;\">\n      <th></th>\n      <th>fix</th>\n      <th>text</th>\n      <th>fixdate</th>\n      <th>summary</th>\n      <th>description</th>\n      <th>project</th>\n      <th>average_precision</th>\n      <th>query</th>\n      <th>sim_vect</th>\n      <th>ranked_sim</th>\n      <th>fix_indexes</th>\n    </tr>\n    <tr>\n      <th>id</th>\n      <th></th>\n      <th></th>\n      <th></th>\n      <th></th>\n      <th></th>\n      <th></th>\n      <th></th>\n      <th></th>\n      <th></th>\n      <th></th>\n      <th></th>\n    </tr>\n  </thead>\n  <tbody>\n    <tr>\n      <th>33</th>\n      <td>[org.springframework.social.facebook.api.impl....</td>\n      <td>NaN</td>\n      <td>2011-11-07 15:25:27</td>\n      <td>N P E when  F B sends back data for likes inst...</td>\n      <td>Sometimes  Facebook sends back a count for the...</td>\n      <td>SOCIALFB</td>\n      <td>0.0</td>\n      <td>N P E F B send data like instead countsometim ...</td>\n      <td>[0.002427785334770079, 0.10963025361230919, 0....</td>\n      <td>[(0.2408063790244172, 45), (0.2310396712017594...</td>\n      <td>[162]</td>\n    </tr>\n    <tr>\n      <th>42</th>\n      <td>[org.springframework.social.facebook.api.impl....</td>\n      <td>NaN</td>\n      <td>2012-01-30 09:15:11</td>\n      <td>Facebook Error Handler will be handle 404  Not...</td>\n      <td>Facebook Error Handler doesn&amp;amp;apos;t handle...</td>\n      <td>SOCIALFB</td>\n      <td>0.0</td>\n      <td>facebook error handler handl 404 not found err...</td>\n      <td>[0.013179096945761339, 0.004595560082810438, 0...</td>\n      <td>[(0.5031022922072373, 104), (0.206740510250076...</td>\n      <td>[104, 198]</td>\n    </tr>\n    <tr>\n      <th>75</th>\n      <td>[org.springframework.social.facebook.api.fqlte...</td>\n      <td>NaN</td>\n      <td>2012-04-16 13:19:48</td>\n      <td>Fql Result.get List( String field Name,  Fql R...</td>\n      <td>Using  F Q L to access the stream table, many ...</td>\n      <td>SOCIALFB</td>\n      <td>0.0</td>\n      <td>fql result.get list( string field name, fql re...</td>\n      <td>[0.07556967745382166, 0.021434336070158995, 0....</td>\n      <td>[(0.6014737672709399, 32), (0.5792161137133891...</td>\n      <td>[-1, 31]</td>\n    </tr>\n    <tr>\n      <th>80</th>\n      <td>[org.springframework.social.facebook.api.impl....</td>\n      <td>NaN</td>\n      <td>2012-05-09 10:34:15</td>\n      <td>Operation Not Permitted Exception thrown when ...</td>\n      <td>Facebook has recently started improving its er...</td>\n      <td>SOCIALFB</td>\n      <td>0.0</td>\n      <td>oper not permit except thrown insuffici permis...</td>\n      <td>[0.012595012033483163, 0.029330888594376336, 0...</td>\n      <td>[(0.3386305297278515, 53), (0.3226849300833272...</td>\n      <td>[104, 198]</td>\n    </tr>\n    <tr>\n      <th>92</th>\n      <td>[org.springframework.social.facebook.api.impl....</td>\n      <td>NaN</td>\n      <td>2012-08-30 13:22:32</td>\n      <td>Changes to page pictures property will break  ...</td>\n      <td>On 1032012 the  Facebook  A P I will be change...</td>\n      <td>SOCIALFB</td>\n      <td>0.0</td>\n      <td>chang page pictur properti A P I bindingon 103...</td>\n      <td>[0.030800885613523905, 0.02376409256672579, 0....</td>\n      <td>[(0.4078900493339114, 237), (0.160108559663805...</td>\n      <td>[152, 179, 206, 93, 70, 162, 200, 73, 158, 205...</td>\n    </tr>\n    <tr>\n      <th>97</th>\n      <td>[org.springframework.social.facebook.api.impl....</td>\n      <td>NaN</td>\n      <td>2012-09-06 21:21:21</td>\n      <td>Facebook Template.initialize() is called twice...</td>\n      <td>Facebook Template( String access Token) {ntthi...</td>\n      <td>SOCIALFB</td>\n      <td>0.0</td>\n      <td>facebook template.initialize() call twice cons...</td>\n      <td>[0.25055486032161856, 0.010041806835385012, 0....</td>\n      <td>[(0.25055486032161856, 0), (0.218214271127685,...</td>\n      <td>[105]</td>\n    </tr>\n    <tr>\n      <th>128</th>\n      <td>[org.springframework.social.facebook.web.canva...</td>\n      <td>NaN</td>\n      <td>2013-08-09 09:06:16</td>\n      <td>Error 405 using  Canvas Sign In Controller</td>\n      <td>Error 405 is encountered using  Canvas Sign In...</td>\n      <td>SOCIALFB</td>\n      <td>0.0</td>\n      <td>error 405 use canva sign In controllererror 40...</td>\n      <td>[0.008737503654279704, 0.0030467734763824144, ...</td>\n      <td>[(0.41208910986388936, 230), (0.24460927043648...</td>\n      <td>[230]</td>\n    </tr>\n    <tr>\n      <th>141</th>\n      <td>[org.springframework.social.facebook.api.liket...</td>\n      <td>NaN</td>\n      <td>2014-04-10 13:49:06</td>\n      <td>Like Operations.get Pages Liked doesn&amp;apos;t g...</td>\n      <td>I tested directly the fb graph api explorer an...</td>\n      <td>SOCIALFB</td>\n      <td>0.0</td>\n      <td>like operations.get page like doesn&amp;apos;t cov...</td>\n      <td>[0.04831546924376236, 0.010326610005126736, 0....</td>\n      <td>[(0.27169454350711303, 226), (0.21461168771241...</td>\n      <td>[205, 111]</td>\n    </tr>\n    <tr>\n      <th>138</th>\n      <td>[org.springframework.social.facebook.api.impl....</td>\n      <td>NaN</td>\n      <td>2014-04-10 14:00:09</td>\n      <td>Jackson  Map  Exception on checkinposts</td>\n      <td>Some checkins do not provide a complete locati...</td>\n      <td>SOCIALFB</td>\n      <td>0.0</td>\n      <td>jackson map except checkinpostssom checkin pro...</td>\n      <td>[0.016189153195231457, 0.018245525528132963, 0...</td>\n      <td>[(0.3976118007098437, 159), (0.358806632700635...</td>\n      <td>[152, -1, 47]</td>\n    </tr>\n    <tr>\n      <th>165</th>\n      <td>[org.springframework.social.facebook.api.usert...</td>\n      <td>NaN</td>\n      <td>2014-12-30 13:48:06</td>\n      <td>In  Spring soical facebook 2.0.0. M release, t...</td>\n      <td>Facebook Profile prof=con.get Api().user Opera...</td>\n      <td>SOCIALFB</td>\n      <td>0.0</td>\n      <td>In spring soical facebook 2.0.0. M release, se...</td>\n      <td>[0.04626861421316104, 0.012798511970947272, 0....</td>\n      <td>[(0.40665496740380824, 213), (0.37698995177779...</td>\n      <td>[213, 91, 121]</td>\n    </tr>\n    <tr>\n      <th>153</th>\n      <td>[org.springframework.social.facebook.api.impl....</td>\n      <td>NaN</td>\n      <td>2014-12-30 14:23:04</td>\n      <td>V2  A P I -  Feed Operations.get Feed() throws...</td>\n      <td>The following issue occurs in 2.0.0. M1 and  I...</td>\n      <td>SOCIALFB</td>\n      <td>0.0</td>\n      <td>V2 A P I feed operations.get feed() except des...</td>\n      <td>[0.049176223729261205, 0.12046668260876787, 0....</td>\n      <td>[(0.36354310569560155, 144), (0.34180119604483...</td>\n      <td>[138, 162]</td>\n    </tr>\n    <tr>\n      <th>163</th>\n      <td>[org.springframework.social.facebook.api.impl....</td>\n      <td>NaN</td>\n      <td>2014-12-30 14:23:55</td>\n      <td>Json Mapping Exception  Upon  Feed Operations....</td>\n      <td>This code, which worked on 1.1.0. R E L E A S ...</td>\n      <td>SOCIALFB</td>\n      <td>0.0</td>\n      <td>json map except upon feed operations.get post(...</td>\n      <td>[0.04806410644112159, 0.07255373672168801, 0.0...</td>\n      <td>[(0.39125940883112215, 144), (0.36779627572260...</td>\n      <td>[138, 162]</td>\n    </tr>\n    <tr>\n      <th>168</th>\n      <td>[org.springframework.social.facebook.api.pagin...</td>\n      <td>NaN</td>\n      <td>2015-04-02 08:53:56</td>\n      <td>Paging Parameters must use paging token</td>\n      <td>When fetching the posts of a page, the respons...</td>\n      <td>SOCIALFB</td>\n      <td>0.0</td>\n      <td>page paramet use page tokenwhen fetch post pag...</td>\n      <td>[0.038988256249401304, 0.037381370970725594, 0...</td>\n      <td>[(0.5652824393613409, 58), (0.5087742584307914...</td>\n      <td>[66, 106, 117]</td>\n    </tr>\n    <tr>\n      <th>169</th>\n      <td>[org.springframework.social.facebook.api.usero...</td>\n      <td>NaN</td>\n      <td>2015-04-02 09:47:12</td>\n      <td>Add updated_time property to  User Operations....</td>\n      <td>None'</td>\n      <td>SOCIALFB</td>\n      <td>0.0</td>\n      <td>add updated_tim properti user operations. P R ...</td>\n      <td>[0.0, 0.0, 0.0, 0.0, 0.0, 0.030851712327788137...</td>\n      <td>[(0.23420433678054095, 22), (0.194830508876896...</td>\n      <td>[91]</td>\n    </tr>\n    <tr>\n      <th>189</th>\n      <td>[org.springframework.social.facebook.api.impl....</td>\n      <td>NaN</td>\n      <td>2015-08-19 10:05:57</td>\n      <td>Error deserializing null into primitives when ...</td>\n      <td>Prior to  Jackson 2.6 custom deserializers app...</td>\n      <td>SOCIALFB</td>\n      <td>0.0</td>\n      <td>error deseri null primit use jackson 2.6prior ...</td>\n      <td>[0.0031577064084445817, 0.046376475637036056, ...</td>\n      <td>[(0.286795873660561, 112), (0.2395032447554063...</td>\n      <td>[162, 125]</td>\n    </tr>\n  </tbody>\n</table>\n</div>"
     },
     "metadata": {}
    },
    {
     "output_type": "display_data",
     "data": {
      "text/plain": "id\n5016     [(0.3089611292749388, 2093), (0.26231798625597...\n5171     [(0.24836926297257103, 2372), (0.2371206046912...\n5275     [(0.3984694408159063, 3025), (0.38028499605650...\n5324     [(0.4633396218140695, 3355), (0.42355785620940...\n5332     [(0.5968472018930492, 2950), (0.50187053975012...\n                               ...                        \n12661    [(0.3902521114224028, 3679), (0.38475189608104...\n11598    [(0.41181382643170794, 3743), (0.4044366955734...\n14080    [(0.25569801361320044, 5399), (0.1824859050013...\n14248    [(0.6127291820046443, 4990), (0.58225778363102...\n14678    [(0.46198679479189625, 3899), (0.4590840463831...\nName: ranked_sim, Length: 130, dtype: object"
     },
     "metadata": {}
    },
    {
     "output_type": "display_data",
     "data": {
      "text/plain": "                                                     fix text  \\\nid                                                              \n5016   [org.springframework.context.config.propertyov...  NaN   \n5171   [org.springframework.test.web.abstractmodeland...  NaN   \n5275     [org.springframework.jms.support.jmsutils.java]  NaN   \n5324   [org.springframework.orm.hibernate3.annotation...  NaN   \n5332     [org.springframework.jms.support.jmsutils.java]  NaN   \n...                                                  ...  ...   \n12661  [org.springframework.core.annotation.annotated...  NaN   \n11598  [org.springframework.core.annotation.annotated...  NaN   \n14080  [org.springframework.web.util.uricomponentsbui...  NaN   \n14248  [org.springframework.web.util.uricomponentsbui...  NaN   \n14678  [org.springframework.web.servlet.mvc.condition...  NaN   \n\n                   fixdate                                            summary  \\\nid                                                                              \n5016   2008-07-18 00:36:13  Add more properties to <context:property-place...   \n5171   2008-09-21 20:39:19                      Incompatible with  J Unit 4.5   \n5275   2008-11-20 08:07:23  Jms Utils.build Exception Message throws  N P ...   \n5324   2008-11-28 00:05:48  Annotation Session Factory Bean.scan Packages(...   \n5332   2009-02-11 22:20:13  Jms Exception.get Message throws  N P E if a c...   \n...                    ...                                                ...   \n12661  2015-01-24 09:20:46  Test Execution Listeners is not fully supporte...   \n11598  2015-05-13 07:20:33  Favor more locally declared composed annotatio...   \n14080  2016-03-24 13:17:04  Default Cors Processor&apos;s origin compariso...   \n14248  2016-05-05 15:01:10  Recent  Servlet Server Http Request.get U R I(...   \n14678  2016-09-08 13:08:20          Path Variable will cut off the last point   \n\n                                             description project  \\\nid                                                                 \n5016   This is not enough for advance usage.  Please ...     SPR   \n5171   Spring relies on org.junit. Assume$ Assumption...     SPR   \n5275   This method throws an exception if the linked ...     SPR   \n5324   The \"scan Packages\" property requires the pack...     SPR   \n5332   Under some circumstances a  J M S  Exception m...     SPR   \n...                                                  ...     ...   \n12661  Status  Quon When using  Test N G and deriving...     SPR   \n11598  Backgroundn This issue picks up where  S P R-1...     SPR   \n14080  This plays in part with  S P R-13691 but is mo...     SPR   \n14248  This change: https:jira.spring.iobrowse S P R-...     SPR   \n14678  When use @ Path Variable likennnnnnn @ Request...     SPR   \n\n       average_precision                                              query  \\\nid                                                                            \n5016                 0.0  add properti <context:property-placeholder>thi...   \n5171                 0.0  incompat J unit 4.5spring reli org.junit. assu...   \n5275                 0.0  jm utils.build except messag N P E link except...   \n5324                 0.0  annot session factori bean.scan packages() cre...   \n5332                 0.0  jm exception.get messag N P E caus doesn&apos;...   \n...                  ...                                                ...   \n12661                0.0  test execut listen fulli support meta-annotati...   \n11598                0.0  favor local declar compos annot inherit annota...   \n14080                0.0  default cor processor&apos; origin comparison ...   \n14248                0.0  recent servlet server http request.get U R i()...   \n14678                0.0  path variabl cut pointwhen use @ path variabl ...   \n\n                                                sim_vect  \\\nid                                                         \n5016   [0.018895236441340623, 0.0042251429068469164, ...   \n5171   [0.0, 0.0022176650416439935, 0.004080814397499...   \n5275   [0.037570032138930835, 0.00610446687864487, 0....   \n5324   [0.08407022433663679, 0.011296374438914777, 0....   \n5332   [0.051884823170808586, 0.0044805707241362715, ...   \n...                                                  ...   \n12661  [0.022690516999706728, 0.011234406555702325, 0...   \n11598  [0.013074858431879789, 0.030393871771143843, 0...   \n14080  [0.022368511050644566, 0.008880965495807316, 0...   \n14248  [0.02481920493807817, 0.023706737040905364, 0....   \n14678  [0.004312178178683913, 0.013006235617449374, 0...   \n\n                                              ranked_sim  \\\nid                                                         \n5016   [(0.3089611292749388, 2093), (0.26231798625597...   \n5171   [(0.24836926297257103, 2372), (0.2371206046912...   \n5275   [(0.3984694408159063, 3025), (0.38028499605650...   \n5324   [(0.4633396218140695, 3355), (0.42355785620940...   \n5332   [(0.5968472018930492, 2950), (0.50187053975012...   \n...                                                  ...   \n12661  [(0.3902521114224028, 3679), (0.38475189608104...   \n11598  [(0.41181382643170794, 3743), (0.4044366955734...   \n14080  [(0.25569801361320044, 5399), (0.1824859050013...   \n14248  [(0.6127291820046443, 4990), (0.58225778363102...   \n14678  [(0.46198679479189625, 3899), (0.4590840463831...   \n\n                                             fix_indexes  \nid                                                        \n5016                               [930, 1604, 931, 924]  \n5171              [-1, -1, -1, 3682, -1, -1, 3679, 3680]  \n5275                                              [3043]  \n5324                                              [3355]  \n5332                                              [3043]  \n...                                                  ...  \n12661                                             [2319]  \n11598                                             [2319]  \n14080                                             [4743]  \n14248                                             [4743]  \n14678  [5033, 5065, 5026, 5027, 5039, 5342, 5332, 503...  \n\n[130 rows x 11 columns]",
      "text/html": "<div>\n<style scoped>\n    .dataframe tbody tr th:only-of-type {\n        vertical-align: middle;\n    }\n\n    .dataframe tbody tr th {\n        vertical-align: top;\n    }\n\n    .dataframe thead th {\n        text-align: right;\n    }\n</style>\n<table border=\"1\" class=\"dataframe\">\n  <thead>\n    <tr style=\"text-align: right;\">\n      <th></th>\n      <th>fix</th>\n      <th>text</th>\n      <th>fixdate</th>\n      <th>summary</th>\n      <th>description</th>\n      <th>project</th>\n      <th>average_precision</th>\n      <th>query</th>\n      <th>sim_vect</th>\n      <th>ranked_sim</th>\n      <th>fix_indexes</th>\n    </tr>\n    <tr>\n      <th>id</th>\n      <th></th>\n      <th></th>\n      <th></th>\n      <th></th>\n      <th></th>\n      <th></th>\n      <th></th>\n      <th></th>\n      <th></th>\n      <th></th>\n      <th></th>\n    </tr>\n  </thead>\n  <tbody>\n    <tr>\n      <th>5016</th>\n      <td>[org.springframework.context.config.propertyov...</td>\n      <td>NaN</td>\n      <td>2008-07-18 00:36:13</td>\n      <td>Add more properties to &lt;context:property-place...</td>\n      <td>This is not enough for advance usage.  Please ...</td>\n      <td>SPR</td>\n      <td>0.0</td>\n      <td>add properti &lt;context:property-placeholder&gt;thi...</td>\n      <td>[0.018895236441340623, 0.0042251429068469164, ...</td>\n      <td>[(0.3089611292749388, 2093), (0.26231798625597...</td>\n      <td>[930, 1604, 931, 924]</td>\n    </tr>\n    <tr>\n      <th>5171</th>\n      <td>[org.springframework.test.web.abstractmodeland...</td>\n      <td>NaN</td>\n      <td>2008-09-21 20:39:19</td>\n      <td>Incompatible with  J Unit 4.5</td>\n      <td>Spring relies on org.junit. Assume$ Assumption...</td>\n      <td>SPR</td>\n      <td>0.0</td>\n      <td>incompat J unit 4.5spring reli org.junit. assu...</td>\n      <td>[0.0, 0.0022176650416439935, 0.004080814397499...</td>\n      <td>[(0.24836926297257103, 2372), (0.2371206046912...</td>\n      <td>[-1, -1, -1, 3682, -1, -1, 3679, 3680]</td>\n    </tr>\n    <tr>\n      <th>5275</th>\n      <td>[org.springframework.jms.support.jmsutils.java]</td>\n      <td>NaN</td>\n      <td>2008-11-20 08:07:23</td>\n      <td>Jms Utils.build Exception Message throws  N P ...</td>\n      <td>This method throws an exception if the linked ...</td>\n      <td>SPR</td>\n      <td>0.0</td>\n      <td>jm utils.build except messag N P E link except...</td>\n      <td>[0.037570032138930835, 0.00610446687864487, 0....</td>\n      <td>[(0.3984694408159063, 3025), (0.38028499605650...</td>\n      <td>[3043]</td>\n    </tr>\n    <tr>\n      <th>5324</th>\n      <td>[org.springframework.orm.hibernate3.annotation...</td>\n      <td>NaN</td>\n      <td>2008-11-28 00:05:48</td>\n      <td>Annotation Session Factory Bean.scan Packages(...</td>\n      <td>The \"scan Packages\" property requires the pack...</td>\n      <td>SPR</td>\n      <td>0.0</td>\n      <td>annot session factori bean.scan packages() cre...</td>\n      <td>[0.08407022433663679, 0.011296374438914777, 0....</td>\n      <td>[(0.4633396218140695, 3355), (0.42355785620940...</td>\n      <td>[3355]</td>\n    </tr>\n    <tr>\n      <th>5332</th>\n      <td>[org.springframework.jms.support.jmsutils.java]</td>\n      <td>NaN</td>\n      <td>2009-02-11 22:20:13</td>\n      <td>Jms Exception.get Message throws  N P E if a c...</td>\n      <td>Under some circumstances a  J M S  Exception m...</td>\n      <td>SPR</td>\n      <td>0.0</td>\n      <td>jm exception.get messag N P E caus doesn&amp;apos;...</td>\n      <td>[0.051884823170808586, 0.0044805707241362715, ...</td>\n      <td>[(0.5968472018930492, 2950), (0.50187053975012...</td>\n      <td>[3043]</td>\n    </tr>\n    <tr>\n      <th>...</th>\n      <td>...</td>\n      <td>...</td>\n      <td>...</td>\n      <td>...</td>\n      <td>...</td>\n      <td>...</td>\n      <td>...</td>\n      <td>...</td>\n      <td>...</td>\n      <td>...</td>\n      <td>...</td>\n    </tr>\n    <tr>\n      <th>12661</th>\n      <td>[org.springframework.core.annotation.annotated...</td>\n      <td>NaN</td>\n      <td>2015-01-24 09:20:46</td>\n      <td>Test Execution Listeners is not fully supporte...</td>\n      <td>Status  Quon When using  Test N G and deriving...</td>\n      <td>SPR</td>\n      <td>0.0</td>\n      <td>test execut listen fulli support meta-annotati...</td>\n      <td>[0.022690516999706728, 0.011234406555702325, 0...</td>\n      <td>[(0.3902521114224028, 3679), (0.38475189608104...</td>\n      <td>[2319]</td>\n    </tr>\n    <tr>\n      <th>11598</th>\n      <td>[org.springframework.core.annotation.annotated...</td>\n      <td>NaN</td>\n      <td>2015-05-13 07:20:33</td>\n      <td>Favor more locally declared composed annotatio...</td>\n      <td>Backgroundn This issue picks up where  S P R-1...</td>\n      <td>SPR</td>\n      <td>0.0</td>\n      <td>favor local declar compos annot inherit annota...</td>\n      <td>[0.013074858431879789, 0.030393871771143843, 0...</td>\n      <td>[(0.41181382643170794, 3743), (0.4044366955734...</td>\n      <td>[2319]</td>\n    </tr>\n    <tr>\n      <th>14080</th>\n      <td>[org.springframework.web.util.uricomponentsbui...</td>\n      <td>NaN</td>\n      <td>2016-03-24 13:17:04</td>\n      <td>Default Cors Processor&amp;apos;s origin compariso...</td>\n      <td>This plays in part with  S P R-13691 but is mo...</td>\n      <td>SPR</td>\n      <td>0.0</td>\n      <td>default cor processor&amp;apos; origin comparison ...</td>\n      <td>[0.022368511050644566, 0.008880965495807316, 0...</td>\n      <td>[(0.25569801361320044, 5399), (0.1824859050013...</td>\n      <td>[4743]</td>\n    </tr>\n    <tr>\n      <th>14248</th>\n      <td>[org.springframework.web.util.uricomponentsbui...</td>\n      <td>NaN</td>\n      <td>2016-05-05 15:01:10</td>\n      <td>Recent  Servlet Server Http Request.get U R I(...</td>\n      <td>This change: https:jira.spring.iobrowse S P R-...</td>\n      <td>SPR</td>\n      <td>0.0</td>\n      <td>recent servlet server http request.get U R i()...</td>\n      <td>[0.02481920493807817, 0.023706737040905364, 0....</td>\n      <td>[(0.6127291820046443, 4990), (0.58225778363102...</td>\n      <td>[4743]</td>\n    </tr>\n    <tr>\n      <th>14678</th>\n      <td>[org.springframework.web.servlet.mvc.condition...</td>\n      <td>NaN</td>\n      <td>2016-09-08 13:08:20</td>\n      <td>Path Variable will cut off the last point</td>\n      <td>When use @ Path Variable likennnnnnn @ Request...</td>\n      <td>SPR</td>\n      <td>0.0</td>\n      <td>path variabl cut pointwhen use @ path variabl ...</td>\n      <td>[0.004312178178683913, 0.013006235617449374, 0...</td>\n      <td>[(0.46198679479189625, 3899), (0.4590840463831...</td>\n      <td>[5033, 5065, 5026, 5027, 5039, 5342, 5332, 503...</td>\n    </tr>\n  </tbody>\n</table>\n<p>130 rows × 11 columns</p>\n</div>"
     },
     "metadata": {}
    },
    {
     "output_type": "display_data",
     "data": {
      "text/plain": "id\n256    [(0.1883274558901454, 61), (0.1262279979850343...\n429    [(0.1872651807205134, 4), (0.1745786005365252,...\n385    [(0.6600978424038915, 67), (0.1160804935072865...\n401    [(0.6511016385488106, 67), (0.1469216251618208...\n502    [(0.17506446365851994, 38), (0.076276126276781...\n538    [(0.31806495381451017, 32), (0.306025379103459...\n395    [(0.46831641900160786, 40), (0.359767588588197...\n537    [(0.13735673240630505, 2), (0.0814784967327505...\n542    [(0.5505163321756278, 55), (0.4888299156765498...\n543    [(0.5168309965816578, 42), (0.4935178981610711...\n545    [(0.1290007264393106, 6), (0.07527532636010874...\n546    [(0.35164331897607004, 6), (0.2879768109738263...\n589    [(0.13603752432409488, 12), (0.111881931349754...\n611    [(0.2661231422151541, 32), (0.2550448842718232...\n614    [(0.2709803742250482, 32), (0.2443792208762052...\n610    [(0.149593432487566, 41), (0.0732772045325982,...\n612    [(0.2982388034960097, 42), (0.2781185414427762...\n654    [(0.29146833022846214, 17), (0.290502347615819...\n634    [(0.27502852777309955, 14), (0.177365486939076...\n627    [(0.3356671934644041, 54), (0.2398601053994482...\n692    [(0.1360146209366704, 23), (0.1292637485197145...\n691    [(0.18361474946486295, 38), (0.115358730249597...\n637    [(0.2089409940707395, 31), (0.2027909358620748...\n757    [(0.09785558900392012, 1), (0.0850928669321699...\n808    [(0.18887530562662397, 12), (0.154852675574223...\nName: ranked_sim, dtype: object"
     },
     "metadata": {}
    },
    {
     "output_type": "display_data",
     "data": {
      "text/plain": "                                                   fix text  \\\nid                                                            \n256  [org.wildfly.security.sasl.util.channelbinding...  NaN   \n429  [org.wildfly.security.auth.provider.ldap.ldaps...  NaN   \n385  [org.wildfly.security.ssl.mechanismdatabase.java]  NaN   \n401  [org.wildfly.security.ssl.mechanismdatabase.java]  NaN   \n502  [org.wildfly.security.credential.store.impl.ke...  NaN   \n538  [org.wildfly.security.permission.elytronpermis...  NaN   \n395  [org.wildfly.security.ssl.ciphersuiteselector....  NaN   \n537  [org.wildfly.security.credential.store.impl.ke...  NaN   \n542   [org.wildfly.security.ssl.protocolselector.java]  NaN   \n543  [org.wildfly.security.sasl.digest.abstractdige...  NaN   \n545           [org.wildfly.security.util.uriutil.java]  NaN   \n546  [org.wildfly.security.auth.server.securitydoma...  NaN   \n589  [org.wildfly.security.password.interfaces.rawc...  NaN   \n611  [org.wildfly.security.permission.longnamesetpe...  NaN   \n614  [org.wildfly.security.permission.abstractpermi...  NaN   \n610  [org.wildfly.security.x500.cert.x509certificat...  NaN   \n612  [org.wildfly.security.sasl.digest.abstractdige...  NaN   \n654  [org.wildfly.security.ssl.sslcontextbuilder.java]  NaN   \n634  [org.wildfly.security.auth.server.serverauthen...  NaN   \n627           [org.wildfly.security.ssl.protocol.java]  NaN   \n692  [org.wildfly.security.auth.realm.legacypropert...  NaN   \n691  [org.wildfly.security.auth.realm.legacypropert...  NaN   \n637  [org.wildfly.security.auth.server.serverauthen...  NaN   \n757  [org.wildfly.security.ssl.sslauthenticationtes...  NaN   \n808  [org.wildfly.security.auth.client.elytronxmlpa...  NaN   \n\n                 fixdate                                            summary  \\\nid                                                                            \n256  2015-08-06 16:08:18  Channel Binding Sasl Client and - Server Facto...   \n429  2016-03-15 08:28:29  Ldap Security Realm Builder.build() should be ...   \n385  2016-03-15 08:30:20  E L Y01077:  Invalid alias \" T L S_ R S A_ W I...   \n401  2016-03-15 08:40:24  E L Y01077:  Invalid alias \" T L S_ R S A_ W I...   \n502  2016-04-20 08:12:45  Remove operation doesn&apos;t persist the resu...   \n538  2016-05-27 14:53:25  Infinite loop in  Elytron Permission Collectio...   \n395  2016-06-01 13:52:37  Undertow  H T T P S listener offers no cipher ...   \n537  2016-06-18 13:31:38         Resource leaks in  Keystore Password Store   \n542  2016-06-18 13:32:25  Incorrectly implemented apply Filter method of...   \n543  2016-06-18 13:32:57  Missing null check in constructor of  Abstract...   \n545  2016-06-18 13:33:22  Missing null checks in  U R I Util.get Host Fo...   \n546  2016-06-18 13:33:48  Missing null check in  Security Domain.map Nam...   \n589  2016-07-25 09:48:50  Raw Clear Password should implement  Destroyab...   \n611  2016-07-29 15:23:24  Unintentional integer overflow in  Long Name S...   \n614  2016-07-29 15:23:39  Missing null check in equals() method of  Abst...   \n610  2016-07-29 15:23:53  Missing null check in build() method of  X509 ...   \n612  2016-07-29 15:24:11  Missing or unnecessary null check in  Abstract...   \n654  2016-10-11 21:11:27  Ensure that negative values are converted to z...   \n634  2016-10-12 10:32:51  No log messages comming from  Elytron - group ...   \n627  2016-10-25 14:39:59  Elytron introduces  S S L T L S protocol const...   \n692  2016-11-02 09:35:48  Add tests for special chars in  Legacy Propert...   \n691  2016-11-02 09:36:13  Elytron properties-realm is not compatible wit...   \n637  2016-11-03 15:03:29  No log messages comming from  Elytron - permis...   \n757  2016-11-21 09:24:47  Don&apos;t use  String to Upper Caseto Lower C...   \n808  2016-12-02 17:08:15            X M L  Parsing  Deferred into  Function   \n\n                                           description project  \\\nid                                                               \n256  Currently this causes a  Fast Unsupported Call...     ELY   \n429  Class  Ldap Security Realm cannot be used from...     ELY   \n385  W A R N [org.wildfly.security] ( M S C service...     ELY   \n401  Getting the following warning logged when filt...     ELY   \n502  Remove operation doesn&amp;apos;t persist the ...     ELY   \n538  There is infinite loop in  Elytron Permission ...     ELY   \n395  No cipher suites are available for handshake w...     ELY   \n537  There are two resource leaks in org.wildfly.se...     ELY   \n542  Method apply Filter from org.wildfly.security....     ELY   \n543  There is missing null check in constructor of ...     ELY   \n545  There is public static method org.wildfly.secu...     ELY   \n546  There is missing null check in org.wildfly.sec...     ELY   \n589  Class  Raw Clear Password doesn&amp;apos;t imp...     ELY   \n611  There are potentially overflowing expressions ...     ELY   \n614  There is missing null check in org.wildfly.sec...     ELY   \n610  Calling  A S N1.oid From Signature Algorithm( ...     ELY   \n612  There is missing or unnecessary null check in ...     ELY   \n654  Ensure that negative values are converted to z...     ELY   \n634  Elytron is missing any log messages related to...     ELY   \n627  L I S T,nnnnn \"description\" =&gt; \" The enable...     ELY   \n692  Add tests for issue https:issues.jboss.orgbrow...     ELY   \n691  When users properties file (e.g. mgmt-users.pr...     ELY   \n637  Elytron is missing any log messages related to...     ELY   \n757  The  String.to Upper Case() and  String.to Low...     ELY   \n808  Then Op(function, credential Source -&gt; cred...     ELY   \n\n     average_precision                                              query  \\\nid                                                                          \n256                0.0  channel bind sasl client server factori pass c...   \n429                0.0  ldap secur realm builder.build() retunr type i...   \n385                0.0  E L y01077: invalid alia \" T L S_ R S A_ W I T...   \n401                0.0  E L y01077: invalid alia \" T L S_ R S A_ W I T...   \n502                0.0  remov oper doesn&apos;t persist result keystor...   \n538                0.0  infinit loop elytron permiss collection.read r...   \n395                0.0  undertow H T T P S listen offer cipher suit D ...   \n537                0.0  resourc leak keystor password storether resour...   \n542                0.0  incorrectli implement appli filter method prot...   \n543                0.0  miss null check constructor abstract digest me...   \n545                0.0  miss null check U R I util.get host for U R I(...   \n546                0.0  miss null check secur domain.map name() method...   \n589                0.0  raw clear password implement destroy interface...   \n611                0.0  unintent integ overflow long name set permiss ...   \n614                0.0  miss null check equals() method abstract permi...   \n610                0.0  miss null check build() method x509 certif bui...   \n612                0.0  miss unnecessari null check abstract digest me...   \n654                0.0  ensur neg valu convert zero set session cach s...   \n634                0.0  No log messag com elytron group assignmentelyt...   \n627                0.0  elytron introduc S S L T L S protocol constrai...   \n692                0.0  add test special char legaci properti secur re...   \n691                0.0  elytron properties-realm compat legaci user pr...   \n637                0.0  No log messag com elytron permiss assignmentel...   \n757                0.0  don&apos;t use string upper caseto lower case ...   \n808                0.0  X M L pars defer functionthen op(function, cre...   \n\n                                              sim_vect  \\\nid                                                       \n256  [0.0, 0.019271321731496455, 0.0042429311370203...   \n429  [0.08364994100564117, 0.07427415593388388, 0.0...   \n385  [0.003584582410397278, 0.0031828095717335893, ...   \n401  [0.0026852687092160715, 0.002384294172057377, ...   \n502  [0.07627612627678136, 0.06772682477722512, 0.0...   \n538  [0.014762196227258424, 0.013107596387139618, 0...   \n395  [0.007444830454794847, 0.006610387185610448, 0...   \n537  [0.006987574135521589, 0.006204381792765455, 0...   \n542  [0.004073382557885936, 0.0036168232475188443, ...   \n543  [0.033366069268601695, 0.029626280687870026, 0...   \n545  [0.02365538451619607, 0.021004004271962872, 0....   \n546  [0.11199447308917704, 0.12179595783181346, 0.0...   \n589  [0.0, 0.0, 0.0, 0.0, 0.08888822543624783, 0.0,...   \n611  [0.01926911395381186, 0.017109362628440865, 0....   \n614  [0.0722247270179799, 0.03501448130614294, 0.00...   \n610  [0.03551188345924137, 0.03153158433644001, 0.0...   \n612  [0.03619624644251444, 0.032139241464752555, 0....   \n654  [0.0, 0.0, 0.0, 0.007741275781190185, 0.0, 0.0...   \n634  [0.006046895122965171, 0.005369137454008114, 0...   \n627  [0.035080517043787986, 0.031148567014241724, 0...   \n692  [0.0, 0.0, 0.007836449023673328, 0.0, 0.028303...   \n691  [0.08537209236074056, 0.07580328239533322, 0.0...   \n637  [0.017658409645957666, 0.01567919182991187, 0....   \n757  [0.08509286693216991, 0.09785558900392012, 0.0...   \n808  [0.004262447064685905, 0.003784696727055151, 0...   \n\n                                            ranked_sim  \\\nid                                                       \n256  [(0.1883274558901454, 61), (0.1262279979850343...   \n429  [(0.1872651807205134, 4), (0.1745786005365252,...   \n385  [(0.6600978424038915, 67), (0.1160804935072865...   \n401  [(0.6511016385488106, 67), (0.1469216251618208...   \n502  [(0.17506446365851994, 38), (0.076276126276781...   \n538  [(0.31806495381451017, 32), (0.306025379103459...   \n395  [(0.46831641900160786, 40), (0.359767588588197...   \n537  [(0.13735673240630505, 2), (0.0814784967327505...   \n542  [(0.5505163321756278, 55), (0.4888299156765498...   \n543  [(0.5168309965816578, 42), (0.4935178981610711...   \n545  [(0.1290007264393106, 6), (0.07527532636010874...   \n546  [(0.35164331897607004, 6), (0.2879768109738263...   \n589  [(0.13603752432409488, 12), (0.111881931349754...   \n611  [(0.2661231422151541, 32), (0.2550448842718232...   \n614  [(0.2709803742250482, 32), (0.2443792208762052...   \n610  [(0.149593432487566, 41), (0.0732772045325982,...   \n612  [(0.2982388034960097, 42), (0.2781185414427762...   \n654  [(0.29146833022846214, 17), (0.290502347615819...   \n634  [(0.27502852777309955, 14), (0.177365486939076...   \n627  [(0.3356671934644041, 54), (0.2398601053994482...   \n692  [(0.1360146209366704, 23), (0.1292637485197145...   \n691  [(0.18361474946486295, 38), (0.115358730249597...   \n637  [(0.2089409940707395, 31), (0.2027909358620748...   \n757  [(0.09785558900392012, 1), (0.0850928669321699...   \n808  [(0.18887530562662397, 12), (0.154852675574223...   \n\n                      fix_indexes  \nid                                 \n256                      [-1, -1]  \n429                          [-1]  \n385                          [51]  \n401                          [51]  \n502                          [-1]  \n538                  [33, -1, -1]  \n395                          [40]  \n537                          [-1]  \n542                          [-1]  \n543                          [-1]  \n545                          [-1]  \n546                          [-1]  \n589                          [-1]  \n611                          [-1]  \n614                          [-1]  \n610                          [-1]  \n612                          [-1]  \n654                          [-1]  \n634  [-1, -1, 64, -1, -1, -1, -1]  \n627                          [54]  \n692                          [-1]  \n691                      [-1, -1]  \n637  [-1, -1, 64, -1, -1, -1, -1]  \n757                      [-1, -1]  \n808                          [-1]  ",
      "text/html": "<div>\n<style scoped>\n    .dataframe tbody tr th:only-of-type {\n        vertical-align: middle;\n    }\n\n    .dataframe tbody tr th {\n        vertical-align: top;\n    }\n\n    .dataframe thead th {\n        text-align: right;\n    }\n</style>\n<table border=\"1\" class=\"dataframe\">\n  <thead>\n    <tr style=\"text-align: right;\">\n      <th></th>\n      <th>fix</th>\n      <th>text</th>\n      <th>fixdate</th>\n      <th>summary</th>\n      <th>description</th>\n      <th>project</th>\n      <th>average_precision</th>\n      <th>query</th>\n      <th>sim_vect</th>\n      <th>ranked_sim</th>\n      <th>fix_indexes</th>\n    </tr>\n    <tr>\n      <th>id</th>\n      <th></th>\n      <th></th>\n      <th></th>\n      <th></th>\n      <th></th>\n      <th></th>\n      <th></th>\n      <th></th>\n      <th></th>\n      <th></th>\n      <th></th>\n    </tr>\n  </thead>\n  <tbody>\n    <tr>\n      <th>256</th>\n      <td>[org.wildfly.security.sasl.util.channelbinding...</td>\n      <td>NaN</td>\n      <td>2015-08-06 16:08:18</td>\n      <td>Channel Binding Sasl Client and - Server Facto...</td>\n      <td>Currently this causes a  Fast Unsupported Call...</td>\n      <td>ELY</td>\n      <td>0.0</td>\n      <td>channel bind sasl client server factori pass c...</td>\n      <td>[0.0, 0.019271321731496455, 0.0042429311370203...</td>\n      <td>[(0.1883274558901454, 61), (0.1262279979850343...</td>\n      <td>[-1, -1]</td>\n    </tr>\n    <tr>\n      <th>429</th>\n      <td>[org.wildfly.security.auth.provider.ldap.ldaps...</td>\n      <td>NaN</td>\n      <td>2016-03-15 08:28:29</td>\n      <td>Ldap Security Realm Builder.build() should be ...</td>\n      <td>Class  Ldap Security Realm cannot be used from...</td>\n      <td>ELY</td>\n      <td>0.0</td>\n      <td>ldap secur realm builder.build() retunr type i...</td>\n      <td>[0.08364994100564117, 0.07427415593388388, 0.0...</td>\n      <td>[(0.1872651807205134, 4), (0.1745786005365252,...</td>\n      <td>[-1]</td>\n    </tr>\n    <tr>\n      <th>385</th>\n      <td>[org.wildfly.security.ssl.mechanismdatabase.java]</td>\n      <td>NaN</td>\n      <td>2016-03-15 08:30:20</td>\n      <td>E L Y01077:  Invalid alias \" T L S_ R S A_ W I...</td>\n      <td>W A R N [org.wildfly.security] ( M S C service...</td>\n      <td>ELY</td>\n      <td>0.0</td>\n      <td>E L y01077: invalid alia \" T L S_ R S A_ W I T...</td>\n      <td>[0.003584582410397278, 0.0031828095717335893, ...</td>\n      <td>[(0.6600978424038915, 67), (0.1160804935072865...</td>\n      <td>[51]</td>\n    </tr>\n    <tr>\n      <th>401</th>\n      <td>[org.wildfly.security.ssl.mechanismdatabase.java]</td>\n      <td>NaN</td>\n      <td>2016-03-15 08:40:24</td>\n      <td>E L Y01077:  Invalid alias \" T L S_ R S A_ W I...</td>\n      <td>Getting the following warning logged when filt...</td>\n      <td>ELY</td>\n      <td>0.0</td>\n      <td>E L y01077: invalid alia \" T L S_ R S A_ W I T...</td>\n      <td>[0.0026852687092160715, 0.002384294172057377, ...</td>\n      <td>[(0.6511016385488106, 67), (0.1469216251618208...</td>\n      <td>[51]</td>\n    </tr>\n    <tr>\n      <th>502</th>\n      <td>[org.wildfly.security.credential.store.impl.ke...</td>\n      <td>NaN</td>\n      <td>2016-04-20 08:12:45</td>\n      <td>Remove operation doesn&amp;apos;t persist the resu...</td>\n      <td>Remove operation doesn&amp;amp;apos;t persist the ...</td>\n      <td>ELY</td>\n      <td>0.0</td>\n      <td>remov oper doesn&amp;apos;t persist result keystor...</td>\n      <td>[0.07627612627678136, 0.06772682477722512, 0.0...</td>\n      <td>[(0.17506446365851994, 38), (0.076276126276781...</td>\n      <td>[-1]</td>\n    </tr>\n    <tr>\n      <th>538</th>\n      <td>[org.wildfly.security.permission.elytronpermis...</td>\n      <td>NaN</td>\n      <td>2016-05-27 14:53:25</td>\n      <td>Infinite loop in  Elytron Permission Collectio...</td>\n      <td>There is infinite loop in  Elytron Permission ...</td>\n      <td>ELY</td>\n      <td>0.0</td>\n      <td>infinit loop elytron permiss collection.read r...</td>\n      <td>[0.014762196227258424, 0.013107596387139618, 0...</td>\n      <td>[(0.31806495381451017, 32), (0.306025379103459...</td>\n      <td>[33, -1, -1]</td>\n    </tr>\n    <tr>\n      <th>395</th>\n      <td>[org.wildfly.security.ssl.ciphersuiteselector....</td>\n      <td>NaN</td>\n      <td>2016-06-01 13:52:37</td>\n      <td>Undertow  H T T P S listener offers no cipher ...</td>\n      <td>No cipher suites are available for handshake w...</td>\n      <td>ELY</td>\n      <td>0.0</td>\n      <td>undertow H T T P S listen offer cipher suit D ...</td>\n      <td>[0.007444830454794847, 0.006610387185610448, 0...</td>\n      <td>[(0.46831641900160786, 40), (0.359767588588197...</td>\n      <td>[40]</td>\n    </tr>\n    <tr>\n      <th>537</th>\n      <td>[org.wildfly.security.credential.store.impl.ke...</td>\n      <td>NaN</td>\n      <td>2016-06-18 13:31:38</td>\n      <td>Resource leaks in  Keystore Password Store</td>\n      <td>There are two resource leaks in org.wildfly.se...</td>\n      <td>ELY</td>\n      <td>0.0</td>\n      <td>resourc leak keystor password storether resour...</td>\n      <td>[0.006987574135521589, 0.006204381792765455, 0...</td>\n      <td>[(0.13735673240630505, 2), (0.0814784967327505...</td>\n      <td>[-1]</td>\n    </tr>\n    <tr>\n      <th>542</th>\n      <td>[org.wildfly.security.ssl.protocolselector.java]</td>\n      <td>NaN</td>\n      <td>2016-06-18 13:32:25</td>\n      <td>Incorrectly implemented apply Filter method of...</td>\n      <td>Method apply Filter from org.wildfly.security....</td>\n      <td>ELY</td>\n      <td>0.0</td>\n      <td>incorrectli implement appli filter method prot...</td>\n      <td>[0.004073382557885936, 0.0036168232475188443, ...</td>\n      <td>[(0.5505163321756278, 55), (0.4888299156765498...</td>\n      <td>[-1]</td>\n    </tr>\n    <tr>\n      <th>543</th>\n      <td>[org.wildfly.security.sasl.digest.abstractdige...</td>\n      <td>NaN</td>\n      <td>2016-06-18 13:32:57</td>\n      <td>Missing null check in constructor of  Abstract...</td>\n      <td>There is missing null check in constructor of ...</td>\n      <td>ELY</td>\n      <td>0.0</td>\n      <td>miss null check constructor abstract digest me...</td>\n      <td>[0.033366069268601695, 0.029626280687870026, 0...</td>\n      <td>[(0.5168309965816578, 42), (0.4935178981610711...</td>\n      <td>[-1]</td>\n    </tr>\n    <tr>\n      <th>545</th>\n      <td>[org.wildfly.security.util.uriutil.java]</td>\n      <td>NaN</td>\n      <td>2016-06-18 13:33:22</td>\n      <td>Missing null checks in  U R I Util.get Host Fo...</td>\n      <td>There is public static method org.wildfly.secu...</td>\n      <td>ELY</td>\n      <td>0.0</td>\n      <td>miss null check U R I util.get host for U R I(...</td>\n      <td>[0.02365538451619607, 0.021004004271962872, 0....</td>\n      <td>[(0.1290007264393106, 6), (0.07527532636010874...</td>\n      <td>[-1]</td>\n    </tr>\n    <tr>\n      <th>546</th>\n      <td>[org.wildfly.security.auth.server.securitydoma...</td>\n      <td>NaN</td>\n      <td>2016-06-18 13:33:48</td>\n      <td>Missing null check in  Security Domain.map Nam...</td>\n      <td>There is missing null check in org.wildfly.sec...</td>\n      <td>ELY</td>\n      <td>0.0</td>\n      <td>miss null check secur domain.map name() method...</td>\n      <td>[0.11199447308917704, 0.12179595783181346, 0.0...</td>\n      <td>[(0.35164331897607004, 6), (0.2879768109738263...</td>\n      <td>[-1]</td>\n    </tr>\n    <tr>\n      <th>589</th>\n      <td>[org.wildfly.security.password.interfaces.rawc...</td>\n      <td>NaN</td>\n      <td>2016-07-25 09:48:50</td>\n      <td>Raw Clear Password should implement  Destroyab...</td>\n      <td>Class  Raw Clear Password doesn&amp;amp;apos;t imp...</td>\n      <td>ELY</td>\n      <td>0.0</td>\n      <td>raw clear password implement destroy interface...</td>\n      <td>[0.0, 0.0, 0.0, 0.0, 0.08888822543624783, 0.0,...</td>\n      <td>[(0.13603752432409488, 12), (0.111881931349754...</td>\n      <td>[-1]</td>\n    </tr>\n    <tr>\n      <th>611</th>\n      <td>[org.wildfly.security.permission.longnamesetpe...</td>\n      <td>NaN</td>\n      <td>2016-07-29 15:23:24</td>\n      <td>Unintentional integer overflow in  Long Name S...</td>\n      <td>There are potentially overflowing expressions ...</td>\n      <td>ELY</td>\n      <td>0.0</td>\n      <td>unintent integ overflow long name set permiss ...</td>\n      <td>[0.01926911395381186, 0.017109362628440865, 0....</td>\n      <td>[(0.2661231422151541, 32), (0.2550448842718232...</td>\n      <td>[-1]</td>\n    </tr>\n    <tr>\n      <th>614</th>\n      <td>[org.wildfly.security.permission.abstractpermi...</td>\n      <td>NaN</td>\n      <td>2016-07-29 15:23:39</td>\n      <td>Missing null check in equals() method of  Abst...</td>\n      <td>There is missing null check in org.wildfly.sec...</td>\n      <td>ELY</td>\n      <td>0.0</td>\n      <td>miss null check equals() method abstract permi...</td>\n      <td>[0.0722247270179799, 0.03501448130614294, 0.00...</td>\n      <td>[(0.2709803742250482, 32), (0.2443792208762052...</td>\n      <td>[-1]</td>\n    </tr>\n    <tr>\n      <th>610</th>\n      <td>[org.wildfly.security.x500.cert.x509certificat...</td>\n      <td>NaN</td>\n      <td>2016-07-29 15:23:53</td>\n      <td>Missing null check in build() method of  X509 ...</td>\n      <td>Calling  A S N1.oid From Signature Algorithm( ...</td>\n      <td>ELY</td>\n      <td>0.0</td>\n      <td>miss null check build() method x509 certif bui...</td>\n      <td>[0.03551188345924137, 0.03153158433644001, 0.0...</td>\n      <td>[(0.149593432487566, 41), (0.0732772045325982,...</td>\n      <td>[-1]</td>\n    </tr>\n    <tr>\n      <th>612</th>\n      <td>[org.wildfly.security.sasl.digest.abstractdige...</td>\n      <td>NaN</td>\n      <td>2016-07-29 15:24:11</td>\n      <td>Missing or unnecessary null check in  Abstract...</td>\n      <td>There is missing or unnecessary null check in ...</td>\n      <td>ELY</td>\n      <td>0.0</td>\n      <td>miss unnecessari null check abstract digest me...</td>\n      <td>[0.03619624644251444, 0.032139241464752555, 0....</td>\n      <td>[(0.2982388034960097, 42), (0.2781185414427762...</td>\n      <td>[-1]</td>\n    </tr>\n    <tr>\n      <th>654</th>\n      <td>[org.wildfly.security.ssl.sslcontextbuilder.java]</td>\n      <td>NaN</td>\n      <td>2016-10-11 21:11:27</td>\n      <td>Ensure that negative values are converted to z...</td>\n      <td>Ensure that negative values are converted to z...</td>\n      <td>ELY</td>\n      <td>0.0</td>\n      <td>ensur neg valu convert zero set session cach s...</td>\n      <td>[0.0, 0.0, 0.0, 0.007741275781190185, 0.0, 0.0...</td>\n      <td>[(0.29146833022846214, 17), (0.290502347615819...</td>\n      <td>[-1]</td>\n    </tr>\n    <tr>\n      <th>634</th>\n      <td>[org.wildfly.security.auth.server.serverauthen...</td>\n      <td>NaN</td>\n      <td>2016-10-12 10:32:51</td>\n      <td>No log messages comming from  Elytron - group ...</td>\n      <td>Elytron is missing any log messages related to...</td>\n      <td>ELY</td>\n      <td>0.0</td>\n      <td>No log messag com elytron group assignmentelyt...</td>\n      <td>[0.006046895122965171, 0.005369137454008114, 0...</td>\n      <td>[(0.27502852777309955, 14), (0.177365486939076...</td>\n      <td>[-1, -1, 64, -1, -1, -1, -1]</td>\n    </tr>\n    <tr>\n      <th>627</th>\n      <td>[org.wildfly.security.ssl.protocol.java]</td>\n      <td>NaN</td>\n      <td>2016-10-25 14:39:59</td>\n      <td>Elytron introduces  S S L T L S protocol const...</td>\n      <td>L I S T,nnnnn \"description\" =&amp;gt; \" The enable...</td>\n      <td>ELY</td>\n      <td>0.0</td>\n      <td>elytron introduc S S L T L S protocol constrai...</td>\n      <td>[0.035080517043787986, 0.031148567014241724, 0...</td>\n      <td>[(0.3356671934644041, 54), (0.2398601053994482...</td>\n      <td>[54]</td>\n    </tr>\n    <tr>\n      <th>692</th>\n      <td>[org.wildfly.security.auth.realm.legacypropert...</td>\n      <td>NaN</td>\n      <td>2016-11-02 09:35:48</td>\n      <td>Add tests for special chars in  Legacy Propert...</td>\n      <td>Add tests for issue https:issues.jboss.orgbrow...</td>\n      <td>ELY</td>\n      <td>0.0</td>\n      <td>add test special char legaci properti secur re...</td>\n      <td>[0.0, 0.0, 0.007836449023673328, 0.0, 0.028303...</td>\n      <td>[(0.1360146209366704, 23), (0.1292637485197145...</td>\n      <td>[-1]</td>\n    </tr>\n    <tr>\n      <th>691</th>\n      <td>[org.wildfly.security.auth.realm.legacypropert...</td>\n      <td>NaN</td>\n      <td>2016-11-02 09:36:13</td>\n      <td>Elytron properties-realm is not compatible wit...</td>\n      <td>When users properties file (e.g. mgmt-users.pr...</td>\n      <td>ELY</td>\n      <td>0.0</td>\n      <td>elytron properties-realm compat legaci user pr...</td>\n      <td>[0.08537209236074056, 0.07580328239533322, 0.0...</td>\n      <td>[(0.18361474946486295, 38), (0.115358730249597...</td>\n      <td>[-1, -1]</td>\n    </tr>\n    <tr>\n      <th>637</th>\n      <td>[org.wildfly.security.auth.server.serverauthen...</td>\n      <td>NaN</td>\n      <td>2016-11-03 15:03:29</td>\n      <td>No log messages comming from  Elytron - permis...</td>\n      <td>Elytron is missing any log messages related to...</td>\n      <td>ELY</td>\n      <td>0.0</td>\n      <td>No log messag com elytron permiss assignmentel...</td>\n      <td>[0.017658409645957666, 0.01567919182991187, 0....</td>\n      <td>[(0.2089409940707395, 31), (0.2027909358620748...</td>\n      <td>[-1, -1, 64, -1, -1, -1, -1]</td>\n    </tr>\n    <tr>\n      <th>757</th>\n      <td>[org.wildfly.security.ssl.sslauthenticationtes...</td>\n      <td>NaN</td>\n      <td>2016-11-21 09:24:47</td>\n      <td>Don&amp;apos;t use  String to Upper Caseto Lower C...</td>\n      <td>The  String.to Upper Case() and  String.to Low...</td>\n      <td>ELY</td>\n      <td>0.0</td>\n      <td>don&amp;apos;t use string upper caseto lower case ...</td>\n      <td>[0.08509286693216991, 0.09785558900392012, 0.0...</td>\n      <td>[(0.09785558900392012, 1), (0.0850928669321699...</td>\n      <td>[-1, -1]</td>\n    </tr>\n    <tr>\n      <th>808</th>\n      <td>[org.wildfly.security.auth.client.elytronxmlpa...</td>\n      <td>NaN</td>\n      <td>2016-12-02 17:08:15</td>\n      <td>X M L  Parsing  Deferred into  Function</td>\n      <td>Then Op(function, credential Source -&amp;gt; cred...</td>\n      <td>ELY</td>\n      <td>0.0</td>\n      <td>X M L pars defer functionthen op(function, cre...</td>\n      <td>[0.004262447064685905, 0.003784696727055151, 0...</td>\n      <td>[(0.18887530562662397, 12), (0.154852675574223...</td>\n      <td>[-1]</td>\n    </tr>\n  </tbody>\n</table>\n</div>"
     },
     "metadata": {}
    }
   ],
   "source": [
    "bugs, sources = generate_all_scores()"
   ]
  },
  {
   "source": [
    "## Calculate and graph MRR and MAP"
   ],
   "cell_type": "markdown",
   "metadata": {}
  },
  {
   "cell_type": "code",
   "execution_count": 22,
   "metadata": {},
   "outputs": [
    {
     "output_type": "display_data",
     "data": {
      "text/plain": "<Figure size 720x504 with 1 Axes>",
      "image/svg+xml": "<?xml version=\"1.0\" encoding=\"utf-8\" standalone=\"no\"?>\r\n<!DOCTYPE svg PUBLIC \"-//W3C//DTD SVG 1.1//EN\"\r\n  \"http://www.w3.org/Graphics/SVG/1.1/DTD/svg11.dtd\">\r\n<!-- Created with matplotlib (https://matplotlib.org/) -->\r\n<svg height=\"411.87625pt\" version=\"1.1\" viewBox=\"0 0 595.303125 411.87625\" width=\"595.303125pt\" xmlns=\"http://www.w3.org/2000/svg\" xmlns:xlink=\"http://www.w3.org/1999/xlink\">\r\n <defs>\r\n  <style type=\"text/css\">\r\n*{stroke-linecap:butt;stroke-linejoin:round;}\r\n  </style>\r\n </defs>\r\n <g id=\"figure_1\">\r\n  <g id=\"patch_1\">\r\n   <path d=\"M -0 411.87625 \r\nL 595.303125 411.87625 \r\nL 595.303125 0 \r\nL -0 0 \r\nz\r\n\" style=\"fill:none;\"/>\r\n  </g>\r\n  <g id=\"axes_1\">\r\n   <g id=\"patch_2\">\r\n    <path d=\"M 30.103125 387.72 \r\nL 588.103125 387.72 \r\nL 588.103125 7.2 \r\nL 30.103125 7.2 \r\nz\r\n\" style=\"fill:#ffffff;\"/>\r\n   </g>\r\n   <g id=\"matplotlib.axis_1\">\r\n    <g id=\"xtick_1\">\r\n     <g id=\"line2d_1\">\r\n      <path clip-path=\"url(#pb0a52be286)\" d=\"M 85.903125 387.72 \r\nL 85.903125 7.2 \r\n\" style=\"fill:none;stroke:#b0b0b0;stroke-linecap:square;stroke-width:0.8;\"/>\r\n     </g>\r\n     <g id=\"line2d_2\">\r\n      <defs>\r\n       <path d=\"M 0 0 \r\nL 0 3.5 \r\n\" id=\"m4af8460c3a\" style=\"stroke:#000000;stroke-width:0.8;\"/>\r\n      </defs>\r\n      <g>\r\n       <use style=\"stroke:#000000;stroke-width:0.8;\" x=\"85.903125\" xlink:href=\"#m4af8460c3a\" y=\"387.72\"/>\r\n      </g>\r\n     </g>\r\n     <g id=\"text_1\">\r\n      <!-- reciprocal_rank -->\r\n      <defs>\r\n       <path d=\"M 41.109375 46.296875 \r\nQ 39.59375 47.171875 37.8125 47.578125 \r\nQ 36.03125 48 33.890625 48 \r\nQ 26.265625 48 22.1875 43.046875 \r\nQ 18.109375 38.09375 18.109375 28.8125 \r\nL 18.109375 0 \r\nL 9.078125 0 \r\nL 9.078125 54.6875 \r\nL 18.109375 54.6875 \r\nL 18.109375 46.1875 \r\nQ 20.953125 51.171875 25.484375 53.578125 \r\nQ 30.03125 56 36.53125 56 \r\nQ 37.453125 56 38.578125 55.875 \r\nQ 39.703125 55.765625 41.0625 55.515625 \r\nz\r\n\" id=\"DejaVuSans-114\"/>\r\n       <path d=\"M 56.203125 29.59375 \r\nL 56.203125 25.203125 \r\nL 14.890625 25.203125 \r\nQ 15.484375 15.921875 20.484375 11.0625 \r\nQ 25.484375 6.203125 34.421875 6.203125 \r\nQ 39.59375 6.203125 44.453125 7.46875 \r\nQ 49.3125 8.734375 54.109375 11.28125 \r\nL 54.109375 2.78125 \r\nQ 49.265625 0.734375 44.1875 -0.34375 \r\nQ 39.109375 -1.421875 33.890625 -1.421875 \r\nQ 20.796875 -1.421875 13.15625 6.1875 \r\nQ 5.515625 13.8125 5.515625 26.8125 \r\nQ 5.515625 40.234375 12.765625 48.109375 \r\nQ 20.015625 56 32.328125 56 \r\nQ 43.359375 56 49.78125 48.890625 \r\nQ 56.203125 41.796875 56.203125 29.59375 \r\nz\r\nM 47.21875 32.234375 \r\nQ 47.125 39.59375 43.09375 43.984375 \r\nQ 39.0625 48.390625 32.421875 48.390625 \r\nQ 24.90625 48.390625 20.390625 44.140625 \r\nQ 15.875 39.890625 15.1875 32.171875 \r\nz\r\n\" id=\"DejaVuSans-101\"/>\r\n       <path d=\"M 48.78125 52.59375 \r\nL 48.78125 44.1875 \r\nQ 44.96875 46.296875 41.140625 47.34375 \r\nQ 37.3125 48.390625 33.40625 48.390625 \r\nQ 24.65625 48.390625 19.8125 42.84375 \r\nQ 14.984375 37.3125 14.984375 27.296875 \r\nQ 14.984375 17.28125 19.8125 11.734375 \r\nQ 24.65625 6.203125 33.40625 6.203125 \r\nQ 37.3125 6.203125 41.140625 7.25 \r\nQ 44.96875 8.296875 48.78125 10.40625 \r\nL 48.78125 2.09375 \r\nQ 45.015625 0.34375 40.984375 -0.53125 \r\nQ 36.96875 -1.421875 32.421875 -1.421875 \r\nQ 20.0625 -1.421875 12.78125 6.34375 \r\nQ 5.515625 14.109375 5.515625 27.296875 \r\nQ 5.515625 40.671875 12.859375 48.328125 \r\nQ 20.21875 56 33.015625 56 \r\nQ 37.15625 56 41.109375 55.140625 \r\nQ 45.0625 54.296875 48.78125 52.59375 \r\nz\r\n\" id=\"DejaVuSans-99\"/>\r\n       <path d=\"M 9.421875 54.6875 \r\nL 18.40625 54.6875 \r\nL 18.40625 0 \r\nL 9.421875 0 \r\nz\r\nM 9.421875 75.984375 \r\nL 18.40625 75.984375 \r\nL 18.40625 64.59375 \r\nL 9.421875 64.59375 \r\nz\r\n\" id=\"DejaVuSans-105\"/>\r\n       <path d=\"M 18.109375 8.203125 \r\nL 18.109375 -20.796875 \r\nL 9.078125 -20.796875 \r\nL 9.078125 54.6875 \r\nL 18.109375 54.6875 \r\nL 18.109375 46.390625 \r\nQ 20.953125 51.265625 25.265625 53.625 \r\nQ 29.59375 56 35.59375 56 \r\nQ 45.5625 56 51.78125 48.09375 \r\nQ 58.015625 40.1875 58.015625 27.296875 \r\nQ 58.015625 14.40625 51.78125 6.484375 \r\nQ 45.5625 -1.421875 35.59375 -1.421875 \r\nQ 29.59375 -1.421875 25.265625 0.953125 \r\nQ 20.953125 3.328125 18.109375 8.203125 \r\nz\r\nM 48.6875 27.296875 \r\nQ 48.6875 37.203125 44.609375 42.84375 \r\nQ 40.53125 48.484375 33.40625 48.484375 \r\nQ 26.265625 48.484375 22.1875 42.84375 \r\nQ 18.109375 37.203125 18.109375 27.296875 \r\nQ 18.109375 17.390625 22.1875 11.75 \r\nQ 26.265625 6.109375 33.40625 6.109375 \r\nQ 40.53125 6.109375 44.609375 11.75 \r\nQ 48.6875 17.390625 48.6875 27.296875 \r\nz\r\n\" id=\"DejaVuSans-112\"/>\r\n       <path d=\"M 30.609375 48.390625 \r\nQ 23.390625 48.390625 19.1875 42.75 \r\nQ 14.984375 37.109375 14.984375 27.296875 \r\nQ 14.984375 17.484375 19.15625 11.84375 \r\nQ 23.34375 6.203125 30.609375 6.203125 \r\nQ 37.796875 6.203125 41.984375 11.859375 \r\nQ 46.1875 17.53125 46.1875 27.296875 \r\nQ 46.1875 37.015625 41.984375 42.703125 \r\nQ 37.796875 48.390625 30.609375 48.390625 \r\nz\r\nM 30.609375 56 \r\nQ 42.328125 56 49.015625 48.375 \r\nQ 55.71875 40.765625 55.71875 27.296875 \r\nQ 55.71875 13.875 49.015625 6.21875 \r\nQ 42.328125 -1.421875 30.609375 -1.421875 \r\nQ 18.84375 -1.421875 12.171875 6.21875 \r\nQ 5.515625 13.875 5.515625 27.296875 \r\nQ 5.515625 40.765625 12.171875 48.375 \r\nQ 18.84375 56 30.609375 56 \r\nz\r\n\" id=\"DejaVuSans-111\"/>\r\n       <path d=\"M 34.28125 27.484375 \r\nQ 23.390625 27.484375 19.1875 25 \r\nQ 14.984375 22.515625 14.984375 16.5 \r\nQ 14.984375 11.71875 18.140625 8.90625 \r\nQ 21.296875 6.109375 26.703125 6.109375 \r\nQ 34.1875 6.109375 38.703125 11.40625 \r\nQ 43.21875 16.703125 43.21875 25.484375 \r\nL 43.21875 27.484375 \r\nz\r\nM 52.203125 31.203125 \r\nL 52.203125 0 \r\nL 43.21875 0 \r\nL 43.21875 8.296875 \r\nQ 40.140625 3.328125 35.546875 0.953125 \r\nQ 30.953125 -1.421875 24.3125 -1.421875 \r\nQ 15.921875 -1.421875 10.953125 3.296875 \r\nQ 6 8.015625 6 15.921875 \r\nQ 6 25.140625 12.171875 29.828125 \r\nQ 18.359375 34.515625 30.609375 34.515625 \r\nL 43.21875 34.515625 \r\nL 43.21875 35.40625 \r\nQ 43.21875 41.609375 39.140625 45 \r\nQ 35.0625 48.390625 27.6875 48.390625 \r\nQ 23 48.390625 18.546875 47.265625 \r\nQ 14.109375 46.140625 10.015625 43.890625 \r\nL 10.015625 52.203125 \r\nQ 14.9375 54.109375 19.578125 55.046875 \r\nQ 24.21875 56 28.609375 56 \r\nQ 40.484375 56 46.34375 49.84375 \r\nQ 52.203125 43.703125 52.203125 31.203125 \r\nz\r\n\" id=\"DejaVuSans-97\"/>\r\n       <path d=\"M 9.421875 75.984375 \r\nL 18.40625 75.984375 \r\nL 18.40625 0 \r\nL 9.421875 0 \r\nz\r\n\" id=\"DejaVuSans-108\"/>\r\n       <path d=\"M 50.984375 -16.609375 \r\nL 50.984375 -23.578125 \r\nL -0.984375 -23.578125 \r\nL -0.984375 -16.609375 \r\nz\r\n\" id=\"DejaVuSans-95\"/>\r\n       <path d=\"M 54.890625 33.015625 \r\nL 54.890625 0 \r\nL 45.90625 0 \r\nL 45.90625 32.71875 \r\nQ 45.90625 40.484375 42.875 44.328125 \r\nQ 39.84375 48.1875 33.796875 48.1875 \r\nQ 26.515625 48.1875 22.3125 43.546875 \r\nQ 18.109375 38.921875 18.109375 30.90625 \r\nL 18.109375 0 \r\nL 9.078125 0 \r\nL 9.078125 54.6875 \r\nL 18.109375 54.6875 \r\nL 18.109375 46.1875 \r\nQ 21.34375 51.125 25.703125 53.5625 \r\nQ 30.078125 56 35.796875 56 \r\nQ 45.21875 56 50.046875 50.171875 \r\nQ 54.890625 44.34375 54.890625 33.015625 \r\nz\r\n\" id=\"DejaVuSans-110\"/>\r\n       <path d=\"M 9.078125 75.984375 \r\nL 18.109375 75.984375 \r\nL 18.109375 31.109375 \r\nL 44.921875 54.6875 \r\nL 56.390625 54.6875 \r\nL 27.390625 29.109375 \r\nL 57.625 0 \r\nL 45.90625 0 \r\nL 18.109375 26.703125 \r\nL 18.109375 0 \r\nL 9.078125 0 \r\nz\r\n\" id=\"DejaVuSans-107\"/>\r\n      </defs>\r\n      <g transform=\"translate(47.682813 402.318437)scale(0.1 -0.1)\">\r\n       <use xlink:href=\"#DejaVuSans-114\"/>\r\n       <use x=\"38.863281\" xlink:href=\"#DejaVuSans-101\"/>\r\n       <use x=\"100.386719\" xlink:href=\"#DejaVuSans-99\"/>\r\n       <use x=\"155.367188\" xlink:href=\"#DejaVuSans-105\"/>\r\n       <use x=\"183.150391\" xlink:href=\"#DejaVuSans-112\"/>\r\n       <use x=\"246.626953\" xlink:href=\"#DejaVuSans-114\"/>\r\n       <use x=\"285.490234\" xlink:href=\"#DejaVuSans-111\"/>\r\n       <use x=\"346.671875\" xlink:href=\"#DejaVuSans-99\"/>\r\n       <use x=\"401.652344\" xlink:href=\"#DejaVuSans-97\"/>\r\n       <use x=\"462.931641\" xlink:href=\"#DejaVuSans-108\"/>\r\n       <use x=\"490.714844\" xlink:href=\"#DejaVuSans-95\"/>\r\n       <use x=\"540.714844\" xlink:href=\"#DejaVuSans-114\"/>\r\n       <use x=\"581.828125\" xlink:href=\"#DejaVuSans-97\"/>\r\n       <use x=\"643.107422\" xlink:href=\"#DejaVuSans-110\"/>\r\n       <use x=\"706.486328\" xlink:href=\"#DejaVuSans-107\"/>\r\n      </g>\r\n     </g>\r\n    </g>\r\n    <g id=\"xtick_2\">\r\n     <g id=\"line2d_3\">\r\n      <path clip-path=\"url(#pb0a52be286)\" d=\"M 197.503125 387.72 \r\nL 197.503125 7.2 \r\n\" style=\"fill:none;stroke:#b0b0b0;stroke-linecap:square;stroke-width:0.8;\"/>\r\n     </g>\r\n     <g id=\"line2d_4\">\r\n      <g>\r\n       <use style=\"stroke:#000000;stroke-width:0.8;\" x=\"197.503125\" xlink:href=\"#m4af8460c3a\" y=\"387.72\"/>\r\n      </g>\r\n     </g>\r\n     <g id=\"text_2\">\r\n      <!-- average_precision_1 -->\r\n      <defs>\r\n       <path d=\"M 2.984375 54.6875 \r\nL 12.5 54.6875 \r\nL 29.59375 8.796875 \r\nL 46.6875 54.6875 \r\nL 56.203125 54.6875 \r\nL 35.6875 0 \r\nL 23.484375 0 \r\nz\r\n\" id=\"DejaVuSans-118\"/>\r\n       <path d=\"M 45.40625 27.984375 \r\nQ 45.40625 37.75 41.375 43.109375 \r\nQ 37.359375 48.484375 30.078125 48.484375 \r\nQ 22.859375 48.484375 18.828125 43.109375 \r\nQ 14.796875 37.75 14.796875 27.984375 \r\nQ 14.796875 18.265625 18.828125 12.890625 \r\nQ 22.859375 7.515625 30.078125 7.515625 \r\nQ 37.359375 7.515625 41.375 12.890625 \r\nQ 45.40625 18.265625 45.40625 27.984375 \r\nz\r\nM 54.390625 6.78125 \r\nQ 54.390625 -7.171875 48.1875 -13.984375 \r\nQ 42 -20.796875 29.203125 -20.796875 \r\nQ 24.46875 -20.796875 20.265625 -20.09375 \r\nQ 16.0625 -19.390625 12.109375 -17.921875 \r\nL 12.109375 -9.1875 \r\nQ 16.0625 -11.328125 19.921875 -12.34375 \r\nQ 23.78125 -13.375 27.78125 -13.375 \r\nQ 36.625 -13.375 41.015625 -8.765625 \r\nQ 45.40625 -4.15625 45.40625 5.171875 \r\nL 45.40625 9.625 \r\nQ 42.625 4.78125 38.28125 2.390625 \r\nQ 33.9375 0 27.875 0 \r\nQ 17.828125 0 11.671875 7.65625 \r\nQ 5.515625 15.328125 5.515625 27.984375 \r\nQ 5.515625 40.671875 11.671875 48.328125 \r\nQ 17.828125 56 27.875 56 \r\nQ 33.9375 56 38.28125 53.609375 \r\nQ 42.625 51.21875 45.40625 46.390625 \r\nL 45.40625 54.6875 \r\nL 54.390625 54.6875 \r\nz\r\n\" id=\"DejaVuSans-103\"/>\r\n       <path d=\"M 44.28125 53.078125 \r\nL 44.28125 44.578125 \r\nQ 40.484375 46.53125 36.375 47.5 \r\nQ 32.28125 48.484375 27.875 48.484375 \r\nQ 21.1875 48.484375 17.84375 46.4375 \r\nQ 14.5 44.390625 14.5 40.28125 \r\nQ 14.5 37.15625 16.890625 35.375 \r\nQ 19.28125 33.59375 26.515625 31.984375 \r\nL 29.59375 31.296875 \r\nQ 39.15625 29.25 43.1875 25.515625 \r\nQ 47.21875 21.78125 47.21875 15.09375 \r\nQ 47.21875 7.46875 41.1875 3.015625 \r\nQ 35.15625 -1.421875 24.609375 -1.421875 \r\nQ 20.21875 -1.421875 15.453125 -0.5625 \r\nQ 10.6875 0.296875 5.421875 2 \r\nL 5.421875 11.28125 \r\nQ 10.40625 8.6875 15.234375 7.390625 \r\nQ 20.0625 6.109375 24.8125 6.109375 \r\nQ 31.15625 6.109375 34.5625 8.28125 \r\nQ 37.984375 10.453125 37.984375 14.40625 \r\nQ 37.984375 18.0625 35.515625 20.015625 \r\nQ 33.0625 21.96875 24.703125 23.78125 \r\nL 21.578125 24.515625 \r\nQ 13.234375 26.265625 9.515625 29.90625 \r\nQ 5.8125 33.546875 5.8125 39.890625 \r\nQ 5.8125 47.609375 11.28125 51.796875 \r\nQ 16.75 56 26.8125 56 \r\nQ 31.78125 56 36.171875 55.265625 \r\nQ 40.578125 54.546875 44.28125 53.078125 \r\nz\r\n\" id=\"DejaVuSans-115\"/>\r\n       <path d=\"M 12.40625 8.296875 \r\nL 28.515625 8.296875 \r\nL 28.515625 63.921875 \r\nL 10.984375 60.40625 \r\nL 10.984375 69.390625 \r\nL 28.421875 72.90625 \r\nL 38.28125 72.90625 \r\nL 38.28125 8.296875 \r\nL 54.390625 8.296875 \r\nL 54.390625 0 \r\nL 12.40625 0 \r\nz\r\n\" id=\"DejaVuSans-49\"/>\r\n      </defs>\r\n      <g transform=\"translate(146.297656 402.318437)scale(0.1 -0.1)\">\r\n       <use xlink:href=\"#DejaVuSans-97\"/>\r\n       <use x=\"61.279297\" xlink:href=\"#DejaVuSans-118\"/>\r\n       <use x=\"120.458984\" xlink:href=\"#DejaVuSans-101\"/>\r\n       <use x=\"181.982422\" xlink:href=\"#DejaVuSans-114\"/>\r\n       <use x=\"223.095703\" xlink:href=\"#DejaVuSans-97\"/>\r\n       <use x=\"284.375\" xlink:href=\"#DejaVuSans-103\"/>\r\n       <use x=\"347.851562\" xlink:href=\"#DejaVuSans-101\"/>\r\n       <use x=\"409.375\" xlink:href=\"#DejaVuSans-95\"/>\r\n       <use x=\"459.375\" xlink:href=\"#DejaVuSans-112\"/>\r\n       <use x=\"522.851562\" xlink:href=\"#DejaVuSans-114\"/>\r\n       <use x=\"561.714844\" xlink:href=\"#DejaVuSans-101\"/>\r\n       <use x=\"623.238281\" xlink:href=\"#DejaVuSans-99\"/>\r\n       <use x=\"678.21875\" xlink:href=\"#DejaVuSans-105\"/>\r\n       <use x=\"706.001953\" xlink:href=\"#DejaVuSans-115\"/>\r\n       <use x=\"758.101562\" xlink:href=\"#DejaVuSans-105\"/>\r\n       <use x=\"785.884766\" xlink:href=\"#DejaVuSans-111\"/>\r\n       <use x=\"847.066406\" xlink:href=\"#DejaVuSans-110\"/>\r\n       <use x=\"910.445312\" xlink:href=\"#DejaVuSans-95\"/>\r\n       <use x=\"960.445312\" xlink:href=\"#DejaVuSans-49\"/>\r\n      </g>\r\n     </g>\r\n    </g>\r\n    <g id=\"xtick_3\">\r\n     <g id=\"line2d_5\">\r\n      <path clip-path=\"url(#pb0a52be286)\" d=\"M 309.103125 387.72 \r\nL 309.103125 7.2 \r\n\" style=\"fill:none;stroke:#b0b0b0;stroke-linecap:square;stroke-width:0.8;\"/>\r\n     </g>\r\n     <g id=\"line2d_6\">\r\n      <g>\r\n       <use style=\"stroke:#000000;stroke-width:0.8;\" x=\"309.103125\" xlink:href=\"#m4af8460c3a\" y=\"387.72\"/>\r\n      </g>\r\n     </g>\r\n     <g id=\"text_3\">\r\n      <!-- average_precision_3 -->\r\n      <defs>\r\n       <path d=\"M 40.578125 39.3125 \r\nQ 47.65625 37.796875 51.625 33 \r\nQ 55.609375 28.21875 55.609375 21.1875 \r\nQ 55.609375 10.40625 48.1875 4.484375 \r\nQ 40.765625 -1.421875 27.09375 -1.421875 \r\nQ 22.515625 -1.421875 17.65625 -0.515625 \r\nQ 12.796875 0.390625 7.625 2.203125 \r\nL 7.625 11.71875 \r\nQ 11.71875 9.328125 16.59375 8.109375 \r\nQ 21.484375 6.890625 26.8125 6.890625 \r\nQ 36.078125 6.890625 40.9375 10.546875 \r\nQ 45.796875 14.203125 45.796875 21.1875 \r\nQ 45.796875 27.640625 41.28125 31.265625 \r\nQ 36.765625 34.90625 28.71875 34.90625 \r\nL 20.21875 34.90625 \r\nL 20.21875 43.015625 \r\nL 29.109375 43.015625 \r\nQ 36.375 43.015625 40.234375 45.921875 \r\nQ 44.09375 48.828125 44.09375 54.296875 \r\nQ 44.09375 59.90625 40.109375 62.90625 \r\nQ 36.140625 65.921875 28.71875 65.921875 \r\nQ 24.65625 65.921875 20.015625 65.03125 \r\nQ 15.375 64.15625 9.8125 62.3125 \r\nL 9.8125 71.09375 \r\nQ 15.4375 72.65625 20.34375 73.4375 \r\nQ 25.25 74.21875 29.59375 74.21875 \r\nQ 40.828125 74.21875 47.359375 69.109375 \r\nQ 53.90625 64.015625 53.90625 55.328125 \r\nQ 53.90625 49.265625 50.4375 45.09375 \r\nQ 46.96875 40.921875 40.578125 39.3125 \r\nz\r\n\" id=\"DejaVuSans-51\"/>\r\n      </defs>\r\n      <g transform=\"translate(257.897656 402.318437)scale(0.1 -0.1)\">\r\n       <use xlink:href=\"#DejaVuSans-97\"/>\r\n       <use x=\"61.279297\" xlink:href=\"#DejaVuSans-118\"/>\r\n       <use x=\"120.458984\" xlink:href=\"#DejaVuSans-101\"/>\r\n       <use x=\"181.982422\" xlink:href=\"#DejaVuSans-114\"/>\r\n       <use x=\"223.095703\" xlink:href=\"#DejaVuSans-97\"/>\r\n       <use x=\"284.375\" xlink:href=\"#DejaVuSans-103\"/>\r\n       <use x=\"347.851562\" xlink:href=\"#DejaVuSans-101\"/>\r\n       <use x=\"409.375\" xlink:href=\"#DejaVuSans-95\"/>\r\n       <use x=\"459.375\" xlink:href=\"#DejaVuSans-112\"/>\r\n       <use x=\"522.851562\" xlink:href=\"#DejaVuSans-114\"/>\r\n       <use x=\"561.714844\" xlink:href=\"#DejaVuSans-101\"/>\r\n       <use x=\"623.238281\" xlink:href=\"#DejaVuSans-99\"/>\r\n       <use x=\"678.21875\" xlink:href=\"#DejaVuSans-105\"/>\r\n       <use x=\"706.001953\" xlink:href=\"#DejaVuSans-115\"/>\r\n       <use x=\"758.101562\" xlink:href=\"#DejaVuSans-105\"/>\r\n       <use x=\"785.884766\" xlink:href=\"#DejaVuSans-111\"/>\r\n       <use x=\"847.066406\" xlink:href=\"#DejaVuSans-110\"/>\r\n       <use x=\"910.445312\" xlink:href=\"#DejaVuSans-95\"/>\r\n       <use x=\"960.445312\" xlink:href=\"#DejaVuSans-51\"/>\r\n      </g>\r\n     </g>\r\n    </g>\r\n    <g id=\"xtick_4\">\r\n     <g id=\"line2d_7\">\r\n      <path clip-path=\"url(#pb0a52be286)\" d=\"M 420.703125 387.72 \r\nL 420.703125 7.2 \r\n\" style=\"fill:none;stroke:#b0b0b0;stroke-linecap:square;stroke-width:0.8;\"/>\r\n     </g>\r\n     <g id=\"line2d_8\">\r\n      <g>\r\n       <use style=\"stroke:#000000;stroke-width:0.8;\" x=\"420.703125\" xlink:href=\"#m4af8460c3a\" y=\"387.72\"/>\r\n      </g>\r\n     </g>\r\n     <g id=\"text_4\">\r\n      <!-- average_precision_5 -->\r\n      <defs>\r\n       <path d=\"M 10.796875 72.90625 \r\nL 49.515625 72.90625 \r\nL 49.515625 64.59375 \r\nL 19.828125 64.59375 \r\nL 19.828125 46.734375 \r\nQ 21.96875 47.46875 24.109375 47.828125 \r\nQ 26.265625 48.1875 28.421875 48.1875 \r\nQ 40.625 48.1875 47.75 41.5 \r\nQ 54.890625 34.8125 54.890625 23.390625 \r\nQ 54.890625 11.625 47.5625 5.09375 \r\nQ 40.234375 -1.421875 26.90625 -1.421875 \r\nQ 22.3125 -1.421875 17.546875 -0.640625 \r\nQ 12.796875 0.140625 7.71875 1.703125 \r\nL 7.71875 11.625 \r\nQ 12.109375 9.234375 16.796875 8.0625 \r\nQ 21.484375 6.890625 26.703125 6.890625 \r\nQ 35.15625 6.890625 40.078125 11.328125 \r\nQ 45.015625 15.765625 45.015625 23.390625 \r\nQ 45.015625 31 40.078125 35.4375 \r\nQ 35.15625 39.890625 26.703125 39.890625 \r\nQ 22.75 39.890625 18.8125 39.015625 \r\nQ 14.890625 38.140625 10.796875 36.28125 \r\nz\r\n\" id=\"DejaVuSans-53\"/>\r\n      </defs>\r\n      <g transform=\"translate(369.497656 402.318437)scale(0.1 -0.1)\">\r\n       <use xlink:href=\"#DejaVuSans-97\"/>\r\n       <use x=\"61.279297\" xlink:href=\"#DejaVuSans-118\"/>\r\n       <use x=\"120.458984\" xlink:href=\"#DejaVuSans-101\"/>\r\n       <use x=\"181.982422\" xlink:href=\"#DejaVuSans-114\"/>\r\n       <use x=\"223.095703\" xlink:href=\"#DejaVuSans-97\"/>\r\n       <use x=\"284.375\" xlink:href=\"#DejaVuSans-103\"/>\r\n       <use x=\"347.851562\" xlink:href=\"#DejaVuSans-101\"/>\r\n       <use x=\"409.375\" xlink:href=\"#DejaVuSans-95\"/>\r\n       <use x=\"459.375\" xlink:href=\"#DejaVuSans-112\"/>\r\n       <use x=\"522.851562\" xlink:href=\"#DejaVuSans-114\"/>\r\n       <use x=\"561.714844\" xlink:href=\"#DejaVuSans-101\"/>\r\n       <use x=\"623.238281\" xlink:href=\"#DejaVuSans-99\"/>\r\n       <use x=\"678.21875\" xlink:href=\"#DejaVuSans-105\"/>\r\n       <use x=\"706.001953\" xlink:href=\"#DejaVuSans-115\"/>\r\n       <use x=\"758.101562\" xlink:href=\"#DejaVuSans-105\"/>\r\n       <use x=\"785.884766\" xlink:href=\"#DejaVuSans-111\"/>\r\n       <use x=\"847.066406\" xlink:href=\"#DejaVuSans-110\"/>\r\n       <use x=\"910.445312\" xlink:href=\"#DejaVuSans-95\"/>\r\n       <use x=\"960.445312\" xlink:href=\"#DejaVuSans-53\"/>\r\n      </g>\r\n     </g>\r\n    </g>\r\n    <g id=\"xtick_5\">\r\n     <g id=\"line2d_9\">\r\n      <path clip-path=\"url(#pb0a52be286)\" d=\"M 532.303125 387.72 \r\nL 532.303125 7.2 \r\n\" style=\"fill:none;stroke:#b0b0b0;stroke-linecap:square;stroke-width:0.8;\"/>\r\n     </g>\r\n     <g id=\"line2d_10\">\r\n      <g>\r\n       <use style=\"stroke:#000000;stroke-width:0.8;\" x=\"532.303125\" xlink:href=\"#m4af8460c3a\" y=\"387.72\"/>\r\n      </g>\r\n     </g>\r\n     <g id=\"text_5\">\r\n      <!-- average_precision_10 -->\r\n      <defs>\r\n       <path d=\"M 31.78125 66.40625 \r\nQ 24.171875 66.40625 20.328125 58.90625 \r\nQ 16.5 51.421875 16.5 36.375 \r\nQ 16.5 21.390625 20.328125 13.890625 \r\nQ 24.171875 6.390625 31.78125 6.390625 \r\nQ 39.453125 6.390625 43.28125 13.890625 \r\nQ 47.125 21.390625 47.125 36.375 \r\nQ 47.125 51.421875 43.28125 58.90625 \r\nQ 39.453125 66.40625 31.78125 66.40625 \r\nz\r\nM 31.78125 74.21875 \r\nQ 44.046875 74.21875 50.515625 64.515625 \r\nQ 56.984375 54.828125 56.984375 36.375 \r\nQ 56.984375 17.96875 50.515625 8.265625 \r\nQ 44.046875 -1.421875 31.78125 -1.421875 \r\nQ 19.53125 -1.421875 13.0625 8.265625 \r\nQ 6.59375 17.96875 6.59375 36.375 \r\nQ 6.59375 54.828125 13.0625 64.515625 \r\nQ 19.53125 74.21875 31.78125 74.21875 \r\nz\r\n\" id=\"DejaVuSans-48\"/>\r\n      </defs>\r\n      <g transform=\"translate(477.916406 402.318437)scale(0.1 -0.1)\">\r\n       <use xlink:href=\"#DejaVuSans-97\"/>\r\n       <use x=\"61.279297\" xlink:href=\"#DejaVuSans-118\"/>\r\n       <use x=\"120.458984\" xlink:href=\"#DejaVuSans-101\"/>\r\n       <use x=\"181.982422\" xlink:href=\"#DejaVuSans-114\"/>\r\n       <use x=\"223.095703\" xlink:href=\"#DejaVuSans-97\"/>\r\n       <use x=\"284.375\" xlink:href=\"#DejaVuSans-103\"/>\r\n       <use x=\"347.851562\" xlink:href=\"#DejaVuSans-101\"/>\r\n       <use x=\"409.375\" xlink:href=\"#DejaVuSans-95\"/>\r\n       <use x=\"459.375\" xlink:href=\"#DejaVuSans-112\"/>\r\n       <use x=\"522.851562\" xlink:href=\"#DejaVuSans-114\"/>\r\n       <use x=\"561.714844\" xlink:href=\"#DejaVuSans-101\"/>\r\n       <use x=\"623.238281\" xlink:href=\"#DejaVuSans-99\"/>\r\n       <use x=\"678.21875\" xlink:href=\"#DejaVuSans-105\"/>\r\n       <use x=\"706.001953\" xlink:href=\"#DejaVuSans-115\"/>\r\n       <use x=\"758.101562\" xlink:href=\"#DejaVuSans-105\"/>\r\n       <use x=\"785.884766\" xlink:href=\"#DejaVuSans-111\"/>\r\n       <use x=\"847.066406\" xlink:href=\"#DejaVuSans-110\"/>\r\n       <use x=\"910.445312\" xlink:href=\"#DejaVuSans-95\"/>\r\n       <use x=\"960.445312\" xlink:href=\"#DejaVuSans-49\"/>\r\n       <use x=\"1024.068359\" xlink:href=\"#DejaVuSans-48\"/>\r\n      </g>\r\n     </g>\r\n    </g>\r\n   </g>\r\n   <g id=\"matplotlib.axis_2\">\r\n    <g id=\"ytick_1\">\r\n     <g id=\"line2d_11\">\r\n      <path clip-path=\"url(#pb0a52be286)\" d=\"M 30.103125 370.423636 \r\nL 588.103125 370.423636 \r\n\" style=\"fill:none;stroke:#b0b0b0;stroke-linecap:square;stroke-width:0.8;\"/>\r\n     </g>\r\n     <g id=\"line2d_12\">\r\n      <defs>\r\n       <path d=\"M 0 0 \r\nL -3.5 0 \r\n\" id=\"md6e844d555\" style=\"stroke:#000000;stroke-width:0.8;\"/>\r\n      </defs>\r\n      <g>\r\n       <use style=\"stroke:#000000;stroke-width:0.8;\" x=\"30.103125\" xlink:href=\"#md6e844d555\" y=\"370.423636\"/>\r\n      </g>\r\n     </g>\r\n     <g id=\"text_6\">\r\n      <!-- 0.0 -->\r\n      <defs>\r\n       <path d=\"M 10.6875 12.40625 \r\nL 21 12.40625 \r\nL 21 0 \r\nL 10.6875 0 \r\nz\r\n\" id=\"DejaVuSans-46\"/>\r\n      </defs>\r\n      <g transform=\"translate(7.2 374.222855)scale(0.1 -0.1)\">\r\n       <use xlink:href=\"#DejaVuSans-48\"/>\r\n       <use x=\"63.623047\" xlink:href=\"#DejaVuSans-46\"/>\r\n       <use x=\"95.410156\" xlink:href=\"#DejaVuSans-48\"/>\r\n      </g>\r\n     </g>\r\n    </g>\r\n    <g id=\"ytick_2\">\r\n     <g id=\"line2d_13\">\r\n      <path clip-path=\"url(#pb0a52be286)\" d=\"M 30.103125 301.238182 \r\nL 588.103125 301.238182 \r\n\" style=\"fill:none;stroke:#b0b0b0;stroke-linecap:square;stroke-width:0.8;\"/>\r\n     </g>\r\n     <g id=\"line2d_14\">\r\n      <g>\r\n       <use style=\"stroke:#000000;stroke-width:0.8;\" x=\"30.103125\" xlink:href=\"#md6e844d555\" y=\"301.238182\"/>\r\n      </g>\r\n     </g>\r\n     <g id=\"text_7\">\r\n      <!-- 0.2 -->\r\n      <defs>\r\n       <path d=\"M 19.1875 8.296875 \r\nL 53.609375 8.296875 \r\nL 53.609375 0 \r\nL 7.328125 0 \r\nL 7.328125 8.296875 \r\nQ 12.9375 14.109375 22.625 23.890625 \r\nQ 32.328125 33.6875 34.8125 36.53125 \r\nQ 39.546875 41.84375 41.421875 45.53125 \r\nQ 43.3125 49.21875 43.3125 52.78125 \r\nQ 43.3125 58.59375 39.234375 62.25 \r\nQ 35.15625 65.921875 28.609375 65.921875 \r\nQ 23.96875 65.921875 18.8125 64.3125 \r\nQ 13.671875 62.703125 7.8125 59.421875 \r\nL 7.8125 69.390625 \r\nQ 13.765625 71.78125 18.9375 73 \r\nQ 24.125 74.21875 28.421875 74.21875 \r\nQ 39.75 74.21875 46.484375 68.546875 \r\nQ 53.21875 62.890625 53.21875 53.421875 \r\nQ 53.21875 48.921875 51.53125 44.890625 \r\nQ 49.859375 40.875 45.40625 35.40625 \r\nQ 44.1875 33.984375 37.640625 27.21875 \r\nQ 31.109375 20.453125 19.1875 8.296875 \r\nz\r\n\" id=\"DejaVuSans-50\"/>\r\n      </defs>\r\n      <g transform=\"translate(7.2 305.037401)scale(0.1 -0.1)\">\r\n       <use xlink:href=\"#DejaVuSans-48\"/>\r\n       <use x=\"63.623047\" xlink:href=\"#DejaVuSans-46\"/>\r\n       <use x=\"95.410156\" xlink:href=\"#DejaVuSans-50\"/>\r\n      </g>\r\n     </g>\r\n    </g>\r\n    <g id=\"ytick_3\">\r\n     <g id=\"line2d_15\">\r\n      <path clip-path=\"url(#pb0a52be286)\" d=\"M 30.103125 232.052727 \r\nL 588.103125 232.052727 \r\n\" style=\"fill:none;stroke:#b0b0b0;stroke-linecap:square;stroke-width:0.8;\"/>\r\n     </g>\r\n     <g id=\"line2d_16\">\r\n      <g>\r\n       <use style=\"stroke:#000000;stroke-width:0.8;\" x=\"30.103125\" xlink:href=\"#md6e844d555\" y=\"232.052727\"/>\r\n      </g>\r\n     </g>\r\n     <g id=\"text_8\">\r\n      <!-- 0.4 -->\r\n      <defs>\r\n       <path d=\"M 37.796875 64.3125 \r\nL 12.890625 25.390625 \r\nL 37.796875 25.390625 \r\nz\r\nM 35.203125 72.90625 \r\nL 47.609375 72.90625 \r\nL 47.609375 25.390625 \r\nL 58.015625 25.390625 \r\nL 58.015625 17.1875 \r\nL 47.609375 17.1875 \r\nL 47.609375 0 \r\nL 37.796875 0 \r\nL 37.796875 17.1875 \r\nL 4.890625 17.1875 \r\nL 4.890625 26.703125 \r\nz\r\n\" id=\"DejaVuSans-52\"/>\r\n      </defs>\r\n      <g transform=\"translate(7.2 235.851946)scale(0.1 -0.1)\">\r\n       <use xlink:href=\"#DejaVuSans-48\"/>\r\n       <use x=\"63.623047\" xlink:href=\"#DejaVuSans-46\"/>\r\n       <use x=\"95.410156\" xlink:href=\"#DejaVuSans-52\"/>\r\n      </g>\r\n     </g>\r\n    </g>\r\n    <g id=\"ytick_4\">\r\n     <g id=\"line2d_17\">\r\n      <path clip-path=\"url(#pb0a52be286)\" d=\"M 30.103125 162.867273 \r\nL 588.103125 162.867273 \r\n\" style=\"fill:none;stroke:#b0b0b0;stroke-linecap:square;stroke-width:0.8;\"/>\r\n     </g>\r\n     <g id=\"line2d_18\">\r\n      <g>\r\n       <use style=\"stroke:#000000;stroke-width:0.8;\" x=\"30.103125\" xlink:href=\"#md6e844d555\" y=\"162.867273\"/>\r\n      </g>\r\n     </g>\r\n     <g id=\"text_9\">\r\n      <!-- 0.6 -->\r\n      <defs>\r\n       <path d=\"M 33.015625 40.375 \r\nQ 26.375 40.375 22.484375 35.828125 \r\nQ 18.609375 31.296875 18.609375 23.390625 \r\nQ 18.609375 15.53125 22.484375 10.953125 \r\nQ 26.375 6.390625 33.015625 6.390625 \r\nQ 39.65625 6.390625 43.53125 10.953125 \r\nQ 47.40625 15.53125 47.40625 23.390625 \r\nQ 47.40625 31.296875 43.53125 35.828125 \r\nQ 39.65625 40.375 33.015625 40.375 \r\nz\r\nM 52.59375 71.296875 \r\nL 52.59375 62.3125 \r\nQ 48.875 64.0625 45.09375 64.984375 \r\nQ 41.3125 65.921875 37.59375 65.921875 \r\nQ 27.828125 65.921875 22.671875 59.328125 \r\nQ 17.53125 52.734375 16.796875 39.40625 \r\nQ 19.671875 43.65625 24.015625 45.921875 \r\nQ 28.375 48.1875 33.59375 48.1875 \r\nQ 44.578125 48.1875 50.953125 41.515625 \r\nQ 57.328125 34.859375 57.328125 23.390625 \r\nQ 57.328125 12.15625 50.6875 5.359375 \r\nQ 44.046875 -1.421875 33.015625 -1.421875 \r\nQ 20.359375 -1.421875 13.671875 8.265625 \r\nQ 6.984375 17.96875 6.984375 36.375 \r\nQ 6.984375 53.65625 15.1875 63.9375 \r\nQ 23.390625 74.21875 37.203125 74.21875 \r\nQ 40.921875 74.21875 44.703125 73.484375 \r\nQ 48.484375 72.75 52.59375 71.296875 \r\nz\r\n\" id=\"DejaVuSans-54\"/>\r\n      </defs>\r\n      <g transform=\"translate(7.2 166.666491)scale(0.1 -0.1)\">\r\n       <use xlink:href=\"#DejaVuSans-48\"/>\r\n       <use x=\"63.623047\" xlink:href=\"#DejaVuSans-46\"/>\r\n       <use x=\"95.410156\" xlink:href=\"#DejaVuSans-54\"/>\r\n      </g>\r\n     </g>\r\n    </g>\r\n    <g id=\"ytick_5\">\r\n     <g id=\"line2d_19\">\r\n      <path clip-path=\"url(#pb0a52be286)\" d=\"M 30.103125 93.681818 \r\nL 588.103125 93.681818 \r\n\" style=\"fill:none;stroke:#b0b0b0;stroke-linecap:square;stroke-width:0.8;\"/>\r\n     </g>\r\n     <g id=\"line2d_20\">\r\n      <g>\r\n       <use style=\"stroke:#000000;stroke-width:0.8;\" x=\"30.103125\" xlink:href=\"#md6e844d555\" y=\"93.681818\"/>\r\n      </g>\r\n     </g>\r\n     <g id=\"text_10\">\r\n      <!-- 0.8 -->\r\n      <defs>\r\n       <path d=\"M 31.78125 34.625 \r\nQ 24.75 34.625 20.71875 30.859375 \r\nQ 16.703125 27.09375 16.703125 20.515625 \r\nQ 16.703125 13.921875 20.71875 10.15625 \r\nQ 24.75 6.390625 31.78125 6.390625 \r\nQ 38.8125 6.390625 42.859375 10.171875 \r\nQ 46.921875 13.96875 46.921875 20.515625 \r\nQ 46.921875 27.09375 42.890625 30.859375 \r\nQ 38.875 34.625 31.78125 34.625 \r\nz\r\nM 21.921875 38.8125 \r\nQ 15.578125 40.375 12.03125 44.71875 \r\nQ 8.5 49.078125 8.5 55.328125 \r\nQ 8.5 64.0625 14.71875 69.140625 \r\nQ 20.953125 74.21875 31.78125 74.21875 \r\nQ 42.671875 74.21875 48.875 69.140625 \r\nQ 55.078125 64.0625 55.078125 55.328125 \r\nQ 55.078125 49.078125 51.53125 44.71875 \r\nQ 48 40.375 41.703125 38.8125 \r\nQ 48.828125 37.15625 52.796875 32.3125 \r\nQ 56.78125 27.484375 56.78125 20.515625 \r\nQ 56.78125 9.90625 50.3125 4.234375 \r\nQ 43.84375 -1.421875 31.78125 -1.421875 \r\nQ 19.734375 -1.421875 13.25 4.234375 \r\nQ 6.78125 9.90625 6.78125 20.515625 \r\nQ 6.78125 27.484375 10.78125 32.3125 \r\nQ 14.796875 37.15625 21.921875 38.8125 \r\nz\r\nM 18.3125 54.390625 \r\nQ 18.3125 48.734375 21.84375 45.5625 \r\nQ 25.390625 42.390625 31.78125 42.390625 \r\nQ 38.140625 42.390625 41.71875 45.5625 \r\nQ 45.3125 48.734375 45.3125 54.390625 \r\nQ 45.3125 60.0625 41.71875 63.234375 \r\nQ 38.140625 66.40625 31.78125 66.40625 \r\nQ 25.390625 66.40625 21.84375 63.234375 \r\nQ 18.3125 60.0625 18.3125 54.390625 \r\nz\r\n\" id=\"DejaVuSans-56\"/>\r\n      </defs>\r\n      <g transform=\"translate(7.2 97.481037)scale(0.1 -0.1)\">\r\n       <use xlink:href=\"#DejaVuSans-48\"/>\r\n       <use x=\"63.623047\" xlink:href=\"#DejaVuSans-46\"/>\r\n       <use x=\"95.410156\" xlink:href=\"#DejaVuSans-56\"/>\r\n      </g>\r\n     </g>\r\n    </g>\r\n    <g id=\"ytick_6\">\r\n     <g id=\"line2d_21\">\r\n      <path clip-path=\"url(#pb0a52be286)\" d=\"M 30.103125 24.496364 \r\nL 588.103125 24.496364 \r\n\" style=\"fill:none;stroke:#b0b0b0;stroke-linecap:square;stroke-width:0.8;\"/>\r\n     </g>\r\n     <g id=\"line2d_22\">\r\n      <g>\r\n       <use style=\"stroke:#000000;stroke-width:0.8;\" x=\"30.103125\" xlink:href=\"#md6e844d555\" y=\"24.496364\"/>\r\n      </g>\r\n     </g>\r\n     <g id=\"text_11\">\r\n      <!-- 1.0 -->\r\n      <g transform=\"translate(7.2 28.295582)scale(0.1 -0.1)\">\r\n       <use xlink:href=\"#DejaVuSans-49\"/>\r\n       <use x=\"63.623047\" xlink:href=\"#DejaVuSans-46\"/>\r\n       <use x=\"95.410156\" xlink:href=\"#DejaVuSans-48\"/>\r\n      </g>\r\n     </g>\r\n    </g>\r\n   </g>\r\n   <g id=\"line2d_23\">\r\n    <path clip-path=\"url(#pb0a52be286)\" d=\"M 58.003125 367.667111 \r\nL 113.803125 367.667111 \r\nL 113.803125 24.496364 \r\nL 58.003125 24.496364 \r\nL 58.003125 367.667111 \r\n\" style=\"fill:none;stroke:#1f77b4;stroke-linecap:square;\"/>\r\n   </g>\r\n   <g id=\"line2d_24\">\r\n    <path clip-path=\"url(#pb0a52be286)\" d=\"M 85.903125 367.667111 \r\nL 85.903125 370.423636 \r\n\" style=\"fill:none;stroke:#1f77b4;stroke-linecap:square;\"/>\r\n   </g>\r\n   <g id=\"line2d_25\">\r\n    <path clip-path=\"url(#pb0a52be286)\" d=\"M 85.903125 24.496364 \r\nL 85.903125 24.496364 \r\n\" style=\"fill:none;stroke:#1f77b4;stroke-linecap:square;\"/>\r\n   </g>\r\n   <g id=\"line2d_26\">\r\n    <path clip-path=\"url(#pb0a52be286)\" d=\"M 71.953125 370.423636 \r\nL 99.853125 370.423636 \r\n\" style=\"fill:none;stroke:#000000;stroke-linecap:square;\"/>\r\n   </g>\r\n   <g id=\"line2d_27\">\r\n    <path clip-path=\"url(#pb0a52be286)\" d=\"M 71.953125 24.496364 \r\nL 99.853125 24.496364 \r\n\" style=\"fill:none;stroke:#000000;stroke-linecap:square;\"/>\r\n   </g>\r\n   <g id=\"line2d_28\"/>\r\n   <g id=\"line2d_29\">\r\n    <path clip-path=\"url(#pb0a52be286)\" d=\"M 169.603125 370.423636 \r\nL 225.403125 370.423636 \r\nL 225.403125 24.496364 \r\nL 169.603125 24.496364 \r\nL 169.603125 370.423636 \r\n\" style=\"fill:none;stroke:#1f77b4;stroke-linecap:square;\"/>\r\n   </g>\r\n   <g id=\"line2d_30\">\r\n    <path clip-path=\"url(#pb0a52be286)\" d=\"M 197.503125 370.423636 \r\nL 197.503125 370.423636 \r\n\" style=\"fill:none;stroke:#1f77b4;stroke-linecap:square;\"/>\r\n   </g>\r\n   <g id=\"line2d_31\">\r\n    <path clip-path=\"url(#pb0a52be286)\" d=\"M 197.503125 24.496364 \r\nL 197.503125 24.496364 \r\n\" style=\"fill:none;stroke:#1f77b4;stroke-linecap:square;\"/>\r\n   </g>\r\n   <g id=\"line2d_32\">\r\n    <path clip-path=\"url(#pb0a52be286)\" d=\"M 183.553125 370.423636 \r\nL 211.453125 370.423636 \r\n\" style=\"fill:none;stroke:#000000;stroke-linecap:square;\"/>\r\n   </g>\r\n   <g id=\"line2d_33\">\r\n    <path clip-path=\"url(#pb0a52be286)\" d=\"M 183.553125 24.496364 \r\nL 211.453125 24.496364 \r\n\" style=\"fill:none;stroke:#000000;stroke-linecap:square;\"/>\r\n   </g>\r\n   <g id=\"line2d_34\"/>\r\n   <g id=\"line2d_35\">\r\n    <path clip-path=\"url(#pb0a52be286)\" d=\"M 281.203125 370.423636 \r\nL 337.003125 370.423636 \r\nL 337.003125 255.114545 \r\nL 281.203125 255.114545 \r\nL 281.203125 370.423636 \r\n\" style=\"fill:none;stroke:#1f77b4;stroke-linecap:square;\"/>\r\n   </g>\r\n   <g id=\"line2d_36\">\r\n    <path clip-path=\"url(#pb0a52be286)\" d=\"M 309.103125 370.423636 \r\nL 309.103125 370.423636 \r\n\" style=\"fill:none;stroke:#1f77b4;stroke-linecap:square;\"/>\r\n   </g>\r\n   <g id=\"line2d_37\">\r\n    <path clip-path=\"url(#pb0a52be286)\" d=\"M 309.103125 255.114545 \r\nL 309.103125 139.805455 \r\n\" style=\"fill:none;stroke:#1f77b4;stroke-linecap:square;\"/>\r\n   </g>\r\n   <g id=\"line2d_38\">\r\n    <path clip-path=\"url(#pb0a52be286)\" d=\"M 295.153125 370.423636 \r\nL 323.053125 370.423636 \r\n\" style=\"fill:none;stroke:#000000;stroke-linecap:square;\"/>\r\n   </g>\r\n   <g id=\"line2d_39\">\r\n    <path clip-path=\"url(#pb0a52be286)\" d=\"M 295.153125 139.805455 \r\nL 323.053125 139.805455 \r\n\" style=\"fill:none;stroke:#000000;stroke-linecap:square;\"/>\r\n   </g>\r\n   <g id=\"line2d_40\">\r\n    <defs>\r\n     <path d=\"M 0 3 \r\nC 0.795609 3 1.55874 2.683901 2.12132 2.12132 \r\nC 2.683901 1.55874 3 0.795609 3 0 \r\nC 3 -0.795609 2.683901 -1.55874 2.12132 -2.12132 \r\nC 1.55874 -2.683901 0.795609 -3 0 -3 \r\nC -0.795609 -3 -1.55874 -2.683901 -2.12132 -2.12132 \r\nC -2.683901 -1.55874 -3 -0.795609 -3 0 \r\nC -3 0.795609 -2.683901 1.55874 -2.12132 2.12132 \r\nC -1.55874 2.683901 -0.795609 3 0 3 \r\nz\r\n\" id=\"maf6a8f7a3a\" style=\"stroke:#000000;\"/>\r\n    </defs>\r\n    <g clip-path=\"url(#pb0a52be286)\">\r\n     <use style=\"fill-opacity:0;stroke:#000000;\" x=\"309.103125\" xlink:href=\"#maf6a8f7a3a\" y=\"24.496364\"/>\r\n     <use style=\"fill-opacity:0;stroke:#000000;\" x=\"309.103125\" xlink:href=\"#maf6a8f7a3a\" y=\"24.496364\"/>\r\n     <use style=\"fill-opacity:0;stroke:#000000;\" x=\"309.103125\" xlink:href=\"#maf6a8f7a3a\" y=\"24.496364\"/>\r\n     <use style=\"fill-opacity:0;stroke:#000000;\" x=\"309.103125\" xlink:href=\"#maf6a8f7a3a\" y=\"24.496364\"/>\r\n     <use style=\"fill-opacity:0;stroke:#000000;\" x=\"309.103125\" xlink:href=\"#maf6a8f7a3a\" y=\"24.496364\"/>\r\n     <use style=\"fill-opacity:0;stroke:#000000;\" x=\"309.103125\" xlink:href=\"#maf6a8f7a3a\" y=\"24.496364\"/>\r\n     <use style=\"fill-opacity:0;stroke:#000000;\" x=\"309.103125\" xlink:href=\"#maf6a8f7a3a\" y=\"24.496364\"/>\r\n     <use style=\"fill-opacity:0;stroke:#000000;\" x=\"309.103125\" xlink:href=\"#maf6a8f7a3a\" y=\"24.496364\"/>\r\n     <use style=\"fill-opacity:0;stroke:#000000;\" x=\"309.103125\" xlink:href=\"#maf6a8f7a3a\" y=\"24.496364\"/>\r\n     <use style=\"fill-opacity:0;stroke:#000000;\" x=\"309.103125\" xlink:href=\"#maf6a8f7a3a\" y=\"24.496364\"/>\r\n     <use style=\"fill-opacity:0;stroke:#000000;\" x=\"309.103125\" xlink:href=\"#maf6a8f7a3a\" y=\"24.496364\"/>\r\n     <use style=\"fill-opacity:0;stroke:#000000;\" x=\"309.103125\" xlink:href=\"#maf6a8f7a3a\" y=\"24.496364\"/>\r\n     <use style=\"fill-opacity:0;stroke:#000000;\" x=\"309.103125\" xlink:href=\"#maf6a8f7a3a\" y=\"24.496364\"/>\r\n     <use style=\"fill-opacity:0;stroke:#000000;\" x=\"309.103125\" xlink:href=\"#maf6a8f7a3a\" y=\"24.496364\"/>\r\n     <use style=\"fill-opacity:0;stroke:#000000;\" x=\"309.103125\" xlink:href=\"#maf6a8f7a3a\" y=\"24.496364\"/>\r\n     <use style=\"fill-opacity:0;stroke:#000000;\" x=\"309.103125\" xlink:href=\"#maf6a8f7a3a\" y=\"24.496364\"/>\r\n     <use style=\"fill-opacity:0;stroke:#000000;\" x=\"309.103125\" xlink:href=\"#maf6a8f7a3a\" y=\"24.496364\"/>\r\n    </g>\r\n   </g>\r\n   <g id=\"line2d_41\">\r\n    <path clip-path=\"url(#pb0a52be286)\" d=\"M 392.803125 370.423636 \r\nL 448.603125 370.423636 \r\nL 448.603125 301.238182 \r\nL 392.803125 301.238182 \r\nL 392.803125 370.423636 \r\n\" style=\"fill:none;stroke:#1f77b4;stroke-linecap:square;\"/>\r\n   </g>\r\n   <g id=\"line2d_42\">\r\n    <path clip-path=\"url(#pb0a52be286)\" d=\"M 420.703125 370.423636 \r\nL 420.703125 370.423636 \r\n\" style=\"fill:none;stroke:#1f77b4;stroke-linecap:square;\"/>\r\n   </g>\r\n   <g id=\"line2d_43\">\r\n    <path clip-path=\"url(#pb0a52be286)\" d=\"M 420.703125 301.238182 \r\nL 420.703125 232.052727 \r\n\" style=\"fill:none;stroke:#1f77b4;stroke-linecap:square;\"/>\r\n   </g>\r\n   <g id=\"line2d_44\">\r\n    <path clip-path=\"url(#pb0a52be286)\" d=\"M 406.753125 370.423636 \r\nL 434.653125 370.423636 \r\n\" style=\"fill:none;stroke:#000000;stroke-linecap:square;\"/>\r\n   </g>\r\n   <g id=\"line2d_45\">\r\n    <path clip-path=\"url(#pb0a52be286)\" d=\"M 406.753125 232.052727 \r\nL 434.653125 232.052727 \r\n\" style=\"fill:none;stroke:#000000;stroke-linecap:square;\"/>\r\n   </g>\r\n   <g id=\"line2d_46\">\r\n    <g clip-path=\"url(#pb0a52be286)\">\r\n     <use style=\"fill-opacity:0;stroke:#000000;\" x=\"420.703125\" xlink:href=\"#maf6a8f7a3a\" y=\"93.681818\"/>\r\n     <use style=\"fill-opacity:0;stroke:#000000;\" x=\"420.703125\" xlink:href=\"#maf6a8f7a3a\" y=\"93.681818\"/>\r\n     <use style=\"fill-opacity:0;stroke:#000000;\" x=\"420.703125\" xlink:href=\"#maf6a8f7a3a\" y=\"93.681818\"/>\r\n     <use style=\"fill-opacity:0;stroke:#000000;\" x=\"420.703125\" xlink:href=\"#maf6a8f7a3a\" y=\"162.867273\"/>\r\n     <use style=\"fill-opacity:0;stroke:#000000;\" x=\"420.703125\" xlink:href=\"#maf6a8f7a3a\" y=\"93.681818\"/>\r\n     <use style=\"fill-opacity:0;stroke:#000000;\" x=\"420.703125\" xlink:href=\"#maf6a8f7a3a\" y=\"93.681818\"/>\r\n     <use style=\"fill-opacity:0;stroke:#000000;\" x=\"420.703125\" xlink:href=\"#maf6a8f7a3a\" y=\"162.867273\"/>\r\n     <use style=\"fill-opacity:0;stroke:#000000;\" x=\"420.703125\" xlink:href=\"#maf6a8f7a3a\" y=\"162.867273\"/>\r\n     <use style=\"fill-opacity:0;stroke:#000000;\" x=\"420.703125\" xlink:href=\"#maf6a8f7a3a\" y=\"162.867273\"/>\r\n     <use style=\"fill-opacity:0;stroke:#000000;\" x=\"420.703125\" xlink:href=\"#maf6a8f7a3a\" y=\"162.867273\"/>\r\n     <use style=\"fill-opacity:0;stroke:#000000;\" x=\"420.703125\" xlink:href=\"#maf6a8f7a3a\" y=\"93.681818\"/>\r\n     <use style=\"fill-opacity:0;stroke:#000000;\" x=\"420.703125\" xlink:href=\"#maf6a8f7a3a\" y=\"93.681818\"/>\r\n     <use style=\"fill-opacity:0;stroke:#000000;\" x=\"420.703125\" xlink:href=\"#maf6a8f7a3a\" y=\"93.681818\"/>\r\n     <use style=\"fill-opacity:0;stroke:#000000;\" x=\"420.703125\" xlink:href=\"#maf6a8f7a3a\" y=\"162.867273\"/>\r\n     <use style=\"fill-opacity:0;stroke:#000000;\" x=\"420.703125\" xlink:href=\"#maf6a8f7a3a\" y=\"93.681818\"/>\r\n     <use style=\"fill-opacity:0;stroke:#000000;\" x=\"420.703125\" xlink:href=\"#maf6a8f7a3a\" y=\"162.867273\"/>\r\n     <use style=\"fill-opacity:0;stroke:#000000;\" x=\"420.703125\" xlink:href=\"#maf6a8f7a3a\" y=\"162.867273\"/>\r\n     <use style=\"fill-opacity:0;stroke:#000000;\" x=\"420.703125\" xlink:href=\"#maf6a8f7a3a\" y=\"162.867273\"/>\r\n     <use style=\"fill-opacity:0;stroke:#000000;\" x=\"420.703125\" xlink:href=\"#maf6a8f7a3a\" y=\"162.867273\"/>\r\n     <use style=\"fill-opacity:0;stroke:#000000;\" x=\"420.703125\" xlink:href=\"#maf6a8f7a3a\" y=\"162.867273\"/>\r\n     <use style=\"fill-opacity:0;stroke:#000000;\" x=\"420.703125\" xlink:href=\"#maf6a8f7a3a\" y=\"162.867273\"/>\r\n     <use style=\"fill-opacity:0;stroke:#000000;\" x=\"420.703125\" xlink:href=\"#maf6a8f7a3a\" y=\"162.867273\"/>\r\n     <use style=\"fill-opacity:0;stroke:#000000;\" x=\"420.703125\" xlink:href=\"#maf6a8f7a3a\" y=\"93.681818\"/>\r\n     <use style=\"fill-opacity:0;stroke:#000000;\" x=\"420.703125\" xlink:href=\"#maf6a8f7a3a\" y=\"93.681818\"/>\r\n     <use style=\"fill-opacity:0;stroke:#000000;\" x=\"420.703125\" xlink:href=\"#maf6a8f7a3a\" y=\"162.867273\"/>\r\n     <use style=\"fill-opacity:0;stroke:#000000;\" x=\"420.703125\" xlink:href=\"#maf6a8f7a3a\" y=\"162.867273\"/>\r\n     <use style=\"fill-opacity:0;stroke:#000000;\" x=\"420.703125\" xlink:href=\"#maf6a8f7a3a\" y=\"162.867273\"/>\r\n     <use style=\"fill-opacity:0;stroke:#000000;\" x=\"420.703125\" xlink:href=\"#maf6a8f7a3a\" y=\"162.867273\"/>\r\n     <use style=\"fill-opacity:0;stroke:#000000;\" x=\"420.703125\" xlink:href=\"#maf6a8f7a3a\" y=\"162.867273\"/>\r\n     <use style=\"fill-opacity:0;stroke:#000000;\" x=\"420.703125\" xlink:href=\"#maf6a8f7a3a\" y=\"93.681818\"/>\r\n     <use style=\"fill-opacity:0;stroke:#000000;\" x=\"420.703125\" xlink:href=\"#maf6a8f7a3a\" y=\"93.681818\"/>\r\n     <use style=\"fill-opacity:0;stroke:#000000;\" x=\"420.703125\" xlink:href=\"#maf6a8f7a3a\" y=\"93.681818\"/>\r\n     <use style=\"fill-opacity:0;stroke:#000000;\" x=\"420.703125\" xlink:href=\"#maf6a8f7a3a\" y=\"24.496364\"/>\r\n     <use style=\"fill-opacity:0;stroke:#000000;\" x=\"420.703125\" xlink:href=\"#maf6a8f7a3a\" y=\"162.867273\"/>\r\n     <use style=\"fill-opacity:0;stroke:#000000;\" x=\"420.703125\" xlink:href=\"#maf6a8f7a3a\" y=\"162.867273\"/>\r\n     <use style=\"fill-opacity:0;stroke:#000000;\" x=\"420.703125\" xlink:href=\"#maf6a8f7a3a\" y=\"162.867273\"/>\r\n     <use style=\"fill-opacity:0;stroke:#000000;\" x=\"420.703125\" xlink:href=\"#maf6a8f7a3a\" y=\"93.681818\"/>\r\n     <use style=\"fill-opacity:0;stroke:#000000;\" x=\"420.703125\" xlink:href=\"#maf6a8f7a3a\" y=\"162.867273\"/>\r\n     <use style=\"fill-opacity:0;stroke:#000000;\" x=\"420.703125\" xlink:href=\"#maf6a8f7a3a\" y=\"162.867273\"/>\r\n    </g>\r\n   </g>\r\n   <g id=\"line2d_47\">\r\n    <path clip-path=\"url(#pb0a52be286)\" d=\"M 504.403125 370.423636 \r\nL 560.203125 370.423636 \r\nL 560.203125 301.238182 \r\nL 504.403125 301.238182 \r\nL 504.403125 370.423636 \r\n\" style=\"fill:none;stroke:#1f77b4;stroke-linecap:square;\"/>\r\n   </g>\r\n   <g id=\"line2d_48\">\r\n    <path clip-path=\"url(#pb0a52be286)\" d=\"M 532.303125 370.423636 \r\nL 532.303125 370.423636 \r\n\" style=\"fill:none;stroke:#1f77b4;stroke-linecap:square;\"/>\r\n   </g>\r\n   <g id=\"line2d_49\">\r\n    <path clip-path=\"url(#pb0a52be286)\" d=\"M 532.303125 301.238182 \r\nL 532.303125 197.46 \r\n\" style=\"fill:none;stroke:#1f77b4;stroke-linecap:square;\"/>\r\n   </g>\r\n   <g id=\"line2d_50\">\r\n    <path clip-path=\"url(#pb0a52be286)\" d=\"M 518.353125 370.423636 \r\nL 546.253125 370.423636 \r\n\" style=\"fill:none;stroke:#000000;stroke-linecap:square;\"/>\r\n   </g>\r\n   <g id=\"line2d_51\">\r\n    <path clip-path=\"url(#pb0a52be286)\" d=\"M 518.353125 197.46 \r\nL 546.253125 197.46 \r\n\" style=\"fill:none;stroke:#000000;stroke-linecap:square;\"/>\r\n   </g>\r\n   <g id=\"line2d_52\">\r\n    <g clip-path=\"url(#pb0a52be286)\">\r\n     <use style=\"fill-opacity:0;stroke:#000000;\" x=\"532.303125\" xlink:href=\"#maf6a8f7a3a\" y=\"162.867273\"/>\r\n     <use style=\"fill-opacity:0;stroke:#000000;\" x=\"532.303125\" xlink:href=\"#maf6a8f7a3a\" y=\"162.867273\"/>\r\n     <use style=\"fill-opacity:0;stroke:#000000;\" x=\"532.303125\" xlink:href=\"#maf6a8f7a3a\" y=\"128.274545\"/>\r\n     <use style=\"fill-opacity:0;stroke:#000000;\" x=\"532.303125\" xlink:href=\"#maf6a8f7a3a\" y=\"162.867273\"/>\r\n     <use style=\"fill-opacity:0;stroke:#000000;\" x=\"532.303125\" xlink:href=\"#maf6a8f7a3a\" y=\"162.867273\"/>\r\n     <use style=\"fill-opacity:0;stroke:#000000;\" x=\"532.303125\" xlink:href=\"#maf6a8f7a3a\" y=\"162.867273\"/>\r\n     <use style=\"fill-opacity:0;stroke:#000000;\" x=\"532.303125\" xlink:href=\"#maf6a8f7a3a\" y=\"128.274545\"/>\r\n     <use style=\"fill-opacity:0;stroke:#000000;\" x=\"532.303125\" xlink:href=\"#maf6a8f7a3a\" y=\"128.274545\"/>\r\n    </g>\r\n   </g>\r\n   <g id=\"line2d_53\">\r\n    <path clip-path=\"url(#pb0a52be286)\" d=\"M 58.003125 321.005455 \r\nL 113.803125 321.005455 \r\n\" style=\"fill:none;stroke:#2ca02c;stroke-linecap:square;\"/>\r\n   </g>\r\n   <g id=\"line2d_54\">\r\n    <path clip-path=\"url(#pb0a52be286)\" d=\"M 169.603125 370.423636 \r\nL 225.403125 370.423636 \r\n\" style=\"fill:none;stroke:#2ca02c;stroke-linecap:square;\"/>\r\n   </g>\r\n   <g id=\"line2d_55\">\r\n    <path clip-path=\"url(#pb0a52be286)\" d=\"M 281.203125 370.423636 \r\nL 337.003125 370.423636 \r\n\" style=\"fill:none;stroke:#2ca02c;stroke-linecap:square;\"/>\r\n   </g>\r\n   <g id=\"line2d_56\">\r\n    <path clip-path=\"url(#pb0a52be286)\" d=\"M 392.803125 370.423636 \r\nL 448.603125 370.423636 \r\n\" style=\"fill:none;stroke:#2ca02c;stroke-linecap:square;\"/>\r\n   </g>\r\n   <g id=\"line2d_57\">\r\n    <path clip-path=\"url(#pb0a52be286)\" d=\"M 504.403125 335.830909 \r\nL 560.203125 335.830909 \r\n\" style=\"fill:none;stroke:#2ca02c;stroke-linecap:square;\"/>\r\n   </g>\r\n   <g id=\"patch_3\">\r\n    <path d=\"M 30.103125 387.72 \r\nL 30.103125 7.2 \r\n\" style=\"fill:none;stroke:#000000;stroke-linecap:square;stroke-linejoin:miter;stroke-width:0.8;\"/>\r\n   </g>\r\n   <g id=\"patch_4\">\r\n    <path d=\"M 588.103125 387.72 \r\nL 588.103125 7.2 \r\n\" style=\"fill:none;stroke:#000000;stroke-linecap:square;stroke-linejoin:miter;stroke-width:0.8;\"/>\r\n   </g>\r\n   <g id=\"patch_5\">\r\n    <path d=\"M 30.103125 387.72 \r\nL 588.103125 387.72 \r\n\" style=\"fill:none;stroke:#000000;stroke-linecap:square;stroke-linejoin:miter;stroke-width:0.8;\"/>\r\n   </g>\r\n   <g id=\"patch_6\">\r\n    <path d=\"M 30.103125 7.2 \r\nL 588.103125 7.2 \r\n\" style=\"fill:none;stroke:#000000;stroke-linecap:square;stroke-linejoin:miter;stroke-width:0.8;\"/>\r\n   </g>\r\n  </g>\r\n </g>\r\n <defs>\r\n  <clipPath id=\"pb0a52be286\">\r\n   <rect height=\"380.52\" width=\"558\" x=\"30.103125\" y=\"7.2\"/>\r\n  </clipPath>\r\n </defs>\r\n</svg>\r\n",
      "image/png": "[encoded data removed]"
     },
     "metadata": {
      "needs_background": "light"
     }
    },
    {
     "output_type": "display_data",
     "data": {
      "text/plain": "<Figure size 720x504 with 1 Axes>",
      "image/svg+xml": "<?xml version=\"1.0\" encoding=\"utf-8\" standalone=\"no\"?>\r\n<!DOCTYPE svg PUBLIC \"-//W3C//DTD SVG 1.1//EN\"\r\n  \"http://www.w3.org/Graphics/SVG/1.1/DTD/svg11.dtd\">\r\n<!-- Created with matplotlib (https://matplotlib.org/) -->\r\n<svg height=\"411.87625pt\" version=\"1.1\" viewBox=\"0 0 630.688707 411.87625\" width=\"630.688707pt\" xmlns=\"http://www.w3.org/2000/svg\" xmlns:xlink=\"http://www.w3.org/1999/xlink\">\r\n <defs>\r\n  <style type=\"text/css\">\r\n*{stroke-linecap:butt;stroke-linejoin:round;}\r\n  </style>\r\n </defs>\r\n <g id=\"figure_1\">\r\n  <g id=\"patch_1\">\r\n   <path d=\"M 0 411.87625 \r\nL 630.688707 411.87625 \r\nL 630.688707 0 \r\nL 0 0 \r\nz\r\n\" style=\"fill:none;\"/>\r\n  </g>\r\n  <g id=\"axes_1\">\r\n   <g id=\"patch_2\">\r\n    <path d=\"M 36.465625 387.72 \r\nL 594.465625 387.72 \r\nL 594.465625 7.2 \r\nL 36.465625 7.2 \r\nz\r\n\" style=\"fill:#ffffff;\"/>\r\n   </g>\r\n   <g id=\"PathCollection_1\">\r\n    <defs>\r\n     <path d=\"M 0 3 \r\nC 0.795609 3 1.55874 2.683901 2.12132 2.12132 \r\nC 2.683901 1.55874 3 0.795609 3 0 \r\nC 3 -0.795609 2.683901 -1.55874 2.12132 -2.12132 \r\nC 1.55874 -2.683901 0.795609 -3 0 -3 \r\nC -0.795609 -3 -1.55874 -2.683901 -2.12132 -2.12132 \r\nC -2.683901 -1.55874 -3 -0.795609 -3 0 \r\nC -3 0.795609 -2.683901 1.55874 -2.12132 2.12132 \r\nC -1.55874 2.683901 -0.795609 3 0 3 \r\nz\r\n\" id=\"m653d6dc3db\" style=\"stroke:#1f77b4;\"/>\r\n    </defs>\r\n    <g clip-path=\"url(#p156574fb66)\">\r\n     <use style=\"fill:#1f77b4;stroke:#1f77b4;\" x=\"61.829261\" xlink:href=\"#m653d6dc3db\" y=\"24.496364\"/>\r\n     <use style=\"fill:#1f77b4;stroke:#1f77b4;\" x=\"188.647443\" xlink:href=\"#m653d6dc3db\" y=\"156.450374\"/>\r\n     <use style=\"fill:#1f77b4;stroke:#1f77b4;\" x=\"315.465625\" xlink:href=\"#m653d6dc3db\" y=\"252.709348\"/>\r\n     <use style=\"fill:#1f77b4;stroke:#1f77b4;\" x=\"442.283807\" xlink:href=\"#m653d6dc3db\" y=\"307.031883\"/>\r\n     <use style=\"fill:#1f77b4;stroke:#1f77b4;\" x=\"569.101989\" xlink:href=\"#m653d6dc3db\" y=\"370.423636\"/>\r\n    </g>\r\n   </g>\r\n   <g id=\"matplotlib.axis_1\">\r\n    <g id=\"xtick_1\">\r\n     <g id=\"line2d_1\">\r\n      <defs>\r\n       <path d=\"M 0 0 \r\nL 0 3.5 \r\n\" id=\"m774a092171\" style=\"stroke:#000000;stroke-width:0.8;\"/>\r\n      </defs>\r\n      <g>\r\n       <use style=\"stroke:#000000;stroke-width:0.8;\" x=\"61.829261\" xlink:href=\"#m774a092171\" y=\"387.72\"/>\r\n      </g>\r\n     </g>\r\n     <g id=\"text_1\">\r\n      <!-- reciprocal_rank -->\r\n      <defs>\r\n       <path d=\"M 41.109375 46.296875 \r\nQ 39.59375 47.171875 37.8125 47.578125 \r\nQ 36.03125 48 33.890625 48 \r\nQ 26.265625 48 22.1875 43.046875 \r\nQ 18.109375 38.09375 18.109375 28.8125 \r\nL 18.109375 0 \r\nL 9.078125 0 \r\nL 9.078125 54.6875 \r\nL 18.109375 54.6875 \r\nL 18.109375 46.1875 \r\nQ 20.953125 51.171875 25.484375 53.578125 \r\nQ 30.03125 56 36.53125 56 \r\nQ 37.453125 56 38.578125 55.875 \r\nQ 39.703125 55.765625 41.0625 55.515625 \r\nz\r\n\" id=\"DejaVuSans-114\"/>\r\n       <path d=\"M 56.203125 29.59375 \r\nL 56.203125 25.203125 \r\nL 14.890625 25.203125 \r\nQ 15.484375 15.921875 20.484375 11.0625 \r\nQ 25.484375 6.203125 34.421875 6.203125 \r\nQ 39.59375 6.203125 44.453125 7.46875 \r\nQ 49.3125 8.734375 54.109375 11.28125 \r\nL 54.109375 2.78125 \r\nQ 49.265625 0.734375 44.1875 -0.34375 \r\nQ 39.109375 -1.421875 33.890625 -1.421875 \r\nQ 20.796875 -1.421875 13.15625 6.1875 \r\nQ 5.515625 13.8125 5.515625 26.8125 \r\nQ 5.515625 40.234375 12.765625 48.109375 \r\nQ 20.015625 56 32.328125 56 \r\nQ 43.359375 56 49.78125 48.890625 \r\nQ 56.203125 41.796875 56.203125 29.59375 \r\nz\r\nM 47.21875 32.234375 \r\nQ 47.125 39.59375 43.09375 43.984375 \r\nQ 39.0625 48.390625 32.421875 48.390625 \r\nQ 24.90625 48.390625 20.390625 44.140625 \r\nQ 15.875 39.890625 15.1875 32.171875 \r\nz\r\n\" id=\"DejaVuSans-101\"/>\r\n       <path d=\"M 48.78125 52.59375 \r\nL 48.78125 44.1875 \r\nQ 44.96875 46.296875 41.140625 47.34375 \r\nQ 37.3125 48.390625 33.40625 48.390625 \r\nQ 24.65625 48.390625 19.8125 42.84375 \r\nQ 14.984375 37.3125 14.984375 27.296875 \r\nQ 14.984375 17.28125 19.8125 11.734375 \r\nQ 24.65625 6.203125 33.40625 6.203125 \r\nQ 37.3125 6.203125 41.140625 7.25 \r\nQ 44.96875 8.296875 48.78125 10.40625 \r\nL 48.78125 2.09375 \r\nQ 45.015625 0.34375 40.984375 -0.53125 \r\nQ 36.96875 -1.421875 32.421875 -1.421875 \r\nQ 20.0625 -1.421875 12.78125 6.34375 \r\nQ 5.515625 14.109375 5.515625 27.296875 \r\nQ 5.515625 40.671875 12.859375 48.328125 \r\nQ 20.21875 56 33.015625 56 \r\nQ 37.15625 56 41.109375 55.140625 \r\nQ 45.0625 54.296875 48.78125 52.59375 \r\nz\r\n\" id=\"DejaVuSans-99\"/>\r\n       <path d=\"M 9.421875 54.6875 \r\nL 18.40625 54.6875 \r\nL 18.40625 0 \r\nL 9.421875 0 \r\nz\r\nM 9.421875 75.984375 \r\nL 18.40625 75.984375 \r\nL 18.40625 64.59375 \r\nL 9.421875 64.59375 \r\nz\r\n\" id=\"DejaVuSans-105\"/>\r\n       <path d=\"M 18.109375 8.203125 \r\nL 18.109375 -20.796875 \r\nL 9.078125 -20.796875 \r\nL 9.078125 54.6875 \r\nL 18.109375 54.6875 \r\nL 18.109375 46.390625 \r\nQ 20.953125 51.265625 25.265625 53.625 \r\nQ 29.59375 56 35.59375 56 \r\nQ 45.5625 56 51.78125 48.09375 \r\nQ 58.015625 40.1875 58.015625 27.296875 \r\nQ 58.015625 14.40625 51.78125 6.484375 \r\nQ 45.5625 -1.421875 35.59375 -1.421875 \r\nQ 29.59375 -1.421875 25.265625 0.953125 \r\nQ 20.953125 3.328125 18.109375 8.203125 \r\nz\r\nM 48.6875 27.296875 \r\nQ 48.6875 37.203125 44.609375 42.84375 \r\nQ 40.53125 48.484375 33.40625 48.484375 \r\nQ 26.265625 48.484375 22.1875 42.84375 \r\nQ 18.109375 37.203125 18.109375 27.296875 \r\nQ 18.109375 17.390625 22.1875 11.75 \r\nQ 26.265625 6.109375 33.40625 6.109375 \r\nQ 40.53125 6.109375 44.609375 11.75 \r\nQ 48.6875 17.390625 48.6875 27.296875 \r\nz\r\n\" id=\"DejaVuSans-112\"/>\r\n       <path d=\"M 30.609375 48.390625 \r\nQ 23.390625 48.390625 19.1875 42.75 \r\nQ 14.984375 37.109375 14.984375 27.296875 \r\nQ 14.984375 17.484375 19.15625 11.84375 \r\nQ 23.34375 6.203125 30.609375 6.203125 \r\nQ 37.796875 6.203125 41.984375 11.859375 \r\nQ 46.1875 17.53125 46.1875 27.296875 \r\nQ 46.1875 37.015625 41.984375 42.703125 \r\nQ 37.796875 48.390625 30.609375 48.390625 \r\nz\r\nM 30.609375 56 \r\nQ 42.328125 56 49.015625 48.375 \r\nQ 55.71875 40.765625 55.71875 27.296875 \r\nQ 55.71875 13.875 49.015625 6.21875 \r\nQ 42.328125 -1.421875 30.609375 -1.421875 \r\nQ 18.84375 -1.421875 12.171875 6.21875 \r\nQ 5.515625 13.875 5.515625 27.296875 \r\nQ 5.515625 40.765625 12.171875 48.375 \r\nQ 18.84375 56 30.609375 56 \r\nz\r\n\" id=\"DejaVuSans-111\"/>\r\n       <path d=\"M 34.28125 27.484375 \r\nQ 23.390625 27.484375 19.1875 25 \r\nQ 14.984375 22.515625 14.984375 16.5 \r\nQ 14.984375 11.71875 18.140625 8.90625 \r\nQ 21.296875 6.109375 26.703125 6.109375 \r\nQ 34.1875 6.109375 38.703125 11.40625 \r\nQ 43.21875 16.703125 43.21875 25.484375 \r\nL 43.21875 27.484375 \r\nz\r\nM 52.203125 31.203125 \r\nL 52.203125 0 \r\nL 43.21875 0 \r\nL 43.21875 8.296875 \r\nQ 40.140625 3.328125 35.546875 0.953125 \r\nQ 30.953125 -1.421875 24.3125 -1.421875 \r\nQ 15.921875 -1.421875 10.953125 3.296875 \r\nQ 6 8.015625 6 15.921875 \r\nQ 6 25.140625 12.171875 29.828125 \r\nQ 18.359375 34.515625 30.609375 34.515625 \r\nL 43.21875 34.515625 \r\nL 43.21875 35.40625 \r\nQ 43.21875 41.609375 39.140625 45 \r\nQ 35.0625 48.390625 27.6875 48.390625 \r\nQ 23 48.390625 18.546875 47.265625 \r\nQ 14.109375 46.140625 10.015625 43.890625 \r\nL 10.015625 52.203125 \r\nQ 14.9375 54.109375 19.578125 55.046875 \r\nQ 24.21875 56 28.609375 56 \r\nQ 40.484375 56 46.34375 49.84375 \r\nQ 52.203125 43.703125 52.203125 31.203125 \r\nz\r\n\" id=\"DejaVuSans-97\"/>\r\n       <path d=\"M 9.421875 75.984375 \r\nL 18.40625 75.984375 \r\nL 18.40625 0 \r\nL 9.421875 0 \r\nz\r\n\" id=\"DejaVuSans-108\"/>\r\n       <path d=\"M 50.984375 -16.609375 \r\nL 50.984375 -23.578125 \r\nL -0.984375 -23.578125 \r\nL -0.984375 -16.609375 \r\nz\r\n\" id=\"DejaVuSans-95\"/>\r\n       <path d=\"M 54.890625 33.015625 \r\nL 54.890625 0 \r\nL 45.90625 0 \r\nL 45.90625 32.71875 \r\nQ 45.90625 40.484375 42.875 44.328125 \r\nQ 39.84375 48.1875 33.796875 48.1875 \r\nQ 26.515625 48.1875 22.3125 43.546875 \r\nQ 18.109375 38.921875 18.109375 30.90625 \r\nL 18.109375 0 \r\nL 9.078125 0 \r\nL 9.078125 54.6875 \r\nL 18.109375 54.6875 \r\nL 18.109375 46.1875 \r\nQ 21.34375 51.125 25.703125 53.5625 \r\nQ 30.078125 56 35.796875 56 \r\nQ 45.21875 56 50.046875 50.171875 \r\nQ 54.890625 44.34375 54.890625 33.015625 \r\nz\r\n\" id=\"DejaVuSans-110\"/>\r\n       <path d=\"M 9.078125 75.984375 \r\nL 18.109375 75.984375 \r\nL 18.109375 31.109375 \r\nL 44.921875 54.6875 \r\nL 56.390625 54.6875 \r\nL 27.390625 29.109375 \r\nL 57.625 0 \r\nL 45.90625 0 \r\nL 18.109375 26.703125 \r\nL 18.109375 0 \r\nL 9.078125 0 \r\nz\r\n\" id=\"DejaVuSans-107\"/>\r\n      </defs>\r\n      <g transform=\"translate(23.608949 402.318437)scale(0.1 -0.1)\">\r\n       <use xlink:href=\"#DejaVuSans-114\"/>\r\n       <use x=\"38.863281\" xlink:href=\"#DejaVuSans-101\"/>\r\n       <use x=\"100.386719\" xlink:href=\"#DejaVuSans-99\"/>\r\n       <use x=\"155.367188\" xlink:href=\"#DejaVuSans-105\"/>\r\n       <use x=\"183.150391\" xlink:href=\"#DejaVuSans-112\"/>\r\n       <use x=\"246.626953\" xlink:href=\"#DejaVuSans-114\"/>\r\n       <use x=\"285.490234\" xlink:href=\"#DejaVuSans-111\"/>\r\n       <use x=\"346.671875\" xlink:href=\"#DejaVuSans-99\"/>\r\n       <use x=\"401.652344\" xlink:href=\"#DejaVuSans-97\"/>\r\n       <use x=\"462.931641\" xlink:href=\"#DejaVuSans-108\"/>\r\n       <use x=\"490.714844\" xlink:href=\"#DejaVuSans-95\"/>\r\n       <use x=\"540.714844\" xlink:href=\"#DejaVuSans-114\"/>\r\n       <use x=\"581.828125\" xlink:href=\"#DejaVuSans-97\"/>\r\n       <use x=\"643.107422\" xlink:href=\"#DejaVuSans-110\"/>\r\n       <use x=\"706.486328\" xlink:href=\"#DejaVuSans-107\"/>\r\n      </g>\r\n     </g>\r\n    </g>\r\n    <g id=\"xtick_2\">\r\n     <g id=\"line2d_2\">\r\n      <g>\r\n       <use style=\"stroke:#000000;stroke-width:0.8;\" x=\"188.647443\" xlink:href=\"#m774a092171\" y=\"387.72\"/>\r\n      </g>\r\n     </g>\r\n     <g id=\"text_2\">\r\n      <!-- average_precision_1 -->\r\n      <defs>\r\n       <path d=\"M 2.984375 54.6875 \r\nL 12.5 54.6875 \r\nL 29.59375 8.796875 \r\nL 46.6875 54.6875 \r\nL 56.203125 54.6875 \r\nL 35.6875 0 \r\nL 23.484375 0 \r\nz\r\n\" id=\"DejaVuSans-118\"/>\r\n       <path d=\"M 45.40625 27.984375 \r\nQ 45.40625 37.75 41.375 43.109375 \r\nQ 37.359375 48.484375 30.078125 48.484375 \r\nQ 22.859375 48.484375 18.828125 43.109375 \r\nQ 14.796875 37.75 14.796875 27.984375 \r\nQ 14.796875 18.265625 18.828125 12.890625 \r\nQ 22.859375 7.515625 30.078125 7.515625 \r\nQ 37.359375 7.515625 41.375 12.890625 \r\nQ 45.40625 18.265625 45.40625 27.984375 \r\nz\r\nM 54.390625 6.78125 \r\nQ 54.390625 -7.171875 48.1875 -13.984375 \r\nQ 42 -20.796875 29.203125 -20.796875 \r\nQ 24.46875 -20.796875 20.265625 -20.09375 \r\nQ 16.0625 -19.390625 12.109375 -17.921875 \r\nL 12.109375 -9.1875 \r\nQ 16.0625 -11.328125 19.921875 -12.34375 \r\nQ 23.78125 -13.375 27.78125 -13.375 \r\nQ 36.625 -13.375 41.015625 -8.765625 \r\nQ 45.40625 -4.15625 45.40625 5.171875 \r\nL 45.40625 9.625 \r\nQ 42.625 4.78125 38.28125 2.390625 \r\nQ 33.9375 0 27.875 0 \r\nQ 17.828125 0 11.671875 7.65625 \r\nQ 5.515625 15.328125 5.515625 27.984375 \r\nQ 5.515625 40.671875 11.671875 48.328125 \r\nQ 17.828125 56 27.875 56 \r\nQ 33.9375 56 38.28125 53.609375 \r\nQ 42.625 51.21875 45.40625 46.390625 \r\nL 45.40625 54.6875 \r\nL 54.390625 54.6875 \r\nz\r\n\" id=\"DejaVuSans-103\"/>\r\n       <path d=\"M 44.28125 53.078125 \r\nL 44.28125 44.578125 \r\nQ 40.484375 46.53125 36.375 47.5 \r\nQ 32.28125 48.484375 27.875 48.484375 \r\nQ 21.1875 48.484375 17.84375 46.4375 \r\nQ 14.5 44.390625 14.5 40.28125 \r\nQ 14.5 37.15625 16.890625 35.375 \r\nQ 19.28125 33.59375 26.515625 31.984375 \r\nL 29.59375 31.296875 \r\nQ 39.15625 29.25 43.1875 25.515625 \r\nQ 47.21875 21.78125 47.21875 15.09375 \r\nQ 47.21875 7.46875 41.1875 3.015625 \r\nQ 35.15625 -1.421875 24.609375 -1.421875 \r\nQ 20.21875 -1.421875 15.453125 -0.5625 \r\nQ 10.6875 0.296875 5.421875 2 \r\nL 5.421875 11.28125 \r\nQ 10.40625 8.6875 15.234375 7.390625 \r\nQ 20.0625 6.109375 24.8125 6.109375 \r\nQ 31.15625 6.109375 34.5625 8.28125 \r\nQ 37.984375 10.453125 37.984375 14.40625 \r\nQ 37.984375 18.0625 35.515625 20.015625 \r\nQ 33.0625 21.96875 24.703125 23.78125 \r\nL 21.578125 24.515625 \r\nQ 13.234375 26.265625 9.515625 29.90625 \r\nQ 5.8125 33.546875 5.8125 39.890625 \r\nQ 5.8125 47.609375 11.28125 51.796875 \r\nQ 16.75 56 26.8125 56 \r\nQ 31.78125 56 36.171875 55.265625 \r\nQ 40.578125 54.546875 44.28125 53.078125 \r\nz\r\n\" id=\"DejaVuSans-115\"/>\r\n       <path d=\"M 12.40625 8.296875 \r\nL 28.515625 8.296875 \r\nL 28.515625 63.921875 \r\nL 10.984375 60.40625 \r\nL 10.984375 69.390625 \r\nL 28.421875 72.90625 \r\nL 38.28125 72.90625 \r\nL 38.28125 8.296875 \r\nL 54.390625 8.296875 \r\nL 54.390625 0 \r\nL 12.40625 0 \r\nz\r\n\" id=\"DejaVuSans-49\"/>\r\n      </defs>\r\n      <g transform=\"translate(137.441974 402.318437)scale(0.1 -0.1)\">\r\n       <use xlink:href=\"#DejaVuSans-97\"/>\r\n       <use x=\"61.279297\" xlink:href=\"#DejaVuSans-118\"/>\r\n       <use x=\"120.458984\" xlink:href=\"#DejaVuSans-101\"/>\r\n       <use x=\"181.982422\" xlink:href=\"#DejaVuSans-114\"/>\r\n       <use x=\"223.095703\" xlink:href=\"#DejaVuSans-97\"/>\r\n       <use x=\"284.375\" xlink:href=\"#DejaVuSans-103\"/>\r\n       <use x=\"347.851562\" xlink:href=\"#DejaVuSans-101\"/>\r\n       <use x=\"409.375\" xlink:href=\"#DejaVuSans-95\"/>\r\n       <use x=\"459.375\" xlink:href=\"#DejaVuSans-112\"/>\r\n       <use x=\"522.851562\" xlink:href=\"#DejaVuSans-114\"/>\r\n       <use x=\"561.714844\" xlink:href=\"#DejaVuSans-101\"/>\r\n       <use x=\"623.238281\" xlink:href=\"#DejaVuSans-99\"/>\r\n       <use x=\"678.21875\" xlink:href=\"#DejaVuSans-105\"/>\r\n       <use x=\"706.001953\" xlink:href=\"#DejaVuSans-115\"/>\r\n       <use x=\"758.101562\" xlink:href=\"#DejaVuSans-105\"/>\r\n       <use x=\"785.884766\" xlink:href=\"#DejaVuSans-111\"/>\r\n       <use x=\"847.066406\" xlink:href=\"#DejaVuSans-110\"/>\r\n       <use x=\"910.445312\" xlink:href=\"#DejaVuSans-95\"/>\r\n       <use x=\"960.445312\" xlink:href=\"#DejaVuSans-49\"/>\r\n      </g>\r\n     </g>\r\n    </g>\r\n    <g id=\"xtick_3\">\r\n     <g id=\"line2d_3\">\r\n      <g>\r\n       <use style=\"stroke:#000000;stroke-width:0.8;\" x=\"315.465625\" xlink:href=\"#m774a092171\" y=\"387.72\"/>\r\n      </g>\r\n     </g>\r\n     <g id=\"text_3\">\r\n      <!-- average_precision_3 -->\r\n      <defs>\r\n       <path d=\"M 40.578125 39.3125 \r\nQ 47.65625 37.796875 51.625 33 \r\nQ 55.609375 28.21875 55.609375 21.1875 \r\nQ 55.609375 10.40625 48.1875 4.484375 \r\nQ 40.765625 -1.421875 27.09375 -1.421875 \r\nQ 22.515625 -1.421875 17.65625 -0.515625 \r\nQ 12.796875 0.390625 7.625 2.203125 \r\nL 7.625 11.71875 \r\nQ 11.71875 9.328125 16.59375 8.109375 \r\nQ 21.484375 6.890625 26.8125 6.890625 \r\nQ 36.078125 6.890625 40.9375 10.546875 \r\nQ 45.796875 14.203125 45.796875 21.1875 \r\nQ 45.796875 27.640625 41.28125 31.265625 \r\nQ 36.765625 34.90625 28.71875 34.90625 \r\nL 20.21875 34.90625 \r\nL 20.21875 43.015625 \r\nL 29.109375 43.015625 \r\nQ 36.375 43.015625 40.234375 45.921875 \r\nQ 44.09375 48.828125 44.09375 54.296875 \r\nQ 44.09375 59.90625 40.109375 62.90625 \r\nQ 36.140625 65.921875 28.71875 65.921875 \r\nQ 24.65625 65.921875 20.015625 65.03125 \r\nQ 15.375 64.15625 9.8125 62.3125 \r\nL 9.8125 71.09375 \r\nQ 15.4375 72.65625 20.34375 73.4375 \r\nQ 25.25 74.21875 29.59375 74.21875 \r\nQ 40.828125 74.21875 47.359375 69.109375 \r\nQ 53.90625 64.015625 53.90625 55.328125 \r\nQ 53.90625 49.265625 50.4375 45.09375 \r\nQ 46.96875 40.921875 40.578125 39.3125 \r\nz\r\n\" id=\"DejaVuSans-51\"/>\r\n      </defs>\r\n      <g transform=\"translate(264.260156 402.318437)scale(0.1 -0.1)\">\r\n       <use xlink:href=\"#DejaVuSans-97\"/>\r\n       <use x=\"61.279297\" xlink:href=\"#DejaVuSans-118\"/>\r\n       <use x=\"120.458984\" xlink:href=\"#DejaVuSans-101\"/>\r\n       <use x=\"181.982422\" xlink:href=\"#DejaVuSans-114\"/>\r\n       <use x=\"223.095703\" xlink:href=\"#DejaVuSans-97\"/>\r\n       <use x=\"284.375\" xlink:href=\"#DejaVuSans-103\"/>\r\n       <use x=\"347.851562\" xlink:href=\"#DejaVuSans-101\"/>\r\n       <use x=\"409.375\" xlink:href=\"#DejaVuSans-95\"/>\r\n       <use x=\"459.375\" xlink:href=\"#DejaVuSans-112\"/>\r\n       <use x=\"522.851562\" xlink:href=\"#DejaVuSans-114\"/>\r\n       <use x=\"561.714844\" xlink:href=\"#DejaVuSans-101\"/>\r\n       <use x=\"623.238281\" xlink:href=\"#DejaVuSans-99\"/>\r\n       <use x=\"678.21875\" xlink:href=\"#DejaVuSans-105\"/>\r\n       <use x=\"706.001953\" xlink:href=\"#DejaVuSans-115\"/>\r\n       <use x=\"758.101562\" xlink:href=\"#DejaVuSans-105\"/>\r\n       <use x=\"785.884766\" xlink:href=\"#DejaVuSans-111\"/>\r\n       <use x=\"847.066406\" xlink:href=\"#DejaVuSans-110\"/>\r\n       <use x=\"910.445312\" xlink:href=\"#DejaVuSans-95\"/>\r\n       <use x=\"960.445312\" xlink:href=\"#DejaVuSans-51\"/>\r\n      </g>\r\n     </g>\r\n    </g>\r\n    <g id=\"xtick_4\">\r\n     <g id=\"line2d_4\">\r\n      <g>\r\n       <use style=\"stroke:#000000;stroke-width:0.8;\" x=\"442.283807\" xlink:href=\"#m774a092171\" y=\"387.72\"/>\r\n      </g>\r\n     </g>\r\n     <g id=\"text_4\">\r\n      <!-- average_precision_5 -->\r\n      <defs>\r\n       <path d=\"M 10.796875 72.90625 \r\nL 49.515625 72.90625 \r\nL 49.515625 64.59375 \r\nL 19.828125 64.59375 \r\nL 19.828125 46.734375 \r\nQ 21.96875 47.46875 24.109375 47.828125 \r\nQ 26.265625 48.1875 28.421875 48.1875 \r\nQ 40.625 48.1875 47.75 41.5 \r\nQ 54.890625 34.8125 54.890625 23.390625 \r\nQ 54.890625 11.625 47.5625 5.09375 \r\nQ 40.234375 -1.421875 26.90625 -1.421875 \r\nQ 22.3125 -1.421875 17.546875 -0.640625 \r\nQ 12.796875 0.140625 7.71875 1.703125 \r\nL 7.71875 11.625 \r\nQ 12.109375 9.234375 16.796875 8.0625 \r\nQ 21.484375 6.890625 26.703125 6.890625 \r\nQ 35.15625 6.890625 40.078125 11.328125 \r\nQ 45.015625 15.765625 45.015625 23.390625 \r\nQ 45.015625 31 40.078125 35.4375 \r\nQ 35.15625 39.890625 26.703125 39.890625 \r\nQ 22.75 39.890625 18.8125 39.015625 \r\nQ 14.890625 38.140625 10.796875 36.28125 \r\nz\r\n\" id=\"DejaVuSans-53\"/>\r\n      </defs>\r\n      <g transform=\"translate(391.078338 402.318437)scale(0.1 -0.1)\">\r\n       <use xlink:href=\"#DejaVuSans-97\"/>\r\n       <use x=\"61.279297\" xlink:href=\"#DejaVuSans-118\"/>\r\n       <use x=\"120.458984\" xlink:href=\"#DejaVuSans-101\"/>\r\n       <use x=\"181.982422\" xlink:href=\"#DejaVuSans-114\"/>\r\n       <use x=\"223.095703\" xlink:href=\"#DejaVuSans-97\"/>\r\n       <use x=\"284.375\" xlink:href=\"#DejaVuSans-103\"/>\r\n       <use x=\"347.851562\" xlink:href=\"#DejaVuSans-101\"/>\r\n       <use x=\"409.375\" xlink:href=\"#DejaVuSans-95\"/>\r\n       <use x=\"459.375\" xlink:href=\"#DejaVuSans-112\"/>\r\n       <use x=\"522.851562\" xlink:href=\"#DejaVuSans-114\"/>\r\n       <use x=\"561.714844\" xlink:href=\"#DejaVuSans-101\"/>\r\n       <use x=\"623.238281\" xlink:href=\"#DejaVuSans-99\"/>\r\n       <use x=\"678.21875\" xlink:href=\"#DejaVuSans-105\"/>\r\n       <use x=\"706.001953\" xlink:href=\"#DejaVuSans-115\"/>\r\n       <use x=\"758.101562\" xlink:href=\"#DejaVuSans-105\"/>\r\n       <use x=\"785.884766\" xlink:href=\"#DejaVuSans-111\"/>\r\n       <use x=\"847.066406\" xlink:href=\"#DejaVuSans-110\"/>\r\n       <use x=\"910.445312\" xlink:href=\"#DejaVuSans-95\"/>\r\n       <use x=\"960.445312\" xlink:href=\"#DejaVuSans-53\"/>\r\n      </g>\r\n     </g>\r\n    </g>\r\n    <g id=\"xtick_5\">\r\n     <g id=\"line2d_5\">\r\n      <g>\r\n       <use style=\"stroke:#000000;stroke-width:0.8;\" x=\"569.101989\" xlink:href=\"#m774a092171\" y=\"387.72\"/>\r\n      </g>\r\n     </g>\r\n     <g id=\"text_5\">\r\n      <!-- average_precision_10 -->\r\n      <defs>\r\n       <path d=\"M 31.78125 66.40625 \r\nQ 24.171875 66.40625 20.328125 58.90625 \r\nQ 16.5 51.421875 16.5 36.375 \r\nQ 16.5 21.390625 20.328125 13.890625 \r\nQ 24.171875 6.390625 31.78125 6.390625 \r\nQ 39.453125 6.390625 43.28125 13.890625 \r\nQ 47.125 21.390625 47.125 36.375 \r\nQ 47.125 51.421875 43.28125 58.90625 \r\nQ 39.453125 66.40625 31.78125 66.40625 \r\nz\r\nM 31.78125 74.21875 \r\nQ 44.046875 74.21875 50.515625 64.515625 \r\nQ 56.984375 54.828125 56.984375 36.375 \r\nQ 56.984375 17.96875 50.515625 8.265625 \r\nQ 44.046875 -1.421875 31.78125 -1.421875 \r\nQ 19.53125 -1.421875 13.0625 8.265625 \r\nQ 6.59375 17.96875 6.59375 36.375 \r\nQ 6.59375 54.828125 13.0625 64.515625 \r\nQ 19.53125 74.21875 31.78125 74.21875 \r\nz\r\n\" id=\"DejaVuSans-48\"/>\r\n      </defs>\r\n      <g transform=\"translate(514.71527 402.318437)scale(0.1 -0.1)\">\r\n       <use xlink:href=\"#DejaVuSans-97\"/>\r\n       <use x=\"61.279297\" xlink:href=\"#DejaVuSans-118\"/>\r\n       <use x=\"120.458984\" xlink:href=\"#DejaVuSans-101\"/>\r\n       <use x=\"181.982422\" xlink:href=\"#DejaVuSans-114\"/>\r\n       <use x=\"223.095703\" xlink:href=\"#DejaVuSans-97\"/>\r\n       <use x=\"284.375\" xlink:href=\"#DejaVuSans-103\"/>\r\n       <use x=\"347.851562\" xlink:href=\"#DejaVuSans-101\"/>\r\n       <use x=\"409.375\" xlink:href=\"#DejaVuSans-95\"/>\r\n       <use x=\"459.375\" xlink:href=\"#DejaVuSans-112\"/>\r\n       <use x=\"522.851562\" xlink:href=\"#DejaVuSans-114\"/>\r\n       <use x=\"561.714844\" xlink:href=\"#DejaVuSans-101\"/>\r\n       <use x=\"623.238281\" xlink:href=\"#DejaVuSans-99\"/>\r\n       <use x=\"678.21875\" xlink:href=\"#DejaVuSans-105\"/>\r\n       <use x=\"706.001953\" xlink:href=\"#DejaVuSans-115\"/>\r\n       <use x=\"758.101562\" xlink:href=\"#DejaVuSans-105\"/>\r\n       <use x=\"785.884766\" xlink:href=\"#DejaVuSans-111\"/>\r\n       <use x=\"847.066406\" xlink:href=\"#DejaVuSans-110\"/>\r\n       <use x=\"910.445312\" xlink:href=\"#DejaVuSans-95\"/>\r\n       <use x=\"960.445312\" xlink:href=\"#DejaVuSans-49\"/>\r\n       <use x=\"1024.068359\" xlink:href=\"#DejaVuSans-48\"/>\r\n      </g>\r\n     </g>\r\n    </g>\r\n   </g>\r\n   <g id=\"matplotlib.axis_2\">\r\n    <g id=\"ytick_1\">\r\n     <g id=\"line2d_6\">\r\n      <defs>\r\n       <path d=\"M 0 0 \r\nL -3.5 0 \r\n\" id=\"m366b0ca504\" style=\"stroke:#000000;stroke-width:0.8;\"/>\r\n      </defs>\r\n      <g>\r\n       <use style=\"stroke:#000000;stroke-width:0.8;\" x=\"36.465625\" xlink:href=\"#m366b0ca504\" y=\"356.99377\"/>\r\n      </g>\r\n     </g>\r\n     <g id=\"text_6\">\r\n      <!-- 0.10 -->\r\n      <defs>\r\n       <path d=\"M 10.6875 12.40625 \r\nL 21 12.40625 \r\nL 21 0 \r\nL 10.6875 0 \r\nz\r\n\" id=\"DejaVuSans-46\"/>\r\n      </defs>\r\n      <g transform=\"translate(7.2 360.792989)scale(0.1 -0.1)\">\r\n       <use xlink:href=\"#DejaVuSans-48\"/>\r\n       <use x=\"63.623047\" xlink:href=\"#DejaVuSans-46\"/>\r\n       <use x=\"95.410156\" xlink:href=\"#DejaVuSans-49\"/>\r\n       <use x=\"159.033203\" xlink:href=\"#DejaVuSans-48\"/>\r\n      </g>\r\n     </g>\r\n    </g>\r\n    <g id=\"ytick_2\">\r\n     <g id=\"line2d_7\">\r\n      <g>\r\n       <use style=\"stroke:#000000;stroke-width:0.8;\" x=\"36.465625\" xlink:href=\"#m366b0ca504\" y=\"292.34949\"/>\r\n      </g>\r\n     </g>\r\n     <g id=\"text_7\">\r\n      <!-- 0.15 -->\r\n      <g transform=\"translate(7.2 296.148709)scale(0.1 -0.1)\">\r\n       <use xlink:href=\"#DejaVuSans-48\"/>\r\n       <use x=\"63.623047\" xlink:href=\"#DejaVuSans-46\"/>\r\n       <use x=\"95.410156\" xlink:href=\"#DejaVuSans-49\"/>\r\n       <use x=\"159.033203\" xlink:href=\"#DejaVuSans-53\"/>\r\n      </g>\r\n     </g>\r\n    </g>\r\n    <g id=\"ytick_3\">\r\n     <g id=\"line2d_8\">\r\n      <g>\r\n       <use style=\"stroke:#000000;stroke-width:0.8;\" x=\"36.465625\" xlink:href=\"#m366b0ca504\" y=\"227.70521\"/>\r\n      </g>\r\n     </g>\r\n     <g id=\"text_8\">\r\n      <!-- 0.20 -->\r\n      <defs>\r\n       <path d=\"M 19.1875 8.296875 \r\nL 53.609375 8.296875 \r\nL 53.609375 0 \r\nL 7.328125 0 \r\nL 7.328125 8.296875 \r\nQ 12.9375 14.109375 22.625 23.890625 \r\nQ 32.328125 33.6875 34.8125 36.53125 \r\nQ 39.546875 41.84375 41.421875 45.53125 \r\nQ 43.3125 49.21875 43.3125 52.78125 \r\nQ 43.3125 58.59375 39.234375 62.25 \r\nQ 35.15625 65.921875 28.609375 65.921875 \r\nQ 23.96875 65.921875 18.8125 64.3125 \r\nQ 13.671875 62.703125 7.8125 59.421875 \r\nL 7.8125 69.390625 \r\nQ 13.765625 71.78125 18.9375 73 \r\nQ 24.125 74.21875 28.421875 74.21875 \r\nQ 39.75 74.21875 46.484375 68.546875 \r\nQ 53.21875 62.890625 53.21875 53.421875 \r\nQ 53.21875 48.921875 51.53125 44.890625 \r\nQ 49.859375 40.875 45.40625 35.40625 \r\nQ 44.1875 33.984375 37.640625 27.21875 \r\nQ 31.109375 20.453125 19.1875 8.296875 \r\nz\r\n\" id=\"DejaVuSans-50\"/>\r\n      </defs>\r\n      <g transform=\"translate(7.2 231.504429)scale(0.1 -0.1)\">\r\n       <use xlink:href=\"#DejaVuSans-48\"/>\r\n       <use x=\"63.623047\" xlink:href=\"#DejaVuSans-46\"/>\r\n       <use x=\"95.410156\" xlink:href=\"#DejaVuSans-50\"/>\r\n       <use x=\"159.033203\" xlink:href=\"#DejaVuSans-48\"/>\r\n      </g>\r\n     </g>\r\n    </g>\r\n    <g id=\"ytick_4\">\r\n     <g id=\"line2d_9\">\r\n      <g>\r\n       <use style=\"stroke:#000000;stroke-width:0.8;\" x=\"36.465625\" xlink:href=\"#m366b0ca504\" y=\"163.06093\"/>\r\n      </g>\r\n     </g>\r\n     <g id=\"text_9\">\r\n      <!-- 0.25 -->\r\n      <g transform=\"translate(7.2 166.860149)scale(0.1 -0.1)\">\r\n       <use xlink:href=\"#DejaVuSans-48\"/>\r\n       <use x=\"63.623047\" xlink:href=\"#DejaVuSans-46\"/>\r\n       <use x=\"95.410156\" xlink:href=\"#DejaVuSans-50\"/>\r\n       <use x=\"159.033203\" xlink:href=\"#DejaVuSans-53\"/>\r\n      </g>\r\n     </g>\r\n    </g>\r\n    <g id=\"ytick_5\">\r\n     <g id=\"line2d_10\">\r\n      <g>\r\n       <use style=\"stroke:#000000;stroke-width:0.8;\" x=\"36.465625\" xlink:href=\"#m366b0ca504\" y=\"98.41665\"/>\r\n      </g>\r\n     </g>\r\n     <g id=\"text_10\">\r\n      <!-- 0.30 -->\r\n      <g transform=\"translate(7.2 102.215869)scale(0.1 -0.1)\">\r\n       <use xlink:href=\"#DejaVuSans-48\"/>\r\n       <use x=\"63.623047\" xlink:href=\"#DejaVuSans-46\"/>\r\n       <use x=\"95.410156\" xlink:href=\"#DejaVuSans-51\"/>\r\n       <use x=\"159.033203\" xlink:href=\"#DejaVuSans-48\"/>\r\n      </g>\r\n     </g>\r\n    </g>\r\n    <g id=\"ytick_6\">\r\n     <g id=\"line2d_11\">\r\n      <g>\r\n       <use style=\"stroke:#000000;stroke-width:0.8;\" x=\"36.465625\" xlink:href=\"#m366b0ca504\" y=\"33.77237\"/>\r\n      </g>\r\n     </g>\r\n     <g id=\"text_11\">\r\n      <!-- 0.35 -->\r\n      <g transform=\"translate(7.2 37.571589)scale(0.1 -0.1)\">\r\n       <use xlink:href=\"#DejaVuSans-48\"/>\r\n       <use x=\"63.623047\" xlink:href=\"#DejaVuSans-46\"/>\r\n       <use x=\"95.410156\" xlink:href=\"#DejaVuSans-51\"/>\r\n       <use x=\"159.033203\" xlink:href=\"#DejaVuSans-53\"/>\r\n      </g>\r\n     </g>\r\n    </g>\r\n   </g>\r\n   <g id=\"patch_3\">\r\n    <path d=\"M 36.465625 387.72 \r\nL 36.465625 7.2 \r\n\" style=\"fill:none;stroke:#000000;stroke-linecap:square;stroke-linejoin:miter;stroke-width:0.8;\"/>\r\n   </g>\r\n   <g id=\"patch_4\">\r\n    <path d=\"M 594.465625 387.72 \r\nL 594.465625 7.2 \r\n\" style=\"fill:none;stroke:#000000;stroke-linecap:square;stroke-linejoin:miter;stroke-width:0.8;\"/>\r\n   </g>\r\n   <g id=\"patch_5\">\r\n    <path d=\"M 36.465625 387.72 \r\nL 594.465625 387.72 \r\n\" style=\"fill:none;stroke:#000000;stroke-linecap:square;stroke-linejoin:miter;stroke-width:0.8;\"/>\r\n   </g>\r\n   <g id=\"patch_6\">\r\n    <path d=\"M 36.465625 7.2 \r\nL 594.465625 7.2 \r\n\" style=\"fill:none;stroke:#000000;stroke-linecap:square;stroke-linejoin:miter;stroke-width:0.8;\"/>\r\n   </g>\r\n  </g>\r\n </g>\r\n <defs>\r\n  <clipPath id=\"p156574fb66\">\r\n   <rect height=\"380.52\" width=\"558\" x=\"36.465625\" y=\"7.2\"/>\r\n  </clipPath>\r\n </defs>\r\n</svg>\r\n",
      "image/png": "[encoded data removed]"
     },
     "metadata": {
      "needs_background": "light"
     }
    }
   ],
   "source": [
    "import matplotlib.pyplot as plt\n",
    "def generate_graphs(bugs):\n",
    "    # Im not too sure this boxplot is actually useful, at least not for reciprocal_rank and avearge_precision_1\n",
    "    important_cols = [\"reciprocal_rank\",\"average_precision_1\",\"average_precision_3\",\"average_precision_5\",\"average_precision_10\"]\n",
    "    boxplot = bugs.boxplot(column=important_cols,figsize=(10,7))\n",
    "    mean_list = list()\n",
    "    for col in important_cols:\n",
    "        mean_list.append(bugs[col].mean())\n",
    "    fig, ax = plt.subplots(figsize=(10,7))\n",
    "    ax.scatter(important_cols,mean_list)\n",
    "generate_graphs(bugs)"
   ]
  },
  {
   "cell_type": "code",
   "execution_count": 29,
   "metadata": {},
   "outputs": [
    {
     "output_type": "execute_result",
     "data": {
      "text/plain": [
       "((0.4472795096859311, 1),\n",
       " (0.2913655231050407, 25),\n",
       " (0.03209980879562304, 16),\n",
       " (0.0880717932156749, 1),\n",
       " (0.31912456699257075, 4),\n",
       " (0.38644080002864695, 0),\n",
       " (0.28046076214130816, 8),\n",
       " (0.21328436467544076, 29),\n",
       " (0.5039683586910633, 1),\n",
       " (0.6438312042408976, 1),\n",
       " (0.423608812618834, 1),\n",
       " (0.5026370609304508, 0),\n",
       " (0.21673040369631835, 16),\n",
       " (0.43031369493789906, 1),\n",
       " (0.4909623398612745, 0),\n",
       " (0.2512620370028016, 14),\n",
       " (0.4730434626385859, 1),\n",
       " (0.486343809828954, 0),\n",
       " (0.13743009617270954, 51),\n",
       " (0.36345491909775834, 91),\n",
       " (0.40301763571397675, 1),\n",
       " (0.501993096040347, 0),\n",
       " (0.3028765649566887, 7),\n",
       " ('org.apache.commons.collections.splitmap.abstractiterablegetmapdecorator.java',\n",
       "  -1),\n",
       " ('org.apache.commons.collections.splitmap.testtransformedmap.java', -1),\n",
       " (0.14718196728468272, 10),\n",
       " (0.23501428756066586, 1),\n",
       " (0.17707827762462128, 5),\n",
       " (0.29015004202166644, 21),\n",
       " (0.34800929761560623, 2),\n",
       " (0.4398117899012724, 0),\n",
       " (0.2478632221663548, 7),\n",
       " (0.32635182109160366, 2),\n",
       " (0.35617884797505345, 3),\n",
       " (0.2721712310702989, 6),\n",
       " (0.5127001609375662, 0),\n",
       " (0.20233792795776498, 48),\n",
       " (0.262219909205407, 7),\n",
       " (0.17629423021461835, 72),\n",
       " (0.43701850233228967, 1),\n",
       " (0.41734372211996484, 2),\n",
       " (0.13330407294072227, 114),\n",
       " (0.25656590417658465, 10),\n",
       " (0.645494101769588, 0),\n",
       " (0.3182730881897686, 8),\n",
       " (0.47608432723991045, 1),\n",
       " (0.35280096842746533, 6),\n",
       " (0.6148458324429698, 0),\n",
       " (0.4395862484781757, 1),\n",
       " (0.3757087874746632, 62),\n",
       " (0.3922969362374947, 0),\n",
       " (0.5086855523835432, 0),\n",
       " (0.2970629756850994, 1),\n",
       " (0.3169830504048807, 0),\n",
       " (0.5929611176463654, 0),\n",
       " (0.41477595060481953, 0),\n",
       " (0.3412434321369087, 15),\n",
       " (0.5103182382071961, 0),\n",
       " (0.09005269831582555, 142),\n",
       " (0.4594271951493968, 1),\n",
       " (0.5958359494100187, 0),\n",
       " (0.2468134252588248, 11),\n",
       " (0.42224720298728297, 1),\n",
       " (0.5105658547367571, 0),\n",
       " (0.26669260039675324, 10),\n",
       " (0.31843649135526125, 3),\n",
       " (0.44289482002689284, 0),\n",
       " (0.26440837185786736, 6),\n",
       " (0.257845046769457, 53),\n",
       " (0.2250435312211843, 125),\n",
       " (0.5796777558652175, 0),\n",
       " (0.5293955186331188, 1),\n",
       " (0.46810400624250215, 5),\n",
       " (0.4561262475187346, 8),\n",
       " (0.2945173753949975, 20),\n",
       " (0.4773837835962509, 0),\n",
       " (0.34954103983566, 1),\n",
       " (0.21419724975818846, 0),\n",
       " (0.2065180080783933, 1),\n",
       " (0.5348520873528743, 0),\n",
       " (0.3093504311592929, 9),\n",
       " (0.5657041913600277, 9),\n",
       " (0.6484063521230187, 1),\n",
       " (0.28814101908764517, 1),\n",
       " (0.31706214150437634, 0),\n",
       " (0.6891924000779336, 2),\n",
       " (0.6716040527044574, 3),\n",
       " (0.6895008823335501, 1),\n",
       " (0.7149135356003574, 0),\n",
       " (0.3997040470545934, 0),\n",
       " (0.5527627300380925, 1),\n",
       " (0.43644128784472697, 7),\n",
       " (0.05503323166076521, 298),\n",
       " (0.2782776397500046, 1),\n",
       " (0.11834883030825497, 6),\n",
       " (0.4044031082194676, 2),\n",
       " (0.45740665635392264, 1),\n",
       " (0.33726326959448283, 3),\n",
       " (0.2514378286440972, 5),\n",
       " (0.3130051101441364, 4),\n",
       " (0.26762612187820095, 22),\n",
       " (0.49819898272689483, 0),\n",
       " (0.19969362986611316, 30),\n",
       " (0.5031815351113226, 0),\n",
       " (0.48674505946583474, 1),\n",
       " (0.45327643897362213, 0),\n",
       " (0.44718335741067994, 1),\n",
       " (0.12910913669816615, 56),\n",
       " (0.37632438384799394, 0),\n",
       " ('org.apache.commons.collections.comparators.transformingcomparatortest.java',\n",
       "  -1),\n",
       " (0.3639633066514325, 1),\n",
       " ('org.apache.commons.collections.set.compositesettest.java', -1),\n",
       " ('org.apache.commons.collections.collection.compositecollectiontest.java',\n",
       "  -1),\n",
       " ('org.apache.commons.collections.set.emptysetmutator.java', -1),\n",
       " (0.49991238061937615, 2),\n",
       " (0.6413907361798891, 1),\n",
       " ('org.apache.commons.collections4.list.setuniquelisttest.java', -1),\n",
       " ('org.apache.commons.collections4.list.setuniquelist.java', -1),\n",
       " ('org.apache.commons.collections.list.setuniquelisttest.java', -1),\n",
       " (0.2066720114316357, 3),\n",
       " ('org.apache.commons.collections4.map.multivaluemaptest.java', -1),\n",
       " ('org.apache.commons.collections4.map.multivaluemap.java', -1),\n",
       " (0.11847262116043407, 128),\n",
       " (0.10439659018309425, 135),\n",
       " (0.2699689216279748, 69),\n",
       " (0.03840276822468765, 211),\n",
       " (0.18925817296813147, 96),\n",
       " (0.23278427358731923, 78),\n",
       " (0.752522056402653, 0),\n",
       " (0.6474025933154588, 3),\n",
       " (0.1485769284895025, 112),\n",
       " (0.5015560073393459, 11),\n",
       " (0.20676929171253539, 90),\n",
       " (0.21333215382949197, 85),\n",
       " (0.24499205641806707, 74),\n",
       " (0.6667882361162438, 1),\n",
       " (0.2110307879214082, 87),\n",
       " (0.04978688233298602, 188),\n",
       " (0.37014505888718363, 42),\n",
       " (0.4924509057699866, 12),\n",
       " (0.12221846661387059, 124),\n",
       " ('org.apache.commons.collections4.map.flat3map.java', -1),\n",
       " ('org.apache.commons.collections4.functors.switchtransformer.java', -1),\n",
       " ('org.apache.commons.collections4.functors.switchclosure.java', -1),\n",
       " ('org.apache.commons.collections4.functors.chainedtransformer.java', -1),\n",
       " ('org.apache.commons.collections4.functors.chainedclosure.java', -1),\n",
       " ('org.apache.commons.collections4.functors.instantiatetransformer.java', -1),\n",
       " ('org.apache.commons.collections4.functors.invokertransformer.java', -1),\n",
       " ('org.apache.commons.collections4.bag.abstractmapbag.java', -1),\n",
       " ('org.apache.commons.collections4.map.transformedmap.java', -1),\n",
       " ('org.apache.commons.collections4.splitmaputilstest.java', -1),\n",
       " ('org.apache.commons.collections4.splitmap.transformedmaptest.java', -1),\n",
       " ('org.apache.commons.collections4.splitmap.transformedmap.java', -1),\n",
       " ('org.apache.commons.collections4.map.listorderedmap.java', -1),\n",
       " ('org.apache.commons.collections4.map.listorderedmaptest.java', -1),\n",
       " ('org.apache.commons.collections4.map.passiveexpiringmap.java', -1),\n",
       " ('org.apache.commons.collections4.map.passiveexpiringmaptest.java', -1),\n",
       " (0.17594719467209194, 4),\n",
       " (0.29113564529135955, 0),\n",
       " (0.1081223868317454, 14),\n",
       " ('org.apache.commons.collections4.collectionutilstest.java', -1),\n",
       " ('org.apache.commons.collections4.collectionutils.java', -1),\n",
       " ('org.apache.commons.collections4.collectionutilstest.java', -1),\n",
       " ('org.apache.commons.collections4.collectionutils.java', -1),\n",
       " ('org.apache.commons.collections4.trie.unmodifiabletrietest.java', -1),\n",
       " ('org.apache.commons.collections4.trie.unmodifiabletrie.java', -1),\n",
       " ('org.apache.commons.collections4.trieutilstest.java', -1),\n",
       " ('org.apache.commons.collections4.collection.unmodifiableboundedcollection.java',\n",
       "  -1),\n",
       " ('org.apache.commons.collections4.collection.unmodifiableboundedcollectiontest.java',\n",
       "  -1),\n",
       " ('org.apache.commons.collections4.multimap.java', -1),\n",
       " ('org.apache.commons.collections4.map.multivaluemaptest.java', -1),\n",
       " ('org.apache.commons.collections4.map.multivaluemap.java', -1),\n",
       " ('org.apache.commons.collections4.map.multikeymaptest.java', -1),\n",
       " ('org.apache.commons.collections4.map.multikeymap.java', -1),\n",
       " ('org.apache.commons.collections4.collectionutils.java', -1),\n",
       " ('org.apache.commons.collections4.comparatorutils.java', -1),\n",
       " ('org.apache.commons.collections4.set.listorderedset.java', -1),\n",
       " ('org.apache.commons.collections4.set.listorderedsettest.java', -1),\n",
       " ('org.apache.commons.collections4.maputils.java', -1),\n",
       " ('org.apache.commons.collections4.collectionutils.java', -1),\n",
       " ('org.apache.commons.collections4.bag.collectionbag.java', -1),\n",
       " ('org.apache.commons.collections4.maputils.java', -1),\n",
       " ('org.apache.commons.collections4.functors.chainedclosure.java', -1),\n",
       " ('org.apache.commons.collections4.functors.nonepredicate.java', -1),\n",
       " ('org.apache.commons.collections4.transformerutils.java', -1),\n",
       " ('org.apache.commons.collections4.functors.chainedtransformer.java', -1),\n",
       " ('org.apache.commons.collections4.predicateutils.java', -1),\n",
       " ('org.apache.commons.collections4.functors.allpredicate.java', -1),\n",
       " ('org.apache.commons.collections4.functors.onepredicate.java', -1),\n",
       " ('org.apache.commons.collections4.closureutils.java', -1),\n",
       " ('org.apache.commons.collections4.functors.functorutils.java', -1),\n",
       " ('org.apache.commons.collections4.functors.anypredicate.java', -1),\n",
       " ('org.apache.commons.collections4.trie.abstractpatriciatrie.java', -1),\n",
       " ('org.apache.commons.collections4.trie.patriciatrietest.java', -1),\n",
       " ('org.apache.commons.collections4.collection.abstractcollectiondecorator.java',\n",
       "  -1),\n",
       " ('org.apache.commons.collections4.comparators.fixedordercomparator.java', -1),\n",
       " ('org.apache.commons.collections4.comparators.transformingcomparator.java',\n",
       "  -1),\n",
       " ('org.apache.commons.collections4.comparators.transformingcomparatortest.java',\n",
       "  -1),\n",
       " ('org.apache.commons.collections4.collectionutils.java', -1),\n",
       " ('org.apache.commons.collections4.multimap.abstractmultivaluedmap.java', -1),\n",
       " ('org.apache.commons.collections4.list.transformedlist.java', -1),\n",
       " ('org.apache.commons.collections4.set.predicatedset.java', -1),\n",
       " ('org.apache.commons.collections4.list.abstractlistdecorator.java', -1),\n",
       " ('org.apache.commons.collections4.multimap.abstractmultivaluedmaptest.java',\n",
       "  -1),\n",
       " ('org.apache.commons.collections4.set.abstractsetdecorator.java', -1),\n",
       " ('org.apache.commons.collections4.bag.abstractbagdecorator.java', -1),\n",
       " ('org.apache.commons.collections4.queue.abstractqueuedecorator.java', -1),\n",
       " ('org.apache.commons.collections4.bidimap.abstractdualbidimap.java', -1),\n",
       " ('org.apache.commons.collections4.bag.predicatedbag.java', -1),\n",
       " ('org.apache.commons.collections4.set.transformedset.java', -1),\n",
       " ('org.apache.commons.collections4.list.predicatedlist.java', -1),\n",
       " ('org.apache.commons.collections4.bag.synchronizedbag.java', -1),\n",
       " ('org.apache.commons.collections4.bag.transformedbag.java', -1),\n",
       " ('org.apache.commons.collections4.collection.abstractcollectiondecorator.java',\n",
       "  -1),\n",
       " ('org.apache.commons.collections4.collectionutils.java', -1),\n",
       " ('org.apache.commons.collections4.set.listorderedset.java', -1),\n",
       " ('org.apache.commons.collections4.set.listorderedsettest.java', -1),\n",
       " (0.336759054212257, 1),\n",
       " ('org.apache.commons.collections.set.listorderedsettest.java', -1),\n",
       " ('org.apache.commons.collections4.list.setuniquelisttest.java', -1),\n",
       " ('org.apache.commons.collections4.list.setuniquelist.java', -1),\n",
       " ('org.apache.commons.collections.list.setuniquelisttest.java', -1),\n",
       " (0.43667408046019135, 0),\n",
       " ('org.apache.commons.collections4.bag.treebagtest.java', -1),\n",
       " ('org.apache.commons.collections4.bag.treebag.java', -1),\n",
       " ('org.apache.commons.collections4.set.listorderedset.java', -1),\n",
       " ('org.apache.commons.collections4.iteratorutils.java', -1),\n",
       " ('org.apache.commons.collections4.iteratorutilstest.java', -1),\n",
       " ('org.apache.commons.collections4.set.listorderedsettest.java', -1),\n",
       " ('org.apache.commons.collections4.functors.anypredicate.java', -1),\n",
       " ('org.apache.commons.collections4.trie.unmodifiabletrie.java', -1),\n",
       " ('org.apache.commons.collections4.splitmap.transformedsplitmap.java', -1),\n",
       " ('org.apache.commons.collections4.collection.unmodifiableboundedcollectiontest.java',\n",
       "  -1),\n",
       " ('org.apache.commons.collections4.map.unmodifiablesortedmap.java', -1),\n",
       " ('org.apache.commons.collections4.collection.unmodifiablecollectiontest.java',\n",
       "  -1),\n",
       " ('org.apache.commons.collections4.map.predicatedmap.java', -1),\n",
       " ('org.apache.commons.collections4.list.unmodifiablelist.java', -1),\n",
       " ('org.apache.commons.collections4.iterators.pushbackiterator.java', -1),\n",
       " ('org.apache.commons.collections4.functors.functorutils.java', -1),\n",
       " ('org.apache.commons.collections4.predicateutilstest.java', -1),\n",
       " ('org.apache.commons.collections4.splitmap.abstractiterablegetmapdecorator.java',\n",
       "  -1),\n",
       " ('org.apache.commons.collections4.collectionutilstest.java', -1),\n",
       " ('org.apache.commons.collections4.transformerutilstest.java', -1),\n",
       " ('org.apache.commons.collections4.collection.transformedcollection.java', -1),\n",
       " ('org.apache.commons.collections4.bag.abstractsortedbagdecorator.java', -1),\n",
       " ('org.apache.commons.collections4.list.fixedsizelist.java', -1),\n",
       " ('org.apache.commons.collections4.bag.unmodifiablebagtest.java', -1),\n",
       " ('org.apache.commons.collections4.iterators.abstractorderedmapiteratordecorator.java',\n",
       "  -1),\n",
       " ('org.apache.commons.collections4.functors.allpredicate.java', -1),\n",
       " ('org.apache.commons.collections4.bidimap.unmodifiablebidimap.java', -1),\n",
       " ('org.apache.commons.collections4.multiset.abstractmultisetdecorator.java',\n",
       "  -1),\n",
       " ('org.apache.commons.collections4.map.fixedsizemap.java', -1),\n",
       " ('org.apache.commons.collections4.map.unmodifiableorderedmap.java', -1),\n",
       " ('org.apache.commons.collections4.set.abstractsetdecorator.java', -1),\n",
       " ('org.apache.commons.collections4.map.passiveexpiringmaptest.java', -1),\n",
       " ('org.apache.commons.collections4.list.transformedlist.java', -1),\n",
       " ('org.apache.commons.collections4.bag.predicatedsortedbagtest.java', -1),\n",
       " ('org.apache.commons.collections4.functors.nonepredicate.java', -1),\n",
       " ('org.apache.commons.collections4.closureutilstest.java', -1),\n",
       " ('org.apache.commons.collections4.maputilstest.java', -1),\n",
       " ('org.apache.commons.collections4.functors.transformedpredicate.java', -1),\n",
       " ('org.apache.commons.collections4.set.unmodifiableset.java', -1),\n",
       " ('org.apache.commons.collections4.bag.abstractbagdecorator.java', -1),\n",
       " ('org.apache.commons.collections4.multimap.abstractmultivaluedmap.java', -1),\n",
       " ('org.apache.commons.collections4.queue.abstractqueuedecorator.java', -1),\n",
       " ('org.apache.commons.collections4.set.transformedsortedset.java', -1),\n",
       " ('org.apache.commons.collections4.trieutilstest.java', -1),\n",
       " ('org.apache.commons.collections4.functors.closuretransformer.java', -1),\n",
       " ('org.apache.commons.collections4.queue.predicatedqueue.java', -1),\n",
       " ('org.apache.commons.collections4.set.unmodifiablesortedset.java', -1),\n",
       " ('org.apache.commons.collections4.map.lazymap.java', -1),\n",
       " ('org.apache.commons.collections4.bag.unmodifiablesortedbag.java', -1),\n",
       " ('org.apache.commons.collections4.bidimap.unmodifiableorderedbidimap.java',\n",
       "  -1),\n",
       " ('org.apache.commons.collections4.iterators.abstractuntypediteratordecorator.java',\n",
       "  -1),\n",
       " ('org.apache.commons.collections4.collection.abstractcollectiondecorator.java',\n",
       "  -1),\n",
       " ('org.apache.commons.collections4.setutilstest.java', -1),\n",
       " ('org.apache.commons.collections4.list.lazylist.java', -1),\n",
       " ('org.apache.commons.collections4.trieutils.java', -1),\n",
       " ('org.apache.commons.collections4.set.predicatedset.java', -1),\n",
       " ('org.apache.commons.collections4.set.transformednavigableset.java', -1),\n",
       " ('org.apache.commons.collections4.functors.switchclosure.java', -1),\n",
       " ('org.apache.commons.collections4.functors.andpredicate.java', -1),\n",
       " ('org.apache.commons.collections4.map.abstractorderedmapdecorator.java', -1),\n",
       " ('org.apache.commons.collections4.bag.predicatedbag.java', -1),\n",
       " ('org.apache.commons.collections4.iterators.unmodifiablelistiterator.java',\n",
       "  -1),\n",
       " ('org.apache.commons.collections4.bag.collectionbag.java', -1),\n",
       " ('org.apache.commons.collections4.bidimap.abstractsortedbidimapdecorator.java',\n",
       "  -1),\n",
       " ('org.apache.commons.collections4.bag.predicatedbagtest.java', -1),\n",
       " ('org.apache.commons.collections4.map.defaultedmap.java', -1),\n",
       " ('org.apache.commons.collections4.iterators.abstractiteratordecorator.java',\n",
       "  -1),\n",
       " ('org.apache.commons.collections4.map.multikeymap.java', -1),\n",
       " ('org.apache.commons.collections4.iterators.abstractmapiteratordecorator.java',\n",
       "  -1),\n",
       " ('org.apache.commons.collections4.factoryutilstest.java', -1),\n",
       " ('org.apache.commons.collections4.queue.unmodifiablequeue.java', -1),\n",
       " ('org.apache.commons.collections4.functors.abstractcompositepredicatetest.java',\n",
       "  -1),\n",
       " ('org.apache.commons.collections4.functors.switchtransformer.java', -1),\n",
       " ('org.apache.commons.collections4.iterators.unmodifiablelistiteratortest.java',\n",
       "  -1),\n",
       " ('org.apache.commons.collections4.functors.chainedclosure.java', -1),\n",
       " ('org.apache.commons.collections4.map.unmodifiablesortedmaptest.java', -1),\n",
       " ('org.apache.commons.collections4.functors.instantiatefactory.java', -1),\n",
       " ('org.apache.commons.collections4.iterators.nodelistiteratortest.java', -1),\n",
       " ('org.apache.commons.collections4.set.abstractnavigablesetdecorator.java',\n",
       "  -1),\n",
       " ('org.apache.commons.collections4.collection.unmodifiablecollection.java',\n",
       "  -1),\n",
       " ('org.apache.commons.collections4.set.unmodifiablenavigablesettest.java', -1),\n",
       " ('org.apache.commons.collections4.map.predicatedsortedmap.java', -1),\n",
       " ('org.apache.commons.collections4.bag.transformedsortedbag.java', -1),\n",
       " ('org.apache.commons.collections4.collection.unmodifiableboundedcollection.java',\n",
       "  -1),\n",
       " ('org.apache.commons.collections4.bagutils.java', -1),\n",
       " ('org.apache.commons.collections4.iterators.unmodifiableiterator.java', -1),\n",
       " ('org.apache.commons.collections4.closureutils.java', -1),\n",
       " ('org.apache.commons.collections4.functors.nullisexceptionpredicate.java',\n",
       "  -1),\n",
       " ('org.apache.commons.collections4.keyvalue.abstractmapentrydecorator.java',\n",
       "  -1),\n",
       " ('org.apache.commons.collections4.collection.synchronizedcollection.java',\n",
       "  -1),\n",
       " ('org.apache.commons.collections4.functors.notpredicate.java', -1),\n",
       " ('org.apache.commons.collections4.queueutilstest.java', -1),\n",
       " ('org.apache.commons.collections4.splitmaputils.java', -1),\n",
       " ('org.apache.commons.collections4.set.abstractsortedsetdecorator.java', -1),\n",
       " ('org.apache.commons.collections4.set.listorderedset.java', -1),\n",
       " ('org.apache.commons.collections4.map.lazysortedmaptest.java', -1),\n",
       " ('org.apache.commons.collections4.set.transformedset.java', -1),\n",
       " ('org.apache.commons.collections4.list.predicatedlist.java', -1),\n",
       " ('org.apache.commons.collections4.iterators.unmodifiableorderedmapiterator.java',\n",
       "  -1),\n",
       " ('org.apache.commons.collections4.functors.transformerpredicate.java', -1),\n",
       " ('org.apache.commons.collections4.collectionutils.java', -1),\n",
       " ('org.apache.commons.collections4.list.growthlist.java', -1),\n",
       " ('org.apache.commons.collections4.factoryutils.java', -1),\n",
       " ('org.apache.commons.collections4.functors.instanceofpredicate.java', -1),\n",
       " ('org.apache.commons.collections4.list.setuniquelist.java', -1),\n",
       " ('org.apache.commons.collections4.transformerutils.java', -1),\n",
       " ('org.apache.commons.collections4.functors.nullisfalsepredicate.java', -1),\n",
       " ('org.apache.commons.collections4.bidimap.unmodifiableorderedbidimaptest.java',\n",
       "  -1),\n",
       " ('org.apache.commons.collections4.functors.invokertransformer.java', -1),\n",
       " ('org.apache.commons.collections4.set.abstractserializablesetdecorator.java',\n",
       "  -1),\n",
       " ('org.apache.commons.collections4.bag.predicatedsortedbag.java', -1),\n",
       " ('org.apache.commons.collections4.comparators.fixedordercomparator.java', -1),\n",
       " ('org.apache.commons.collections4.bag.collectionsortedbag.java', -1),\n",
       " ('org.apache.commons.collections4.set.unmodifiablesettest.java', -1),\n",
       " ('org.apache.commons.collections4.iterators.reverselistiterator.java', -1),\n",
       " ('org.apache.commons.collections4.bidimap.unmodifiablesortedbidimaptest.java',\n",
       "  -1),\n",
       " ('org.apache.commons.collections4.bidimap.unmodifiablebidimaptest.java', -1),\n",
       " ('org.apache.commons.collections4.functors.chainedtransformer.java', -1),\n",
       " ('org.apache.commons.collections4.map.singletonmap.java', -1),\n",
       " ('org.apache.commons.collections4.map.fixedsizesortedmap.java', -1),\n",
       " ('org.apache.commons.collections4.set.predicatedsortedset.java', -1),\n",
       " ('org.apache.commons.collections4.maputils.java', -1),\n",
       " ('org.apache.commons.collections4.iterators.nodelistiterator.java', -1),\n",
       " ('org.apache.commons.collections4.listutilstest.java', -1),\n",
       " ('org.apache.commons.collections4.set.mapbackedset.java', -1),\n",
       " ('org.apache.commons.collections4.bag.transformedbag.java', -1),\n",
       " ('org.apache.commons.collections4.map.passiveexpiringmap.java', -1),\n",
       " ('org.apache.commons.collections4.set.unmodifiablesortedsettest.java', -1),\n",
       " ('org.apache.commons.collections4.bidimap.abstractorderedbidimapdecorator.java',\n",
       "  -1),\n",
       " ('org.apache.commons.collections4.collection.predicatedcollection.java', -1),\n",
       " ('org.apache.commons.collections4.queue.unmodifiablequeuetest.java', -1),\n",
       " ('org.apache.commons.collections4.map.unmodifiableorderedmaptest.java', -1),\n",
       " ('org.apache.commons.collections4.map.abstractmapdecorator.java', -1),\n",
       " ('org.apache.commons.collections4.iterators.boundediterator.java', -1),\n",
       " ('org.apache.commons.collections4.map.unmodifiablemap.java', -1),\n",
       " ('org.apache.commons.collections4.map.unmodifiableentryset.java', -1),\n",
       " ('org.apache.commons.collections4.setutils.java', -1),\n",
       " ('org.apache.commons.collections4.queue.transformedqueue.java', -1),\n",
       " ('org.apache.commons.collections4.map.listorderedmap.java', -1),\n",
       " ('org.apache.commons.collections4.iterators.unmodifiablemapiterator.java',\n",
       "  -1),\n",
       " ('org.apache.commons.collections4.map.lazysortedmap.java', -1),\n",
       " ('org.apache.commons.collections4.bag.unmodifiablesortedbagtest.java', -1),\n",
       " ('org.apache.commons.collections4.bidimap.abstractbidimapdecorator.java', -1),\n",
       " ('org.apache.commons.collections4.listutils.java', -1),\n",
       " ('org.apache.commons.collections4.functors.onepredicate.java', -1),\n",
       " ('org.apache.commons.collections4.iterators.abstractlistiteratordecorator.java',\n",
       "  -1),\n",
       " ('org.apache.commons.collections4.iterators.unmodifiableorderedmapiteratortest.java',\n",
       "  -1),\n",
       " ('org.apache.commons.collections4.predicateutils.java', -1),\n",
       " ('org.apache.commons.collections4.queueutils.java', -1),\n",
       " ('org.apache.commons.collections4.map.transformedmap.java', -1),\n",
       " ('org.apache.commons.collections4.map.abstractsortedmapdecorator.java', -1),\n",
       " ('org.apache.commons.collections4.map.abstractinputcheckedmapdecorator.java',\n",
       "  -1),\n",
       " ('org.apache.commons.collections4.list.unmodifiablelisttest.java', -1),\n",
       " ('org.apache.commons.collections4.list.abstractserializablelistdecorator.java',\n",
       "  -1),\n",
       " ('org.apache.commons.collections4.map.transformedsortedmap.java', -1),\n",
       " ('org.apache.commons.collections4.functors.ifclosure.java', -1),\n",
       " ('org.apache.commons.collections4.functors.nullistruepredicate.java', -1),\n",
       " ('org.apache.commons.collections4.set.predicatednavigableset.java', -1),\n",
       " ('org.apache.commons.collections4.iteratorutils.java', -1),\n",
       " ('org.apache.commons.collections4.iterators.unmodifiableiteratortest.java',\n",
       "  -1),\n",
       " ('org.apache.commons.collections4.functors.orpredicate.java', -1),\n",
       " ('org.apache.commons.collections4.trie.unmodifiabletrietest.java', -1),\n",
       " ('org.apache.commons.collections4.iterators.peekingiterator.java', -1),\n",
       " ('org.apache.commons.collections4.iterators.unmodifiablemapiteratortest.java',\n",
       "  -1),\n",
       " ('org.apache.commons.collections4.functors.whileclosure.java', -1),\n",
       " ('org.apache.commons.collections4.functors.identitypredicate.java', -1),\n",
       " ('org.apache.commons.collections4.functors.iftransformer.java', -1),\n",
       " ('org.apache.commons.collections4.bag.synchronizedbag.java', -1),\n",
       " ('org.apache.commons.collections4.functors.instantiatetransformer.java', -1),\n",
       " ('org.apache.commons.collections4.list.abstractlistdecorator.java', -1),\n",
       " ('org.apache.commons.collections4.bag.synchronizedsortedbag.java', -1),\n",
       " ('org.apache.commons.collections4.map.unmodifiablemaptest.java', -1),\n",
       " ('org.apache.commons.collections4.bagutilstest.java', -1),\n",
       " ('org.apache.commons.collections4.bidimap.unmodifiablesortedbidimap.java',\n",
       "  -1),\n",
       " ('org.apache.commons.collections4.functors.comparatorpredicate.java', -1),\n",
       " ('org.apache.commons.collections4.set.unmodifiablenavigableset.java', -1),\n",
       " ('org.apache.commons.collections4.functors.factorytransformer.java', -1),\n",
       " ('org.apache.commons.collections4.bag.unmodifiablebag.java', -1),\n",
       " ('org.apache.commons.collections4.keyvalue.multikeytest.java', -1),\n",
       " ('org.apache.commons.collections4.keyvalue.multikey.java', -1),\n",
       " ('org.apache.commons.collections4.trie.patriciatrietest.java', -1),\n",
       " ('org.apache.commons.collections4.multimap.multivaluedhashmap.java', -1),\n",
       " ('org.apache.commons.collections4.multimap.multivaluedhashmaptest.java', -1),\n",
       " ('org.apache.commons.collections4.multimap.transformedmultivaluedmaptest.java',\n",
       "  -1),\n",
       " ('org.apache.commons.collections4.multimap.abstractmultivaluedmaptest.java',\n",
       "  -1),\n",
       " ('org.apache.commons.collections4.multimap.abstractmultivaluedmapdecorator.java',\n",
       "  -1),\n",
       " ('org.apache.commons.collections4.multimap.unmodifiablemultivaluedmaptest.java',\n",
       "  -1),\n",
       " ('org.apache.commons.collections4.multimap.abstractsetvaluedmap.java', -1),\n",
       " ('org.apache.commons.collections4.multimap.abstractmultivaluedmap.java', -1),\n",
       " ('org.apache.commons.collections4.multimaputilstest.java', -1),\n",
       " ('org.apache.commons.collections4.multimap.transformedmultivaluedmap.java',\n",
       "  -1),\n",
       " ('org.apache.commons.collections4.multimap.package-info.java', -1),\n",
       " ('org.apache.commons.collections4.multimap.abstractlistvaluedmap.java', -1),\n",
       " ('org.apache.commons.collections4.multimaputils.java', -1),\n",
       " ('org.apache.commons.collections4.transformerutils.java', -1),\n",
       " ('org.apache.commons.collections4.closureutils.java', -1),\n",
       " ('org.apache.commons.collections4.factoryutils.java', -1),\n",
       " ('org.apache.commons.collections4.map.multivaluemaptest.java', -1),\n",
       " ('org.apache.commons.collections4.map.multivaluemap.java', -1),\n",
       " ('org.apache.commons.collections4.factoryutilstest.java', -1),\n",
       " ('org.apache.commons.collections4.transformerutilstest.java', -1),\n",
       " ('org.apache.commons.collections4.functors.instantiatefactory.java', -1),\n",
       " ('org.apache.commons.collections4.functors.whileclosure.java', -1),\n",
       " ('org.apache.commons.collections4.functors.clonetransformer.java', -1),\n",
       " ('org.apache.commons.collections4.functors.forclosure.java', -1),\n",
       " ('org.apache.commons.collections4.functors.invokertransformer.java', -1),\n",
       " ('org.apache.commons.collections4.functors.prototypefactory.java', -1),\n",
       " ('org.apache.commons.collections4.functors.package-info.java', -1),\n",
       " ('org.apache.commons.collections4.functors.instantiatetransformer.java', -1),\n",
       " ('org.apache.commons.collections4.multimap.multivaluedhashmap.java', -1),\n",
       " ('org.apache.commons.collections4.multimap.multivaluedhashmaptest.java', -1),\n",
       " ('org.apache.commons.collections4.multimap.transformedmultivaluedmaptest.java',\n",
       "  -1),\n",
       " ('org.apache.commons.collections4.multimap.abstractmultivaluedmaptest.java',\n",
       "  -1),\n",
       " ('org.apache.commons.collections4.multimap.abstractmultivaluedmapdecorator.java',\n",
       "  -1),\n",
       " ('org.apache.commons.collections4.multimap.unmodifiablemultivaluedmaptest.java',\n",
       "  -1),\n",
       " ('org.apache.commons.collections4.multimap.abstractsetvaluedmap.java', -1),\n",
       " ('org.apache.commons.collections4.multimap.abstractmultivaluedmap.java', -1),\n",
       " ('org.apache.commons.collections4.multimaputilstest.java', -1),\n",
       " ('org.apache.commons.collections4.multimap.transformedmultivaluedmap.java',\n",
       "  -1),\n",
       " ('org.apache.commons.collections4.multimap.package-info.java', -1),\n",
       " ('org.apache.commons.collections4.multimap.abstractlistvaluedmap.java', -1),\n",
       " ('org.apache.commons.collections4.multimaputils.java', -1),\n",
       " ('org.apache.commons.collections4.transformerutils.java', -1),\n",
       " ('org.apache.commons.collections4.closureutils.java', -1),\n",
       " ('org.apache.commons.collections4.factoryutils.java', -1),\n",
       " ('org.apache.commons.collections4.map.multivaluemaptest.java', -1),\n",
       " ('org.apache.commons.collections4.map.multivaluemap.java', -1),\n",
       " ('org.apache.commons.collections4.factoryutilstest.java', -1),\n",
       " ('org.apache.commons.collections4.transformerutilstest.java', -1),\n",
       " ('org.apache.commons.collections4.functors.instantiatefactory.java', -1),\n",
       " ('org.apache.commons.collections4.functors.whileclosure.java', -1),\n",
       " ('org.apache.commons.collections4.functors.clonetransformer.java', -1),\n",
       " ('org.apache.commons.collections4.functors.forclosure.java', -1),\n",
       " ('org.apache.commons.collections4.functors.invokertransformer.java', -1),\n",
       " ('org.apache.commons.collections4.functors.prototypefactory.java', -1),\n",
       " ('org.apache.commons.collections4.functors.package-info.java', -1),\n",
       " ('org.apache.commons.collections4.functors.instantiatetransformer.java', -1),\n",
       " ('org.apache.commons.collections4.trie.abstractpatriciatrie.java', -1),\n",
       " ('org.apache.commons.collections4.trie.patriciatrietest.java', -1),\n",
       " ('org.apache.commons.collections4.functors.catchandrethrowclosure.java', -1),\n",
       " (0.21252000456089157, 3),\n",
       " (0.23315580619162965, 0),\n",
       " (0.1773004463790912, 13),\n",
       " (0.23830756331440975, 5),\n",
       " (0.4728875130121734, 0),\n",
       " (0.1070341174840747, 50),\n",
       " (0.17970430762453385, 19),\n",
       " (0.3443490275692105, 9),\n",
       " (0.12743700984360373, 71),\n",
       " (0.47956041675777716, 0),\n",
       " (0.18693748268584529, 20),\n",
       " (0.251929711446779, 3),\n",
       " (0.5517608539959398, 0),\n",
       " (0.20842817395523394, 6),\n",
       " (0.206884244400342, 7),\n",
       " (0.385709990010732, 2),\n",
       " (0.44930985675583895, 0),\n",
       " (0.09929251911093598, 34),\n",
       " (0.18575185443640857, 5),\n",
       " (0.1264088419246508, 12),\n",
       " (0.20077375927875668, 53),\n",
       " (0.19795099638456148, 58),\n",
       " (0.28659054227538017, 0),\n",
       " (0.21592217211748868, 3),\n",
       " (0.09393864004463268, 37),\n",
       " (0.41382424257126676, 0),\n",
       " (0.21260379552729328, 12),\n",
       " (0.13126424699894787, 50),\n",
       " (0.25489655726778715, 5),\n",
       " (0.20814798037781526, 7),\n",
       " (0.3647031185811033, 0),\n",
       " (0.027138631860237343, 198),\n",
       " (0.053173306487140234, 152),\n",
       " (0.0268159186910792, 200),\n",
       " (0.15608754257479313, 28),\n",
       " (0.0223441135287989, 205),\n",
       " (0.3804495363958351, 0),\n",
       " (0.04033230045221568, 182),\n",
       " (0.3011733678750972, 2),\n",
       " (0.2034892977021574, 13),\n",
       " (0.02120121095564763, 210),\n",
       " (0.05817013395675072, 138),\n",
       " (0.17103260448495747, 26),\n",
       " (0.020387610091548637, 213),\n",
       " (0.10077030092447363, 78),\n",
       " (0.2352625505694681, 22),\n",
       " (0.171883632851686, 26),\n",
       " (0.1265300533417392, 48),\n",
       " (0.15537279311857155, 31),\n",
       " (0.421994654933998, 0),\n",
       " (0.3337275788721056, 2),\n",
       " (0.08209880947831497, 71),\n",
       " (0.24826824395087319, 5),\n",
       " (0.11717236757183598, 47),\n",
       " (0.09796636196472125, 60),\n",
       " (0.07153906284576465, 86),\n",
       " (0.26018840332917653, 4),\n",
       " (0.09548032909452692, 18),\n",
       " (0.13694348246016608, 10),\n",
       " (0.15381000163156486, 9),\n",
       " (0.11631290917754179, 16),\n",
       " (0.12040009250242414, 15),\n",
       " (0.17671634859089705, 10),\n",
       " (0.17368432280737242, 12),\n",
       " (0.0825908911335355, 41),\n",
       " (0.22806430123467558, 2),\n",
       " (0.25346851820100313, 0),\n",
       " (0.2499518853577754, 1),\n",
       " (0.26393106778370673, 0),\n",
       " (0.1168797896381745, 9),\n",
       " (0.14422710852895806, 3),\n",
       " (0.38619285572540357, 0),\n",
       " (0.3051312688452091, 3),\n",
       " (0.4709832380495819, 0),\n",
       " (0.25701651287742305, 7),\n",
       " (0.24796757504109082, 4),\n",
       " (0.07933070867536506, 20),\n",
       " (0.08612168181279181, 12),\n",
       " (0.020979503584467613, 189),\n",
       " (0.17518634848649503, 3),\n",
       " (0.1487251432794185, 8),\n",
       " (0.15565996876247273, 46),\n",
       " (0.1572279307046851, 44),\n",
       " (0.26041534495956176, 9),\n",
       " (0.19393379968504545, 25),\n",
       " (0.2869505777589207, 3),\n",
       " (0.3031406797727953, 2),\n",
       " (0.41454833974552363, 2),\n",
       " (0.10494967023417957, 50),\n",
       " (0.20682211930963787, 28),\n",
       " (0.14143913965026556, 57),\n",
       " (0.24383526919809445, 39),\n",
       " (0.13784120176935813, 23),\n",
       " (0.16020634265909384, 10),\n",
       " (0.08697029406022494, 75),\n",
       " (0.19929675657657964, 2),\n",
       " (0.25232048690585396, 18),\n",
       " (0.25116796926447055, 19),\n",
       " (0.08741627606039129, 83),\n",
       " (0.19516514296908655, 4),\n",
       " (0.28999634881199754, 1),\n",
       " (0.2609933277210069, 6),\n",
       " (0.22418342619247267, 1),\n",
       " (0.25501737202994357, 0),\n",
       " (0.4327177145707224, 4),\n",
       " (0.43959125928616, 3),\n",
       " (0.2426787892630256, 3),\n",
       " (0.3216156490998254, 0),\n",
       " (0.2797962114187343, 3),\n",
       " (0.28698191192278605, 1),\n",
       " (0.21720602966099017, 10),\n",
       " (0.26940345253205744, 3),\n",
       " (0.31579652457732593, 2),\n",
       " (0.08059542928923476, 24),\n",
       " (0.13989736946891557, 5),\n",
       " (0.1721932501467406, 4),\n",
       " (0.08978951640268258, 38),\n",
       " (0.25413946616228617, 0),\n",
       " (0.0813552267380022, 12),\n",
       " (0.12517601451662963, 1),\n",
       " (0.1599623445756258, 22),\n",
       " (0.45466206558686934, 2),\n",
       " (0.3848762985724903, 3),\n",
       " (0.07643143713636294, 41),\n",
       " (0.15306297732757765, 5),\n",
       " (0.0685790449844411, 169),\n",
       " (0.3574530169441037, 3),\n",
       " (0.7637943294463649, 0),\n",
       " (0.3670612497045809, 34),\n",
       " (0.22121053228877524, 9),\n",
       " (0.16701553322496895, 27),\n",
       " (0.5161320843412562, 0),\n",
       " (0.4905494160554522, 3),\n",
       " (0.11342685657950945, 50),\n",
       " (0.2152745675679974, 12),\n",
       " (0.2712541212744707, 15),\n",
       " (0.45862122107814124, 0),\n",
       " (0.21713658626983592, 33),\n",
       " (0.2550967644691394, 20),\n",
       " (0.12077931072870549, 16),\n",
       " (0.15365136284090308, 3),\n",
       " (0.20483374216964215, 35),\n",
       " (0.29809257283774787, 15),\n",
       " (0.3141414467733696, 10),\n",
       " (0.23450874059188537, 13),\n",
       " (0.06629154133066946, 54),\n",
       " (0.2185754005703827, 6),\n",
       " (0.2124867597888129, 7),\n",
       " (0.49445486684075013, 0),\n",
       " (0.2981442497377675, 2),\n",
       " (0.10233402047437595, 15),\n",
       " (0.2252455330886213, 0),\n",
       " (0.2020758451338544, 41),\n",
       " (0.307541870727402, 18),\n",
       " (0.17908623319760042, 5),\n",
       " (0.16738005061360584, 9),\n",
       " (0.17451566468890636, 12),\n",
       " (0.2045211206475211, 7),\n",
       " (0.21900615807117838, 5),\n",
       " (0.23798051129839656, 3),\n",
       " (0.2556720767636644, 2),\n",
       " (0.0457221904350828, 56),\n",
       " (0.05139626502565264, 45),\n",
       " (0.3302126933991024, 0),\n",
       " (0.15157017753423213, 7),\n",
       " (0.12281023396747749, 26),\n",
       " (0.22140892980708488, 17),\n",
       " (0.43342878397999673, 0),\n",
       " (0.17127075235149236, 10),\n",
       " (0.0913646570165498, 14),\n",
       " (0.2220612362294807, 1),\n",
       " (0.34071216394725046, 1),\n",
       " (0.057568474159849344, 61),\n",
       " (0.39195045208366125, 1),\n",
       " (0.19676692772717835, 19),\n",
       " (0.3026620336808286, 0),\n",
       " (0.08231868820934726, 18),\n",
       " (0.09265503467648302, 53),\n",
       " (0.11081363301152138, 28),\n",
       " (0.15081467833712123, 10),\n",
       " (0.16680333362460845, 8),\n",
       " (0.2286789358304707, 28),\n",
       " (0.21244119584702567, 36),\n",
       " (0.17333426516511644, 65),\n",
       " (0.46816964837371006, 0),\n",
       " (0.40343459873172904, 4),\n",
       " (0.07191419920166062, 79),\n",
       " (0.10088760490596202, 39),\n",
       " (0.26178259780425583, 1),\n",
       " (0.23210572688173664, 3),\n",
       " (0.29926409487599154, 1),\n",
       " (0.23075917929028314, 7),\n",
       " (0.3577526918505015, 0),\n",
       " (0.08202137830494725, 8),\n",
       " (0.1390944493931921, 2),\n",
       " (0.09878248086119618, 4),\n",
       " (0.5070105140877772, 0),\n",
       " (0.0065365034506860206, 214),\n",
       " (0.10773403745742217, 7),\n",
       " (0.09170149838485026, 18),\n",
       " (0.06930938045497655, 41),\n",
       " (0.47822338640237916, 0),\n",
       " (0.3751159120580745, 2),\n",
       " (0.19849893062823273, 12),\n",
       " (0.17258981471326557, 34),\n",
       " (0.21845466440063838, 9),\n",
       " (0.06359368450602879, 46),\n",
       " (0.1217998475078334, 3),\n",
       " (0.13261764246118474, 44),\n",
       " (0.25003886841726813, 3),\n",
       " (0.21242373218593386, 2),\n",
       " (0.1277644455330037, 9),\n",
       " (0.31105537522938664, 2),\n",
       " (0.15894688211932062, 30),\n",
       " (0.4820394599862642, 1),\n",
       " (0.5120241587106855, 0),\n",
       " (0.15943656470351386, 4),\n",
       " (0.05831696771522392, 91),\n",
       " (0.1312840828410795, 13),\n",
       " (0.2346757664395093, 11),\n",
       " (0.1936000695116532, 30),\n",
       " (0.21157776293963926, 4),\n",
       " (0.13899240941412133, 24),\n",
       " (0.15382986255691045, 19),\n",
       " (0.06430301902636296, 104),\n",
       " (0.07973727988467912, 81),\n",
       " (0.25145051387342493, 3),\n",
       " (0.2297636128590453, 6),\n",
       " (0.06348517520893528, 108),\n",
       " (0.22006794811644328, 8),\n",
       " (0.21538176430107223, 10),\n",
       " ('org.apache.commons.configuration.reloading.testvfsfilemonitorreloadingstrategy.java',\n",
       "  -1),\n",
       " (0.11267743784383241, 50),\n",
       " (0.15894677380638833, 22),\n",
       " (0.1600221186151247, 21),\n",
       " (0.09942482155927367, 60),\n",
       " (0.1304658379697432, 36),\n",
       " (0.16489328870994452, 20),\n",
       " ('org.apache.commons.configuration.reloading.vfsfilemonitorreloadingstrategy.java',\n",
       "  -1),\n",
       " (0.22901965791504902, 7),\n",
       " (0.20996943770774745, 12),\n",
       " (0.10467439979592816, 55),\n",
       " (0.12775376012579706, 37),\n",
       " (0.26217269157753437, 1),\n",
       " (0.16360715847103321, 4),\n",
       " (0.6391420067607504, 0),\n",
       " (0.2230828900770678, 8),\n",
       " (0.7197489695236026, 0),\n",
       " (0.23862127038582334, 0),\n",
       " (0.11836403777376456, 9),\n",
       " (0.07307857229353168, 60),\n",
       " (0.24447073665986174, 0),\n",
       " (0.14936668106512943, 5),\n",
       " (0.16523343772793583, 4),\n",
       " (0.034281218910571634, 143),\n",
       " (0.3145443874203657, 0),\n",
       " (0.11466468555499158, 21),\n",
       " (0.2767404955526839, 1),\n",
       " (0.07339961576051297, 95),\n",
       " (0.13553655569004508, 21),\n",
       " (0.13759590025918625, 18),\n",
       " (0.2113442059736018, 10),\n",
       " (0.24091848918060838, 2),\n",
       " (0.18513128034877557, 5),\n",
       " (0.18976061293256663, 43),\n",
       " (0.1234610561048602, 54),\n",
       " (0.28538018251985536, 37),\n",
       " (0.11225174832194415, 60),\n",
       " (0.1743084892255105, 47),\n",
       " (0.25377911387223206, 40),\n",
       " (0.3034438696098496, 33),\n",
       " (0.6524931758827396, 0),\n",
       " (0.2026486110150662, 42),\n",
       " (0.47443959988834494, 15),\n",
       " (0.18969700871732342, 0),\n",
       " (0.1464301978686754, 4),\n",
       " (0.18413561335150155, 3),\n",
       " (0.5606739868451243, 1),\n",
       " (0.25887338394766735, 2),\n",
       " (0.5636224845043447, 0),\n",
       " (0.17385395843632975, 3),\n",
       " (0.23328463827436438, 0),\n",
       " (0.09583093122309845, 3),\n",
       " (0.038552919049834426, 32),\n",
       " (0.0172413944022765, 87),\n",
       " (0.016849238790126418, 91),\n",
       " (0.448048269252843, 1),\n",
       " (0.2787019715585355, 33),\n",
       " (0.4574528222759453, 2),\n",
       " (0.5178356981173435, 0),\n",
       " (0.8251433435165146, 0),\n",
       " (0.7935598916704788, 2),\n",
       " (0.2381121561332296, 28),\n",
       " (0.1874978678550786, 49),\n",
       " (0.07307580910681738, 17),\n",
       " (0.16074543270921268, 0),\n",
       " (0.19474734848009168, 2),\n",
       " (0.31413815412181073, 0),\n",
       " (0.1688737040303789, 4),\n",
       " (0.23227240506517124, 1),\n",
       " (0.18282214409504755, 4),\n",
       " (0.11200717586224972, 39),\n",
       " (0.5318223661532047, 1),\n",
       " (0.6259991265499864, 0),\n",
       " (0.2077188585844047, 6),\n",
       " (0.04008697162319854, 152),\n",
       " (0.03706101720941045, 157),\n",
       " (0.013438597457568603, 211),\n",
       " (0.06384857260547261, 102),\n",
       " (0.05327492045140264, 122),\n",
       " (0.06784170563745298, 41),\n",
       " (0.26522183176503855, 0),\n",
       " (0.5040401345047606, 0),\n",
       " (0.47316468437388204, 1),\n",
       " (0.57596248789045, 1),\n",
       " (0.6555440980152645, 0),\n",
       " (0.24604883412946082, 0),\n",
       " (0.04179459118861677, 42),\n",
       " (0.02176263017979113, 114),\n",
       " (0.025928359445382736, 98),\n",
       " ('org.apache.commons.configuration2.plist.xmlpropertylistconfiguration.java',\n",
       "  -1),\n",
       " ('org.apache.commons.configuration2.plist.testxmlpropertylistconfiguration.java',\n",
       "  -1),\n",
       " ('org.apache.commons.configuration2.propertiesconfiguration.java', -1),\n",
       " ('org.apache.commons.configuration2.testpropertiesconfiguration.java', -1),\n",
       " ('org.apache.commons.configuration2.configurationbuilder.java', -1),\n",
       " ('org.apache.commons.configuration2.configurationutils.java', -1),\n",
       " ('org.apache.commons.configuration2.testconfigurationutils.java', -1),\n",
       " ('org.apache.commons.configuration2.tree.testoverridecombiner.java', -1),\n",
       " ('org.apache.commons.configuration2.propertiesconfiguration.java', -1),\n",
       " ('org.apache.commons.configuration2.testpropertiesconfiguration.java', -1),\n",
       " ('org.apache.commons.configuration2.xmlconfiguration.java', -1),\n",
       " ('org.apache.commons.configuration2.iniconfiguration.java', -1),\n",
       " ('org.apache.commons.configuration2.propertiesconfiguration.java', -1),\n",
       " ('org.apache.commons.configuration2.testimmutableconfiguration.java', -1),\n",
       " ('org.apache.commons.configuration2.immutableconfigurationinvocationhandler.java',\n",
       "  -1),\n",
       " ('org.apache.commons.configuration2.iniconfiguration.java', -1),\n",
       " ('org.apache.commons.configuration2.testiniconfiguration.java', -1),\n",
       " ('org.apache.commons.configuration2.compositeconfiguration.java', -1),\n",
       " ('org.apache.commons.configuration2.testcompositeconfiguration.java', -1),\n",
       " ('org.apache.commons.configuration2.io.filelocatorutils.java', -1),\n",
       " ('org.apache.commons.configuration2.builder.testfilebasedconfigurationbuilder.java',\n",
       "  -1),\n",
       " ('org.apache.commons.configuration2.builder.testpropertiesbuilderparametersimpl.java',\n",
       "  -1),\n",
       " ('org.apache.commons.configuration2.propertiesconfiguration.java', -1),\n",
       " ('org.apache.commons.configuration2.testpropertiesconfiguration.java', -1),\n",
       " (0.04093615159768718, 33),\n",
       " (0.1443172904905684, 0),\n",
       " (0.33354928558032665, 2),\n",
       " (0.7039782565897457, 0),\n",
       " (0.4310825413375522, 1),\n",
       " (0.49236508239973115, 0),\n",
       " (0.23281292378534482, 0),\n",
       " (0.22295658012580832, 1),\n",
       " (0.4033173760377858, 0),\n",
       " ('org.apache.commons.io.ioutils.java', -1),\n",
       " ('org.apache.commons.io.ioutilscopytestcase.java', -1),\n",
       " (0.21601368175354138, 19),\n",
       " (0.18668258904888685, 23),\n",
       " (0.21541024940365955, 20),\n",
       " (0.2439593486026022, 17),\n",
       " (0.17160180291236327, 4),\n",
       " (0.25292918704167844, 2),\n",
       " (0.49018194512290936, 0),\n",
       " (0.21038758066261878, 1),\n",
       " (0.08098940671315737, 6),\n",
       " (0.40381111554850274, 0),\n",
       " (0.38645329038263043, 1),\n",
       " (0.3641492614492955, 2),\n",
       " (0.266382582879642, 5),\n",
       " (0.3020622849445405, 0),\n",
       " (0.15236819707414836, 3),\n",
       " (0.47629495033685076, 6),\n",
       " ('org.apache.commons.io.filefilter.regexfilter.java', -1),\n",
       " (0.5133631908524918, 3),\n",
       " (0.3007137500458874, 2),\n",
       " ('org.apache.commons.io.filefilter.regexfilter.java', -1),\n",
       " (0.25336443274882275, 5),\n",
       " (0.588517377768105, 0),\n",
       " (0.46849658604203936, 2),\n",
       " ('org.apache.commons.io.filefilter.regexfilter.java', -1),\n",
       " (0.3998871465984114, 5),\n",
       " (0.30207237691144884, 1),\n",
       " (0.33642766231924515, 0),\n",
       " (0.4174849424178254, 0),\n",
       " (0.25212371699021363, 2),\n",
       " (0.1906948495782743, 2),\n",
       " (0.2136553950375973, 0),\n",
       " (0.6726435246660477, 0),\n",
       " (0.21411323100462645, 1),\n",
       " ('org.apache.commons.io.monitor.filesystemobservertestcase.java', -1),\n",
       " ('org.apache.commons.io.monitor.collectionfilesystemlistener.java', -1),\n",
       " ('org.apache.commons.io.monitor.filesystemlisteneradaptor.java', -1),\n",
       " ('org.apache.commons.io.monitor.filesystementry.java', -1),\n",
       " ('org.apache.commons.io.monitor.filesystemmonitor.java', -1),\n",
       " ('org.apache.commons.io.monitor.filesystemobserver.java', -1),\n",
       " ('org.apache.commons.io.monitor.abstractmonitortestcase.java', -1),\n",
       " ('org.apache.commons.io.monitor.filesystemlistener.java', -1),\n",
       " ('org.apache.commons.io.monitor.filesystemmonitortestcase.java', -1),\n",
       " ('org.apache.commons.io.monitor.filesystemobservertestcase.java', -1),\n",
       " ('org.apache.commons.io.monitor.collectionfilesystemlistener.java', -1),\n",
       " ('org.apache.commons.io.monitor.filesystemlisteneradaptor.java', -1),\n",
       " ('org.apache.commons.io.monitor.filesystementry.java', -1),\n",
       " ('org.apache.commons.io.monitor.filesystemmonitor.java', -1),\n",
       " ('org.apache.commons.io.monitor.filesystemobserver.java', -1),\n",
       " ('org.apache.commons.io.monitor.abstractmonitortestcase.java', -1),\n",
       " ('org.apache.commons.io.monitor.filesystemlistener.java', -1),\n",
       " ('org.apache.commons.io.monitor.filesystemmonitortestcase.java', -1),\n",
       " ('org.apache.commons.io.iocase.java', -1),\n",
       " ('org.apache.commons.io.iocasetestcase.java', -1),\n",
       " (0.005327064493040771, 49),\n",
       " (0.03448389855220333, 5),\n",
       " (0.014274255848192512, 25),\n",
       " (0.04092527694500749, 2),\n",
       " (0.5939466820648187, 1),\n",
       " (0.5269816747854961, 0),\n",
       " (0.3554849690138455, 1),\n",
       " ('org.apache.commons.io.filecleaningtrackertestcase.java', -1),\n",
       " ('org.apache.commons.io.filecleaningtracker.java', -1),\n",
       " (0.49555970889537226, 0),\n",
       " (0.5688984515216996, 0),\n",
       " (0.4447092875682664, 0),\n",
       " ('org.apache.commons.io.ioutils.java', -1),\n",
       " (0.3355630251795436, 1),\n",
       " (0.2418386684486109, 2),\n",
       " (0.09814332450024445, 4),\n",
       " (0.456472164752332, 0),\n",
       " ('org.apache.commons.io.filecleaningtracker.java', -1),\n",
       " (0.3263303534140113, 0),\n",
       " (0.32715092898719683, 5),\n",
       " (0.6055508376319545, 0),\n",
       " (0.4805783160323652, 0),\n",
       " (0.21498293046668443, 0),\n",
       " (0.4373752818506372, 0),\n",
       " (0.3617024194141096, 2),\n",
       " ('org.apache.commons.io.input.boundedinputstream.java', -1),\n",
       " (0.16088026780064277, 0),\n",
       " (0.11803629184695373, 2),\n",
       " (0.44790266657762107, 1),\n",
       " (0.20739384056901974, 2),\n",
       " (0.32870352085292515, 0),\n",
       " (0.27204730520709813, 1),\n",
       " (0.3688528457894467, 0),\n",
       " (0.1903395501218182, 2),\n",
       " (0.2156043180077521, 1),\n",
       " (0.4248003459526042, 0),\n",
       " (0.45830617200461, 0),\n",
       " (0.4308530626459051, 1),\n",
       " (0.5045932323641964, 0),\n",
       " (0.4187023899571419, 3),\n",
       " (0.22073120168435287, 0),\n",
       " ('org.apache.commons.io.input.bominputstream.java', -1),\n",
       " ('org.apache.commons.io.input.bominputstreamtest.java', -1),\n",
       " ('org.apache.commons.io.input.xmlstreamreadertest.java', -1),\n",
       " ('org.apache.commons.io.input.xmlstreamreader.java', -1),\n",
       " (0.2937817141324923, 0),\n",
       " (0.5329483244469042, 0),\n",
       " (0.3882588721424126, 1),\n",
       " (0.3203400519983784, 1),\n",
       " (0.4436811236828997, 0),\n",
       " (0.40958137372898, 1),\n",
       " (0.36569564594386716, 0),\n",
       " ('org.apache.commons.io.input.tailertest.java', -1),\n",
       " ('org.apache.commons.io.input.tailer.java', -1),\n",
       " ('org.apache.commons.io.input.readerinputstream.java', -1),\n",
       " ('org.apache.commons.io.input.readerinputstreamtest.java', -1),\n",
       " ('org.apache.commons.io.output.writeroutputstream.java', -1),\n",
       " ('org.apache.commons.io.input.xmlstreamreadertest.java', -1),\n",
       " (0.647708292790451, 0),\n",
       " (0.19755870728854116, 9),\n",
       " ('org.apache.commons.io.input.bominputstreamtest.java', -1),\n",
       " ('org.apache.commons.io.input.bominputstream.java', -1),\n",
       " ('org.apache.commons.io.input.tailer.java', -1),\n",
       " (0.14071997652516094, 2),\n",
       " ('org.apache.commons.io.input.readerinputstream.java', -1),\n",
       " ('org.apache.commons.io.input.readerinputstreamtest.java', -1),\n",
       " ('org.apache.commons.io.input.readerinputstream.java', -1),\n",
       " (0.3063978275998437, 1),\n",
       " (0.4176627986003978, 0),\n",
       " (0.1792580873193252, 9),\n",
       " ('org.apache.commons.io.input.compatibility.xmlstreamreaderutilitiescompatibilitytest.java',\n",
       "  -1),\n",
       " ('org.apache.commons.io.input.bominputstream.java', -1),\n",
       " ('org.apache.commons.io.input.xmlstreamreaderutilitiestest.java', -1),\n",
       " ('org.apache.commons.io.input.xmlstreamreadertest.java', -1),\n",
       " ('org.apache.commons.io.input.xmlstreamreader.java', -1),\n",
       " ('org.apache.commons.io.input.compatibility.xmlstreamreader.java', -1),\n",
       " (0.0764264615652182, 4),\n",
       " ('org.apache.commons.io.ioutilstestcase.java', -1),\n",
       " ('org.apache.commons.io.ioutils.java', -1),\n",
       " ('org.apache.commons.io.filefilter.wildcardfilefilter.java', -1),\n",
       " ('org.apache.commons.io.ioutils.java', -1),\n",
       " (0.122664710831294, 1),\n",
       " (0.6725183941441156, 1),\n",
       " ('org.apache.commons.io.comparator.sizefilecomparator.java', -1),\n",
       " ('org.apache.commons.io.comparator.pathfilecomparator.java', -1),\n",
       " ('org.apache.commons.io.comparator.lastmodifiedfilecomparator.java', -1),\n",
       " ('org.apache.commons.io.comparator.namefilecomparator.java', -1),\n",
       " ('org.apache.commons.io.comparator.compositefilecomparator.java', -1),\n",
       " ('org.apache.commons.io.comparator.defaultfilecomparator.java', -1),\n",
       " ('org.apache.commons.io.comparator.extensionfilecomparator.java', -1),\n",
       " ('org.apache.commons.io.comparator.directoryfilecomparator.java', -1),\n",
       " ('org.apache.commons.io.comparator.defaultfilecomparatortest.java', -1),\n",
       " ('org.apache.commons.io.comparator.extensionfilecomparatortest.java', -1),\n",
       " ('org.apache.commons.io.comparator.comparatorabstracttestcase.java', -1),\n",
       " ('org.apache.commons.io.comparator.compositefilecomparatortest.java', -1),\n",
       " ('org.apache.commons.io.comparator.namefilecomparatortest.java', -1),\n",
       " ('org.apache.commons.io.comparator.sizefilecomparatortest.java', -1),\n",
       " ('org.apache.commons.io.comparator.directoryfilecomparatortest.java', -1),\n",
       " ('org.apache.commons.io.comparator.pathfilecomparatortest.java', -1),\n",
       " ('org.apache.commons.io.comparator.lastmodifiedfilecomparatortest.java', -1),\n",
       " (0.30410431465790555, 2),\n",
       " (0.46173209927328235, 0),\n",
       " ('org.apache.commons.io.input.charsequenceinputstreamtest.java', -1),\n",
       " ('org.apache.commons.io.input.charsequenceinputstream.java', -1),\n",
       " ('org.apache.commons.io.input.tailertest.java', -1),\n",
       " ('org.apache.commons.io.input.tailer.java', -1),\n",
       " ('org.apache.commons.io.input.boundedinputstream.java', -1),\n",
       " (0.2964791458800776, 2),\n",
       " (0.1522050613576038, 2),\n",
       " (0.182083482760586, 0),\n",
       " (0.39163267882228314, 0),\n",
       " ('org.apache.commons.io.fileutilsdirectorycontainstestcase.java', -1),\n",
       " (0.2851270816565202, 3),\n",
       " ('org.apache.commons.io.ioexceptionwithcause.java', -1),\n",
       " ('org.apache.commons.io.ioexceptionwithcausetestcase.java', -1),\n",
       " (0.03625278817127684, 18),\n",
       " ('org.apache.commons.io.taggedioexception.java', -1),\n",
       " ('org.apache.commons.io.input.bominputstream.java', -1),\n",
       " ('org.apache.commons.io.input.bominputstreamtest.java', -1),\n",
       " ('org.apache.commons.io.fileutilsdirectorycontainstestcase.java', -1),\n",
       " (0.1263929427863927, 4),\n",
       " (0.3550999878165109, 0),\n",
       " (0.19862023508865737, 2),\n",
       " ('org.apache.commons.io.ioutils.java', -1),\n",
       " ('org.apache.commons.io.directorywalker.java', -1),\n",
       " (0.018091138962342004, 67),\n",
       " (0.11678094770118203, 0),\n",
       " (0.6490579093540119, 0),\n",
       " ('org.apache.commons.lang.stringutilstest.java', -1),\n",
       " ...)"
      ]
     },
     "metadata": {},
     "execution_count": 29
    }
   ],
   "source": [
    "def findBugRanks(bug_vectors, source_codes):\n",
    "    \n",
    "    similarity_scores = []\n",
    "    rank_indexs = []\n",
    "    \n",
    "    for project, vect, fixes in zip(bug_vectors['project'],bug_vectors['sim_vect'],bug_vectors['fix']): \n",
    "        \n",
    "        code = sc_grouped_df.get_group(project)\n",
    "        code = code['filename'].to_numpy()  ## find all code files pertaining to the bug reports project \n",
    "        \n",
    "        z = [code for _,code in sorted(zip(vect,code),reverse=True)] ## sort the list of projects based on the similarity scores vector\n",
    "        sorted_array = np.sort(vect)[::-1]\n",
    "            \n",
    "        for fix in fixes:\n",
    "            try:\n",
    "                index = z.index(fix)\n",
    "                score = sorted_array[index]\n",
    "                similarity_scores.append(score)\n",
    "                rank_indexs.append(index)\n",
    "                \n",
    "                \n",
    "\n",
    "            except:\n",
    "                similarity_scores.append(fix)\n",
    "                rank_indexs.append(-1)\n",
    "                \n",
    "    tup = zip(similarity_scores,rank_indexs) # zip the similarity scores along with the rank \n",
    "    \n",
    "    return tup\n",
    "\n",
    "\n",
    "tup = findBugRanks(bugs, sc_grouped_df)\n",
    "# tuple(tup)"
   ]
  },
  {
   "cell_type": "code",
   "execution_count": 30,
   "metadata": {},
   "outputs": [
    {
     "output_type": "stream",
     "name": "stdout",
     "text": [
      "['org.apache.commons.collections.map.flat3map.java'\n 'org.apache.commons.collections.map.testflat3map.java']\norg.apache.commons.collections.map.flat3map.java\n"
     ]
    },
    {
     "output_type": "display_data",
     "data": {
      "text/plain": "                                             filename  \\\n233  org.apache.commons.collections.map.flat3map.java   \n\n                                      unprocessed_code      project  \n233  Licensed to the  Apache  Software  Foundation ...  COLLECTIONS  ",
      "text/html": "<div>\n<style scoped>\n    .dataframe tbody tr th:only-of-type {\n        vertical-align: middle;\n    }\n\n    .dataframe tbody tr th {\n        vertical-align: top;\n    }\n\n    .dataframe thead th {\n        text-align: right;\n    }\n</style>\n<table border=\"1\" class=\"dataframe\">\n  <thead>\n    <tr style=\"text-align: right;\">\n      <th></th>\n      <th>filename</th>\n      <th>unprocessed_code</th>\n      <th>project</th>\n    </tr>\n  </thead>\n  <tbody>\n    <tr>\n      <th>233</th>\n      <td>org.apache.commons.collections.map.flat3map.java</td>\n      <td>Licensed to the  Apache  Software  Foundation ...</td>\n      <td>COLLECTIONS</td>\n    </tr>\n  </tbody>\n</table>\n</div>"
     },
     "metadata": {}
    },
    {
     "output_type": "stream",
     "name": "stdout",
     "text": [
      "233\norg.apache.commons.collections.map.testflat3map.java\n"
     ]
    },
    {
     "output_type": "display_data",
     "data": {
      "text/plain": "                                              filename  \\\n436  org.apache.commons.collections.map.testflat3ma...   \n\n                                      unprocessed_code      project  \n436  Licensed to the  Apache  Software  Foundation ...  COLLECTIONS  ",
      "text/html": "<div>\n<style scoped>\n    .dataframe tbody tr th:only-of-type {\n        vertical-align: middle;\n    }\n\n    .dataframe tbody tr th {\n        vertical-align: top;\n    }\n\n    .dataframe thead th {\n        text-align: right;\n    }\n</style>\n<table border=\"1\" class=\"dataframe\">\n  <thead>\n    <tr style=\"text-align: right;\">\n      <th></th>\n      <th>filename</th>\n      <th>unprocessed_code</th>\n      <th>project</th>\n    </tr>\n  </thead>\n  <tbody>\n    <tr>\n      <th>436</th>\n      <td>org.apache.commons.collections.map.testflat3ma...</td>\n      <td>Licensed to the  Apache  Software  Foundation ...</td>\n      <td>COLLECTIONS</td>\n    </tr>\n  </tbody>\n</table>\n</div>"
     },
     "metadata": {}
    },
    {
     "output_type": "stream",
     "name": "stdout",
     "text": [
      "436\n[233, 436]\n['org.apache.commons.collections.testextendedproperties.java'\n 'org.apache.commons.collections.extendedproperties.java']\norg.apache.commons.collections.testextendedproperties.java\n"
     ]
    },
    {
     "output_type": "display_data",
     "data": {
      "text/plain": "                                              filename  \\\n292  org.apache.commons.collections.testextendedpro...   \n\n                                      unprocessed_code      project  \n292  Licensed to the  Apache  Software  Foundation ...  COLLECTIONS  ",
      "text/html": "<div>\n<style scoped>\n    .dataframe tbody tr th:only-of-type {\n        vertical-align: middle;\n    }\n\n    .dataframe tbody tr th {\n        vertical-align: top;\n    }\n\n    .dataframe thead th {\n        text-align: right;\n    }\n</style>\n<table border=\"1\" class=\"dataframe\">\n  <thead>\n    <tr style=\"text-align: right;\">\n      <th></th>\n      <th>filename</th>\n      <th>unprocessed_code</th>\n      <th>project</th>\n    </tr>\n  </thead>\n  <tbody>\n    <tr>\n      <th>292</th>\n      <td>org.apache.commons.collections.testextendedpro...</td>\n      <td>Licensed to the  Apache  Software  Foundation ...</td>\n      <td>COLLECTIONS</td>\n    </tr>\n  </tbody>\n</table>\n</div>"
     },
     "metadata": {}
    },
    {
     "output_type": "stream",
     "name": "stdout",
     "text": [
      "292\norg.apache.commons.collections.extendedproperties.java\n"
     ]
    },
    {
     "output_type": "display_data",
     "data": {
      "text/plain": "                                             filename  \\\n22  org.apache.commons.collections.extendedpropert...   \n\n                                     unprocessed_code      project  \n22  Licensed to the  Apache  Software  Foundation ...  COLLECTIONS  ",
      "text/html": "<div>\n<style scoped>\n    .dataframe tbody tr th:only-of-type {\n        vertical-align: middle;\n    }\n\n    .dataframe tbody tr th {\n        vertical-align: top;\n    }\n\n    .dataframe thead th {\n        text-align: right;\n    }\n</style>\n<table border=\"1\" class=\"dataframe\">\n  <thead>\n    <tr style=\"text-align: right;\">\n      <th></th>\n      <th>filename</th>\n      <th>unprocessed_code</th>\n      <th>project</th>\n    </tr>\n  </thead>\n  <tbody>\n    <tr>\n      <th>22</th>\n      <td>org.apache.commons.collections.extendedpropert...</td>\n      <td>Licensed to the  Apache  Software  Foundation ...</td>\n      <td>COLLECTIONS</td>\n    </tr>\n  </tbody>\n</table>\n</div>"
     },
     "metadata": {}
    },
    {
     "output_type": "stream",
     "name": "stdout",
     "text": [
      "22\n[292, 22]\n['org.apache.commons.collections.testlistutils.java'\n 'org.apache.commons.collections.testcollectionutils.java'\n 'org.apache.commons.collections.collectionutils.java']\norg.apache.commons.collections.testlistutils.java\n"
     ]
    },
    {
     "output_type": "display_data",
     "data": {
      "text/plain": "                                              filename  \\\n303  org.apache.commons.collections.testlistutils.java   \n\n                                      unprocessed_code      project  \n303  Licensed to the  Apache  Software  Foundation ...  COLLECTIONS  ",
      "text/html": "<div>\n<style scoped>\n    .dataframe tbody tr th:only-of-type {\n        vertical-align: middle;\n    }\n\n    .dataframe tbody tr th {\n        vertical-align: top;\n    }\n\n    .dataframe thead th {\n        text-align: right;\n    }\n</style>\n<table border=\"1\" class=\"dataframe\">\n  <thead>\n    <tr style=\"text-align: right;\">\n      <th></th>\n      <th>filename</th>\n      <th>unprocessed_code</th>\n      <th>project</th>\n    </tr>\n  </thead>\n  <tbody>\n    <tr>\n      <th>303</th>\n      <td>org.apache.commons.collections.testlistutils.java</td>\n      <td>Licensed to the  Apache  Software  Foundation ...</td>\n      <td>COLLECTIONS</td>\n    </tr>\n  </tbody>\n</table>\n</div>"
     },
     "metadata": {}
    },
    {
     "output_type": "stream",
     "name": "stdout",
     "text": [
      "303\norg.apache.commons.collections.testcollectionutils.java\n"
     ]
    },
    {
     "output_type": "display_data",
     "data": {
      "text/plain": "                                              filename  \\\n288  org.apache.commons.collections.testcollectionu...   \n\n                                      unprocessed_code      project  \n288  Licensed to the  Apache  Software  Foundation ...  COLLECTIONS  ",
      "text/html": "<div>\n<style scoped>\n    .dataframe tbody tr th:only-of-type {\n        vertical-align: middle;\n    }\n\n    .dataframe tbody tr th {\n        vertical-align: top;\n    }\n\n    .dataframe thead th {\n        text-align: right;\n    }\n</style>\n<table border=\"1\" class=\"dataframe\">\n  <thead>\n    <tr style=\"text-align: right;\">\n      <th></th>\n      <th>filename</th>\n      <th>unprocessed_code</th>\n      <th>project</th>\n    </tr>\n  </thead>\n  <tbody>\n    <tr>\n      <th>288</th>\n      <td>org.apache.commons.collections.testcollectionu...</td>\n      <td>Licensed to the  Apache  Software  Foundation ...</td>\n      <td>COLLECTIONS</td>\n    </tr>\n  </tbody>\n</table>\n</div>"
     },
     "metadata": {}
    },
    {
     "output_type": "stream",
     "name": "stdout",
     "text": [
      "288\norg.apache.commons.collections.collectionutils.java\n"
     ]
    },
    {
     "output_type": "display_data",
     "data": {
      "text/plain": "                                             filename  \\\n15  org.apache.commons.collections.collectionutils...   \n\n                                     unprocessed_code      project  \n15  Licensed to the  Apache  Software  Foundation ...  COLLECTIONS  ",
      "text/html": "<div>\n<style scoped>\n    .dataframe tbody tr th:only-of-type {\n        vertical-align: middle;\n    }\n\n    .dataframe tbody tr th {\n        vertical-align: top;\n    }\n\n    .dataframe thead th {\n        text-align: right;\n    }\n</style>\n<table border=\"1\" class=\"dataframe\">\n  <thead>\n    <tr style=\"text-align: right;\">\n      <th></th>\n      <th>filename</th>\n      <th>unprocessed_code</th>\n      <th>project</th>\n    </tr>\n  </thead>\n  <tbody>\n    <tr>\n      <th>15</th>\n      <td>org.apache.commons.collections.collectionutils...</td>\n      <td>Licensed to the  Apache  Software  Foundation ...</td>\n      <td>COLLECTIONS</td>\n    </tr>\n  </tbody>\n</table>\n</div>"
     },
     "metadata": {}
    },
    {
     "output_type": "stream",
     "name": "stdout",
     "text": [
      "15\n[303, 288, 15]\n['org.apache.commons.collections.map.flat3map.java'\n 'org.apache.commons.collections.map.testflat3map.java']\norg.apache.commons.collections.map.flat3map.java\n"
     ]
    },
    {
     "output_type": "display_data",
     "data": {
      "text/plain": "                                             filename  \\\n233  org.apache.commons.collections.map.flat3map.java   \n\n                                      unprocessed_code      project  \n233  Licensed to the  Apache  Software  Foundation ...  COLLECTIONS  ",
      "text/html": "<div>\n<style scoped>\n    .dataframe tbody tr th:only-of-type {\n        vertical-align: middle;\n    }\n\n    .dataframe tbody tr th {\n        vertical-align: top;\n    }\n\n    .dataframe thead th {\n        text-align: right;\n    }\n</style>\n<table border=\"1\" class=\"dataframe\">\n  <thead>\n    <tr style=\"text-align: right;\">\n      <th></th>\n      <th>filename</th>\n      <th>unprocessed_code</th>\n      <th>project</th>\n    </tr>\n  </thead>\n  <tbody>\n    <tr>\n      <th>233</th>\n      <td>org.apache.commons.collections.map.flat3map.java</td>\n      <td>Licensed to the  Apache  Software  Foundation ...</td>\n      <td>COLLECTIONS</td>\n    </tr>\n  </tbody>\n</table>\n</div>"
     },
     "metadata": {}
    },
    {
     "output_type": "stream",
     "name": "stdout",
     "text": [
      "233\norg.apache.commons.collections.map.testflat3map.java\n"
     ]
    },
    {
     "output_type": "display_data",
     "data": {
      "text/plain": "                                              filename  \\\n436  org.apache.commons.collections.map.testflat3ma...   \n\n                                      unprocessed_code      project  \n436  Licensed to the  Apache  Software  Foundation ...  COLLECTIONS  ",
      "text/html": "<div>\n<style scoped>\n    .dataframe tbody tr th:only-of-type {\n        vertical-align: middle;\n    }\n\n    .dataframe tbody tr th {\n        vertical-align: top;\n    }\n\n    .dataframe thead th {\n        text-align: right;\n    }\n</style>\n<table border=\"1\" class=\"dataframe\">\n  <thead>\n    <tr style=\"text-align: right;\">\n      <th></th>\n      <th>filename</th>\n      <th>unprocessed_code</th>\n      <th>project</th>\n    </tr>\n  </thead>\n  <tbody>\n    <tr>\n      <th>436</th>\n      <td>org.apache.commons.collections.map.testflat3ma...</td>\n      <td>Licensed to the  Apache  Software  Foundation ...</td>\n      <td>COLLECTIONS</td>\n    </tr>\n  </tbody>\n</table>\n</div>"
     },
     "metadata": {}
    },
    {
     "output_type": "stream",
     "name": "stdout",
     "text": [
      "436\n[233, 436]\n['org.apache.commons.collections.fasttreemap.java']\norg.apache.commons.collections.fasttreemap.java\n"
     ]
    },
    {
     "output_type": "display_data",
     "data": {
      "text/plain": "                                           filename  \\\n27  org.apache.commons.collections.fasttreemap.java   \n\n                                     unprocessed_code      project  \n27  Licensed to the  Apache  Software  Foundation ...  COLLECTIONS  ",
      "text/html": "<div>\n<style scoped>\n    .dataframe tbody tr th:only-of-type {\n        vertical-align: middle;\n    }\n\n    .dataframe tbody tr th {\n        vertical-align: top;\n    }\n\n    .dataframe thead th {\n        text-align: right;\n    }\n</style>\n<table border=\"1\" class=\"dataframe\">\n  <thead>\n    <tr style=\"text-align: right;\">\n      <th></th>\n      <th>filename</th>\n      <th>unprocessed_code</th>\n      <th>project</th>\n    </tr>\n  </thead>\n  <tbody>\n    <tr>\n      <th>27</th>\n      <td>org.apache.commons.collections.fasttreemap.java</td>\n      <td>Licensed to the  Apache  Software  Foundation ...</td>\n      <td>COLLECTIONS</td>\n    </tr>\n  </tbody>\n</table>\n</div>"
     },
     "metadata": {}
    },
    {
     "output_type": "stream",
     "name": "stdout",
     "text": [
      "27\n[27]\n['org.apache.commons.collections.testlistutils.java'\n 'org.apache.commons.collections.testcollectionutils.java'\n 'org.apache.commons.collections.collectionutils.java']\norg.apache.commons.collections.testlistutils.java\n"
     ]
    },
    {
     "output_type": "display_data",
     "data": {
      "text/plain": "                                              filename  \\\n303  org.apache.commons.collections.testlistutils.java   \n\n                                      unprocessed_code      project  \n303  Licensed to the  Apache  Software  Foundation ...  COLLECTIONS  ",
      "text/html": "<div>\n<style scoped>\n    .dataframe tbody tr th:only-of-type {\n        vertical-align: middle;\n    }\n\n    .dataframe tbody tr th {\n        vertical-align: top;\n    }\n\n    .dataframe thead th {\n        text-align: right;\n    }\n</style>\n<table border=\"1\" class=\"dataframe\">\n  <thead>\n    <tr style=\"text-align: right;\">\n      <th></th>\n      <th>filename</th>\n      <th>unprocessed_code</th>\n      <th>project</th>\n    </tr>\n  </thead>\n  <tbody>\n    <tr>\n      <th>303</th>\n      <td>org.apache.commons.collections.testlistutils.java</td>\n      <td>Licensed to the  Apache  Software  Foundation ...</td>\n      <td>COLLECTIONS</td>\n    </tr>\n  </tbody>\n</table>\n</div>"
     },
     "metadata": {}
    },
    {
     "output_type": "stream",
     "name": "stdout",
     "text": [
      "303\norg.apache.commons.collections.testcollectionutils.java\n"
     ]
    },
    {
     "output_type": "display_data",
     "data": {
      "text/plain": "                                              filename  \\\n288  org.apache.commons.collections.testcollectionu...   \n\n                                      unprocessed_code      project  \n288  Licensed to the  Apache  Software  Foundation ...  COLLECTIONS  ",
      "text/html": "<div>\n<style scoped>\n    .dataframe tbody tr th:only-of-type {\n        vertical-align: middle;\n    }\n\n    .dataframe tbody tr th {\n        vertical-align: top;\n    }\n\n    .dataframe thead th {\n        text-align: right;\n    }\n</style>\n<table border=\"1\" class=\"dataframe\">\n  <thead>\n    <tr style=\"text-align: right;\">\n      <th></th>\n      <th>filename</th>\n      <th>unprocessed_code</th>\n      <th>project</th>\n    </tr>\n  </thead>\n  <tbody>\n    <tr>\n      <th>288</th>\n      <td>org.apache.commons.collections.testcollectionu...</td>\n      <td>Licensed to the  Apache  Software  Foundation ...</td>\n      <td>COLLECTIONS</td>\n    </tr>\n  </tbody>\n</table>\n</div>"
     },
     "metadata": {}
    },
    {
     "output_type": "stream",
     "name": "stdout",
     "text": [
      "288\norg.apache.commons.collections.collectionutils.java\n"
     ]
    },
    {
     "output_type": "display_data",
     "data": {
      "text/plain": "                                             filename  \\\n15  org.apache.commons.collections.collectionutils...   \n\n                                     unprocessed_code      project  \n15  Licensed to the  Apache  Software  Foundation ...  COLLECTIONS  ",
      "text/html": "<div>\n<style scoped>\n    .dataframe tbody tr th:only-of-type {\n        vertical-align: middle;\n    }\n\n    .dataframe tbody tr th {\n        vertical-align: top;\n    }\n\n    .dataframe thead th {\n        text-align: right;\n    }\n</style>\n<table border=\"1\" class=\"dataframe\">\n  <thead>\n    <tr style=\"text-align: right;\">\n      <th></th>\n      <th>filename</th>\n      <th>unprocessed_code</th>\n      <th>project</th>\n    </tr>\n  </thead>\n  <tbody>\n    <tr>\n      <th>15</th>\n      <td>org.apache.commons.collections.collectionutils...</td>\n      <td>Licensed to the  Apache  Software  Foundation ...</td>\n      <td>COLLECTIONS</td>\n    </tr>\n  </tbody>\n</table>\n</div>"
     },
     "metadata": {}
    },
    {
     "output_type": "stream",
     "name": "stdout",
     "text": [
      "15\n[303, 288, 15]\n['org.apache.commons.collections.testlistutils.java'\n 'org.apache.commons.collections.testcollectionutils.java'\n 'org.apache.commons.collections.collectionutils.java']\norg.apache.commons.collections.testlistutils.java\n"
     ]
    },
    {
     "output_type": "display_data",
     "data": {
      "text/plain": "                                              filename  \\\n303  org.apache.commons.collections.testlistutils.java   \n\n                                      unprocessed_code      project  \n303  Licensed to the  Apache  Software  Foundation ...  COLLECTIONS  ",
      "text/html": "<div>\n<style scoped>\n    .dataframe tbody tr th:only-of-type {\n        vertical-align: middle;\n    }\n\n    .dataframe tbody tr th {\n        vertical-align: top;\n    }\n\n    .dataframe thead th {\n        text-align: right;\n    }\n</style>\n<table border=\"1\" class=\"dataframe\">\n  <thead>\n    <tr style=\"text-align: right;\">\n      <th></th>\n      <th>filename</th>\n      <th>unprocessed_code</th>\n      <th>project</th>\n    </tr>\n  </thead>\n  <tbody>\n    <tr>\n      <th>303</th>\n      <td>org.apache.commons.collections.testlistutils.java</td>\n      <td>Licensed to the  Apache  Software  Foundation ...</td>\n      <td>COLLECTIONS</td>\n    </tr>\n  </tbody>\n</table>\n</div>"
     },
     "metadata": {}
    },
    {
     "output_type": "stream",
     "name": "stdout",
     "text": [
      "303\norg.apache.commons.collections.testcollectionutils.java\n"
     ]
    },
    {
     "output_type": "display_data",
     "data": {
      "text/plain": "                                              filename  \\\n288  org.apache.commons.collections.testcollectionu...   \n\n                                      unprocessed_code      project  \n288  Licensed to the  Apache  Software  Foundation ...  COLLECTIONS  ",
      "text/html": "<div>\n<style scoped>\n    .dataframe tbody tr th:only-of-type {\n        vertical-align: middle;\n    }\n\n    .dataframe tbody tr th {\n        vertical-align: top;\n    }\n\n    .dataframe thead th {\n        text-align: right;\n    }\n</style>\n<table border=\"1\" class=\"dataframe\">\n  <thead>\n    <tr style=\"text-align: right;\">\n      <th></th>\n      <th>filename</th>\n      <th>unprocessed_code</th>\n      <th>project</th>\n    </tr>\n  </thead>\n  <tbody>\n    <tr>\n      <th>288</th>\n      <td>org.apache.commons.collections.testcollectionu...</td>\n      <td>Licensed to the  Apache  Software  Foundation ...</td>\n      <td>COLLECTIONS</td>\n    </tr>\n  </tbody>\n</table>\n</div>"
     },
     "metadata": {}
    },
    {
     "output_type": "stream",
     "name": "stdout",
     "text": [
      "288\norg.apache.commons.collections.collectionutils.java\n"
     ]
    },
    {
     "output_type": "display_data",
     "data": {
      "text/plain": "                                             filename  \\\n15  org.apache.commons.collections.collectionutils...   \n\n                                     unprocessed_code      project  \n15  Licensed to the  Apache  Software  Foundation ...  COLLECTIONS  ",
      "text/html": "<div>\n<style scoped>\n    .dataframe tbody tr th:only-of-type {\n        vertical-align: middle;\n    }\n\n    .dataframe tbody tr th {\n        vertical-align: top;\n    }\n\n    .dataframe thead th {\n        text-align: right;\n    }\n</style>\n<table border=\"1\" class=\"dataframe\">\n  <thead>\n    <tr style=\"text-align: right;\">\n      <th></th>\n      <th>filename</th>\n      <th>unprocessed_code</th>\n      <th>project</th>\n    </tr>\n  </thead>\n  <tbody>\n    <tr>\n      <th>15</th>\n      <td>org.apache.commons.collections.collectionutils...</td>\n      <td>Licensed to the  Apache  Software  Foundation ...</td>\n      <td>COLLECTIONS</td>\n    </tr>\n  </tbody>\n</table>\n</div>"
     },
     "metadata": {}
    },
    {
     "output_type": "stream",
     "name": "stdout",
     "text": [
      "15\n[303, 288, 15]\n['org.apache.commons.collections.testlistutils.java'\n 'org.apache.commons.collections.testcollectionutils.java'\n 'org.apache.commons.collections.collectionutils.java']\norg.apache.commons.collections.testlistutils.java\n"
     ]
    },
    {
     "output_type": "display_data",
     "data": {
      "text/plain": "                                              filename  \\\n303  org.apache.commons.collections.testlistutils.java   \n\n                                      unprocessed_code      project  \n303  Licensed to the  Apache  Software  Foundation ...  COLLECTIONS  ",
      "text/html": "<div>\n<style scoped>\n    .dataframe tbody tr th:only-of-type {\n        vertical-align: middle;\n    }\n\n    .dataframe tbody tr th {\n        vertical-align: top;\n    }\n\n    .dataframe thead th {\n        text-align: right;\n    }\n</style>\n<table border=\"1\" class=\"dataframe\">\n  <thead>\n    <tr style=\"text-align: right;\">\n      <th></th>\n      <th>filename</th>\n      <th>unprocessed_code</th>\n      <th>project</th>\n    </tr>\n  </thead>\n  <tbody>\n    <tr>\n      <th>303</th>\n      <td>org.apache.commons.collections.testlistutils.java</td>\n      <td>Licensed to the  Apache  Software  Foundation ...</td>\n      <td>COLLECTIONS</td>\n    </tr>\n  </tbody>\n</table>\n</div>"
     },
     "metadata": {}
    },
    {
     "output_type": "stream",
     "name": "stdout",
     "text": [
      "303\norg.apache.commons.collections.testcollectionutils.java\n"
     ]
    },
    {
     "output_type": "display_data",
     "data": {
      "text/plain": "                                              filename  \\\n288  org.apache.commons.collections.testcollectionu...   \n\n                                      unprocessed_code      project  \n288  Licensed to the  Apache  Software  Foundation ...  COLLECTIONS  ",
      "text/html": "<div>\n<style scoped>\n    .dataframe tbody tr th:only-of-type {\n        vertical-align: middle;\n    }\n\n    .dataframe tbody tr th {\n        vertical-align: top;\n    }\n\n    .dataframe thead th {\n        text-align: right;\n    }\n</style>\n<table border=\"1\" class=\"dataframe\">\n  <thead>\n    <tr style=\"text-align: right;\">\n      <th></th>\n      <th>filename</th>\n      <th>unprocessed_code</th>\n      <th>project</th>\n    </tr>\n  </thead>\n  <tbody>\n    <tr>\n      <th>288</th>\n      <td>org.apache.commons.collections.testcollectionu...</td>\n      <td>Licensed to the  Apache  Software  Foundation ...</td>\n      <td>COLLECTIONS</td>\n    </tr>\n  </tbody>\n</table>\n</div>"
     },
     "metadata": {}
    },
    {
     "output_type": "stream",
     "name": "stdout",
     "text": [
      "288\norg.apache.commons.collections.collectionutils.java\n"
     ]
    },
    {
     "output_type": "display_data",
     "data": {
      "text/plain": "                                             filename  \\\n15  org.apache.commons.collections.collectionutils...   \n\n                                     unprocessed_code      project  \n15  Licensed to the  Apache  Software  Foundation ...  COLLECTIONS  ",
      "text/html": "<div>\n<style scoped>\n    .dataframe tbody tr th:only-of-type {\n        vertical-align: middle;\n    }\n\n    .dataframe tbody tr th {\n        vertical-align: top;\n    }\n\n    .dataframe thead th {\n        text-align: right;\n    }\n</style>\n<table border=\"1\" class=\"dataframe\">\n  <thead>\n    <tr style=\"text-align: right;\">\n      <th></th>\n      <th>filename</th>\n      <th>unprocessed_code</th>\n      <th>project</th>\n    </tr>\n  </thead>\n  <tbody>\n    <tr>\n      <th>15</th>\n      <td>org.apache.commons.collections.collectionutils...</td>\n      <td>Licensed to the  Apache  Software  Foundation ...</td>\n      <td>COLLECTIONS</td>\n    </tr>\n  </tbody>\n</table>\n</div>"
     },
     "metadata": {}
    },
    {
     "output_type": "stream",
     "name": "stdout",
     "text": [
      "15\n[303, 288, 15]\n['org.apache.commons.collections.map.abstractlinkedmap.java']\norg.apache.commons.collections.map.abstractlinkedmap.java\n"
     ]
    },
    {
     "output_type": "display_data",
     "data": {
      "text/plain": "                                              filename  \\\n223  org.apache.commons.collections.map.abstractlin...   \n\n                                      unprocessed_code      project  \n223  Licensed to the  Apache  Software  Foundation ...  COLLECTIONS  ",
      "text/html": "<div>\n<style scoped>\n    .dataframe tbody tr th:only-of-type {\n        vertical-align: middle;\n    }\n\n    .dataframe tbody tr th {\n        vertical-align: top;\n    }\n\n    .dataframe thead th {\n        text-align: right;\n    }\n</style>\n<table border=\"1\" class=\"dataframe\">\n  <thead>\n    <tr style=\"text-align: right;\">\n      <th></th>\n      <th>filename</th>\n      <th>unprocessed_code</th>\n      <th>project</th>\n    </tr>\n  </thead>\n  <tbody>\n    <tr>\n      <th>223</th>\n      <td>org.apache.commons.collections.map.abstractlin...</td>\n      <td>Licensed to the  Apache  Software  Foundation ...</td>\n      <td>COLLECTIONS</td>\n    </tr>\n  </tbody>\n</table>\n</div>"
     },
     "metadata": {}
    },
    {
     "output_type": "stream",
     "name": "stdout",
     "text": [
      "223\n[223]\n['org.apache.commons.collections.testlistutils.java'\n 'org.apache.commons.collections.testcollectionutils.java'\n 'org.apache.commons.collections.collectionutils.java']\norg.apache.commons.collections.testlistutils.java\n"
     ]
    },
    {
     "output_type": "display_data",
     "data": {
      "text/plain": "                                              filename  \\\n303  org.apache.commons.collections.testlistutils.java   \n\n                                      unprocessed_code      project  \n303  Licensed to the  Apache  Software  Foundation ...  COLLECTIONS  ",
      "text/html": "<div>\n<style scoped>\n    .dataframe tbody tr th:only-of-type {\n        vertical-align: middle;\n    }\n\n    .dataframe tbody tr th {\n        vertical-align: top;\n    }\n\n    .dataframe thead th {\n        text-align: right;\n    }\n</style>\n<table border=\"1\" class=\"dataframe\">\n  <thead>\n    <tr style=\"text-align: right;\">\n      <th></th>\n      <th>filename</th>\n      <th>unprocessed_code</th>\n      <th>project</th>\n    </tr>\n  </thead>\n  <tbody>\n    <tr>\n      <th>303</th>\n      <td>org.apache.commons.collections.testlistutils.java</td>\n      <td>Licensed to the  Apache  Software  Foundation ...</td>\n      <td>COLLECTIONS</td>\n    </tr>\n  </tbody>\n</table>\n</div>"
     },
     "metadata": {}
    },
    {
     "output_type": "stream",
     "name": "stdout",
     "text": [
      "303\norg.apache.commons.collections.testcollectionutils.java\n"
     ]
    },
    {
     "output_type": "display_data",
     "data": {
      "text/plain": "                                              filename  \\\n288  org.apache.commons.collections.testcollectionu...   \n\n                                      unprocessed_code      project  \n288  Licensed to the  Apache  Software  Foundation ...  COLLECTIONS  ",
      "text/html": "<div>\n<style scoped>\n    .dataframe tbody tr th:only-of-type {\n        vertical-align: middle;\n    }\n\n    .dataframe tbody tr th {\n        vertical-align: top;\n    }\n\n    .dataframe thead th {\n        text-align: right;\n    }\n</style>\n<table border=\"1\" class=\"dataframe\">\n  <thead>\n    <tr style=\"text-align: right;\">\n      <th></th>\n      <th>filename</th>\n      <th>unprocessed_code</th>\n      <th>project</th>\n    </tr>\n  </thead>\n  <tbody>\n    <tr>\n      <th>288</th>\n      <td>org.apache.commons.collections.testcollectionu...</td>\n      <td>Licensed to the  Apache  Software  Foundation ...</td>\n      <td>COLLECTIONS</td>\n    </tr>\n  </tbody>\n</table>\n</div>"
     },
     "metadata": {}
    },
    {
     "output_type": "stream",
     "name": "stdout",
     "text": [
      "288\norg.apache.commons.collections.collectionutils.java\n"
     ]
    },
    {
     "output_type": "display_data",
     "data": {
      "text/plain": "                                             filename  \\\n15  org.apache.commons.collections.collectionutils...   \n\n                                     unprocessed_code      project  \n15  Licensed to the  Apache  Software  Foundation ...  COLLECTIONS  ",
      "text/html": "<div>\n<style scoped>\n    .dataframe tbody tr th:only-of-type {\n        vertical-align: middle;\n    }\n\n    .dataframe tbody tr th {\n        vertical-align: top;\n    }\n\n    .dataframe thead th {\n        text-align: right;\n    }\n</style>\n<table border=\"1\" class=\"dataframe\">\n  <thead>\n    <tr style=\"text-align: right;\">\n      <th></th>\n      <th>filename</th>\n      <th>unprocessed_code</th>\n      <th>project</th>\n    </tr>\n  </thead>\n  <tbody>\n    <tr>\n      <th>15</th>\n      <td>org.apache.commons.collections.collectionutils...</td>\n      <td>Licensed to the  Apache  Software  Foundation ...</td>\n      <td>COLLECTIONS</td>\n    </tr>\n  </tbody>\n</table>\n</div>"
     },
     "metadata": {}
    },
    {
     "output_type": "stream",
     "name": "stdout",
     "text": [
      "15\n[303, 288, 15]\n['org.apache.commons.collections.splitmap.abstractiterablegetmapdecorator.java'\n 'org.apache.commons.collections.splitmap.testtransformedmap.java']\norg.apache.commons.collections.splitmap.abstractiterablegetmapdecorator.java\n"
     ]
    },
    {
     "output_type": "display_data",
     "data": {
      "text/plain": "Empty DataFrame\nColumns: [filename, unprocessed_code, project]\nIndex: []",
      "text/html": "<div>\n<style scoped>\n    .dataframe tbody tr th:only-of-type {\n        vertical-align: middle;\n    }\n\n    .dataframe tbody tr th {\n        vertical-align: top;\n    }\n\n    .dataframe thead th {\n        text-align: right;\n    }\n</style>\n<table border=\"1\" class=\"dataframe\">\n  <thead>\n    <tr style=\"text-align: right;\">\n      <th></th>\n      <th>filename</th>\n      <th>unprocessed_code</th>\n      <th>project</th>\n    </tr>\n  </thead>\n  <tbody>\n  </tbody>\n</table>\n</div>"
     },
     "metadata": {}
    },
    {
     "output_type": "stream",
     "name": "stdout",
     "text": [
      "org.apache.commons.collections.splitmap.testtransformedmap.java\n"
     ]
    },
    {
     "output_type": "display_data",
     "data": {
      "text/plain": "Empty DataFrame\nColumns: [filename, unprocessed_code, project]\nIndex: []",
      "text/html": "<div>\n<style scoped>\n    .dataframe tbody tr th:only-of-type {\n        vertical-align: middle;\n    }\n\n    .dataframe tbody tr th {\n        vertical-align: top;\n    }\n\n    .dataframe thead th {\n        text-align: right;\n    }\n</style>\n<table border=\"1\" class=\"dataframe\">\n  <thead>\n    <tr style=\"text-align: right;\">\n      <th></th>\n      <th>filename</th>\n      <th>unprocessed_code</th>\n      <th>project</th>\n    </tr>\n  </thead>\n  <tbody>\n  </tbody>\n</table>\n</div>"
     },
     "metadata": {}
    },
    {
     "output_type": "stream",
     "name": "stdout",
     "text": [
      "[-1, -1]\n['org.apache.commons.collections.testlistutils.java'\n 'org.apache.commons.collections.testcollectionutils.java'\n 'org.apache.commons.collections.collectionutils.java']\norg.apache.commons.collections.testlistutils.java\n"
     ]
    },
    {
     "output_type": "display_data",
     "data": {
      "text/plain": "                                              filename  \\\n303  org.apache.commons.collections.testlistutils.java   \n\n                                      unprocessed_code      project  \n303  Licensed to the  Apache  Software  Foundation ...  COLLECTIONS  ",
      "text/html": "<div>\n<style scoped>\n    .dataframe tbody tr th:only-of-type {\n        vertical-align: middle;\n    }\n\n    .dataframe tbody tr th {\n        vertical-align: top;\n    }\n\n    .dataframe thead th {\n        text-align: right;\n    }\n</style>\n<table border=\"1\" class=\"dataframe\">\n  <thead>\n    <tr style=\"text-align: right;\">\n      <th></th>\n      <th>filename</th>\n      <th>unprocessed_code</th>\n      <th>project</th>\n    </tr>\n  </thead>\n  <tbody>\n    <tr>\n      <th>303</th>\n      <td>org.apache.commons.collections.testlistutils.java</td>\n      <td>Licensed to the  Apache  Software  Foundation ...</td>\n      <td>COLLECTIONS</td>\n    </tr>\n  </tbody>\n</table>\n</div>"
     },
     "metadata": {}
    },
    {
     "output_type": "stream",
     "name": "stdout",
     "text": [
      "303\norg.apache.commons.collections.testcollectionutils.java\n"
     ]
    },
    {
     "output_type": "display_data",
     "data": {
      "text/plain": "                                              filename  \\\n288  org.apache.commons.collections.testcollectionu...   \n\n                                      unprocessed_code      project  \n288  Licensed to the  Apache  Software  Foundation ...  COLLECTIONS  ",
      "text/html": "<div>\n<style scoped>\n    .dataframe tbody tr th:only-of-type {\n        vertical-align: middle;\n    }\n\n    .dataframe tbody tr th {\n        vertical-align: top;\n    }\n\n    .dataframe thead th {\n        text-align: right;\n    }\n</style>\n<table border=\"1\" class=\"dataframe\">\n  <thead>\n    <tr style=\"text-align: right;\">\n      <th></th>\n      <th>filename</th>\n      <th>unprocessed_code</th>\n      <th>project</th>\n    </tr>\n  </thead>\n  <tbody>\n    <tr>\n      <th>288</th>\n      <td>org.apache.commons.collections.testcollectionu...</td>\n      <td>Licensed to the  Apache  Software  Foundation ...</td>\n      <td>COLLECTIONS</td>\n    </tr>\n  </tbody>\n</table>\n</div>"
     },
     "metadata": {}
    },
    {
     "output_type": "stream",
     "name": "stdout",
     "text": [
      "288\norg.apache.commons.collections.collectionutils.java\n"
     ]
    },
    {
     "output_type": "display_data",
     "data": {
      "text/plain": "                                             filename  \\\n15  org.apache.commons.collections.collectionutils...   \n\n                                     unprocessed_code      project  \n15  Licensed to the  Apache  Software  Foundation ...  COLLECTIONS  ",
      "text/html": "<div>\n<style scoped>\n    .dataframe tbody tr th:only-of-type {\n        vertical-align: middle;\n    }\n\n    .dataframe tbody tr th {\n        vertical-align: top;\n    }\n\n    .dataframe thead th {\n        text-align: right;\n    }\n</style>\n<table border=\"1\" class=\"dataframe\">\n  <thead>\n    <tr style=\"text-align: right;\">\n      <th></th>\n      <th>filename</th>\n      <th>unprocessed_code</th>\n      <th>project</th>\n    </tr>\n  </thead>\n  <tbody>\n    <tr>\n      <th>15</th>\n      <td>org.apache.commons.collections.collectionutils...</td>\n      <td>Licensed to the  Apache  Software  Foundation ...</td>\n      <td>COLLECTIONS</td>\n    </tr>\n  </tbody>\n</table>\n</div>"
     },
     "metadata": {}
    },
    {
     "output_type": "stream",
     "name": "stdout",
     "text": [
      "15\n[303, 288, 15]\n['org.apache.commons.collections.iterators.testfilterlistiterator.java'\n 'org.apache.commons.collections.iterators.filterlistiterator.java']\norg.apache.commons.collections.iterators.testfilterlistiterator.java\n"
     ]
    },
    {
     "output_type": "display_data",
     "data": {
      "text/plain": "                                              filename  \\\n387  org.apache.commons.collections.iterators.testf...   \n\n                                      unprocessed_code      project  \n387  Licensed to the  Apache  Software  Foundation ...  COLLECTIONS  ",
      "text/html": "<div>\n<style scoped>\n    .dataframe tbody tr th:only-of-type {\n        vertical-align: middle;\n    }\n\n    .dataframe tbody tr th {\n        vertical-align: top;\n    }\n\n    .dataframe thead th {\n        text-align: right;\n    }\n</style>\n<table border=\"1\" class=\"dataframe\">\n  <thead>\n    <tr style=\"text-align: right;\">\n      <th></th>\n      <th>filename</th>\n      <th>unprocessed_code</th>\n      <th>project</th>\n    </tr>\n  </thead>\n  <tbody>\n    <tr>\n      <th>387</th>\n      <td>org.apache.commons.collections.iterators.testf...</td>\n      <td>Licensed to the  Apache  Software  Foundation ...</td>\n      <td>COLLECTIONS</td>\n    </tr>\n  </tbody>\n</table>\n</div>"
     },
     "metadata": {}
    },
    {
     "output_type": "stream",
     "name": "stdout",
     "text": [
      "387\norg.apache.commons.collections.iterators.filterlistiterator.java\n"
     ]
    },
    {
     "output_type": "display_data",
     "data": {
      "text/plain": "                                              filename  \\\n178  org.apache.commons.collections.iterators.filte...   \n\n                                      unprocessed_code      project  \n178  Licensed to the  Apache  Software  Foundation ...  COLLECTIONS  ",
      "text/html": "<div>\n<style scoped>\n    .dataframe tbody tr th:only-of-type {\n        vertical-align: middle;\n    }\n\n    .dataframe tbody tr th {\n        vertical-align: top;\n    }\n\n    .dataframe thead th {\n        text-align: right;\n    }\n</style>\n<table border=\"1\" class=\"dataframe\">\n  <thead>\n    <tr style=\"text-align: right;\">\n      <th></th>\n      <th>filename</th>\n      <th>unprocessed_code</th>\n      <th>project</th>\n    </tr>\n  </thead>\n  <tbody>\n    <tr>\n      <th>178</th>\n      <td>org.apache.commons.collections.iterators.filte...</td>\n      <td>Licensed to the  Apache  Software  Foundation ...</td>\n      <td>COLLECTIONS</td>\n    </tr>\n  </tbody>\n</table>\n</div>"
     },
     "metadata": {}
    },
    {
     "output_type": "stream",
     "name": "stdout",
     "text": [
      "178\n[387, 178]\n['org.apache.commons.collections.iterators.collatingiterator.java'\n 'org.apache.commons.collections.iterators.testcollatingiterator.java'\n 'org.apache.commons.collections.comparators.comparablecomparator.java']\norg.apache.commons.collections.iterators.collatingiterator.java\n"
     ]
    },
    {
     "output_type": "display_data",
     "data": {
      "text/plain": "                                              filename  \\\n169  org.apache.commons.collections.iterators.colla...   \n\n                                      unprocessed_code      project  \n169  Licensed to the  Apache  Software  Foundation ...  COLLECTIONS  ",
      "text/html": "<div>\n<style scoped>\n    .dataframe tbody tr th:only-of-type {\n        vertical-align: middle;\n    }\n\n    .dataframe tbody tr th {\n        vertical-align: top;\n    }\n\n    .dataframe thead th {\n        text-align: right;\n    }\n</style>\n<table border=\"1\" class=\"dataframe\">\n  <thead>\n    <tr style=\"text-align: right;\">\n      <th></th>\n      <th>filename</th>\n      <th>unprocessed_code</th>\n      <th>project</th>\n    </tr>\n  </thead>\n  <tbody>\n    <tr>\n      <th>169</th>\n      <td>org.apache.commons.collections.iterators.colla...</td>\n      <td>Licensed to the  Apache  Software  Foundation ...</td>\n      <td>COLLECTIONS</td>\n    </tr>\n  </tbody>\n</table>\n</div>"
     },
     "metadata": {}
    },
    {
     "output_type": "stream",
     "name": "stdout",
     "text": [
      "169\norg.apache.commons.collections.iterators.testcollatingiterator.java\n"
     ]
    },
    {
     "output_type": "display_data",
     "data": {
      "text/plain": "                                              filename  \\\n385  org.apache.commons.collections.iterators.testc...   \n\n                                      unprocessed_code      project  \n385  Licensed to the  Apache  Software  Foundation ...  COLLECTIONS  ",
      "text/html": "<div>\n<style scoped>\n    .dataframe tbody tr th:only-of-type {\n        vertical-align: middle;\n    }\n\n    .dataframe tbody tr th {\n        vertical-align: top;\n    }\n\n    .dataframe thead th {\n        text-align: right;\n    }\n</style>\n<table border=\"1\" class=\"dataframe\">\n  <thead>\n    <tr style=\"text-align: right;\">\n      <th></th>\n      <th>filename</th>\n      <th>unprocessed_code</th>\n      <th>project</th>\n    </tr>\n  </thead>\n  <tbody>\n    <tr>\n      <th>385</th>\n      <td>org.apache.commons.collections.iterators.testc...</td>\n      <td>Licensed to the  Apache  Software  Foundation ...</td>\n      <td>COLLECTIONS</td>\n    </tr>\n  </tbody>\n</table>\n</div>"
     },
     "metadata": {}
    },
    {
     "output_type": "stream",
     "name": "stdout",
     "text": [
      "385\norg.apache.commons.collections.comparators.comparablecomparator.java\n"
     ]
    },
    {
     "output_type": "display_data",
     "data": {
      "text/plain": "                                              filename  \\\n108  org.apache.commons.collections.comparators.com...   \n\n                                      unprocessed_code      project  \n108  Licensed to the  Apache  Software  Foundation ...  COLLECTIONS  ",
      "text/html": "<div>\n<style scoped>\n    .dataframe tbody tr th:only-of-type {\n        vertical-align: middle;\n    }\n\n    .dataframe tbody tr th {\n        vertical-align: top;\n    }\n\n    .dataframe thead th {\n        text-align: right;\n    }\n</style>\n<table border=\"1\" class=\"dataframe\">\n  <thead>\n    <tr style=\"text-align: right;\">\n      <th></th>\n      <th>filename</th>\n      <th>unprocessed_code</th>\n      <th>project</th>\n    </tr>\n  </thead>\n  <tbody>\n    <tr>\n      <th>108</th>\n      <td>org.apache.commons.collections.comparators.com...</td>\n      <td>Licensed to the  Apache  Software  Foundation ...</td>\n      <td>COLLECTIONS</td>\n    </tr>\n  </tbody>\n</table>\n</div>"
     },
     "metadata": {}
    },
    {
     "output_type": "stream",
     "name": "stdout",
     "text": [
      "108\n[169, 385, 108]\n['org.apache.commons.collections.map.identitymap.java'\n 'org.apache.commons.collections.map.abstracthashedmap.java'\n 'org.apache.commons.collections.map.caseinsensitivemap.java'\n 'org.apache.commons.collections.map.abstractlinkedmap.java'\n 'org.apache.commons.collections.map.testhashedmap.java'\n 'org.apache.commons.collections.map.testidentitymap.java'\n 'org.apache.commons.collections.map.hashedmap.java'\n 'org.apache.commons.collections.map.testcaseinsensitivemap.java'\n 'org.apache.commons.collections.map.testlinkedmap.java'\n 'org.apache.commons.collections.map.linkedmap.java']\norg.apache.commons.collections.map.identitymap.java\n"
     ]
    },
    {
     "output_type": "display_data",
     "data": {
      "text/plain": "                                              filename  \\\n235  org.apache.commons.collections.map.identitymap...   \n\n                                      unprocessed_code      project  \n235  Licensed to the  Apache  Software  Foundation ...  COLLECTIONS  ",
      "text/html": "<div>\n<style scoped>\n    .dataframe tbody tr th:only-of-type {\n        vertical-align: middle;\n    }\n\n    .dataframe tbody tr th {\n        vertical-align: top;\n    }\n\n    .dataframe thead th {\n        text-align: right;\n    }\n</style>\n<table border=\"1\" class=\"dataframe\">\n  <thead>\n    <tr style=\"text-align: right;\">\n      <th></th>\n      <th>filename</th>\n      <th>unprocessed_code</th>\n      <th>project</th>\n    </tr>\n  </thead>\n  <tbody>\n    <tr>\n      <th>235</th>\n      <td>org.apache.commons.collections.map.identitymap...</td>\n      <td>Licensed to the  Apache  Software  Foundation ...</td>\n      <td>COLLECTIONS</td>\n    </tr>\n  </tbody>\n</table>\n</div>"
     },
     "metadata": {}
    },
    {
     "output_type": "stream",
     "name": "stdout",
     "text": [
      "235\norg.apache.commons.collections.map.abstracthashedmap.java\n"
     ]
    },
    {
     "output_type": "display_data",
     "data": {
      "text/plain": "                                              filename  \\\n221  org.apache.commons.collections.map.abstracthas...   \n\n                                      unprocessed_code      project  \n221  Licensed to the  Apache  Software  Foundation ...  COLLECTIONS  ",
      "text/html": "<div>\n<style scoped>\n    .dataframe tbody tr th:only-of-type {\n        vertical-align: middle;\n    }\n\n    .dataframe tbody tr th {\n        vertical-align: top;\n    }\n\n    .dataframe thead th {\n        text-align: right;\n    }\n</style>\n<table border=\"1\" class=\"dataframe\">\n  <thead>\n    <tr style=\"text-align: right;\">\n      <th></th>\n      <th>filename</th>\n      <th>unprocessed_code</th>\n      <th>project</th>\n    </tr>\n  </thead>\n  <tbody>\n    <tr>\n      <th>221</th>\n      <td>org.apache.commons.collections.map.abstracthas...</td>\n      <td>Licensed to the  Apache  Software  Foundation ...</td>\n      <td>COLLECTIONS</td>\n    </tr>\n  </tbody>\n</table>\n</div>"
     },
     "metadata": {}
    },
    {
     "output_type": "stream",
     "name": "stdout",
     "text": [
      "221\norg.apache.commons.collections.map.caseinsensitivemap.java\n"
     ]
    },
    {
     "output_type": "display_data",
     "data": {
      "text/plain": "                                              filename  \\\n228  org.apache.commons.collections.map.caseinsensi...   \n\n                                      unprocessed_code      project  \n228  Licensed to the  Apache  Software  Foundation ...  COLLECTIONS  ",
      "text/html": "<div>\n<style scoped>\n    .dataframe tbody tr th:only-of-type {\n        vertical-align: middle;\n    }\n\n    .dataframe tbody tr th {\n        vertical-align: top;\n    }\n\n    .dataframe thead th {\n        text-align: right;\n    }\n</style>\n<table border=\"1\" class=\"dataframe\">\n  <thead>\n    <tr style=\"text-align: right;\">\n      <th></th>\n      <th>filename</th>\n      <th>unprocessed_code</th>\n      <th>project</th>\n    </tr>\n  </thead>\n  <tbody>\n    <tr>\n      <th>228</th>\n      <td>org.apache.commons.collections.map.caseinsensi...</td>\n      <td>Licensed to the  Apache  Software  Foundation ...</td>\n      <td>COLLECTIONS</td>\n    </tr>\n  </tbody>\n</table>\n</div>"
     },
     "metadata": {}
    },
    {
     "output_type": "stream",
     "name": "stdout",
     "text": [
      "228\norg.apache.commons.collections.map.abstractlinkedmap.java\n"
     ]
    },
    {
     "output_type": "display_data",
     "data": {
      "text/plain": "                                              filename  \\\n223  org.apache.commons.collections.map.abstractlin...   \n\n                                      unprocessed_code      project  \n223  Licensed to the  Apache  Software  Foundation ...  COLLECTIONS  ",
      "text/html": "<div>\n<style scoped>\n    .dataframe tbody tr th:only-of-type {\n        vertical-align: middle;\n    }\n\n    .dataframe tbody tr th {\n        vertical-align: top;\n    }\n\n    .dataframe thead th {\n        text-align: right;\n    }\n</style>\n<table border=\"1\" class=\"dataframe\">\n  <thead>\n    <tr style=\"text-align: right;\">\n      <th></th>\n      <th>filename</th>\n      <th>unprocessed_code</th>\n      <th>project</th>\n    </tr>\n  </thead>\n  <tbody>\n    <tr>\n      <th>223</th>\n      <td>org.apache.commons.collections.map.abstractlin...</td>\n      <td>Licensed to the  Apache  Software  Foundation ...</td>\n      <td>COLLECTIONS</td>\n    </tr>\n  </tbody>\n</table>\n</div>"
     },
     "metadata": {}
    },
    {
     "output_type": "stream",
     "name": "stdout",
     "text": [
      "223\norg.apache.commons.collections.map.testhashedmap.java\n"
     ]
    },
    {
     "output_type": "display_data",
     "data": {
      "text/plain": "                                              filename  \\\n437  org.apache.commons.collections.map.testhashedm...   \n\n                                      unprocessed_code      project  \n437  Licensed to the  Apache  Software  Foundation ...  COLLECTIONS  ",
      "text/html": "<div>\n<style scoped>\n    .dataframe tbody tr th:only-of-type {\n        vertical-align: middle;\n    }\n\n    .dataframe tbody tr th {\n        vertical-align: top;\n    }\n\n    .dataframe thead th {\n        text-align: right;\n    }\n</style>\n<table border=\"1\" class=\"dataframe\">\n  <thead>\n    <tr style=\"text-align: right;\">\n      <th></th>\n      <th>filename</th>\n      <th>unprocessed_code</th>\n      <th>project</th>\n    </tr>\n  </thead>\n  <tbody>\n    <tr>\n      <th>437</th>\n      <td>org.apache.commons.collections.map.testhashedm...</td>\n      <td>Licensed to the  Apache  Software  Foundation ...</td>\n      <td>COLLECTIONS</td>\n    </tr>\n  </tbody>\n</table>\n</div>"
     },
     "metadata": {}
    },
    {
     "output_type": "stream",
     "name": "stdout",
     "text": [
      "437\norg.apache.commons.collections.map.testidentitymap.java\n"
     ]
    },
    {
     "output_type": "display_data",
     "data": {
      "text/plain": "                                              filename  \\\n438  org.apache.commons.collections.map.testidentit...   \n\n                                      unprocessed_code      project  \n438  Licensed to the  Apache  Software  Foundation ...  COLLECTIONS  ",
      "text/html": "<div>\n<style scoped>\n    .dataframe tbody tr th:only-of-type {\n        vertical-align: middle;\n    }\n\n    .dataframe tbody tr th {\n        vertical-align: top;\n    }\n\n    .dataframe thead th {\n        text-align: right;\n    }\n</style>\n<table border=\"1\" class=\"dataframe\">\n  <thead>\n    <tr style=\"text-align: right;\">\n      <th></th>\n      <th>filename</th>\n      <th>unprocessed_code</th>\n      <th>project</th>\n    </tr>\n  </thead>\n  <tbody>\n    <tr>\n      <th>438</th>\n      <td>org.apache.commons.collections.map.testidentit...</td>\n      <td>Licensed to the  Apache  Software  Foundation ...</td>\n      <td>COLLECTIONS</td>\n    </tr>\n  </tbody>\n</table>\n</div>"
     },
     "metadata": {}
    },
    {
     "output_type": "stream",
     "name": "stdout",
     "text": [
      "438\norg.apache.commons.collections.map.hashedmap.java\n"
     ]
    },
    {
     "output_type": "display_data",
     "data": {
      "text/plain": "                                              filename  \\\n234  org.apache.commons.collections.map.hashedmap.java   \n\n                                      unprocessed_code      project  \n234  Licensed to the  Apache  Software  Foundation ...  COLLECTIONS  ",
      "text/html": "<div>\n<style scoped>\n    .dataframe tbody tr th:only-of-type {\n        vertical-align: middle;\n    }\n\n    .dataframe tbody tr th {\n        vertical-align: top;\n    }\n\n    .dataframe thead th {\n        text-align: right;\n    }\n</style>\n<table border=\"1\" class=\"dataframe\">\n  <thead>\n    <tr style=\"text-align: right;\">\n      <th></th>\n      <th>filename</th>\n      <th>unprocessed_code</th>\n      <th>project</th>\n    </tr>\n  </thead>\n  <tbody>\n    <tr>\n      <th>234</th>\n      <td>org.apache.commons.collections.map.hashedmap.java</td>\n      <td>Licensed to the  Apache  Software  Foundation ...</td>\n      <td>COLLECTIONS</td>\n    </tr>\n  </tbody>\n</table>\n</div>"
     },
     "metadata": {}
    },
    {
     "output_type": "stream",
     "name": "stdout",
     "text": [
      "234\norg.apache.commons.collections.map.testcaseinsensitivemap.java\n"
     ]
    },
    {
     "output_type": "display_data",
     "data": {
      "text/plain": "                                              filename  \\\n431  org.apache.commons.collections.map.testcaseins...   \n\n                                      unprocessed_code      project  \n431  Licensed to the  Apache  Software  Foundation ...  COLLECTIONS  ",
      "text/html": "<div>\n<style scoped>\n    .dataframe tbody tr th:only-of-type {\n        vertical-align: middle;\n    }\n\n    .dataframe tbody tr th {\n        vertical-align: top;\n    }\n\n    .dataframe thead th {\n        text-align: right;\n    }\n</style>\n<table border=\"1\" class=\"dataframe\">\n  <thead>\n    <tr style=\"text-align: right;\">\n      <th></th>\n      <th>filename</th>\n      <th>unprocessed_code</th>\n      <th>project</th>\n    </tr>\n  </thead>\n  <tbody>\n    <tr>\n      <th>431</th>\n      <td>org.apache.commons.collections.map.testcaseins...</td>\n      <td>Licensed to the  Apache  Software  Foundation ...</td>\n      <td>COLLECTIONS</td>\n    </tr>\n  </tbody>\n</table>\n</div>"
     },
     "metadata": {}
    },
    {
     "output_type": "stream",
     "name": "stdout",
     "text": [
      "431\norg.apache.commons.collections.map.testlinkedmap.java\n"
     ]
    },
    {
     "output_type": "display_data",
     "data": {
      "text/plain": "                                              filename  \\\n441  org.apache.commons.collections.map.testlinkedm...   \n\n                                      unprocessed_code      project  \n441  Licensed to the  Apache  Software  Foundation ...  COLLECTIONS  ",
      "text/html": "<div>\n<style scoped>\n    .dataframe tbody tr th:only-of-type {\n        vertical-align: middle;\n    }\n\n    .dataframe tbody tr th {\n        vertical-align: top;\n    }\n\n    .dataframe thead th {\n        text-align: right;\n    }\n</style>\n<table border=\"1\" class=\"dataframe\">\n  <thead>\n    <tr style=\"text-align: right;\">\n      <th></th>\n      <th>filename</th>\n      <th>unprocessed_code</th>\n      <th>project</th>\n    </tr>\n  </thead>\n  <tbody>\n    <tr>\n      <th>441</th>\n      <td>org.apache.commons.collections.map.testlinkedm...</td>\n      <td>Licensed to the  Apache  Software  Foundation ...</td>\n      <td>COLLECTIONS</td>\n    </tr>\n  </tbody>\n</table>\n</div>"
     },
     "metadata": {}
    },
    {
     "output_type": "stream",
     "name": "stdout",
     "text": [
      "441\norg.apache.commons.collections.map.linkedmap.java\n"
     ]
    },
    {
     "output_type": "display_data",
     "data": {
      "text/plain": "                                              filename  \\\n238  org.apache.commons.collections.map.linkedmap.java   \n\n                                      unprocessed_code      project  \n238  Licensed to the  Apache  Software  Foundation ...  COLLECTIONS  ",
      "text/html": "<div>\n<style scoped>\n    .dataframe tbody tr th:only-of-type {\n        vertical-align: middle;\n    }\n\n    .dataframe tbody tr th {\n        vertical-align: top;\n    }\n\n    .dataframe thead th {\n        text-align: right;\n    }\n</style>\n<table border=\"1\" class=\"dataframe\">\n  <thead>\n    <tr style=\"text-align: right;\">\n      <th></th>\n      <th>filename</th>\n      <th>unprocessed_code</th>\n      <th>project</th>\n    </tr>\n  </thead>\n  <tbody>\n    <tr>\n      <th>238</th>\n      <td>org.apache.commons.collections.map.linkedmap.java</td>\n      <td>Licensed to the  Apache  Software  Foundation ...</td>\n      <td>COLLECTIONS</td>\n    </tr>\n  </tbody>\n</table>\n</div>"
     },
     "metadata": {}
    },
    {
     "output_type": "stream",
     "name": "stdout",
     "text": [
      "238\n[235, 221, 228, 223, 437, 438, 234, 431, 441, 238]\n['org.apache.commons.collections.maputils.java']\norg.apache.commons.collections.maputils.java\n"
     ]
    },
    {
     "output_type": "display_data",
     "data": {
      "text/plain": "                                        filename  \\\n36  org.apache.commons.collections.maputils.java   \n\n                                     unprocessed_code      project  \n36  Licensed to the  Apache  Software  Foundation ...  COLLECTIONS  ",
      "text/html": "<div>\n<style scoped>\n    .dataframe tbody tr th:only-of-type {\n        vertical-align: middle;\n    }\n\n    .dataframe tbody tr th {\n        vertical-align: top;\n    }\n\n    .dataframe thead th {\n        text-align: right;\n    }\n</style>\n<table border=\"1\" class=\"dataframe\">\n  <thead>\n    <tr style=\"text-align: right;\">\n      <th></th>\n      <th>filename</th>\n      <th>unprocessed_code</th>\n      <th>project</th>\n    </tr>\n  </thead>\n  <tbody>\n    <tr>\n      <th>36</th>\n      <td>org.apache.commons.collections.maputils.java</td>\n      <td>Licensed to the  Apache  Software  Foundation ...</td>\n      <td>COLLECTIONS</td>\n    </tr>\n  </tbody>\n</table>\n</div>"
     },
     "metadata": {}
    },
    {
     "output_type": "stream",
     "name": "stdout",
     "text": [
      "36\n[36]\n['org.apache.commons.collections.testlistutils.java'\n 'org.apache.commons.collections.testcollectionutils.java'\n 'org.apache.commons.collections.collectionutils.java']\norg.apache.commons.collections.testlistutils.java\n"
     ]
    },
    {
     "output_type": "display_data",
     "data": {
      "text/plain": "                                              filename  \\\n303  org.apache.commons.collections.testlistutils.java   \n\n                                      unprocessed_code      project  \n303  Licensed to the  Apache  Software  Foundation ...  COLLECTIONS  ",
      "text/html": "<div>\n<style scoped>\n    .dataframe tbody tr th:only-of-type {\n        vertical-align: middle;\n    }\n\n    .dataframe tbody tr th {\n        vertical-align: top;\n    }\n\n    .dataframe thead th {\n        text-align: right;\n    }\n</style>\n<table border=\"1\" class=\"dataframe\">\n  <thead>\n    <tr style=\"text-align: right;\">\n      <th></th>\n      <th>filename</th>\n      <th>unprocessed_code</th>\n      <th>project</th>\n    </tr>\n  </thead>\n  <tbody>\n    <tr>\n      <th>303</th>\n      <td>org.apache.commons.collections.testlistutils.java</td>\n      <td>Licensed to the  Apache  Software  Foundation ...</td>\n      <td>COLLECTIONS</td>\n    </tr>\n  </tbody>\n</table>\n</div>"
     },
     "metadata": {}
    },
    {
     "output_type": "stream",
     "name": "stdout",
     "text": [
      "303\norg.apache.commons.collections.testcollectionutils.java\n"
     ]
    },
    {
     "output_type": "display_data",
     "data": {
      "text/plain": "                                              filename  \\\n288  org.apache.commons.collections.testcollectionu...   \n\n                                      unprocessed_code      project  \n288  Licensed to the  Apache  Software  Foundation ...  COLLECTIONS  ",
      "text/html": "<div>\n<style scoped>\n    .dataframe tbody tr th:only-of-type {\n        vertical-align: middle;\n    }\n\n    .dataframe tbody tr th {\n        vertical-align: top;\n    }\n\n    .dataframe thead th {\n        text-align: right;\n    }\n</style>\n<table border=\"1\" class=\"dataframe\">\n  <thead>\n    <tr style=\"text-align: right;\">\n      <th></th>\n      <th>filename</th>\n      <th>unprocessed_code</th>\n      <th>project</th>\n    </tr>\n  </thead>\n  <tbody>\n    <tr>\n      <th>288</th>\n      <td>org.apache.commons.collections.testcollectionu...</td>\n      <td>Licensed to the  Apache  Software  Foundation ...</td>\n      <td>COLLECTIONS</td>\n    </tr>\n  </tbody>\n</table>\n</div>"
     },
     "metadata": {}
    },
    {
     "output_type": "stream",
     "name": "stdout",
     "text": [
      "288\norg.apache.commons.collections.collectionutils.java\n"
     ]
    },
    {
     "output_type": "display_data",
     "data": {
      "text/plain": "                                             filename  \\\n15  org.apache.commons.collections.collectionutils...   \n\n                                     unprocessed_code      project  \n15  Licensed to the  Apache  Software  Foundation ...  COLLECTIONS  ",
      "text/html": "<div>\n<style scoped>\n    .dataframe tbody tr th:only-of-type {\n        vertical-align: middle;\n    }\n\n    .dataframe tbody tr th {\n        vertical-align: top;\n    }\n\n    .dataframe thead th {\n        text-align: right;\n    }\n</style>\n<table border=\"1\" class=\"dataframe\">\n  <thead>\n    <tr style=\"text-align: right;\">\n      <th></th>\n      <th>filename</th>\n      <th>unprocessed_code</th>\n      <th>project</th>\n    </tr>\n  </thead>\n  <tbody>\n    <tr>\n      <th>15</th>\n      <td>org.apache.commons.collections.collectionutils...</td>\n      <td>Licensed to the  Apache  Software  Foundation ...</td>\n      <td>COLLECTIONS</td>\n    </tr>\n  </tbody>\n</table>\n</div>"
     },
     "metadata": {}
    },
    {
     "output_type": "stream",
     "name": "stdout",
     "text": [
      "15\n[303, 288, 15]\n['org.apache.commons.collections.functors.prototypefactory.java'\n 'org.apache.commons.collections.factoryutils.java']\norg.apache.commons.collections.functors.prototypefactory.java\n"
     ]
    },
    {
     "output_type": "display_data",
     "data": {
      "text/plain": "                                              filename  \\\n152  org.apache.commons.collections.functors.protot...   \n\n                                      unprocessed_code      project  \n152  Licensed to the  Apache  Software  Foundation ...  COLLECTIONS  ",
      "text/html": "<div>\n<style scoped>\n    .dataframe tbody tr th:only-of-type {\n        vertical-align: middle;\n    }\n\n    .dataframe tbody tr th {\n        vertical-align: top;\n    }\n\n    .dataframe thead th {\n        text-align: right;\n    }\n</style>\n<table border=\"1\" class=\"dataframe\">\n  <thead>\n    <tr style=\"text-align: right;\">\n      <th></th>\n      <th>filename</th>\n      <th>unprocessed_code</th>\n      <th>project</th>\n    </tr>\n  </thead>\n  <tbody>\n    <tr>\n      <th>152</th>\n      <td>org.apache.commons.collections.functors.protot...</td>\n      <td>Licensed to the  Apache  Software  Foundation ...</td>\n      <td>COLLECTIONS</td>\n    </tr>\n  </tbody>\n</table>\n</div>"
     },
     "metadata": {}
    },
    {
     "output_type": "stream",
     "name": "stdout",
     "text": [
      "152\norg.apache.commons.collections.factoryutils.java\n"
     ]
    },
    {
     "output_type": "display_data",
     "data": {
      "text/plain": "                                            filename  \\\n24  org.apache.commons.collections.factoryutils.java   \n\n                                     unprocessed_code      project  \n24  Licensed to the  Apache  Software  Foundation ...  COLLECTIONS  ",
      "text/html": "<div>\n<style scoped>\n    .dataframe tbody tr th:only-of-type {\n        vertical-align: middle;\n    }\n\n    .dataframe tbody tr th {\n        vertical-align: top;\n    }\n\n    .dataframe thead th {\n        text-align: right;\n    }\n</style>\n<table border=\"1\" class=\"dataframe\">\n  <thead>\n    <tr style=\"text-align: right;\">\n      <th></th>\n      <th>filename</th>\n      <th>unprocessed_code</th>\n      <th>project</th>\n    </tr>\n  </thead>\n  <tbody>\n    <tr>\n      <th>24</th>\n      <td>org.apache.commons.collections.factoryutils.java</td>\n      <td>Licensed to the  Apache  Software  Foundation ...</td>\n      <td>COLLECTIONS</td>\n    </tr>\n  </tbody>\n</table>\n</div>"
     },
     "metadata": {}
    },
    {
     "output_type": "stream",
     "name": "stdout",
     "text": [
      "24\n[152, 24]\n['org.apache.commons.collections.transformerutils.java']\norg.apache.commons.collections.transformerutils.java\n"
     ]
    },
    {
     "output_type": "display_data",
     "data": {
      "text/plain": "                                             filename  \\\n57  org.apache.commons.collections.transformerutil...   \n\n                                     unprocessed_code      project  \n57  Licensed to the  Apache  Software  Foundation ...  COLLECTIONS  ",
      "text/html": "<div>\n<style scoped>\n    .dataframe tbody tr th:only-of-type {\n        vertical-align: middle;\n    }\n\n    .dataframe tbody tr th {\n        vertical-align: top;\n    }\n\n    .dataframe thead th {\n        text-align: right;\n    }\n</style>\n<table border=\"1\" class=\"dataframe\">\n  <thead>\n    <tr style=\"text-align: right;\">\n      <th></th>\n      <th>filename</th>\n      <th>unprocessed_code</th>\n      <th>project</th>\n    </tr>\n  </thead>\n  <tbody>\n    <tr>\n      <th>57</th>\n      <td>org.apache.commons.collections.transformerutil...</td>\n      <td>Licensed to the  Apache  Software  Foundation ...</td>\n      <td>COLLECTIONS</td>\n    </tr>\n  </tbody>\n</table>\n</div>"
     },
     "metadata": {}
    },
    {
     "output_type": "stream",
     "name": "stdout",
     "text": [
      "57\n[57]\n['org.apache.commons.collections.collectionutils.java']\norg.apache.commons.collections.collectionutils.java\n"
     ]
    },
    {
     "output_type": "display_data",
     "data": {
      "text/plain": "                                             filename  \\\n15  org.apache.commons.collections.collectionutils...   \n\n                                     unprocessed_code      project  \n15  Licensed to the  Apache  Software  Foundation ...  COLLECTIONS  ",
      "text/html": "<div>\n<style scoped>\n    .dataframe tbody tr th:only-of-type {\n        vertical-align: middle;\n    }\n\n    .dataframe tbody tr th {\n        vertical-align: top;\n    }\n\n    .dataframe thead th {\n        text-align: right;\n    }\n</style>\n<table border=\"1\" class=\"dataframe\">\n  <thead>\n    <tr style=\"text-align: right;\">\n      <th></th>\n      <th>filename</th>\n      <th>unprocessed_code</th>\n      <th>project</th>\n    </tr>\n  </thead>\n  <tbody>\n    <tr>\n      <th>15</th>\n      <td>org.apache.commons.collections.collectionutils...</td>\n      <td>Licensed to the  Apache  Software  Foundation ...</td>\n      <td>COLLECTIONS</td>\n    </tr>\n  </tbody>\n</table>\n</div>"
     },
     "metadata": {}
    },
    {
     "output_type": "stream",
     "name": "stdout",
     "text": [
      "15\n[15]\n['org.apache.commons.collections.maputils.java']\norg.apache.commons.collections.maputils.java\n"
     ]
    },
    {
     "output_type": "display_data",
     "data": {
      "text/plain": "                                        filename  \\\n36  org.apache.commons.collections.maputils.java   \n\n                                     unprocessed_code      project  \n36  Licensed to the  Apache  Software  Foundation ...  COLLECTIONS  ",
      "text/html": "<div>\n<style scoped>\n    .dataframe tbody tr th:only-of-type {\n        vertical-align: middle;\n    }\n\n    .dataframe tbody tr th {\n        vertical-align: top;\n    }\n\n    .dataframe thead th {\n        text-align: right;\n    }\n</style>\n<table border=\"1\" class=\"dataframe\">\n  <thead>\n    <tr style=\"text-align: right;\">\n      <th></th>\n      <th>filename</th>\n      <th>unprocessed_code</th>\n      <th>project</th>\n    </tr>\n  </thead>\n  <tbody>\n    <tr>\n      <th>36</th>\n      <td>org.apache.commons.collections.maputils.java</td>\n      <td>Licensed to the  Apache  Software  Foundation ...</td>\n      <td>COLLECTIONS</td>\n    </tr>\n  </tbody>\n</table>\n</div>"
     },
     "metadata": {}
    },
    {
     "output_type": "stream",
     "name": "stdout",
     "text": [
      "36\n[36]\n['org.apache.commons.collections.testlistutils.java'\n 'org.apache.commons.collections.listutils.java']\norg.apache.commons.collections.testlistutils.java\n"
     ]
    },
    {
     "output_type": "display_data",
     "data": {
      "text/plain": "                                              filename  \\\n303  org.apache.commons.collections.testlistutils.java   \n\n                                      unprocessed_code      project  \n303  Licensed to the  Apache  Software  Foundation ...  COLLECTIONS  ",
      "text/html": "<div>\n<style scoped>\n    .dataframe tbody tr th:only-of-type {\n        vertical-align: middle;\n    }\n\n    .dataframe tbody tr th {\n        vertical-align: top;\n    }\n\n    .dataframe thead th {\n        text-align: right;\n    }\n</style>\n<table border=\"1\" class=\"dataframe\">\n  <thead>\n    <tr style=\"text-align: right;\">\n      <th></th>\n      <th>filename</th>\n      <th>unprocessed_code</th>\n      <th>project</th>\n    </tr>\n  </thead>\n  <tbody>\n    <tr>\n      <th>303</th>\n      <td>org.apache.commons.collections.testlistutils.java</td>\n      <td>Licensed to the  Apache  Software  Foundation ...</td>\n      <td>COLLECTIONS</td>\n    </tr>\n  </tbody>\n</table>\n</div>"
     },
     "metadata": {}
    },
    {
     "output_type": "stream",
     "name": "stdout",
     "text": [
      "303\norg.apache.commons.collections.listutils.java\n"
     ]
    },
    {
     "output_type": "display_data",
     "data": {
      "text/plain": "                                         filename  \\\n33  org.apache.commons.collections.listutils.java   \n\n                                     unprocessed_code      project  \n33  Licensed to the  Apache  Software  Foundation ...  COLLECTIONS  ",
      "text/html": "<div>\n<style scoped>\n    .dataframe tbody tr th:only-of-type {\n        vertical-align: middle;\n    }\n\n    .dataframe tbody tr th {\n        vertical-align: top;\n    }\n\n    .dataframe thead th {\n        text-align: right;\n    }\n</style>\n<table border=\"1\" class=\"dataframe\">\n  <thead>\n    <tr style=\"text-align: right;\">\n      <th></th>\n      <th>filename</th>\n      <th>unprocessed_code</th>\n      <th>project</th>\n    </tr>\n  </thead>\n  <tbody>\n    <tr>\n      <th>33</th>\n      <td>org.apache.commons.collections.listutils.java</td>\n      <td>Licensed to the  Apache  Software  Foundation ...</td>\n      <td>COLLECTIONS</td>\n    </tr>\n  </tbody>\n</table>\n</div>"
     },
     "metadata": {}
    },
    {
     "output_type": "stream",
     "name": "stdout",
     "text": [
      "33\n[303, 33]\n['org.apache.commons.collections.set.listorderedset.java']\norg.apache.commons.collections.set.listorderedset.java\n"
     ]
    },
    {
     "output_type": "display_data",
     "data": {
      "text/plain": "                                              filename  \\\n261  org.apache.commons.collections.set.listordered...   \n\n                                      unprocessed_code      project  \n261  Licensed to the  Apache  Software  Foundation ...  COLLECTIONS  ",
      "text/html": "<div>\n<style scoped>\n    .dataframe tbody tr th:only-of-type {\n        vertical-align: middle;\n    }\n\n    .dataframe tbody tr th {\n        vertical-align: top;\n    }\n\n    .dataframe thead th {\n        text-align: right;\n    }\n</style>\n<table border=\"1\" class=\"dataframe\">\n  <thead>\n    <tr style=\"text-align: right;\">\n      <th></th>\n      <th>filename</th>\n      <th>unprocessed_code</th>\n      <th>project</th>\n    </tr>\n  </thead>\n  <tbody>\n    <tr>\n      <th>261</th>\n      <td>org.apache.commons.collections.set.listordered...</td>\n      <td>Licensed to the  Apache  Software  Foundation ...</td>\n      <td>COLLECTIONS</td>\n    </tr>\n  </tbody>\n</table>\n</div>"
     },
     "metadata": {}
    },
    {
     "output_type": "stream",
     "name": "stdout",
     "text": [
      "261\n[261]\n['org.apache.commons.collections.set.listorderedset.java']\norg.apache.commons.collections.set.listorderedset.java\n"
     ]
    },
    {
     "output_type": "display_data",
     "data": {
      "text/plain": "                                              filename  \\\n261  org.apache.commons.collections.set.listordered...   \n\n                                      unprocessed_code      project  \n261  Licensed to the  Apache  Software  Foundation ...  COLLECTIONS  ",
      "text/html": "<div>\n<style scoped>\n    .dataframe tbody tr th:only-of-type {\n        vertical-align: middle;\n    }\n\n    .dataframe tbody tr th {\n        vertical-align: top;\n    }\n\n    .dataframe thead th {\n        text-align: right;\n    }\n</style>\n<table border=\"1\" class=\"dataframe\">\n  <thead>\n    <tr style=\"text-align: right;\">\n      <th></th>\n      <th>filename</th>\n      <th>unprocessed_code</th>\n      <th>project</th>\n    </tr>\n  </thead>\n  <tbody>\n    <tr>\n      <th>261</th>\n      <td>org.apache.commons.collections.set.listordered...</td>\n      <td>Licensed to the  Apache  Software  Foundation ...</td>\n      <td>COLLECTIONS</td>\n    </tr>\n  </tbody>\n</table>\n</div>"
     },
     "metadata": {}
    },
    {
     "output_type": "stream",
     "name": "stdout",
     "text": [
      "261\n[261]\n['org.apache.commons.collections.bidimap.abstractdualbidimap.java']\norg.apache.commons.collections.bidimap.abstractdualbidimap.java\n"
     ]
    },
    {
     "output_type": "display_data",
     "data": {
      "text/plain": "                                             filename  \\\n77  org.apache.commons.collections.bidimap.abstrac...   \n\n                                     unprocessed_code      project  \n77  Licensed to the  Apache  Software  Foundation ...  COLLECTIONS  ",
      "text/html": "<div>\n<style scoped>\n    .dataframe tbody tr th:only-of-type {\n        vertical-align: middle;\n    }\n\n    .dataframe tbody tr th {\n        vertical-align: top;\n    }\n\n    .dataframe thead th {\n        text-align: right;\n    }\n</style>\n<table border=\"1\" class=\"dataframe\">\n  <thead>\n    <tr style=\"text-align: right;\">\n      <th></th>\n      <th>filename</th>\n      <th>unprocessed_code</th>\n      <th>project</th>\n    </tr>\n  </thead>\n  <tbody>\n    <tr>\n      <th>77</th>\n      <td>org.apache.commons.collections.bidimap.abstrac...</td>\n      <td>Licensed to the  Apache  Software  Foundation ...</td>\n      <td>COLLECTIONS</td>\n    </tr>\n  </tbody>\n</table>\n</div>"
     },
     "metadata": {}
    },
    {
     "output_type": "stream",
     "name": "stdout",
     "text": [
      "77\n[77]\n['org.apache.commons.collections.collectionutils.java']\norg.apache.commons.collections.collectionutils.java\n"
     ]
    },
    {
     "output_type": "display_data",
     "data": {
      "text/plain": "                                             filename  \\\n15  org.apache.commons.collections.collectionutils...   \n\n                                     unprocessed_code      project  \n15  Licensed to the  Apache  Software  Foundation ...  COLLECTIONS  ",
      "text/html": "<div>\n<style scoped>\n    .dataframe tbody tr th:only-of-type {\n        vertical-align: middle;\n    }\n\n    .dataframe tbody tr th {\n        vertical-align: top;\n    }\n\n    .dataframe thead th {\n        text-align: right;\n    }\n</style>\n<table border=\"1\" class=\"dataframe\">\n  <thead>\n    <tr style=\"text-align: right;\">\n      <th></th>\n      <th>filename</th>\n      <th>unprocessed_code</th>\n      <th>project</th>\n    </tr>\n  </thead>\n  <tbody>\n    <tr>\n      <th>15</th>\n      <td>org.apache.commons.collections.collectionutils...</td>\n      <td>Licensed to the  Apache  Software  Foundation ...</td>\n      <td>COLLECTIONS</td>\n    </tr>\n  </tbody>\n</table>\n</div>"
     },
     "metadata": {}
    },
    {
     "output_type": "stream",
     "name": "stdout",
     "text": [
      "15\n[15]\n['org.apache.commons.collections.list.abstractlinkedlist.java']\norg.apache.commons.collections.list.abstractlinkedlist.java\n"
     ]
    },
    {
     "output_type": "display_data",
     "data": {
      "text/plain": "                                              filename  \\\n206  org.apache.commons.collections.list.abstractli...   \n\n                                      unprocessed_code      project  \n206  Licensed to the  Apache  Software  Foundation ...  COLLECTIONS  ",
      "text/html": "<div>\n<style scoped>\n    .dataframe tbody tr th:only-of-type {\n        vertical-align: middle;\n    }\n\n    .dataframe tbody tr th {\n        vertical-align: top;\n    }\n\n    .dataframe thead th {\n        text-align: right;\n    }\n</style>\n<table border=\"1\" class=\"dataframe\">\n  <thead>\n    <tr style=\"text-align: right;\">\n      <th></th>\n      <th>filename</th>\n      <th>unprocessed_code</th>\n      <th>project</th>\n    </tr>\n  </thead>\n  <tbody>\n    <tr>\n      <th>206</th>\n      <td>org.apache.commons.collections.list.abstractli...</td>\n      <td>Licensed to the  Apache  Software  Foundation ...</td>\n      <td>COLLECTIONS</td>\n    </tr>\n  </tbody>\n</table>\n</div>"
     },
     "metadata": {}
    },
    {
     "output_type": "stream",
     "name": "stdout",
     "text": [
      "206\n[206]\n['org.apache.commons.collections.testlistutils.java'\n 'org.apache.commons.collections.testcollectionutils.java'\n 'org.apache.commons.collections.collectionutils.java']\norg.apache.commons.collections.testlistutils.java\n"
     ]
    },
    {
     "output_type": "display_data",
     "data": {
      "text/plain": "                                              filename  \\\n303  org.apache.commons.collections.testlistutils.java   \n\n                                      unprocessed_code      project  \n303  Licensed to the  Apache  Software  Foundation ...  COLLECTIONS  ",
      "text/html": "<div>\n<style scoped>\n    .dataframe tbody tr th:only-of-type {\n        vertical-align: middle;\n    }\n\n    .dataframe tbody tr th {\n        vertical-align: top;\n    }\n\n    .dataframe thead th {\n        text-align: right;\n    }\n</style>\n<table border=\"1\" class=\"dataframe\">\n  <thead>\n    <tr style=\"text-align: right;\">\n      <th></th>\n      <th>filename</th>\n      <th>unprocessed_code</th>\n      <th>project</th>\n    </tr>\n  </thead>\n  <tbody>\n    <tr>\n      <th>303</th>\n      <td>org.apache.commons.collections.testlistutils.java</td>\n      <td>Licensed to the  Apache  Software  Foundation ...</td>\n      <td>COLLECTIONS</td>\n    </tr>\n  </tbody>\n</table>\n</div>"
     },
     "metadata": {}
    },
    {
     "output_type": "stream",
     "name": "stdout",
     "text": [
      "303\norg.apache.commons.collections.testcollectionutils.java\n"
     ]
    },
    {
     "output_type": "display_data",
     "data": {
      "text/plain": "                                              filename  \\\n288  org.apache.commons.collections.testcollectionu...   \n\n                                      unprocessed_code      project  \n288  Licensed to the  Apache  Software  Foundation ...  COLLECTIONS  ",
      "text/html": "<div>\n<style scoped>\n    .dataframe tbody tr th:only-of-type {\n        vertical-align: middle;\n    }\n\n    .dataframe tbody tr th {\n        vertical-align: top;\n    }\n\n    .dataframe thead th {\n        text-align: right;\n    }\n</style>\n<table border=\"1\" class=\"dataframe\">\n  <thead>\n    <tr style=\"text-align: right;\">\n      <th></th>\n      <th>filename</th>\n      <th>unprocessed_code</th>\n      <th>project</th>\n    </tr>\n  </thead>\n  <tbody>\n    <tr>\n      <th>288</th>\n      <td>org.apache.commons.collections.testcollectionu...</td>\n      <td>Licensed to the  Apache  Software  Foundation ...</td>\n      <td>COLLECTIONS</td>\n    </tr>\n  </tbody>\n</table>\n</div>"
     },
     "metadata": {}
    },
    {
     "output_type": "stream",
     "name": "stdout",
     "text": [
      "288\norg.apache.commons.collections.collectionutils.java\n"
     ]
    },
    {
     "output_type": "display_data",
     "data": {
      "text/plain": "                                             filename  \\\n15  org.apache.commons.collections.collectionutils...   \n\n                                     unprocessed_code      project  \n15  Licensed to the  Apache  Software  Foundation ...  COLLECTIONS  ",
      "text/html": "<div>\n<style scoped>\n    .dataframe tbody tr th:only-of-type {\n        vertical-align: middle;\n    }\n\n    .dataframe tbody tr th {\n        vertical-align: top;\n    }\n\n    .dataframe thead th {\n        text-align: right;\n    }\n</style>\n<table border=\"1\" class=\"dataframe\">\n  <thead>\n    <tr style=\"text-align: right;\">\n      <th></th>\n      <th>filename</th>\n      <th>unprocessed_code</th>\n      <th>project</th>\n    </tr>\n  </thead>\n  <tbody>\n    <tr>\n      <th>15</th>\n      <td>org.apache.commons.collections.collectionutils...</td>\n      <td>Licensed to the  Apache  Software  Foundation ...</td>\n      <td>COLLECTIONS</td>\n    </tr>\n  </tbody>\n</table>\n</div>"
     },
     "metadata": {}
    },
    {
     "output_type": "stream",
     "name": "stdout",
     "text": [
      "15\n[303, 288, 15]\n['org.apache.commons.collections.testlistutils.java'\n 'org.apache.commons.collections.testcollectionutils.java'\n 'org.apache.commons.collections.collectionutils.java']\norg.apache.commons.collections.testlistutils.java\n"
     ]
    },
    {
     "output_type": "display_data",
     "data": {
      "text/plain": "                                              filename  \\\n303  org.apache.commons.collections.testlistutils.java   \n\n                                      unprocessed_code      project  \n303  Licensed to the  Apache  Software  Foundation ...  COLLECTIONS  ",
      "text/html": "<div>\n<style scoped>\n    .dataframe tbody tr th:only-of-type {\n        vertical-align: middle;\n    }\n\n    .dataframe tbody tr th {\n        vertical-align: top;\n    }\n\n    .dataframe thead th {\n        text-align: right;\n    }\n</style>\n<table border=\"1\" class=\"dataframe\">\n  <thead>\n    <tr style=\"text-align: right;\">\n      <th></th>\n      <th>filename</th>\n      <th>unprocessed_code</th>\n      <th>project</th>\n    </tr>\n  </thead>\n  <tbody>\n    <tr>\n      <th>303</th>\n      <td>org.apache.commons.collections.testlistutils.java</td>\n      <td>Licensed to the  Apache  Software  Foundation ...</td>\n      <td>COLLECTIONS</td>\n    </tr>\n  </tbody>\n</table>\n</div>"
     },
     "metadata": {}
    },
    {
     "output_type": "stream",
     "name": "stdout",
     "text": [
      "303\norg.apache.commons.collections.testcollectionutils.java\n"
     ]
    },
    {
     "output_type": "display_data",
     "data": {
      "text/plain": "                                              filename  \\\n288  org.apache.commons.collections.testcollectionu...   \n\n                                      unprocessed_code      project  \n288  Licensed to the  Apache  Software  Foundation ...  COLLECTIONS  ",
      "text/html": "<div>\n<style scoped>\n    .dataframe tbody tr th:only-of-type {\n        vertical-align: middle;\n    }\n\n    .dataframe tbody tr th {\n        vertical-align: top;\n    }\n\n    .dataframe thead th {\n        text-align: right;\n    }\n</style>\n<table border=\"1\" class=\"dataframe\">\n  <thead>\n    <tr style=\"text-align: right;\">\n      <th></th>\n      <th>filename</th>\n      <th>unprocessed_code</th>\n      <th>project</th>\n    </tr>\n  </thead>\n  <tbody>\n    <tr>\n      <th>288</th>\n      <td>org.apache.commons.collections.testcollectionu...</td>\n      <td>Licensed to the  Apache  Software  Foundation ...</td>\n      <td>COLLECTIONS</td>\n    </tr>\n  </tbody>\n</table>\n</div>"
     },
     "metadata": {}
    },
    {
     "output_type": "stream",
     "name": "stdout",
     "text": [
      "288\norg.apache.commons.collections.collectionutils.java\n"
     ]
    },
    {
     "output_type": "display_data",
     "data": {
      "text/plain": "                                             filename  \\\n15  org.apache.commons.collections.collectionutils...   \n\n                                     unprocessed_code      project  \n15  Licensed to the  Apache  Software  Foundation ...  COLLECTIONS  ",
      "text/html": "<div>\n<style scoped>\n    .dataframe tbody tr th:only-of-type {\n        vertical-align: middle;\n    }\n\n    .dataframe tbody tr th {\n        vertical-align: top;\n    }\n\n    .dataframe thead th {\n        text-align: right;\n    }\n</style>\n<table border=\"1\" class=\"dataframe\">\n  <thead>\n    <tr style=\"text-align: right;\">\n      <th></th>\n      <th>filename</th>\n      <th>unprocessed_code</th>\n      <th>project</th>\n    </tr>\n  </thead>\n  <tbody>\n    <tr>\n      <th>15</th>\n      <td>org.apache.commons.collections.collectionutils...</td>\n      <td>Licensed to the  Apache  Software  Foundation ...</td>\n      <td>COLLECTIONS</td>\n    </tr>\n  </tbody>\n</table>\n</div>"
     },
     "metadata": {}
    },
    {
     "output_type": "stream",
     "name": "stdout",
     "text": [
      "15\n[303, 288, 15]\n['org.apache.commons.collections.testlistutils.java'\n 'org.apache.commons.collections.testcollectionutils.java'\n 'org.apache.commons.collections.collectionutils.java']\norg.apache.commons.collections.testlistutils.java\n"
     ]
    },
    {
     "output_type": "display_data",
     "data": {
      "text/plain": "                                              filename  \\\n303  org.apache.commons.collections.testlistutils.java   \n\n                                      unprocessed_code      project  \n303  Licensed to the  Apache  Software  Foundation ...  COLLECTIONS  ",
      "text/html": "<div>\n<style scoped>\n    .dataframe tbody tr th:only-of-type {\n        vertical-align: middle;\n    }\n\n    .dataframe tbody tr th {\n        vertical-align: top;\n    }\n\n    .dataframe thead th {\n        text-align: right;\n    }\n</style>\n<table border=\"1\" class=\"dataframe\">\n  <thead>\n    <tr style=\"text-align: right;\">\n      <th></th>\n      <th>filename</th>\n      <th>unprocessed_code</th>\n      <th>project</th>\n    </tr>\n  </thead>\n  <tbody>\n    <tr>\n      <th>303</th>\n      <td>org.apache.commons.collections.testlistutils.java</td>\n      <td>Licensed to the  Apache  Software  Foundation ...</td>\n      <td>COLLECTIONS</td>\n    </tr>\n  </tbody>\n</table>\n</div>"
     },
     "metadata": {}
    },
    {
     "output_type": "stream",
     "name": "stdout",
     "text": [
      "303\norg.apache.commons.collections.testcollectionutils.java\n"
     ]
    },
    {
     "output_type": "display_data",
     "data": {
      "text/plain": "                                              filename  \\\n288  org.apache.commons.collections.testcollectionu...   \n\n                                      unprocessed_code      project  \n288  Licensed to the  Apache  Software  Foundation ...  COLLECTIONS  ",
      "text/html": "<div>\n<style scoped>\n    .dataframe tbody tr th:only-of-type {\n        vertical-align: middle;\n    }\n\n    .dataframe tbody tr th {\n        vertical-align: top;\n    }\n\n    .dataframe thead th {\n        text-align: right;\n    }\n</style>\n<table border=\"1\" class=\"dataframe\">\n  <thead>\n    <tr style=\"text-align: right;\">\n      <th></th>\n      <th>filename</th>\n      <th>unprocessed_code</th>\n      <th>project</th>\n    </tr>\n  </thead>\n  <tbody>\n    <tr>\n      <th>288</th>\n      <td>org.apache.commons.collections.testcollectionu...</td>\n      <td>Licensed to the  Apache  Software  Foundation ...</td>\n      <td>COLLECTIONS</td>\n    </tr>\n  </tbody>\n</table>\n</div>"
     },
     "metadata": {}
    },
    {
     "output_type": "stream",
     "name": "stdout",
     "text": [
      "288\norg.apache.commons.collections.collectionutils.java\n"
     ]
    },
    {
     "output_type": "display_data",
     "data": {
      "text/plain": "                                             filename  \\\n15  org.apache.commons.collections.collectionutils...   \n\n                                     unprocessed_code      project  \n15  Licensed to the  Apache  Software  Foundation ...  COLLECTIONS  ",
      "text/html": "<div>\n<style scoped>\n    .dataframe tbody tr th:only-of-type {\n        vertical-align: middle;\n    }\n\n    .dataframe tbody tr th {\n        vertical-align: top;\n    }\n\n    .dataframe thead th {\n        text-align: right;\n    }\n</style>\n<table border=\"1\" class=\"dataframe\">\n  <thead>\n    <tr style=\"text-align: right;\">\n      <th></th>\n      <th>filename</th>\n      <th>unprocessed_code</th>\n      <th>project</th>\n    </tr>\n  </thead>\n  <tbody>\n    <tr>\n      <th>15</th>\n      <td>org.apache.commons.collections.collectionutils...</td>\n      <td>Licensed to the  Apache  Software  Foundation ...</td>\n      <td>COLLECTIONS</td>\n    </tr>\n  </tbody>\n</table>\n</div>"
     },
     "metadata": {}
    },
    {
     "output_type": "stream",
     "name": "stdout",
     "text": [
      "15\n[303, 288, 15]\n['org.apache.commons.collections.map.abstractlinkedmap.java']\norg.apache.commons.collections.map.abstractlinkedmap.java\n"
     ]
    },
    {
     "output_type": "display_data",
     "data": {
      "text/plain": "                                              filename  \\\n223  org.apache.commons.collections.map.abstractlin...   \n\n                                      unprocessed_code      project  \n223  Licensed to the  Apache  Software  Foundation ...  COLLECTIONS  ",
      "text/html": "<div>\n<style scoped>\n    .dataframe tbody tr th:only-of-type {\n        vertical-align: middle;\n    }\n\n    .dataframe tbody tr th {\n        vertical-align: top;\n    }\n\n    .dataframe thead th {\n        text-align: right;\n    }\n</style>\n<table border=\"1\" class=\"dataframe\">\n  <thead>\n    <tr style=\"text-align: right;\">\n      <th></th>\n      <th>filename</th>\n      <th>unprocessed_code</th>\n      <th>project</th>\n    </tr>\n  </thead>\n  <tbody>\n    <tr>\n      <th>223</th>\n      <td>org.apache.commons.collections.map.abstractlin...</td>\n      <td>Licensed to the  Apache  Software  Foundation ...</td>\n      <td>COLLECTIONS</td>\n    </tr>\n  </tbody>\n</table>\n</div>"
     },
     "metadata": {}
    },
    {
     "output_type": "stream",
     "name": "stdout",
     "text": [
      "223\n[223]\n['org.apache.commons.collections.map.abstractlinkedmap.java']\norg.apache.commons.collections.map.abstractlinkedmap.java\n"
     ]
    },
    {
     "output_type": "display_data",
     "data": {
      "text/plain": "                                              filename  \\\n223  org.apache.commons.collections.map.abstractlin...   \n\n                                      unprocessed_code      project  \n223  Licensed to the  Apache  Software  Foundation ...  COLLECTIONS  ",
      "text/html": "<div>\n<style scoped>\n    .dataframe tbody tr th:only-of-type {\n        vertical-align: middle;\n    }\n\n    .dataframe tbody tr th {\n        vertical-align: top;\n    }\n\n    .dataframe thead th {\n        text-align: right;\n    }\n</style>\n<table border=\"1\" class=\"dataframe\">\n  <thead>\n    <tr style=\"text-align: right;\">\n      <th></th>\n      <th>filename</th>\n      <th>unprocessed_code</th>\n      <th>project</th>\n    </tr>\n  </thead>\n  <tbody>\n    <tr>\n      <th>223</th>\n      <td>org.apache.commons.collections.map.abstractlin...</td>\n      <td>Licensed to the  Apache  Software  Foundation ...</td>\n      <td>COLLECTIONS</td>\n    </tr>\n  </tbody>\n</table>\n</div>"
     },
     "metadata": {}
    },
    {
     "output_type": "stream",
     "name": "stdout",
     "text": [
      "223\n[223]\n['org.apache.commons.collections.testlistutils.java'\n 'org.apache.commons.collections.listutils.java']\norg.apache.commons.collections.testlistutils.java\n"
     ]
    },
    {
     "output_type": "display_data",
     "data": {
      "text/plain": "                                              filename  \\\n303  org.apache.commons.collections.testlistutils.java   \n\n                                      unprocessed_code      project  \n303  Licensed to the  Apache  Software  Foundation ...  COLLECTIONS  ",
      "text/html": "<div>\n<style scoped>\n    .dataframe tbody tr th:only-of-type {\n        vertical-align: middle;\n    }\n\n    .dataframe tbody tr th {\n        vertical-align: top;\n    }\n\n    .dataframe thead th {\n        text-align: right;\n    }\n</style>\n<table border=\"1\" class=\"dataframe\">\n  <thead>\n    <tr style=\"text-align: right;\">\n      <th></th>\n      <th>filename</th>\n      <th>unprocessed_code</th>\n      <th>project</th>\n    </tr>\n  </thead>\n  <tbody>\n    <tr>\n      <th>303</th>\n      <td>org.apache.commons.collections.testlistutils.java</td>\n      <td>Licensed to the  Apache  Software  Foundation ...</td>\n      <td>COLLECTIONS</td>\n    </tr>\n  </tbody>\n</table>\n</div>"
     },
     "metadata": {}
    },
    {
     "output_type": "stream",
     "name": "stdout",
     "text": [
      "303\norg.apache.commons.collections.listutils.java\n"
     ]
    },
    {
     "output_type": "display_data",
     "data": {
      "text/plain": "                                         filename  \\\n33  org.apache.commons.collections.listutils.java   \n\n                                     unprocessed_code      project  \n33  Licensed to the  Apache  Software  Foundation ...  COLLECTIONS  ",
      "text/html": "<div>\n<style scoped>\n    .dataframe tbody tr th:only-of-type {\n        vertical-align: middle;\n    }\n\n    .dataframe tbody tr th {\n        vertical-align: top;\n    }\n\n    .dataframe thead th {\n        text-align: right;\n    }\n</style>\n<table border=\"1\" class=\"dataframe\">\n  <thead>\n    <tr style=\"text-align: right;\">\n      <th></th>\n      <th>filename</th>\n      <th>unprocessed_code</th>\n      <th>project</th>\n    </tr>\n  </thead>\n  <tbody>\n    <tr>\n      <th>33</th>\n      <td>org.apache.commons.collections.listutils.java</td>\n      <td>Licensed to the  Apache  Software  Foundation ...</td>\n      <td>COLLECTIONS</td>\n    </tr>\n  </tbody>\n</table>\n</div>"
     },
     "metadata": {}
    },
    {
     "output_type": "stream",
     "name": "stdout",
     "text": [
      "33\n[303, 33]\n['org.apache.commons.collections.list.setuniquelist.java'\n 'org.apache.commons.collections.list.testsetuniquelist.java']\norg.apache.commons.collections.list.setuniquelist.java\n"
     ]
    },
    {
     "output_type": "display_data",
     "data": {
      "text/plain": "                                              filename  \\\n215  org.apache.commons.collections.list.setuniquel...   \n\n                                      unprocessed_code      project  \n215  Licensed to the  Apache  Software  Foundation ...  COLLECTIONS  ",
      "text/html": "<div>\n<style scoped>\n    .dataframe tbody tr th:only-of-type {\n        vertical-align: middle;\n    }\n\n    .dataframe tbody tr th {\n        vertical-align: top;\n    }\n\n    .dataframe thead th {\n        text-align: right;\n    }\n</style>\n<table border=\"1\" class=\"dataframe\">\n  <thead>\n    <tr style=\"text-align: right;\">\n      <th></th>\n      <th>filename</th>\n      <th>unprocessed_code</th>\n      <th>project</th>\n    </tr>\n  </thead>\n  <tbody>\n    <tr>\n      <th>215</th>\n      <td>org.apache.commons.collections.list.setuniquel...</td>\n      <td>Licensed to the  Apache  Software  Foundation ...</td>\n      <td>COLLECTIONS</td>\n    </tr>\n  </tbody>\n</table>\n</div>"
     },
     "metadata": {}
    },
    {
     "output_type": "stream",
     "name": "stdout",
     "text": [
      "215\norg.apache.commons.collections.list.testsetuniquelist.java\n"
     ]
    },
    {
     "output_type": "display_data",
     "data": {
      "text/plain": "                                              filename  \\\n420  org.apache.commons.collections.list.testsetuni...   \n\n                                      unprocessed_code      project  \n420  Licensed to the  Apache  Software  Foundation ...  COLLECTIONS  ",
      "text/html": "<div>\n<style scoped>\n    .dataframe tbody tr th:only-of-type {\n        vertical-align: middle;\n    }\n\n    .dataframe tbody tr th {\n        vertical-align: top;\n    }\n\n    .dataframe thead th {\n        text-align: right;\n    }\n</style>\n<table border=\"1\" class=\"dataframe\">\n  <thead>\n    <tr style=\"text-align: right;\">\n      <th></th>\n      <th>filename</th>\n      <th>unprocessed_code</th>\n      <th>project</th>\n    </tr>\n  </thead>\n  <tbody>\n    <tr>\n      <th>420</th>\n      <td>org.apache.commons.collections.list.testsetuni...</td>\n      <td>Licensed to the  Apache  Software  Foundation ...</td>\n      <td>COLLECTIONS</td>\n    </tr>\n  </tbody>\n</table>\n</div>"
     },
     "metadata": {}
    },
    {
     "output_type": "stream",
     "name": "stdout",
     "text": [
      "420\n[215, 420]\n['org.apache.commons.collections.listutils.java']\norg.apache.commons.collections.listutils.java\n"
     ]
    },
    {
     "output_type": "display_data",
     "data": {
      "text/plain": "                                         filename  \\\n33  org.apache.commons.collections.listutils.java   \n\n                                     unprocessed_code      project  \n33  Licensed to the  Apache  Software  Foundation ...  COLLECTIONS  ",
      "text/html": "<div>\n<style scoped>\n    .dataframe tbody tr th:only-of-type {\n        vertical-align: middle;\n    }\n\n    .dataframe tbody tr th {\n        vertical-align: top;\n    }\n\n    .dataframe thead th {\n        text-align: right;\n    }\n</style>\n<table border=\"1\" class=\"dataframe\">\n  <thead>\n    <tr style=\"text-align: right;\">\n      <th></th>\n      <th>filename</th>\n      <th>unprocessed_code</th>\n      <th>project</th>\n    </tr>\n  </thead>\n  <tbody>\n    <tr>\n      <th>33</th>\n      <td>org.apache.commons.collections.listutils.java</td>\n      <td>Licensed to the  Apache  Software  Foundation ...</td>\n      <td>COLLECTIONS</td>\n    </tr>\n  </tbody>\n</table>\n</div>"
     },
     "metadata": {}
    },
    {
     "output_type": "stream",
     "name": "stdout",
     "text": [
      "33\n[33]\n['org.apache.commons.collections.map.testcaseinsensitivemap.java'\n 'org.apache.commons.collections.map.caseinsensitivemap.java']\norg.apache.commons.collections.map.testcaseinsensitivemap.java\n"
     ]
    },
    {
     "output_type": "display_data",
     "data": {
      "text/plain": "                                              filename  \\\n431  org.apache.commons.collections.map.testcaseins...   \n\n                                      unprocessed_code      project  \n431  Licensed to the  Apache  Software  Foundation ...  COLLECTIONS  ",
      "text/html": "<div>\n<style scoped>\n    .dataframe tbody tr th:only-of-type {\n        vertical-align: middle;\n    }\n\n    .dataframe tbody tr th {\n        vertical-align: top;\n    }\n\n    .dataframe thead th {\n        text-align: right;\n    }\n</style>\n<table border=\"1\" class=\"dataframe\">\n  <thead>\n    <tr style=\"text-align: right;\">\n      <th></th>\n      <th>filename</th>\n      <th>unprocessed_code</th>\n      <th>project</th>\n    </tr>\n  </thead>\n  <tbody>\n    <tr>\n      <th>431</th>\n      <td>org.apache.commons.collections.map.testcaseins...</td>\n      <td>Licensed to the  Apache  Software  Foundation ...</td>\n      <td>COLLECTIONS</td>\n    </tr>\n  </tbody>\n</table>\n</div>"
     },
     "metadata": {}
    },
    {
     "output_type": "stream",
     "name": "stdout",
     "text": [
      "431\norg.apache.commons.collections.map.caseinsensitivemap.java\n"
     ]
    },
    {
     "output_type": "display_data",
     "data": {
      "text/plain": "                                              filename  \\\n228  org.apache.commons.collections.map.caseinsensi...   \n\n                                      unprocessed_code      project  \n228  Licensed to the  Apache  Software  Foundation ...  COLLECTIONS  ",
      "text/html": "<div>\n<style scoped>\n    .dataframe tbody tr th:only-of-type {\n        vertical-align: middle;\n    }\n\n    .dataframe tbody tr th {\n        vertical-align: top;\n    }\n\n    .dataframe thead th {\n        text-align: right;\n    }\n</style>\n<table border=\"1\" class=\"dataframe\">\n  <thead>\n    <tr style=\"text-align: right;\">\n      <th></th>\n      <th>filename</th>\n      <th>unprocessed_code</th>\n      <th>project</th>\n    </tr>\n  </thead>\n  <tbody>\n    <tr>\n      <th>228</th>\n      <td>org.apache.commons.collections.map.caseinsensi...</td>\n      <td>Licensed to the  Apache  Software  Foundation ...</td>\n      <td>COLLECTIONS</td>\n    </tr>\n  </tbody>\n</table>\n</div>"
     },
     "metadata": {}
    },
    {
     "output_type": "stream",
     "name": "stdout",
     "text": [
      "228\n[431, 228]\n['org.apache.commons.collections.testextendedproperties.java'\n 'org.apache.commons.collections.extendedproperties.java']\norg.apache.commons.collections.testextendedproperties.java\n"
     ]
    },
    {
     "output_type": "display_data",
     "data": {
      "text/plain": "                                              filename  \\\n292  org.apache.commons.collections.testextendedpro...   \n\n                                      unprocessed_code      project  \n292  Licensed to the  Apache  Software  Foundation ...  COLLECTIONS  ",
      "text/html": "<div>\n<style scoped>\n    .dataframe tbody tr th:only-of-type {\n        vertical-align: middle;\n    }\n\n    .dataframe tbody tr th {\n        vertical-align: top;\n    }\n\n    .dataframe thead th {\n        text-align: right;\n    }\n</style>\n<table border=\"1\" class=\"dataframe\">\n  <thead>\n    <tr style=\"text-align: right;\">\n      <th></th>\n      <th>filename</th>\n      <th>unprocessed_code</th>\n      <th>project</th>\n    </tr>\n  </thead>\n  <tbody>\n    <tr>\n      <th>292</th>\n      <td>org.apache.commons.collections.testextendedpro...</td>\n      <td>Licensed to the  Apache  Software  Foundation ...</td>\n      <td>COLLECTIONS</td>\n    </tr>\n  </tbody>\n</table>\n</div>"
     },
     "metadata": {}
    },
    {
     "output_type": "stream",
     "name": "stdout",
     "text": [
      "292\norg.apache.commons.collections.extendedproperties.java\n"
     ]
    },
    {
     "output_type": "display_data",
     "data": {
      "text/plain": "                                             filename  \\\n22  org.apache.commons.collections.extendedpropert...   \n\n                                     unprocessed_code      project  \n22  Licensed to the  Apache  Software  Foundation ...  COLLECTIONS  ",
      "text/html": "<div>\n<style scoped>\n    .dataframe tbody tr th:only-of-type {\n        vertical-align: middle;\n    }\n\n    .dataframe tbody tr th {\n        vertical-align: top;\n    }\n\n    .dataframe thead th {\n        text-align: right;\n    }\n</style>\n<table border=\"1\" class=\"dataframe\">\n  <thead>\n    <tr style=\"text-align: right;\">\n      <th></th>\n      <th>filename</th>\n      <th>unprocessed_code</th>\n      <th>project</th>\n    </tr>\n  </thead>\n  <tbody>\n    <tr>\n      <th>22</th>\n      <td>org.apache.commons.collections.extendedpropert...</td>\n      <td>Licensed to the  Apache  Software  Foundation ...</td>\n      <td>COLLECTIONS</td>\n    </tr>\n  </tbody>\n</table>\n</div>"
     },
     "metadata": {}
    },
    {
     "output_type": "stream",
     "name": "stdout",
     "text": [
      "22\n[292, 22]\n['org.apache.commons.collections.keyvalue.multikey.java'\n 'org.apache.commons.collections.keyvalue.testmultikey.java']\norg.apache.commons.collections.keyvalue.multikey.java\n"
     ]
    },
    {
     "output_type": "display_data",
     "data": {
      "text/plain": "                                              filename  \\\n203  org.apache.commons.collections.keyvalue.multik...   \n\n                                      unprocessed_code      project  \n203  Licensed to the  Apache  Software  Foundation ...  COLLECTIONS  ",
      "text/html": "<div>\n<style scoped>\n    .dataframe tbody tr th:only-of-type {\n        vertical-align: middle;\n    }\n\n    .dataframe tbody tr th {\n        vertical-align: top;\n    }\n\n    .dataframe thead th {\n        text-align: right;\n    }\n</style>\n<table border=\"1\" class=\"dataframe\">\n  <thead>\n    <tr style=\"text-align: right;\">\n      <th></th>\n      <th>filename</th>\n      <th>unprocessed_code</th>\n      <th>project</th>\n    </tr>\n  </thead>\n  <tbody>\n    <tr>\n      <th>203</th>\n      <td>org.apache.commons.collections.keyvalue.multik...</td>\n      <td>Licensed to the  Apache  Software  Foundation ...</td>\n      <td>COLLECTIONS</td>\n    </tr>\n  </tbody>\n</table>\n</div>"
     },
     "metadata": {}
    },
    {
     "output_type": "stream",
     "name": "stdout",
     "text": [
      "203\norg.apache.commons.collections.keyvalue.testmultikey.java\n"
     ]
    },
    {
     "output_type": "display_data",
     "data": {
      "text/plain": "                                              filename  \\\n409  org.apache.commons.collections.keyvalue.testmu...   \n\n                                      unprocessed_code      project  \n409  Licensed to the  Apache  Software  Foundation ...  COLLECTIONS  ",
      "text/html": "<div>\n<style scoped>\n    .dataframe tbody tr th:only-of-type {\n        vertical-align: middle;\n    }\n\n    .dataframe tbody tr th {\n        vertical-align: top;\n    }\n\n    .dataframe thead th {\n        text-align: right;\n    }\n</style>\n<table border=\"1\" class=\"dataframe\">\n  <thead>\n    <tr style=\"text-align: right;\">\n      <th></th>\n      <th>filename</th>\n      <th>unprocessed_code</th>\n      <th>project</th>\n    </tr>\n  </thead>\n  <tbody>\n    <tr>\n      <th>409</th>\n      <td>org.apache.commons.collections.keyvalue.testmu...</td>\n      <td>Licensed to the  Apache  Software  Foundation ...</td>\n      <td>COLLECTIONS</td>\n    </tr>\n  </tbody>\n</table>\n</div>"
     },
     "metadata": {}
    },
    {
     "output_type": "stream",
     "name": "stdout",
     "text": [
      "409\n[203, 409]\n['org.apache.commons.collections.list.setuniquelist.java'\n 'org.apache.commons.collections.list.testsetuniquelist.java']\norg.apache.commons.collections.list.setuniquelist.java\n"
     ]
    },
    {
     "output_type": "display_data",
     "data": {
      "text/plain": "                                              filename  \\\n215  org.apache.commons.collections.list.setuniquel...   \n\n                                      unprocessed_code      project  \n215  Licensed to the  Apache  Software  Foundation ...  COLLECTIONS  ",
      "text/html": "<div>\n<style scoped>\n    .dataframe tbody tr th:only-of-type {\n        vertical-align: middle;\n    }\n\n    .dataframe tbody tr th {\n        vertical-align: top;\n    }\n\n    .dataframe thead th {\n        text-align: right;\n    }\n</style>\n<table border=\"1\" class=\"dataframe\">\n  <thead>\n    <tr style=\"text-align: right;\">\n      <th></th>\n      <th>filename</th>\n      <th>unprocessed_code</th>\n      <th>project</th>\n    </tr>\n  </thead>\n  <tbody>\n    <tr>\n      <th>215</th>\n      <td>org.apache.commons.collections.list.setuniquel...</td>\n      <td>Licensed to the  Apache  Software  Foundation ...</td>\n      <td>COLLECTIONS</td>\n    </tr>\n  </tbody>\n</table>\n</div>"
     },
     "metadata": {}
    },
    {
     "output_type": "stream",
     "name": "stdout",
     "text": [
      "215\norg.apache.commons.collections.list.testsetuniquelist.java\n"
     ]
    },
    {
     "output_type": "display_data",
     "data": {
      "text/plain": "                                              filename  \\\n420  org.apache.commons.collections.list.testsetuni...   \n\n                                      unprocessed_code      project  \n420  Licensed to the  Apache  Software  Foundation ...  COLLECTIONS  ",
      "text/html": "<div>\n<style scoped>\n    .dataframe tbody tr th:only-of-type {\n        vertical-align: middle;\n    }\n\n    .dataframe tbody tr th {\n        vertical-align: top;\n    }\n\n    .dataframe thead th {\n        text-align: right;\n    }\n</style>\n<table border=\"1\" class=\"dataframe\">\n  <thead>\n    <tr style=\"text-align: right;\">\n      <th></th>\n      <th>filename</th>\n      <th>unprocessed_code</th>\n      <th>project</th>\n    </tr>\n  </thead>\n  <tbody>\n    <tr>\n      <th>420</th>\n      <td>org.apache.commons.collections.list.testsetuni...</td>\n      <td>Licensed to the  Apache  Software  Foundation ...</td>\n      <td>COLLECTIONS</td>\n    </tr>\n  </tbody>\n</table>\n</div>"
     },
     "metadata": {}
    },
    {
     "output_type": "stream",
     "name": "stdout",
     "text": [
      "420\n[215, 420]\n['org.apache.commons.collections.map.multivaluemap.java'\n 'org.apache.commons.collections.map.testmultivaluemap.java']\norg.apache.commons.collections.map.multivaluemap.java\n"
     ]
    },
    {
     "output_type": "display_data",
     "data": {
      "text/plain": "                                              filename  \\\n242  org.apache.commons.collections.map.multivaluem...   \n\n                                      unprocessed_code      project  \n242  Licensed to the  Apache  Software  Foundation ...  COLLECTIONS  ",
      "text/html": "<div>\n<style scoped>\n    .dataframe tbody tr th:only-of-type {\n        vertical-align: middle;\n    }\n\n    .dataframe tbody tr th {\n        vertical-align: top;\n    }\n\n    .dataframe thead th {\n        text-align: right;\n    }\n</style>\n<table border=\"1\" class=\"dataframe\">\n  <thead>\n    <tr style=\"text-align: right;\">\n      <th></th>\n      <th>filename</th>\n      <th>unprocessed_code</th>\n      <th>project</th>\n    </tr>\n  </thead>\n  <tbody>\n    <tr>\n      <th>242</th>\n      <td>org.apache.commons.collections.map.multivaluem...</td>\n      <td>Licensed to the  Apache  Software  Foundation ...</td>\n      <td>COLLECTIONS</td>\n    </tr>\n  </tbody>\n</table>\n</div>"
     },
     "metadata": {}
    },
    {
     "output_type": "stream",
     "name": "stdout",
     "text": [
      "242\norg.apache.commons.collections.map.testmultivaluemap.java\n"
     ]
    },
    {
     "output_type": "display_data",
     "data": {
      "text/plain": "                                              filename  \\\n446  org.apache.commons.collections.map.testmultiva...   \n\n                                      unprocessed_code      project  \n446  Licensed to the  Apache  Software  Foundation ...  COLLECTIONS  ",
      "text/html": "<div>\n<style scoped>\n    .dataframe tbody tr th:only-of-type {\n        vertical-align: middle;\n    }\n\n    .dataframe tbody tr th {\n        vertical-align: top;\n    }\n\n    .dataframe thead th {\n        text-align: right;\n    }\n</style>\n<table border=\"1\" class=\"dataframe\">\n  <thead>\n    <tr style=\"text-align: right;\">\n      <th></th>\n      <th>filename</th>\n      <th>unprocessed_code</th>\n      <th>project</th>\n    </tr>\n  </thead>\n  <tbody>\n    <tr>\n      <th>446</th>\n      <td>org.apache.commons.collections.map.testmultiva...</td>\n      <td>Licensed to the  Apache  Software  Foundation ...</td>\n      <td>COLLECTIONS</td>\n    </tr>\n  </tbody>\n</table>\n</div>"
     },
     "metadata": {}
    },
    {
     "output_type": "stream",
     "name": "stdout",
     "text": [
      "446\n[242, 446]\n['org.apache.commons.collections.bag.testtreebag.java'\n 'org.apache.commons.collections.testtreebag.java'\n 'org.apache.commons.collections.bag.treebag.java'\n 'org.apache.commons.collections.treebag.java']\norg.apache.commons.collections.bag.testtreebag.java\n"
     ]
    },
    {
     "output_type": "display_data",
     "data": {
      "text/plain": "                                              filename  \\\n325  org.apache.commons.collections.bag.testtreebag...   \n\n                                      unprocessed_code      project  \n325  Licensed to the  Apache  Software  Foundation ...  COLLECTIONS  ",
      "text/html": "<div>\n<style scoped>\n    .dataframe tbody tr th:only-of-type {\n        vertical-align: middle;\n    }\n\n    .dataframe tbody tr th {\n        vertical-align: top;\n    }\n\n    .dataframe thead th {\n        text-align: right;\n    }\n</style>\n<table border=\"1\" class=\"dataframe\">\n  <thead>\n    <tr style=\"text-align: right;\">\n      <th></th>\n      <th>filename</th>\n      <th>unprocessed_code</th>\n      <th>project</th>\n    </tr>\n  </thead>\n  <tbody>\n    <tr>\n      <th>325</th>\n      <td>org.apache.commons.collections.bag.testtreebag...</td>\n      <td>Licensed to the  Apache  Software  Foundation ...</td>\n      <td>COLLECTIONS</td>\n    </tr>\n  </tbody>\n</table>\n</div>"
     },
     "metadata": {}
    },
    {
     "output_type": "stream",
     "name": "stdout",
     "text": [
      "325\norg.apache.commons.collections.testtreebag.java\n"
     ]
    },
    {
     "output_type": "display_data",
     "data": {
      "text/plain": "                                            filename  \\\n313  org.apache.commons.collections.testtreebag.java   \n\n                                      unprocessed_code      project  \n313  Licensed to the  Apache  Software  Foundation ...  COLLECTIONS  ",
      "text/html": "<div>\n<style scoped>\n    .dataframe tbody tr th:only-of-type {\n        vertical-align: middle;\n    }\n\n    .dataframe tbody tr th {\n        vertical-align: top;\n    }\n\n    .dataframe thead th {\n        text-align: right;\n    }\n</style>\n<table border=\"1\" class=\"dataframe\">\n  <thead>\n    <tr style=\"text-align: right;\">\n      <th></th>\n      <th>filename</th>\n      <th>unprocessed_code</th>\n      <th>project</th>\n    </tr>\n  </thead>\n  <tbody>\n    <tr>\n      <th>313</th>\n      <td>org.apache.commons.collections.testtreebag.java</td>\n      <td>Licensed to the  Apache  Software  Foundation ...</td>\n      <td>COLLECTIONS</td>\n    </tr>\n  </tbody>\n</table>\n</div>"
     },
     "metadata": {}
    },
    {
     "output_type": "stream",
     "name": "stdout",
     "text": [
      "313\norg.apache.commons.collections.bag.treebag.java\n"
     ]
    },
    {
     "output_type": "display_data",
     "data": {
      "text/plain": "                                           filename  \\\n71  org.apache.commons.collections.bag.treebag.java   \n\n                                     unprocessed_code      project  \n71  Licensed to the  Apache  Software  Foundation ...  COLLECTIONS  ",
      "text/html": "<div>\n<style scoped>\n    .dataframe tbody tr th:only-of-type {\n        vertical-align: middle;\n    }\n\n    .dataframe tbody tr th {\n        vertical-align: top;\n    }\n\n    .dataframe thead th {\n        text-align: right;\n    }\n</style>\n<table border=\"1\" class=\"dataframe\">\n  <thead>\n    <tr style=\"text-align: right;\">\n      <th></th>\n      <th>filename</th>\n      <th>unprocessed_code</th>\n      <th>project</th>\n    </tr>\n  </thead>\n  <tbody>\n    <tr>\n      <th>71</th>\n      <td>org.apache.commons.collections.bag.treebag.java</td>\n      <td>Licensed to the  Apache  Software  Foundation ...</td>\n      <td>COLLECTIONS</td>\n    </tr>\n  </tbody>\n</table>\n</div>"
     },
     "metadata": {}
    },
    {
     "output_type": "stream",
     "name": "stdout",
     "text": [
      "71\norg.apache.commons.collections.treebag.java\n"
     ]
    },
    {
     "output_type": "display_data",
     "data": {
      "text/plain": "                                       filename  \\\n58  org.apache.commons.collections.treebag.java   \n\n                                     unprocessed_code      project  \n58  Licensed to the  Apache  Software  Foundation ...  COLLECTIONS  ",
      "text/html": "<div>\n<style scoped>\n    .dataframe tbody tr th:only-of-type {\n        vertical-align: middle;\n    }\n\n    .dataframe tbody tr th {\n        vertical-align: top;\n    }\n\n    .dataframe thead th {\n        text-align: right;\n    }\n</style>\n<table border=\"1\" class=\"dataframe\">\n  <thead>\n    <tr style=\"text-align: right;\">\n      <th></th>\n      <th>filename</th>\n      <th>unprocessed_code</th>\n      <th>project</th>\n    </tr>\n  </thead>\n  <tbody>\n    <tr>\n      <th>58</th>\n      <td>org.apache.commons.collections.treebag.java</td>\n      <td>Licensed to the  Apache  Software  Foundation ...</td>\n      <td>COLLECTIONS</td>\n    </tr>\n  </tbody>\n</table>\n</div>"
     },
     "metadata": {}
    },
    {
     "output_type": "stream",
     "name": "stdout",
     "text": [
      "58\n[325, 313, 71, 58]\n['org.apache.commons.collections.map.lrumap.java']\norg.apache.commons.collections.map.lrumap.java\n"
     ]
    },
    {
     "output_type": "display_data",
     "data": {
      "text/plain": "                                           filename  \\\n240  org.apache.commons.collections.map.lrumap.java   \n\n                                      unprocessed_code      project  \n240  Licensed to the  Apache  Software  Foundation ...  COLLECTIONS  ",
      "text/html": "<div>\n<style scoped>\n    .dataframe tbody tr th:only-of-type {\n        vertical-align: middle;\n    }\n\n    .dataframe tbody tr th {\n        vertical-align: top;\n    }\n\n    .dataframe thead th {\n        text-align: right;\n    }\n</style>\n<table border=\"1\" class=\"dataframe\">\n  <thead>\n    <tr style=\"text-align: right;\">\n      <th></th>\n      <th>filename</th>\n      <th>unprocessed_code</th>\n      <th>project</th>\n    </tr>\n  </thead>\n  <tbody>\n    <tr>\n      <th>240</th>\n      <td>org.apache.commons.collections.map.lrumap.java</td>\n      <td>Licensed to the  Apache  Software  Foundation ...</td>\n      <td>COLLECTIONS</td>\n    </tr>\n  </tbody>\n</table>\n</div>"
     },
     "metadata": {}
    },
    {
     "output_type": "stream",
     "name": "stdout",
     "text": [
      "240\n[240]\n['org.apache.commons.collections.list.setuniquelist.java'\n 'org.apache.commons.collections.list.testsetuniquelist.java']\norg.apache.commons.collections.list.setuniquelist.java\n"
     ]
    },
    {
     "output_type": "display_data",
     "data": {
      "text/plain": "                                              filename  \\\n215  org.apache.commons.collections.list.setuniquel...   \n\n                                      unprocessed_code      project  \n215  Licensed to the  Apache  Software  Foundation ...  COLLECTIONS  ",
      "text/html": "<div>\n<style scoped>\n    .dataframe tbody tr th:only-of-type {\n        vertical-align: middle;\n    }\n\n    .dataframe tbody tr th {\n        vertical-align: top;\n    }\n\n    .dataframe thead th {\n        text-align: right;\n    }\n</style>\n<table border=\"1\" class=\"dataframe\">\n  <thead>\n    <tr style=\"text-align: right;\">\n      <th></th>\n      <th>filename</th>\n      <th>unprocessed_code</th>\n      <th>project</th>\n    </tr>\n  </thead>\n  <tbody>\n    <tr>\n      <th>215</th>\n      <td>org.apache.commons.collections.list.setuniquel...</td>\n      <td>Licensed to the  Apache  Software  Foundation ...</td>\n      <td>COLLECTIONS</td>\n    </tr>\n  </tbody>\n</table>\n</div>"
     },
     "metadata": {}
    },
    {
     "output_type": "stream",
     "name": "stdout",
     "text": [
      "215\norg.apache.commons.collections.list.testsetuniquelist.java\n"
     ]
    },
    {
     "output_type": "display_data",
     "data": {
      "text/plain": "                                              filename  \\\n420  org.apache.commons.collections.list.testsetuni...   \n\n                                      unprocessed_code      project  \n420  Licensed to the  Apache  Software  Foundation ...  COLLECTIONS  ",
      "text/html": "<div>\n<style scoped>\n    .dataframe tbody tr th:only-of-type {\n        vertical-align: middle;\n    }\n\n    .dataframe tbody tr th {\n        vertical-align: top;\n    }\n\n    .dataframe thead th {\n        text-align: right;\n    }\n</style>\n<table border=\"1\" class=\"dataframe\">\n  <thead>\n    <tr style=\"text-align: right;\">\n      <th></th>\n      <th>filename</th>\n      <th>unprocessed_code</th>\n      <th>project</th>\n    </tr>\n  </thead>\n  <tbody>\n    <tr>\n      <th>420</th>\n      <td>org.apache.commons.collections.list.testsetuni...</td>\n      <td>Licensed to the  Apache  Software  Foundation ...</td>\n      <td>COLLECTIONS</td>\n    </tr>\n  </tbody>\n</table>\n</div>"
     },
     "metadata": {}
    },
    {
     "output_type": "stream",
     "name": "stdout",
     "text": [
      "420\n[215, 420]\n['org.apache.commons.collections.testextendedproperties.java'\n 'org.apache.commons.collections.extendedproperties.java']\norg.apache.commons.collections.testextendedproperties.java\n"
     ]
    },
    {
     "output_type": "display_data",
     "data": {
      "text/plain": "                                              filename  \\\n292  org.apache.commons.collections.testextendedpro...   \n\n                                      unprocessed_code      project  \n292  Licensed to the  Apache  Software  Foundation ...  COLLECTIONS  ",
      "text/html": "<div>\n<style scoped>\n    .dataframe tbody tr th:only-of-type {\n        vertical-align: middle;\n    }\n\n    .dataframe tbody tr th {\n        vertical-align: top;\n    }\n\n    .dataframe thead th {\n        text-align: right;\n    }\n</style>\n<table border=\"1\" class=\"dataframe\">\n  <thead>\n    <tr style=\"text-align: right;\">\n      <th></th>\n      <th>filename</th>\n      <th>unprocessed_code</th>\n      <th>project</th>\n    </tr>\n  </thead>\n  <tbody>\n    <tr>\n      <th>292</th>\n      <td>org.apache.commons.collections.testextendedpro...</td>\n      <td>Licensed to the  Apache  Software  Foundation ...</td>\n      <td>COLLECTIONS</td>\n    </tr>\n  </tbody>\n</table>\n</div>"
     },
     "metadata": {}
    },
    {
     "output_type": "stream",
     "name": "stdout",
     "text": [
      "292\norg.apache.commons.collections.extendedproperties.java\n"
     ]
    },
    {
     "output_type": "display_data",
     "data": {
      "text/plain": "                                             filename  \\\n22  org.apache.commons.collections.extendedpropert...   \n\n                                     unprocessed_code      project  \n22  Licensed to the  Apache  Software  Foundation ...  COLLECTIONS  ",
      "text/html": "<div>\n<style scoped>\n    .dataframe tbody tr th:only-of-type {\n        vertical-align: middle;\n    }\n\n    .dataframe tbody tr th {\n        vertical-align: top;\n    }\n\n    .dataframe thead th {\n        text-align: right;\n    }\n</style>\n<table border=\"1\" class=\"dataframe\">\n  <thead>\n    <tr style=\"text-align: right;\">\n      <th></th>\n      <th>filename</th>\n      <th>unprocessed_code</th>\n      <th>project</th>\n    </tr>\n  </thead>\n  <tbody>\n    <tr>\n      <th>22</th>\n      <td>org.apache.commons.collections.extendedpropert...</td>\n      <td>Licensed to the  Apache  Software  Foundation ...</td>\n      <td>COLLECTIONS</td>\n    </tr>\n  </tbody>\n</table>\n</div>"
     },
     "metadata": {}
    },
    {
     "output_type": "stream",
     "name": "stdout",
     "text": [
      "22\n[292, 22]\n['org.apache.commons.collections.maputils.java']\norg.apache.commons.collections.maputils.java\n"
     ]
    },
    {
     "output_type": "display_data",
     "data": {
      "text/plain": "                                        filename  \\\n36  org.apache.commons.collections.maputils.java   \n\n                                     unprocessed_code      project  \n36  Licensed to the  Apache  Software  Foundation ...  COLLECTIONS  ",
      "text/html": "<div>\n<style scoped>\n    .dataframe tbody tr th:only-of-type {\n        vertical-align: middle;\n    }\n\n    .dataframe tbody tr th {\n        vertical-align: top;\n    }\n\n    .dataframe thead th {\n        text-align: right;\n    }\n</style>\n<table border=\"1\" class=\"dataframe\">\n  <thead>\n    <tr style=\"text-align: right;\">\n      <th></th>\n      <th>filename</th>\n      <th>unprocessed_code</th>\n      <th>project</th>\n    </tr>\n  </thead>\n  <tbody>\n    <tr>\n      <th>36</th>\n      <td>org.apache.commons.collections.maputils.java</td>\n      <td>Licensed to the  Apache  Software  Foundation ...</td>\n      <td>COLLECTIONS</td>\n    </tr>\n  </tbody>\n</table>\n</div>"
     },
     "metadata": {}
    },
    {
     "output_type": "stream",
     "name": "stdout",
     "text": [
      "36\n[36]\n['org.apache.commons.collections.map.testcompositemap.java'\n 'org.apache.commons.collections.set.testcompositeset.java'\n 'org.apache.commons.collections.collection.compositecollection.java'\n 'org.apache.commons.collections.map.compositemap.java'\n 'org.apache.commons.collections.collection.testcompositecollection.java']\norg.apache.commons.collections.map.testcompositemap.java\n"
     ]
    },
    {
     "output_type": "display_data",
     "data": {
      "text/plain": "                                              filename  \\\n432  org.apache.commons.collections.map.testcomposi...   \n\n                                      unprocessed_code      project  \n432  Licensed to the  Apache  Software  Foundation ...  COLLECTIONS  ",
      "text/html": "<div>\n<style scoped>\n    .dataframe tbody tr th:only-of-type {\n        vertical-align: middle;\n    }\n\n    .dataframe tbody tr th {\n        vertical-align: top;\n    }\n\n    .dataframe thead th {\n        text-align: right;\n    }\n</style>\n<table border=\"1\" class=\"dataframe\">\n  <thead>\n    <tr style=\"text-align: right;\">\n      <th></th>\n      <th>filename</th>\n      <th>unprocessed_code</th>\n      <th>project</th>\n    </tr>\n  </thead>\n  <tbody>\n    <tr>\n      <th>432</th>\n      <td>org.apache.commons.collections.map.testcomposi...</td>\n      <td>Licensed to the  Apache  Software  Foundation ...</td>\n      <td>COLLECTIONS</td>\n    </tr>\n  </tbody>\n</table>\n</div>"
     },
     "metadata": {}
    },
    {
     "output_type": "stream",
     "name": "stdout",
     "text": [
      "432\norg.apache.commons.collections.set.testcompositeset.java\n"
     ]
    },
    {
     "output_type": "display_data",
     "data": {
      "text/plain": "                                              filename  \\\n461  org.apache.commons.collections.set.testcomposi...   \n\n                                      unprocessed_code      project  \n461  Licensed to the  Apache  Software  Foundation ...  COLLECTIONS  ",
      "text/html": "<div>\n<style scoped>\n    .dataframe tbody tr th:only-of-type {\n        vertical-align: middle;\n    }\n\n    .dataframe tbody tr th {\n        vertical-align: top;\n    }\n\n    .dataframe thead th {\n        text-align: right;\n    }\n</style>\n<table border=\"1\" class=\"dataframe\">\n  <thead>\n    <tr style=\"text-align: right;\">\n      <th></th>\n      <th>filename</th>\n      <th>unprocessed_code</th>\n      <th>project</th>\n    </tr>\n  </thead>\n  <tbody>\n    <tr>\n      <th>461</th>\n      <td>org.apache.commons.collections.set.testcomposi...</td>\n      <td>Licensed to the  Apache  Software  Foundation ...</td>\n      <td>COLLECTIONS</td>\n    </tr>\n  </tbody>\n</table>\n</div>"
     },
     "metadata": {}
    },
    {
     "output_type": "stream",
     "name": "stdout",
     "text": [
      "461\norg.apache.commons.collections.collection.compositecollection.java\n"
     ]
    },
    {
     "output_type": "display_data",
     "data": {
      "text/plain": "                                              filename  \\\n100  org.apache.commons.collections.collection.comp...   \n\n                                      unprocessed_code      project  \n100  Licensed to the  Apache  Software  Foundation ...  COLLECTIONS  ",
      "text/html": "<div>\n<style scoped>\n    .dataframe tbody tr th:only-of-type {\n        vertical-align: middle;\n    }\n\n    .dataframe tbody tr th {\n        vertical-align: top;\n    }\n\n    .dataframe thead th {\n        text-align: right;\n    }\n</style>\n<table border=\"1\" class=\"dataframe\">\n  <thead>\n    <tr style=\"text-align: right;\">\n      <th></th>\n      <th>filename</th>\n      <th>unprocessed_code</th>\n      <th>project</th>\n    </tr>\n  </thead>\n  <tbody>\n    <tr>\n      <th>100</th>\n      <td>org.apache.commons.collections.collection.comp...</td>\n      <td>Licensed to the  Apache  Software  Foundation ...</td>\n      <td>COLLECTIONS</td>\n    </tr>\n  </tbody>\n</table>\n</div>"
     },
     "metadata": {}
    },
    {
     "output_type": "stream",
     "name": "stdout",
     "text": [
      "100\norg.apache.commons.collections.map.compositemap.java\n"
     ]
    },
    {
     "output_type": "display_data",
     "data": {
      "text/plain": "                                              filename  \\\n229  org.apache.commons.collections.map.compositema...   \n\n                                      unprocessed_code      project  \n229  Licensed to the  Apache  Software  Foundation ...  COLLECTIONS  ",
      "text/html": "<div>\n<style scoped>\n    .dataframe tbody tr th:only-of-type {\n        vertical-align: middle;\n    }\n\n    .dataframe tbody tr th {\n        vertical-align: top;\n    }\n\n    .dataframe thead th {\n        text-align: right;\n    }\n</style>\n<table border=\"1\" class=\"dataframe\">\n  <thead>\n    <tr style=\"text-align: right;\">\n      <th></th>\n      <th>filename</th>\n      <th>unprocessed_code</th>\n      <th>project</th>\n    </tr>\n  </thead>\n  <tbody>\n    <tr>\n      <th>229</th>\n      <td>org.apache.commons.collections.map.compositema...</td>\n      <td>Licensed to the  Apache  Software  Foundation ...</td>\n      <td>COLLECTIONS</td>\n    </tr>\n  </tbody>\n</table>\n</div>"
     },
     "metadata": {}
    },
    {
     "output_type": "stream",
     "name": "stdout",
     "text": [
      "229\norg.apache.commons.collections.collection.testcompositecollection.java\n"
     ]
    },
    {
     "output_type": "display_data",
     "data": {
      "text/plain": "                                              filename  \\\n354  org.apache.commons.collections.collection.test...   \n\n                                      unprocessed_code      project  \n354  Licensed to the  Apache  Software  Foundation ...  COLLECTIONS  ",
      "text/html": "<div>\n<style scoped>\n    .dataframe tbody tr th:only-of-type {\n        vertical-align: middle;\n    }\n\n    .dataframe tbody tr th {\n        vertical-align: top;\n    }\n\n    .dataframe thead th {\n        text-align: right;\n    }\n</style>\n<table border=\"1\" class=\"dataframe\">\n  <thead>\n    <tr style=\"text-align: right;\">\n      <th></th>\n      <th>filename</th>\n      <th>unprocessed_code</th>\n      <th>project</th>\n    </tr>\n  </thead>\n  <tbody>\n    <tr>\n      <th>354</th>\n      <td>org.apache.commons.collections.collection.test...</td>\n      <td>Licensed to the  Apache  Software  Foundation ...</td>\n      <td>COLLECTIONS</td>\n    </tr>\n  </tbody>\n</table>\n</div>"
     },
     "metadata": {}
    },
    {
     "output_type": "stream",
     "name": "stdout",
     "text": [
      "354\n",
      "[432, 461, 100, 229, 354]\n",
      "['org.apache.commons.collections.buffer.testunboundedfifobuffer.java'\n",
      " 'org.apache.commons.collections.buffer.unboundedfifobuffer.java'\n",
      " 'org.apache.commons.collections.abstracttestobject.java']\n",
      "org.apache.commons.collections.buffer.testunboundedfifobuffer.java\n"
     ]
    },
    {
     "output_type": "display_data",
     "data": {
      "text/plain": "                                              filename  \\\n350  org.apache.commons.collections.buffer.testunbo...   \n\n                                      unprocessed_code      project  \n350  Licensed to the  Apache  Software  Foundation ...  COLLECTIONS  ",
      "text/html": "<div>\n<style scoped>\n    .dataframe tbody tr th:only-of-type {\n        vertical-align: middle;\n    }\n\n    .dataframe tbody tr th {\n        vertical-align: top;\n    }\n\n    .dataframe thead th {\n        text-align: right;\n    }\n</style>\n<table border=\"1\" class=\"dataframe\">\n  <thead>\n    <tr style=\"text-align: right;\">\n      <th></th>\n      <th>filename</th>\n      <th>unprocessed_code</th>\n      <th>project</th>\n    </tr>\n  </thead>\n  <tbody>\n    <tr>\n      <th>350</th>\n      <td>org.apache.commons.collections.buffer.testunbo...</td>\n      <td>Licensed to the  Apache  Software  Foundation ...</td>\n      <td>COLLECTIONS</td>\n    </tr>\n  </tbody>\n</table>\n</div>"
     },
     "metadata": {}
    },
    {
     "output_type": "stream",
     "name": "stdout",
     "text": [
      "350\norg.apache.commons.collections.buffer.unboundedfifobuffer.java\n"
     ]
    },
    {
     "output_type": "display_data",
     "data": {
      "text/plain": "                                             filename  \\\n96  org.apache.commons.collections.buffer.unbounde...   \n\n                                     unprocessed_code      project  \n96  Licensed to the  Apache  Software  Foundation ...  COLLECTIONS  ",
      "text/html": "<div>\n<style scoped>\n    .dataframe tbody tr th:only-of-type {\n        vertical-align: middle;\n    }\n\n    .dataframe tbody tr th {\n        vertical-align: top;\n    }\n\n    .dataframe thead th {\n        text-align: right;\n    }\n</style>\n<table border=\"1\" class=\"dataframe\">\n  <thead>\n    <tr style=\"text-align: right;\">\n      <th></th>\n      <th>filename</th>\n      <th>unprocessed_code</th>\n      <th>project</th>\n    </tr>\n  </thead>\n  <tbody>\n    <tr>\n      <th>96</th>\n      <td>org.apache.commons.collections.buffer.unbounde...</td>\n      <td>Licensed to the  Apache  Software  Foundation ...</td>\n      <td>COLLECTIONS</td>\n    </tr>\n  </tbody>\n</table>\n</div>"
     },
     "metadata": {}
    },
    {
     "output_type": "stream",
     "name": "stdout",
     "text": [
      "96\norg.apache.commons.collections.abstracttestobject.java\n"
     ]
    },
    {
     "output_type": "display_data",
     "data": {
      "text/plain": "                                              filename  \\\n273  org.apache.commons.collections.abstracttestobj...   \n\n                                      unprocessed_code      project  \n273  Licensed to the  Apache  Software  Foundation ...  COLLECTIONS  ",
      "text/html": "<div>\n<style scoped>\n    .dataframe tbody tr th:only-of-type {\n        vertical-align: middle;\n    }\n\n    .dataframe tbody tr th {\n        vertical-align: top;\n    }\n\n    .dataframe thead th {\n        text-align: right;\n    }\n</style>\n<table border=\"1\" class=\"dataframe\">\n  <thead>\n    <tr style=\"text-align: right;\">\n      <th></th>\n      <th>filename</th>\n      <th>unprocessed_code</th>\n      <th>project</th>\n    </tr>\n  </thead>\n  <tbody>\n    <tr>\n      <th>273</th>\n      <td>org.apache.commons.collections.abstracttestobj...</td>\n      <td>Licensed to the  Apache  Software  Foundation ...</td>\n      <td>COLLECTIONS</td>\n    </tr>\n  </tbody>\n</table>\n</div>"
     },
     "metadata": {}
    },
    {
     "output_type": "stream",
     "name": "stdout",
     "text": [
      "273\n[350, 96, 273]\n['org.apache.commons.collections.map.multivaluemap.java'\n 'org.apache.commons.collections.map.testmultivaluemap.java']\norg.apache.commons.collections.map.multivaluemap.java\n"
     ]
    },
    {
     "output_type": "display_data",
     "data": {
      "text/plain": "                                              filename  \\\n242  org.apache.commons.collections.map.multivaluem...   \n\n                                      unprocessed_code      project  \n242  Licensed to the  Apache  Software  Foundation ...  COLLECTIONS  ",
      "text/html": "<div>\n<style scoped>\n    .dataframe tbody tr th:only-of-type {\n        vertical-align: middle;\n    }\n\n    .dataframe tbody tr th {\n        vertical-align: top;\n    }\n\n    .dataframe thead th {\n        text-align: right;\n    }\n</style>\n<table border=\"1\" class=\"dataframe\">\n  <thead>\n    <tr style=\"text-align: right;\">\n      <th></th>\n      <th>filename</th>\n      <th>unprocessed_code</th>\n      <th>project</th>\n    </tr>\n  </thead>\n  <tbody>\n    <tr>\n      <th>242</th>\n      <td>org.apache.commons.collections.map.multivaluem...</td>\n      <td>Licensed to the  Apache  Software  Foundation ...</td>\n      <td>COLLECTIONS</td>\n    </tr>\n  </tbody>\n</table>\n</div>"
     },
     "metadata": {}
    },
    {
     "output_type": "stream",
     "name": "stdout",
     "text": [
      "242\norg.apache.commons.collections.map.testmultivaluemap.java\n"
     ]
    },
    {
     "output_type": "display_data",
     "data": {
      "text/plain": "                                              filename  \\\n446  org.apache.commons.collections.map.testmultiva...   \n\n                                      unprocessed_code      project  \n446  Licensed to the  Apache  Software  Foundation ...  COLLECTIONS  ",
      "text/html": "<div>\n<style scoped>\n    .dataframe tbody tr th:only-of-type {\n        vertical-align: middle;\n    }\n\n    .dataframe tbody tr th {\n        vertical-align: top;\n    }\n\n    .dataframe thead th {\n        text-align: right;\n    }\n</style>\n<table border=\"1\" class=\"dataframe\">\n  <thead>\n    <tr style=\"text-align: right;\">\n      <th></th>\n      <th>filename</th>\n      <th>unprocessed_code</th>\n      <th>project</th>\n    </tr>\n  </thead>\n  <tbody>\n    <tr>\n      <th>446</th>\n      <td>org.apache.commons.collections.map.testmultiva...</td>\n      <td>Licensed to the  Apache  Software  Foundation ...</td>\n      <td>COLLECTIONS</td>\n    </tr>\n  </tbody>\n</table>\n</div>"
     },
     "metadata": {}
    },
    {
     "output_type": "stream",
     "name": "stdout",
     "text": [
      "446\n[242, 446]\n['org.apache.commons.collections.testlistutils.java'\n 'org.apache.commons.collections.testcollectionutils.java'\n 'org.apache.commons.collections.collectionutils.java']\norg.apache.commons.collections.testlistutils.java\n"
     ]
    },
    {
     "output_type": "display_data",
     "data": {
      "text/plain": "                                              filename  \\\n303  org.apache.commons.collections.testlistutils.java   \n\n                                      unprocessed_code      project  \n303  Licensed to the  Apache  Software  Foundation ...  COLLECTIONS  ",
      "text/html": "<div>\n<style scoped>\n    .dataframe tbody tr th:only-of-type {\n        vertical-align: middle;\n    }\n\n    .dataframe tbody tr th {\n        vertical-align: top;\n    }\n\n    .dataframe thead th {\n        text-align: right;\n    }\n</style>\n<table border=\"1\" class=\"dataframe\">\n  <thead>\n    <tr style=\"text-align: right;\">\n      <th></th>\n      <th>filename</th>\n      <th>unprocessed_code</th>\n      <th>project</th>\n    </tr>\n  </thead>\n  <tbody>\n    <tr>\n      <th>303</th>\n      <td>org.apache.commons.collections.testlistutils.java</td>\n      <td>Licensed to the  Apache  Software  Foundation ...</td>\n      <td>COLLECTIONS</td>\n    </tr>\n  </tbody>\n</table>\n</div>"
     },
     "metadata": {}
    },
    {
     "output_type": "stream",
     "name": "stdout",
     "text": [
      "303\norg.apache.commons.collections.testcollectionutils.java\n"
     ]
    },
    {
     "output_type": "display_data",
     "data": {
      "text/plain": "                                              filename  \\\n288  org.apache.commons.collections.testcollectionu...   \n\n                                      unprocessed_code      project  \n288  Licensed to the  Apache  Software  Foundation ...  COLLECTIONS  ",
      "text/html": "<div>\n<style scoped>\n    .dataframe tbody tr th:only-of-type {\n        vertical-align: middle;\n    }\n\n    .dataframe tbody tr th {\n        vertical-align: top;\n    }\n\n    .dataframe thead th {\n        text-align: right;\n    }\n</style>\n<table border=\"1\" class=\"dataframe\">\n  <thead>\n    <tr style=\"text-align: right;\">\n      <th></th>\n      <th>filename</th>\n      <th>unprocessed_code</th>\n      <th>project</th>\n    </tr>\n  </thead>\n  <tbody>\n    <tr>\n      <th>288</th>\n      <td>org.apache.commons.collections.testcollectionu...</td>\n      <td>Licensed to the  Apache  Software  Foundation ...</td>\n      <td>COLLECTIONS</td>\n    </tr>\n  </tbody>\n</table>\n</div>"
     },
     "metadata": {}
    },
    {
     "output_type": "stream",
     "name": "stdout",
     "text": [
      "288\norg.apache.commons.collections.collectionutils.java\n"
     ]
    },
    {
     "output_type": "display_data",
     "data": {
      "text/plain": "                                             filename  \\\n15  org.apache.commons.collections.collectionutils...   \n\n                                     unprocessed_code      project  \n15  Licensed to the  Apache  Software  Foundation ...  COLLECTIONS  ",
      "text/html": "<div>\n<style scoped>\n    .dataframe tbody tr th:only-of-type {\n        vertical-align: middle;\n    }\n\n    .dataframe tbody tr th {\n        vertical-align: top;\n    }\n\n    .dataframe thead th {\n        text-align: right;\n    }\n</style>\n<table border=\"1\" class=\"dataframe\">\n  <thead>\n    <tr style=\"text-align: right;\">\n      <th></th>\n      <th>filename</th>\n      <th>unprocessed_code</th>\n      <th>project</th>\n    </tr>\n  </thead>\n  <tbody>\n    <tr>\n      <th>15</th>\n      <td>org.apache.commons.collections.collectionutils...</td>\n      <td>Licensed to the  Apache  Software  Foundation ...</td>\n      <td>COLLECTIONS</td>\n    </tr>\n  </tbody>\n</table>\n</div>"
     },
     "metadata": {}
    },
    {
     "output_type": "stream",
     "name": "stdout",
     "text": [
      "15\n[303, 288, 15]\n['org.apache.commons.collections.comparators.transformingcomparator.java'\n 'org.apache.commons.collections.comparators.transformingcomparatortest.java'\n 'org.apache.commons.collections.comparatorutils.java']\norg.apache.commons.collections.comparators.transformingcomparator.java\n"
     ]
    },
    {
     "output_type": "display_data",
     "data": {
      "text/plain": "                                              filename  \\\n113  org.apache.commons.collections.comparators.tra...   \n\n                                      unprocessed_code      project  \n113  Licensed to the  Apache  Software  Foundation ...  COLLECTIONS  ",
      "text/html": "<div>\n<style scoped>\n    .dataframe tbody tr th:only-of-type {\n        vertical-align: middle;\n    }\n\n    .dataframe tbody tr th {\n        vertical-align: top;\n    }\n\n    .dataframe thead th {\n        text-align: right;\n    }\n</style>\n<table border=\"1\" class=\"dataframe\">\n  <thead>\n    <tr style=\"text-align: right;\">\n      <th></th>\n      <th>filename</th>\n      <th>unprocessed_code</th>\n      <th>project</th>\n    </tr>\n  </thead>\n  <tbody>\n    <tr>\n      <th>113</th>\n      <td>org.apache.commons.collections.comparators.tra...</td>\n      <td>Licensed to the  Apache  Software  Foundation ...</td>\n      <td>COLLECTIONS</td>\n    </tr>\n  </tbody>\n</table>\n</div>"
     },
     "metadata": {}
    },
    {
     "output_type": "stream",
     "name": "stdout",
     "text": [
      "113\norg.apache.commons.collections.comparators.transformingcomparatortest.java\n"
     ]
    },
    {
     "output_type": "display_data",
     "data": {
      "text/plain": "Empty DataFrame\nColumns: [filename, unprocessed_code, project]\nIndex: []",
      "text/html": "<div>\n<style scoped>\n    .dataframe tbody tr th:only-of-type {\n        vertical-align: middle;\n    }\n\n    .dataframe tbody tr th {\n        vertical-align: top;\n    }\n\n    .dataframe thead th {\n        text-align: right;\n    }\n</style>\n<table border=\"1\" class=\"dataframe\">\n  <thead>\n    <tr style=\"text-align: right;\">\n      <th></th>\n      <th>filename</th>\n      <th>unprocessed_code</th>\n      <th>project</th>\n    </tr>\n  </thead>\n  <tbody>\n  </tbody>\n</table>\n</div>"
     },
     "metadata": {}
    },
    {
     "output_type": "stream",
     "name": "stdout",
     "text": [
      "org.apache.commons.collections.comparatorutils.java\n"
     ]
    },
    {
     "output_type": "display_data",
     "data": {
      "text/plain": "                                             filename  \\\n16  org.apache.commons.collections.comparatorutils...   \n\n                                     unprocessed_code      project  \n16  Licensed to the  Apache  Software  Foundation ...  COLLECTIONS  ",
      "text/html": "<div>\n<style scoped>\n    .dataframe tbody tr th:only-of-type {\n        vertical-align: middle;\n    }\n\n    .dataframe tbody tr th {\n        vertical-align: top;\n    }\n\n    .dataframe thead th {\n        text-align: right;\n    }\n</style>\n<table border=\"1\" class=\"dataframe\">\n  <thead>\n    <tr style=\"text-align: right;\">\n      <th></th>\n      <th>filename</th>\n      <th>unprocessed_code</th>\n      <th>project</th>\n    </tr>\n  </thead>\n  <tbody>\n    <tr>\n      <th>16</th>\n      <td>org.apache.commons.collections.comparatorutils...</td>\n      <td>Licensed to the  Apache  Software  Foundation ...</td>\n      <td>COLLECTIONS</td>\n    </tr>\n  </tbody>\n</table>\n</div>"
     },
     "metadata": {}
    },
    {
     "output_type": "stream",
     "name": "stdout",
     "text": [
      "16\n[113, -1, 16]\n['org.apache.commons.collections.set.compositesettest.java'\n 'org.apache.commons.collections.collection.compositecollectiontest.java'\n 'org.apache.commons.collections.set.emptysetmutator.java'\n 'org.apache.commons.collections.collection.compositecollection.java'\n 'org.apache.commons.collections.set.compositeset.java']\norg.apache.commons.collections.set.compositesettest.java\n"
     ]
    },
    {
     "output_type": "display_data",
     "data": {
      "text/plain": "Empty DataFrame\nColumns: [filename, unprocessed_code, project]\nIndex: []",
      "text/html": "<div>\n<style scoped>\n    .dataframe tbody tr th:only-of-type {\n        vertical-align: middle;\n    }\n\n    .dataframe tbody tr th {\n        vertical-align: top;\n    }\n\n    .dataframe thead th {\n        text-align: right;\n    }\n</style>\n<table border=\"1\" class=\"dataframe\">\n  <thead>\n    <tr style=\"text-align: right;\">\n      <th></th>\n      <th>filename</th>\n      <th>unprocessed_code</th>\n      <th>project</th>\n    </tr>\n  </thead>\n  <tbody>\n  </tbody>\n</table>\n</div>"
     },
     "metadata": {}
    },
    {
     "output_type": "stream",
     "name": "stdout",
     "text": [
      "org.apache.commons.collections.collection.compositecollectiontest.java\n"
     ]
    },
    {
     "output_type": "display_data",
     "data": {
      "text/plain": "Empty DataFrame\nColumns: [filename, unprocessed_code, project]\nIndex: []",
      "text/html": "<div>\n<style scoped>\n    .dataframe tbody tr th:only-of-type {\n        vertical-align: middle;\n    }\n\n    .dataframe tbody tr th {\n        vertical-align: top;\n    }\n\n    .dataframe thead th {\n        text-align: right;\n    }\n</style>\n<table border=\"1\" class=\"dataframe\">\n  <thead>\n    <tr style=\"text-align: right;\">\n      <th></th>\n      <th>filename</th>\n      <th>unprocessed_code</th>\n      <th>project</th>\n    </tr>\n  </thead>\n  <tbody>\n  </tbody>\n</table>\n</div>"
     },
     "metadata": {}
    },
    {
     "output_type": "stream",
     "name": "stdout",
     "text": [
      "org.apache.commons.collections.set.emptysetmutator.java\n"
     ]
    },
    {
     "output_type": "display_data",
     "data": {
      "text/plain": "Empty DataFrame\nColumns: [filename, unprocessed_code, project]\nIndex: []",
      "text/html": "<div>\n<style scoped>\n    .dataframe tbody tr th:only-of-type {\n        vertical-align: middle;\n    }\n\n    .dataframe tbody tr th {\n        vertical-align: top;\n    }\n\n    .dataframe thead th {\n        text-align: right;\n    }\n</style>\n<table border=\"1\" class=\"dataframe\">\n  <thead>\n    <tr style=\"text-align: right;\">\n      <th></th>\n      <th>filename</th>\n      <th>unprocessed_code</th>\n      <th>project</th>\n    </tr>\n  </thead>\n  <tbody>\n  </tbody>\n</table>\n</div>"
     },
     "metadata": {}
    },
    {
     "output_type": "stream",
     "name": "stdout",
     "text": [
      "org.apache.commons.collections.collection.compositecollection.java\n"
     ]
    },
    {
     "output_type": "display_data",
     "data": {
      "text/plain": "                                              filename  \\\n100  org.apache.commons.collections.collection.comp...   \n\n                                      unprocessed_code      project  \n100  Licensed to the  Apache  Software  Foundation ...  COLLECTIONS  ",
      "text/html": "<div>\n<style scoped>\n    .dataframe tbody tr th:only-of-type {\n        vertical-align: middle;\n    }\n\n    .dataframe tbody tr th {\n        vertical-align: top;\n    }\n\n    .dataframe thead th {\n        text-align: right;\n    }\n</style>\n<table border=\"1\" class=\"dataframe\">\n  <thead>\n    <tr style=\"text-align: right;\">\n      <th></th>\n      <th>filename</th>\n      <th>unprocessed_code</th>\n      <th>project</th>\n    </tr>\n  </thead>\n  <tbody>\n    <tr>\n      <th>100</th>\n      <td>org.apache.commons.collections.collection.comp...</td>\n      <td>Licensed to the  Apache  Software  Foundation ...</td>\n      <td>COLLECTIONS</td>\n    </tr>\n  </tbody>\n</table>\n</div>"
     },
     "metadata": {}
    },
    {
     "output_type": "stream",
     "name": "stdout",
     "text": [
      "100\norg.apache.commons.collections.set.compositeset.java\n"
     ]
    },
    {
     "output_type": "display_data",
     "data": {
      "text/plain": "                                              filename  \\\n260  org.apache.commons.collections.set.compositese...   \n\n                                      unprocessed_code      project  \n260  Licensed to the  Apache  Software  Foundation ...  COLLECTIONS  ",
      "text/html": "<div>\n<style scoped>\n    .dataframe tbody tr th:only-of-type {\n        vertical-align: middle;\n    }\n\n    .dataframe tbody tr th {\n        vertical-align: top;\n    }\n\n    .dataframe thead th {\n        text-align: right;\n    }\n</style>\n<table border=\"1\" class=\"dataframe\">\n  <thead>\n    <tr style=\"text-align: right;\">\n      <th></th>\n      <th>filename</th>\n      <th>unprocessed_code</th>\n      <th>project</th>\n    </tr>\n  </thead>\n  <tbody>\n    <tr>\n      <th>260</th>\n      <td>org.apache.commons.collections.set.compositese...</td>\n      <td>Licensed to the  Apache  Software  Foundation ...</td>\n      <td>COLLECTIONS</td>\n    </tr>\n  </tbody>\n</table>\n</div>"
     },
     "metadata": {}
    },
    {
     "output_type": "stream",
     "name": "stdout",
     "text": [
      "260\n[-1, -1, -1, 100, 260]\n['org.apache.commons.collections4.list.setuniquelisttest.java'\n 'org.apache.commons.collections4.list.setuniquelist.java'\n 'org.apache.commons.collections.list.setuniquelisttest.java'\n 'org.apache.commons.collections.list.setuniquelist.java']\norg.apache.commons.collections4.list.setuniquelisttest.java\n"
     ]
    },
    {
     "output_type": "display_data",
     "data": {
      "text/plain": "Empty DataFrame\nColumns: [filename, unprocessed_code, project]\nIndex: []",
      "text/html": "<div>\n<style scoped>\n    .dataframe tbody tr th:only-of-type {\n        vertical-align: middle;\n    }\n\n    .dataframe tbody tr th {\n        vertical-align: top;\n    }\n\n    .dataframe thead th {\n        text-align: right;\n    }\n</style>\n<table border=\"1\" class=\"dataframe\">\n  <thead>\n    <tr style=\"text-align: right;\">\n      <th></th>\n      <th>filename</th>\n      <th>unprocessed_code</th>\n      <th>project</th>\n    </tr>\n  </thead>\n  <tbody>\n  </tbody>\n</table>\n</div>"
     },
     "metadata": {}
    },
    {
     "output_type": "stream",
     "name": "stdout",
     "text": [
      "org.apache.commons.collections4.list.setuniquelist.java\n"
     ]
    },
    {
     "output_type": "display_data",
     "data": {
      "text/plain": "Empty DataFrame\nColumns: [filename, unprocessed_code, project]\nIndex: []",
      "text/html": "<div>\n<style scoped>\n    .dataframe tbody tr th:only-of-type {\n        vertical-align: middle;\n    }\n\n    .dataframe tbody tr th {\n        vertical-align: top;\n    }\n\n    .dataframe thead th {\n        text-align: right;\n    }\n</style>\n<table border=\"1\" class=\"dataframe\">\n  <thead>\n    <tr style=\"text-align: right;\">\n      <th></th>\n      <th>filename</th>\n      <th>unprocessed_code</th>\n      <th>project</th>\n    </tr>\n  </thead>\n  <tbody>\n  </tbody>\n</table>\n</div>"
     },
     "metadata": {}
    },
    {
     "output_type": "stream",
     "name": "stdout",
     "text": [
      "org.apache.commons.collections.list.setuniquelisttest.java\n"
     ]
    },
    {
     "output_type": "display_data",
     "data": {
      "text/plain": "Empty DataFrame\nColumns: [filename, unprocessed_code, project]\nIndex: []",
      "text/html": "<div>\n<style scoped>\n    .dataframe tbody tr th:only-of-type {\n        vertical-align: middle;\n    }\n\n    .dataframe tbody tr th {\n        vertical-align: top;\n    }\n\n    .dataframe thead th {\n        text-align: right;\n    }\n</style>\n<table border=\"1\" class=\"dataframe\">\n  <thead>\n    <tr style=\"text-align: right;\">\n      <th></th>\n      <th>filename</th>\n      <th>unprocessed_code</th>\n      <th>project</th>\n    </tr>\n  </thead>\n  <tbody>\n  </tbody>\n</table>\n</div>"
     },
     "metadata": {}
    },
    {
     "output_type": "stream",
     "name": "stdout",
     "text": [
      "org.apache.commons.collections.list.setuniquelist.java\n"
     ]
    },
    {
     "output_type": "display_data",
     "data": {
      "text/plain": "                                              filename  \\\n215  org.apache.commons.collections.list.setuniquel...   \n\n                                      unprocessed_code      project  \n215  Licensed to the  Apache  Software  Foundation ...  COLLECTIONS  ",
      "text/html": "<div>\n<style scoped>\n    .dataframe tbody tr th:only-of-type {\n        vertical-align: middle;\n    }\n\n    .dataframe tbody tr th {\n        vertical-align: top;\n    }\n\n    .dataframe thead th {\n        text-align: right;\n    }\n</style>\n<table border=\"1\" class=\"dataframe\">\n  <thead>\n    <tr style=\"text-align: right;\">\n      <th></th>\n      <th>filename</th>\n      <th>unprocessed_code</th>\n      <th>project</th>\n    </tr>\n  </thead>\n  <tbody>\n    <tr>\n      <th>215</th>\n      <td>org.apache.commons.collections.list.setuniquel...</td>\n      <td>Licensed to the  Apache  Software  Foundation ...</td>\n      <td>COLLECTIONS</td>\n    </tr>\n  </tbody>\n</table>\n</div>"
     },
     "metadata": {}
    },
    {
     "output_type": "stream",
     "name": "stdout",
     "text": [
      "215\n[-1, -1, -1, 215]\n['org.apache.commons.collections4.map.multivaluemaptest.java'\n 'org.apache.commons.collections4.map.multivaluemap.java']\norg.apache.commons.collections4.map.multivaluemaptest.java\n"
     ]
    },
    {
     "output_type": "display_data",
     "data": {
      "text/plain": "Empty DataFrame\nColumns: [filename, unprocessed_code, project]\nIndex: []",
      "text/html": "<div>\n<style scoped>\n    .dataframe tbody tr th:only-of-type {\n        vertical-align: middle;\n    }\n\n    .dataframe tbody tr th {\n        vertical-align: top;\n    }\n\n    .dataframe thead th {\n        text-align: right;\n    }\n</style>\n<table border=\"1\" class=\"dataframe\">\n  <thead>\n    <tr style=\"text-align: right;\">\n      <th></th>\n      <th>filename</th>\n      <th>unprocessed_code</th>\n      <th>project</th>\n    </tr>\n  </thead>\n  <tbody>\n  </tbody>\n</table>\n</div>"
     },
     "metadata": {}
    },
    {
     "output_type": "stream",
     "name": "stdout",
     "text": [
      "org.apache.commons.collections4.map.multivaluemap.java\n"
     ]
    },
    {
     "output_type": "display_data",
     "data": {
      "text/plain": "Empty DataFrame\nColumns: [filename, unprocessed_code, project]\nIndex: []",
      "text/html": "<div>\n<style scoped>\n    .dataframe tbody tr th:only-of-type {\n        vertical-align: middle;\n    }\n\n    .dataframe tbody tr th {\n        vertical-align: top;\n    }\n\n    .dataframe thead th {\n        text-align: right;\n    }\n</style>\n<table border=\"1\" class=\"dataframe\">\n  <thead>\n    <tr style=\"text-align: right;\">\n      <th></th>\n      <th>filename</th>\n      <th>unprocessed_code</th>\n      <th>project</th>\n    </tr>\n  </thead>\n  <tbody>\n  </tbody>\n</table>\n</div>"
     },
     "metadata": {}
    },
    {
     "output_type": "stream",
     "name": "stdout",
     "text": [
      "[-1, -1]\n['org.apache.commons.collections.bag.testtransformedbag.java'\n 'org.apache.commons.collections.setutils.java'\n 'org.apache.commons.collections.set.testtransformedset.java'\n 'org.apache.commons.collections.bufferutils.java'\n 'org.apache.commons.collections.bag.transformedsortedbag.java'\n 'org.apache.commons.collections.bag.transformedbag.java'\n 'org.apache.commons.collections.list.transformedlist.java'\n 'org.apache.commons.collections.listutils.java'\n 'org.apache.commons.collections.buffer.testtransformedbuffer.java'\n 'org.apache.commons.collections.collection.transformedcollection.java'\n 'org.apache.commons.collections.set.testtransformedsortedset.java'\n 'org.apache.commons.collections.set.transformedsortedset.java'\n 'org.apache.commons.collections.buffer.transformedbuffer.java'\n 'org.apache.commons.collections.list.testtransformedlist.java'\n 'org.apache.commons.collections.collectionutils.java'\n 'org.apache.commons.collections.bagutils.java'\n 'org.apache.commons.collections.set.transformedset.java'\n 'org.apache.commons.collections.collection.testtransformedcollection.java'\n 'org.apache.commons.collections.bag.testtransformedsortedbag.java']\norg.apache.commons.collections.bag.testtransformedbag.java\n"
     ]
    },
    {
     "output_type": "display_data",
     "data": {
      "text/plain": "                                              filename  \\\n323  org.apache.commons.collections.bag.testtransfo...   \n\n                                      unprocessed_code      project  \n323  Licensed to the  Apache  Software  Foundation ...  COLLECTIONS  ",
      "text/html": "<div>\n<style scoped>\n    .dataframe tbody tr th:only-of-type {\n        vertical-align: middle;\n    }\n\n    .dataframe tbody tr th {\n        vertical-align: top;\n    }\n\n    .dataframe thead th {\n        text-align: right;\n    }\n</style>\n<table border=\"1\" class=\"dataframe\">\n  <thead>\n    <tr style=\"text-align: right;\">\n      <th></th>\n      <th>filename</th>\n      <th>unprocessed_code</th>\n      <th>project</th>\n    </tr>\n  </thead>\n  <tbody>\n    <tr>\n      <th>323</th>\n      <td>org.apache.commons.collections.bag.testtransfo...</td>\n      <td>Licensed to the  Apache  Software  Foundation ...</td>\n      <td>COLLECTIONS</td>\n    </tr>\n  </tbody>\n</table>\n</div>"
     },
     "metadata": {}
    },
    {
     "output_type": "stream",
     "name": "stdout",
     "text": [
      "323\norg.apache.commons.collections.setutils.java\n"
     ]
    },
    {
     "output_type": "display_data",
     "data": {
      "text/plain": "                                        filename  \\\n51  org.apache.commons.collections.setutils.java   \n\n                                     unprocessed_code      project  \n51  Licensed to the  Apache  Software  Foundation ...  COLLECTIONS  ",
      "text/html": "<div>\n<style scoped>\n    .dataframe tbody tr th:only-of-type {\n        vertical-align: middle;\n    }\n\n    .dataframe tbody tr th {\n        vertical-align: top;\n    }\n\n    .dataframe thead th {\n        text-align: right;\n    }\n</style>\n<table border=\"1\" class=\"dataframe\">\n  <thead>\n    <tr style=\"text-align: right;\">\n      <th></th>\n      <th>filename</th>\n      <th>unprocessed_code</th>\n      <th>project</th>\n    </tr>\n  </thead>\n  <tbody>\n    <tr>\n      <th>51</th>\n      <td>org.apache.commons.collections.setutils.java</td>\n      <td>Licensed to the  Apache  Software  Foundation ...</td>\n      <td>COLLECTIONS</td>\n    </tr>\n  </tbody>\n</table>\n</div>"
     },
     "metadata": {}
    },
    {
     "output_type": "stream",
     "name": "stdout",
     "text": [
      "51\norg.apache.commons.collections.set.testtransformedset.java\n"
     ]
    },
    {
     "output_type": "display_data",
     "data": {
      "text/plain": "                                              filename  \\\n470  org.apache.commons.collections.set.testtransfo...   \n\n                                      unprocessed_code      project  \n470  Licensed to the  Apache  Software  Foundation ...  COLLECTIONS  ",
      "text/html": "<div>\n<style scoped>\n    .dataframe tbody tr th:only-of-type {\n        vertical-align: middle;\n    }\n\n    .dataframe tbody tr th {\n        vertical-align: top;\n    }\n\n    .dataframe thead th {\n        text-align: right;\n    }\n</style>\n<table border=\"1\" class=\"dataframe\">\n  <thead>\n    <tr style=\"text-align: right;\">\n      <th></th>\n      <th>filename</th>\n      <th>unprocessed_code</th>\n      <th>project</th>\n    </tr>\n  </thead>\n  <tbody>\n    <tr>\n      <th>470</th>\n      <td>org.apache.commons.collections.set.testtransfo...</td>\n      <td>Licensed to the  Apache  Software  Foundation ...</td>\n      <td>COLLECTIONS</td>\n    </tr>\n  </tbody>\n</table>\n</div>"
     },
     "metadata": {}
    },
    {
     "output_type": "stream",
     "name": "stdout",
     "text": [
      "470\norg.apache.commons.collections.bufferutils.java\n"
     ]
    },
    {
     "output_type": "display_data",
     "data": {
      "text/plain": "                                           filename  \\\n12  org.apache.commons.collections.bufferutils.java   \n\n                                     unprocessed_code      project  \n12  Licensed to the  Apache  Software  Foundation ...  COLLECTIONS  ",
      "text/html": "<div>\n<style scoped>\n    .dataframe tbody tr th:only-of-type {\n        vertical-align: middle;\n    }\n\n    .dataframe tbody tr th {\n        vertical-align: top;\n    }\n\n    .dataframe thead th {\n        text-align: right;\n    }\n</style>\n<table border=\"1\" class=\"dataframe\">\n  <thead>\n    <tr style=\"text-align: right;\">\n      <th></th>\n      <th>filename</th>\n      <th>unprocessed_code</th>\n      <th>project</th>\n    </tr>\n  </thead>\n  <tbody>\n    <tr>\n      <th>12</th>\n      <td>org.apache.commons.collections.bufferutils.java</td>\n      <td>Licensed to the  Apache  Software  Foundation ...</td>\n      <td>COLLECTIONS</td>\n    </tr>\n  </tbody>\n</table>\n</div>"
     },
     "metadata": {}
    },
    {
     "output_type": "stream",
     "name": "stdout",
     "text": [
      "12\norg.apache.commons.collections.bag.transformedsortedbag.java\n"
     ]
    },
    {
     "output_type": "display_data",
     "data": {
      "text/plain": "                                             filename  \\\n70  org.apache.commons.collections.bag.transformed...   \n\n                                     unprocessed_code      project  \n70  Licensed to the  Apache  Software  Foundation ...  COLLECTIONS  ",
      "text/html": "<div>\n<style scoped>\n    .dataframe tbody tr th:only-of-type {\n        vertical-align: middle;\n    }\n\n    .dataframe tbody tr th {\n        vertical-align: top;\n    }\n\n    .dataframe thead th {\n        text-align: right;\n    }\n</style>\n<table border=\"1\" class=\"dataframe\">\n  <thead>\n    <tr style=\"text-align: right;\">\n      <th></th>\n      <th>filename</th>\n      <th>unprocessed_code</th>\n      <th>project</th>\n    </tr>\n  </thead>\n  <tbody>\n    <tr>\n      <th>70</th>\n      <td>org.apache.commons.collections.bag.transformed...</td>\n      <td>Licensed to the  Apache  Software  Foundation ...</td>\n      <td>COLLECTIONS</td>\n    </tr>\n  </tbody>\n</table>\n</div>"
     },
     "metadata": {}
    },
    {
     "output_type": "stream",
     "name": "stdout",
     "text": [
      "70\norg.apache.commons.collections.bag.transformedbag.java\n"
     ]
    },
    {
     "output_type": "display_data",
     "data": {
      "text/plain": "                                             filename  \\\n69  org.apache.commons.collections.bag.transformed...   \n\n                                     unprocessed_code      project  \n69  Licensed to the  Apache  Software  Foundation ...  COLLECTIONS  ",
      "text/html": "<div>\n<style scoped>\n    .dataframe tbody tr th:only-of-type {\n        vertical-align: middle;\n    }\n\n    .dataframe tbody tr th {\n        vertical-align: top;\n    }\n\n    .dataframe thead th {\n        text-align: right;\n    }\n</style>\n<table border=\"1\" class=\"dataframe\">\n  <thead>\n    <tr style=\"text-align: right;\">\n      <th></th>\n      <th>filename</th>\n      <th>unprocessed_code</th>\n      <th>project</th>\n    </tr>\n  </thead>\n  <tbody>\n    <tr>\n      <th>69</th>\n      <td>org.apache.commons.collections.bag.transformed...</td>\n      <td>Licensed to the  Apache  Software  Foundation ...</td>\n      <td>COLLECTIONS</td>\n    </tr>\n  </tbody>\n</table>\n</div>"
     },
     "metadata": {}
    },
    {
     "output_type": "stream",
     "name": "stdout",
     "text": [
      "69\norg.apache.commons.collections.list.transformedlist.java\n"
     ]
    },
    {
     "output_type": "display_data",
     "data": {
      "text/plain": "                                              filename  \\\n217  org.apache.commons.collections.list.transforme...   \n\n                                      unprocessed_code      project  \n217  Licensed to the  Apache  Software  Foundation ...  COLLECTIONS  ",
      "text/html": "<div>\n<style scoped>\n    .dataframe tbody tr th:only-of-type {\n        vertical-align: middle;\n    }\n\n    .dataframe tbody tr th {\n        vertical-align: top;\n    }\n\n    .dataframe thead th {\n        text-align: right;\n    }\n</style>\n<table border=\"1\" class=\"dataframe\">\n  <thead>\n    <tr style=\"text-align: right;\">\n      <th></th>\n      <th>filename</th>\n      <th>unprocessed_code</th>\n      <th>project</th>\n    </tr>\n  </thead>\n  <tbody>\n    <tr>\n      <th>217</th>\n      <td>org.apache.commons.collections.list.transforme...</td>\n      <td>Licensed to the  Apache  Software  Foundation ...</td>\n      <td>COLLECTIONS</td>\n    </tr>\n  </tbody>\n</table>\n</div>"
     },
     "metadata": {}
    },
    {
     "output_type": "stream",
     "name": "stdout",
     "text": [
      "217\norg.apache.commons.collections.listutils.java\n"
     ]
    },
    {
     "output_type": "display_data",
     "data": {
      "text/plain": "                                         filename  \\\n33  org.apache.commons.collections.listutils.java   \n\n                                     unprocessed_code      project  \n33  Licensed to the  Apache  Software  Foundation ...  COLLECTIONS  ",
      "text/html": "<div>\n<style scoped>\n    .dataframe tbody tr th:only-of-type {\n        vertical-align: middle;\n    }\n\n    .dataframe tbody tr th {\n        vertical-align: top;\n    }\n\n    .dataframe thead th {\n        text-align: right;\n    }\n</style>\n<table border=\"1\" class=\"dataframe\">\n  <thead>\n    <tr style=\"text-align: right;\">\n      <th></th>\n      <th>filename</th>\n      <th>unprocessed_code</th>\n      <th>project</th>\n    </tr>\n  </thead>\n  <tbody>\n    <tr>\n      <th>33</th>\n      <td>org.apache.commons.collections.listutils.java</td>\n      <td>Licensed to the  Apache  Software  Foundation ...</td>\n      <td>COLLECTIONS</td>\n    </tr>\n  </tbody>\n</table>\n</div>"
     },
     "metadata": {}
    },
    {
     "output_type": "stream",
     "name": "stdout",
     "text": [
      "33\norg.apache.commons.collections.buffer.testtransformedbuffer.java\n"
     ]
    },
    {
     "output_type": "display_data",
     "data": {
      "text/plain": "                                              filename  \\\n349  org.apache.commons.collections.buffer.testtran...   \n\n                                      unprocessed_code      project  \n349  Licensed to the  Apache  Software  Foundation ...  COLLECTIONS  ",
      "text/html": "<div>\n<style scoped>\n    .dataframe tbody tr th:only-of-type {\n        vertical-align: middle;\n    }\n\n    .dataframe tbody tr th {\n        vertical-align: top;\n    }\n\n    .dataframe thead th {\n        text-align: right;\n    }\n</style>\n<table border=\"1\" class=\"dataframe\">\n  <thead>\n    <tr style=\"text-align: right;\">\n      <th></th>\n      <th>filename</th>\n      <th>unprocessed_code</th>\n      <th>project</th>\n    </tr>\n  </thead>\n  <tbody>\n    <tr>\n      <th>349</th>\n      <td>org.apache.commons.collections.buffer.testtran...</td>\n      <td>Licensed to the  Apache  Software  Foundation ...</td>\n      <td>COLLECTIONS</td>\n    </tr>\n  </tbody>\n</table>\n</div>"
     },
     "metadata": {}
    },
    {
     "output_type": "stream",
     "name": "stdout",
     "text": [
      "349\norg.apache.commons.collections.collection.transformedcollection.java\n"
     ]
    },
    {
     "output_type": "display_data",
     "data": {
      "text/plain": "                                              filename  \\\n103  org.apache.commons.collections.collection.tran...   \n\n                                      unprocessed_code      project  \n103  Licensed to the  Apache  Software  Foundation ...  COLLECTIONS  ",
      "text/html": "<div>\n<style scoped>\n    .dataframe tbody tr th:only-of-type {\n        vertical-align: middle;\n    }\n\n    .dataframe tbody tr th {\n        vertical-align: top;\n    }\n\n    .dataframe thead th {\n        text-align: right;\n    }\n</style>\n<table border=\"1\" class=\"dataframe\">\n  <thead>\n    <tr style=\"text-align: right;\">\n      <th></th>\n      <th>filename</th>\n      <th>unprocessed_code</th>\n      <th>project</th>\n    </tr>\n  </thead>\n  <tbody>\n    <tr>\n      <th>103</th>\n      <td>org.apache.commons.collections.collection.tran...</td>\n      <td>Licensed to the  Apache  Software  Foundation ...</td>\n      <td>COLLECTIONS</td>\n    </tr>\n  </tbody>\n</table>\n</div>"
     },
     "metadata": {}
    },
    {
     "output_type": "stream",
     "name": "stdout",
     "text": [
      "103\norg.apache.commons.collections.set.testtransformedsortedset.java\n"
     ]
    },
    {
     "output_type": "display_data",
     "data": {
      "text/plain": "                                              filename  \\\n471  org.apache.commons.collections.set.testtransfo...   \n\n                                      unprocessed_code      project  \n471  Licensed to the  Apache  Software  Foundation ...  COLLECTIONS  ",
      "text/html": "<div>\n<style scoped>\n    .dataframe tbody tr th:only-of-type {\n        vertical-align: middle;\n    }\n\n    .dataframe tbody tr th {\n        vertical-align: top;\n    }\n\n    .dataframe thead th {\n        text-align: right;\n    }\n</style>\n<table border=\"1\" class=\"dataframe\">\n  <thead>\n    <tr style=\"text-align: right;\">\n      <th></th>\n      <th>filename</th>\n      <th>unprocessed_code</th>\n      <th>project</th>\n    </tr>\n  </thead>\n  <tbody>\n    <tr>\n      <th>471</th>\n      <td>org.apache.commons.collections.set.testtransfo...</td>\n      <td>Licensed to the  Apache  Software  Foundation ...</td>\n      <td>COLLECTIONS</td>\n    </tr>\n  </tbody>\n</table>\n</div>"
     },
     "metadata": {}
    },
    {
     "output_type": "stream",
     "name": "stdout",
     "text": [
      "471\norg.apache.commons.collections.set.transformedsortedset.java\n"
     ]
    },
    {
     "output_type": "display_data",
     "data": {
      "text/plain": "                                              filename  \\\n268  org.apache.commons.collections.set.transformed...   \n\n                                      unprocessed_code      project  \n268  Licensed to the  Apache  Software  Foundation ...  COLLECTIONS  ",
      "text/html": "<div>\n<style scoped>\n    .dataframe tbody tr th:only-of-type {\n        vertical-align: middle;\n    }\n\n    .dataframe tbody tr th {\n        vertical-align: top;\n    }\n\n    .dataframe thead th {\n        text-align: right;\n    }\n</style>\n<table border=\"1\" class=\"dataframe\">\n  <thead>\n    <tr style=\"text-align: right;\">\n      <th></th>\n      <th>filename</th>\n      <th>unprocessed_code</th>\n      <th>project</th>\n    </tr>\n  </thead>\n  <tbody>\n    <tr>\n      <th>268</th>\n      <td>org.apache.commons.collections.set.transformed...</td>\n      <td>Licensed to the  Apache  Software  Foundation ...</td>\n      <td>COLLECTIONS</td>\n    </tr>\n  </tbody>\n</table>\n</div>"
     },
     "metadata": {}
    },
    {
     "output_type": "stream",
     "name": "stdout",
     "text": [
      "268\norg.apache.commons.collections.buffer.transformedbuffer.java\n"
     ]
    },
    {
     "output_type": "display_data",
     "data": {
      "text/plain": "                                             filename  \\\n94  org.apache.commons.collections.buffer.transfor...   \n\n                                     unprocessed_code      project  \n94  Licensed to the  Apache  Software  Foundation ...  COLLECTIONS  ",
      "text/html": "<div>\n<style scoped>\n    .dataframe tbody tr th:only-of-type {\n        vertical-align: middle;\n    }\n\n    .dataframe tbody tr th {\n        vertical-align: top;\n    }\n\n    .dataframe thead th {\n        text-align: right;\n    }\n</style>\n<table border=\"1\" class=\"dataframe\">\n  <thead>\n    <tr style=\"text-align: right;\">\n      <th></th>\n      <th>filename</th>\n      <th>unprocessed_code</th>\n      <th>project</th>\n    </tr>\n  </thead>\n  <tbody>\n    <tr>\n      <th>94</th>\n      <td>org.apache.commons.collections.buffer.transfor...</td>\n      <td>Licensed to the  Apache  Software  Foundation ...</td>\n      <td>COLLECTIONS</td>\n    </tr>\n  </tbody>\n</table>\n</div>"
     },
     "metadata": {}
    },
    {
     "output_type": "stream",
     "name": "stdout",
     "text": [
      "94\norg.apache.commons.collections.list.testtransformedlist.java\n"
     ]
    },
    {
     "output_type": "display_data",
     "data": {
      "text/plain": "                                              filename  \\\n422  org.apache.commons.collections.list.testtransf...   \n\n                                      unprocessed_code      project  \n422  Licensed to the  Apache  Software  Foundation ...  COLLECTIONS  ",
      "text/html": "<div>\n<style scoped>\n    .dataframe tbody tr th:only-of-type {\n        vertical-align: middle;\n    }\n\n    .dataframe tbody tr th {\n        vertical-align: top;\n    }\n\n    .dataframe thead th {\n        text-align: right;\n    }\n</style>\n<table border=\"1\" class=\"dataframe\">\n  <thead>\n    <tr style=\"text-align: right;\">\n      <th></th>\n      <th>filename</th>\n      <th>unprocessed_code</th>\n      <th>project</th>\n    </tr>\n  </thead>\n  <tbody>\n    <tr>\n      <th>422</th>\n      <td>org.apache.commons.collections.list.testtransf...</td>\n      <td>Licensed to the  Apache  Software  Foundation ...</td>\n      <td>COLLECTIONS</td>\n    </tr>\n  </tbody>\n</table>\n</div>"
     },
     "metadata": {}
    },
    {
     "output_type": "stream",
     "name": "stdout",
     "text": [
      "422\norg.apache.commons.collections.collectionutils.java\n"
     ]
    },
    {
     "output_type": "display_data",
     "data": {
      "text/plain": "                                             filename  \\\n15  org.apache.commons.collections.collectionutils...   \n\n                                     unprocessed_code      project  \n15  Licensed to the  Apache  Software  Foundation ...  COLLECTIONS  ",
      "text/html": "<div>\n<style scoped>\n    .dataframe tbody tr th:only-of-type {\n        vertical-align: middle;\n    }\n\n    .dataframe tbody tr th {\n        vertical-align: top;\n    }\n\n    .dataframe thead th {\n        text-align: right;\n    }\n</style>\n<table border=\"1\" class=\"dataframe\">\n  <thead>\n    <tr style=\"text-align: right;\">\n      <th></th>\n      <th>filename</th>\n      <th>unprocessed_code</th>\n      <th>project</th>\n    </tr>\n  </thead>\n  <tbody>\n    <tr>\n      <th>15</th>\n      <td>org.apache.commons.collections.collectionutils...</td>\n      <td>Licensed to the  Apache  Software  Foundation ...</td>\n      <td>COLLECTIONS</td>\n    </tr>\n  </tbody>\n</table>\n</div>"
     },
     "metadata": {}
    },
    {
     "output_type": "stream",
     "name": "stdout",
     "text": [
      "15\norg.apache.commons.collections.bagutils.java\n"
     ]
    },
    {
     "output_type": "display_data",
     "data": {
      "text/plain": "                                       filename  \\\n2  org.apache.commons.collections.bagutils.java   \n\n                                    unprocessed_code      project  \n2  Licensed to the  Apache  Software  Foundation ...  COLLECTIONS  ",
      "text/html": "<div>\n<style scoped>\n    .dataframe tbody tr th:only-of-type {\n        vertical-align: middle;\n    }\n\n    .dataframe tbody tr th {\n        vertical-align: top;\n    }\n\n    .dataframe thead th {\n        text-align: right;\n    }\n</style>\n<table border=\"1\" class=\"dataframe\">\n  <thead>\n    <tr style=\"text-align: right;\">\n      <th></th>\n      <th>filename</th>\n      <th>unprocessed_code</th>\n      <th>project</th>\n    </tr>\n  </thead>\n  <tbody>\n    <tr>\n      <th>2</th>\n      <td>org.apache.commons.collections.bagutils.java</td>\n      <td>Licensed to the  Apache  Software  Foundation ...</td>\n      <td>COLLECTIONS</td>\n    </tr>\n  </tbody>\n</table>\n</div>"
     },
     "metadata": {}
    },
    {
     "output_type": "stream",
     "name": "stdout",
     "text": [
      "2\norg.apache.commons.collections.set.transformedset.java\n"
     ]
    },
    {
     "output_type": "display_data",
     "data": {
      "text/plain": "                                              filename  \\\n267  org.apache.commons.collections.set.transformed...   \n\n                                      unprocessed_code      project  \n267  Licensed to the  Apache  Software  Foundation ...  COLLECTIONS  ",
      "text/html": "<div>\n<style scoped>\n    .dataframe tbody tr th:only-of-type {\n        vertical-align: middle;\n    }\n\n    .dataframe tbody tr th {\n        vertical-align: top;\n    }\n\n    .dataframe thead th {\n        text-align: right;\n    }\n</style>\n<table border=\"1\" class=\"dataframe\">\n  <thead>\n    <tr style=\"text-align: right;\">\n      <th></th>\n      <th>filename</th>\n      <th>unprocessed_code</th>\n      <th>project</th>\n    </tr>\n  </thead>\n  <tbody>\n    <tr>\n      <th>267</th>\n      <td>org.apache.commons.collections.set.transformed...</td>\n      <td>Licensed to the  Apache  Software  Foundation ...</td>\n      <td>COLLECTIONS</td>\n    </tr>\n  </tbody>\n</table>\n</div>"
     },
     "metadata": {}
    },
    {
     "output_type": "stream",
     "name": "stdout",
     "text": [
      "267\norg.apache.commons.collections.collection.testtransformedcollection.java\n"
     ]
    },
    {
     "output_type": "display_data",
     "data": {
      "text/plain": "                                              filename  \\\n357  org.apache.commons.collections.collection.test...   \n\n                                      unprocessed_code      project  \n357  Licensed to the  Apache  Software  Foundation ...  COLLECTIONS  ",
      "text/html": "<div>\n<style scoped>\n    .dataframe tbody tr th:only-of-type {\n        vertical-align: middle;\n    }\n\n    .dataframe tbody tr th {\n        vertical-align: top;\n    }\n\n    .dataframe thead th {\n        text-align: right;\n    }\n</style>\n<table border=\"1\" class=\"dataframe\">\n  <thead>\n    <tr style=\"text-align: right;\">\n      <th></th>\n      <th>filename</th>\n      <th>unprocessed_code</th>\n      <th>project</th>\n    </tr>\n  </thead>\n  <tbody>\n    <tr>\n      <th>357</th>\n      <td>org.apache.commons.collections.collection.test...</td>\n      <td>Licensed to the  Apache  Software  Foundation ...</td>\n      <td>COLLECTIONS</td>\n    </tr>\n  </tbody>\n</table>\n</div>"
     },
     "metadata": {}
    },
    {
     "output_type": "stream",
     "name": "stdout",
     "text": [
      "357\norg.apache.commons.collections.bag.testtransformedsortedbag.java\n"
     ]
    },
    {
     "output_type": "display_data",
     "data": {
      "text/plain": "                                              filename  \\\n324  org.apache.commons.collections.bag.testtransfo...   \n\n                                      unprocessed_code      project  \n324  Licensed to the  Apache  Software  Foundation ...  COLLECTIONS  ",
      "text/html": "<div>\n<style scoped>\n    .dataframe tbody tr th:only-of-type {\n        vertical-align: middle;\n    }\n\n    .dataframe tbody tr th {\n        vertical-align: top;\n    }\n\n    .dataframe thead th {\n        text-align: right;\n    }\n</style>\n<table border=\"1\" class=\"dataframe\">\n  <thead>\n    <tr style=\"text-align: right;\">\n      <th></th>\n      <th>filename</th>\n      <th>unprocessed_code</th>\n      <th>project</th>\n    </tr>\n  </thead>\n  <tbody>\n    <tr>\n      <th>324</th>\n      <td>org.apache.commons.collections.bag.testtransfo...</td>\n      <td>Licensed to the  Apache  Software  Foundation ...</td>\n      <td>COLLECTIONS</td>\n    </tr>\n  </tbody>\n</table>\n</div>"
     },
     "metadata": {}
    },
    {
     "output_type": "stream",
     "name": "stdout",
     "text": [
      "324\n[323, 51, 470, 12, 70, 69, 217, 33, 349, 103, 471, 268, 94, 422, 15, 2, 267, 357, 324]\n['org.apache.commons.collections4.map.flat3map.java']\norg.apache.commons.collections4.map.flat3map.java\n"
     ]
    },
    {
     "output_type": "display_data",
     "data": {
      "text/plain": "Empty DataFrame\nColumns: [filename, unprocessed_code, project]\nIndex: []",
      "text/html": "<div>\n<style scoped>\n    .dataframe tbody tr th:only-of-type {\n        vertical-align: middle;\n    }\n\n    .dataframe tbody tr th {\n        vertical-align: top;\n    }\n\n    .dataframe thead th {\n        text-align: right;\n    }\n</style>\n<table border=\"1\" class=\"dataframe\">\n  <thead>\n    <tr style=\"text-align: right;\">\n      <th></th>\n      <th>filename</th>\n      <th>unprocessed_code</th>\n      <th>project</th>\n    </tr>\n  </thead>\n  <tbody>\n  </tbody>\n</table>\n</div>"
     },
     "metadata": {}
    },
    {
     "output_type": "stream",
     "name": "stdout",
     "text": [
      "[-1]\n['org.apache.commons.collections4.functors.switchtransformer.java'\n 'org.apache.commons.collections4.functors.switchclosure.java'\n 'org.apache.commons.collections4.functors.chainedtransformer.java'\n 'org.apache.commons.collections4.functors.chainedclosure.java'\n 'org.apache.commons.collections4.functors.instantiatetransformer.java'\n 'org.apache.commons.collections4.functors.invokertransformer.java']\norg.apache.commons.collections4.functors.switchtransformer.java\n"
     ]
    },
    {
     "output_type": "display_data",
     "data": {
      "text/plain": "Empty DataFrame\nColumns: [filename, unprocessed_code, project]\nIndex: []",
      "text/html": "<div>\n<style scoped>\n    .dataframe tbody tr th:only-of-type {\n        vertical-align: middle;\n    }\n\n    .dataframe tbody tr th {\n        vertical-align: top;\n    }\n\n    .dataframe thead th {\n        text-align: right;\n    }\n</style>\n<table border=\"1\" class=\"dataframe\">\n  <thead>\n    <tr style=\"text-align: right;\">\n      <th></th>\n      <th>filename</th>\n      <th>unprocessed_code</th>\n      <th>project</th>\n    </tr>\n  </thead>\n  <tbody>\n  </tbody>\n</table>\n</div>"
     },
     "metadata": {}
    },
    {
     "output_type": "stream",
     "name": "stdout",
     "text": [
      "org.apache.commons.collections4.functors.switchclosure.java\n"
     ]
    },
    {
     "output_type": "display_data",
     "data": {
      "text/plain": "Empty DataFrame\nColumns: [filename, unprocessed_code, project]\nIndex: []",
      "text/html": "<div>\n<style scoped>\n    .dataframe tbody tr th:only-of-type {\n        vertical-align: middle;\n    }\n\n    .dataframe tbody tr th {\n        vertical-align: top;\n    }\n\n    .dataframe thead th {\n        text-align: right;\n    }\n</style>\n<table border=\"1\" class=\"dataframe\">\n  <thead>\n    <tr style=\"text-align: right;\">\n      <th></th>\n      <th>filename</th>\n      <th>unprocessed_code</th>\n      <th>project</th>\n    </tr>\n  </thead>\n  <tbody>\n  </tbody>\n</table>\n</div>"
     },
     "metadata": {}
    },
    {
     "output_type": "stream",
     "name": "stdout",
     "text": [
      "org.apache.commons.collections4.functors.chainedtransformer.java\n"
     ]
    },
    {
     "output_type": "display_data",
     "data": {
      "text/plain": "Empty DataFrame\nColumns: [filename, unprocessed_code, project]\nIndex: []",
      "text/html": "<div>\n<style scoped>\n    .dataframe tbody tr th:only-of-type {\n        vertical-align: middle;\n    }\n\n    .dataframe tbody tr th {\n        vertical-align: top;\n    }\n\n    .dataframe thead th {\n        text-align: right;\n    }\n</style>\n<table border=\"1\" class=\"dataframe\">\n  <thead>\n    <tr style=\"text-align: right;\">\n      <th></th>\n      <th>filename</th>\n      <th>unprocessed_code</th>\n      <th>project</th>\n    </tr>\n  </thead>\n  <tbody>\n  </tbody>\n</table>\n</div>"
     },
     "metadata": {}
    },
    {
     "output_type": "stream",
     "name": "stdout",
     "text": [
      "org.apache.commons.collections4.functors.chainedclosure.java\n"
     ]
    },
    {
     "output_type": "display_data",
     "data": {
      "text/plain": "Empty DataFrame\nColumns: [filename, unprocessed_code, project]\nIndex: []",
      "text/html": "<div>\n<style scoped>\n    .dataframe tbody tr th:only-of-type {\n        vertical-align: middle;\n    }\n\n    .dataframe tbody tr th {\n        vertical-align: top;\n    }\n\n    .dataframe thead th {\n        text-align: right;\n    }\n</style>\n<table border=\"1\" class=\"dataframe\">\n  <thead>\n    <tr style=\"text-align: right;\">\n      <th></th>\n      <th>filename</th>\n      <th>unprocessed_code</th>\n      <th>project</th>\n    </tr>\n  </thead>\n  <tbody>\n  </tbody>\n</table>\n</div>"
     },
     "metadata": {}
    },
    {
     "output_type": "stream",
     "name": "stdout",
     "text": [
      "org.apache.commons.collections4.functors.instantiatetransformer.java\n"
     ]
    },
    {
     "output_type": "display_data",
     "data": {
      "text/plain": "Empty DataFrame\nColumns: [filename, unprocessed_code, project]\nIndex: []",
      "text/html": "<div>\n<style scoped>\n    .dataframe tbody tr th:only-of-type {\n        vertical-align: middle;\n    }\n\n    .dataframe tbody tr th {\n        vertical-align: top;\n    }\n\n    .dataframe thead th {\n        text-align: right;\n    }\n</style>\n<table border=\"1\" class=\"dataframe\">\n  <thead>\n    <tr style=\"text-align: right;\">\n      <th></th>\n      <th>filename</th>\n      <th>unprocessed_code</th>\n      <th>project</th>\n    </tr>\n  </thead>\n  <tbody>\n  </tbody>\n</table>\n</div>"
     },
     "metadata": {}
    },
    {
     "output_type": "stream",
     "name": "stdout",
     "text": [
      "org.apache.commons.collections4.functors.invokertransformer.java\n"
     ]
    },
    {
     "output_type": "display_data",
     "data": {
      "text/plain": "Empty DataFrame\nColumns: [filename, unprocessed_code, project]\nIndex: []",
      "text/html": "<div>\n<style scoped>\n    .dataframe tbody tr th:only-of-type {\n        vertical-align: middle;\n    }\n\n    .dataframe tbody tr th {\n        vertical-align: top;\n    }\n\n    .dataframe thead th {\n        text-align: right;\n    }\n</style>\n<table border=\"1\" class=\"dataframe\">\n  <thead>\n    <tr style=\"text-align: right;\">\n      <th></th>\n      <th>filename</th>\n      <th>unprocessed_code</th>\n      <th>project</th>\n    </tr>\n  </thead>\n  <tbody>\n  </tbody>\n</table>\n</div>"
     },
     "metadata": {}
    },
    {
     "output_type": "stream",
     "name": "stdout",
     "text": [
      "[-1, -1, -1, -1, -1, -1]\n['org.apache.commons.collections4.bag.abstractmapbag.java']\norg.apache.commons.collections4.bag.abstractmapbag.java\n"
     ]
    },
    {
     "output_type": "display_data",
     "data": {
      "text/plain": "Empty DataFrame\nColumns: [filename, unprocessed_code, project]\nIndex: []",
      "text/html": "<div>\n<style scoped>\n    .dataframe tbody tr th:only-of-type {\n        vertical-align: middle;\n    }\n\n    .dataframe tbody tr th {\n        vertical-align: top;\n    }\n\n    .dataframe thead th {\n        text-align: right;\n    }\n</style>\n<table border=\"1\" class=\"dataframe\">\n  <thead>\n    <tr style=\"text-align: right;\">\n      <th></th>\n      <th>filename</th>\n      <th>unprocessed_code</th>\n      <th>project</th>\n    </tr>\n  </thead>\n  <tbody>\n  </tbody>\n</table>\n</div>"
     },
     "metadata": {}
    },
    {
     "output_type": "stream",
     "name": "stdout",
     "text": [
      "[-1]\n['org.apache.commons.collections4.map.transformedmap.java'\n 'org.apache.commons.collections4.splitmaputilstest.java'\n 'org.apache.commons.collections4.splitmap.transformedmaptest.java'\n 'org.apache.commons.collections4.splitmap.transformedmap.java']\norg.apache.commons.collections4.map.transformedmap.java\n"
     ]
    },
    {
     "output_type": "display_data",
     "data": {
      "text/plain": "Empty DataFrame\nColumns: [filename, unprocessed_code, project]\nIndex: []",
      "text/html": "<div>\n<style scoped>\n    .dataframe tbody tr th:only-of-type {\n        vertical-align: middle;\n    }\n\n    .dataframe tbody tr th {\n        vertical-align: top;\n    }\n\n    .dataframe thead th {\n        text-align: right;\n    }\n</style>\n<table border=\"1\" class=\"dataframe\">\n  <thead>\n    <tr style=\"text-align: right;\">\n      <th></th>\n      <th>filename</th>\n      <th>unprocessed_code</th>\n      <th>project</th>\n    </tr>\n  </thead>\n  <tbody>\n  </tbody>\n</table>\n</div>"
     },
     "metadata": {}
    },
    {
     "output_type": "stream",
     "name": "stdout",
     "text": [
      "org.apache.commons.collections4.splitmaputilstest.java\n"
     ]
    },
    {
     "output_type": "display_data",
     "data": {
      "text/plain": "Empty DataFrame\nColumns: [filename, unprocessed_code, project]\nIndex: []",
      "text/html": "<div>\n<style scoped>\n    .dataframe tbody tr th:only-of-type {\n        vertical-align: middle;\n    }\n\n    .dataframe tbody tr th {\n        vertical-align: top;\n    }\n\n    .dataframe thead th {\n        text-align: right;\n    }\n</style>\n<table border=\"1\" class=\"dataframe\">\n  <thead>\n    <tr style=\"text-align: right;\">\n      <th></th>\n      <th>filename</th>\n      <th>unprocessed_code</th>\n      <th>project</th>\n    </tr>\n  </thead>\n  <tbody>\n  </tbody>\n</table>\n</div>"
     },
     "metadata": {}
    },
    {
     "output_type": "stream",
     "name": "stdout",
     "text": [
      "org.apache.commons.collections4.splitmap.transformedmaptest.java\n"
     ]
    },
    {
     "output_type": "display_data",
     "data": {
      "text/plain": "Empty DataFrame\nColumns: [filename, unprocessed_code, project]\nIndex: []",
      "text/html": "<div>\n<style scoped>\n    .dataframe tbody tr th:only-of-type {\n        vertical-align: middle;\n    }\n\n    .dataframe tbody tr th {\n        vertical-align: top;\n    }\n\n    .dataframe thead th {\n        text-align: right;\n    }\n</style>\n<table border=\"1\" class=\"dataframe\">\n  <thead>\n    <tr style=\"text-align: right;\">\n      <th></th>\n      <th>filename</th>\n      <th>unprocessed_code</th>\n      <th>project</th>\n    </tr>\n  </thead>\n  <tbody>\n  </tbody>\n</table>\n</div>"
     },
     "metadata": {}
    },
    {
     "output_type": "stream",
     "name": "stdout",
     "text": [
      "org.apache.commons.collections4.splitmap.transformedmap.java\n"
     ]
    },
    {
     "output_type": "display_data",
     "data": {
      "text/plain": "Empty DataFrame\nColumns: [filename, unprocessed_code, project]\nIndex: []",
      "text/html": "<div>\n<style scoped>\n    .dataframe tbody tr th:only-of-type {\n        vertical-align: middle;\n    }\n\n    .dataframe tbody tr th {\n        vertical-align: top;\n    }\n\n    .dataframe thead th {\n        text-align: right;\n    }\n</style>\n<table border=\"1\" class=\"dataframe\">\n  <thead>\n    <tr style=\"text-align: right;\">\n      <th></th>\n      <th>filename</th>\n      <th>unprocessed_code</th>\n      <th>project</th>\n    </tr>\n  </thead>\n  <tbody>\n  </tbody>\n</table>\n</div>"
     },
     "metadata": {}
    },
    {
     "output_type": "stream",
     "name": "stdout",
     "text": [
      "[-1, -1, -1, -1]\n['org.apache.commons.collections4.map.listorderedmap.java'\n 'org.apache.commons.collections4.map.listorderedmaptest.java']\norg.apache.commons.collections4.map.listorderedmap.java\n"
     ]
    },
    {
     "output_type": "display_data",
     "data": {
      "text/plain": "Empty DataFrame\nColumns: [filename, unprocessed_code, project]\nIndex: []",
      "text/html": "<div>\n<style scoped>\n    .dataframe tbody tr th:only-of-type {\n        vertical-align: middle;\n    }\n\n    .dataframe tbody tr th {\n        vertical-align: top;\n    }\n\n    .dataframe thead th {\n        text-align: right;\n    }\n</style>\n<table border=\"1\" class=\"dataframe\">\n  <thead>\n    <tr style=\"text-align: right;\">\n      <th></th>\n      <th>filename</th>\n      <th>unprocessed_code</th>\n      <th>project</th>\n    </tr>\n  </thead>\n  <tbody>\n  </tbody>\n</table>\n</div>"
     },
     "metadata": {}
    },
    {
     "output_type": "stream",
     "name": "stdout",
     "text": [
      "org.apache.commons.collections4.map.listorderedmaptest.java\n"
     ]
    },
    {
     "output_type": "display_data",
     "data": {
      "text/plain": "Empty DataFrame\nColumns: [filename, unprocessed_code, project]\nIndex: []",
      "text/html": "<div>\n<style scoped>\n    .dataframe tbody tr th:only-of-type {\n        vertical-align: middle;\n    }\n\n    .dataframe tbody tr th {\n        vertical-align: top;\n    }\n\n    .dataframe thead th {\n        text-align: right;\n    }\n</style>\n<table border=\"1\" class=\"dataframe\">\n  <thead>\n    <tr style=\"text-align: right;\">\n      <th></th>\n      <th>filename</th>\n      <th>unprocessed_code</th>\n      <th>project</th>\n    </tr>\n  </thead>\n  <tbody>\n  </tbody>\n</table>\n</div>"
     },
     "metadata": {}
    },
    {
     "output_type": "stream",
     "name": "stdout",
     "text": [
      "[-1, -1]\n['org.apache.commons.collections4.map.passiveexpiringmap.java'\n 'org.apache.commons.collections4.map.passiveexpiringmaptest.java']\norg.apache.commons.collections4.map.passiveexpiringmap.java\n"
     ]
    },
    {
     "output_type": "display_data",
     "data": {
      "text/plain": "Empty DataFrame\nColumns: [filename, unprocessed_code, project]\nIndex: []",
      "text/html": "<div>\n<style scoped>\n    .dataframe tbody tr th:only-of-type {\n        vertical-align: middle;\n    }\n\n    .dataframe tbody tr th {\n        vertical-align: top;\n    }\n\n    .dataframe thead th {\n        text-align: right;\n    }\n</style>\n<table border=\"1\" class=\"dataframe\">\n  <thead>\n    <tr style=\"text-align: right;\">\n      <th></th>\n      <th>filename</th>\n      <th>unprocessed_code</th>\n      <th>project</th>\n    </tr>\n  </thead>\n  <tbody>\n  </tbody>\n</table>\n</div>"
     },
     "metadata": {}
    },
    {
     "output_type": "stream",
     "name": "stdout",
     "text": [
      "org.apache.commons.collections4.map.passiveexpiringmaptest.java\n"
     ]
    },
    {
     "output_type": "display_data",
     "data": {
      "text/plain": "Empty DataFrame\nColumns: [filename, unprocessed_code, project]\nIndex: []",
      "text/html": "<div>\n<style scoped>\n    .dataframe tbody tr th:only-of-type {\n        vertical-align: middle;\n    }\n\n    .dataframe tbody tr th {\n        vertical-align: top;\n    }\n\n    .dataframe thead th {\n        text-align: right;\n    }\n</style>\n<table border=\"1\" class=\"dataframe\">\n  <thead>\n    <tr style=\"text-align: right;\">\n      <th></th>\n      <th>filename</th>\n      <th>unprocessed_code</th>\n      <th>project</th>\n    </tr>\n  </thead>\n  <tbody>\n  </tbody>\n</table>\n</div>"
     },
     "metadata": {}
    },
    {
     "output_type": "stream",
     "name": "stdout",
     "text": [
      "[-1, -1]\n['org.apache.commons.collections.testlistutils.java'\n 'org.apache.commons.collections.testcollectionutils.java'\n 'org.apache.commons.collections.collectionutils.java']\norg.apache.commons.collections.testlistutils.java\n"
     ]
    },
    {
     "output_type": "display_data",
     "data": {
      "text/plain": "                                              filename  \\\n303  org.apache.commons.collections.testlistutils.java   \n\n                                      unprocessed_code      project  \n303  Licensed to the  Apache  Software  Foundation ...  COLLECTIONS  ",
      "text/html": "<div>\n<style scoped>\n    .dataframe tbody tr th:only-of-type {\n        vertical-align: middle;\n    }\n\n    .dataframe tbody tr th {\n        vertical-align: top;\n    }\n\n    .dataframe thead th {\n        text-align: right;\n    }\n</style>\n<table border=\"1\" class=\"dataframe\">\n  <thead>\n    <tr style=\"text-align: right;\">\n      <th></th>\n      <th>filename</th>\n      <th>unprocessed_code</th>\n      <th>project</th>\n    </tr>\n  </thead>\n  <tbody>\n    <tr>\n      <th>303</th>\n      <td>org.apache.commons.collections.testlistutils.java</td>\n      <td>Licensed to the  Apache  Software  Foundation ...</td>\n      <td>COLLECTIONS</td>\n    </tr>\n  </tbody>\n</table>\n</div>"
     },
     "metadata": {}
    },
    {
     "output_type": "stream",
     "name": "stdout",
     "text": [
      "303\norg.apache.commons.collections.testcollectionutils.java\n"
     ]
    },
    {
     "output_type": "display_data",
     "data": {
      "text/plain": "                                              filename  \\\n288  org.apache.commons.collections.testcollectionu...   \n\n                                      unprocessed_code      project  \n288  Licensed to the  Apache  Software  Foundation ...  COLLECTIONS  ",
      "text/html": "<div>\n<style scoped>\n    .dataframe tbody tr th:only-of-type {\n        vertical-align: middle;\n    }\n\n    .dataframe tbody tr th {\n        vertical-align: top;\n    }\n\n    .dataframe thead th {\n        text-align: right;\n    }\n</style>\n<table border=\"1\" class=\"dataframe\">\n  <thead>\n    <tr style=\"text-align: right;\">\n      <th></th>\n      <th>filename</th>\n      <th>unprocessed_code</th>\n      <th>project</th>\n    </tr>\n  </thead>\n  <tbody>\n    <tr>\n      <th>288</th>\n      <td>org.apache.commons.collections.testcollectionu...</td>\n      <td>Licensed to the  Apache  Software  Foundation ...</td>\n      <td>COLLECTIONS</td>\n    </tr>\n  </tbody>\n</table>\n</div>"
     },
     "metadata": {}
    },
    {
     "output_type": "stream",
     "name": "stdout",
     "text": [
      "288\norg.apache.commons.collections.collectionutils.java\n"
     ]
    },
    {
     "output_type": "display_data",
     "data": {
      "text/plain": "                                             filename  \\\n15  org.apache.commons.collections.collectionutils...   \n\n                                     unprocessed_code      project  \n15  Licensed to the  Apache  Software  Foundation ...  COLLECTIONS  ",
      "text/html": "<div>\n<style scoped>\n    .dataframe tbody tr th:only-of-type {\n        vertical-align: middle;\n    }\n\n    .dataframe tbody tr th {\n        vertical-align: top;\n    }\n\n    .dataframe thead th {\n        text-align: right;\n    }\n</style>\n<table border=\"1\" class=\"dataframe\">\n  <thead>\n    <tr style=\"text-align: right;\">\n      <th></th>\n      <th>filename</th>\n      <th>unprocessed_code</th>\n      <th>project</th>\n    </tr>\n  </thead>\n  <tbody>\n    <tr>\n      <th>15</th>\n      <td>org.apache.commons.collections.collectionutils...</td>\n      <td>Licensed to the  Apache  Software  Foundation ...</td>\n      <td>COLLECTIONS</td>\n    </tr>\n  </tbody>\n</table>\n</div>"
     },
     "metadata": {}
    },
    {
     "output_type": "stream",
     "name": "stdout",
     "text": [
      "15\n[303, 288, 15]\n['org.apache.commons.collections4.collectionutilstest.java'\n 'org.apache.commons.collections4.collectionutils.java']\norg.apache.commons.collections4.collectionutilstest.java\n"
     ]
    },
    {
     "output_type": "display_data",
     "data": {
      "text/plain": "Empty DataFrame\nColumns: [filename, unprocessed_code, project]\nIndex: []",
      "text/html": "<div>\n<style scoped>\n    .dataframe tbody tr th:only-of-type {\n        vertical-align: middle;\n    }\n\n    .dataframe tbody tr th {\n        vertical-align: top;\n    }\n\n    .dataframe thead th {\n        text-align: right;\n    }\n</style>\n<table border=\"1\" class=\"dataframe\">\n  <thead>\n    <tr style=\"text-align: right;\">\n      <th></th>\n      <th>filename</th>\n      <th>unprocessed_code</th>\n      <th>project</th>\n    </tr>\n  </thead>\n  <tbody>\n  </tbody>\n</table>\n</div>"
     },
     "metadata": {}
    },
    {
     "output_type": "stream",
     "name": "stdout",
     "text": [
      "org.apache.commons.collections4.collectionutils.java\n"
     ]
    },
    {
     "output_type": "display_data",
     "data": {
      "text/plain": "Empty DataFrame\nColumns: [filename, unprocessed_code, project]\nIndex: []",
      "text/html": "<div>\n<style scoped>\n    .dataframe tbody tr th:only-of-type {\n        vertical-align: middle;\n    }\n\n    .dataframe tbody tr th {\n        vertical-align: top;\n    }\n\n    .dataframe thead th {\n        text-align: right;\n    }\n</style>\n<table border=\"1\" class=\"dataframe\">\n  <thead>\n    <tr style=\"text-align: right;\">\n      <th></th>\n      <th>filename</th>\n      <th>unprocessed_code</th>\n      <th>project</th>\n    </tr>\n  </thead>\n  <tbody>\n  </tbody>\n</table>\n</div>"
     },
     "metadata": {}
    },
    {
     "output_type": "stream",
     "name": "stdout",
     "text": [
      "[-1, -1]\n['org.apache.commons.collections4.collectionutilstest.java'\n 'org.apache.commons.collections4.collectionutils.java']\norg.apache.commons.collections4.collectionutilstest.java\n"
     ]
    },
    {
     "output_type": "display_data",
     "data": {
      "text/plain": "Empty DataFrame\nColumns: [filename, unprocessed_code, project]\nIndex: []",
      "text/html": "<div>\n<style scoped>\n    .dataframe tbody tr th:only-of-type {\n        vertical-align: middle;\n    }\n\n    .dataframe tbody tr th {\n        vertical-align: top;\n    }\n\n    .dataframe thead th {\n        text-align: right;\n    }\n</style>\n<table border=\"1\" class=\"dataframe\">\n  <thead>\n    <tr style=\"text-align: right;\">\n      <th></th>\n      <th>filename</th>\n      <th>unprocessed_code</th>\n      <th>project</th>\n    </tr>\n  </thead>\n  <tbody>\n  </tbody>\n</table>\n</div>"
     },
     "metadata": {}
    },
    {
     "output_type": "stream",
     "name": "stdout",
     "text": [
      "org.apache.commons.collections4.collectionutils.java\n"
     ]
    },
    {
     "output_type": "display_data",
     "data": {
      "text/plain": "Empty DataFrame\nColumns: [filename, unprocessed_code, project]\nIndex: []",
      "text/html": "<div>\n<style scoped>\n    .dataframe tbody tr th:only-of-type {\n        vertical-align: middle;\n    }\n\n    .dataframe tbody tr th {\n        vertical-align: top;\n    }\n\n    .dataframe thead th {\n        text-align: right;\n    }\n</style>\n<table border=\"1\" class=\"dataframe\">\n  <thead>\n    <tr style=\"text-align: right;\">\n      <th></th>\n      <th>filename</th>\n      <th>unprocessed_code</th>\n      <th>project</th>\n    </tr>\n  </thead>\n  <tbody>\n  </tbody>\n</table>\n</div>"
     },
     "metadata": {}
    },
    {
     "output_type": "stream",
     "name": "stdout",
     "text": [
      "[-1, -1]\n['org.apache.commons.collections4.trie.unmodifiabletrietest.java'\n 'org.apache.commons.collections4.trie.unmodifiabletrie.java'\n 'org.apache.commons.collections4.trieutilstest.java']\norg.apache.commons.collections4.trie.unmodifiabletrietest.java\n"
     ]
    },
    {
     "output_type": "display_data",
     "data": {
      "text/plain": "Empty DataFrame\nColumns: [filename, unprocessed_code, project]\nIndex: []",
      "text/html": "<div>\n<style scoped>\n    .dataframe tbody tr th:only-of-type {\n        vertical-align: middle;\n    }\n\n    .dataframe tbody tr th {\n        vertical-align: top;\n    }\n\n    .dataframe thead th {\n        text-align: right;\n    }\n</style>\n<table border=\"1\" class=\"dataframe\">\n  <thead>\n    <tr style=\"text-align: right;\">\n      <th></th>\n      <th>filename</th>\n      <th>unprocessed_code</th>\n      <th>project</th>\n    </tr>\n  </thead>\n  <tbody>\n  </tbody>\n</table>\n</div>"
     },
     "metadata": {}
    },
    {
     "output_type": "stream",
     "name": "stdout",
     "text": [
      "org.apache.commons.collections4.trie.unmodifiabletrie.java\n"
     ]
    },
    {
     "output_type": "display_data",
     "data": {
      "text/plain": "Empty DataFrame\nColumns: [filename, unprocessed_code, project]\nIndex: []",
      "text/html": "<div>\n<style scoped>\n    .dataframe tbody tr th:only-of-type {\n        vertical-align: middle;\n    }\n\n    .dataframe tbody tr th {\n        vertical-align: top;\n    }\n\n    .dataframe thead th {\n        text-align: right;\n    }\n</style>\n<table border=\"1\" class=\"dataframe\">\n  <thead>\n    <tr style=\"text-align: right;\">\n      <th></th>\n      <th>filename</th>\n      <th>unprocessed_code</th>\n      <th>project</th>\n    </tr>\n  </thead>\n  <tbody>\n  </tbody>\n</table>\n</div>"
     },
     "metadata": {}
    },
    {
     "output_type": "stream",
     "name": "stdout",
     "text": [
      "org.apache.commons.collections4.trieutilstest.java\n"
     ]
    },
    {
     "output_type": "display_data",
     "data": {
      "text/plain": "Empty DataFrame\nColumns: [filename, unprocessed_code, project]\nIndex: []",
      "text/html": "<div>\n<style scoped>\n    .dataframe tbody tr th:only-of-type {\n        vertical-align: middle;\n    }\n\n    .dataframe tbody tr th {\n        vertical-align: top;\n    }\n\n    .dataframe thead th {\n        text-align: right;\n    }\n</style>\n<table border=\"1\" class=\"dataframe\">\n  <thead>\n    <tr style=\"text-align: right;\">\n      <th></th>\n      <th>filename</th>\n      <th>unprocessed_code</th>\n      <th>project</th>\n    </tr>\n  </thead>\n  <tbody>\n  </tbody>\n</table>\n</div>"
     },
     "metadata": {}
    },
    {
     "output_type": "stream",
     "name": "stdout",
     "text": [
      "[-1, -1, -1]\n['org.apache.commons.collections4.collection.unmodifiableboundedcollection.java'\n 'org.apache.commons.collections4.collection.unmodifiableboundedcollectiontest.java']\norg.apache.commons.collections4.collection.unmodifiableboundedcollection.java\n"
     ]
    },
    {
     "output_type": "display_data",
     "data": {
      "text/plain": "Empty DataFrame\nColumns: [filename, unprocessed_code, project]\nIndex: []",
      "text/html": "<div>\n<style scoped>\n    .dataframe tbody tr th:only-of-type {\n        vertical-align: middle;\n    }\n\n    .dataframe tbody tr th {\n        vertical-align: top;\n    }\n\n    .dataframe thead th {\n        text-align: right;\n    }\n</style>\n<table border=\"1\" class=\"dataframe\">\n  <thead>\n    <tr style=\"text-align: right;\">\n      <th></th>\n      <th>filename</th>\n      <th>unprocessed_code</th>\n      <th>project</th>\n    </tr>\n  </thead>\n  <tbody>\n  </tbody>\n</table>\n</div>"
     },
     "metadata": {}
    },
    {
     "output_type": "stream",
     "name": "stdout",
     "text": [
      "org.apache.commons.collections4.collection.unmodifiableboundedcollectiontest.java\n"
     ]
    },
    {
     "output_type": "display_data",
     "data": {
      "text/plain": "Empty DataFrame\nColumns: [filename, unprocessed_code, project]\nIndex: []",
      "text/html": "<div>\n<style scoped>\n    .dataframe tbody tr th:only-of-type {\n        vertical-align: middle;\n    }\n\n    .dataframe tbody tr th {\n        vertical-align: top;\n    }\n\n    .dataframe thead th {\n        text-align: right;\n    }\n</style>\n<table border=\"1\" class=\"dataframe\">\n  <thead>\n    <tr style=\"text-align: right;\">\n      <th></th>\n      <th>filename</th>\n      <th>unprocessed_code</th>\n      <th>project</th>\n    </tr>\n  </thead>\n  <tbody>\n  </tbody>\n</table>\n</div>"
     },
     "metadata": {}
    },
    {
     "output_type": "stream",
     "name": "stdout",
     "text": [
      "[-1, -1]\n['org.apache.commons.collections4.multimap.java'\n 'org.apache.commons.collections4.map.multivaluemaptest.java'\n 'org.apache.commons.collections4.map.multivaluemap.java']\norg.apache.commons.collections4.multimap.java\n"
     ]
    },
    {
     "output_type": "display_data",
     "data": {
      "text/plain": "Empty DataFrame\nColumns: [filename, unprocessed_code, project]\nIndex: []",
      "text/html": "<div>\n<style scoped>\n    .dataframe tbody tr th:only-of-type {\n        vertical-align: middle;\n    }\n\n    .dataframe tbody tr th {\n        vertical-align: top;\n    }\n\n    .dataframe thead th {\n        text-align: right;\n    }\n</style>\n<table border=\"1\" class=\"dataframe\">\n  <thead>\n    <tr style=\"text-align: right;\">\n      <th></th>\n      <th>filename</th>\n      <th>unprocessed_code</th>\n      <th>project</th>\n    </tr>\n  </thead>\n  <tbody>\n  </tbody>\n</table>\n</div>"
     },
     "metadata": {}
    },
    {
     "output_type": "stream",
     "name": "stdout",
     "text": [
      "org.apache.commons.collections4.map.multivaluemaptest.java\n"
     ]
    },
    {
     "output_type": "display_data",
     "data": {
      "text/plain": "Empty DataFrame\nColumns: [filename, unprocessed_code, project]\nIndex: []",
      "text/html": "<div>\n<style scoped>\n    .dataframe tbody tr th:only-of-type {\n        vertical-align: middle;\n    }\n\n    .dataframe tbody tr th {\n        vertical-align: top;\n    }\n\n    .dataframe thead th {\n        text-align: right;\n    }\n</style>\n<table border=\"1\" class=\"dataframe\">\n  <thead>\n    <tr style=\"text-align: right;\">\n      <th></th>\n      <th>filename</th>\n      <th>unprocessed_code</th>\n      <th>project</th>\n    </tr>\n  </thead>\n  <tbody>\n  </tbody>\n</table>\n</div>"
     },
     "metadata": {}
    },
    {
     "output_type": "stream",
     "name": "stdout",
     "text": [
      "org.apache.commons.collections4.map.multivaluemap.java\n"
     ]
    },
    {
     "output_type": "display_data",
     "data": {
      "text/plain": "Empty DataFrame\nColumns: [filename, unprocessed_code, project]\nIndex: []",
      "text/html": "<div>\n<style scoped>\n    .dataframe tbody tr th:only-of-type {\n        vertical-align: middle;\n    }\n\n    .dataframe tbody tr th {\n        vertical-align: top;\n    }\n\n    .dataframe thead th {\n        text-align: right;\n    }\n</style>\n<table border=\"1\" class=\"dataframe\">\n  <thead>\n    <tr style=\"text-align: right;\">\n      <th></th>\n      <th>filename</th>\n      <th>unprocessed_code</th>\n      <th>project</th>\n    </tr>\n  </thead>\n  <tbody>\n  </tbody>\n</table>\n</div>"
     },
     "metadata": {}
    },
    {
     "output_type": "stream",
     "name": "stdout",
     "text": [
      "[-1, -1, -1]\n['org.apache.commons.collections4.map.multikeymaptest.java'\n 'org.apache.commons.collections4.map.multikeymap.java']\norg.apache.commons.collections4.map.multikeymaptest.java\n"
     ]
    },
    {
     "output_type": "display_data",
     "data": {
      "text/plain": "Empty DataFrame\nColumns: [filename, unprocessed_code, project]\nIndex: []",
      "text/html": "<div>\n<style scoped>\n    .dataframe tbody tr th:only-of-type {\n        vertical-align: middle;\n    }\n\n    .dataframe tbody tr th {\n        vertical-align: top;\n    }\n\n    .dataframe thead th {\n        text-align: right;\n    }\n</style>\n<table border=\"1\" class=\"dataframe\">\n  <thead>\n    <tr style=\"text-align: right;\">\n      <th></th>\n      <th>filename</th>\n      <th>unprocessed_code</th>\n      <th>project</th>\n    </tr>\n  </thead>\n  <tbody>\n  </tbody>\n</table>\n</div>"
     },
     "metadata": {}
    },
    {
     "output_type": "stream",
     "name": "stdout",
     "text": [
      "org.apache.commons.collections4.map.multikeymap.java\n"
     ]
    },
    {
     "output_type": "display_data",
     "data": {
      "text/plain": "Empty DataFrame\nColumns: [filename, unprocessed_code, project]\nIndex: []",
      "text/html": "<div>\n<style scoped>\n    .dataframe tbody tr th:only-of-type {\n        vertical-align: middle;\n    }\n\n    .dataframe tbody tr th {\n        vertical-align: top;\n    }\n\n    .dataframe thead th {\n        text-align: right;\n    }\n</style>\n<table border=\"1\" class=\"dataframe\">\n  <thead>\n    <tr style=\"text-align: right;\">\n      <th></th>\n      <th>filename</th>\n      <th>unprocessed_code</th>\n      <th>project</th>\n    </tr>\n  </thead>\n  <tbody>\n  </tbody>\n</table>\n</div>"
     },
     "metadata": {}
    },
    {
     "output_type": "stream",
     "name": "stdout",
     "text": [
      "[-1, -1]\n['org.apache.commons.collections4.collectionutils.java']\norg.apache.commons.collections4.collectionutils.java\n"
     ]
    },
    {
     "output_type": "display_data",
     "data": {
      "text/plain": "Empty DataFrame\nColumns: [filename, unprocessed_code, project]\nIndex: []",
      "text/html": "<div>\n<style scoped>\n    .dataframe tbody tr th:only-of-type {\n        vertical-align: middle;\n    }\n\n    .dataframe tbody tr th {\n        vertical-align: top;\n    }\n\n    .dataframe thead th {\n        text-align: right;\n    }\n</style>\n<table border=\"1\" class=\"dataframe\">\n  <thead>\n    <tr style=\"text-align: right;\">\n      <th></th>\n      <th>filename</th>\n      <th>unprocessed_code</th>\n      <th>project</th>\n    </tr>\n  </thead>\n  <tbody>\n  </tbody>\n</table>\n</div>"
     },
     "metadata": {}
    },
    {
     "output_type": "stream",
     "name": "stdout",
     "text": [
      "[-1]\n['org.apache.commons.collections4.comparatorutils.java']\norg.apache.commons.collections4.comparatorutils.java\n"
     ]
    },
    {
     "output_type": "display_data",
     "data": {
      "text/plain": "Empty DataFrame\nColumns: [filename, unprocessed_code, project]\nIndex: []",
      "text/html": "<div>\n<style scoped>\n    .dataframe tbody tr th:only-of-type {\n        vertical-align: middle;\n    }\n\n    .dataframe tbody tr th {\n        vertical-align: top;\n    }\n\n    .dataframe thead th {\n        text-align: right;\n    }\n</style>\n<table border=\"1\" class=\"dataframe\">\n  <thead>\n    <tr style=\"text-align: right;\">\n      <th></th>\n      <th>filename</th>\n      <th>unprocessed_code</th>\n      <th>project</th>\n    </tr>\n  </thead>\n  <tbody>\n  </tbody>\n</table>\n</div>"
     },
     "metadata": {}
    },
    {
     "output_type": "stream",
     "name": "stdout",
     "text": [
      "[-1]\n['org.apache.commons.collections4.set.listorderedset.java'\n 'org.apache.commons.collections4.set.listorderedsettest.java']\norg.apache.commons.collections4.set.listorderedset.java\n"
     ]
    },
    {
     "output_type": "display_data",
     "data": {
      "text/plain": "Empty DataFrame\nColumns: [filename, unprocessed_code, project]\nIndex: []",
      "text/html": "<div>\n<style scoped>\n    .dataframe tbody tr th:only-of-type {\n        vertical-align: middle;\n    }\n\n    .dataframe tbody tr th {\n        vertical-align: top;\n    }\n\n    .dataframe thead th {\n        text-align: right;\n    }\n</style>\n<table border=\"1\" class=\"dataframe\">\n  <thead>\n    <tr style=\"text-align: right;\">\n      <th></th>\n      <th>filename</th>\n      <th>unprocessed_code</th>\n      <th>project</th>\n    </tr>\n  </thead>\n  <tbody>\n  </tbody>\n</table>\n</div>"
     },
     "metadata": {}
    },
    {
     "output_type": "stream",
     "name": "stdout",
     "text": [
      "org.apache.commons.collections4.set.listorderedsettest.java\n"
     ]
    },
    {
     "output_type": "display_data",
     "data": {
      "text/plain": "Empty DataFrame\nColumns: [filename, unprocessed_code, project]\nIndex: []",
      "text/html": "<div>\n<style scoped>\n    .dataframe tbody tr th:only-of-type {\n        vertical-align: middle;\n    }\n\n    .dataframe tbody tr th {\n        vertical-align: top;\n    }\n\n    .dataframe thead th {\n        text-align: right;\n    }\n</style>\n<table border=\"1\" class=\"dataframe\">\n  <thead>\n    <tr style=\"text-align: right;\">\n      <th></th>\n      <th>filename</th>\n      <th>unprocessed_code</th>\n      <th>project</th>\n    </tr>\n  </thead>\n  <tbody>\n  </tbody>\n</table>\n</div>"
     },
     "metadata": {}
    },
    {
     "output_type": "stream",
     "name": "stdout",
     "text": [
      "[-1, -1]\n['org.apache.commons.collections4.maputils.java']\norg.apache.commons.collections4.maputils.java\n"
     ]
    },
    {
     "output_type": "display_data",
     "data": {
      "text/plain": "Empty DataFrame\nColumns: [filename, unprocessed_code, project]\nIndex: []",
      "text/html": "<div>\n<style scoped>\n    .dataframe tbody tr th:only-of-type {\n        vertical-align: middle;\n    }\n\n    .dataframe tbody tr th {\n        vertical-align: top;\n    }\n\n    .dataframe thead th {\n        text-align: right;\n    }\n</style>\n<table border=\"1\" class=\"dataframe\">\n  <thead>\n    <tr style=\"text-align: right;\">\n      <th></th>\n      <th>filename</th>\n      <th>unprocessed_code</th>\n      <th>project</th>\n    </tr>\n  </thead>\n  <tbody>\n  </tbody>\n</table>\n</div>"
     },
     "metadata": {}
    },
    {
     "output_type": "stream",
     "name": "stdout",
     "text": [
      "[-1]\n['org.apache.commons.collections4.collectionutils.java']\norg.apache.commons.collections4.collectionutils.java\n"
     ]
    },
    {
     "output_type": "display_data",
     "data": {
      "text/plain": "Empty DataFrame\nColumns: [filename, unprocessed_code, project]\nIndex: []",
      "text/html": "<div>\n<style scoped>\n    .dataframe tbody tr th:only-of-type {\n        vertical-align: middle;\n    }\n\n    .dataframe tbody tr th {\n        vertical-align: top;\n    }\n\n    .dataframe thead th {\n        text-align: right;\n    }\n</style>\n<table border=\"1\" class=\"dataframe\">\n  <thead>\n    <tr style=\"text-align: right;\">\n      <th></th>\n      <th>filename</th>\n      <th>unprocessed_code</th>\n      <th>project</th>\n    </tr>\n  </thead>\n  <tbody>\n  </tbody>\n</table>\n</div>"
     },
     "metadata": {}
    },
    {
     "output_type": "stream",
     "name": "stdout",
     "text": [
      "[-1]\n['org.apache.commons.collections4.bag.collectionbag.java']\norg.apache.commons.collections4.bag.collectionbag.java\n"
     ]
    },
    {
     "output_type": "display_data",
     "data": {
      "text/plain": "Empty DataFrame\nColumns: [filename, unprocessed_code, project]\nIndex: []",
      "text/html": "<div>\n<style scoped>\n    .dataframe tbody tr th:only-of-type {\n        vertical-align: middle;\n    }\n\n    .dataframe tbody tr th {\n        vertical-align: top;\n    }\n\n    .dataframe thead th {\n        text-align: right;\n    }\n</style>\n<table border=\"1\" class=\"dataframe\">\n  <thead>\n    <tr style=\"text-align: right;\">\n      <th></th>\n      <th>filename</th>\n      <th>unprocessed_code</th>\n      <th>project</th>\n    </tr>\n  </thead>\n  <tbody>\n  </tbody>\n</table>\n</div>"
     },
     "metadata": {}
    },
    {
     "output_type": "stream",
     "name": "stdout",
     "text": [
      "[-1]\n['org.apache.commons.collections4.maputils.java']\norg.apache.commons.collections4.maputils.java\n"
     ]
    },
    {
     "output_type": "display_data",
     "data": {
      "text/plain": "Empty DataFrame\nColumns: [filename, unprocessed_code, project]\nIndex: []",
      "text/html": "<div>\n<style scoped>\n    .dataframe tbody tr th:only-of-type {\n        vertical-align: middle;\n    }\n\n    .dataframe tbody tr th {\n        vertical-align: top;\n    }\n\n    .dataframe thead th {\n        text-align: right;\n    }\n</style>\n<table border=\"1\" class=\"dataframe\">\n  <thead>\n    <tr style=\"text-align: right;\">\n      <th></th>\n      <th>filename</th>\n      <th>unprocessed_code</th>\n      <th>project</th>\n    </tr>\n  </thead>\n  <tbody>\n  </tbody>\n</table>\n</div>"
     },
     "metadata": {}
    },
    {
     "output_type": "stream",
     "name": "stdout",
     "text": [
      "[-1]\n['org.apache.commons.collections4.functors.chainedclosure.java'\n 'org.apache.commons.collections4.functors.nonepredicate.java'\n 'org.apache.commons.collections4.transformerutils.java'\n 'org.apache.commons.collections4.functors.chainedtransformer.java'\n 'org.apache.commons.collections4.predicateutils.java'\n 'org.apache.commons.collections4.functors.allpredicate.java'\n 'org.apache.commons.collections4.functors.onepredicate.java'\n 'org.apache.commons.collections4.closureutils.java'\n 'org.apache.commons.collections4.functors.functorutils.java'\n 'org.apache.commons.collections4.functors.anypredicate.java']\norg.apache.commons.collections4.functors.chainedclosure.java\n"
     ]
    },
    {
     "output_type": "display_data",
     "data": {
      "text/plain": "Empty DataFrame\nColumns: [filename, unprocessed_code, project]\nIndex: []",
      "text/html": "<div>\n<style scoped>\n    .dataframe tbody tr th:only-of-type {\n        vertical-align: middle;\n    }\n\n    .dataframe tbody tr th {\n        vertical-align: top;\n    }\n\n    .dataframe thead th {\n        text-align: right;\n    }\n</style>\n<table border=\"1\" class=\"dataframe\">\n  <thead>\n    <tr style=\"text-align: right;\">\n      <th></th>\n      <th>filename</th>\n      <th>unprocessed_code</th>\n      <th>project</th>\n    </tr>\n  </thead>\n  <tbody>\n  </tbody>\n</table>\n</div>"
     },
     "metadata": {}
    },
    {
     "output_type": "stream",
     "name": "stdout",
     "text": [
      "org.apache.commons.collections4.functors.nonepredicate.java\n"
     ]
    },
    {
     "output_type": "display_data",
     "data": {
      "text/plain": "Empty DataFrame\nColumns: [filename, unprocessed_code, project]\nIndex: []",
      "text/html": "<div>\n<style scoped>\n    .dataframe tbody tr th:only-of-type {\n        vertical-align: middle;\n    }\n\n    .dataframe tbody tr th {\n        vertical-align: top;\n    }\n\n    .dataframe thead th {\n        text-align: right;\n    }\n</style>\n<table border=\"1\" class=\"dataframe\">\n  <thead>\n    <tr style=\"text-align: right;\">\n      <th></th>\n      <th>filename</th>\n      <th>unprocessed_code</th>\n      <th>project</th>\n    </tr>\n  </thead>\n  <tbody>\n  </tbody>\n</table>\n</div>"
     },
     "metadata": {}
    },
    {
     "output_type": "stream",
     "name": "stdout",
     "text": [
      "org.apache.commons.collections4.transformerutils.java\n"
     ]
    },
    {
     "output_type": "display_data",
     "data": {
      "text/plain": "Empty DataFrame\nColumns: [filename, unprocessed_code, project]\nIndex: []",
      "text/html": "<div>\n<style scoped>\n    .dataframe tbody tr th:only-of-type {\n        vertical-align: middle;\n    }\n\n    .dataframe tbody tr th {\n        vertical-align: top;\n    }\n\n    .dataframe thead th {\n        text-align: right;\n    }\n</style>\n<table border=\"1\" class=\"dataframe\">\n  <thead>\n    <tr style=\"text-align: right;\">\n      <th></th>\n      <th>filename</th>\n      <th>unprocessed_code</th>\n      <th>project</th>\n    </tr>\n  </thead>\n  <tbody>\n  </tbody>\n</table>\n</div>"
     },
     "metadata": {}
    },
    {
     "output_type": "stream",
     "name": "stdout",
     "text": [
      "org.apache.commons.collections4.functors.chainedtransformer.java\n"
     ]
    },
    {
     "output_type": "display_data",
     "data": {
      "text/plain": "Empty DataFrame\nColumns: [filename, unprocessed_code, project]\nIndex: []",
      "text/html": "<div>\n<style scoped>\n    .dataframe tbody tr th:only-of-type {\n        vertical-align: middle;\n    }\n\n    .dataframe tbody tr th {\n        vertical-align: top;\n    }\n\n    .dataframe thead th {\n        text-align: right;\n    }\n</style>\n<table border=\"1\" class=\"dataframe\">\n  <thead>\n    <tr style=\"text-align: right;\">\n      <th></th>\n      <th>filename</th>\n      <th>unprocessed_code</th>\n      <th>project</th>\n    </tr>\n  </thead>\n  <tbody>\n  </tbody>\n</table>\n</div>"
     },
     "metadata": {}
    },
    {
     "output_type": "stream",
     "name": "stdout",
     "text": [
      "org.apache.commons.collections4.predicateutils.java\n"
     ]
    },
    {
     "output_type": "display_data",
     "data": {
      "text/plain": "Empty DataFrame\nColumns: [filename, unprocessed_code, project]\nIndex: []",
      "text/html": "<div>\n<style scoped>\n    .dataframe tbody tr th:only-of-type {\n        vertical-align: middle;\n    }\n\n    .dataframe tbody tr th {\n        vertical-align: top;\n    }\n\n    .dataframe thead th {\n        text-align: right;\n    }\n</style>\n<table border=\"1\" class=\"dataframe\">\n  <thead>\n    <tr style=\"text-align: right;\">\n      <th></th>\n      <th>filename</th>\n      <th>unprocessed_code</th>\n      <th>project</th>\n    </tr>\n  </thead>\n  <tbody>\n  </tbody>\n</table>\n</div>"
     },
     "metadata": {}
    },
    {
     "output_type": "stream",
     "name": "stdout",
     "text": [
      "org.apache.commons.collections4.functors.allpredicate.java\n"
     ]
    },
    {
     "output_type": "display_data",
     "data": {
      "text/plain": "Empty DataFrame\nColumns: [filename, unprocessed_code, project]\nIndex: []",
      "text/html": "<div>\n<style scoped>\n    .dataframe tbody tr th:only-of-type {\n        vertical-align: middle;\n    }\n\n    .dataframe tbody tr th {\n        vertical-align: top;\n    }\n\n    .dataframe thead th {\n        text-align: right;\n    }\n</style>\n<table border=\"1\" class=\"dataframe\">\n  <thead>\n    <tr style=\"text-align: right;\">\n      <th></th>\n      <th>filename</th>\n      <th>unprocessed_code</th>\n      <th>project</th>\n    </tr>\n  </thead>\n  <tbody>\n  </tbody>\n</table>\n</div>"
     },
     "metadata": {}
    },
    {
     "output_type": "stream",
     "name": "stdout",
     "text": [
      "org.apache.commons.collections4.functors.onepredicate.java\n"
     ]
    },
    {
     "output_type": "display_data",
     "data": {
      "text/plain": "Empty DataFrame\nColumns: [filename, unprocessed_code, project]\nIndex: []",
      "text/html": "<div>\n<style scoped>\n    .dataframe tbody tr th:only-of-type {\n        vertical-align: middle;\n    }\n\n    .dataframe tbody tr th {\n        vertical-align: top;\n    }\n\n    .dataframe thead th {\n        text-align: right;\n    }\n</style>\n<table border=\"1\" class=\"dataframe\">\n  <thead>\n    <tr style=\"text-align: right;\">\n      <th></th>\n      <th>filename</th>\n      <th>unprocessed_code</th>\n      <th>project</th>\n    </tr>\n  </thead>\n  <tbody>\n  </tbody>\n</table>\n</div>"
     },
     "metadata": {}
    },
    {
     "output_type": "stream",
     "name": "stdout",
     "text": [
      "org.apache.commons.collections4.closureutils.java\n"
     ]
    },
    {
     "output_type": "display_data",
     "data": {
      "text/plain": "Empty DataFrame\nColumns: [filename, unprocessed_code, project]\nIndex: []",
      "text/html": "<div>\n<style scoped>\n    .dataframe tbody tr th:only-of-type {\n        vertical-align: middle;\n    }\n\n    .dataframe tbody tr th {\n        vertical-align: top;\n    }\n\n    .dataframe thead th {\n        text-align: right;\n    }\n</style>\n<table border=\"1\" class=\"dataframe\">\n  <thead>\n    <tr style=\"text-align: right;\">\n      <th></th>\n      <th>filename</th>\n      <th>unprocessed_code</th>\n      <th>project</th>\n    </tr>\n  </thead>\n  <tbody>\n  </tbody>\n</table>\n</div>"
     },
     "metadata": {}
    },
    {
     "output_type": "stream",
     "name": "stdout",
     "text": [
      "org.apache.commons.collections4.functors.functorutils.java\n"
     ]
    },
    {
     "output_type": "display_data",
     "data": {
      "text/plain": "Empty DataFrame\nColumns: [filename, unprocessed_code, project]\nIndex: []",
      "text/html": "<div>\n<style scoped>\n    .dataframe tbody tr th:only-of-type {\n        vertical-align: middle;\n    }\n\n    .dataframe tbody tr th {\n        vertical-align: top;\n    }\n\n    .dataframe thead th {\n        text-align: right;\n    }\n</style>\n<table border=\"1\" class=\"dataframe\">\n  <thead>\n    <tr style=\"text-align: right;\">\n      <th></th>\n      <th>filename</th>\n      <th>unprocessed_code</th>\n      <th>project</th>\n    </tr>\n  </thead>\n  <tbody>\n  </tbody>\n</table>\n</div>"
     },
     "metadata": {}
    },
    {
     "output_type": "stream",
     "name": "stdout",
     "text": [
      "org.apache.commons.collections4.functors.anypredicate.java\n"
     ]
    },
    {
     "output_type": "display_data",
     "data": {
      "text/plain": "Empty DataFrame\nColumns: [filename, unprocessed_code, project]\nIndex: []",
      "text/html": "<div>\n<style scoped>\n    .dataframe tbody tr th:only-of-type {\n        vertical-align: middle;\n    }\n\n    .dataframe tbody tr th {\n        vertical-align: top;\n    }\n\n    .dataframe thead th {\n        text-align: right;\n    }\n</style>\n<table border=\"1\" class=\"dataframe\">\n  <thead>\n    <tr style=\"text-align: right;\">\n      <th></th>\n      <th>filename</th>\n      <th>unprocessed_code</th>\n      <th>project</th>\n    </tr>\n  </thead>\n  <tbody>\n  </tbody>\n</table>\n</div>"
     },
     "metadata": {}
    },
    {
     "output_type": "stream",
     "name": "stdout",
     "text": [
      "[-1, -1, -1, -1, -1, -1, -1, -1, -1, -1]\n['org.apache.commons.collections4.trie.abstractpatriciatrie.java'\n 'org.apache.commons.collections4.trie.patriciatrietest.java']\norg.apache.commons.collections4.trie.abstractpatriciatrie.java\n"
     ]
    },
    {
     "output_type": "display_data",
     "data": {
      "text/plain": "Empty DataFrame\nColumns: [filename, unprocessed_code, project]\nIndex: []",
      "text/html": "<div>\n<style scoped>\n    .dataframe tbody tr th:only-of-type {\n        vertical-align: middle;\n    }\n\n    .dataframe tbody tr th {\n        vertical-align: top;\n    }\n\n    .dataframe thead th {\n        text-align: right;\n    }\n</style>\n<table border=\"1\" class=\"dataframe\">\n  <thead>\n    <tr style=\"text-align: right;\">\n      <th></th>\n      <th>filename</th>\n      <th>unprocessed_code</th>\n      <th>project</th>\n    </tr>\n  </thead>\n  <tbody>\n  </tbody>\n</table>\n</div>"
     },
     "metadata": {}
    },
    {
     "output_type": "stream",
     "name": "stdout",
     "text": [
      "org.apache.commons.collections4.trie.patriciatrietest.java\n"
     ]
    },
    {
     "output_type": "display_data",
     "data": {
      "text/plain": "Empty DataFrame\nColumns: [filename, unprocessed_code, project]\nIndex: []",
      "text/html": "<div>\n<style scoped>\n    .dataframe tbody tr th:only-of-type {\n        vertical-align: middle;\n    }\n\n    .dataframe tbody tr th {\n        vertical-align: top;\n    }\n\n    .dataframe thead th {\n        text-align: right;\n    }\n</style>\n<table border=\"1\" class=\"dataframe\">\n  <thead>\n    <tr style=\"text-align: right;\">\n      <th></th>\n      <th>filename</th>\n      <th>unprocessed_code</th>\n      <th>project</th>\n    </tr>\n  </thead>\n  <tbody>\n  </tbody>\n</table>\n</div>"
     },
     "metadata": {}
    },
    {
     "output_type": "stream",
     "name": "stdout",
     "text": [
      "[-1, -1]\n['org.apache.commons.collections4.collection.abstractcollectiondecorator.java'\n 'org.apache.commons.collections4.comparators.fixedordercomparator.java'\n 'org.apache.commons.collections4.comparators.transformingcomparator.java'\n 'org.apache.commons.collections4.comparators.transformingcomparatortest.java']\norg.apache.commons.collections4.collection.abstractcollectiondecorator.java\n"
     ]
    },
    {
     "output_type": "display_data",
     "data": {
      "text/plain": "Empty DataFrame\nColumns: [filename, unprocessed_code, project]\nIndex: []",
      "text/html": "<div>\n<style scoped>\n    .dataframe tbody tr th:only-of-type {\n        vertical-align: middle;\n    }\n\n    .dataframe tbody tr th {\n        vertical-align: top;\n    }\n\n    .dataframe thead th {\n        text-align: right;\n    }\n</style>\n<table border=\"1\" class=\"dataframe\">\n  <thead>\n    <tr style=\"text-align: right;\">\n      <th></th>\n      <th>filename</th>\n      <th>unprocessed_code</th>\n      <th>project</th>\n    </tr>\n  </thead>\n  <tbody>\n  </tbody>\n</table>\n</div>"
     },
     "metadata": {}
    },
    {
     "output_type": "stream",
     "name": "stdout",
     "text": [
      "org.apache.commons.collections4.comparators.fixedordercomparator.java\n"
     ]
    },
    {
     "output_type": "display_data",
     "data": {
      "text/plain": "Empty DataFrame\nColumns: [filename, unprocessed_code, project]\nIndex: []",
      "text/html": "<div>\n<style scoped>\n    .dataframe tbody tr th:only-of-type {\n        vertical-align: middle;\n    }\n\n    .dataframe tbody tr th {\n        vertical-align: top;\n    }\n\n    .dataframe thead th {\n        text-align: right;\n    }\n</style>\n<table border=\"1\" class=\"dataframe\">\n  <thead>\n    <tr style=\"text-align: right;\">\n      <th></th>\n      <th>filename</th>\n      <th>unprocessed_code</th>\n      <th>project</th>\n    </tr>\n  </thead>\n  <tbody>\n  </tbody>\n</table>\n</div>"
     },
     "metadata": {}
    },
    {
     "output_type": "stream",
     "name": "stdout",
     "text": [
      "org.apache.commons.collections4.comparators.transformingcomparator.java\n"
     ]
    },
    {
     "output_type": "display_data",
     "data": {
      "text/plain": "Empty DataFrame\nColumns: [filename, unprocessed_code, project]\nIndex: []",
      "text/html": "<div>\n<style scoped>\n    .dataframe tbody tr th:only-of-type {\n        vertical-align: middle;\n    }\n\n    .dataframe tbody tr th {\n        vertical-align: top;\n    }\n\n    .dataframe thead th {\n        text-align: right;\n    }\n</style>\n<table border=\"1\" class=\"dataframe\">\n  <thead>\n    <tr style=\"text-align: right;\">\n      <th></th>\n      <th>filename</th>\n      <th>unprocessed_code</th>\n      <th>project</th>\n    </tr>\n  </thead>\n  <tbody>\n  </tbody>\n</table>\n</div>"
     },
     "metadata": {}
    },
    {
     "output_type": "stream",
     "name": "stdout",
     "text": [
      "org.apache.commons.collections4.comparators.transformingcomparatortest.java\n"
     ]
    },
    {
     "output_type": "display_data",
     "data": {
      "text/plain": "Empty DataFrame\nColumns: [filename, unprocessed_code, project]\nIndex: []",
      "text/html": "<div>\n<style scoped>\n    .dataframe tbody tr th:only-of-type {\n        vertical-align: middle;\n    }\n\n    .dataframe tbody tr th {\n        vertical-align: top;\n    }\n\n    .dataframe thead th {\n        text-align: right;\n    }\n</style>\n<table border=\"1\" class=\"dataframe\">\n  <thead>\n    <tr style=\"text-align: right;\">\n      <th></th>\n      <th>filename</th>\n      <th>unprocessed_code</th>\n      <th>project</th>\n    </tr>\n  </thead>\n  <tbody>\n  </tbody>\n</table>\n</div>"
     },
     "metadata": {}
    },
    {
     "output_type": "stream",
     "name": "stdout",
     "text": [
      "[-1, -1, -1, -1]\n['org.apache.commons.collections4.collectionutils.java']\norg.apache.commons.collections4.collectionutils.java\n"
     ]
    },
    {
     "output_type": "display_data",
     "data": {
      "text/plain": "Empty DataFrame\nColumns: [filename, unprocessed_code, project]\nIndex: []",
      "text/html": "<div>\n<style scoped>\n    .dataframe tbody tr th:only-of-type {\n        vertical-align: middle;\n    }\n\n    .dataframe tbody tr th {\n        vertical-align: top;\n    }\n\n    .dataframe thead th {\n        text-align: right;\n    }\n</style>\n<table border=\"1\" class=\"dataframe\">\n  <thead>\n    <tr style=\"text-align: right;\">\n      <th></th>\n      <th>filename</th>\n      <th>unprocessed_code</th>\n      <th>project</th>\n    </tr>\n  </thead>\n  <tbody>\n  </tbody>\n</table>\n</div>"
     },
     "metadata": {}
    },
    {
     "output_type": "stream",
     "name": "stdout",
     "text": [
      "[-1]\n['org.apache.commons.collections4.multimap.abstractmultivaluedmap.java'\n 'org.apache.commons.collections4.list.transformedlist.java'\n 'org.apache.commons.collections4.set.predicatedset.java'\n 'org.apache.commons.collections4.list.abstractlistdecorator.java'\n 'org.apache.commons.collections4.multimap.abstractmultivaluedmaptest.java'\n 'org.apache.commons.collections4.set.abstractsetdecorator.java'\n 'org.apache.commons.collections4.bag.abstractbagdecorator.java'\n 'org.apache.commons.collections4.queue.abstractqueuedecorator.java'\n 'org.apache.commons.collections4.bidimap.abstractdualbidimap.java'\n 'org.apache.commons.collections4.bag.predicatedbag.java'\n 'org.apache.commons.collections4.set.transformedset.java'\n 'org.apache.commons.collections4.list.predicatedlist.java'\n 'org.apache.commons.collections4.bag.synchronizedbag.java'\n 'org.apache.commons.collections4.bag.transformedbag.java'\n 'org.apache.commons.collections4.collection.abstractcollectiondecorator.java']\norg.apache.commons.collections4.multimap.abstractmultivaluedmap.java\n"
     ]
    },
    {
     "output_type": "display_data",
     "data": {
      "text/plain": "Empty DataFrame\nColumns: [filename, unprocessed_code, project]\nIndex: []",
      "text/html": "<div>\n<style scoped>\n    .dataframe tbody tr th:only-of-type {\n        vertical-align: middle;\n    }\n\n    .dataframe tbody tr th {\n        vertical-align: top;\n    }\n\n    .dataframe thead th {\n        text-align: right;\n    }\n</style>\n<table border=\"1\" class=\"dataframe\">\n  <thead>\n    <tr style=\"text-align: right;\">\n      <th></th>\n      <th>filename</th>\n      <th>unprocessed_code</th>\n      <th>project</th>\n    </tr>\n  </thead>\n  <tbody>\n  </tbody>\n</table>\n</div>"
     },
     "metadata": {}
    },
    {
     "output_type": "stream",
     "name": "stdout",
     "text": [
      "org.apache.commons.collections4.list.transformedlist.java\n"
     ]
    },
    {
     "output_type": "display_data",
     "data": {
      "text/plain": "Empty DataFrame\nColumns: [filename, unprocessed_code, project]\nIndex: []",
      "text/html": "<div>\n<style scoped>\n    .dataframe tbody tr th:only-of-type {\n        vertical-align: middle;\n    }\n\n    .dataframe tbody tr th {\n        vertical-align: top;\n    }\n\n    .dataframe thead th {\n        text-align: right;\n    }\n</style>\n<table border=\"1\" class=\"dataframe\">\n  <thead>\n    <tr style=\"text-align: right;\">\n      <th></th>\n      <th>filename</th>\n      <th>unprocessed_code</th>\n      <th>project</th>\n    </tr>\n  </thead>\n  <tbody>\n  </tbody>\n</table>\n</div>"
     },
     "metadata": {}
    },
    {
     "output_type": "stream",
     "name": "stdout",
     "text": [
      "org.apache.commons.collections4.set.predicatedset.java\n"
     ]
    },
    {
     "output_type": "display_data",
     "data": {
      "text/plain": "Empty DataFrame\nColumns: [filename, unprocessed_code, project]\nIndex: []",
      "text/html": "<div>\n<style scoped>\n    .dataframe tbody tr th:only-of-type {\n        vertical-align: middle;\n    }\n\n    .dataframe tbody tr th {\n        vertical-align: top;\n    }\n\n    .dataframe thead th {\n        text-align: right;\n    }\n</style>\n<table border=\"1\" class=\"dataframe\">\n  <thead>\n    <tr style=\"text-align: right;\">\n      <th></th>\n      <th>filename</th>\n      <th>unprocessed_code</th>\n      <th>project</th>\n    </tr>\n  </thead>\n  <tbody>\n  </tbody>\n</table>\n</div>"
     },
     "metadata": {}
    },
    {
     "output_type": "stream",
     "name": "stdout",
     "text": [
      "org.apache.commons.collections4.list.abstractlistdecorator.java\n"
     ]
    },
    {
     "output_type": "display_data",
     "data": {
      "text/plain": "Empty DataFrame\nColumns: [filename, unprocessed_code, project]\nIndex: []",
      "text/html": "<div>\n<style scoped>\n    .dataframe tbody tr th:only-of-type {\n        vertical-align: middle;\n    }\n\n    .dataframe tbody tr th {\n        vertical-align: top;\n    }\n\n    .dataframe thead th {\n        text-align: right;\n    }\n</style>\n<table border=\"1\" class=\"dataframe\">\n  <thead>\n    <tr style=\"text-align: right;\">\n      <th></th>\n      <th>filename</th>\n      <th>unprocessed_code</th>\n      <th>project</th>\n    </tr>\n  </thead>\n  <tbody>\n  </tbody>\n</table>\n</div>"
     },
     "metadata": {}
    },
    {
     "output_type": "stream",
     "name": "stdout",
     "text": [
      "org.apache.commons.collections4.multimap.abstractmultivaluedmaptest.java\n"
     ]
    },
    {
     "output_type": "display_data",
     "data": {
      "text/plain": "Empty DataFrame\nColumns: [filename, unprocessed_code, project]\nIndex: []",
      "text/html": "<div>\n<style scoped>\n    .dataframe tbody tr th:only-of-type {\n        vertical-align: middle;\n    }\n\n    .dataframe tbody tr th {\n        vertical-align: top;\n    }\n\n    .dataframe thead th {\n        text-align: right;\n    }\n</style>\n<table border=\"1\" class=\"dataframe\">\n  <thead>\n    <tr style=\"text-align: right;\">\n      <th></th>\n      <th>filename</th>\n      <th>unprocessed_code</th>\n      <th>project</th>\n    </tr>\n  </thead>\n  <tbody>\n  </tbody>\n</table>\n</div>"
     },
     "metadata": {}
    },
    {
     "output_type": "stream",
     "name": "stdout",
     "text": [
      "org.apache.commons.collections4.set.abstractsetdecorator.java\n"
     ]
    },
    {
     "output_type": "display_data",
     "data": {
      "text/plain": "Empty DataFrame\nColumns: [filename, unprocessed_code, project]\nIndex: []",
      "text/html": "<div>\n<style scoped>\n    .dataframe tbody tr th:only-of-type {\n        vertical-align: middle;\n    }\n\n    .dataframe tbody tr th {\n        vertical-align: top;\n    }\n\n    .dataframe thead th {\n        text-align: right;\n    }\n</style>\n<table border=\"1\" class=\"dataframe\">\n  <thead>\n    <tr style=\"text-align: right;\">\n      <th></th>\n      <th>filename</th>\n      <th>unprocessed_code</th>\n      <th>project</th>\n    </tr>\n  </thead>\n  <tbody>\n  </tbody>\n</table>\n</div>"
     },
     "metadata": {}
    },
    {
     "output_type": "stream",
     "name": "stdout",
     "text": [
      "org.apache.commons.collections4.bag.abstractbagdecorator.java\n"
     ]
    },
    {
     "output_type": "display_data",
     "data": {
      "text/plain": "Empty DataFrame\nColumns: [filename, unprocessed_code, project]\nIndex: []",
      "text/html": "<div>\n<style scoped>\n    .dataframe tbody tr th:only-of-type {\n        vertical-align: middle;\n    }\n\n    .dataframe tbody tr th {\n        vertical-align: top;\n    }\n\n    .dataframe thead th {\n        text-align: right;\n    }\n</style>\n<table border=\"1\" class=\"dataframe\">\n  <thead>\n    <tr style=\"text-align: right;\">\n      <th></th>\n      <th>filename</th>\n      <th>unprocessed_code</th>\n      <th>project</th>\n    </tr>\n  </thead>\n  <tbody>\n  </tbody>\n</table>\n</div>"
     },
     "metadata": {}
    },
    {
     "output_type": "stream",
     "name": "stdout",
     "text": [
      "org.apache.commons.collections4.queue.abstractqueuedecorator.java\n"
     ]
    },
    {
     "output_type": "display_data",
     "data": {
      "text/plain": "Empty DataFrame\nColumns: [filename, unprocessed_code, project]\nIndex: []",
      "text/html": "<div>\n<style scoped>\n    .dataframe tbody tr th:only-of-type {\n        vertical-align: middle;\n    }\n\n    .dataframe tbody tr th {\n        vertical-align: top;\n    }\n\n    .dataframe thead th {\n        text-align: right;\n    }\n</style>\n<table border=\"1\" class=\"dataframe\">\n  <thead>\n    <tr style=\"text-align: right;\">\n      <th></th>\n      <th>filename</th>\n      <th>unprocessed_code</th>\n      <th>project</th>\n    </tr>\n  </thead>\n  <tbody>\n  </tbody>\n</table>\n</div>"
     },
     "metadata": {}
    },
    {
     "output_type": "stream",
     "name": "stdout",
     "text": [
      "org.apache.commons.collections4.bidimap.abstractdualbidimap.java\n"
     ]
    },
    {
     "output_type": "display_data",
     "data": {
      "text/plain": "Empty DataFrame\nColumns: [filename, unprocessed_code, project]\nIndex: []",
      "text/html": "<div>\n<style scoped>\n    .dataframe tbody tr th:only-of-type {\n        vertical-align: middle;\n    }\n\n    .dataframe tbody tr th {\n        vertical-align: top;\n    }\n\n    .dataframe thead th {\n        text-align: right;\n    }\n</style>\n<table border=\"1\" class=\"dataframe\">\n  <thead>\n    <tr style=\"text-align: right;\">\n      <th></th>\n      <th>filename</th>\n      <th>unprocessed_code</th>\n      <th>project</th>\n    </tr>\n  </thead>\n  <tbody>\n  </tbody>\n</table>\n</div>"
     },
     "metadata": {}
    },
    {
     "output_type": "stream",
     "name": "stdout",
     "text": [
      "org.apache.commons.collections4.bag.predicatedbag.java\n"
     ]
    },
    {
     "output_type": "display_data",
     "data": {
      "text/plain": "Empty DataFrame\nColumns: [filename, unprocessed_code, project]\nIndex: []",
      "text/html": "<div>\n<style scoped>\n    .dataframe tbody tr th:only-of-type {\n        vertical-align: middle;\n    }\n\n    .dataframe tbody tr th {\n        vertical-align: top;\n    }\n\n    .dataframe thead th {\n        text-align: right;\n    }\n</style>\n<table border=\"1\" class=\"dataframe\">\n  <thead>\n    <tr style=\"text-align: right;\">\n      <th></th>\n      <th>filename</th>\n      <th>unprocessed_code</th>\n      <th>project</th>\n    </tr>\n  </thead>\n  <tbody>\n  </tbody>\n</table>\n</div>"
     },
     "metadata": {}
    },
    {
     "output_type": "stream",
     "name": "stdout",
     "text": [
      "org.apache.commons.collections4.set.transformedset.java\n"
     ]
    },
    {
     "output_type": "display_data",
     "data": {
      "text/plain": "Empty DataFrame\nColumns: [filename, unprocessed_code, project]\nIndex: []",
      "text/html": "<div>\n<style scoped>\n    .dataframe tbody tr th:only-of-type {\n        vertical-align: middle;\n    }\n\n    .dataframe tbody tr th {\n        vertical-align: top;\n    }\n\n    .dataframe thead th {\n        text-align: right;\n    }\n</style>\n<table border=\"1\" class=\"dataframe\">\n  <thead>\n    <tr style=\"text-align: right;\">\n      <th></th>\n      <th>filename</th>\n      <th>unprocessed_code</th>\n      <th>project</th>\n    </tr>\n  </thead>\n  <tbody>\n  </tbody>\n</table>\n</div>"
     },
     "metadata": {}
    },
    {
     "output_type": "stream",
     "name": "stdout",
     "text": [
      "org.apache.commons.collections4.list.predicatedlist.java\n"
     ]
    },
    {
     "output_type": "display_data",
     "data": {
      "text/plain": "Empty DataFrame\nColumns: [filename, unprocessed_code, project]\nIndex: []",
      "text/html": "<div>\n<style scoped>\n    .dataframe tbody tr th:only-of-type {\n        vertical-align: middle;\n    }\n\n    .dataframe tbody tr th {\n        vertical-align: top;\n    }\n\n    .dataframe thead th {\n        text-align: right;\n    }\n</style>\n<table border=\"1\" class=\"dataframe\">\n  <thead>\n    <tr style=\"text-align: right;\">\n      <th></th>\n      <th>filename</th>\n      <th>unprocessed_code</th>\n      <th>project</th>\n    </tr>\n  </thead>\n  <tbody>\n  </tbody>\n</table>\n</div>"
     },
     "metadata": {}
    },
    {
     "output_type": "stream",
     "name": "stdout",
     "text": [
      "org.apache.commons.collections4.bag.synchronizedbag.java\n"
     ]
    },
    {
     "output_type": "display_data",
     "data": {
      "text/plain": "Empty DataFrame\nColumns: [filename, unprocessed_code, project]\nIndex: []",
      "text/html": "<div>\n<style scoped>\n    .dataframe tbody tr th:only-of-type {\n        vertical-align: middle;\n    }\n\n    .dataframe tbody tr th {\n        vertical-align: top;\n    }\n\n    .dataframe thead th {\n        text-align: right;\n    }\n</style>\n<table border=\"1\" class=\"dataframe\">\n  <thead>\n    <tr style=\"text-align: right;\">\n      <th></th>\n      <th>filename</th>\n      <th>unprocessed_code</th>\n      <th>project</th>\n    </tr>\n  </thead>\n  <tbody>\n  </tbody>\n</table>\n</div>"
     },
     "metadata": {}
    },
    {
     "output_type": "stream",
     "name": "stdout",
     "text": [
      "org.apache.commons.collections4.bag.transformedbag.java\n"
     ]
    },
    {
     "output_type": "display_data",
     "data": {
      "text/plain": "Empty DataFrame\nColumns: [filename, unprocessed_code, project]\nIndex: []",
      "text/html": "<div>\n<style scoped>\n    .dataframe tbody tr th:only-of-type {\n        vertical-align: middle;\n    }\n\n    .dataframe tbody tr th {\n        vertical-align: top;\n    }\n\n    .dataframe thead th {\n        text-align: right;\n    }\n</style>\n<table border=\"1\" class=\"dataframe\">\n  <thead>\n    <tr style=\"text-align: right;\">\n      <th></th>\n      <th>filename</th>\n      <th>unprocessed_code</th>\n      <th>project</th>\n    </tr>\n  </thead>\n  <tbody>\n  </tbody>\n</table>\n</div>"
     },
     "metadata": {}
    },
    {
     "output_type": "stream",
     "name": "stdout",
     "text": [
      "org.apache.commons.collections4.collection.abstractcollectiondecorator.java\n"
     ]
    },
    {
     "output_type": "display_data",
     "data": {
      "text/plain": "Empty DataFrame\nColumns: [filename, unprocessed_code, project]\nIndex: []",
      "text/html": "<div>\n<style scoped>\n    .dataframe tbody tr th:only-of-type {\n        vertical-align: middle;\n    }\n\n    .dataframe tbody tr th {\n        vertical-align: top;\n    }\n\n    .dataframe thead th {\n        text-align: right;\n    }\n</style>\n<table border=\"1\" class=\"dataframe\">\n  <thead>\n    <tr style=\"text-align: right;\">\n      <th></th>\n      <th>filename</th>\n      <th>unprocessed_code</th>\n      <th>project</th>\n    </tr>\n  </thead>\n  <tbody>\n  </tbody>\n</table>\n</div>"
     },
     "metadata": {}
    },
    {
     "output_type": "stream",
     "name": "stdout",
     "text": [
      "[-1, -1, -1, -1, -1, -1, -1, -1, -1, -1, -1, -1, -1, -1, -1]\n['org.apache.commons.collections4.collectionutils.java']\norg.apache.commons.collections4.collectionutils.java\n"
     ]
    },
    {
     "output_type": "display_data",
     "data": {
      "text/plain": "Empty DataFrame\nColumns: [filename, unprocessed_code, project]\nIndex: []",
      "text/html": "<div>\n<style scoped>\n    .dataframe tbody tr th:only-of-type {\n        vertical-align: middle;\n    }\n\n    .dataframe tbody tr th {\n        vertical-align: top;\n    }\n\n    .dataframe thead th {\n        text-align: right;\n    }\n</style>\n<table border=\"1\" class=\"dataframe\">\n  <thead>\n    <tr style=\"text-align: right;\">\n      <th></th>\n      <th>filename</th>\n      <th>unprocessed_code</th>\n      <th>project</th>\n    </tr>\n  </thead>\n  <tbody>\n  </tbody>\n</table>\n</div>"
     },
     "metadata": {}
    },
    {
     "output_type": "stream",
     "name": "stdout",
     "text": [
      "[-1]\n['org.apache.commons.collections4.set.listorderedset.java'\n 'org.apache.commons.collections4.set.listorderedsettest.java'\n 'org.apache.commons.collections.set.listorderedset.java'\n 'org.apache.commons.collections.set.listorderedsettest.java']\norg.apache.commons.collections4.set.listorderedset.java\n"
     ]
    },
    {
     "output_type": "display_data",
     "data": {
      "text/plain": "Empty DataFrame\nColumns: [filename, unprocessed_code, project]\nIndex: []",
      "text/html": "<div>\n<style scoped>\n    .dataframe tbody tr th:only-of-type {\n        vertical-align: middle;\n    }\n\n    .dataframe tbody tr th {\n        vertical-align: top;\n    }\n\n    .dataframe thead th {\n        text-align: right;\n    }\n</style>\n<table border=\"1\" class=\"dataframe\">\n  <thead>\n    <tr style=\"text-align: right;\">\n      <th></th>\n      <th>filename</th>\n      <th>unprocessed_code</th>\n      <th>project</th>\n    </tr>\n  </thead>\n  <tbody>\n  </tbody>\n</table>\n</div>"
     },
     "metadata": {}
    },
    {
     "output_type": "stream",
     "name": "stdout",
     "text": [
      "org.apache.commons.collections4.set.listorderedsettest.java\n"
     ]
    },
    {
     "output_type": "display_data",
     "data": {
      "text/plain": "Empty DataFrame\nColumns: [filename, unprocessed_code, project]\nIndex: []",
      "text/html": "<div>\n<style scoped>\n    .dataframe tbody tr th:only-of-type {\n        vertical-align: middle;\n    }\n\n    .dataframe tbody tr th {\n        vertical-align: top;\n    }\n\n    .dataframe thead th {\n        text-align: right;\n    }\n</style>\n<table border=\"1\" class=\"dataframe\">\n  <thead>\n    <tr style=\"text-align: right;\">\n      <th></th>\n      <th>filename</th>\n      <th>unprocessed_code</th>\n      <th>project</th>\n    </tr>\n  </thead>\n  <tbody>\n  </tbody>\n</table>\n</div>"
     },
     "metadata": {}
    },
    {
     "output_type": "stream",
     "name": "stdout",
     "text": [
      "org.apache.commons.collections.set.listorderedset.java\n"
     ]
    },
    {
     "output_type": "display_data",
     "data": {
      "text/plain": "                                              filename  \\\n261  org.apache.commons.collections.set.listordered...   \n\n                                      unprocessed_code      project  \n261  Licensed to the  Apache  Software  Foundation ...  COLLECTIONS  ",
      "text/html": "<div>\n<style scoped>\n    .dataframe tbody tr th:only-of-type {\n        vertical-align: middle;\n    }\n\n    .dataframe tbody tr th {\n        vertical-align: top;\n    }\n\n    .dataframe thead th {\n        text-align: right;\n    }\n</style>\n<table border=\"1\" class=\"dataframe\">\n  <thead>\n    <tr style=\"text-align: right;\">\n      <th></th>\n      <th>filename</th>\n      <th>unprocessed_code</th>\n      <th>project</th>\n    </tr>\n  </thead>\n  <tbody>\n    <tr>\n      <th>261</th>\n      <td>org.apache.commons.collections.set.listordered...</td>\n      <td>Licensed to the  Apache  Software  Foundation ...</td>\n      <td>COLLECTIONS</td>\n    </tr>\n  </tbody>\n</table>\n</div>"
     },
     "metadata": {}
    },
    {
     "output_type": "stream",
     "name": "stdout",
     "text": [
      "261\norg.apache.commons.collections.set.listorderedsettest.java\n"
     ]
    },
    {
     "output_type": "display_data",
     "data": {
      "text/plain": "Empty DataFrame\nColumns: [filename, unprocessed_code, project]\nIndex: []",
      "text/html": "<div>\n<style scoped>\n    .dataframe tbody tr th:only-of-type {\n        vertical-align: middle;\n    }\n\n    .dataframe tbody tr th {\n        vertical-align: top;\n    }\n\n    .dataframe thead th {\n        text-align: right;\n    }\n</style>\n<table border=\"1\" class=\"dataframe\">\n  <thead>\n    <tr style=\"text-align: right;\">\n      <th></th>\n      <th>filename</th>\n      <th>unprocessed_code</th>\n      <th>project</th>\n    </tr>\n  </thead>\n  <tbody>\n  </tbody>\n</table>\n</div>"
     },
     "metadata": {}
    },
    {
     "output_type": "stream",
     "name": "stdout",
     "text": [
      "[-1, -1, 261, -1]\n['org.apache.commons.collections4.list.setuniquelisttest.java'\n 'org.apache.commons.collections4.list.setuniquelist.java'\n 'org.apache.commons.collections.list.setuniquelisttest.java'\n 'org.apache.commons.collections.list.setuniquelist.java']\norg.apache.commons.collections4.list.setuniquelisttest.java\n"
     ]
    },
    {
     "output_type": "display_data",
     "data": {
      "text/plain": "Empty DataFrame\nColumns: [filename, unprocessed_code, project]\nIndex: []",
      "text/html": "<div>\n<style scoped>\n    .dataframe tbody tr th:only-of-type {\n        vertical-align: middle;\n    }\n\n    .dataframe tbody tr th {\n        vertical-align: top;\n    }\n\n    .dataframe thead th {\n        text-align: right;\n    }\n</style>\n<table border=\"1\" class=\"dataframe\">\n  <thead>\n    <tr style=\"text-align: right;\">\n      <th></th>\n      <th>filename</th>\n      <th>unprocessed_code</th>\n      <th>project</th>\n    </tr>\n  </thead>\n  <tbody>\n  </tbody>\n</table>\n</div>"
     },
     "metadata": {}
    },
    {
     "output_type": "stream",
     "name": "stdout",
     "text": [
      "org.apache.commons.collections4.list.setuniquelist.java\n"
     ]
    },
    {
     "output_type": "display_data",
     "data": {
      "text/plain": "Empty DataFrame\nColumns: [filename, unprocessed_code, project]\nIndex: []",
      "text/html": "<div>\n<style scoped>\n    .dataframe tbody tr th:only-of-type {\n        vertical-align: middle;\n    }\n\n    .dataframe tbody tr th {\n        vertical-align: top;\n    }\n\n    .dataframe thead th {\n        text-align: right;\n    }\n</style>\n<table border=\"1\" class=\"dataframe\">\n  <thead>\n    <tr style=\"text-align: right;\">\n      <th></th>\n      <th>filename</th>\n      <th>unprocessed_code</th>\n      <th>project</th>\n    </tr>\n  </thead>\n  <tbody>\n  </tbody>\n</table>\n</div>"
     },
     "metadata": {}
    },
    {
     "output_type": "stream",
     "name": "stdout",
     "text": [
      "org.apache.commons.collections.list.setuniquelisttest.java\n"
     ]
    },
    {
     "output_type": "display_data",
     "data": {
      "text/plain": "Empty DataFrame\nColumns: [filename, unprocessed_code, project]\nIndex: []",
      "text/html": "<div>\n<style scoped>\n    .dataframe tbody tr th:only-of-type {\n        vertical-align: middle;\n    }\n\n    .dataframe tbody tr th {\n        vertical-align: top;\n    }\n\n    .dataframe thead th {\n        text-align: right;\n    }\n</style>\n<table border=\"1\" class=\"dataframe\">\n  <thead>\n    <tr style=\"text-align: right;\">\n      <th></th>\n      <th>filename</th>\n      <th>unprocessed_code</th>\n      <th>project</th>\n    </tr>\n  </thead>\n  <tbody>\n  </tbody>\n</table>\n</div>"
     },
     "metadata": {}
    },
    {
     "output_type": "stream",
     "name": "stdout",
     "text": [
      "org.apache.commons.collections.list.setuniquelist.java\n"
     ]
    },
    {
     "output_type": "display_data",
     "data": {
      "text/plain": "                                              filename  \\\n215  org.apache.commons.collections.list.setuniquel...   \n\n                                      unprocessed_code      project  \n215  Licensed to the  Apache  Software  Foundation ...  COLLECTIONS  ",
      "text/html": "<div>\n<style scoped>\n    .dataframe tbody tr th:only-of-type {\n        vertical-align: middle;\n    }\n\n    .dataframe tbody tr th {\n        vertical-align: top;\n    }\n\n    .dataframe thead th {\n        text-align: right;\n    }\n</style>\n<table border=\"1\" class=\"dataframe\">\n  <thead>\n    <tr style=\"text-align: right;\">\n      <th></th>\n      <th>filename</th>\n      <th>unprocessed_code</th>\n      <th>project</th>\n    </tr>\n  </thead>\n  <tbody>\n    <tr>\n      <th>215</th>\n      <td>org.apache.commons.collections.list.setuniquel...</td>\n      <td>Licensed to the  Apache  Software  Foundation ...</td>\n      <td>COLLECTIONS</td>\n    </tr>\n  </tbody>\n</table>\n</div>"
     },
     "metadata": {}
    },
    {
     "output_type": "stream",
     "name": "stdout",
     "text": [
      "215\n[-1, -1, -1, 215]\n['org.apache.commons.collections4.bag.treebagtest.java'\n 'org.apache.commons.collections4.bag.treebag.java']\norg.apache.commons.collections4.bag.treebagtest.java\n"
     ]
    },
    {
     "output_type": "display_data",
     "data": {
      "text/plain": "Empty DataFrame\nColumns: [filename, unprocessed_code, project]\nIndex: []",
      "text/html": "<div>\n<style scoped>\n    .dataframe tbody tr th:only-of-type {\n        vertical-align: middle;\n    }\n\n    .dataframe tbody tr th {\n        vertical-align: top;\n    }\n\n    .dataframe thead th {\n        text-align: right;\n    }\n</style>\n<table border=\"1\" class=\"dataframe\">\n  <thead>\n    <tr style=\"text-align: right;\">\n      <th></th>\n      <th>filename</th>\n      <th>unprocessed_code</th>\n      <th>project</th>\n    </tr>\n  </thead>\n  <tbody>\n  </tbody>\n</table>\n</div>"
     },
     "metadata": {}
    },
    {
     "output_type": "stream",
     "name": "stdout",
     "text": [
      "org.apache.commons.collections4.bag.treebag.java\n"
     ]
    },
    {
     "output_type": "display_data",
     "data": {
      "text/plain": "Empty DataFrame\nColumns: [filename, unprocessed_code, project]\nIndex: []",
      "text/html": "<div>\n<style scoped>\n    .dataframe tbody tr th:only-of-type {\n        vertical-align: middle;\n    }\n\n    .dataframe tbody tr th {\n        vertical-align: top;\n    }\n\n    .dataframe thead th {\n        text-align: right;\n    }\n</style>\n<table border=\"1\" class=\"dataframe\">\n  <thead>\n    <tr style=\"text-align: right;\">\n      <th></th>\n      <th>filename</th>\n      <th>unprocessed_code</th>\n      <th>project</th>\n    </tr>\n  </thead>\n  <tbody>\n  </tbody>\n</table>\n</div>"
     },
     "metadata": {}
    },
    {
     "output_type": "stream",
     "name": "stdout",
     "text": [
      "[-1, -1]\n['org.apache.commons.collections4.set.listorderedset.java']\norg.apache.commons.collections4.set.listorderedset.java\n"
     ]
    },
    {
     "output_type": "display_data",
     "data": {
      "text/plain": "Empty DataFrame\nColumns: [filename, unprocessed_code, project]\nIndex: []",
      "text/html": "<div>\n<style scoped>\n    .dataframe tbody tr th:only-of-type {\n        vertical-align: middle;\n    }\n\n    .dataframe tbody tr th {\n        vertical-align: top;\n    }\n\n    .dataframe thead th {\n        text-align: right;\n    }\n</style>\n<table border=\"1\" class=\"dataframe\">\n  <thead>\n    <tr style=\"text-align: right;\">\n      <th></th>\n      <th>filename</th>\n      <th>unprocessed_code</th>\n      <th>project</th>\n    </tr>\n  </thead>\n  <tbody>\n  </tbody>\n</table>\n</div>"
     },
     "metadata": {}
    },
    {
     "output_type": "stream",
     "name": "stdout",
     "text": [
      "[-1]\n['org.apache.commons.collections4.iteratorutils.java'\n 'org.apache.commons.collections4.iteratorutilstest.java']\norg.apache.commons.collections4.iteratorutils.java\n"
     ]
    },
    {
     "output_type": "display_data",
     "data": {
      "text/plain": "Empty DataFrame\nColumns: [filename, unprocessed_code, project]\nIndex: []",
      "text/html": "<div>\n<style scoped>\n    .dataframe tbody tr th:only-of-type {\n        vertical-align: middle;\n    }\n\n    .dataframe tbody tr th {\n        vertical-align: top;\n    }\n\n    .dataframe thead th {\n        text-align: right;\n    }\n</style>\n<table border=\"1\" class=\"dataframe\">\n  <thead>\n    <tr style=\"text-align: right;\">\n      <th></th>\n      <th>filename</th>\n      <th>unprocessed_code</th>\n      <th>project</th>\n    </tr>\n  </thead>\n  <tbody>\n  </tbody>\n</table>\n</div>"
     },
     "metadata": {}
    },
    {
     "output_type": "stream",
     "name": "stdout",
     "text": [
      "org.apache.commons.collections4.iteratorutilstest.java\n"
     ]
    },
    {
     "output_type": "display_data",
     "data": {
      "text/plain": "Empty DataFrame\nColumns: [filename, unprocessed_code, project]\nIndex: []",
      "text/html": "<div>\n<style scoped>\n    .dataframe tbody tr th:only-of-type {\n        vertical-align: middle;\n    }\n\n    .dataframe tbody tr th {\n        vertical-align: top;\n    }\n\n    .dataframe thead th {\n        text-align: right;\n    }\n</style>\n<table border=\"1\" class=\"dataframe\">\n  <thead>\n    <tr style=\"text-align: right;\">\n      <th></th>\n      <th>filename</th>\n      <th>unprocessed_code</th>\n      <th>project</th>\n    </tr>\n  </thead>\n  <tbody>\n  </tbody>\n</table>\n</div>"
     },
     "metadata": {}
    },
    {
     "output_type": "stream",
     "name": "stdout",
     "text": [
      "[-1, -1]\n['org.apache.commons.collections4.set.listorderedsettest.java'\n 'org.apache.commons.collections4.functors.anypredicate.java'\n 'org.apache.commons.collections4.trie.unmodifiabletrie.java'\n 'org.apache.commons.collections4.splitmap.transformedsplitmap.java'\n 'org.apache.commons.collections4.collection.unmodifiableboundedcollectiontest.java'\n 'org.apache.commons.collections4.map.unmodifiablesortedmap.java'\n 'org.apache.commons.collections4.collection.unmodifiablecollectiontest.java'\n 'org.apache.commons.collections4.map.predicatedmap.java'\n 'org.apache.commons.collections4.list.unmodifiablelist.java'\n 'org.apache.commons.collections4.iterators.pushbackiterator.java'\n 'org.apache.commons.collections4.functors.functorutils.java'\n 'org.apache.commons.collections4.predicateutilstest.java'\n 'org.apache.commons.collections4.splitmap.abstractiterablegetmapdecorator.java'\n 'org.apache.commons.collections4.collectionutilstest.java'\n 'org.apache.commons.collections4.transformerutilstest.java'\n 'org.apache.commons.collections4.collection.transformedcollection.java'\n 'org.apache.commons.collections4.bag.abstractsortedbagdecorator.java'\n 'org.apache.commons.collections4.list.fixedsizelist.java'\n 'org.apache.commons.collections4.bag.unmodifiablebagtest.java'\n 'org.apache.commons.collections4.iterators.abstractorderedmapiteratordecorator.java'\n 'org.apache.commons.collections4.functors.allpredicate.java'\n 'org.apache.commons.collections4.bidimap.unmodifiablebidimap.java'\n 'org.apache.commons.collections4.multiset.abstractmultisetdecorator.java'\n 'org.apache.commons.collections4.map.fixedsizemap.java'\n 'org.apache.commons.collections4.map.unmodifiableorderedmap.java'\n 'org.apache.commons.collections4.set.abstractsetdecorator.java'\n 'org.apache.commons.collections4.map.passiveexpiringmaptest.java'\n 'org.apache.commons.collections4.list.transformedlist.java'\n 'org.apache.commons.collections4.bag.predicatedsortedbagtest.java'\n 'org.apache.commons.collections4.functors.nonepredicate.java'\n 'org.apache.commons.collections4.closureutilstest.java'\n 'org.apache.commons.collections4.maputilstest.java'\n 'org.apache.commons.collections4.functors.transformedpredicate.java'\n 'org.apache.commons.collections4.set.unmodifiableset.java'\n 'org.apache.commons.collections4.bag.abstractbagdecorator.java'\n 'org.apache.commons.collections4.multimap.abstractmultivaluedmap.java'\n 'org.apache.commons.collections4.queue.abstractqueuedecorator.java'\n 'org.apache.commons.collections4.set.transformedsortedset.java'\n 'org.apache.commons.collections4.trieutilstest.java'\n 'org.apache.commons.collections4.functors.closuretransformer.java'\n 'org.apache.commons.collections4.queue.predicatedqueue.java'\n 'org.apache.commons.collections4.set.unmodifiablesortedset.java'\n 'org.apache.commons.collections4.map.lazymap.java'\n 'org.apache.commons.collections4.bag.unmodifiablesortedbag.java'\n 'org.apache.commons.collections4.bidimap.unmodifiableorderedbidimap.java'\n 'org.apache.commons.collections4.iterators.abstractuntypediteratordecorator.java'\n 'org.apache.commons.collections4.collection.abstractcollectiondecorator.java'\n 'org.apache.commons.collections4.setutilstest.java'\n 'org.apache.commons.collections4.list.lazylist.java'\n 'org.apache.commons.collections4.trieutils.java'\n 'org.apache.commons.collections4.set.predicatedset.java'\n 'org.apache.commons.collections4.set.transformednavigableset.java'\n 'org.apache.commons.collections4.functors.switchclosure.java'\n 'org.apache.commons.collections4.functors.andpredicate.java'\n 'org.apache.commons.collections4.map.abstractorderedmapdecorator.java'\n 'org.apache.commons.collections4.bag.predicatedbag.java'\n 'org.apache.commons.collections4.iterators.unmodifiablelistiterator.java'\n 'org.apache.commons.collections4.bag.collectionbag.java'\n 'org.apache.commons.collections4.bidimap.abstractsortedbidimapdecorator.java'\n 'org.apache.commons.collections4.bag.predicatedbagtest.java'\n 'org.apache.commons.collections4.map.defaultedmap.java'\n 'org.apache.commons.collections4.iterators.abstractiteratordecorator.java'\n 'org.apache.commons.collections4.map.multikeymap.java'\n 'org.apache.commons.collections4.iterators.abstractmapiteratordecorator.java'\n 'org.apache.commons.collections4.factoryutilstest.java'\n 'org.apache.commons.collections4.queue.unmodifiablequeue.java'\n 'org.apache.commons.collections4.functors.abstractcompositepredicatetest.java'\n 'org.apache.commons.collections4.functors.switchtransformer.java'\n 'org.apache.commons.collections4.iterators.unmodifiablelistiteratortest.java'\n 'org.apache.commons.collections4.functors.chainedclosure.java'\n 'org.apache.commons.collections4.map.unmodifiablesortedmaptest.java'\n 'org.apache.commons.collections4.functors.instantiatefactory.java'\n 'org.apache.commons.collections4.iterators.nodelistiteratortest.java'\n 'org.apache.commons.collections4.set.abstractnavigablesetdecorator.java'\n 'org.apache.commons.collections4.collection.unmodifiablecollection.java'\n 'org.apache.commons.collections4.set.unmodifiablenavigablesettest.java'\n 'org.apache.commons.collections4.map.predicatedsortedmap.java'\n 'org.apache.commons.collections4.bag.transformedsortedbag.java'\n 'org.apache.commons.collections4.collection.unmodifiableboundedcollection.java'\n 'org.apache.commons.collections4.bagutils.java'\n 'org.apache.commons.collections4.iterators.unmodifiableiterator.java'\n 'org.apache.commons.collections4.closureutils.java'\n 'org.apache.commons.collections4.functors.nullisexceptionpredicate.java'\n 'org.apache.commons.collections4.keyvalue.abstractmapentrydecorator.java'\n 'org.apache.commons.collections4.collection.synchronizedcollection.java'\n 'org.apache.commons.collections4.functors.notpredicate.java'\n 'org.apache.commons.collections4.queueutilstest.java'\n 'org.apache.commons.collections4.splitmaputils.java'\n 'org.apache.commons.collections4.set.abstractsortedsetdecorator.java'\n 'org.apache.commons.collections4.set.listorderedset.java'\n 'org.apache.commons.collections4.map.lazysortedmaptest.java'\n 'org.apache.commons.collections4.set.transformedset.java'\n 'org.apache.commons.collections4.list.predicatedlist.java'\n 'org.apache.commons.collections4.iterators.unmodifiableorderedmapiterator.java'\n 'org.apache.commons.collections4.functors.transformerpredicate.java'\n 'org.apache.commons.collections4.collectionutils.java'\n 'org.apache.commons.collections4.list.growthlist.java'\n 'org.apache.commons.collections4.factoryutils.java'\n 'org.apache.commons.collections4.functors.instanceofpredicate.java'\n 'org.apache.commons.collections4.list.setuniquelist.java'\n 'org.apache.commons.collections4.transformerutils.java'\n 'org.apache.commons.collections4.functors.nullisfalsepredicate.java'\n 'org.apache.commons.collections4.bidimap.unmodifiableorderedbidimaptest.java'\n 'org.apache.commons.collections4.functors.invokertransformer.java'\n 'org.apache.commons.collections4.set.abstractserializablesetdecorator.java'\n 'org.apache.commons.collections4.bag.predicatedsortedbag.java'\n 'org.apache.commons.collections4.comparators.fixedordercomparator.java'\n 'org.apache.commons.collections4.bag.collectionsortedbag.java'\n 'org.apache.commons.collections4.set.unmodifiablesettest.java'\n 'org.apache.commons.collections4.iterators.reverselistiterator.java'\n 'org.apache.commons.collections4.bidimap.unmodifiablesortedbidimaptest.java'\n 'org.apache.commons.collections4.bidimap.unmodifiablebidimaptest.java'\n 'org.apache.commons.collections4.functors.chainedtransformer.java'\n 'org.apache.commons.collections4.map.singletonmap.java'\n 'org.apache.commons.collections4.map.fixedsizesortedmap.java'\n 'org.apache.commons.collections4.set.predicatedsortedset.java'\n 'org.apache.commons.collections4.maputils.java'\n 'org.apache.commons.collections4.iterators.nodelistiterator.java'\n 'org.apache.commons.collections4.listutilstest.java'\n 'org.apache.commons.collections4.set.mapbackedset.java'\n 'org.apache.commons.collections4.bag.transformedbag.java'\n 'org.apache.commons.collections4.map.passiveexpiringmap.java'\n 'org.apache.commons.collections4.set.unmodifiablesortedsettest.java'\n 'org.apache.commons.collections4.bidimap.abstractorderedbidimapdecorator.java'\n 'org.apache.commons.collections4.collection.predicatedcollection.java'\n 'org.apache.commons.collections4.queue.unmodifiablequeuetest.java'\n 'org.apache.commons.collections4.map.unmodifiableorderedmaptest.java'\n 'org.apache.commons.collections4.map.abstractmapdecorator.java'\n 'org.apache.commons.collections4.iterators.boundediterator.java'\n 'org.apache.commons.collections4.map.unmodifiablemap.java'\n 'org.apache.commons.collections4.map.unmodifiableentryset.java'\n 'org.apache.commons.collections4.setutils.java'\n 'org.apache.commons.collections4.queue.transformedqueue.java'\n 'org.apache.commons.collections4.map.listorderedmap.java'\n 'org.apache.commons.collections4.iterators.unmodifiablemapiterator.java'\n 'org.apache.commons.collections4.map.lazysortedmap.java'\n 'org.apache.commons.collections4.bag.unmodifiablesortedbagtest.java'\n 'org.apache.commons.collections4.bidimap.abstractbidimapdecorator.java'\n 'org.apache.commons.collections4.listutils.java'\n 'org.apache.commons.collections4.functors.onepredicate.java'\n 'org.apache.commons.collections4.iterators.abstractlistiteratordecorator.java'\n 'org.apache.commons.collections4.iterators.unmodifiableorderedmapiteratortest.java'\n 'org.apache.commons.collections4.predicateutils.java'\n 'org.apache.commons.collections4.queueutils.java'\n 'org.apache.commons.collections4.map.transformedmap.java'\n 'org.apache.commons.collections4.map.abstractsortedmapdecorator.java'\n 'org.apache.commons.collections4.map.abstractinputcheckedmapdecorator.java'\n 'org.apache.commons.collections4.list.unmodifiablelisttest.java'\n 'org.apache.commons.collections4.list.abstractserializablelistdecorator.java'\n 'org.apache.commons.collections4.map.transformedsortedmap.java'\n 'org.apache.commons.collections4.functors.ifclosure.java'\n 'org.apache.commons.collections4.functors.nullistruepredicate.java'\n 'org.apache.commons.collections4.set.predicatednavigableset.java'\n 'org.apache.commons.collections4.iteratorutils.java'\n 'org.apache.commons.collections4.iterators.unmodifiableiteratortest.java'\n 'org.apache.commons.collections4.functors.orpredicate.java'\n 'org.apache.commons.collections4.trie.unmodifiabletrietest.java'\n 'org.apache.commons.collections4.iterators.peekingiterator.java'\n 'org.apache.commons.collections4.iterators.unmodifiablemapiteratortest.java'\n 'org.apache.commons.collections4.functors.whileclosure.java'\n 'org.apache.commons.collections4.functors.identitypredicate.java'\n 'org.apache.commons.collections4.functors.iftransformer.java'\n 'org.apache.commons.collections4.bag.synchronizedbag.java'\n 'org.apache.commons.collections4.functors.instantiatetransformer.java'\n 'org.apache.commons.collections4.list.abstractlistdecorator.java'\n 'org.apache.commons.collections4.bag.synchronizedsortedbag.java'\n 'org.apache.commons.collections4.map.unmodifiablemaptest.java'\n 'org.apache.commons.collections4.bagutilstest.java'\n 'org.apache.commons.collections4.bidimap.unmodifiablesortedbidimap.java'\n 'org.apache.commons.collections4.functors.comparatorpredicate.java'\n 'org.apache.commons.collections4.set.unmodifiablenavigableset.java'\n 'org.apache.commons.collections4.functors.factorytransformer.java'\n 'org.apache.commons.collections4.bag.unmodifiablebag.java']\norg.apache.commons.collections4.set.listorderedsettest.java\n"
     ]
    },
    {
     "output_type": "display_data",
     "data": {
      "text/plain": "Empty DataFrame\nColumns: [filename, unprocessed_code, project]\nIndex: []",
      "text/html": "<div>\n<style scoped>\n    .dataframe tbody tr th:only-of-type {\n        vertical-align: middle;\n    }\n\n    .dataframe tbody tr th {\n        vertical-align: top;\n    }\n\n    .dataframe thead th {\n        text-align: right;\n    }\n</style>\n<table border=\"1\" class=\"dataframe\">\n  <thead>\n    <tr style=\"text-align: right;\">\n      <th></th>\n      <th>filename</th>\n      <th>unprocessed_code</th>\n      <th>project</th>\n    </tr>\n  </thead>\n  <tbody>\n  </tbody>\n</table>\n</div>"
     },
     "metadata": {}
    },
    {
     "output_type": "stream",
     "name": "stdout",
     "text": [
      "org.apache.commons.collections4.functors.anypredicate.java\n"
     ]
    },
    {
     "output_type": "display_data",
     "data": {
      "text/plain": "Empty DataFrame\nColumns: [filename, unprocessed_code, project]\nIndex: []",
      "text/html": "<div>\n<style scoped>\n    .dataframe tbody tr th:only-of-type {\n        vertical-align: middle;\n    }\n\n    .dataframe tbody tr th {\n        vertical-align: top;\n    }\n\n    .dataframe thead th {\n        text-align: right;\n    }\n</style>\n<table border=\"1\" class=\"dataframe\">\n  <thead>\n    <tr style=\"text-align: right;\">\n      <th></th>\n      <th>filename</th>\n      <th>unprocessed_code</th>\n      <th>project</th>\n    </tr>\n  </thead>\n  <tbody>\n  </tbody>\n</table>\n</div>"
     },
     "metadata": {}
    },
    {
     "output_type": "stream",
     "name": "stdout",
     "text": [
      "org.apache.commons.collections4.trie.unmodifiabletrie.java\n"
     ]
    },
    {
     "output_type": "display_data",
     "data": {
      "text/plain": "Empty DataFrame\nColumns: [filename, unprocessed_code, project]\nIndex: []",
      "text/html": "<div>\n<style scoped>\n    .dataframe tbody tr th:only-of-type {\n        vertical-align: middle;\n    }\n\n    .dataframe tbody tr th {\n        vertical-align: top;\n    }\n\n    .dataframe thead th {\n        text-align: right;\n    }\n</style>\n<table border=\"1\" class=\"dataframe\">\n  <thead>\n    <tr style=\"text-align: right;\">\n      <th></th>\n      <th>filename</th>\n      <th>unprocessed_code</th>\n      <th>project</th>\n    </tr>\n  </thead>\n  <tbody>\n  </tbody>\n</table>\n</div>"
     },
     "metadata": {}
    },
    {
     "output_type": "stream",
     "name": "stdout",
     "text": [
      "org.apache.commons.collections4.splitmap.transformedsplitmap.java\n"
     ]
    },
    {
     "output_type": "display_data",
     "data": {
      "text/plain": "Empty DataFrame\nColumns: [filename, unprocessed_code, project]\nIndex: []",
      "text/html": "<div>\n<style scoped>\n    .dataframe tbody tr th:only-of-type {\n        vertical-align: middle;\n    }\n\n    .dataframe tbody tr th {\n        vertical-align: top;\n    }\n\n    .dataframe thead th {\n        text-align: right;\n    }\n</style>\n<table border=\"1\" class=\"dataframe\">\n  <thead>\n    <tr style=\"text-align: right;\">\n      <th></th>\n      <th>filename</th>\n      <th>unprocessed_code</th>\n      <th>project</th>\n    </tr>\n  </thead>\n  <tbody>\n  </tbody>\n</table>\n</div>"
     },
     "metadata": {}
    },
    {
     "output_type": "stream",
     "name": "stdout",
     "text": [
      "org.apache.commons.collections4.collection.unmodifiableboundedcollectiontest.java\n"
     ]
    },
    {
     "output_type": "display_data",
     "data": {
      "text/plain": "Empty DataFrame\nColumns: [filename, unprocessed_code, project]\nIndex: []",
      "text/html": "<div>\n<style scoped>\n    .dataframe tbody tr th:only-of-type {\n        vertical-align: middle;\n    }\n\n    .dataframe tbody tr th {\n        vertical-align: top;\n    }\n\n    .dataframe thead th {\n        text-align: right;\n    }\n</style>\n<table border=\"1\" class=\"dataframe\">\n  <thead>\n    <tr style=\"text-align: right;\">\n      <th></th>\n      <th>filename</th>\n      <th>unprocessed_code</th>\n      <th>project</th>\n    </tr>\n  </thead>\n  <tbody>\n  </tbody>\n</table>\n</div>"
     },
     "metadata": {}
    },
    {
     "output_type": "stream",
     "name": "stdout",
     "text": [
      "org.apache.commons.collections4.map.unmodifiablesortedmap.java\n"
     ]
    },
    {
     "output_type": "display_data",
     "data": {
      "text/plain": "Empty DataFrame\nColumns: [filename, unprocessed_code, project]\nIndex: []",
      "text/html": "<div>\n<style scoped>\n    .dataframe tbody tr th:only-of-type {\n        vertical-align: middle;\n    }\n\n    .dataframe tbody tr th {\n        vertical-align: top;\n    }\n\n    .dataframe thead th {\n        text-align: right;\n    }\n</style>\n<table border=\"1\" class=\"dataframe\">\n  <thead>\n    <tr style=\"text-align: right;\">\n      <th></th>\n      <th>filename</th>\n      <th>unprocessed_code</th>\n      <th>project</th>\n    </tr>\n  </thead>\n  <tbody>\n  </tbody>\n</table>\n</div>"
     },
     "metadata": {}
    },
    {
     "output_type": "stream",
     "name": "stdout",
     "text": [
      "org.apache.commons.collections4.collection.unmodifiablecollectiontest.java\n"
     ]
    },
    {
     "output_type": "display_data",
     "data": {
      "text/plain": "Empty DataFrame\nColumns: [filename, unprocessed_code, project]\nIndex: []",
      "text/html": "<div>\n<style scoped>\n    .dataframe tbody tr th:only-of-type {\n        vertical-align: middle;\n    }\n\n    .dataframe tbody tr th {\n        vertical-align: top;\n    }\n\n    .dataframe thead th {\n        text-align: right;\n    }\n</style>\n<table border=\"1\" class=\"dataframe\">\n  <thead>\n    <tr style=\"text-align: right;\">\n      <th></th>\n      <th>filename</th>\n      <th>unprocessed_code</th>\n      <th>project</th>\n    </tr>\n  </thead>\n  <tbody>\n  </tbody>\n</table>\n</div>"
     },
     "metadata": {}
    },
    {
     "output_type": "stream",
     "name": "stdout",
     "text": [
      "org.apache.commons.collections4.map.predicatedmap.java\n"
     ]
    },
    {
     "output_type": "display_data",
     "data": {
      "text/plain": "Empty DataFrame\nColumns: [filename, unprocessed_code, project]\nIndex: []",
      "text/html": "<div>\n<style scoped>\n    .dataframe tbody tr th:only-of-type {\n        vertical-align: middle;\n    }\n\n    .dataframe tbody tr th {\n        vertical-align: top;\n    }\n\n    .dataframe thead th {\n        text-align: right;\n    }\n</style>\n<table border=\"1\" class=\"dataframe\">\n  <thead>\n    <tr style=\"text-align: right;\">\n      <th></th>\n      <th>filename</th>\n      <th>unprocessed_code</th>\n      <th>project</th>\n    </tr>\n  </thead>\n  <tbody>\n  </tbody>\n</table>\n</div>"
     },
     "metadata": {}
    },
    {
     "output_type": "stream",
     "name": "stdout",
     "text": [
      "org.apache.commons.collections4.list.unmodifiablelist.java\n"
     ]
    },
    {
     "output_type": "display_data",
     "data": {
      "text/plain": "Empty DataFrame\nColumns: [filename, unprocessed_code, project]\nIndex: []",
      "text/html": "<div>\n<style scoped>\n    .dataframe tbody tr th:only-of-type {\n        vertical-align: middle;\n    }\n\n    .dataframe tbody tr th {\n        vertical-align: top;\n    }\n\n    .dataframe thead th {\n        text-align: right;\n    }\n</style>\n<table border=\"1\" class=\"dataframe\">\n  <thead>\n    <tr style=\"text-align: right;\">\n      <th></th>\n      <th>filename</th>\n      <th>unprocessed_code</th>\n      <th>project</th>\n    </tr>\n  </thead>\n  <tbody>\n  </tbody>\n</table>\n</div>"
     },
     "metadata": {}
    },
    {
     "output_type": "stream",
     "name": "stdout",
     "text": [
      "org.apache.commons.collections4.iterators.pushbackiterator.java\n"
     ]
    },
    {
     "output_type": "display_data",
     "data": {
      "text/plain": "Empty DataFrame\nColumns: [filename, unprocessed_code, project]\nIndex: []",
      "text/html": "<div>\n<style scoped>\n    .dataframe tbody tr th:only-of-type {\n        vertical-align: middle;\n    }\n\n    .dataframe tbody tr th {\n        vertical-align: top;\n    }\n\n    .dataframe thead th {\n        text-align: right;\n    }\n</style>\n<table border=\"1\" class=\"dataframe\">\n  <thead>\n    <tr style=\"text-align: right;\">\n      <th></th>\n      <th>filename</th>\n      <th>unprocessed_code</th>\n      <th>project</th>\n    </tr>\n  </thead>\n  <tbody>\n  </tbody>\n</table>\n</div>"
     },
     "metadata": {}
    },
    {
     "output_type": "stream",
     "name": "stdout",
     "text": [
      "org.apache.commons.collections4.functors.functorutils.java\n"
     ]
    },
    {
     "output_type": "display_data",
     "data": {
      "text/plain": "Empty DataFrame\nColumns: [filename, unprocessed_code, project]\nIndex: []",
      "text/html": "<div>\n<style scoped>\n    .dataframe tbody tr th:only-of-type {\n        vertical-align: middle;\n    }\n\n    .dataframe tbody tr th {\n        vertical-align: top;\n    }\n\n    .dataframe thead th {\n        text-align: right;\n    }\n</style>\n<table border=\"1\" class=\"dataframe\">\n  <thead>\n    <tr style=\"text-align: right;\">\n      <th></th>\n      <th>filename</th>\n      <th>unprocessed_code</th>\n      <th>project</th>\n    </tr>\n  </thead>\n  <tbody>\n  </tbody>\n</table>\n</div>"
     },
     "metadata": {}
    },
    {
     "output_type": "stream",
     "name": "stdout",
     "text": [
      "org.apache.commons.collections4.predicateutilstest.java\n"
     ]
    },
    {
     "output_type": "display_data",
     "data": {
      "text/plain": "Empty DataFrame\nColumns: [filename, unprocessed_code, project]\nIndex: []",
      "text/html": "<div>\n<style scoped>\n    .dataframe tbody tr th:only-of-type {\n        vertical-align: middle;\n    }\n\n    .dataframe tbody tr th {\n        vertical-align: top;\n    }\n\n    .dataframe thead th {\n        text-align: right;\n    }\n</style>\n<table border=\"1\" class=\"dataframe\">\n  <thead>\n    <tr style=\"text-align: right;\">\n      <th></th>\n      <th>filename</th>\n      <th>unprocessed_code</th>\n      <th>project</th>\n    </tr>\n  </thead>\n  <tbody>\n  </tbody>\n</table>\n</div>"
     },
     "metadata": {}
    },
    {
     "output_type": "stream",
     "name": "stdout",
     "text": [
      "org.apache.commons.collections4.splitmap.abstractiterablegetmapdecorator.java\n"
     ]
    },
    {
     "output_type": "display_data",
     "data": {
      "text/plain": "Empty DataFrame\nColumns: [filename, unprocessed_code, project]\nIndex: []",
      "text/html": "<div>\n<style scoped>\n    .dataframe tbody tr th:only-of-type {\n        vertical-align: middle;\n    }\n\n    .dataframe tbody tr th {\n        vertical-align: top;\n    }\n\n    .dataframe thead th {\n        text-align: right;\n    }\n</style>\n<table border=\"1\" class=\"dataframe\">\n  <thead>\n    <tr style=\"text-align: right;\">\n      <th></th>\n      <th>filename</th>\n      <th>unprocessed_code</th>\n      <th>project</th>\n    </tr>\n  </thead>\n  <tbody>\n  </tbody>\n</table>\n</div>"
     },
     "metadata": {}
    },
    {
     "output_type": "stream",
     "name": "stdout",
     "text": [
      "org.apache.commons.collections4.collectionutilstest.java\n"
     ]
    },
    {
     "output_type": "display_data",
     "data": {
      "text/plain": "Empty DataFrame\nColumns: [filename, unprocessed_code, project]\nIndex: []",
      "text/html": "<div>\n<style scoped>\n    .dataframe tbody tr th:only-of-type {\n        vertical-align: middle;\n    }\n\n    .dataframe tbody tr th {\n        vertical-align: top;\n    }\n\n    .dataframe thead th {\n        text-align: right;\n    }\n</style>\n<table border=\"1\" class=\"dataframe\">\n  <thead>\n    <tr style=\"text-align: right;\">\n      <th></th>\n      <th>filename</th>\n      <th>unprocessed_code</th>\n      <th>project</th>\n    </tr>\n  </thead>\n  <tbody>\n  </tbody>\n</table>\n</div>"
     },
     "metadata": {}
    },
    {
     "output_type": "stream",
     "name": "stdout",
     "text": [
      "org.apache.commons.collections4.transformerutilstest.java\n"
     ]
    },
    {
     "output_type": "display_data",
     "data": {
      "text/plain": "Empty DataFrame\nColumns: [filename, unprocessed_code, project]\nIndex: []",
      "text/html": "<div>\n<style scoped>\n    .dataframe tbody tr th:only-of-type {\n        vertical-align: middle;\n    }\n\n    .dataframe tbody tr th {\n        vertical-align: top;\n    }\n\n    .dataframe thead th {\n        text-align: right;\n    }\n</style>\n<table border=\"1\" class=\"dataframe\">\n  <thead>\n    <tr style=\"text-align: right;\">\n      <th></th>\n      <th>filename</th>\n      <th>unprocessed_code</th>\n      <th>project</th>\n    </tr>\n  </thead>\n  <tbody>\n  </tbody>\n</table>\n</div>"
     },
     "metadata": {}
    },
    {
     "output_type": "stream",
     "name": "stdout",
     "text": [
      "org.apache.commons.collections4.collection.transformedcollection.java\n"
     ]
    },
    {
     "output_type": "display_data",
     "data": {
      "text/plain": "Empty DataFrame\nColumns: [filename, unprocessed_code, project]\nIndex: []",
      "text/html": "<div>\n<style scoped>\n    .dataframe tbody tr th:only-of-type {\n        vertical-align: middle;\n    }\n\n    .dataframe tbody tr th {\n        vertical-align: top;\n    }\n\n    .dataframe thead th {\n        text-align: right;\n    }\n</style>\n<table border=\"1\" class=\"dataframe\">\n  <thead>\n    <tr style=\"text-align: right;\">\n      <th></th>\n      <th>filename</th>\n      <th>unprocessed_code</th>\n      <th>project</th>\n    </tr>\n  </thead>\n  <tbody>\n  </tbody>\n</table>\n</div>"
     },
     "metadata": {}
    },
    {
     "output_type": "stream",
     "name": "stdout",
     "text": [
      "org.apache.commons.collections4.bag.abstractsortedbagdecorator.java\n"
     ]
    },
    {
     "output_type": "display_data",
     "data": {
      "text/plain": "Empty DataFrame\nColumns: [filename, unprocessed_code, project]\nIndex: []",
      "text/html": "<div>\n<style scoped>\n    .dataframe tbody tr th:only-of-type {\n        vertical-align: middle;\n    }\n\n    .dataframe tbody tr th {\n        vertical-align: top;\n    }\n\n    .dataframe thead th {\n        text-align: right;\n    }\n</style>\n<table border=\"1\" class=\"dataframe\">\n  <thead>\n    <tr style=\"text-align: right;\">\n      <th></th>\n      <th>filename</th>\n      <th>unprocessed_code</th>\n      <th>project</th>\n    </tr>\n  </thead>\n  <tbody>\n  </tbody>\n</table>\n</div>"
     },
     "metadata": {}
    },
    {
     "output_type": "stream",
     "name": "stdout",
     "text": [
      "org.apache.commons.collections4.list.fixedsizelist.java\n"
     ]
    },
    {
     "output_type": "display_data",
     "data": {
      "text/plain": "Empty DataFrame\nColumns: [filename, unprocessed_code, project]\nIndex: []",
      "text/html": "<div>\n<style scoped>\n    .dataframe tbody tr th:only-of-type {\n        vertical-align: middle;\n    }\n\n    .dataframe tbody tr th {\n        vertical-align: top;\n    }\n\n    .dataframe thead th {\n        text-align: right;\n    }\n</style>\n<table border=\"1\" class=\"dataframe\">\n  <thead>\n    <tr style=\"text-align: right;\">\n      <th></th>\n      <th>filename</th>\n      <th>unprocessed_code</th>\n      <th>project</th>\n    </tr>\n  </thead>\n  <tbody>\n  </tbody>\n</table>\n</div>"
     },
     "metadata": {}
    },
    {
     "output_type": "stream",
     "name": "stdout",
     "text": [
      "org.apache.commons.collections4.bag.unmodifiablebagtest.java\n"
     ]
    },
    {
     "output_type": "display_data",
     "data": {
      "text/plain": "Empty DataFrame\nColumns: [filename, unprocessed_code, project]\nIndex: []",
      "text/html": "<div>\n<style scoped>\n    .dataframe tbody tr th:only-of-type {\n        vertical-align: middle;\n    }\n\n    .dataframe tbody tr th {\n        vertical-align: top;\n    }\n\n    .dataframe thead th {\n        text-align: right;\n    }\n</style>\n<table border=\"1\" class=\"dataframe\">\n  <thead>\n    <tr style=\"text-align: right;\">\n      <th></th>\n      <th>filename</th>\n      <th>unprocessed_code</th>\n      <th>project</th>\n    </tr>\n  </thead>\n  <tbody>\n  </tbody>\n</table>\n</div>"
     },
     "metadata": {}
    },
    {
     "output_type": "stream",
     "name": "stdout",
     "text": [
      "org.apache.commons.collections4.iterators.abstractorderedmapiteratordecorator.java\n"
     ]
    },
    {
     "output_type": "display_data",
     "data": {
      "text/plain": "Empty DataFrame\nColumns: [filename, unprocessed_code, project]\nIndex: []",
      "text/html": "<div>\n<style scoped>\n    .dataframe tbody tr th:only-of-type {\n        vertical-align: middle;\n    }\n\n    .dataframe tbody tr th {\n        vertical-align: top;\n    }\n\n    .dataframe thead th {\n        text-align: right;\n    }\n</style>\n<table border=\"1\" class=\"dataframe\">\n  <thead>\n    <tr style=\"text-align: right;\">\n      <th></th>\n      <th>filename</th>\n      <th>unprocessed_code</th>\n      <th>project</th>\n    </tr>\n  </thead>\n  <tbody>\n  </tbody>\n</table>\n</div>"
     },
     "metadata": {}
    },
    {
     "output_type": "stream",
     "name": "stdout",
     "text": [
      "org.apache.commons.collections4.functors.allpredicate.java\n"
     ]
    },
    {
     "output_type": "display_data",
     "data": {
      "text/plain": "Empty DataFrame\nColumns: [filename, unprocessed_code, project]\nIndex: []",
      "text/html": "<div>\n<style scoped>\n    .dataframe tbody tr th:only-of-type {\n        vertical-align: middle;\n    }\n\n    .dataframe tbody tr th {\n        vertical-align: top;\n    }\n\n    .dataframe thead th {\n        text-align: right;\n    }\n</style>\n<table border=\"1\" class=\"dataframe\">\n  <thead>\n    <tr style=\"text-align: right;\">\n      <th></th>\n      <th>filename</th>\n      <th>unprocessed_code</th>\n      <th>project</th>\n    </tr>\n  </thead>\n  <tbody>\n  </tbody>\n</table>\n</div>"
     },
     "metadata": {}
    },
    {
     "output_type": "stream",
     "name": "stdout",
     "text": [
      "org.apache.commons.collections4.bidimap.unmodifiablebidimap.java\n"
     ]
    },
    {
     "output_type": "display_data",
     "data": {
      "text/plain": "Empty DataFrame\nColumns: [filename, unprocessed_code, project]\nIndex: []",
      "text/html": "<div>\n<style scoped>\n    .dataframe tbody tr th:only-of-type {\n        vertical-align: middle;\n    }\n\n    .dataframe tbody tr th {\n        vertical-align: top;\n    }\n\n    .dataframe thead th {\n        text-align: right;\n    }\n</style>\n<table border=\"1\" class=\"dataframe\">\n  <thead>\n    <tr style=\"text-align: right;\">\n      <th></th>\n      <th>filename</th>\n      <th>unprocessed_code</th>\n      <th>project</th>\n    </tr>\n  </thead>\n  <tbody>\n  </tbody>\n</table>\n</div>"
     },
     "metadata": {}
    },
    {
     "output_type": "stream",
     "name": "stdout",
     "text": [
      "org.apache.commons.collections4.multiset.abstractmultisetdecorator.java\n"
     ]
    },
    {
     "output_type": "display_data",
     "data": {
      "text/plain": "Empty DataFrame\nColumns: [filename, unprocessed_code, project]\nIndex: []",
      "text/html": "<div>\n<style scoped>\n    .dataframe tbody tr th:only-of-type {\n        vertical-align: middle;\n    }\n\n    .dataframe tbody tr th {\n        vertical-align: top;\n    }\n\n    .dataframe thead th {\n        text-align: right;\n    }\n</style>\n<table border=\"1\" class=\"dataframe\">\n  <thead>\n    <tr style=\"text-align: right;\">\n      <th></th>\n      <th>filename</th>\n      <th>unprocessed_code</th>\n      <th>project</th>\n    </tr>\n  </thead>\n  <tbody>\n  </tbody>\n</table>\n</div>"
     },
     "metadata": {}
    },
    {
     "output_type": "stream",
     "name": "stdout",
     "text": [
      "org.apache.commons.collections4.map.fixedsizemap.java\n"
     ]
    },
    {
     "output_type": "display_data",
     "data": {
      "text/plain": "Empty DataFrame\nColumns: [filename, unprocessed_code, project]\nIndex: []",
      "text/html": "<div>\n<style scoped>\n    .dataframe tbody tr th:only-of-type {\n        vertical-align: middle;\n    }\n\n    .dataframe tbody tr th {\n        vertical-align: top;\n    }\n\n    .dataframe thead th {\n        text-align: right;\n    }\n</style>\n<table border=\"1\" class=\"dataframe\">\n  <thead>\n    <tr style=\"text-align: right;\">\n      <th></th>\n      <th>filename</th>\n      <th>unprocessed_code</th>\n      <th>project</th>\n    </tr>\n  </thead>\n  <tbody>\n  </tbody>\n</table>\n</div>"
     },
     "metadata": {}
    },
    {
     "output_type": "stream",
     "name": "stdout",
     "text": [
      "org.apache.commons.collections4.map.unmodifiableorderedmap.java\n"
     ]
    },
    {
     "output_type": "display_data",
     "data": {
      "text/plain": "Empty DataFrame\nColumns: [filename, unprocessed_code, project]\nIndex: []",
      "text/html": "<div>\n<style scoped>\n    .dataframe tbody tr th:only-of-type {\n        vertical-align: middle;\n    }\n\n    .dataframe tbody tr th {\n        vertical-align: top;\n    }\n\n    .dataframe thead th {\n        text-align: right;\n    }\n</style>\n<table border=\"1\" class=\"dataframe\">\n  <thead>\n    <tr style=\"text-align: right;\">\n      <th></th>\n      <th>filename</th>\n      <th>unprocessed_code</th>\n      <th>project</th>\n    </tr>\n  </thead>\n  <tbody>\n  </tbody>\n</table>\n</div>"
     },
     "metadata": {}
    },
    {
     "output_type": "stream",
     "name": "stdout",
     "text": [
      "org.apache.commons.collections4.set.abstractsetdecorator.java\n"
     ]
    },
    {
     "output_type": "display_data",
     "data": {
      "text/plain": "Empty DataFrame\nColumns: [filename, unprocessed_code, project]\nIndex: []",
      "text/html": "<div>\n<style scoped>\n    .dataframe tbody tr th:only-of-type {\n        vertical-align: middle;\n    }\n\n    .dataframe tbody tr th {\n        vertical-align: top;\n    }\n\n    .dataframe thead th {\n        text-align: right;\n    }\n</style>\n<table border=\"1\" class=\"dataframe\">\n  <thead>\n    <tr style=\"text-align: right;\">\n      <th></th>\n      <th>filename</th>\n      <th>unprocessed_code</th>\n      <th>project</th>\n    </tr>\n  </thead>\n  <tbody>\n  </tbody>\n</table>\n</div>"
     },
     "metadata": {}
    },
    {
     "output_type": "stream",
     "name": "stdout",
     "text": [
      "org.apache.commons.collections4.map.passiveexpiringmaptest.java\n"
     ]
    },
    {
     "output_type": "display_data",
     "data": {
      "text/plain": "Empty DataFrame\nColumns: [filename, unprocessed_code, project]\nIndex: []",
      "text/html": "<div>\n<style scoped>\n    .dataframe tbody tr th:only-of-type {\n        vertical-align: middle;\n    }\n\n    .dataframe tbody tr th {\n        vertical-align: top;\n    }\n\n    .dataframe thead th {\n        text-align: right;\n    }\n</style>\n<table border=\"1\" class=\"dataframe\">\n  <thead>\n    <tr style=\"text-align: right;\">\n      <th></th>\n      <th>filename</th>\n      <th>unprocessed_code</th>\n      <th>project</th>\n    </tr>\n  </thead>\n  <tbody>\n  </tbody>\n</table>\n</div>"
     },
     "metadata": {}
    },
    {
     "output_type": "stream",
     "name": "stdout",
     "text": [
      "org.apache.commons.collections4.list.transformedlist.java\n"
     ]
    },
    {
     "output_type": "display_data",
     "data": {
      "text/plain": "Empty DataFrame\nColumns: [filename, unprocessed_code, project]\nIndex: []",
      "text/html": "<div>\n<style scoped>\n    .dataframe tbody tr th:only-of-type {\n        vertical-align: middle;\n    }\n\n    .dataframe tbody tr th {\n        vertical-align: top;\n    }\n\n    .dataframe thead th {\n        text-align: right;\n    }\n</style>\n<table border=\"1\" class=\"dataframe\">\n  <thead>\n    <tr style=\"text-align: right;\">\n      <th></th>\n      <th>filename</th>\n      <th>unprocessed_code</th>\n      <th>project</th>\n    </tr>\n  </thead>\n  <tbody>\n  </tbody>\n</table>\n</div>"
     },
     "metadata": {}
    },
    {
     "output_type": "stream",
     "name": "stdout",
     "text": [
      "org.apache.commons.collections4.bag.predicatedsortedbagtest.java\n"
     ]
    },
    {
     "output_type": "display_data",
     "data": {
      "text/plain": "Empty DataFrame\nColumns: [filename, unprocessed_code, project]\nIndex: []",
      "text/html": "<div>\n<style scoped>\n    .dataframe tbody tr th:only-of-type {\n        vertical-align: middle;\n    }\n\n    .dataframe tbody tr th {\n        vertical-align: top;\n    }\n\n    .dataframe thead th {\n        text-align: right;\n    }\n</style>\n<table border=\"1\" class=\"dataframe\">\n  <thead>\n    <tr style=\"text-align: right;\">\n      <th></th>\n      <th>filename</th>\n      <th>unprocessed_code</th>\n      <th>project</th>\n    </tr>\n  </thead>\n  <tbody>\n  </tbody>\n</table>\n</div>"
     },
     "metadata": {}
    },
    {
     "output_type": "stream",
     "name": "stdout",
     "text": [
      "org.apache.commons.collections4.functors.nonepredicate.java\n"
     ]
    },
    {
     "output_type": "display_data",
     "data": {
      "text/plain": "Empty DataFrame\nColumns: [filename, unprocessed_code, project]\nIndex: []",
      "text/html": "<div>\n<style scoped>\n    .dataframe tbody tr th:only-of-type {\n        vertical-align: middle;\n    }\n\n    .dataframe tbody tr th {\n        vertical-align: top;\n    }\n\n    .dataframe thead th {\n        text-align: right;\n    }\n</style>\n<table border=\"1\" class=\"dataframe\">\n  <thead>\n    <tr style=\"text-align: right;\">\n      <th></th>\n      <th>filename</th>\n      <th>unprocessed_code</th>\n      <th>project</th>\n    </tr>\n  </thead>\n  <tbody>\n  </tbody>\n</table>\n</div>"
     },
     "metadata": {}
    },
    {
     "output_type": "stream",
     "name": "stdout",
     "text": [
      "org.apache.commons.collections4.closureutilstest.java\n"
     ]
    },
    {
     "output_type": "display_data",
     "data": {
      "text/plain": "Empty DataFrame\nColumns: [filename, unprocessed_code, project]\nIndex: []",
      "text/html": "<div>\n<style scoped>\n    .dataframe tbody tr th:only-of-type {\n        vertical-align: middle;\n    }\n\n    .dataframe tbody tr th {\n        vertical-align: top;\n    }\n\n    .dataframe thead th {\n        text-align: right;\n    }\n</style>\n<table border=\"1\" class=\"dataframe\">\n  <thead>\n    <tr style=\"text-align: right;\">\n      <th></th>\n      <th>filename</th>\n      <th>unprocessed_code</th>\n      <th>project</th>\n    </tr>\n  </thead>\n  <tbody>\n  </tbody>\n</table>\n</div>"
     },
     "metadata": {}
    },
    {
     "output_type": "stream",
     "name": "stdout",
     "text": [
      "org.apache.commons.collections4.maputilstest.java\n"
     ]
    },
    {
     "output_type": "display_data",
     "data": {
      "text/plain": "Empty DataFrame\nColumns: [filename, unprocessed_code, project]\nIndex: []",
      "text/html": "<div>\n<style scoped>\n    .dataframe tbody tr th:only-of-type {\n        vertical-align: middle;\n    }\n\n    .dataframe tbody tr th {\n        vertical-align: top;\n    }\n\n    .dataframe thead th {\n        text-align: right;\n    }\n</style>\n<table border=\"1\" class=\"dataframe\">\n  <thead>\n    <tr style=\"text-align: right;\">\n      <th></th>\n      <th>filename</th>\n      <th>unprocessed_code</th>\n      <th>project</th>\n    </tr>\n  </thead>\n  <tbody>\n  </tbody>\n</table>\n</div>"
     },
     "metadata": {}
    },
    {
     "output_type": "stream",
     "name": "stdout",
     "text": [
      "org.apache.commons.collections4.functors.transformedpredicate.java\n"
     ]
    },
    {
     "output_type": "display_data",
     "data": {
      "text/plain": "Empty DataFrame\nColumns: [filename, unprocessed_code, project]\nIndex: []",
      "text/html": "<div>\n<style scoped>\n    .dataframe tbody tr th:only-of-type {\n        vertical-align: middle;\n    }\n\n    .dataframe tbody tr th {\n        vertical-align: top;\n    }\n\n    .dataframe thead th {\n        text-align: right;\n    }\n</style>\n<table border=\"1\" class=\"dataframe\">\n  <thead>\n    <tr style=\"text-align: right;\">\n      <th></th>\n      <th>filename</th>\n      <th>unprocessed_code</th>\n      <th>project</th>\n    </tr>\n  </thead>\n  <tbody>\n  </tbody>\n</table>\n</div>"
     },
     "metadata": {}
    },
    {
     "output_type": "stream",
     "name": "stdout",
     "text": [
      "org.apache.commons.collections4.set.unmodifiableset.java\n"
     ]
    },
    {
     "output_type": "display_data",
     "data": {
      "text/plain": "Empty DataFrame\nColumns: [filename, unprocessed_code, project]\nIndex: []",
      "text/html": "<div>\n<style scoped>\n    .dataframe tbody tr th:only-of-type {\n        vertical-align: middle;\n    }\n\n    .dataframe tbody tr th {\n        vertical-align: top;\n    }\n\n    .dataframe thead th {\n        text-align: right;\n    }\n</style>\n<table border=\"1\" class=\"dataframe\">\n  <thead>\n    <tr style=\"text-align: right;\">\n      <th></th>\n      <th>filename</th>\n      <th>unprocessed_code</th>\n      <th>project</th>\n    </tr>\n  </thead>\n  <tbody>\n  </tbody>\n</table>\n</div>"
     },
     "metadata": {}
    },
    {
     "output_type": "stream",
     "name": "stdout",
     "text": [
      "org.apache.commons.collections4.bag.abstractbagdecorator.java\n"
     ]
    },
    {
     "output_type": "display_data",
     "data": {
      "text/plain": "Empty DataFrame\nColumns: [filename, unprocessed_code, project]\nIndex: []",
      "text/html": "<div>\n<style scoped>\n    .dataframe tbody tr th:only-of-type {\n        vertical-align: middle;\n    }\n\n    .dataframe tbody tr th {\n        vertical-align: top;\n    }\n\n    .dataframe thead th {\n        text-align: right;\n    }\n</style>\n<table border=\"1\" class=\"dataframe\">\n  <thead>\n    <tr style=\"text-align: right;\">\n      <th></th>\n      <th>filename</th>\n      <th>unprocessed_code</th>\n      <th>project</th>\n    </tr>\n  </thead>\n  <tbody>\n  </tbody>\n</table>\n</div>"
     },
     "metadata": {}
    },
    {
     "output_type": "stream",
     "name": "stdout",
     "text": [
      "org.apache.commons.collections4.multimap.abstractmultivaluedmap.java\n"
     ]
    },
    {
     "output_type": "display_data",
     "data": {
      "text/plain": "Empty DataFrame\nColumns: [filename, unprocessed_code, project]\nIndex: []",
      "text/html": "<div>\n<style scoped>\n    .dataframe tbody tr th:only-of-type {\n        vertical-align: middle;\n    }\n\n    .dataframe tbody tr th {\n        vertical-align: top;\n    }\n\n    .dataframe thead th {\n        text-align: right;\n    }\n</style>\n<table border=\"1\" class=\"dataframe\">\n  <thead>\n    <tr style=\"text-align: right;\">\n      <th></th>\n      <th>filename</th>\n      <th>unprocessed_code</th>\n      <th>project</th>\n    </tr>\n  </thead>\n  <tbody>\n  </tbody>\n</table>\n</div>"
     },
     "metadata": {}
    },
    {
     "output_type": "stream",
     "name": "stdout",
     "text": [
      "org.apache.commons.collections4.queue.abstractqueuedecorator.java\n"
     ]
    },
    {
     "output_type": "display_data",
     "data": {
      "text/plain": "Empty DataFrame\nColumns: [filename, unprocessed_code, project]\nIndex: []",
      "text/html": "<div>\n<style scoped>\n    .dataframe tbody tr th:only-of-type {\n        vertical-align: middle;\n    }\n\n    .dataframe tbody tr th {\n        vertical-align: top;\n    }\n\n    .dataframe thead th {\n        text-align: right;\n    }\n</style>\n<table border=\"1\" class=\"dataframe\">\n  <thead>\n    <tr style=\"text-align: right;\">\n      <th></th>\n      <th>filename</th>\n      <th>unprocessed_code</th>\n      <th>project</th>\n    </tr>\n  </thead>\n  <tbody>\n  </tbody>\n</table>\n</div>"
     },
     "metadata": {}
    },
    {
     "output_type": "stream",
     "name": "stdout",
     "text": [
      "org.apache.commons.collections4.set.transformedsortedset.java\n"
     ]
    },
    {
     "output_type": "display_data",
     "data": {
      "text/plain": "Empty DataFrame\nColumns: [filename, unprocessed_code, project]\nIndex: []",
      "text/html": "<div>\n<style scoped>\n    .dataframe tbody tr th:only-of-type {\n        vertical-align: middle;\n    }\n\n    .dataframe tbody tr th {\n        vertical-align: top;\n    }\n\n    .dataframe thead th {\n        text-align: right;\n    }\n</style>\n<table border=\"1\" class=\"dataframe\">\n  <thead>\n    <tr style=\"text-align: right;\">\n      <th></th>\n      <th>filename</th>\n      <th>unprocessed_code</th>\n      <th>project</th>\n    </tr>\n  </thead>\n  <tbody>\n  </tbody>\n</table>\n</div>"
     },
     "metadata": {}
    },
    {
     "output_type": "stream",
     "name": "stdout",
     "text": [
      "org.apache.commons.collections4.trieutilstest.java\n"
     ]
    },
    {
     "output_type": "display_data",
     "data": {
      "text/plain": "Empty DataFrame\nColumns: [filename, unprocessed_code, project]\nIndex: []",
      "text/html": "<div>\n<style scoped>\n    .dataframe tbody tr th:only-of-type {\n        vertical-align: middle;\n    }\n\n    .dataframe tbody tr th {\n        vertical-align: top;\n    }\n\n    .dataframe thead th {\n        text-align: right;\n    }\n</style>\n<table border=\"1\" class=\"dataframe\">\n  <thead>\n    <tr style=\"text-align: right;\">\n      <th></th>\n      <th>filename</th>\n      <th>unprocessed_code</th>\n      <th>project</th>\n    </tr>\n  </thead>\n  <tbody>\n  </tbody>\n</table>\n</div>"
     },
     "metadata": {}
    },
    {
     "output_type": "stream",
     "name": "stdout",
     "text": [
      "org.apache.commons.collections4.functors.closuretransformer.java\n"
     ]
    },
    {
     "output_type": "display_data",
     "data": {
      "text/plain": "Empty DataFrame\nColumns: [filename, unprocessed_code, project]\nIndex: []",
      "text/html": "<div>\n<style scoped>\n    .dataframe tbody tr th:only-of-type {\n        vertical-align: middle;\n    }\n\n    .dataframe tbody tr th {\n        vertical-align: top;\n    }\n\n    .dataframe thead th {\n        text-align: right;\n    }\n</style>\n<table border=\"1\" class=\"dataframe\">\n  <thead>\n    <tr style=\"text-align: right;\">\n      <th></th>\n      <th>filename</th>\n      <th>unprocessed_code</th>\n      <th>project</th>\n    </tr>\n  </thead>\n  <tbody>\n  </tbody>\n</table>\n</div>"
     },
     "metadata": {}
    },
    {
     "output_type": "stream",
     "name": "stdout",
     "text": [
      "org.apache.commons.collections4.queue.predicatedqueue.java\n"
     ]
    },
    {
     "output_type": "display_data",
     "data": {
      "text/plain": "Empty DataFrame\nColumns: [filename, unprocessed_code, project]\nIndex: []",
      "text/html": "<div>\n<style scoped>\n    .dataframe tbody tr th:only-of-type {\n        vertical-align: middle;\n    }\n\n    .dataframe tbody tr th {\n        vertical-align: top;\n    }\n\n    .dataframe thead th {\n        text-align: right;\n    }\n</style>\n<table border=\"1\" class=\"dataframe\">\n  <thead>\n    <tr style=\"text-align: right;\">\n      <th></th>\n      <th>filename</th>\n      <th>unprocessed_code</th>\n      <th>project</th>\n    </tr>\n  </thead>\n  <tbody>\n  </tbody>\n</table>\n</div>"
     },
     "metadata": {}
    },
    {
     "output_type": "stream",
     "name": "stdout",
     "text": [
      "org.apache.commons.collections4.set.unmodifiablesortedset.java\n"
     ]
    },
    {
     "output_type": "display_data",
     "data": {
      "text/plain": "Empty DataFrame\nColumns: [filename, unprocessed_code, project]\nIndex: []",
      "text/html": "<div>\n<style scoped>\n    .dataframe tbody tr th:only-of-type {\n        vertical-align: middle;\n    }\n\n    .dataframe tbody tr th {\n        vertical-align: top;\n    }\n\n    .dataframe thead th {\n        text-align: right;\n    }\n</style>\n<table border=\"1\" class=\"dataframe\">\n  <thead>\n    <tr style=\"text-align: right;\">\n      <th></th>\n      <th>filename</th>\n      <th>unprocessed_code</th>\n      <th>project</th>\n    </tr>\n  </thead>\n  <tbody>\n  </tbody>\n</table>\n</div>"
     },
     "metadata": {}
    },
    {
     "output_type": "stream",
     "name": "stdout",
     "text": [
      "org.apache.commons.collections4.map.lazymap.java\n"
     ]
    },
    {
     "output_type": "display_data",
     "data": {
      "text/plain": "Empty DataFrame\nColumns: [filename, unprocessed_code, project]\nIndex: []",
      "text/html": "<div>\n<style scoped>\n    .dataframe tbody tr th:only-of-type {\n        vertical-align: middle;\n    }\n\n    .dataframe tbody tr th {\n        vertical-align: top;\n    }\n\n    .dataframe thead th {\n        text-align: right;\n    }\n</style>\n<table border=\"1\" class=\"dataframe\">\n  <thead>\n    <tr style=\"text-align: right;\">\n      <th></th>\n      <th>filename</th>\n      <th>unprocessed_code</th>\n      <th>project</th>\n    </tr>\n  </thead>\n  <tbody>\n  </tbody>\n</table>\n</div>"
     },
     "metadata": {}
    },
    {
     "output_type": "stream",
     "name": "stdout",
     "text": [
      "org.apache.commons.collections4.bag.unmodifiablesortedbag.java\n"
     ]
    },
    {
     "output_type": "display_data",
     "data": {
      "text/plain": "Empty DataFrame\nColumns: [filename, unprocessed_code, project]\nIndex: []",
      "text/html": "<div>\n<style scoped>\n    .dataframe tbody tr th:only-of-type {\n        vertical-align: middle;\n    }\n\n    .dataframe tbody tr th {\n        vertical-align: top;\n    }\n\n    .dataframe thead th {\n        text-align: right;\n    }\n</style>\n<table border=\"1\" class=\"dataframe\">\n  <thead>\n    <tr style=\"text-align: right;\">\n      <th></th>\n      <th>filename</th>\n      <th>unprocessed_code</th>\n      <th>project</th>\n    </tr>\n  </thead>\n  <tbody>\n  </tbody>\n</table>\n</div>"
     },
     "metadata": {}
    },
    {
     "output_type": "stream",
     "name": "stdout",
     "text": [
      "org.apache.commons.collections4.bidimap.unmodifiableorderedbidimap.java\n"
     ]
    },
    {
     "output_type": "display_data",
     "data": {
      "text/plain": "Empty DataFrame\nColumns: [filename, unprocessed_code, project]\nIndex: []",
      "text/html": "<div>\n<style scoped>\n    .dataframe tbody tr th:only-of-type {\n        vertical-align: middle;\n    }\n\n    .dataframe tbody tr th {\n        vertical-align: top;\n    }\n\n    .dataframe thead th {\n        text-align: right;\n    }\n</style>\n<table border=\"1\" class=\"dataframe\">\n  <thead>\n    <tr style=\"text-align: right;\">\n      <th></th>\n      <th>filename</th>\n      <th>unprocessed_code</th>\n      <th>project</th>\n    </tr>\n  </thead>\n  <tbody>\n  </tbody>\n</table>\n</div>"
     },
     "metadata": {}
    },
    {
     "output_type": "stream",
     "name": "stdout",
     "text": [
      "org.apache.commons.collections4.iterators.abstractuntypediteratordecorator.java\n"
     ]
    },
    {
     "output_type": "display_data",
     "data": {
      "text/plain": "Empty DataFrame\nColumns: [filename, unprocessed_code, project]\nIndex: []",
      "text/html": "<div>\n<style scoped>\n    .dataframe tbody tr th:only-of-type {\n        vertical-align: middle;\n    }\n\n    .dataframe tbody tr th {\n        vertical-align: top;\n    }\n\n    .dataframe thead th {\n        text-align: right;\n    }\n</style>\n<table border=\"1\" class=\"dataframe\">\n  <thead>\n    <tr style=\"text-align: right;\">\n      <th></th>\n      <th>filename</th>\n      <th>unprocessed_code</th>\n      <th>project</th>\n    </tr>\n  </thead>\n  <tbody>\n  </tbody>\n</table>\n</div>"
     },
     "metadata": {}
    },
    {
     "output_type": "stream",
     "name": "stdout",
     "text": [
      "org.apache.commons.collections4.collection.abstractcollectiondecorator.java\n"
     ]
    },
    {
     "output_type": "display_data",
     "data": {
      "text/plain": "Empty DataFrame\nColumns: [filename, unprocessed_code, project]\nIndex: []",
      "text/html": "<div>\n<style scoped>\n    .dataframe tbody tr th:only-of-type {\n        vertical-align: middle;\n    }\n\n    .dataframe tbody tr th {\n        vertical-align: top;\n    }\n\n    .dataframe thead th {\n        text-align: right;\n    }\n</style>\n<table border=\"1\" class=\"dataframe\">\n  <thead>\n    <tr style=\"text-align: right;\">\n      <th></th>\n      <th>filename</th>\n      <th>unprocessed_code</th>\n      <th>project</th>\n    </tr>\n  </thead>\n  <tbody>\n  </tbody>\n</table>\n</div>"
     },
     "metadata": {}
    },
    {
     "output_type": "stream",
     "name": "stdout",
     "text": [
      "org.apache.commons.collections4.setutilstest.java\n"
     ]
    },
    {
     "output_type": "display_data",
     "data": {
      "text/plain": "Empty DataFrame\nColumns: [filename, unprocessed_code, project]\nIndex: []",
      "text/html": "<div>\n<style scoped>\n    .dataframe tbody tr th:only-of-type {\n        vertical-align: middle;\n    }\n\n    .dataframe tbody tr th {\n        vertical-align: top;\n    }\n\n    .dataframe thead th {\n        text-align: right;\n    }\n</style>\n<table border=\"1\" class=\"dataframe\">\n  <thead>\n    <tr style=\"text-align: right;\">\n      <th></th>\n      <th>filename</th>\n      <th>unprocessed_code</th>\n      <th>project</th>\n    </tr>\n  </thead>\n  <tbody>\n  </tbody>\n</table>\n</div>"
     },
     "metadata": {}
    },
    {
     "output_type": "stream",
     "name": "stdout",
     "text": [
      "org.apache.commons.collections4.list.lazylist.java\n"
     ]
    },
    {
     "output_type": "display_data",
     "data": {
      "text/plain": "Empty DataFrame\nColumns: [filename, unprocessed_code, project]\nIndex: []",
      "text/html": "<div>\n<style scoped>\n    .dataframe tbody tr th:only-of-type {\n        vertical-align: middle;\n    }\n\n    .dataframe tbody tr th {\n        vertical-align: top;\n    }\n\n    .dataframe thead th {\n        text-align: right;\n    }\n</style>\n<table border=\"1\" class=\"dataframe\">\n  <thead>\n    <tr style=\"text-align: right;\">\n      <th></th>\n      <th>filename</th>\n      <th>unprocessed_code</th>\n      <th>project</th>\n    </tr>\n  </thead>\n  <tbody>\n  </tbody>\n</table>\n</div>"
     },
     "metadata": {}
    },
    {
     "output_type": "stream",
     "name": "stdout",
     "text": [
      "org.apache.commons.collections4.trieutils.java\n"
     ]
    },
    {
     "output_type": "display_data",
     "data": {
      "text/plain": "Empty DataFrame\nColumns: [filename, unprocessed_code, project]\nIndex: []",
      "text/html": "<div>\n<style scoped>\n    .dataframe tbody tr th:only-of-type {\n        vertical-align: middle;\n    }\n\n    .dataframe tbody tr th {\n        vertical-align: top;\n    }\n\n    .dataframe thead th {\n        text-align: right;\n    }\n</style>\n<table border=\"1\" class=\"dataframe\">\n  <thead>\n    <tr style=\"text-align: right;\">\n      <th></th>\n      <th>filename</th>\n      <th>unprocessed_code</th>\n      <th>project</th>\n    </tr>\n  </thead>\n  <tbody>\n  </tbody>\n</table>\n</div>"
     },
     "metadata": {}
    },
    {
     "output_type": "stream",
     "name": "stdout",
     "text": [
      "org.apache.commons.collections4.set.predicatedset.java\n"
     ]
    },
    {
     "output_type": "display_data",
     "data": {
      "text/plain": "Empty DataFrame\nColumns: [filename, unprocessed_code, project]\nIndex: []",
      "text/html": "<div>\n<style scoped>\n    .dataframe tbody tr th:only-of-type {\n        vertical-align: middle;\n    }\n\n    .dataframe tbody tr th {\n        vertical-align: top;\n    }\n\n    .dataframe thead th {\n        text-align: right;\n    }\n</style>\n<table border=\"1\" class=\"dataframe\">\n  <thead>\n    <tr style=\"text-align: right;\">\n      <th></th>\n      <th>filename</th>\n      <th>unprocessed_code</th>\n      <th>project</th>\n    </tr>\n  </thead>\n  <tbody>\n  </tbody>\n</table>\n</div>"
     },
     "metadata": {}
    },
    {
     "output_type": "stream",
     "name": "stdout",
     "text": [
      "org.apache.commons.collections4.set.transformednavigableset.java\n"
     ]
    },
    {
     "output_type": "display_data",
     "data": {
      "text/plain": "Empty DataFrame\nColumns: [filename, unprocessed_code, project]\nIndex: []",
      "text/html": "<div>\n<style scoped>\n    .dataframe tbody tr th:only-of-type {\n        vertical-align: middle;\n    }\n\n    .dataframe tbody tr th {\n        vertical-align: top;\n    }\n\n    .dataframe thead th {\n        text-align: right;\n    }\n</style>\n<table border=\"1\" class=\"dataframe\">\n  <thead>\n    <tr style=\"text-align: right;\">\n      <th></th>\n      <th>filename</th>\n      <th>unprocessed_code</th>\n      <th>project</th>\n    </tr>\n  </thead>\n  <tbody>\n  </tbody>\n</table>\n</div>"
     },
     "metadata": {}
    },
    {
     "output_type": "stream",
     "name": "stdout",
     "text": [
      "org.apache.commons.collections4.functors.switchclosure.java\n"
     ]
    },
    {
     "output_type": "display_data",
     "data": {
      "text/plain": "Empty DataFrame\nColumns: [filename, unprocessed_code, project]\nIndex: []",
      "text/html": "<div>\n<style scoped>\n    .dataframe tbody tr th:only-of-type {\n        vertical-align: middle;\n    }\n\n    .dataframe tbody tr th {\n        vertical-align: top;\n    }\n\n    .dataframe thead th {\n        text-align: right;\n    }\n</style>\n<table border=\"1\" class=\"dataframe\">\n  <thead>\n    <tr style=\"text-align: right;\">\n      <th></th>\n      <th>filename</th>\n      <th>unprocessed_code</th>\n      <th>project</th>\n    </tr>\n  </thead>\n  <tbody>\n  </tbody>\n</table>\n</div>"
     },
     "metadata": {}
    },
    {
     "output_type": "stream",
     "name": "stdout",
     "text": [
      "org.apache.commons.collections4.functors.andpredicate.java\n"
     ]
    },
    {
     "output_type": "display_data",
     "data": {
      "text/plain": "Empty DataFrame\nColumns: [filename, unprocessed_code, project]\nIndex: []",
      "text/html": "<div>\n<style scoped>\n    .dataframe tbody tr th:only-of-type {\n        vertical-align: middle;\n    }\n\n    .dataframe tbody tr th {\n        vertical-align: top;\n    }\n\n    .dataframe thead th {\n        text-align: right;\n    }\n</style>\n<table border=\"1\" class=\"dataframe\">\n  <thead>\n    <tr style=\"text-align: right;\">\n      <th></th>\n      <th>filename</th>\n      <th>unprocessed_code</th>\n      <th>project</th>\n    </tr>\n  </thead>\n  <tbody>\n  </tbody>\n</table>\n</div>"
     },
     "metadata": {}
    },
    {
     "output_type": "stream",
     "name": "stdout",
     "text": [
      "org.apache.commons.collections4.map.abstractorderedmapdecorator.java\n"
     ]
    },
    {
     "output_type": "display_data",
     "data": {
      "text/plain": "Empty DataFrame\nColumns: [filename, unprocessed_code, project]\nIndex: []",
      "text/html": "<div>\n<style scoped>\n    .dataframe tbody tr th:only-of-type {\n        vertical-align: middle;\n    }\n\n    .dataframe tbody tr th {\n        vertical-align: top;\n    }\n\n    .dataframe thead th {\n        text-align: right;\n    }\n</style>\n<table border=\"1\" class=\"dataframe\">\n  <thead>\n    <tr style=\"text-align: right;\">\n      <th></th>\n      <th>filename</th>\n      <th>unprocessed_code</th>\n      <th>project</th>\n    </tr>\n  </thead>\n  <tbody>\n  </tbody>\n</table>\n</div>"
     },
     "metadata": {}
    },
    {
     "output_type": "stream",
     "name": "stdout",
     "text": [
      "org.apache.commons.collections4.bag.predicatedbag.java\n"
     ]
    },
    {
     "output_type": "display_data",
     "data": {
      "text/plain": "Empty DataFrame\nColumns: [filename, unprocessed_code, project]\nIndex: []",
      "text/html": "<div>\n<style scoped>\n    .dataframe tbody tr th:only-of-type {\n        vertical-align: middle;\n    }\n\n    .dataframe tbody tr th {\n        vertical-align: top;\n    }\n\n    .dataframe thead th {\n        text-align: right;\n    }\n</style>\n<table border=\"1\" class=\"dataframe\">\n  <thead>\n    <tr style=\"text-align: right;\">\n      <th></th>\n      <th>filename</th>\n      <th>unprocessed_code</th>\n      <th>project</th>\n    </tr>\n  </thead>\n  <tbody>\n  </tbody>\n</table>\n</div>"
     },
     "metadata": {}
    },
    {
     "output_type": "stream",
     "name": "stdout",
     "text": [
      "org.apache.commons.collections4.iterators.unmodifiablelistiterator.java\n"
     ]
    },
    {
     "output_type": "display_data",
     "data": {
      "text/plain": "Empty DataFrame\nColumns: [filename, unprocessed_code, project]\nIndex: []",
      "text/html": "<div>\n<style scoped>\n    .dataframe tbody tr th:only-of-type {\n        vertical-align: middle;\n    }\n\n    .dataframe tbody tr th {\n        vertical-align: top;\n    }\n\n    .dataframe thead th {\n        text-align: right;\n    }\n</style>\n<table border=\"1\" class=\"dataframe\">\n  <thead>\n    <tr style=\"text-align: right;\">\n      <th></th>\n      <th>filename</th>\n      <th>unprocessed_code</th>\n      <th>project</th>\n    </tr>\n  </thead>\n  <tbody>\n  </tbody>\n</table>\n</div>"
     },
     "metadata": {}
    },
    {
     "output_type": "stream",
     "name": "stdout",
     "text": [
      "org.apache.commons.collections4.bag.collectionbag.java\n"
     ]
    },
    {
     "output_type": "display_data",
     "data": {
      "text/plain": "Empty DataFrame\nColumns: [filename, unprocessed_code, project]\nIndex: []",
      "text/html": "<div>\n<style scoped>\n    .dataframe tbody tr th:only-of-type {\n        vertical-align: middle;\n    }\n\n    .dataframe tbody tr th {\n        vertical-align: top;\n    }\n\n    .dataframe thead th {\n        text-align: right;\n    }\n</style>\n<table border=\"1\" class=\"dataframe\">\n  <thead>\n    <tr style=\"text-align: right;\">\n      <th></th>\n      <th>filename</th>\n      <th>unprocessed_code</th>\n      <th>project</th>\n    </tr>\n  </thead>\n  <tbody>\n  </tbody>\n</table>\n</div>"
     },
     "metadata": {}
    },
    {
     "output_type": "stream",
     "name": "stdout",
     "text": [
      "org.apache.commons.collections4.bidimap.abstractsortedbidimapdecorator.java\n"
     ]
    },
    {
     "output_type": "display_data",
     "data": {
      "text/plain": "Empty DataFrame\nColumns: [filename, unprocessed_code, project]\nIndex: []",
      "text/html": "<div>\n<style scoped>\n    .dataframe tbody tr th:only-of-type {\n        vertical-align: middle;\n    }\n\n    .dataframe tbody tr th {\n        vertical-align: top;\n    }\n\n    .dataframe thead th {\n        text-align: right;\n    }\n</style>\n<table border=\"1\" class=\"dataframe\">\n  <thead>\n    <tr style=\"text-align: right;\">\n      <th></th>\n      <th>filename</th>\n      <th>unprocessed_code</th>\n      <th>project</th>\n    </tr>\n  </thead>\n  <tbody>\n  </tbody>\n</table>\n</div>"
     },
     "metadata": {}
    },
    {
     "output_type": "stream",
     "name": "stdout",
     "text": [
      "org.apache.commons.collections4.bag.predicatedbagtest.java\n"
     ]
    },
    {
     "output_type": "display_data",
     "data": {
      "text/plain": "Empty DataFrame\nColumns: [filename, unprocessed_code, project]\nIndex: []",
      "text/html": "<div>\n<style scoped>\n    .dataframe tbody tr th:only-of-type {\n        vertical-align: middle;\n    }\n\n    .dataframe tbody tr th {\n        vertical-align: top;\n    }\n\n    .dataframe thead th {\n        text-align: right;\n    }\n</style>\n<table border=\"1\" class=\"dataframe\">\n  <thead>\n    <tr style=\"text-align: right;\">\n      <th></th>\n      <th>filename</th>\n      <th>unprocessed_code</th>\n      <th>project</th>\n    </tr>\n  </thead>\n  <tbody>\n  </tbody>\n</table>\n</div>"
     },
     "metadata": {}
    },
    {
     "output_type": "stream",
     "name": "stdout",
     "text": [
      "org.apache.commons.collections4.map.defaultedmap.java\n"
     ]
    },
    {
     "output_type": "display_data",
     "data": {
      "text/plain": "Empty DataFrame\nColumns: [filename, unprocessed_code, project]\nIndex: []",
      "text/html": "<div>\n<style scoped>\n    .dataframe tbody tr th:only-of-type {\n        vertical-align: middle;\n    }\n\n    .dataframe tbody tr th {\n        vertical-align: top;\n    }\n\n    .dataframe thead th {\n        text-align: right;\n    }\n</style>\n<table border=\"1\" class=\"dataframe\">\n  <thead>\n    <tr style=\"text-align: right;\">\n      <th></th>\n      <th>filename</th>\n      <th>unprocessed_code</th>\n      <th>project</th>\n    </tr>\n  </thead>\n  <tbody>\n  </tbody>\n</table>\n</div>"
     },
     "metadata": {}
    },
    {
     "output_type": "stream",
     "name": "stdout",
     "text": [
      "org.apache.commons.collections4.iterators.abstractiteratordecorator.java\n"
     ]
    },
    {
     "output_type": "display_data",
     "data": {
      "text/plain": "Empty DataFrame\nColumns: [filename, unprocessed_code, project]\nIndex: []",
      "text/html": "<div>\n<style scoped>\n    .dataframe tbody tr th:only-of-type {\n        vertical-align: middle;\n    }\n\n    .dataframe tbody tr th {\n        vertical-align: top;\n    }\n\n    .dataframe thead th {\n        text-align: right;\n    }\n</style>\n<table border=\"1\" class=\"dataframe\">\n  <thead>\n    <tr style=\"text-align: right;\">\n      <th></th>\n      <th>filename</th>\n      <th>unprocessed_code</th>\n      <th>project</th>\n    </tr>\n  </thead>\n  <tbody>\n  </tbody>\n</table>\n</div>"
     },
     "metadata": {}
    },
    {
     "output_type": "stream",
     "name": "stdout",
     "text": [
      "org.apache.commons.collections4.map.multikeymap.java\n"
     ]
    },
    {
     "output_type": "display_data",
     "data": {
      "text/plain": "Empty DataFrame\nColumns: [filename, unprocessed_code, project]\nIndex: []",
      "text/html": "<div>\n<style scoped>\n    .dataframe tbody tr th:only-of-type {\n        vertical-align: middle;\n    }\n\n    .dataframe tbody tr th {\n        vertical-align: top;\n    }\n\n    .dataframe thead th {\n        text-align: right;\n    }\n</style>\n<table border=\"1\" class=\"dataframe\">\n  <thead>\n    <tr style=\"text-align: right;\">\n      <th></th>\n      <th>filename</th>\n      <th>unprocessed_code</th>\n      <th>project</th>\n    </tr>\n  </thead>\n  <tbody>\n  </tbody>\n</table>\n</div>"
     },
     "metadata": {}
    },
    {
     "output_type": "stream",
     "name": "stdout",
     "text": [
      "org.apache.commons.collections4.iterators.abstractmapiteratordecorator.java\n"
     ]
    },
    {
     "output_type": "display_data",
     "data": {
      "text/plain": "Empty DataFrame\nColumns: [filename, unprocessed_code, project]\nIndex: []",
      "text/html": "<div>\n<style scoped>\n    .dataframe tbody tr th:only-of-type {\n        vertical-align: middle;\n    }\n\n    .dataframe tbody tr th {\n        vertical-align: top;\n    }\n\n    .dataframe thead th {\n        text-align: right;\n    }\n</style>\n<table border=\"1\" class=\"dataframe\">\n  <thead>\n    <tr style=\"text-align: right;\">\n      <th></th>\n      <th>filename</th>\n      <th>unprocessed_code</th>\n      <th>project</th>\n    </tr>\n  </thead>\n  <tbody>\n  </tbody>\n</table>\n</div>"
     },
     "metadata": {}
    },
    {
     "output_type": "stream",
     "name": "stdout",
     "text": [
      "org.apache.commons.collections4.factoryutilstest.java\n"
     ]
    },
    {
     "output_type": "display_data",
     "data": {
      "text/plain": "Empty DataFrame\nColumns: [filename, unprocessed_code, project]\nIndex: []",
      "text/html": "<div>\n<style scoped>\n    .dataframe tbody tr th:only-of-type {\n        vertical-align: middle;\n    }\n\n    .dataframe tbody tr th {\n        vertical-align: top;\n    }\n\n    .dataframe thead th {\n        text-align: right;\n    }\n</style>\n<table border=\"1\" class=\"dataframe\">\n  <thead>\n    <tr style=\"text-align: right;\">\n      <th></th>\n      <th>filename</th>\n      <th>unprocessed_code</th>\n      <th>project</th>\n    </tr>\n  </thead>\n  <tbody>\n  </tbody>\n</table>\n</div>"
     },
     "metadata": {}
    },
    {
     "output_type": "stream",
     "name": "stdout",
     "text": [
      "org.apache.commons.collections4.queue.unmodifiablequeue.java\n"
     ]
    },
    {
     "output_type": "display_data",
     "data": {
      "text/plain": "Empty DataFrame\nColumns: [filename, unprocessed_code, project]\nIndex: []",
      "text/html": "<div>\n<style scoped>\n    .dataframe tbody tr th:only-of-type {\n        vertical-align: middle;\n    }\n\n    .dataframe tbody tr th {\n        vertical-align: top;\n    }\n\n    .dataframe thead th {\n        text-align: right;\n    }\n</style>\n<table border=\"1\" class=\"dataframe\">\n  <thead>\n    <tr style=\"text-align: right;\">\n      <th></th>\n      <th>filename</th>\n      <th>unprocessed_code</th>\n      <th>project</th>\n    </tr>\n  </thead>\n  <tbody>\n  </tbody>\n</table>\n</div>"
     },
     "metadata": {}
    },
    {
     "output_type": "stream",
     "name": "stdout",
     "text": [
      "org.apache.commons.collections4.functors.abstractcompositepredicatetest.java\n"
     ]
    },
    {
     "output_type": "display_data",
     "data": {
      "text/plain": "Empty DataFrame\nColumns: [filename, unprocessed_code, project]\nIndex: []",
      "text/html": "<div>\n<style scoped>\n    .dataframe tbody tr th:only-of-type {\n        vertical-align: middle;\n    }\n\n    .dataframe tbody tr th {\n        vertical-align: top;\n    }\n\n    .dataframe thead th {\n        text-align: right;\n    }\n</style>\n<table border=\"1\" class=\"dataframe\">\n  <thead>\n    <tr style=\"text-align: right;\">\n      <th></th>\n      <th>filename</th>\n      <th>unprocessed_code</th>\n      <th>project</th>\n    </tr>\n  </thead>\n  <tbody>\n  </tbody>\n</table>\n</div>"
     },
     "metadata": {}
    },
    {
     "output_type": "stream",
     "name": "stdout",
     "text": [
      "org.apache.commons.collections4.functors.switchtransformer.java\n"
     ]
    },
    {
     "output_type": "display_data",
     "data": {
      "text/plain": "Empty DataFrame\nColumns: [filename, unprocessed_code, project]\nIndex: []",
      "text/html": "<div>\n<style scoped>\n    .dataframe tbody tr th:only-of-type {\n        vertical-align: middle;\n    }\n\n    .dataframe tbody tr th {\n        vertical-align: top;\n    }\n\n    .dataframe thead th {\n        text-align: right;\n    }\n</style>\n<table border=\"1\" class=\"dataframe\">\n  <thead>\n    <tr style=\"text-align: right;\">\n      <th></th>\n      <th>filename</th>\n      <th>unprocessed_code</th>\n      <th>project</th>\n    </tr>\n  </thead>\n  <tbody>\n  </tbody>\n</table>\n</div>"
     },
     "metadata": {}
    },
    {
     "output_type": "stream",
     "name": "stdout",
     "text": [
      "org.apache.commons.collections4.iterators.unmodifiablelistiteratortest.java\n"
     ]
    },
    {
     "output_type": "display_data",
     "data": {
      "text/plain": "Empty DataFrame\nColumns: [filename, unprocessed_code, project]\nIndex: []",
      "text/html": "<div>\n<style scoped>\n    .dataframe tbody tr th:only-of-type {\n        vertical-align: middle;\n    }\n\n    .dataframe tbody tr th {\n        vertical-align: top;\n    }\n\n    .dataframe thead th {\n        text-align: right;\n    }\n</style>\n<table border=\"1\" class=\"dataframe\">\n  <thead>\n    <tr style=\"text-align: right;\">\n      <th></th>\n      <th>filename</th>\n      <th>unprocessed_code</th>\n      <th>project</th>\n    </tr>\n  </thead>\n  <tbody>\n  </tbody>\n</table>\n</div>"
     },
     "metadata": {}
    },
    {
     "output_type": "stream",
     "name": "stdout",
     "text": [
      "org.apache.commons.collections4.functors.chainedclosure.java\n"
     ]
    },
    {
     "output_type": "display_data",
     "data": {
      "text/plain": "Empty DataFrame\nColumns: [filename, unprocessed_code, project]\nIndex: []",
      "text/html": "<div>\n<style scoped>\n    .dataframe tbody tr th:only-of-type {\n        vertical-align: middle;\n    }\n\n    .dataframe tbody tr th {\n        vertical-align: top;\n    }\n\n    .dataframe thead th {\n        text-align: right;\n    }\n</style>\n<table border=\"1\" class=\"dataframe\">\n  <thead>\n    <tr style=\"text-align: right;\">\n      <th></th>\n      <th>filename</th>\n      <th>unprocessed_code</th>\n      <th>project</th>\n    </tr>\n  </thead>\n  <tbody>\n  </tbody>\n</table>\n</div>"
     },
     "metadata": {}
    },
    {
     "output_type": "stream",
     "name": "stdout",
     "text": [
      "org.apache.commons.collections4.map.unmodifiablesortedmaptest.java\n"
     ]
    },
    {
     "output_type": "display_data",
     "data": {
      "text/plain": "Empty DataFrame\nColumns: [filename, unprocessed_code, project]\nIndex: []",
      "text/html": "<div>\n<style scoped>\n    .dataframe tbody tr th:only-of-type {\n        vertical-align: middle;\n    }\n\n    .dataframe tbody tr th {\n        vertical-align: top;\n    }\n\n    .dataframe thead th {\n        text-align: right;\n    }\n</style>\n<table border=\"1\" class=\"dataframe\">\n  <thead>\n    <tr style=\"text-align: right;\">\n      <th></th>\n      <th>filename</th>\n      <th>unprocessed_code</th>\n      <th>project</th>\n    </tr>\n  </thead>\n  <tbody>\n  </tbody>\n</table>\n</div>"
     },
     "metadata": {}
    },
    {
     "output_type": "stream",
     "name": "stdout",
     "text": [
      "org.apache.commons.collections4.functors.instantiatefactory.java\n"
     ]
    },
    {
     "output_type": "display_data",
     "data": {
      "text/plain": "Empty DataFrame\nColumns: [filename, unprocessed_code, project]\nIndex: []",
      "text/html": "<div>\n<style scoped>\n    .dataframe tbody tr th:only-of-type {\n        vertical-align: middle;\n    }\n\n    .dataframe tbody tr th {\n        vertical-align: top;\n    }\n\n    .dataframe thead th {\n        text-align: right;\n    }\n</style>\n<table border=\"1\" class=\"dataframe\">\n  <thead>\n    <tr style=\"text-align: right;\">\n      <th></th>\n      <th>filename</th>\n      <th>unprocessed_code</th>\n      <th>project</th>\n    </tr>\n  </thead>\n  <tbody>\n  </tbody>\n</table>\n</div>"
     },
     "metadata": {}
    },
    {
     "output_type": "stream",
     "name": "stdout",
     "text": [
      "org.apache.commons.collections4.iterators.nodelistiteratortest.java\n"
     ]
    },
    {
     "output_type": "display_data",
     "data": {
      "text/plain": "Empty DataFrame\nColumns: [filename, unprocessed_code, project]\nIndex: []",
      "text/html": "<div>\n<style scoped>\n    .dataframe tbody tr th:only-of-type {\n        vertical-align: middle;\n    }\n\n    .dataframe tbody tr th {\n        vertical-align: top;\n    }\n\n    .dataframe thead th {\n        text-align: right;\n    }\n</style>\n<table border=\"1\" class=\"dataframe\">\n  <thead>\n    <tr style=\"text-align: right;\">\n      <th></th>\n      <th>filename</th>\n      <th>unprocessed_code</th>\n      <th>project</th>\n    </tr>\n  </thead>\n  <tbody>\n  </tbody>\n</table>\n</div>"
     },
     "metadata": {}
    },
    {
     "output_type": "stream",
     "name": "stdout",
     "text": [
      "org.apache.commons.collections4.set.abstractnavigablesetdecorator.java\n"
     ]
    },
    {
     "output_type": "display_data",
     "data": {
      "text/plain": "Empty DataFrame\nColumns: [filename, unprocessed_code, project]\nIndex: []",
      "text/html": "<div>\n<style scoped>\n    .dataframe tbody tr th:only-of-type {\n        vertical-align: middle;\n    }\n\n    .dataframe tbody tr th {\n        vertical-align: top;\n    }\n\n    .dataframe thead th {\n        text-align: right;\n    }\n</style>\n<table border=\"1\" class=\"dataframe\">\n  <thead>\n    <tr style=\"text-align: right;\">\n      <th></th>\n      <th>filename</th>\n      <th>unprocessed_code</th>\n      <th>project</th>\n    </tr>\n  </thead>\n  <tbody>\n  </tbody>\n</table>\n</div>"
     },
     "metadata": {}
    },
    {
     "output_type": "stream",
     "name": "stdout",
     "text": [
      "org.apache.commons.collections4.collection.unmodifiablecollection.java\n"
     ]
    },
    {
     "output_type": "display_data",
     "data": {
      "text/plain": "Empty DataFrame\nColumns: [filename, unprocessed_code, project]\nIndex: []",
      "text/html": "<div>\n<style scoped>\n    .dataframe tbody tr th:only-of-type {\n        vertical-align: middle;\n    }\n\n    .dataframe tbody tr th {\n        vertical-align: top;\n    }\n\n    .dataframe thead th {\n        text-align: right;\n    }\n</style>\n<table border=\"1\" class=\"dataframe\">\n  <thead>\n    <tr style=\"text-align: right;\">\n      <th></th>\n      <th>filename</th>\n      <th>unprocessed_code</th>\n      <th>project</th>\n    </tr>\n  </thead>\n  <tbody>\n  </tbody>\n</table>\n</div>"
     },
     "metadata": {}
    },
    {
     "output_type": "stream",
     "name": "stdout",
     "text": [
      "org.apache.commons.collections4.set.unmodifiablenavigablesettest.java\n"
     ]
    },
    {
     "output_type": "display_data",
     "data": {
      "text/plain": "Empty DataFrame\nColumns: [filename, unprocessed_code, project]\nIndex: []",
      "text/html": "<div>\n<style scoped>\n    .dataframe tbody tr th:only-of-type {\n        vertical-align: middle;\n    }\n\n    .dataframe tbody tr th {\n        vertical-align: top;\n    }\n\n    .dataframe thead th {\n        text-align: right;\n    }\n</style>\n<table border=\"1\" class=\"dataframe\">\n  <thead>\n    <tr style=\"text-align: right;\">\n      <th></th>\n      <th>filename</th>\n      <th>unprocessed_code</th>\n      <th>project</th>\n    </tr>\n  </thead>\n  <tbody>\n  </tbody>\n</table>\n</div>"
     },
     "metadata": {}
    },
    {
     "output_type": "stream",
     "name": "stdout",
     "text": [
      "org.apache.commons.collections4.map.predicatedsortedmap.java\n"
     ]
    },
    {
     "output_type": "display_data",
     "data": {
      "text/plain": "Empty DataFrame\nColumns: [filename, unprocessed_code, project]\nIndex: []",
      "text/html": "<div>\n<style scoped>\n    .dataframe tbody tr th:only-of-type {\n        vertical-align: middle;\n    }\n\n    .dataframe tbody tr th {\n        vertical-align: top;\n    }\n\n    .dataframe thead th {\n        text-align: right;\n    }\n</style>\n<table border=\"1\" class=\"dataframe\">\n  <thead>\n    <tr style=\"text-align: right;\">\n      <th></th>\n      <th>filename</th>\n      <th>unprocessed_code</th>\n      <th>project</th>\n    </tr>\n  </thead>\n  <tbody>\n  </tbody>\n</table>\n</div>"
     },
     "metadata": {}
    },
    {
     "output_type": "stream",
     "name": "stdout",
     "text": [
      "org.apache.commons.collections4.bag.transformedsortedbag.java\n"
     ]
    },
    {
     "output_type": "display_data",
     "data": {
      "text/plain": "Empty DataFrame\nColumns: [filename, unprocessed_code, project]\nIndex: []",
      "text/html": "<div>\n<style scoped>\n    .dataframe tbody tr th:only-of-type {\n        vertical-align: middle;\n    }\n\n    .dataframe tbody tr th {\n        vertical-align: top;\n    }\n\n    .dataframe thead th {\n        text-align: right;\n    }\n</style>\n<table border=\"1\" class=\"dataframe\">\n  <thead>\n    <tr style=\"text-align: right;\">\n      <th></th>\n      <th>filename</th>\n      <th>unprocessed_code</th>\n      <th>project</th>\n    </tr>\n  </thead>\n  <tbody>\n  </tbody>\n</table>\n</div>"
     },
     "metadata": {}
    },
    {
     "output_type": "stream",
     "name": "stdout",
     "text": [
      "org.apache.commons.collections4.collection.unmodifiableboundedcollection.java\n"
     ]
    },
    {
     "output_type": "display_data",
     "data": {
      "text/plain": "Empty DataFrame\nColumns: [filename, unprocessed_code, project]\nIndex: []",
      "text/html": "<div>\n<style scoped>\n    .dataframe tbody tr th:only-of-type {\n        vertical-align: middle;\n    }\n\n    .dataframe tbody tr th {\n        vertical-align: top;\n    }\n\n    .dataframe thead th {\n        text-align: right;\n    }\n</style>\n<table border=\"1\" class=\"dataframe\">\n  <thead>\n    <tr style=\"text-align: right;\">\n      <th></th>\n      <th>filename</th>\n      <th>unprocessed_code</th>\n      <th>project</th>\n    </tr>\n  </thead>\n  <tbody>\n  </tbody>\n</table>\n</div>"
     },
     "metadata": {}
    },
    {
     "output_type": "stream",
     "name": "stdout",
     "text": [
      "org.apache.commons.collections4.bagutils.java\n"
     ]
    },
    {
     "output_type": "display_data",
     "data": {
      "text/plain": "Empty DataFrame\nColumns: [filename, unprocessed_code, project]\nIndex: []",
      "text/html": "<div>\n<style scoped>\n    .dataframe tbody tr th:only-of-type {\n        vertical-align: middle;\n    }\n\n    .dataframe tbody tr th {\n        vertical-align: top;\n    }\n\n    .dataframe thead th {\n        text-align: right;\n    }\n</style>\n<table border=\"1\" class=\"dataframe\">\n  <thead>\n    <tr style=\"text-align: right;\">\n      <th></th>\n      <th>filename</th>\n      <th>unprocessed_code</th>\n      <th>project</th>\n    </tr>\n  </thead>\n  <tbody>\n  </tbody>\n</table>\n</div>"
     },
     "metadata": {}
    },
    {
     "output_type": "stream",
     "name": "stdout",
     "text": [
      "org.apache.commons.collections4.iterators.unmodifiableiterator.java\n"
     ]
    },
    {
     "output_type": "display_data",
     "data": {
      "text/plain": "Empty DataFrame\nColumns: [filename, unprocessed_code, project]\nIndex: []",
      "text/html": "<div>\n<style scoped>\n    .dataframe tbody tr th:only-of-type {\n        vertical-align: middle;\n    }\n\n    .dataframe tbody tr th {\n        vertical-align: top;\n    }\n\n    .dataframe thead th {\n        text-align: right;\n    }\n</style>\n<table border=\"1\" class=\"dataframe\">\n  <thead>\n    <tr style=\"text-align: right;\">\n      <th></th>\n      <th>filename</th>\n      <th>unprocessed_code</th>\n      <th>project</th>\n    </tr>\n  </thead>\n  <tbody>\n  </tbody>\n</table>\n</div>"
     },
     "metadata": {}
    },
    {
     "output_type": "stream",
     "name": "stdout",
     "text": [
      "org.apache.commons.collections4.closureutils.java\n"
     ]
    },
    {
     "output_type": "display_data",
     "data": {
      "text/plain": "Empty DataFrame\nColumns: [filename, unprocessed_code, project]\nIndex: []",
      "text/html": "<div>\n<style scoped>\n    .dataframe tbody tr th:only-of-type {\n        vertical-align: middle;\n    }\n\n    .dataframe tbody tr th {\n        vertical-align: top;\n    }\n\n    .dataframe thead th {\n        text-align: right;\n    }\n</style>\n<table border=\"1\" class=\"dataframe\">\n  <thead>\n    <tr style=\"text-align: right;\">\n      <th></th>\n      <th>filename</th>\n      <th>unprocessed_code</th>\n      <th>project</th>\n    </tr>\n  </thead>\n  <tbody>\n  </tbody>\n</table>\n</div>"
     },
     "metadata": {}
    },
    {
     "output_type": "stream",
     "name": "stdout",
     "text": [
      "org.apache.commons.collections4.functors.nullisexceptionpredicate.java\n"
     ]
    },
    {
     "output_type": "display_data",
     "data": {
      "text/plain": "Empty DataFrame\nColumns: [filename, unprocessed_code, project]\nIndex: []",
      "text/html": "<div>\n<style scoped>\n    .dataframe tbody tr th:only-of-type {\n        vertical-align: middle;\n    }\n\n    .dataframe tbody tr th {\n        vertical-align: top;\n    }\n\n    .dataframe thead th {\n        text-align: right;\n    }\n</style>\n<table border=\"1\" class=\"dataframe\">\n  <thead>\n    <tr style=\"text-align: right;\">\n      <th></th>\n      <th>filename</th>\n      <th>unprocessed_code</th>\n      <th>project</th>\n    </tr>\n  </thead>\n  <tbody>\n  </tbody>\n</table>\n</div>"
     },
     "metadata": {}
    },
    {
     "output_type": "stream",
     "name": "stdout",
     "text": [
      "org.apache.commons.collections4.keyvalue.abstractmapentrydecorator.java\n"
     ]
    },
    {
     "output_type": "display_data",
     "data": {
      "text/plain": "Empty DataFrame\nColumns: [filename, unprocessed_code, project]\nIndex: []",
      "text/html": "<div>\n<style scoped>\n    .dataframe tbody tr th:only-of-type {\n        vertical-align: middle;\n    }\n\n    .dataframe tbody tr th {\n        vertical-align: top;\n    }\n\n    .dataframe thead th {\n        text-align: right;\n    }\n</style>\n<table border=\"1\" class=\"dataframe\">\n  <thead>\n    <tr style=\"text-align: right;\">\n      <th></th>\n      <th>filename</th>\n      <th>unprocessed_code</th>\n      <th>project</th>\n    </tr>\n  </thead>\n  <tbody>\n  </tbody>\n</table>\n</div>"
     },
     "metadata": {}
    },
    {
     "output_type": "stream",
     "name": "stdout",
     "text": [
      "org.apache.commons.collections4.collection.synchronizedcollection.java\n"
     ]
    },
    {
     "output_type": "display_data",
     "data": {
      "text/plain": "Empty DataFrame\nColumns: [filename, unprocessed_code, project]\nIndex: []",
      "text/html": "<div>\n<style scoped>\n    .dataframe tbody tr th:only-of-type {\n        vertical-align: middle;\n    }\n\n    .dataframe tbody tr th {\n        vertical-align: top;\n    }\n\n    .dataframe thead th {\n        text-align: right;\n    }\n</style>\n<table border=\"1\" class=\"dataframe\">\n  <thead>\n    <tr style=\"text-align: right;\">\n      <th></th>\n      <th>filename</th>\n      <th>unprocessed_code</th>\n      <th>project</th>\n    </tr>\n  </thead>\n  <tbody>\n  </tbody>\n</table>\n</div>"
     },
     "metadata": {}
    },
    {
     "output_type": "stream",
     "name": "stdout",
     "text": [
      "org.apache.commons.collections4.functors.notpredicate.java\n"
     ]
    },
    {
     "output_type": "display_data",
     "data": {
      "text/plain": "Empty DataFrame\nColumns: [filename, unprocessed_code, project]\nIndex: []",
      "text/html": "<div>\n<style scoped>\n    .dataframe tbody tr th:only-of-type {\n        vertical-align: middle;\n    }\n\n    .dataframe tbody tr th {\n        vertical-align: top;\n    }\n\n    .dataframe thead th {\n        text-align: right;\n    }\n</style>\n<table border=\"1\" class=\"dataframe\">\n  <thead>\n    <tr style=\"text-align: right;\">\n      <th></th>\n      <th>filename</th>\n      <th>unprocessed_code</th>\n      <th>project</th>\n    </tr>\n  </thead>\n  <tbody>\n  </tbody>\n</table>\n</div>"
     },
     "metadata": {}
    },
    {
     "output_type": "stream",
     "name": "stdout",
     "text": [
      "org.apache.commons.collections4.queueutilstest.java\n"
     ]
    },
    {
     "output_type": "display_data",
     "data": {
      "text/plain": "Empty DataFrame\nColumns: [filename, unprocessed_code, project]\nIndex: []",
      "text/html": "<div>\n<style scoped>\n    .dataframe tbody tr th:only-of-type {\n        vertical-align: middle;\n    }\n\n    .dataframe tbody tr th {\n        vertical-align: top;\n    }\n\n    .dataframe thead th {\n        text-align: right;\n    }\n</style>\n<table border=\"1\" class=\"dataframe\">\n  <thead>\n    <tr style=\"text-align: right;\">\n      <th></th>\n      <th>filename</th>\n      <th>unprocessed_code</th>\n      <th>project</th>\n    </tr>\n  </thead>\n  <tbody>\n  </tbody>\n</table>\n</div>"
     },
     "metadata": {}
    },
    {
     "output_type": "stream",
     "name": "stdout",
     "text": [
      "org.apache.commons.collections4.splitmaputils.java\n"
     ]
    },
    {
     "output_type": "display_data",
     "data": {
      "text/plain": "Empty DataFrame\nColumns: [filename, unprocessed_code, project]\nIndex: []",
      "text/html": "<div>\n<style scoped>\n    .dataframe tbody tr th:only-of-type {\n        vertical-align: middle;\n    }\n\n    .dataframe tbody tr th {\n        vertical-align: top;\n    }\n\n    .dataframe thead th {\n        text-align: right;\n    }\n</style>\n<table border=\"1\" class=\"dataframe\">\n  <thead>\n    <tr style=\"text-align: right;\">\n      <th></th>\n      <th>filename</th>\n      <th>unprocessed_code</th>\n      <th>project</th>\n    </tr>\n  </thead>\n  <tbody>\n  </tbody>\n</table>\n</div>"
     },
     "metadata": {}
    },
    {
     "output_type": "stream",
     "name": "stdout",
     "text": [
      "org.apache.commons.collections4.set.abstractsortedsetdecorator.java\n"
     ]
    },
    {
     "output_type": "display_data",
     "data": {
      "text/plain": "Empty DataFrame\nColumns: [filename, unprocessed_code, project]\nIndex: []",
      "text/html": "<div>\n<style scoped>\n    .dataframe tbody tr th:only-of-type {\n        vertical-align: middle;\n    }\n\n    .dataframe tbody tr th {\n        vertical-align: top;\n    }\n\n    .dataframe thead th {\n        text-align: right;\n    }\n</style>\n<table border=\"1\" class=\"dataframe\">\n  <thead>\n    <tr style=\"text-align: right;\">\n      <th></th>\n      <th>filename</th>\n      <th>unprocessed_code</th>\n      <th>project</th>\n    </tr>\n  </thead>\n  <tbody>\n  </tbody>\n</table>\n</div>"
     },
     "metadata": {}
    },
    {
     "output_type": "stream",
     "name": "stdout",
     "text": [
      "org.apache.commons.collections4.set.listorderedset.java\n"
     ]
    },
    {
     "output_type": "display_data",
     "data": {
      "text/plain": "Empty DataFrame\nColumns: [filename, unprocessed_code, project]\nIndex: []",
      "text/html": "<div>\n<style scoped>\n    .dataframe tbody tr th:only-of-type {\n        vertical-align: middle;\n    }\n\n    .dataframe tbody tr th {\n        vertical-align: top;\n    }\n\n    .dataframe thead th {\n        text-align: right;\n    }\n</style>\n<table border=\"1\" class=\"dataframe\">\n  <thead>\n    <tr style=\"text-align: right;\">\n      <th></th>\n      <th>filename</th>\n      <th>unprocessed_code</th>\n      <th>project</th>\n    </tr>\n  </thead>\n  <tbody>\n  </tbody>\n</table>\n</div>"
     },
     "metadata": {}
    },
    {
     "output_type": "stream",
     "name": "stdout",
     "text": [
      "org.apache.commons.collections4.map.lazysortedmaptest.java\n"
     ]
    },
    {
     "output_type": "display_data",
     "data": {
      "text/plain": "Empty DataFrame\nColumns: [filename, unprocessed_code, project]\nIndex: []",
      "text/html": "<div>\n<style scoped>\n    .dataframe tbody tr th:only-of-type {\n        vertical-align: middle;\n    }\n\n    .dataframe tbody tr th {\n        vertical-align: top;\n    }\n\n    .dataframe thead th {\n        text-align: right;\n    }\n</style>\n<table border=\"1\" class=\"dataframe\">\n  <thead>\n    <tr style=\"text-align: right;\">\n      <th></th>\n      <th>filename</th>\n      <th>unprocessed_code</th>\n      <th>project</th>\n    </tr>\n  </thead>\n  <tbody>\n  </tbody>\n</table>\n</div>"
     },
     "metadata": {}
    },
    {
     "output_type": "stream",
     "name": "stdout",
     "text": [
      "org.apache.commons.collections4.set.transformedset.java\n"
     ]
    },
    {
     "output_type": "display_data",
     "data": {
      "text/plain": "Empty DataFrame\nColumns: [filename, unprocessed_code, project]\nIndex: []",
      "text/html": "<div>\n<style scoped>\n    .dataframe tbody tr th:only-of-type {\n        vertical-align: middle;\n    }\n\n    .dataframe tbody tr th {\n        vertical-align: top;\n    }\n\n    .dataframe thead th {\n        text-align: right;\n    }\n</style>\n<table border=\"1\" class=\"dataframe\">\n  <thead>\n    <tr style=\"text-align: right;\">\n      <th></th>\n      <th>filename</th>\n      <th>unprocessed_code</th>\n      <th>project</th>\n    </tr>\n  </thead>\n  <tbody>\n  </tbody>\n</table>\n</div>"
     },
     "metadata": {}
    },
    {
     "output_type": "stream",
     "name": "stdout",
     "text": [
      "org.apache.commons.collections4.list.predicatedlist.java\n"
     ]
    },
    {
     "output_type": "display_data",
     "data": {
      "text/plain": "Empty DataFrame\nColumns: [filename, unprocessed_code, project]\nIndex: []",
      "text/html": "<div>\n<style scoped>\n    .dataframe tbody tr th:only-of-type {\n        vertical-align: middle;\n    }\n\n    .dataframe tbody tr th {\n        vertical-align: top;\n    }\n\n    .dataframe thead th {\n        text-align: right;\n    }\n</style>\n<table border=\"1\" class=\"dataframe\">\n  <thead>\n    <tr style=\"text-align: right;\">\n      <th></th>\n      <th>filename</th>\n      <th>unprocessed_code</th>\n      <th>project</th>\n    </tr>\n  </thead>\n  <tbody>\n  </tbody>\n</table>\n</div>"
     },
     "metadata": {}
    },
    {
     "output_type": "stream",
     "name": "stdout",
     "text": [
      "org.apache.commons.collections4.iterators.unmodifiableorderedmapiterator.java\n"
     ]
    },
    {
     "output_type": "display_data",
     "data": {
      "text/plain": "Empty DataFrame\nColumns: [filename, unprocessed_code, project]\nIndex: []",
      "text/html": "<div>\n<style scoped>\n    .dataframe tbody tr th:only-of-type {\n        vertical-align: middle;\n    }\n\n    .dataframe tbody tr th {\n        vertical-align: top;\n    }\n\n    .dataframe thead th {\n        text-align: right;\n    }\n</style>\n<table border=\"1\" class=\"dataframe\">\n  <thead>\n    <tr style=\"text-align: right;\">\n      <th></th>\n      <th>filename</th>\n      <th>unprocessed_code</th>\n      <th>project</th>\n    </tr>\n  </thead>\n  <tbody>\n  </tbody>\n</table>\n</div>"
     },
     "metadata": {}
    },
    {
     "output_type": "stream",
     "name": "stdout",
     "text": [
      "org.apache.commons.collections4.functors.transformerpredicate.java\n"
     ]
    },
    {
     "output_type": "display_data",
     "data": {
      "text/plain": "Empty DataFrame\nColumns: [filename, unprocessed_code, project]\nIndex: []",
      "text/html": "<div>\n<style scoped>\n    .dataframe tbody tr th:only-of-type {\n        vertical-align: middle;\n    }\n\n    .dataframe tbody tr th {\n        vertical-align: top;\n    }\n\n    .dataframe thead th {\n        text-align: right;\n    }\n</style>\n<table border=\"1\" class=\"dataframe\">\n  <thead>\n    <tr style=\"text-align: right;\">\n      <th></th>\n      <th>filename</th>\n      <th>unprocessed_code</th>\n      <th>project</th>\n    </tr>\n  </thead>\n  <tbody>\n  </tbody>\n</table>\n</div>"
     },
     "metadata": {}
    },
    {
     "output_type": "stream",
     "name": "stdout",
     "text": [
      "org.apache.commons.collections4.collectionutils.java\n"
     ]
    },
    {
     "output_type": "display_data",
     "data": {
      "text/plain": "Empty DataFrame\nColumns: [filename, unprocessed_code, project]\nIndex: []",
      "text/html": "<div>\n<style scoped>\n    .dataframe tbody tr th:only-of-type {\n        vertical-align: middle;\n    }\n\n    .dataframe tbody tr th {\n        vertical-align: top;\n    }\n\n    .dataframe thead th {\n        text-align: right;\n    }\n</style>\n<table border=\"1\" class=\"dataframe\">\n  <thead>\n    <tr style=\"text-align: right;\">\n      <th></th>\n      <th>filename</th>\n      <th>unprocessed_code</th>\n      <th>project</th>\n    </tr>\n  </thead>\n  <tbody>\n  </tbody>\n</table>\n</div>"
     },
     "metadata": {}
    },
    {
     "output_type": "stream",
     "name": "stdout",
     "text": [
      "org.apache.commons.collections4.list.growthlist.java\n"
     ]
    },
    {
     "output_type": "display_data",
     "data": {
      "text/plain": "Empty DataFrame\nColumns: [filename, unprocessed_code, project]\nIndex: []",
      "text/html": "<div>\n<style scoped>\n    .dataframe tbody tr th:only-of-type {\n        vertical-align: middle;\n    }\n\n    .dataframe tbody tr th {\n        vertical-align: top;\n    }\n\n    .dataframe thead th {\n        text-align: right;\n    }\n</style>\n<table border=\"1\" class=\"dataframe\">\n  <thead>\n    <tr style=\"text-align: right;\">\n      <th></th>\n      <th>filename</th>\n      <th>unprocessed_code</th>\n      <th>project</th>\n    </tr>\n  </thead>\n  <tbody>\n  </tbody>\n</table>\n</div>"
     },
     "metadata": {}
    },
    {
     "output_type": "stream",
     "name": "stdout",
     "text": [
      "org.apache.commons.collections4.factoryutils.java\n"
     ]
    },
    {
     "output_type": "display_data",
     "data": {
      "text/plain": "Empty DataFrame\nColumns: [filename, unprocessed_code, project]\nIndex: []",
      "text/html": "<div>\n<style scoped>\n    .dataframe tbody tr th:only-of-type {\n        vertical-align: middle;\n    }\n\n    .dataframe tbody tr th {\n        vertical-align: top;\n    }\n\n    .dataframe thead th {\n        text-align: right;\n    }\n</style>\n<table border=\"1\" class=\"dataframe\">\n  <thead>\n    <tr style=\"text-align: right;\">\n      <th></th>\n      <th>filename</th>\n      <th>unprocessed_code</th>\n      <th>project</th>\n    </tr>\n  </thead>\n  <tbody>\n  </tbody>\n</table>\n</div>"
     },
     "metadata": {}
    },
    {
     "output_type": "stream",
     "name": "stdout",
     "text": [
      "org.apache.commons.collections4.functors.instanceofpredicate.java\n"
     ]
    },
    {
     "output_type": "display_data",
     "data": {
      "text/plain": "Empty DataFrame\nColumns: [filename, unprocessed_code, project]\nIndex: []",
      "text/html": "<div>\n<style scoped>\n    .dataframe tbody tr th:only-of-type {\n        vertical-align: middle;\n    }\n\n    .dataframe tbody tr th {\n        vertical-align: top;\n    }\n\n    .dataframe thead th {\n        text-align: right;\n    }\n</style>\n<table border=\"1\" class=\"dataframe\">\n  <thead>\n    <tr style=\"text-align: right;\">\n      <th></th>\n      <th>filename</th>\n      <th>unprocessed_code</th>\n      <th>project</th>\n    </tr>\n  </thead>\n  <tbody>\n  </tbody>\n</table>\n</div>"
     },
     "metadata": {}
    },
    {
     "output_type": "stream",
     "name": "stdout",
     "text": [
      "org.apache.commons.collections4.list.setuniquelist.java\n"
     ]
    },
    {
     "output_type": "display_data",
     "data": {
      "text/plain": "Empty DataFrame\nColumns: [filename, unprocessed_code, project]\nIndex: []",
      "text/html": "<div>\n<style scoped>\n    .dataframe tbody tr th:only-of-type {\n        vertical-align: middle;\n    }\n\n    .dataframe tbody tr th {\n        vertical-align: top;\n    }\n\n    .dataframe thead th {\n        text-align: right;\n    }\n</style>\n<table border=\"1\" class=\"dataframe\">\n  <thead>\n    <tr style=\"text-align: right;\">\n      <th></th>\n      <th>filename</th>\n      <th>unprocessed_code</th>\n      <th>project</th>\n    </tr>\n  </thead>\n  <tbody>\n  </tbody>\n</table>\n</div>"
     },
     "metadata": {}
    },
    {
     "output_type": "stream",
     "name": "stdout",
     "text": [
      "org.apache.commons.collections4.transformerutils.java\n"
     ]
    },
    {
     "output_type": "display_data",
     "data": {
      "text/plain": "Empty DataFrame\nColumns: [filename, unprocessed_code, project]\nIndex: []",
      "text/html": "<div>\n<style scoped>\n    .dataframe tbody tr th:only-of-type {\n        vertical-align: middle;\n    }\n\n    .dataframe tbody tr th {\n        vertical-align: top;\n    }\n\n    .dataframe thead th {\n        text-align: right;\n    }\n</style>\n<table border=\"1\" class=\"dataframe\">\n  <thead>\n    <tr style=\"text-align: right;\">\n      <th></th>\n      <th>filename</th>\n      <th>unprocessed_code</th>\n      <th>project</th>\n    </tr>\n  </thead>\n  <tbody>\n  </tbody>\n</table>\n</div>"
     },
     "metadata": {}
    },
    {
     "output_type": "stream",
     "name": "stdout",
     "text": [
      "org.apache.commons.collections4.functors.nullisfalsepredicate.java\n"
     ]
    },
    {
     "output_type": "display_data",
     "data": {
      "text/plain": "Empty DataFrame\nColumns: [filename, unprocessed_code, project]\nIndex: []",
      "text/html": "<div>\n<style scoped>\n    .dataframe tbody tr th:only-of-type {\n        vertical-align: middle;\n    }\n\n    .dataframe tbody tr th {\n        vertical-align: top;\n    }\n\n    .dataframe thead th {\n        text-align: right;\n    }\n</style>\n<table border=\"1\" class=\"dataframe\">\n  <thead>\n    <tr style=\"text-align: right;\">\n      <th></th>\n      <th>filename</th>\n      <th>unprocessed_code</th>\n      <th>project</th>\n    </tr>\n  </thead>\n  <tbody>\n  </tbody>\n</table>\n</div>"
     },
     "metadata": {}
    },
    {
     "output_type": "stream",
     "name": "stdout",
     "text": [
      "org.apache.commons.collections4.bidimap.unmodifiableorderedbidimaptest.java\n"
     ]
    },
    {
     "output_type": "display_data",
     "data": {
      "text/plain": "Empty DataFrame\nColumns: [filename, unprocessed_code, project]\nIndex: []",
      "text/html": "<div>\n<style scoped>\n    .dataframe tbody tr th:only-of-type {\n        vertical-align: middle;\n    }\n\n    .dataframe tbody tr th {\n        vertical-align: top;\n    }\n\n    .dataframe thead th {\n        text-align: right;\n    }\n</style>\n<table border=\"1\" class=\"dataframe\">\n  <thead>\n    <tr style=\"text-align: right;\">\n      <th></th>\n      <th>filename</th>\n      <th>unprocessed_code</th>\n      <th>project</th>\n    </tr>\n  </thead>\n  <tbody>\n  </tbody>\n</table>\n</div>"
     },
     "metadata": {}
    },
    {
     "output_type": "stream",
     "name": "stdout",
     "text": [
      "org.apache.commons.collections4.functors.invokertransformer.java\n"
     ]
    },
    {
     "output_type": "display_data",
     "data": {
      "text/plain": "Empty DataFrame\nColumns: [filename, unprocessed_code, project]\nIndex: []",
      "text/html": "<div>\n<style scoped>\n    .dataframe tbody tr th:only-of-type {\n        vertical-align: middle;\n    }\n\n    .dataframe tbody tr th {\n        vertical-align: top;\n    }\n\n    .dataframe thead th {\n        text-align: right;\n    }\n</style>\n<table border=\"1\" class=\"dataframe\">\n  <thead>\n    <tr style=\"text-align: right;\">\n      <th></th>\n      <th>filename</th>\n      <th>unprocessed_code</th>\n      <th>project</th>\n    </tr>\n  </thead>\n  <tbody>\n  </tbody>\n</table>\n</div>"
     },
     "metadata": {}
    },
    {
     "output_type": "stream",
     "name": "stdout",
     "text": [
      "org.apache.commons.collections4.set.abstractserializablesetdecorator.java\n"
     ]
    },
    {
     "output_type": "display_data",
     "data": {
      "text/plain": "Empty DataFrame\nColumns: [filename, unprocessed_code, project]\nIndex: []",
      "text/html": "<div>\n<style scoped>\n    .dataframe tbody tr th:only-of-type {\n        vertical-align: middle;\n    }\n\n    .dataframe tbody tr th {\n        vertical-align: top;\n    }\n\n    .dataframe thead th {\n        text-align: right;\n    }\n</style>\n<table border=\"1\" class=\"dataframe\">\n  <thead>\n    <tr style=\"text-align: right;\">\n      <th></th>\n      <th>filename</th>\n      <th>unprocessed_code</th>\n      <th>project</th>\n    </tr>\n  </thead>\n  <tbody>\n  </tbody>\n</table>\n</div>"
     },
     "metadata": {}
    },
    {
     "output_type": "stream",
     "name": "stdout",
     "text": [
      "org.apache.commons.collections4.bag.predicatedsortedbag.java\n"
     ]
    },
    {
     "output_type": "display_data",
     "data": {
      "text/plain": "Empty DataFrame\nColumns: [filename, unprocessed_code, project]\nIndex: []",
      "text/html": "<div>\n<style scoped>\n    .dataframe tbody tr th:only-of-type {\n        vertical-align: middle;\n    }\n\n    .dataframe tbody tr th {\n        vertical-align: top;\n    }\n\n    .dataframe thead th {\n        text-align: right;\n    }\n</style>\n<table border=\"1\" class=\"dataframe\">\n  <thead>\n    <tr style=\"text-align: right;\">\n      <th></th>\n      <th>filename</th>\n      <th>unprocessed_code</th>\n      <th>project</th>\n    </tr>\n  </thead>\n  <tbody>\n  </tbody>\n</table>\n</div>"
     },
     "metadata": {}
    },
    {
     "output_type": "stream",
     "name": "stdout",
     "text": [
      "org.apache.commons.collections4.comparators.fixedordercomparator.java\n"
     ]
    },
    {
     "output_type": "display_data",
     "data": {
      "text/plain": "Empty DataFrame\nColumns: [filename, unprocessed_code, project]\nIndex: []",
      "text/html": "<div>\n<style scoped>\n    .dataframe tbody tr th:only-of-type {\n        vertical-align: middle;\n    }\n\n    .dataframe tbody tr th {\n        vertical-align: top;\n    }\n\n    .dataframe thead th {\n        text-align: right;\n    }\n</style>\n<table border=\"1\" class=\"dataframe\">\n  <thead>\n    <tr style=\"text-align: right;\">\n      <th></th>\n      <th>filename</th>\n      <th>unprocessed_code</th>\n      <th>project</th>\n    </tr>\n  </thead>\n  <tbody>\n  </tbody>\n</table>\n</div>"
     },
     "metadata": {}
    },
    {
     "output_type": "stream",
     "name": "stdout",
     "text": [
      "org.apache.commons.collections4.bag.collectionsortedbag.java\n"
     ]
    },
    {
     "output_type": "display_data",
     "data": {
      "text/plain": "Empty DataFrame\nColumns: [filename, unprocessed_code, project]\nIndex: []",
      "text/html": "<div>\n<style scoped>\n    .dataframe tbody tr th:only-of-type {\n        vertical-align: middle;\n    }\n\n    .dataframe tbody tr th {\n        vertical-align: top;\n    }\n\n    .dataframe thead th {\n        text-align: right;\n    }\n</style>\n<table border=\"1\" class=\"dataframe\">\n  <thead>\n    <tr style=\"text-align: right;\">\n      <th></th>\n      <th>filename</th>\n      <th>unprocessed_code</th>\n      <th>project</th>\n    </tr>\n  </thead>\n  <tbody>\n  </tbody>\n</table>\n</div>"
     },
     "metadata": {}
    },
    {
     "output_type": "stream",
     "name": "stdout",
     "text": [
      "org.apache.commons.collections4.set.unmodifiablesettest.java\n"
     ]
    },
    {
     "output_type": "display_data",
     "data": {
      "text/plain": "Empty DataFrame\nColumns: [filename, unprocessed_code, project]\nIndex: []",
      "text/html": "<div>\n<style scoped>\n    .dataframe tbody tr th:only-of-type {\n        vertical-align: middle;\n    }\n\n    .dataframe tbody tr th {\n        vertical-align: top;\n    }\n\n    .dataframe thead th {\n        text-align: right;\n    }\n</style>\n<table border=\"1\" class=\"dataframe\">\n  <thead>\n    <tr style=\"text-align: right;\">\n      <th></th>\n      <th>filename</th>\n      <th>unprocessed_code</th>\n      <th>project</th>\n    </tr>\n  </thead>\n  <tbody>\n  </tbody>\n</table>\n</div>"
     },
     "metadata": {}
    },
    {
     "output_type": "stream",
     "name": "stdout",
     "text": [
      "org.apache.commons.collections4.iterators.reverselistiterator.java\n"
     ]
    },
    {
     "output_type": "display_data",
     "data": {
      "text/plain": "Empty DataFrame\nColumns: [filename, unprocessed_code, project]\nIndex: []",
      "text/html": "<div>\n<style scoped>\n    .dataframe tbody tr th:only-of-type {\n        vertical-align: middle;\n    }\n\n    .dataframe tbody tr th {\n        vertical-align: top;\n    }\n\n    .dataframe thead th {\n        text-align: right;\n    }\n</style>\n<table border=\"1\" class=\"dataframe\">\n  <thead>\n    <tr style=\"text-align: right;\">\n      <th></th>\n      <th>filename</th>\n      <th>unprocessed_code</th>\n      <th>project</th>\n    </tr>\n  </thead>\n  <tbody>\n  </tbody>\n</table>\n</div>"
     },
     "metadata": {}
    },
    {
     "output_type": "stream",
     "name": "stdout",
     "text": [
      "org.apache.commons.collections4.bidimap.unmodifiablesortedbidimaptest.java\n"
     ]
    },
    {
     "output_type": "display_data",
     "data": {
      "text/plain": "Empty DataFrame\nColumns: [filename, unprocessed_code, project]\nIndex: []",
      "text/html": "<div>\n<style scoped>\n    .dataframe tbody tr th:only-of-type {\n        vertical-align: middle;\n    }\n\n    .dataframe tbody tr th {\n        vertical-align: top;\n    }\n\n    .dataframe thead th {\n        text-align: right;\n    }\n</style>\n<table border=\"1\" class=\"dataframe\">\n  <thead>\n    <tr style=\"text-align: right;\">\n      <th></th>\n      <th>filename</th>\n      <th>unprocessed_code</th>\n      <th>project</th>\n    </tr>\n  </thead>\n  <tbody>\n  </tbody>\n</table>\n</div>"
     },
     "metadata": {}
    },
    {
     "output_type": "stream",
     "name": "stdout",
     "text": [
      "org.apache.commons.collections4.bidimap.unmodifiablebidimaptest.java\n"
     ]
    },
    {
     "output_type": "display_data",
     "data": {
      "text/plain": "Empty DataFrame\nColumns: [filename, unprocessed_code, project]\nIndex: []",
      "text/html": "<div>\n<style scoped>\n    .dataframe tbody tr th:only-of-type {\n        vertical-align: middle;\n    }\n\n    .dataframe tbody tr th {\n        vertical-align: top;\n    }\n\n    .dataframe thead th {\n        text-align: right;\n    }\n</style>\n<table border=\"1\" class=\"dataframe\">\n  <thead>\n    <tr style=\"text-align: right;\">\n      <th></th>\n      <th>filename</th>\n      <th>unprocessed_code</th>\n      <th>project</th>\n    </tr>\n  </thead>\n  <tbody>\n  </tbody>\n</table>\n</div>"
     },
     "metadata": {}
    },
    {
     "output_type": "stream",
     "name": "stdout",
     "text": [
      "org.apache.commons.collections4.functors.chainedtransformer.java\n"
     ]
    },
    {
     "output_type": "display_data",
     "data": {
      "text/plain": "Empty DataFrame\nColumns: [filename, unprocessed_code, project]\nIndex: []",
      "text/html": "<div>\n<style scoped>\n    .dataframe tbody tr th:only-of-type {\n        vertical-align: middle;\n    }\n\n    .dataframe tbody tr th {\n        vertical-align: top;\n    }\n\n    .dataframe thead th {\n        text-align: right;\n    }\n</style>\n<table border=\"1\" class=\"dataframe\">\n  <thead>\n    <tr style=\"text-align: right;\">\n      <th></th>\n      <th>filename</th>\n      <th>unprocessed_code</th>\n      <th>project</th>\n    </tr>\n  </thead>\n  <tbody>\n  </tbody>\n</table>\n</div>"
     },
     "metadata": {}
    },
    {
     "output_type": "stream",
     "name": "stdout",
     "text": [
      "org.apache.commons.collections4.map.singletonmap.java\n"
     ]
    },
    {
     "output_type": "display_data",
     "data": {
      "text/plain": "Empty DataFrame\nColumns: [filename, unprocessed_code, project]\nIndex: []",
      "text/html": "<div>\n<style scoped>\n    .dataframe tbody tr th:only-of-type {\n        vertical-align: middle;\n    }\n\n    .dataframe tbody tr th {\n        vertical-align: top;\n    }\n\n    .dataframe thead th {\n        text-align: right;\n    }\n</style>\n<table border=\"1\" class=\"dataframe\">\n  <thead>\n    <tr style=\"text-align: right;\">\n      <th></th>\n      <th>filename</th>\n      <th>unprocessed_code</th>\n      <th>project</th>\n    </tr>\n  </thead>\n  <tbody>\n  </tbody>\n</table>\n</div>"
     },
     "metadata": {}
    },
    {
     "output_type": "stream",
     "name": "stdout",
     "text": [
      "org.apache.commons.collections4.map.fixedsizesortedmap.java\n"
     ]
    },
    {
     "output_type": "display_data",
     "data": {
      "text/plain": "Empty DataFrame\nColumns: [filename, unprocessed_code, project]\nIndex: []",
      "text/html": "<div>\n<style scoped>\n    .dataframe tbody tr th:only-of-type {\n        vertical-align: middle;\n    }\n\n    .dataframe tbody tr th {\n        vertical-align: top;\n    }\n\n    .dataframe thead th {\n        text-align: right;\n    }\n</style>\n<table border=\"1\" class=\"dataframe\">\n  <thead>\n    <tr style=\"text-align: right;\">\n      <th></th>\n      <th>filename</th>\n      <th>unprocessed_code</th>\n      <th>project</th>\n    </tr>\n  </thead>\n  <tbody>\n  </tbody>\n</table>\n</div>"
     },
     "metadata": {}
    },
    {
     "output_type": "stream",
     "name": "stdout",
     "text": [
      "org.apache.commons.collections4.set.predicatedsortedset.java\n"
     ]
    },
    {
     "output_type": "display_data",
     "data": {
      "text/plain": "Empty DataFrame\nColumns: [filename, unprocessed_code, project]\nIndex: []",
      "text/html": "<div>\n<style scoped>\n    .dataframe tbody tr th:only-of-type {\n        vertical-align: middle;\n    }\n\n    .dataframe tbody tr th {\n        vertical-align: top;\n    }\n\n    .dataframe thead th {\n        text-align: right;\n    }\n</style>\n<table border=\"1\" class=\"dataframe\">\n  <thead>\n    <tr style=\"text-align: right;\">\n      <th></th>\n      <th>filename</th>\n      <th>unprocessed_code</th>\n      <th>project</th>\n    </tr>\n  </thead>\n  <tbody>\n  </tbody>\n</table>\n</div>"
     },
     "metadata": {}
    },
    {
     "output_type": "stream",
     "name": "stdout",
     "text": [
      "org.apache.commons.collections4.maputils.java\n"
     ]
    },
    {
     "output_type": "display_data",
     "data": {
      "text/plain": "Empty DataFrame\nColumns: [filename, unprocessed_code, project]\nIndex: []",
      "text/html": "<div>\n<style scoped>\n    .dataframe tbody tr th:only-of-type {\n        vertical-align: middle;\n    }\n\n    .dataframe tbody tr th {\n        vertical-align: top;\n    }\n\n    .dataframe thead th {\n        text-align: right;\n    }\n</style>\n<table border=\"1\" class=\"dataframe\">\n  <thead>\n    <tr style=\"text-align: right;\">\n      <th></th>\n      <th>filename</th>\n      <th>unprocessed_code</th>\n      <th>project</th>\n    </tr>\n  </thead>\n  <tbody>\n  </tbody>\n</table>\n</div>"
     },
     "metadata": {}
    },
    {
     "output_type": "stream",
     "name": "stdout",
     "text": [
      "org.apache.commons.collections4.iterators.nodelistiterator.java\n"
     ]
    },
    {
     "output_type": "display_data",
     "data": {
      "text/plain": "Empty DataFrame\nColumns: [filename, unprocessed_code, project]\nIndex: []",
      "text/html": "<div>\n<style scoped>\n    .dataframe tbody tr th:only-of-type {\n        vertical-align: middle;\n    }\n\n    .dataframe tbody tr th {\n        vertical-align: top;\n    }\n\n    .dataframe thead th {\n        text-align: right;\n    }\n</style>\n<table border=\"1\" class=\"dataframe\">\n  <thead>\n    <tr style=\"text-align: right;\">\n      <th></th>\n      <th>filename</th>\n      <th>unprocessed_code</th>\n      <th>project</th>\n    </tr>\n  </thead>\n  <tbody>\n  </tbody>\n</table>\n</div>"
     },
     "metadata": {}
    },
    {
     "output_type": "stream",
     "name": "stdout",
     "text": [
      "org.apache.commons.collections4.listutilstest.java\n"
     ]
    },
    {
     "output_type": "display_data",
     "data": {
      "text/plain": "Empty DataFrame\nColumns: [filename, unprocessed_code, project]\nIndex: []",
      "text/html": "<div>\n<style scoped>\n    .dataframe tbody tr th:only-of-type {\n        vertical-align: middle;\n    }\n\n    .dataframe tbody tr th {\n        vertical-align: top;\n    }\n\n    .dataframe thead th {\n        text-align: right;\n    }\n</style>\n<table border=\"1\" class=\"dataframe\">\n  <thead>\n    <tr style=\"text-align: right;\">\n      <th></th>\n      <th>filename</th>\n      <th>unprocessed_code</th>\n      <th>project</th>\n    </tr>\n  </thead>\n  <tbody>\n  </tbody>\n</table>\n</div>"
     },
     "metadata": {}
    },
    {
     "output_type": "stream",
     "name": "stdout",
     "text": [
      "org.apache.commons.collections4.set.mapbackedset.java\n"
     ]
    },
    {
     "output_type": "display_data",
     "data": {
      "text/plain": "Empty DataFrame\nColumns: [filename, unprocessed_code, project]\nIndex: []",
      "text/html": "<div>\n<style scoped>\n    .dataframe tbody tr th:only-of-type {\n        vertical-align: middle;\n    }\n\n    .dataframe tbody tr th {\n        vertical-align: top;\n    }\n\n    .dataframe thead th {\n        text-align: right;\n    }\n</style>\n<table border=\"1\" class=\"dataframe\">\n  <thead>\n    <tr style=\"text-align: right;\">\n      <th></th>\n      <th>filename</th>\n      <th>unprocessed_code</th>\n      <th>project</th>\n    </tr>\n  </thead>\n  <tbody>\n  </tbody>\n</table>\n</div>"
     },
     "metadata": {}
    },
    {
     "output_type": "stream",
     "name": "stdout",
     "text": [
      "org.apache.commons.collections4.bag.transformedbag.java\n"
     ]
    },
    {
     "output_type": "display_data",
     "data": {
      "text/plain": "Empty DataFrame\nColumns: [filename, unprocessed_code, project]\nIndex: []",
      "text/html": "<div>\n<style scoped>\n    .dataframe tbody tr th:only-of-type {\n        vertical-align: middle;\n    }\n\n    .dataframe tbody tr th {\n        vertical-align: top;\n    }\n\n    .dataframe thead th {\n        text-align: right;\n    }\n</style>\n<table border=\"1\" class=\"dataframe\">\n  <thead>\n    <tr style=\"text-align: right;\">\n      <th></th>\n      <th>filename</th>\n      <th>unprocessed_code</th>\n      <th>project</th>\n    </tr>\n  </thead>\n  <tbody>\n  </tbody>\n</table>\n</div>"
     },
     "metadata": {}
    },
    {
     "output_type": "stream",
     "name": "stdout",
     "text": [
      "org.apache.commons.collections4.map.passiveexpiringmap.java\n"
     ]
    },
    {
     "output_type": "display_data",
     "data": {
      "text/plain": "Empty DataFrame\nColumns: [filename, unprocessed_code, project]\nIndex: []",
      "text/html": "<div>\n<style scoped>\n    .dataframe tbody tr th:only-of-type {\n        vertical-align: middle;\n    }\n\n    .dataframe tbody tr th {\n        vertical-align: top;\n    }\n\n    .dataframe thead th {\n        text-align: right;\n    }\n</style>\n<table border=\"1\" class=\"dataframe\">\n  <thead>\n    <tr style=\"text-align: right;\">\n      <th></th>\n      <th>filename</th>\n      <th>unprocessed_code</th>\n      <th>project</th>\n    </tr>\n  </thead>\n  <tbody>\n  </tbody>\n</table>\n</div>"
     },
     "metadata": {}
    },
    {
     "output_type": "stream",
     "name": "stdout",
     "text": [
      "org.apache.commons.collections4.set.unmodifiablesortedsettest.java\n"
     ]
    },
    {
     "output_type": "display_data",
     "data": {
      "text/plain": "Empty DataFrame\nColumns: [filename, unprocessed_code, project]\nIndex: []",
      "text/html": "<div>\n<style scoped>\n    .dataframe tbody tr th:only-of-type {\n        vertical-align: middle;\n    }\n\n    .dataframe tbody tr th {\n        vertical-align: top;\n    }\n\n    .dataframe thead th {\n        text-align: right;\n    }\n</style>\n<table border=\"1\" class=\"dataframe\">\n  <thead>\n    <tr style=\"text-align: right;\">\n      <th></th>\n      <th>filename</th>\n      <th>unprocessed_code</th>\n      <th>project</th>\n    </tr>\n  </thead>\n  <tbody>\n  </tbody>\n</table>\n</div>"
     },
     "metadata": {}
    },
    {
     "output_type": "stream",
     "name": "stdout",
     "text": [
      "org.apache.commons.collections4.bidimap.abstractorderedbidimapdecorator.java\n"
     ]
    },
    {
     "output_type": "display_data",
     "data": {
      "text/plain": "Empty DataFrame\nColumns: [filename, unprocessed_code, project]\nIndex: []",
      "text/html": "<div>\n<style scoped>\n    .dataframe tbody tr th:only-of-type {\n        vertical-align: middle;\n    }\n\n    .dataframe tbody tr th {\n        vertical-align: top;\n    }\n\n    .dataframe thead th {\n        text-align: right;\n    }\n</style>\n<table border=\"1\" class=\"dataframe\">\n  <thead>\n    <tr style=\"text-align: right;\">\n      <th></th>\n      <th>filename</th>\n      <th>unprocessed_code</th>\n      <th>project</th>\n    </tr>\n  </thead>\n  <tbody>\n  </tbody>\n</table>\n</div>"
     },
     "metadata": {}
    },
    {
     "output_type": "stream",
     "name": "stdout",
     "text": [
      "org.apache.commons.collections4.collection.predicatedcollection.java\n"
     ]
    },
    {
     "output_type": "display_data",
     "data": {
      "text/plain": "Empty DataFrame\nColumns: [filename, unprocessed_code, project]\nIndex: []",
      "text/html": "<div>\n<style scoped>\n    .dataframe tbody tr th:only-of-type {\n        vertical-align: middle;\n    }\n\n    .dataframe tbody tr th {\n        vertical-align: top;\n    }\n\n    .dataframe thead th {\n        text-align: right;\n    }\n</style>\n<table border=\"1\" class=\"dataframe\">\n  <thead>\n    <tr style=\"text-align: right;\">\n      <th></th>\n      <th>filename</th>\n      <th>unprocessed_code</th>\n      <th>project</th>\n    </tr>\n  </thead>\n  <tbody>\n  </tbody>\n</table>\n</div>"
     },
     "metadata": {}
    },
    {
     "output_type": "stream",
     "name": "stdout",
     "text": [
      "org.apache.commons.collections4.queue.unmodifiablequeuetest.java\n"
     ]
    },
    {
     "output_type": "display_data",
     "data": {
      "text/plain": "Empty DataFrame\nColumns: [filename, unprocessed_code, project]\nIndex: []",
      "text/html": "<div>\n<style scoped>\n    .dataframe tbody tr th:only-of-type {\n        vertical-align: middle;\n    }\n\n    .dataframe tbody tr th {\n        vertical-align: top;\n    }\n\n    .dataframe thead th {\n        text-align: right;\n    }\n</style>\n<table border=\"1\" class=\"dataframe\">\n  <thead>\n    <tr style=\"text-align: right;\">\n      <th></th>\n      <th>filename</th>\n      <th>unprocessed_code</th>\n      <th>project</th>\n    </tr>\n  </thead>\n  <tbody>\n  </tbody>\n</table>\n</div>"
     },
     "metadata": {}
    },
    {
     "output_type": "stream",
     "name": "stdout",
     "text": [
      "org.apache.commons.collections4.map.unmodifiableorderedmaptest.java\n"
     ]
    },
    {
     "output_type": "display_data",
     "data": {
      "text/plain": "Empty DataFrame\nColumns: [filename, unprocessed_code, project]\nIndex: []",
      "text/html": "<div>\n<style scoped>\n    .dataframe tbody tr th:only-of-type {\n        vertical-align: middle;\n    }\n\n    .dataframe tbody tr th {\n        vertical-align: top;\n    }\n\n    .dataframe thead th {\n        text-align: right;\n    }\n</style>\n<table border=\"1\" class=\"dataframe\">\n  <thead>\n    <tr style=\"text-align: right;\">\n      <th></th>\n      <th>filename</th>\n      <th>unprocessed_code</th>\n      <th>project</th>\n    </tr>\n  </thead>\n  <tbody>\n  </tbody>\n</table>\n</div>"
     },
     "metadata": {}
    },
    {
     "output_type": "stream",
     "name": "stdout",
     "text": [
      "org.apache.commons.collections4.map.abstractmapdecorator.java\n"
     ]
    },
    {
     "output_type": "display_data",
     "data": {
      "text/plain": "Empty DataFrame\nColumns: [filename, unprocessed_code, project]\nIndex: []",
      "text/html": "<div>\n<style scoped>\n    .dataframe tbody tr th:only-of-type {\n        vertical-align: middle;\n    }\n\n    .dataframe tbody tr th {\n        vertical-align: top;\n    }\n\n    .dataframe thead th {\n        text-align: right;\n    }\n</style>\n<table border=\"1\" class=\"dataframe\">\n  <thead>\n    <tr style=\"text-align: right;\">\n      <th></th>\n      <th>filename</th>\n      <th>unprocessed_code</th>\n      <th>project</th>\n    </tr>\n  </thead>\n  <tbody>\n  </tbody>\n</table>\n</div>"
     },
     "metadata": {}
    },
    {
     "output_type": "stream",
     "name": "stdout",
     "text": [
      "org.apache.commons.collections4.iterators.boundediterator.java\n"
     ]
    },
    {
     "output_type": "display_data",
     "data": {
      "text/plain": "Empty DataFrame\nColumns: [filename, unprocessed_code, project]\nIndex: []",
      "text/html": "<div>\n<style scoped>\n    .dataframe tbody tr th:only-of-type {\n        vertical-align: middle;\n    }\n\n    .dataframe tbody tr th {\n        vertical-align: top;\n    }\n\n    .dataframe thead th {\n        text-align: right;\n    }\n</style>\n<table border=\"1\" class=\"dataframe\">\n  <thead>\n    <tr style=\"text-align: right;\">\n      <th></th>\n      <th>filename</th>\n      <th>unprocessed_code</th>\n      <th>project</th>\n    </tr>\n  </thead>\n  <tbody>\n  </tbody>\n</table>\n</div>"
     },
     "metadata": {}
    },
    {
     "output_type": "stream",
     "name": "stdout",
     "text": [
      "org.apache.commons.collections4.map.unmodifiablemap.java\n"
     ]
    },
    {
     "output_type": "display_data",
     "data": {
      "text/plain": "Empty DataFrame\nColumns: [filename, unprocessed_code, project]\nIndex: []",
      "text/html": "<div>\n<style scoped>\n    .dataframe tbody tr th:only-of-type {\n        vertical-align: middle;\n    }\n\n    .dataframe tbody tr th {\n        vertical-align: top;\n    }\n\n    .dataframe thead th {\n        text-align: right;\n    }\n</style>\n<table border=\"1\" class=\"dataframe\">\n  <thead>\n    <tr style=\"text-align: right;\">\n      <th></th>\n      <th>filename</th>\n      <th>unprocessed_code</th>\n      <th>project</th>\n    </tr>\n  </thead>\n  <tbody>\n  </tbody>\n</table>\n</div>"
     },
     "metadata": {}
    },
    {
     "output_type": "stream",
     "name": "stdout",
     "text": [
      "org.apache.commons.collections4.map.unmodifiableentryset.java\n"
     ]
    },
    {
     "output_type": "display_data",
     "data": {
      "text/plain": "Empty DataFrame\nColumns: [filename, unprocessed_code, project]\nIndex: []",
      "text/html": "<div>\n<style scoped>\n    .dataframe tbody tr th:only-of-type {\n        vertical-align: middle;\n    }\n\n    .dataframe tbody tr th {\n        vertical-align: top;\n    }\n\n    .dataframe thead th {\n        text-align: right;\n    }\n</style>\n<table border=\"1\" class=\"dataframe\">\n  <thead>\n    <tr style=\"text-align: right;\">\n      <th></th>\n      <th>filename</th>\n      <th>unprocessed_code</th>\n      <th>project</th>\n    </tr>\n  </thead>\n  <tbody>\n  </tbody>\n</table>\n</div>"
     },
     "metadata": {}
    },
    {
     "output_type": "stream",
     "name": "stdout",
     "text": [
      "org.apache.commons.collections4.setutils.java\n"
     ]
    },
    {
     "output_type": "display_data",
     "data": {
      "text/plain": "Empty DataFrame\nColumns: [filename, unprocessed_code, project]\nIndex: []",
      "text/html": "<div>\n<style scoped>\n    .dataframe tbody tr th:only-of-type {\n        vertical-align: middle;\n    }\n\n    .dataframe tbody tr th {\n        vertical-align: top;\n    }\n\n    .dataframe thead th {\n        text-align: right;\n    }\n</style>\n<table border=\"1\" class=\"dataframe\">\n  <thead>\n    <tr style=\"text-align: right;\">\n      <th></th>\n      <th>filename</th>\n      <th>unprocessed_code</th>\n      <th>project</th>\n    </tr>\n  </thead>\n  <tbody>\n  </tbody>\n</table>\n</div>"
     },
     "metadata": {}
    },
    {
     "output_type": "stream",
     "name": "stdout",
     "text": [
      "org.apache.commons.collections4.queue.transformedqueue.java\n"
     ]
    },
    {
     "output_type": "display_data",
     "data": {
      "text/plain": "Empty DataFrame\nColumns: [filename, unprocessed_code, project]\nIndex: []",
      "text/html": "<div>\n<style scoped>\n    .dataframe tbody tr th:only-of-type {\n        vertical-align: middle;\n    }\n\n    .dataframe tbody tr th {\n        vertical-align: top;\n    }\n\n    .dataframe thead th {\n        text-align: right;\n    }\n</style>\n<table border=\"1\" class=\"dataframe\">\n  <thead>\n    <tr style=\"text-align: right;\">\n      <th></th>\n      <th>filename</th>\n      <th>unprocessed_code</th>\n      <th>project</th>\n    </tr>\n  </thead>\n  <tbody>\n  </tbody>\n</table>\n</div>"
     },
     "metadata": {}
    },
    {
     "output_type": "stream",
     "name": "stdout",
     "text": [
      "org.apache.commons.collections4.map.listorderedmap.java\n"
     ]
    },
    {
     "output_type": "display_data",
     "data": {
      "text/plain": "Empty DataFrame\nColumns: [filename, unprocessed_code, project]\nIndex: []",
      "text/html": "<div>\n<style scoped>\n    .dataframe tbody tr th:only-of-type {\n        vertical-align: middle;\n    }\n\n    .dataframe tbody tr th {\n        vertical-align: top;\n    }\n\n    .dataframe thead th {\n        text-align: right;\n    }\n</style>\n<table border=\"1\" class=\"dataframe\">\n  <thead>\n    <tr style=\"text-align: right;\">\n      <th></th>\n      <th>filename</th>\n      <th>unprocessed_code</th>\n      <th>project</th>\n    </tr>\n  </thead>\n  <tbody>\n  </tbody>\n</table>\n</div>"
     },
     "metadata": {}
    },
    {
     "output_type": "stream",
     "name": "stdout",
     "text": [
      "org.apache.commons.collections4.iterators.unmodifiablemapiterator.java\n"
     ]
    },
    {
     "output_type": "display_data",
     "data": {
      "text/plain": "Empty DataFrame\nColumns: [filename, unprocessed_code, project]\nIndex: []",
      "text/html": "<div>\n<style scoped>\n    .dataframe tbody tr th:only-of-type {\n        vertical-align: middle;\n    }\n\n    .dataframe tbody tr th {\n        vertical-align: top;\n    }\n\n    .dataframe thead th {\n        text-align: right;\n    }\n</style>\n<table border=\"1\" class=\"dataframe\">\n  <thead>\n    <tr style=\"text-align: right;\">\n      <th></th>\n      <th>filename</th>\n      <th>unprocessed_code</th>\n      <th>project</th>\n    </tr>\n  </thead>\n  <tbody>\n  </tbody>\n</table>\n</div>"
     },
     "metadata": {}
    },
    {
     "output_type": "stream",
     "name": "stdout",
     "text": [
      "org.apache.commons.collections4.map.lazysortedmap.java\n"
     ]
    },
    {
     "output_type": "display_data",
     "data": {
      "text/plain": "Empty DataFrame\nColumns: [filename, unprocessed_code, project]\nIndex: []",
      "text/html": "<div>\n<style scoped>\n    .dataframe tbody tr th:only-of-type {\n        vertical-align: middle;\n    }\n\n    .dataframe tbody tr th {\n        vertical-align: top;\n    }\n\n    .dataframe thead th {\n        text-align: right;\n    }\n</style>\n<table border=\"1\" class=\"dataframe\">\n  <thead>\n    <tr style=\"text-align: right;\">\n      <th></th>\n      <th>filename</th>\n      <th>unprocessed_code</th>\n      <th>project</th>\n    </tr>\n  </thead>\n  <tbody>\n  </tbody>\n</table>\n</div>"
     },
     "metadata": {}
    },
    {
     "output_type": "stream",
     "name": "stdout",
     "text": [
      "org.apache.commons.collections4.bag.unmodifiablesortedbagtest.java\n"
     ]
    },
    {
     "output_type": "display_data",
     "data": {
      "text/plain": "Empty DataFrame\nColumns: [filename, unprocessed_code, project]\nIndex: []",
      "text/html": "<div>\n<style scoped>\n    .dataframe tbody tr th:only-of-type {\n        vertical-align: middle;\n    }\n\n    .dataframe tbody tr th {\n        vertical-align: top;\n    }\n\n    .dataframe thead th {\n        text-align: right;\n    }\n</style>\n<table border=\"1\" class=\"dataframe\">\n  <thead>\n    <tr style=\"text-align: right;\">\n      <th></th>\n      <th>filename</th>\n      <th>unprocessed_code</th>\n      <th>project</th>\n    </tr>\n  </thead>\n  <tbody>\n  </tbody>\n</table>\n</div>"
     },
     "metadata": {}
    },
    {
     "output_type": "stream",
     "name": "stdout",
     "text": [
      "org.apache.commons.collections4.bidimap.abstractbidimapdecorator.java\n"
     ]
    },
    {
     "output_type": "display_data",
     "data": {
      "text/plain": "Empty DataFrame\nColumns: [filename, unprocessed_code, project]\nIndex: []",
      "text/html": "<div>\n<style scoped>\n    .dataframe tbody tr th:only-of-type {\n        vertical-align: middle;\n    }\n\n    .dataframe tbody tr th {\n        vertical-align: top;\n    }\n\n    .dataframe thead th {\n        text-align: right;\n    }\n</style>\n<table border=\"1\" class=\"dataframe\">\n  <thead>\n    <tr style=\"text-align: right;\">\n      <th></th>\n      <th>filename</th>\n      <th>unprocessed_code</th>\n      <th>project</th>\n    </tr>\n  </thead>\n  <tbody>\n  </tbody>\n</table>\n</div>"
     },
     "metadata": {}
    },
    {
     "output_type": "stream",
     "name": "stdout",
     "text": [
      "org.apache.commons.collections4.listutils.java\n"
     ]
    },
    {
     "output_type": "display_data",
     "data": {
      "text/plain": "Empty DataFrame\nColumns: [filename, unprocessed_code, project]\nIndex: []",
      "text/html": "<div>\n<style scoped>\n    .dataframe tbody tr th:only-of-type {\n        vertical-align: middle;\n    }\n\n    .dataframe tbody tr th {\n        vertical-align: top;\n    }\n\n    .dataframe thead th {\n        text-align: right;\n    }\n</style>\n<table border=\"1\" class=\"dataframe\">\n  <thead>\n    <tr style=\"text-align: right;\">\n      <th></th>\n      <th>filename</th>\n      <th>unprocessed_code</th>\n      <th>project</th>\n    </tr>\n  </thead>\n  <tbody>\n  </tbody>\n</table>\n</div>"
     },
     "metadata": {}
    },
    {
     "output_type": "stream",
     "name": "stdout",
     "text": [
      "org.apache.commons.collections4.functors.onepredicate.java\n"
     ]
    },
    {
     "output_type": "display_data",
     "data": {
      "text/plain": "Empty DataFrame\nColumns: [filename, unprocessed_code, project]\nIndex: []",
      "text/html": "<div>\n<style scoped>\n    .dataframe tbody tr th:only-of-type {\n        vertical-align: middle;\n    }\n\n    .dataframe tbody tr th {\n        vertical-align: top;\n    }\n\n    .dataframe thead th {\n        text-align: right;\n    }\n</style>\n<table border=\"1\" class=\"dataframe\">\n  <thead>\n    <tr style=\"text-align: right;\">\n      <th></th>\n      <th>filename</th>\n      <th>unprocessed_code</th>\n      <th>project</th>\n    </tr>\n  </thead>\n  <tbody>\n  </tbody>\n</table>\n</div>"
     },
     "metadata": {}
    },
    {
     "output_type": "stream",
     "name": "stdout",
     "text": [
      "org.apache.commons.collections4.iterators.abstractlistiteratordecorator.java\n"
     ]
    },
    {
     "output_type": "display_data",
     "data": {
      "text/plain": "Empty DataFrame\nColumns: [filename, unprocessed_code, project]\nIndex: []",
      "text/html": "<div>\n<style scoped>\n    .dataframe tbody tr th:only-of-type {\n        vertical-align: middle;\n    }\n\n    .dataframe tbody tr th {\n        vertical-align: top;\n    }\n\n    .dataframe thead th {\n        text-align: right;\n    }\n</style>\n<table border=\"1\" class=\"dataframe\">\n  <thead>\n    <tr style=\"text-align: right;\">\n      <th></th>\n      <th>filename</th>\n      <th>unprocessed_code</th>\n      <th>project</th>\n    </tr>\n  </thead>\n  <tbody>\n  </tbody>\n</table>\n</div>"
     },
     "metadata": {}
    },
    {
     "output_type": "stream",
     "name": "stdout",
     "text": [
      "org.apache.commons.collections4.iterators.unmodifiableorderedmapiteratortest.java\n"
     ]
    },
    {
     "output_type": "display_data",
     "data": {
      "text/plain": "Empty DataFrame\nColumns: [filename, unprocessed_code, project]\nIndex: []",
      "text/html": "<div>\n<style scoped>\n    .dataframe tbody tr th:only-of-type {\n        vertical-align: middle;\n    }\n\n    .dataframe tbody tr th {\n        vertical-align: top;\n    }\n\n    .dataframe thead th {\n        text-align: right;\n    }\n</style>\n<table border=\"1\" class=\"dataframe\">\n  <thead>\n    <tr style=\"text-align: right;\">\n      <th></th>\n      <th>filename</th>\n      <th>unprocessed_code</th>\n      <th>project</th>\n    </tr>\n  </thead>\n  <tbody>\n  </tbody>\n</table>\n</div>"
     },
     "metadata": {}
    },
    {
     "output_type": "stream",
     "name": "stdout",
     "text": [
      "org.apache.commons.collections4.predicateutils.java\n"
     ]
    },
    {
     "output_type": "display_data",
     "data": {
      "text/plain": "Empty DataFrame\nColumns: [filename, unprocessed_code, project]\nIndex: []",
      "text/html": "<div>\n<style scoped>\n    .dataframe tbody tr th:only-of-type {\n        vertical-align: middle;\n    }\n\n    .dataframe tbody tr th {\n        vertical-align: top;\n    }\n\n    .dataframe thead th {\n        text-align: right;\n    }\n</style>\n<table border=\"1\" class=\"dataframe\">\n  <thead>\n    <tr style=\"text-align: right;\">\n      <th></th>\n      <th>filename</th>\n      <th>unprocessed_code</th>\n      <th>project</th>\n    </tr>\n  </thead>\n  <tbody>\n  </tbody>\n</table>\n</div>"
     },
     "metadata": {}
    },
    {
     "output_type": "stream",
     "name": "stdout",
     "text": [
      "org.apache.commons.collections4.queueutils.java\n"
     ]
    },
    {
     "output_type": "display_data",
     "data": {
      "text/plain": "Empty DataFrame\nColumns: [filename, unprocessed_code, project]\nIndex: []",
      "text/html": "<div>\n<style scoped>\n    .dataframe tbody tr th:only-of-type {\n        vertical-align: middle;\n    }\n\n    .dataframe tbody tr th {\n        vertical-align: top;\n    }\n\n    .dataframe thead th {\n        text-align: right;\n    }\n</style>\n<table border=\"1\" class=\"dataframe\">\n  <thead>\n    <tr style=\"text-align: right;\">\n      <th></th>\n      <th>filename</th>\n      <th>unprocessed_code</th>\n      <th>project</th>\n    </tr>\n  </thead>\n  <tbody>\n  </tbody>\n</table>\n</div>"
     },
     "metadata": {}
    },
    {
     "output_type": "stream",
     "name": "stdout",
     "text": [
      "org.apache.commons.collections4.map.transformedmap.java\n"
     ]
    },
    {
     "output_type": "display_data",
     "data": {
      "text/plain": "Empty DataFrame\nColumns: [filename, unprocessed_code, project]\nIndex: []",
      "text/html": "<div>\n<style scoped>\n    .dataframe tbody tr th:only-of-type {\n        vertical-align: middle;\n    }\n\n    .dataframe tbody tr th {\n        vertical-align: top;\n    }\n\n    .dataframe thead th {\n        text-align: right;\n    }\n</style>\n<table border=\"1\" class=\"dataframe\">\n  <thead>\n    <tr style=\"text-align: right;\">\n      <th></th>\n      <th>filename</th>\n      <th>unprocessed_code</th>\n      <th>project</th>\n    </tr>\n  </thead>\n  <tbody>\n  </tbody>\n</table>\n</div>"
     },
     "metadata": {}
    },
    {
     "output_type": "stream",
     "name": "stdout",
     "text": [
      "org.apache.commons.collections4.map.abstractsortedmapdecorator.java\n"
     ]
    },
    {
     "output_type": "display_data",
     "data": {
      "text/plain": "Empty DataFrame\nColumns: [filename, unprocessed_code, project]\nIndex: []",
      "text/html": "<div>\n<style scoped>\n    .dataframe tbody tr th:only-of-type {\n        vertical-align: middle;\n    }\n\n    .dataframe tbody tr th {\n        vertical-align: top;\n    }\n\n    .dataframe thead th {\n        text-align: right;\n    }\n</style>\n<table border=\"1\" class=\"dataframe\">\n  <thead>\n    <tr style=\"text-align: right;\">\n      <th></th>\n      <th>filename</th>\n      <th>unprocessed_code</th>\n      <th>project</th>\n    </tr>\n  </thead>\n  <tbody>\n  </tbody>\n</table>\n</div>"
     },
     "metadata": {}
    },
    {
     "output_type": "stream",
     "name": "stdout",
     "text": [
      "org.apache.commons.collections4.map.abstractinputcheckedmapdecorator.java\n"
     ]
    },
    {
     "output_type": "display_data",
     "data": {
      "text/plain": "Empty DataFrame\nColumns: [filename, unprocessed_code, project]\nIndex: []",
      "text/html": "<div>\n<style scoped>\n    .dataframe tbody tr th:only-of-type {\n        vertical-align: middle;\n    }\n\n    .dataframe tbody tr th {\n        vertical-align: top;\n    }\n\n    .dataframe thead th {\n        text-align: right;\n    }\n</style>\n<table border=\"1\" class=\"dataframe\">\n  <thead>\n    <tr style=\"text-align: right;\">\n      <th></th>\n      <th>filename</th>\n      <th>unprocessed_code</th>\n      <th>project</th>\n    </tr>\n  </thead>\n  <tbody>\n  </tbody>\n</table>\n</div>"
     },
     "metadata": {}
    },
    {
     "output_type": "stream",
     "name": "stdout",
     "text": [
      "org.apache.commons.collections4.list.unmodifiablelisttest.java\n"
     ]
    },
    {
     "output_type": "display_data",
     "data": {
      "text/plain": "Empty DataFrame\nColumns: [filename, unprocessed_code, project]\nIndex: []",
      "text/html": "<div>\n<style scoped>\n    .dataframe tbody tr th:only-of-type {\n        vertical-align: middle;\n    }\n\n    .dataframe tbody tr th {\n        vertical-align: top;\n    }\n\n    .dataframe thead th {\n        text-align: right;\n    }\n</style>\n<table border=\"1\" class=\"dataframe\">\n  <thead>\n    <tr style=\"text-align: right;\">\n      <th></th>\n      <th>filename</th>\n      <th>unprocessed_code</th>\n      <th>project</th>\n    </tr>\n  </thead>\n  <tbody>\n  </tbody>\n</table>\n</div>"
     },
     "metadata": {}
    },
    {
     "output_type": "stream",
     "name": "stdout",
     "text": [
      "org.apache.commons.collections4.list.abstractserializablelistdecorator.java\n"
     ]
    },
    {
     "output_type": "display_data",
     "data": {
      "text/plain": "Empty DataFrame\nColumns: [filename, unprocessed_code, project]\nIndex: []",
      "text/html": "<div>\n<style scoped>\n    .dataframe tbody tr th:only-of-type {\n        vertical-align: middle;\n    }\n\n    .dataframe tbody tr th {\n        vertical-align: top;\n    }\n\n    .dataframe thead th {\n        text-align: right;\n    }\n</style>\n<table border=\"1\" class=\"dataframe\">\n  <thead>\n    <tr style=\"text-align: right;\">\n      <th></th>\n      <th>filename</th>\n      <th>unprocessed_code</th>\n      <th>project</th>\n    </tr>\n  </thead>\n  <tbody>\n  </tbody>\n</table>\n</div>"
     },
     "metadata": {}
    },
    {
     "output_type": "stream",
     "name": "stdout",
     "text": [
      "org.apache.commons.collections4.map.transformedsortedmap.java\n"
     ]
    },
    {
     "output_type": "display_data",
     "data": {
      "text/plain": "Empty DataFrame\nColumns: [filename, unprocessed_code, project]\nIndex: []",
      "text/html": "<div>\n<style scoped>\n    .dataframe tbody tr th:only-of-type {\n        vertical-align: middle;\n    }\n\n    .dataframe tbody tr th {\n        vertical-align: top;\n    }\n\n    .dataframe thead th {\n        text-align: right;\n    }\n</style>\n<table border=\"1\" class=\"dataframe\">\n  <thead>\n    <tr style=\"text-align: right;\">\n      <th></th>\n      <th>filename</th>\n      <th>unprocessed_code</th>\n      <th>project</th>\n    </tr>\n  </thead>\n  <tbody>\n  </tbody>\n</table>\n</div>"
     },
     "metadata": {}
    },
    {
     "output_type": "stream",
     "name": "stdout",
     "text": [
      "org.apache.commons.collections4.functors.ifclosure.java\n"
     ]
    },
    {
     "output_type": "display_data",
     "data": {
      "text/plain": "Empty DataFrame\nColumns: [filename, unprocessed_code, project]\nIndex: []",
      "text/html": "<div>\n<style scoped>\n    .dataframe tbody tr th:only-of-type {\n        vertical-align: middle;\n    }\n\n    .dataframe tbody tr th {\n        vertical-align: top;\n    }\n\n    .dataframe thead th {\n        text-align: right;\n    }\n</style>\n<table border=\"1\" class=\"dataframe\">\n  <thead>\n    <tr style=\"text-align: right;\">\n      <th></th>\n      <th>filename</th>\n      <th>unprocessed_code</th>\n      <th>project</th>\n    </tr>\n  </thead>\n  <tbody>\n  </tbody>\n</table>\n</div>"
     },
     "metadata": {}
    },
    {
     "output_type": "stream",
     "name": "stdout",
     "text": [
      "org.apache.commons.collections4.functors.nullistruepredicate.java\n"
     ]
    },
    {
     "output_type": "display_data",
     "data": {
      "text/plain": "Empty DataFrame\nColumns: [filename, unprocessed_code, project]\nIndex: []",
      "text/html": "<div>\n<style scoped>\n    .dataframe tbody tr th:only-of-type {\n        vertical-align: middle;\n    }\n\n    .dataframe tbody tr th {\n        vertical-align: top;\n    }\n\n    .dataframe thead th {\n        text-align: right;\n    }\n</style>\n<table border=\"1\" class=\"dataframe\">\n  <thead>\n    <tr style=\"text-align: right;\">\n      <th></th>\n      <th>filename</th>\n      <th>unprocessed_code</th>\n      <th>project</th>\n    </tr>\n  </thead>\n  <tbody>\n  </tbody>\n</table>\n</div>"
     },
     "metadata": {}
    },
    {
     "output_type": "stream",
     "name": "stdout",
     "text": [
      "org.apache.commons.collections4.set.predicatednavigableset.java\n"
     ]
    },
    {
     "output_type": "display_data",
     "data": {
      "text/plain": "Empty DataFrame\nColumns: [filename, unprocessed_code, project]\nIndex: []",
      "text/html": "<div>\n<style scoped>\n    .dataframe tbody tr th:only-of-type {\n        vertical-align: middle;\n    }\n\n    .dataframe tbody tr th {\n        vertical-align: top;\n    }\n\n    .dataframe thead th {\n        text-align: right;\n    }\n</style>\n<table border=\"1\" class=\"dataframe\">\n  <thead>\n    <tr style=\"text-align: right;\">\n      <th></th>\n      <th>filename</th>\n      <th>unprocessed_code</th>\n      <th>project</th>\n    </tr>\n  </thead>\n  <tbody>\n  </tbody>\n</table>\n</div>"
     },
     "metadata": {}
    },
    {
     "output_type": "stream",
     "name": "stdout",
     "text": [
      "org.apache.commons.collections4.iteratorutils.java\n"
     ]
    },
    {
     "output_type": "display_data",
     "data": {
      "text/plain": "Empty DataFrame\nColumns: [filename, unprocessed_code, project]\nIndex: []",
      "text/html": "<div>\n<style scoped>\n    .dataframe tbody tr th:only-of-type {\n        vertical-align: middle;\n    }\n\n    .dataframe tbody tr th {\n        vertical-align: top;\n    }\n\n    .dataframe thead th {\n        text-align: right;\n    }\n</style>\n<table border=\"1\" class=\"dataframe\">\n  <thead>\n    <tr style=\"text-align: right;\">\n      <th></th>\n      <th>filename</th>\n      <th>unprocessed_code</th>\n      <th>project</th>\n    </tr>\n  </thead>\n  <tbody>\n  </tbody>\n</table>\n</div>"
     },
     "metadata": {}
    },
    {
     "output_type": "stream",
     "name": "stdout",
     "text": [
      "org.apache.commons.collections4.iterators.unmodifiableiteratortest.java\n"
     ]
    },
    {
     "output_type": "display_data",
     "data": {
      "text/plain": "Empty DataFrame\nColumns: [filename, unprocessed_code, project]\nIndex: []",
      "text/html": "<div>\n<style scoped>\n    .dataframe tbody tr th:only-of-type {\n        vertical-align: middle;\n    }\n\n    .dataframe tbody tr th {\n        vertical-align: top;\n    }\n\n    .dataframe thead th {\n        text-align: right;\n    }\n</style>\n<table border=\"1\" class=\"dataframe\">\n  <thead>\n    <tr style=\"text-align: right;\">\n      <th></th>\n      <th>filename</th>\n      <th>unprocessed_code</th>\n      <th>project</th>\n    </tr>\n  </thead>\n  <tbody>\n  </tbody>\n</table>\n</div>"
     },
     "metadata": {}
    },
    {
     "output_type": "stream",
     "name": "stdout",
     "text": [
      "org.apache.commons.collections4.functors.orpredicate.java\n"
     ]
    },
    {
     "output_type": "display_data",
     "data": {
      "text/plain": "Empty DataFrame\nColumns: [filename, unprocessed_code, project]\nIndex: []",
      "text/html": "<div>\n<style scoped>\n    .dataframe tbody tr th:only-of-type {\n        vertical-align: middle;\n    }\n\n    .dataframe tbody tr th {\n        vertical-align: top;\n    }\n\n    .dataframe thead th {\n        text-align: right;\n    }\n</style>\n<table border=\"1\" class=\"dataframe\">\n  <thead>\n    <tr style=\"text-align: right;\">\n      <th></th>\n      <th>filename</th>\n      <th>unprocessed_code</th>\n      <th>project</th>\n    </tr>\n  </thead>\n  <tbody>\n  </tbody>\n</table>\n</div>"
     },
     "metadata": {}
    },
    {
     "output_type": "stream",
     "name": "stdout",
     "text": [
      "org.apache.commons.collections4.trie.unmodifiabletrietest.java\n"
     ]
    },
    {
     "output_type": "display_data",
     "data": {
      "text/plain": "Empty DataFrame\nColumns: [filename, unprocessed_code, project]\nIndex: []",
      "text/html": "<div>\n<style scoped>\n    .dataframe tbody tr th:only-of-type {\n        vertical-align: middle;\n    }\n\n    .dataframe tbody tr th {\n        vertical-align: top;\n    }\n\n    .dataframe thead th {\n        text-align: right;\n    }\n</style>\n<table border=\"1\" class=\"dataframe\">\n  <thead>\n    <tr style=\"text-align: right;\">\n      <th></th>\n      <th>filename</th>\n      <th>unprocessed_code</th>\n      <th>project</th>\n    </tr>\n  </thead>\n  <tbody>\n  </tbody>\n</table>\n</div>"
     },
     "metadata": {}
    },
    {
     "output_type": "stream",
     "name": "stdout",
     "text": [
      "org.apache.commons.collections4.iterators.peekingiterator.java\n"
     ]
    },
    {
     "output_type": "display_data",
     "data": {
      "text/plain": "Empty DataFrame\nColumns: [filename, unprocessed_code, project]\nIndex: []",
      "text/html": "<div>\n<style scoped>\n    .dataframe tbody tr th:only-of-type {\n        vertical-align: middle;\n    }\n\n    .dataframe tbody tr th {\n        vertical-align: top;\n    }\n\n    .dataframe thead th {\n        text-align: right;\n    }\n</style>\n<table border=\"1\" class=\"dataframe\">\n  <thead>\n    <tr style=\"text-align: right;\">\n      <th></th>\n      <th>filename</th>\n      <th>unprocessed_code</th>\n      <th>project</th>\n    </tr>\n  </thead>\n  <tbody>\n  </tbody>\n</table>\n</div>"
     },
     "metadata": {}
    },
    {
     "output_type": "stream",
     "name": "stdout",
     "text": [
      "org.apache.commons.collections4.iterators.unmodifiablemapiteratortest.java\n"
     ]
    },
    {
     "output_type": "display_data",
     "data": {
      "text/plain": "Empty DataFrame\nColumns: [filename, unprocessed_code, project]\nIndex: []",
      "text/html": "<div>\n<style scoped>\n    .dataframe tbody tr th:only-of-type {\n        vertical-align: middle;\n    }\n\n    .dataframe tbody tr th {\n        vertical-align: top;\n    }\n\n    .dataframe thead th {\n        text-align: right;\n    }\n</style>\n<table border=\"1\" class=\"dataframe\">\n  <thead>\n    <tr style=\"text-align: right;\">\n      <th></th>\n      <th>filename</th>\n      <th>unprocessed_code</th>\n      <th>project</th>\n    </tr>\n  </thead>\n  <tbody>\n  </tbody>\n</table>\n</div>"
     },
     "metadata": {}
    },
    {
     "output_type": "stream",
     "name": "stdout",
     "text": [
      "org.apache.commons.collections4.functors.whileclosure.java\n"
     ]
    },
    {
     "output_type": "display_data",
     "data": {
      "text/plain": "Empty DataFrame\nColumns: [filename, unprocessed_code, project]\nIndex: []",
      "text/html": "<div>\n<style scoped>\n    .dataframe tbody tr th:only-of-type {\n        vertical-align: middle;\n    }\n\n    .dataframe tbody tr th {\n        vertical-align: top;\n    }\n\n    .dataframe thead th {\n        text-align: right;\n    }\n</style>\n<table border=\"1\" class=\"dataframe\">\n  <thead>\n    <tr style=\"text-align: right;\">\n      <th></th>\n      <th>filename</th>\n      <th>unprocessed_code</th>\n      <th>project</th>\n    </tr>\n  </thead>\n  <tbody>\n  </tbody>\n</table>\n</div>"
     },
     "metadata": {}
    },
    {
     "output_type": "stream",
     "name": "stdout",
     "text": [
      "org.apache.commons.collections4.functors.identitypredicate.java\n"
     ]
    },
    {
     "output_type": "display_data",
     "data": {
      "text/plain": "Empty DataFrame\nColumns: [filename, unprocessed_code, project]\nIndex: []",
      "text/html": "<div>\n<style scoped>\n    .dataframe tbody tr th:only-of-type {\n        vertical-align: middle;\n    }\n\n    .dataframe tbody tr th {\n        vertical-align: top;\n    }\n\n    .dataframe thead th {\n        text-align: right;\n    }\n</style>\n<table border=\"1\" class=\"dataframe\">\n  <thead>\n    <tr style=\"text-align: right;\">\n      <th></th>\n      <th>filename</th>\n      <th>unprocessed_code</th>\n      <th>project</th>\n    </tr>\n  </thead>\n  <tbody>\n  </tbody>\n</table>\n</div>"
     },
     "metadata": {}
    },
    {
     "output_type": "stream",
     "name": "stdout",
     "text": [
      "org.apache.commons.collections4.functors.iftransformer.java\n"
     ]
    },
    {
     "output_type": "display_data",
     "data": {
      "text/plain": "Empty DataFrame\nColumns: [filename, unprocessed_code, project]\nIndex: []",
      "text/html": "<div>\n<style scoped>\n    .dataframe tbody tr th:only-of-type {\n        vertical-align: middle;\n    }\n\n    .dataframe tbody tr th {\n        vertical-align: top;\n    }\n\n    .dataframe thead th {\n        text-align: right;\n    }\n</style>\n<table border=\"1\" class=\"dataframe\">\n  <thead>\n    <tr style=\"text-align: right;\">\n      <th></th>\n      <th>filename</th>\n      <th>unprocessed_code</th>\n      <th>project</th>\n    </tr>\n  </thead>\n  <tbody>\n  </tbody>\n</table>\n</div>"
     },
     "metadata": {}
    },
    {
     "output_type": "stream",
     "name": "stdout",
     "text": [
      "org.apache.commons.collections4.bag.synchronizedbag.java\n"
     ]
    },
    {
     "output_type": "display_data",
     "data": {
      "text/plain": "Empty DataFrame\nColumns: [filename, unprocessed_code, project]\nIndex: []",
      "text/html": "<div>\n<style scoped>\n    .dataframe tbody tr th:only-of-type {\n        vertical-align: middle;\n    }\n\n    .dataframe tbody tr th {\n        vertical-align: top;\n    }\n\n    .dataframe thead th {\n        text-align: right;\n    }\n</style>\n<table border=\"1\" class=\"dataframe\">\n  <thead>\n    <tr style=\"text-align: right;\">\n      <th></th>\n      <th>filename</th>\n      <th>unprocessed_code</th>\n      <th>project</th>\n    </tr>\n  </thead>\n  <tbody>\n  </tbody>\n</table>\n</div>"
     },
     "metadata": {}
    },
    {
     "output_type": "stream",
     "name": "stdout",
     "text": [
      "org.apache.commons.collections4.functors.instantiatetransformer.java\n"
     ]
    },
    {
     "output_type": "display_data",
     "data": {
      "text/plain": "Empty DataFrame\nColumns: [filename, unprocessed_code, project]\nIndex: []",
      "text/html": "<div>\n<style scoped>\n    .dataframe tbody tr th:only-of-type {\n        vertical-align: middle;\n    }\n\n    .dataframe tbody tr th {\n        vertical-align: top;\n    }\n\n    .dataframe thead th {\n        text-align: right;\n    }\n</style>\n<table border=\"1\" class=\"dataframe\">\n  <thead>\n    <tr style=\"text-align: right;\">\n      <th></th>\n      <th>filename</th>\n      <th>unprocessed_code</th>\n      <th>project</th>\n    </tr>\n  </thead>\n  <tbody>\n  </tbody>\n</table>\n</div>"
     },
     "metadata": {}
    },
    {
     "output_type": "stream",
     "name": "stdout",
     "text": [
      "org.apache.commons.collections4.list.abstractlistdecorator.java\n"
     ]
    },
    {
     "output_type": "display_data",
     "data": {
      "text/plain": "Empty DataFrame\nColumns: [filename, unprocessed_code, project]\nIndex: []",
      "text/html": "<div>\n<style scoped>\n    .dataframe tbody tr th:only-of-type {\n        vertical-align: middle;\n    }\n\n    .dataframe tbody tr th {\n        vertical-align: top;\n    }\n\n    .dataframe thead th {\n        text-align: right;\n    }\n</style>\n<table border=\"1\" class=\"dataframe\">\n  <thead>\n    <tr style=\"text-align: right;\">\n      <th></th>\n      <th>filename</th>\n      <th>unprocessed_code</th>\n      <th>project</th>\n    </tr>\n  </thead>\n  <tbody>\n  </tbody>\n</table>\n</div>"
     },
     "metadata": {}
    },
    {
     "output_type": "stream",
     "name": "stdout",
     "text": [
      "org.apache.commons.collections4.bag.synchronizedsortedbag.java\n"
     ]
    },
    {
     "output_type": "display_data",
     "data": {
      "text/plain": "Empty DataFrame\nColumns: [filename, unprocessed_code, project]\nIndex: []",
      "text/html": "<div>\n<style scoped>\n    .dataframe tbody tr th:only-of-type {\n        vertical-align: middle;\n    }\n\n    .dataframe tbody tr th {\n        vertical-align: top;\n    }\n\n    .dataframe thead th {\n        text-align: right;\n    }\n</style>\n<table border=\"1\" class=\"dataframe\">\n  <thead>\n    <tr style=\"text-align: right;\">\n      <th></th>\n      <th>filename</th>\n      <th>unprocessed_code</th>\n      <th>project</th>\n    </tr>\n  </thead>\n  <tbody>\n  </tbody>\n</table>\n</div>"
     },
     "metadata": {}
    },
    {
     "output_type": "stream",
     "name": "stdout",
     "text": [
      "org.apache.commons.collections4.map.unmodifiablemaptest.java\n"
     ]
    },
    {
     "output_type": "display_data",
     "data": {
      "text/plain": "Empty DataFrame\nColumns: [filename, unprocessed_code, project]\nIndex: []",
      "text/html": "<div>\n<style scoped>\n    .dataframe tbody tr th:only-of-type {\n        vertical-align: middle;\n    }\n\n    .dataframe tbody tr th {\n        vertical-align: top;\n    }\n\n    .dataframe thead th {\n        text-align: right;\n    }\n</style>\n<table border=\"1\" class=\"dataframe\">\n  <thead>\n    <tr style=\"text-align: right;\">\n      <th></th>\n      <th>filename</th>\n      <th>unprocessed_code</th>\n      <th>project</th>\n    </tr>\n  </thead>\n  <tbody>\n  </tbody>\n</table>\n</div>"
     },
     "metadata": {}
    },
    {
     "output_type": "stream",
     "name": "stdout",
     "text": [
      "org.apache.commons.collections4.bagutilstest.java\n"
     ]
    },
    {
     "output_type": "display_data",
     "data": {
      "text/plain": "Empty DataFrame\nColumns: [filename, unprocessed_code, project]\nIndex: []",
      "text/html": "<div>\n<style scoped>\n    .dataframe tbody tr th:only-of-type {\n        vertical-align: middle;\n    }\n\n    .dataframe tbody tr th {\n        vertical-align: top;\n    }\n\n    .dataframe thead th {\n        text-align: right;\n    }\n</style>\n<table border=\"1\" class=\"dataframe\">\n  <thead>\n    <tr style=\"text-align: right;\">\n      <th></th>\n      <th>filename</th>\n      <th>unprocessed_code</th>\n      <th>project</th>\n    </tr>\n  </thead>\n  <tbody>\n  </tbody>\n</table>\n</div>"
     },
     "metadata": {}
    },
    {
     "output_type": "stream",
     "name": "stdout",
     "text": [
      "org.apache.commons.collections4.bidimap.unmodifiablesortedbidimap.java\n"
     ]
    },
    {
     "output_type": "display_data",
     "data": {
      "text/plain": "Empty DataFrame\nColumns: [filename, unprocessed_code, project]\nIndex: []",
      "text/html": "<div>\n<style scoped>\n    .dataframe tbody tr th:only-of-type {\n        vertical-align: middle;\n    }\n\n    .dataframe tbody tr th {\n        vertical-align: top;\n    }\n\n    .dataframe thead th {\n        text-align: right;\n    }\n</style>\n<table border=\"1\" class=\"dataframe\">\n  <thead>\n    <tr style=\"text-align: right;\">\n      <th></th>\n      <th>filename</th>\n      <th>unprocessed_code</th>\n      <th>project</th>\n    </tr>\n  </thead>\n  <tbody>\n  </tbody>\n</table>\n</div>"
     },
     "metadata": {}
    },
    {
     "output_type": "stream",
     "name": "stdout",
     "text": [
      "org.apache.commons.collections4.functors.comparatorpredicate.java\n"
     ]
    },
    {
     "output_type": "display_data",
     "data": {
      "text/plain": "Empty DataFrame\nColumns: [filename, unprocessed_code, project]\nIndex: []",
      "text/html": "<div>\n<style scoped>\n    .dataframe tbody tr th:only-of-type {\n        vertical-align: middle;\n    }\n\n    .dataframe tbody tr th {\n        vertical-align: top;\n    }\n\n    .dataframe thead th {\n        text-align: right;\n    }\n</style>\n<table border=\"1\" class=\"dataframe\">\n  <thead>\n    <tr style=\"text-align: right;\">\n      <th></th>\n      <th>filename</th>\n      <th>unprocessed_code</th>\n      <th>project</th>\n    </tr>\n  </thead>\n  <tbody>\n  </tbody>\n</table>\n</div>"
     },
     "metadata": {}
    },
    {
     "output_type": "stream",
     "name": "stdout",
     "text": [
      "org.apache.commons.collections4.set.unmodifiablenavigableset.java\n"
     ]
    },
    {
     "output_type": "display_data",
     "data": {
      "text/plain": "Empty DataFrame\nColumns: [filename, unprocessed_code, project]\nIndex: []",
      "text/html": "<div>\n<style scoped>\n    .dataframe tbody tr th:only-of-type {\n        vertical-align: middle;\n    }\n\n    .dataframe tbody tr th {\n        vertical-align: top;\n    }\n\n    .dataframe thead th {\n        text-align: right;\n    }\n</style>\n<table border=\"1\" class=\"dataframe\">\n  <thead>\n    <tr style=\"text-align: right;\">\n      <th></th>\n      <th>filename</th>\n      <th>unprocessed_code</th>\n      <th>project</th>\n    </tr>\n  </thead>\n  <tbody>\n  </tbody>\n</table>\n</div>"
     },
     "metadata": {}
    },
    {
     "output_type": "stream",
     "name": "stdout",
     "text": [
      "org.apache.commons.collections4.functors.factorytransformer.java\n"
     ]
    },
    {
     "output_type": "display_data",
     "data": {
      "text/plain": "Empty DataFrame\nColumns: [filename, unprocessed_code, project]\nIndex: []",
      "text/html": "<div>\n<style scoped>\n    .dataframe tbody tr th:only-of-type {\n        vertical-align: middle;\n    }\n\n    .dataframe tbody tr th {\n        vertical-align: top;\n    }\n\n    .dataframe thead th {\n        text-align: right;\n    }\n</style>\n<table border=\"1\" class=\"dataframe\">\n  <thead>\n    <tr style=\"text-align: right;\">\n      <th></th>\n      <th>filename</th>\n      <th>unprocessed_code</th>\n      <th>project</th>\n    </tr>\n  </thead>\n  <tbody>\n  </tbody>\n</table>\n</div>"
     },
     "metadata": {}
    },
    {
     "output_type": "stream",
     "name": "stdout",
     "text": [
      "org.apache.commons.collections4.bag.unmodifiablebag.java\n"
     ]
    },
    {
     "output_type": "display_data",
     "data": {
      "text/plain": "Empty DataFrame\nColumns: [filename, unprocessed_code, project]\nIndex: []",
      "text/html": "<div>\n<style scoped>\n    .dataframe tbody tr th:only-of-type {\n        vertical-align: middle;\n    }\n\n    .dataframe tbody tr th {\n        vertical-align: top;\n    }\n\n    .dataframe thead th {\n        text-align: right;\n    }\n</style>\n<table border=\"1\" class=\"dataframe\">\n  <thead>\n    <tr style=\"text-align: right;\">\n      <th></th>\n      <th>filename</th>\n      <th>unprocessed_code</th>\n      <th>project</th>\n    </tr>\n  </thead>\n  <tbody>\n  </tbody>\n</table>\n</div>"
     },
     "metadata": {}
    },
    {
     "output_type": "stream",
     "name": "stdout",
     "text": [
      "[-1, -1, -1, -1, -1, -1, -1, -1, -1, -1, -1, -1, -1, -1, -1, -1, -1, -1, -1, -1, -1, -1, -1, -1, -1, -1, -1, -1, -1, -1, -1, -1, -1, -1, -1, -1, -1, -1, -1, -1, -1, -1, -1, -1, -1, -1, -1, -1, -1, -1, -1, -1, -1, -1, -1, -1, -1, -1, -1, -1, -1, -1, -1, -1, -1, -1, -1, -1, -1, -1, -1, -1, -1, -1, -1, -1, -1, -1, -1, -1, -1, -1, -1, -1, -1, -1, -1, -1, -1, -1, -1, -1, -1, -1, -1, -1, -1, -1, -1, -1, -1, -1, -1, -1, -1, -1, -1, -1, -1, -1, -1, -1, -1, -1, -1, -1, -1, -1, -1, -1, -1, -1, -1, -1, -1, -1, -1, -1, -1, -1, -1, -1, -1, -1, -1, -1, -1, -1, -1, -1, -1, -1, -1, -1, -1, -1, -1, -1, -1, -1, -1, -1, -1, -1, -1, -1, -1, -1, -1, -1, -1, -1, -1, -1, -1, -1, -1, -1, -1, -1, -1, -1, -1]\n['org.apache.commons.collections4.keyvalue.multikeytest.java'\n 'org.apache.commons.collections4.keyvalue.multikey.java']\norg.apache.commons.collections4.keyvalue.multikeytest.java\n"
     ]
    },
    {
     "output_type": "display_data",
     "data": {
      "text/plain": "Empty DataFrame\nColumns: [filename, unprocessed_code, project]\nIndex: []",
      "text/html": "<div>\n<style scoped>\n    .dataframe tbody tr th:only-of-type {\n        vertical-align: middle;\n    }\n\n    .dataframe tbody tr th {\n        vertical-align: top;\n    }\n\n    .dataframe thead th {\n        text-align: right;\n    }\n</style>\n<table border=\"1\" class=\"dataframe\">\n  <thead>\n    <tr style=\"text-align: right;\">\n      <th></th>\n      <th>filename</th>\n      <th>unprocessed_code</th>\n      <th>project</th>\n    </tr>\n  </thead>\n  <tbody>\n  </tbody>\n</table>\n</div>"
     },
     "metadata": {}
    },
    {
     "output_type": "stream",
     "name": "stdout",
     "text": [
      "org.apache.commons.collections4.keyvalue.multikey.java\n"
     ]
    },
    {
     "output_type": "display_data",
     "data": {
      "text/plain": "Empty DataFrame\nColumns: [filename, unprocessed_code, project]\nIndex: []",
      "text/html": "<div>\n<style scoped>\n    .dataframe tbody tr th:only-of-type {\n        vertical-align: middle;\n    }\n\n    .dataframe tbody tr th {\n        vertical-align: top;\n    }\n\n    .dataframe thead th {\n        text-align: right;\n    }\n</style>\n<table border=\"1\" class=\"dataframe\">\n  <thead>\n    <tr style=\"text-align: right;\">\n      <th></th>\n      <th>filename</th>\n      <th>unprocessed_code</th>\n      <th>project</th>\n    </tr>\n  </thead>\n  <tbody>\n  </tbody>\n</table>\n</div>"
     },
     "metadata": {}
    },
    {
     "output_type": "stream",
     "name": "stdout",
     "text": [
      "[-1, -1]\n['org.apache.commons.collections4.trie.patriciatrietest.java']\norg.apache.commons.collections4.trie.patriciatrietest.java\n"
     ]
    },
    {
     "output_type": "display_data",
     "data": {
      "text/plain": "Empty DataFrame\nColumns: [filename, unprocessed_code, project]\nIndex: []",
      "text/html": "<div>\n<style scoped>\n    .dataframe tbody tr th:only-of-type {\n        vertical-align: middle;\n    }\n\n    .dataframe tbody tr th {\n        vertical-align: top;\n    }\n\n    .dataframe thead th {\n        text-align: right;\n    }\n</style>\n<table border=\"1\" class=\"dataframe\">\n  <thead>\n    <tr style=\"text-align: right;\">\n      <th></th>\n      <th>filename</th>\n      <th>unprocessed_code</th>\n      <th>project</th>\n    </tr>\n  </thead>\n  <tbody>\n  </tbody>\n</table>\n</div>"
     },
     "metadata": {}
    },
    {
     "output_type": "stream",
     "name": "stdout",
     "text": [
      "[-1]\n['org.apache.commons.collections4.multimap.multivaluedhashmap.java'\n 'org.apache.commons.collections4.multimap.multivaluedhashmaptest.java'\n 'org.apache.commons.collections4.multimap.transformedmultivaluedmaptest.java'\n 'org.apache.commons.collections4.multimap.abstractmultivaluedmaptest.java'\n 'org.apache.commons.collections4.multimap.abstractmultivaluedmapdecorator.java'\n 'org.apache.commons.collections4.multimap.unmodifiablemultivaluedmaptest.java'\n 'org.apache.commons.collections4.multimap.abstractsetvaluedmap.java'\n 'org.apache.commons.collections4.multimap.abstractmultivaluedmap.java'\n 'org.apache.commons.collections4.multimaputilstest.java'\n 'org.apache.commons.collections4.multimap.transformedmultivaluedmap.java'\n 'org.apache.commons.collections4.multimap.package-info.java'\n 'org.apache.commons.collections4.multimap.abstractlistvaluedmap.java'\n 'org.apache.commons.collections4.multimaputils.java'\n 'org.apache.commons.collections4.transformerutils.java'\n 'org.apache.commons.collections4.closureutils.java'\n 'org.apache.commons.collections4.factoryutils.java'\n 'org.apache.commons.collections4.map.multivaluemaptest.java'\n 'org.apache.commons.collections4.map.multivaluemap.java'\n 'org.apache.commons.collections4.factoryutilstest.java'\n 'org.apache.commons.collections4.transformerutilstest.java'\n 'org.apache.commons.collections4.functors.instantiatefactory.java'\n 'org.apache.commons.collections4.functors.whileclosure.java'\n 'org.apache.commons.collections4.functors.clonetransformer.java'\n 'org.apache.commons.collections4.functors.forclosure.java'\n 'org.apache.commons.collections4.functors.invokertransformer.java'\n 'org.apache.commons.collections4.functors.prototypefactory.java'\n 'org.apache.commons.collections4.functors.package-info.java'\n 'org.apache.commons.collections4.functors.instantiatetransformer.java']\norg.apache.commons.collections4.multimap.multivaluedhashmap.java\n"
     ]
    },
    {
     "output_type": "display_data",
     "data": {
      "text/plain": "Empty DataFrame\nColumns: [filename, unprocessed_code, project]\nIndex: []",
      "text/html": "<div>\n<style scoped>\n    .dataframe tbody tr th:only-of-type {\n        vertical-align: middle;\n    }\n\n    .dataframe tbody tr th {\n        vertical-align: top;\n    }\n\n    .dataframe thead th {\n        text-align: right;\n    }\n</style>\n<table border=\"1\" class=\"dataframe\">\n  <thead>\n    <tr style=\"text-align: right;\">\n      <th></th>\n      <th>filename</th>\n      <th>unprocessed_code</th>\n      <th>project</th>\n    </tr>\n  </thead>\n  <tbody>\n  </tbody>\n</table>\n</div>"
     },
     "metadata": {}
    },
    {
     "output_type": "stream",
     "name": "stdout",
     "text": [
      "org.apache.commons.collections4.multimap.multivaluedhashmaptest.java\n"
     ]
    },
    {
     "output_type": "display_data",
     "data": {
      "text/plain": "Empty DataFrame\nColumns: [filename, unprocessed_code, project]\nIndex: []",
      "text/html": "<div>\n<style scoped>\n    .dataframe tbody tr th:only-of-type {\n        vertical-align: middle;\n    }\n\n    .dataframe tbody tr th {\n        vertical-align: top;\n    }\n\n    .dataframe thead th {\n        text-align: right;\n    }\n</style>\n<table border=\"1\" class=\"dataframe\">\n  <thead>\n    <tr style=\"text-align: right;\">\n      <th></th>\n      <th>filename</th>\n      <th>unprocessed_code</th>\n      <th>project</th>\n    </tr>\n  </thead>\n  <tbody>\n  </tbody>\n</table>\n</div>"
     },
     "metadata": {}
    },
    {
     "output_type": "stream",
     "name": "stdout",
     "text": [
      "org.apache.commons.collections4.multimap.transformedmultivaluedmaptest.java\n"
     ]
    },
    {
     "output_type": "display_data",
     "data": {
      "text/plain": "Empty DataFrame\nColumns: [filename, unprocessed_code, project]\nIndex: []",
      "text/html": "<div>\n<style scoped>\n    .dataframe tbody tr th:only-of-type {\n        vertical-align: middle;\n    }\n\n    .dataframe tbody tr th {\n        vertical-align: top;\n    }\n\n    .dataframe thead th {\n        text-align: right;\n    }\n</style>\n<table border=\"1\" class=\"dataframe\">\n  <thead>\n    <tr style=\"text-align: right;\">\n      <th></th>\n      <th>filename</th>\n      <th>unprocessed_code</th>\n      <th>project</th>\n    </tr>\n  </thead>\n  <tbody>\n  </tbody>\n</table>\n</div>"
     },
     "metadata": {}
    },
    {
     "output_type": "stream",
     "name": "stdout",
     "text": [
      "org.apache.commons.collections4.multimap.abstractmultivaluedmaptest.java\n"
     ]
    },
    {
     "output_type": "display_data",
     "data": {
      "text/plain": "Empty DataFrame\nColumns: [filename, unprocessed_code, project]\nIndex: []",
      "text/html": "<div>\n<style scoped>\n    .dataframe tbody tr th:only-of-type {\n        vertical-align: middle;\n    }\n\n    .dataframe tbody tr th {\n        vertical-align: top;\n    }\n\n    .dataframe thead th {\n        text-align: right;\n    }\n</style>\n<table border=\"1\" class=\"dataframe\">\n  <thead>\n    <tr style=\"text-align: right;\">\n      <th></th>\n      <th>filename</th>\n      <th>unprocessed_code</th>\n      <th>project</th>\n    </tr>\n  </thead>\n  <tbody>\n  </tbody>\n</table>\n</div>"
     },
     "metadata": {}
    },
    {
     "output_type": "stream",
     "name": "stdout",
     "text": [
      "org.apache.commons.collections4.multimap.abstractmultivaluedmapdecorator.java\n"
     ]
    },
    {
     "output_type": "display_data",
     "data": {
      "text/plain": "Empty DataFrame\nColumns: [filename, unprocessed_code, project]\nIndex: []",
      "text/html": "<div>\n<style scoped>\n    .dataframe tbody tr th:only-of-type {\n        vertical-align: middle;\n    }\n\n    .dataframe tbody tr th {\n        vertical-align: top;\n    }\n\n    .dataframe thead th {\n        text-align: right;\n    }\n</style>\n<table border=\"1\" class=\"dataframe\">\n  <thead>\n    <tr style=\"text-align: right;\">\n      <th></th>\n      <th>filename</th>\n      <th>unprocessed_code</th>\n      <th>project</th>\n    </tr>\n  </thead>\n  <tbody>\n  </tbody>\n</table>\n</div>"
     },
     "metadata": {}
    },
    {
     "output_type": "stream",
     "name": "stdout",
     "text": [
      "org.apache.commons.collections4.multimap.unmodifiablemultivaluedmaptest.java\n"
     ]
    },
    {
     "output_type": "display_data",
     "data": {
      "text/plain": "Empty DataFrame\nColumns: [filename, unprocessed_code, project]\nIndex: []",
      "text/html": "<div>\n<style scoped>\n    .dataframe tbody tr th:only-of-type {\n        vertical-align: middle;\n    }\n\n    .dataframe tbody tr th {\n        vertical-align: top;\n    }\n\n    .dataframe thead th {\n        text-align: right;\n    }\n</style>\n<table border=\"1\" class=\"dataframe\">\n  <thead>\n    <tr style=\"text-align: right;\">\n      <th></th>\n      <th>filename</th>\n      <th>unprocessed_code</th>\n      <th>project</th>\n    </tr>\n  </thead>\n  <tbody>\n  </tbody>\n</table>\n</div>"
     },
     "metadata": {}
    },
    {
     "output_type": "stream",
     "name": "stdout",
     "text": [
      "org.apache.commons.collections4.multimap.abstractsetvaluedmap.java\n"
     ]
    },
    {
     "output_type": "display_data",
     "data": {
      "text/plain": "Empty DataFrame\nColumns: [filename, unprocessed_code, project]\nIndex: []",
      "text/html": "<div>\n<style scoped>\n    .dataframe tbody tr th:only-of-type {\n        vertical-align: middle;\n    }\n\n    .dataframe tbody tr th {\n        vertical-align: top;\n    }\n\n    .dataframe thead th {\n        text-align: right;\n    }\n</style>\n<table border=\"1\" class=\"dataframe\">\n  <thead>\n    <tr style=\"text-align: right;\">\n      <th></th>\n      <th>filename</th>\n      <th>unprocessed_code</th>\n      <th>project</th>\n    </tr>\n  </thead>\n  <tbody>\n  </tbody>\n</table>\n</div>"
     },
     "metadata": {}
    },
    {
     "output_type": "stream",
     "name": "stdout",
     "text": [
      "org.apache.commons.collections4.multimap.abstractmultivaluedmap.java\n"
     ]
    },
    {
     "output_type": "display_data",
     "data": {
      "text/plain": "Empty DataFrame\nColumns: [filename, unprocessed_code, project]\nIndex: []",
      "text/html": "<div>\n<style scoped>\n    .dataframe tbody tr th:only-of-type {\n        vertical-align: middle;\n    }\n\n    .dataframe tbody tr th {\n        vertical-align: top;\n    }\n\n    .dataframe thead th {\n        text-align: right;\n    }\n</style>\n<table border=\"1\" class=\"dataframe\">\n  <thead>\n    <tr style=\"text-align: right;\">\n      <th></th>\n      <th>filename</th>\n      <th>unprocessed_code</th>\n      <th>project</th>\n    </tr>\n  </thead>\n  <tbody>\n  </tbody>\n</table>\n</div>"
     },
     "metadata": {}
    },
    {
     "output_type": "stream",
     "name": "stdout",
     "text": [
      "org.apache.commons.collections4.multimaputilstest.java\n"
     ]
    },
    {
     "output_type": "display_data",
     "data": {
      "text/plain": "Empty DataFrame\nColumns: [filename, unprocessed_code, project]\nIndex: []",
      "text/html": "<div>\n<style scoped>\n    .dataframe tbody tr th:only-of-type {\n        vertical-align: middle;\n    }\n\n    .dataframe tbody tr th {\n        vertical-align: top;\n    }\n\n    .dataframe thead th {\n        text-align: right;\n    }\n</style>\n<table border=\"1\" class=\"dataframe\">\n  <thead>\n    <tr style=\"text-align: right;\">\n      <th></th>\n      <th>filename</th>\n      <th>unprocessed_code</th>\n      <th>project</th>\n    </tr>\n  </thead>\n  <tbody>\n  </tbody>\n</table>\n</div>"
     },
     "metadata": {}
    },
    {
     "output_type": "stream",
     "name": "stdout",
     "text": [
      "org.apache.commons.collections4.multimap.transformedmultivaluedmap.java\n"
     ]
    },
    {
     "output_type": "display_data",
     "data": {
      "text/plain": "Empty DataFrame\nColumns: [filename, unprocessed_code, project]\nIndex: []",
      "text/html": "<div>\n<style scoped>\n    .dataframe tbody tr th:only-of-type {\n        vertical-align: middle;\n    }\n\n    .dataframe tbody tr th {\n        vertical-align: top;\n    }\n\n    .dataframe thead th {\n        text-align: right;\n    }\n</style>\n<table border=\"1\" class=\"dataframe\">\n  <thead>\n    <tr style=\"text-align: right;\">\n      <th></th>\n      <th>filename</th>\n      <th>unprocessed_code</th>\n      <th>project</th>\n    </tr>\n  </thead>\n  <tbody>\n  </tbody>\n</table>\n</div>"
     },
     "metadata": {}
    },
    {
     "output_type": "stream",
     "name": "stdout",
     "text": [
      "org.apache.commons.collections4.multimap.package-info.java\n"
     ]
    },
    {
     "output_type": "display_data",
     "data": {
      "text/plain": "Empty DataFrame\nColumns: [filename, unprocessed_code, project]\nIndex: []",
      "text/html": "<div>\n<style scoped>\n    .dataframe tbody tr th:only-of-type {\n        vertical-align: middle;\n    }\n\n    .dataframe tbody tr th {\n        vertical-align: top;\n    }\n\n    .dataframe thead th {\n        text-align: right;\n    }\n</style>\n<table border=\"1\" class=\"dataframe\">\n  <thead>\n    <tr style=\"text-align: right;\">\n      <th></th>\n      <th>filename</th>\n      <th>unprocessed_code</th>\n      <th>project</th>\n    </tr>\n  </thead>\n  <tbody>\n  </tbody>\n</table>\n</div>"
     },
     "metadata": {}
    },
    {
     "output_type": "stream",
     "name": "stdout",
     "text": [
      "org.apache.commons.collections4.multimap.abstractlistvaluedmap.java\n"
     ]
    },
    {
     "output_type": "display_data",
     "data": {
      "text/plain": "Empty DataFrame\nColumns: [filename, unprocessed_code, project]\nIndex: []",
      "text/html": "<div>\n<style scoped>\n    .dataframe tbody tr th:only-of-type {\n        vertical-align: middle;\n    }\n\n    .dataframe tbody tr th {\n        vertical-align: top;\n    }\n\n    .dataframe thead th {\n        text-align: right;\n    }\n</style>\n<table border=\"1\" class=\"dataframe\">\n  <thead>\n    <tr style=\"text-align: right;\">\n      <th></th>\n      <th>filename</th>\n      <th>unprocessed_code</th>\n      <th>project</th>\n    </tr>\n  </thead>\n  <tbody>\n  </tbody>\n</table>\n</div>"
     },
     "metadata": {}
    },
    {
     "output_type": "stream",
     "name": "stdout",
     "text": [
      "org.apache.commons.collections4.multimaputils.java\n"
     ]
    },
    {
     "output_type": "display_data",
     "data": {
      "text/plain": "Empty DataFrame\nColumns: [filename, unprocessed_code, project]\nIndex: []",
      "text/html": "<div>\n<style scoped>\n    .dataframe tbody tr th:only-of-type {\n        vertical-align: middle;\n    }\n\n    .dataframe tbody tr th {\n        vertical-align: top;\n    }\n\n    .dataframe thead th {\n        text-align: right;\n    }\n</style>\n<table border=\"1\" class=\"dataframe\">\n  <thead>\n    <tr style=\"text-align: right;\">\n      <th></th>\n      <th>filename</th>\n      <th>unprocessed_code</th>\n      <th>project</th>\n    </tr>\n  </thead>\n  <tbody>\n  </tbody>\n</table>\n</div>"
     },
     "metadata": {}
    },
    {
     "output_type": "stream",
     "name": "stdout",
     "text": [
      "org.apache.commons.collections4.transformerutils.java\n"
     ]
    },
    {
     "output_type": "display_data",
     "data": {
      "text/plain": "Empty DataFrame\nColumns: [filename, unprocessed_code, project]\nIndex: []",
      "text/html": "<div>\n<style scoped>\n    .dataframe tbody tr th:only-of-type {\n        vertical-align: middle;\n    }\n\n    .dataframe tbody tr th {\n        vertical-align: top;\n    }\n\n    .dataframe thead th {\n        text-align: right;\n    }\n</style>\n<table border=\"1\" class=\"dataframe\">\n  <thead>\n    <tr style=\"text-align: right;\">\n      <th></th>\n      <th>filename</th>\n      <th>unprocessed_code</th>\n      <th>project</th>\n    </tr>\n  </thead>\n  <tbody>\n  </tbody>\n</table>\n</div>"
     },
     "metadata": {}
    },
    {
     "output_type": "stream",
     "name": "stdout",
     "text": [
      "org.apache.commons.collections4.closureutils.java\n"
     ]
    },
    {
     "output_type": "display_data",
     "data": {
      "text/plain": "Empty DataFrame\nColumns: [filename, unprocessed_code, project]\nIndex: []",
      "text/html": "<div>\n<style scoped>\n    .dataframe tbody tr th:only-of-type {\n        vertical-align: middle;\n    }\n\n    .dataframe tbody tr th {\n        vertical-align: top;\n    }\n\n    .dataframe thead th {\n        text-align: right;\n    }\n</style>\n<table border=\"1\" class=\"dataframe\">\n  <thead>\n    <tr style=\"text-align: right;\">\n      <th></th>\n      <th>filename</th>\n      <th>unprocessed_code</th>\n      <th>project</th>\n    </tr>\n  </thead>\n  <tbody>\n  </tbody>\n</table>\n</div>"
     },
     "metadata": {}
    },
    {
     "output_type": "stream",
     "name": "stdout",
     "text": [
      "org.apache.commons.collections4.factoryutils.java\n"
     ]
    },
    {
     "output_type": "display_data",
     "data": {
      "text/plain": "Empty DataFrame\nColumns: [filename, unprocessed_code, project]\nIndex: []",
      "text/html": "<div>\n<style scoped>\n    .dataframe tbody tr th:only-of-type {\n        vertical-align: middle;\n    }\n\n    .dataframe tbody tr th {\n        vertical-align: top;\n    }\n\n    .dataframe thead th {\n        text-align: right;\n    }\n</style>\n<table border=\"1\" class=\"dataframe\">\n  <thead>\n    <tr style=\"text-align: right;\">\n      <th></th>\n      <th>filename</th>\n      <th>unprocessed_code</th>\n      <th>project</th>\n    </tr>\n  </thead>\n  <tbody>\n  </tbody>\n</table>\n</div>"
     },
     "metadata": {}
    },
    {
     "output_type": "stream",
     "name": "stdout",
     "text": [
      "org.apache.commons.collections4.map.multivaluemaptest.java\n"
     ]
    },
    {
     "output_type": "display_data",
     "data": {
      "text/plain": "Empty DataFrame\nColumns: [filename, unprocessed_code, project]\nIndex: []",
      "text/html": "<div>\n<style scoped>\n    .dataframe tbody tr th:only-of-type {\n        vertical-align: middle;\n    }\n\n    .dataframe tbody tr th {\n        vertical-align: top;\n    }\n\n    .dataframe thead th {\n        text-align: right;\n    }\n</style>\n<table border=\"1\" class=\"dataframe\">\n  <thead>\n    <tr style=\"text-align: right;\">\n      <th></th>\n      <th>filename</th>\n      <th>unprocessed_code</th>\n      <th>project</th>\n    </tr>\n  </thead>\n  <tbody>\n  </tbody>\n</table>\n</div>"
     },
     "metadata": {}
    },
    {
     "output_type": "stream",
     "name": "stdout",
     "text": [
      "org.apache.commons.collections4.map.multivaluemap.java\n"
     ]
    },
    {
     "output_type": "display_data",
     "data": {
      "text/plain": "Empty DataFrame\nColumns: [filename, unprocessed_code, project]\nIndex: []",
      "text/html": "<div>\n<style scoped>\n    .dataframe tbody tr th:only-of-type {\n        vertical-align: middle;\n    }\n\n    .dataframe tbody tr th {\n        vertical-align: top;\n    }\n\n    .dataframe thead th {\n        text-align: right;\n    }\n</style>\n<table border=\"1\" class=\"dataframe\">\n  <thead>\n    <tr style=\"text-align: right;\">\n      <th></th>\n      <th>filename</th>\n      <th>unprocessed_code</th>\n      <th>project</th>\n    </tr>\n  </thead>\n  <tbody>\n  </tbody>\n</table>\n</div>"
     },
     "metadata": {}
    },
    {
     "output_type": "stream",
     "name": "stdout",
     "text": [
      "org.apache.commons.collections4.factoryutilstest.java\n"
     ]
    },
    {
     "output_type": "display_data",
     "data": {
      "text/plain": "Empty DataFrame\nColumns: [filename, unprocessed_code, project]\nIndex: []",
      "text/html": "<div>\n<style scoped>\n    .dataframe tbody tr th:only-of-type {\n        vertical-align: middle;\n    }\n\n    .dataframe tbody tr th {\n        vertical-align: top;\n    }\n\n    .dataframe thead th {\n        text-align: right;\n    }\n</style>\n<table border=\"1\" class=\"dataframe\">\n  <thead>\n    <tr style=\"text-align: right;\">\n      <th></th>\n      <th>filename</th>\n      <th>unprocessed_code</th>\n      <th>project</th>\n    </tr>\n  </thead>\n  <tbody>\n  </tbody>\n</table>\n</div>"
     },
     "metadata": {}
    },
    {
     "output_type": "stream",
     "name": "stdout",
     "text": [
      "org.apache.commons.collections4.transformerutilstest.java\n"
     ]
    },
    {
     "output_type": "display_data",
     "data": {
      "text/plain": "Empty DataFrame\nColumns: [filename, unprocessed_code, project]\nIndex: []",
      "text/html": "<div>\n<style scoped>\n    .dataframe tbody tr th:only-of-type {\n        vertical-align: middle;\n    }\n\n    .dataframe tbody tr th {\n        vertical-align: top;\n    }\n\n    .dataframe thead th {\n        text-align: right;\n    }\n</style>\n<table border=\"1\" class=\"dataframe\">\n  <thead>\n    <tr style=\"text-align: right;\">\n      <th></th>\n      <th>filename</th>\n      <th>unprocessed_code</th>\n      <th>project</th>\n    </tr>\n  </thead>\n  <tbody>\n  </tbody>\n</table>\n</div>"
     },
     "metadata": {}
    },
    {
     "output_type": "stream",
     "name": "stdout",
     "text": [
      "org.apache.commons.collections4.functors.instantiatefactory.java\n"
     ]
    },
    {
     "output_type": "display_data",
     "data": {
      "text/plain": "Empty DataFrame\nColumns: [filename, unprocessed_code, project]\nIndex: []",
      "text/html": "<div>\n<style scoped>\n    .dataframe tbody tr th:only-of-type {\n        vertical-align: middle;\n    }\n\n    .dataframe tbody tr th {\n        vertical-align: top;\n    }\n\n    .dataframe thead th {\n        text-align: right;\n    }\n</style>\n<table border=\"1\" class=\"dataframe\">\n  <thead>\n    <tr style=\"text-align: right;\">\n      <th></th>\n      <th>filename</th>\n      <th>unprocessed_code</th>\n      <th>project</th>\n    </tr>\n  </thead>\n  <tbody>\n  </tbody>\n</table>\n</div>"
     },
     "metadata": {}
    },
    {
     "output_type": "stream",
     "name": "stdout",
     "text": [
      "org.apache.commons.collections4.functors.whileclosure.java\n"
     ]
    },
    {
     "output_type": "display_data",
     "data": {
      "text/plain": "Empty DataFrame\nColumns: [filename, unprocessed_code, project]\nIndex: []",
      "text/html": "<div>\n<style scoped>\n    .dataframe tbody tr th:only-of-type {\n        vertical-align: middle;\n    }\n\n    .dataframe tbody tr th {\n        vertical-align: top;\n    }\n\n    .dataframe thead th {\n        text-align: right;\n    }\n</style>\n<table border=\"1\" class=\"dataframe\">\n  <thead>\n    <tr style=\"text-align: right;\">\n      <th></th>\n      <th>filename</th>\n      <th>unprocessed_code</th>\n      <th>project</th>\n    </tr>\n  </thead>\n  <tbody>\n  </tbody>\n</table>\n</div>"
     },
     "metadata": {}
    },
    {
     "output_type": "stream",
     "name": "stdout",
     "text": [
      "org.apache.commons.collections4.functors.clonetransformer.java\n"
     ]
    },
    {
     "output_type": "display_data",
     "data": {
      "text/plain": "Empty DataFrame\nColumns: [filename, unprocessed_code, project]\nIndex: []",
      "text/html": "<div>\n<style scoped>\n    .dataframe tbody tr th:only-of-type {\n        vertical-align: middle;\n    }\n\n    .dataframe tbody tr th {\n        vertical-align: top;\n    }\n\n    .dataframe thead th {\n        text-align: right;\n    }\n</style>\n<table border=\"1\" class=\"dataframe\">\n  <thead>\n    <tr style=\"text-align: right;\">\n      <th></th>\n      <th>filename</th>\n      <th>unprocessed_code</th>\n      <th>project</th>\n    </tr>\n  </thead>\n  <tbody>\n  </tbody>\n</table>\n</div>"
     },
     "metadata": {}
    },
    {
     "output_type": "stream",
     "name": "stdout",
     "text": [
      "org.apache.commons.collections4.functors.forclosure.java\n"
     ]
    },
    {
     "output_type": "display_data",
     "data": {
      "text/plain": "Empty DataFrame\nColumns: [filename, unprocessed_code, project]\nIndex: []",
      "text/html": "<div>\n<style scoped>\n    .dataframe tbody tr th:only-of-type {\n        vertical-align: middle;\n    }\n\n    .dataframe tbody tr th {\n        vertical-align: top;\n    }\n\n    .dataframe thead th {\n        text-align: right;\n    }\n</style>\n<table border=\"1\" class=\"dataframe\">\n  <thead>\n    <tr style=\"text-align: right;\">\n      <th></th>\n      <th>filename</th>\n      <th>unprocessed_code</th>\n      <th>project</th>\n    </tr>\n  </thead>\n  <tbody>\n  </tbody>\n</table>\n</div>"
     },
     "metadata": {}
    },
    {
     "output_type": "stream",
     "name": "stdout",
     "text": [
      "org.apache.commons.collections4.functors.invokertransformer.java\n"
     ]
    },
    {
     "output_type": "display_data",
     "data": {
      "text/plain": "Empty DataFrame\nColumns: [filename, unprocessed_code, project]\nIndex: []",
      "text/html": "<div>\n<style scoped>\n    .dataframe tbody tr th:only-of-type {\n        vertical-align: middle;\n    }\n\n    .dataframe tbody tr th {\n        vertical-align: top;\n    }\n\n    .dataframe thead th {\n        text-align: right;\n    }\n</style>\n<table border=\"1\" class=\"dataframe\">\n  <thead>\n    <tr style=\"text-align: right;\">\n      <th></th>\n      <th>filename</th>\n      <th>unprocessed_code</th>\n      <th>project</th>\n    </tr>\n  </thead>\n  <tbody>\n  </tbody>\n</table>\n</div>"
     },
     "metadata": {}
    },
    {
     "output_type": "stream",
     "name": "stdout",
     "text": [
      "org.apache.commons.collections4.functors.prototypefactory.java\n"
     ]
    },
    {
     "output_type": "display_data",
     "data": {
      "text/plain": "Empty DataFrame\nColumns: [filename, unprocessed_code, project]\nIndex: []",
      "text/html": "<div>\n<style scoped>\n    .dataframe tbody tr th:only-of-type {\n        vertical-align: middle;\n    }\n\n    .dataframe tbody tr th {\n        vertical-align: top;\n    }\n\n    .dataframe thead th {\n        text-align: right;\n    }\n</style>\n<table border=\"1\" class=\"dataframe\">\n  <thead>\n    <tr style=\"text-align: right;\">\n      <th></th>\n      <th>filename</th>\n      <th>unprocessed_code</th>\n      <th>project</th>\n    </tr>\n  </thead>\n  <tbody>\n  </tbody>\n</table>\n</div>"
     },
     "metadata": {}
    },
    {
     "output_type": "stream",
     "name": "stdout",
     "text": [
      "org.apache.commons.collections4.functors.package-info.java\n"
     ]
    },
    {
     "output_type": "display_data",
     "data": {
      "text/plain": "Empty DataFrame\nColumns: [filename, unprocessed_code, project]\nIndex: []",
      "text/html": "<div>\n<style scoped>\n    .dataframe tbody tr th:only-of-type {\n        vertical-align: middle;\n    }\n\n    .dataframe tbody tr th {\n        vertical-align: top;\n    }\n\n    .dataframe thead th {\n        text-align: right;\n    }\n</style>\n<table border=\"1\" class=\"dataframe\">\n  <thead>\n    <tr style=\"text-align: right;\">\n      <th></th>\n      <th>filename</th>\n      <th>unprocessed_code</th>\n      <th>project</th>\n    </tr>\n  </thead>\n  <tbody>\n  </tbody>\n</table>\n</div>"
     },
     "metadata": {}
    },
    {
     "output_type": "stream",
     "name": "stdout",
     "text": [
      "org.apache.commons.collections4.functors.instantiatetransformer.java\n"
     ]
    },
    {
     "output_type": "display_data",
     "data": {
      "text/plain": "Empty DataFrame\nColumns: [filename, unprocessed_code, project]\nIndex: []",
      "text/html": "<div>\n<style scoped>\n    .dataframe tbody tr th:only-of-type {\n        vertical-align: middle;\n    }\n\n    .dataframe tbody tr th {\n        vertical-align: top;\n    }\n\n    .dataframe thead th {\n        text-align: right;\n    }\n</style>\n<table border=\"1\" class=\"dataframe\">\n  <thead>\n    <tr style=\"text-align: right;\">\n      <th></th>\n      <th>filename</th>\n      <th>unprocessed_code</th>\n      <th>project</th>\n    </tr>\n  </thead>\n  <tbody>\n  </tbody>\n</table>\n</div>"
     },
     "metadata": {}
    },
    {
     "output_type": "stream",
     "name": "stdout",
     "text": [
      "[-1, -1, -1, -1, -1, -1, -1, -1, -1, -1, -1, -1, -1, -1, -1, -1, -1, -1, -1, -1, -1, -1, -1, -1, -1, -1, -1, -1]\n['org.apache.commons.collections4.multimap.multivaluedhashmap.java'\n 'org.apache.commons.collections4.multimap.multivaluedhashmaptest.java'\n 'org.apache.commons.collections4.multimap.transformedmultivaluedmaptest.java'\n 'org.apache.commons.collections4.multimap.abstractmultivaluedmaptest.java'\n 'org.apache.commons.collections4.multimap.abstractmultivaluedmapdecorator.java'\n 'org.apache.commons.collections4.multimap.unmodifiablemultivaluedmaptest.java'\n 'org.apache.commons.collections4.multimap.abstractsetvaluedmap.java'\n 'org.apache.commons.collections4.multimap.abstractmultivaluedmap.java'\n 'org.apache.commons.collections4.multimaputilstest.java'\n 'org.apache.commons.collections4.multimap.transformedmultivaluedmap.java'\n 'org.apache.commons.collections4.multimap.package-info.java'\n 'org.apache.commons.collections4.multimap.abstractlistvaluedmap.java'\n 'org.apache.commons.collections4.multimaputils.java'\n 'org.apache.commons.collections4.transformerutils.java'\n 'org.apache.commons.collections4.closureutils.java'\n 'org.apache.commons.collections4.factoryutils.java'\n 'org.apache.commons.collections4.map.multivaluemaptest.java'\n 'org.apache.commons.collections4.map.multivaluemap.java'\n 'org.apache.commons.collections4.factoryutilstest.java'\n 'org.apache.commons.collections4.transformerutilstest.java'\n 'org.apache.commons.collections4.functors.instantiatefactory.java'\n 'org.apache.commons.collections4.functors.whileclosure.java'\n 'org.apache.commons.collections4.functors.clonetransformer.java'\n 'org.apache.commons.collections4.functors.forclosure.java'\n 'org.apache.commons.collections4.functors.invokertransformer.java'\n 'org.apache.commons.collections4.functors.prototypefactory.java'\n 'org.apache.commons.collections4.functors.package-info.java'\n 'org.apache.commons.collections4.functors.instantiatetransformer.java']\norg.apache.commons.collections4.multimap.multivaluedhashmap.java\n"
     ]
    },
    {
     "output_type": "display_data",
     "data": {
      "text/plain": "Empty DataFrame\nColumns: [filename, unprocessed_code, project]\nIndex: []",
      "text/html": "<div>\n<style scoped>\n    .dataframe tbody tr th:only-of-type {\n        vertical-align: middle;\n    }\n\n    .dataframe tbody tr th {\n        vertical-align: top;\n    }\n\n    .dataframe thead th {\n        text-align: right;\n    }\n</style>\n<table border=\"1\" class=\"dataframe\">\n  <thead>\n    <tr style=\"text-align: right;\">\n      <th></th>\n      <th>filename</th>\n      <th>unprocessed_code</th>\n      <th>project</th>\n    </tr>\n  </thead>\n  <tbody>\n  </tbody>\n</table>\n</div>"
     },
     "metadata": {}
    },
    {
     "output_type": "stream",
     "name": "stdout",
     "text": [
      "org.apache.commons.collections4.multimap.multivaluedhashmaptest.java\n"
     ]
    },
    {
     "output_type": "display_data",
     "data": {
      "text/plain": "Empty DataFrame\nColumns: [filename, unprocessed_code, project]\nIndex: []",
      "text/html": "<div>\n<style scoped>\n    .dataframe tbody tr th:only-of-type {\n        vertical-align: middle;\n    }\n\n    .dataframe tbody tr th {\n        vertical-align: top;\n    }\n\n    .dataframe thead th {\n        text-align: right;\n    }\n</style>\n<table border=\"1\" class=\"dataframe\">\n  <thead>\n    <tr style=\"text-align: right;\">\n      <th></th>\n      <th>filename</th>\n      <th>unprocessed_code</th>\n      <th>project</th>\n    </tr>\n  </thead>\n  <tbody>\n  </tbody>\n</table>\n</div>"
     },
     "metadata": {}
    },
    {
     "output_type": "stream",
     "name": "stdout",
     "text": [
      "org.apache.commons.collections4.multimap.transformedmultivaluedmaptest.java\n"
     ]
    },
    {
     "output_type": "display_data",
     "data": {
      "text/plain": "Empty DataFrame\nColumns: [filename, unprocessed_code, project]\nIndex: []",
      "text/html": "<div>\n<style scoped>\n    .dataframe tbody tr th:only-of-type {\n        vertical-align: middle;\n    }\n\n    .dataframe tbody tr th {\n        vertical-align: top;\n    }\n\n    .dataframe thead th {\n        text-align: right;\n    }\n</style>\n<table border=\"1\" class=\"dataframe\">\n  <thead>\n    <tr style=\"text-align: right;\">\n      <th></th>\n      <th>filename</th>\n      <th>unprocessed_code</th>\n      <th>project</th>\n    </tr>\n  </thead>\n  <tbody>\n  </tbody>\n</table>\n</div>"
     },
     "metadata": {}
    },
    {
     "output_type": "stream",
     "name": "stdout",
     "text": [
      "org.apache.commons.collections4.multimap.abstractmultivaluedmaptest.java\n"
     ]
    },
    {
     "output_type": "display_data",
     "data": {
      "text/plain": "Empty DataFrame\nColumns: [filename, unprocessed_code, project]\nIndex: []",
      "text/html": "<div>\n<style scoped>\n    .dataframe tbody tr th:only-of-type {\n        vertical-align: middle;\n    }\n\n    .dataframe tbody tr th {\n        vertical-align: top;\n    }\n\n    .dataframe thead th {\n        text-align: right;\n    }\n</style>\n<table border=\"1\" class=\"dataframe\">\n  <thead>\n    <tr style=\"text-align: right;\">\n      <th></th>\n      <th>filename</th>\n      <th>unprocessed_code</th>\n      <th>project</th>\n    </tr>\n  </thead>\n  <tbody>\n  </tbody>\n</table>\n</div>"
     },
     "metadata": {}
    },
    {
     "output_type": "stream",
     "name": "stdout",
     "text": [
      "org.apache.commons.collections4.multimap.abstractmultivaluedmapdecorator.java\n"
     ]
    },
    {
     "output_type": "display_data",
     "data": {
      "text/plain": "Empty DataFrame\nColumns: [filename, unprocessed_code, project]\nIndex: []",
      "text/html": "<div>\n<style scoped>\n    .dataframe tbody tr th:only-of-type {\n        vertical-align: middle;\n    }\n\n    .dataframe tbody tr th {\n        vertical-align: top;\n    }\n\n    .dataframe thead th {\n        text-align: right;\n    }\n</style>\n<table border=\"1\" class=\"dataframe\">\n  <thead>\n    <tr style=\"text-align: right;\">\n      <th></th>\n      <th>filename</th>\n      <th>unprocessed_code</th>\n      <th>project</th>\n    </tr>\n  </thead>\n  <tbody>\n  </tbody>\n</table>\n</div>"
     },
     "metadata": {}
    },
    {
     "output_type": "stream",
     "name": "stdout",
     "text": [
      "org.apache.commons.collections4.multimap.unmodifiablemultivaluedmaptest.java\n"
     ]
    },
    {
     "output_type": "display_data",
     "data": {
      "text/plain": "Empty DataFrame\nColumns: [filename, unprocessed_code, project]\nIndex: []",
      "text/html": "<div>\n<style scoped>\n    .dataframe tbody tr th:only-of-type {\n        vertical-align: middle;\n    }\n\n    .dataframe tbody tr th {\n        vertical-align: top;\n    }\n\n    .dataframe thead th {\n        text-align: right;\n    }\n</style>\n<table border=\"1\" class=\"dataframe\">\n  <thead>\n    <tr style=\"text-align: right;\">\n      <th></th>\n      <th>filename</th>\n      <th>unprocessed_code</th>\n      <th>project</th>\n    </tr>\n  </thead>\n  <tbody>\n  </tbody>\n</table>\n</div>"
     },
     "metadata": {}
    },
    {
     "output_type": "stream",
     "name": "stdout",
     "text": [
      "org.apache.commons.collections4.multimap.abstractsetvaluedmap.java\n"
     ]
    },
    {
     "output_type": "display_data",
     "data": {
      "text/plain": "Empty DataFrame\nColumns: [filename, unprocessed_code, project]\nIndex: []",
      "text/html": "<div>\n<style scoped>\n    .dataframe tbody tr th:only-of-type {\n        vertical-align: middle;\n    }\n\n    .dataframe tbody tr th {\n        vertical-align: top;\n    }\n\n    .dataframe thead th {\n        text-align: right;\n    }\n</style>\n<table border=\"1\" class=\"dataframe\">\n  <thead>\n    <tr style=\"text-align: right;\">\n      <th></th>\n      <th>filename</th>\n      <th>unprocessed_code</th>\n      <th>project</th>\n    </tr>\n  </thead>\n  <tbody>\n  </tbody>\n</table>\n</div>"
     },
     "metadata": {}
    },
    {
     "output_type": "stream",
     "name": "stdout",
     "text": [
      "org.apache.commons.collections4.multimap.abstractmultivaluedmap.java\n"
     ]
    },
    {
     "output_type": "display_data",
     "data": {
      "text/plain": "Empty DataFrame\nColumns: [filename, unprocessed_code, project]\nIndex: []",
      "text/html": "<div>\n<style scoped>\n    .dataframe tbody tr th:only-of-type {\n        vertical-align: middle;\n    }\n\n    .dataframe tbody tr th {\n        vertical-align: top;\n    }\n\n    .dataframe thead th {\n        text-align: right;\n    }\n</style>\n<table border=\"1\" class=\"dataframe\">\n  <thead>\n    <tr style=\"text-align: right;\">\n      <th></th>\n      <th>filename</th>\n      <th>unprocessed_code</th>\n      <th>project</th>\n    </tr>\n  </thead>\n  <tbody>\n  </tbody>\n</table>\n</div>"
     },
     "metadata": {}
    },
    {
     "output_type": "stream",
     "name": "stdout",
     "text": [
      "org.apache.commons.collections4.multimaputilstest.java\n"
     ]
    },
    {
     "output_type": "display_data",
     "data": {
      "text/plain": "Empty DataFrame\nColumns: [filename, unprocessed_code, project]\nIndex: []",
      "text/html": "<div>\n<style scoped>\n    .dataframe tbody tr th:only-of-type {\n        vertical-align: middle;\n    }\n\n    .dataframe tbody tr th {\n        vertical-align: top;\n    }\n\n    .dataframe thead th {\n        text-align: right;\n    }\n</style>\n<table border=\"1\" class=\"dataframe\">\n  <thead>\n    <tr style=\"text-align: right;\">\n      <th></th>\n      <th>filename</th>\n      <th>unprocessed_code</th>\n      <th>project</th>\n    </tr>\n  </thead>\n  <tbody>\n  </tbody>\n</table>\n</div>"
     },
     "metadata": {}
    },
    {
     "output_type": "stream",
     "name": "stdout",
     "text": [
      "org.apache.commons.collections4.multimap.transformedmultivaluedmap.java\n"
     ]
    },
    {
     "output_type": "display_data",
     "data": {
      "text/plain": "Empty DataFrame\nColumns: [filename, unprocessed_code, project]\nIndex: []",
      "text/html": "<div>\n<style scoped>\n    .dataframe tbody tr th:only-of-type {\n        vertical-align: middle;\n    }\n\n    .dataframe tbody tr th {\n        vertical-align: top;\n    }\n\n    .dataframe thead th {\n        text-align: right;\n    }\n</style>\n<table border=\"1\" class=\"dataframe\">\n  <thead>\n    <tr style=\"text-align: right;\">\n      <th></th>\n      <th>filename</th>\n      <th>unprocessed_code</th>\n      <th>project</th>\n    </tr>\n  </thead>\n  <tbody>\n  </tbody>\n</table>\n</div>"
     },
     "metadata": {}
    },
    {
     "output_type": "stream",
     "name": "stdout",
     "text": [
      "org.apache.commons.collections4.multimap.package-info.java\n"
     ]
    },
    {
     "output_type": "display_data",
     "data": {
      "text/plain": "Empty DataFrame\nColumns: [filename, unprocessed_code, project]\nIndex: []",
      "text/html": "<div>\n<style scoped>\n    .dataframe tbody tr th:only-of-type {\n        vertical-align: middle;\n    }\n\n    .dataframe tbody tr th {\n        vertical-align: top;\n    }\n\n    .dataframe thead th {\n        text-align: right;\n    }\n</style>\n<table border=\"1\" class=\"dataframe\">\n  <thead>\n    <tr style=\"text-align: right;\">\n      <th></th>\n      <th>filename</th>\n      <th>unprocessed_code</th>\n      <th>project</th>\n    </tr>\n  </thead>\n  <tbody>\n  </tbody>\n</table>\n</div>"
     },
     "metadata": {}
    },
    {
     "output_type": "stream",
     "name": "stdout",
     "text": [
      "org.apache.commons.collections4.multimap.abstractlistvaluedmap.java\n"
     ]
    },
    {
     "output_type": "display_data",
     "data": {
      "text/plain": "Empty DataFrame\nColumns: [filename, unprocessed_code, project]\nIndex: []",
      "text/html": "<div>\n<style scoped>\n    .dataframe tbody tr th:only-of-type {\n        vertical-align: middle;\n    }\n\n    .dataframe tbody tr th {\n        vertical-align: top;\n    }\n\n    .dataframe thead th {\n        text-align: right;\n    }\n</style>\n<table border=\"1\" class=\"dataframe\">\n  <thead>\n    <tr style=\"text-align: right;\">\n      <th></th>\n      <th>filename</th>\n      <th>unprocessed_code</th>\n      <th>project</th>\n    </tr>\n  </thead>\n  <tbody>\n  </tbody>\n</table>\n</div>"
     },
     "metadata": {}
    },
    {
     "output_type": "stream",
     "name": "stdout",
     "text": [
      "org.apache.commons.collections4.multimaputils.java\n"
     ]
    },
    {
     "output_type": "display_data",
     "data": {
      "text/plain": "Empty DataFrame\nColumns: [filename, unprocessed_code, project]\nIndex: []",
      "text/html": "<div>\n<style scoped>\n    .dataframe tbody tr th:only-of-type {\n        vertical-align: middle;\n    }\n\n    .dataframe tbody tr th {\n        vertical-align: top;\n    }\n\n    .dataframe thead th {\n        text-align: right;\n    }\n</style>\n<table border=\"1\" class=\"dataframe\">\n  <thead>\n    <tr style=\"text-align: right;\">\n      <th></th>\n      <th>filename</th>\n      <th>unprocessed_code</th>\n      <th>project</th>\n    </tr>\n  </thead>\n  <tbody>\n  </tbody>\n</table>\n</div>"
     },
     "metadata": {}
    },
    {
     "output_type": "stream",
     "name": "stdout",
     "text": [
      "org.apache.commons.collections4.transformerutils.java\n"
     ]
    },
    {
     "output_type": "display_data",
     "data": {
      "text/plain": "Empty DataFrame\nColumns: [filename, unprocessed_code, project]\nIndex: []",
      "text/html": "<div>\n<style scoped>\n    .dataframe tbody tr th:only-of-type {\n        vertical-align: middle;\n    }\n\n    .dataframe tbody tr th {\n        vertical-align: top;\n    }\n\n    .dataframe thead th {\n        text-align: right;\n    }\n</style>\n<table border=\"1\" class=\"dataframe\">\n  <thead>\n    <tr style=\"text-align: right;\">\n      <th></th>\n      <th>filename</th>\n      <th>unprocessed_code</th>\n      <th>project</th>\n    </tr>\n  </thead>\n  <tbody>\n  </tbody>\n</table>\n</div>"
     },
     "metadata": {}
    },
    {
     "output_type": "stream",
     "name": "stdout",
     "text": [
      "org.apache.commons.collections4.closureutils.java\n"
     ]
    },
    {
     "output_type": "display_data",
     "data": {
      "text/plain": "Empty DataFrame\nColumns: [filename, unprocessed_code, project]\nIndex: []",
      "text/html": "<div>\n<style scoped>\n    .dataframe tbody tr th:only-of-type {\n        vertical-align: middle;\n    }\n\n    .dataframe tbody tr th {\n        vertical-align: top;\n    }\n\n    .dataframe thead th {\n        text-align: right;\n    }\n</style>\n<table border=\"1\" class=\"dataframe\">\n  <thead>\n    <tr style=\"text-align: right;\">\n      <th></th>\n      <th>filename</th>\n      <th>unprocessed_code</th>\n      <th>project</th>\n    </tr>\n  </thead>\n  <tbody>\n  </tbody>\n</table>\n</div>"
     },
     "metadata": {}
    },
    {
     "output_type": "stream",
     "name": "stdout",
     "text": [
      "org.apache.commons.collections4.factoryutils.java\n"
     ]
    },
    {
     "output_type": "display_data",
     "data": {
      "text/plain": "Empty DataFrame\nColumns: [filename, unprocessed_code, project]\nIndex: []",
      "text/html": "<div>\n<style scoped>\n    .dataframe tbody tr th:only-of-type {\n        vertical-align: middle;\n    }\n\n    .dataframe tbody tr th {\n        vertical-align: top;\n    }\n\n    .dataframe thead th {\n        text-align: right;\n    }\n</style>\n<table border=\"1\" class=\"dataframe\">\n  <thead>\n    <tr style=\"text-align: right;\">\n      <th></th>\n      <th>filename</th>\n      <th>unprocessed_code</th>\n      <th>project</th>\n    </tr>\n  </thead>\n  <tbody>\n  </tbody>\n</table>\n</div>"
     },
     "metadata": {}
    },
    {
     "output_type": "stream",
     "name": "stdout",
     "text": [
      "org.apache.commons.collections4.map.multivaluemaptest.java\n"
     ]
    },
    {
     "output_type": "display_data",
     "data": {
      "text/plain": "Empty DataFrame\nColumns: [filename, unprocessed_code, project]\nIndex: []",
      "text/html": "<div>\n<style scoped>\n    .dataframe tbody tr th:only-of-type {\n        vertical-align: middle;\n    }\n\n    .dataframe tbody tr th {\n        vertical-align: top;\n    }\n\n    .dataframe thead th {\n        text-align: right;\n    }\n</style>\n<table border=\"1\" class=\"dataframe\">\n  <thead>\n    <tr style=\"text-align: right;\">\n      <th></th>\n      <th>filename</th>\n      <th>unprocessed_code</th>\n      <th>project</th>\n    </tr>\n  </thead>\n  <tbody>\n  </tbody>\n</table>\n</div>"
     },
     "metadata": {}
    },
    {
     "output_type": "stream",
     "name": "stdout",
     "text": [
      "org.apache.commons.collections4.map.multivaluemap.java\n"
     ]
    },
    {
     "output_type": "display_data",
     "data": {
      "text/plain": "Empty DataFrame\nColumns: [filename, unprocessed_code, project]\nIndex: []",
      "text/html": "<div>\n<style scoped>\n    .dataframe tbody tr th:only-of-type {\n        vertical-align: middle;\n    }\n\n    .dataframe tbody tr th {\n        vertical-align: top;\n    }\n\n    .dataframe thead th {\n        text-align: right;\n    }\n</style>\n<table border=\"1\" class=\"dataframe\">\n  <thead>\n    <tr style=\"text-align: right;\">\n      <th></th>\n      <th>filename</th>\n      <th>unprocessed_code</th>\n      <th>project</th>\n    </tr>\n  </thead>\n  <tbody>\n  </tbody>\n</table>\n</div>"
     },
     "metadata": {}
    },
    {
     "output_type": "stream",
     "name": "stdout",
     "text": [
      "org.apache.commons.collections4.factoryutilstest.java\n"
     ]
    },
    {
     "output_type": "display_data",
     "data": {
      "text/plain": "Empty DataFrame\nColumns: [filename, unprocessed_code, project]\nIndex: []",
      "text/html": "<div>\n<style scoped>\n    .dataframe tbody tr th:only-of-type {\n        vertical-align: middle;\n    }\n\n    .dataframe tbody tr th {\n        vertical-align: top;\n    }\n\n    .dataframe thead th {\n        text-align: right;\n    }\n</style>\n<table border=\"1\" class=\"dataframe\">\n  <thead>\n    <tr style=\"text-align: right;\">\n      <th></th>\n      <th>filename</th>\n      <th>unprocessed_code</th>\n      <th>project</th>\n    </tr>\n  </thead>\n  <tbody>\n  </tbody>\n</table>\n</div>"
     },
     "metadata": {}
    },
    {
     "output_type": "stream",
     "name": "stdout",
     "text": [
      "org.apache.commons.collections4.transformerutilstest.java\n"
     ]
    },
    {
     "output_type": "display_data",
     "data": {
      "text/plain": "Empty DataFrame\nColumns: [filename, unprocessed_code, project]\nIndex: []",
      "text/html": "<div>\n<style scoped>\n    .dataframe tbody tr th:only-of-type {\n        vertical-align: middle;\n    }\n\n    .dataframe tbody tr th {\n        vertical-align: top;\n    }\n\n    .dataframe thead th {\n        text-align: right;\n    }\n</style>\n<table border=\"1\" class=\"dataframe\">\n  <thead>\n    <tr style=\"text-align: right;\">\n      <th></th>\n      <th>filename</th>\n      <th>unprocessed_code</th>\n      <th>project</th>\n    </tr>\n  </thead>\n  <tbody>\n  </tbody>\n</table>\n</div>"
     },
     "metadata": {}
    },
    {
     "output_type": "stream",
     "name": "stdout",
     "text": [
      "org.apache.commons.collections4.functors.instantiatefactory.java\n"
     ]
    },
    {
     "output_type": "display_data",
     "data": {
      "text/plain": "Empty DataFrame\nColumns: [filename, unprocessed_code, project]\nIndex: []",
      "text/html": "<div>\n<style scoped>\n    .dataframe tbody tr th:only-of-type {\n        vertical-align: middle;\n    }\n\n    .dataframe tbody tr th {\n        vertical-align: top;\n    }\n\n    .dataframe thead th {\n        text-align: right;\n    }\n</style>\n<table border=\"1\" class=\"dataframe\">\n  <thead>\n    <tr style=\"text-align: right;\">\n      <th></th>\n      <th>filename</th>\n      <th>unprocessed_code</th>\n      <th>project</th>\n    </tr>\n  </thead>\n  <tbody>\n  </tbody>\n</table>\n</div>"
     },
     "metadata": {}
    },
    {
     "output_type": "stream",
     "name": "stdout",
     "text": [
      "org.apache.commons.collections4.functors.whileclosure.java\n"
     ]
    },
    {
     "output_type": "display_data",
     "data": {
      "text/plain": "Empty DataFrame\nColumns: [filename, unprocessed_code, project]\nIndex: []",
      "text/html": "<div>\n<style scoped>\n    .dataframe tbody tr th:only-of-type {\n        vertical-align: middle;\n    }\n\n    .dataframe tbody tr th {\n        vertical-align: top;\n    }\n\n    .dataframe thead th {\n        text-align: right;\n    }\n</style>\n<table border=\"1\" class=\"dataframe\">\n  <thead>\n    <tr style=\"text-align: right;\">\n      <th></th>\n      <th>filename</th>\n      <th>unprocessed_code</th>\n      <th>project</th>\n    </tr>\n  </thead>\n  <tbody>\n  </tbody>\n</table>\n</div>"
     },
     "metadata": {}
    },
    {
     "output_type": "stream",
     "name": "stdout",
     "text": [
      "org.apache.commons.collections4.functors.clonetransformer.java\n"
     ]
    },
    {
     "output_type": "display_data",
     "data": {
      "text/plain": "Empty DataFrame\nColumns: [filename, unprocessed_code, project]\nIndex: []",
      "text/html": "<div>\n<style scoped>\n    .dataframe tbody tr th:only-of-type {\n        vertical-align: middle;\n    }\n\n    .dataframe tbody tr th {\n        vertical-align: top;\n    }\n\n    .dataframe thead th {\n        text-align: right;\n    }\n</style>\n<table border=\"1\" class=\"dataframe\">\n  <thead>\n    <tr style=\"text-align: right;\">\n      <th></th>\n      <th>filename</th>\n      <th>unprocessed_code</th>\n      <th>project</th>\n    </tr>\n  </thead>\n  <tbody>\n  </tbody>\n</table>\n</div>"
     },
     "metadata": {}
    },
    {
     "output_type": "stream",
     "name": "stdout",
     "text": [
      "org.apache.commons.collections4.functors.forclosure.java\n"
     ]
    },
    {
     "output_type": "display_data",
     "data": {
      "text/plain": "Empty DataFrame\nColumns: [filename, unprocessed_code, project]\nIndex: []",
      "text/html": "<div>\n<style scoped>\n    .dataframe tbody tr th:only-of-type {\n        vertical-align: middle;\n    }\n\n    .dataframe tbody tr th {\n        vertical-align: top;\n    }\n\n    .dataframe thead th {\n        text-align: right;\n    }\n</style>\n<table border=\"1\" class=\"dataframe\">\n  <thead>\n    <tr style=\"text-align: right;\">\n      <th></th>\n      <th>filename</th>\n      <th>unprocessed_code</th>\n      <th>project</th>\n    </tr>\n  </thead>\n  <tbody>\n  </tbody>\n</table>\n</div>"
     },
     "metadata": {}
    },
    {
     "output_type": "stream",
     "name": "stdout",
     "text": [
      "org.apache.commons.collections4.functors.invokertransformer.java\n"
     ]
    },
    {
     "output_type": "display_data",
     "data": {
      "text/plain": "Empty DataFrame\nColumns: [filename, unprocessed_code, project]\nIndex: []",
      "text/html": "<div>\n<style scoped>\n    .dataframe tbody tr th:only-of-type {\n        vertical-align: middle;\n    }\n\n    .dataframe tbody tr th {\n        vertical-align: top;\n    }\n\n    .dataframe thead th {\n        text-align: right;\n    }\n</style>\n<table border=\"1\" class=\"dataframe\">\n  <thead>\n    <tr style=\"text-align: right;\">\n      <th></th>\n      <th>filename</th>\n      <th>unprocessed_code</th>\n      <th>project</th>\n    </tr>\n  </thead>\n  <tbody>\n  </tbody>\n</table>\n</div>"
     },
     "metadata": {}
    },
    {
     "output_type": "stream",
     "name": "stdout",
     "text": [
      "org.apache.commons.collections4.functors.prototypefactory.java\n"
     ]
    },
    {
     "output_type": "display_data",
     "data": {
      "text/plain": "Empty DataFrame\nColumns: [filename, unprocessed_code, project]\nIndex: []",
      "text/html": "<div>\n<style scoped>\n    .dataframe tbody tr th:only-of-type {\n        vertical-align: middle;\n    }\n\n    .dataframe tbody tr th {\n        vertical-align: top;\n    }\n\n    .dataframe thead th {\n        text-align: right;\n    }\n</style>\n<table border=\"1\" class=\"dataframe\">\n  <thead>\n    <tr style=\"text-align: right;\">\n      <th></th>\n      <th>filename</th>\n      <th>unprocessed_code</th>\n      <th>project</th>\n    </tr>\n  </thead>\n  <tbody>\n  </tbody>\n</table>\n</div>"
     },
     "metadata": {}
    },
    {
     "output_type": "stream",
     "name": "stdout",
     "text": [
      "org.apache.commons.collections4.functors.package-info.java\n"
     ]
    },
    {
     "output_type": "display_data",
     "data": {
      "text/plain": "Empty DataFrame\nColumns: [filename, unprocessed_code, project]\nIndex: []",
      "text/html": "<div>\n<style scoped>\n    .dataframe tbody tr th:only-of-type {\n        vertical-align: middle;\n    }\n\n    .dataframe tbody tr th {\n        vertical-align: top;\n    }\n\n    .dataframe thead th {\n        text-align: right;\n    }\n</style>\n<table border=\"1\" class=\"dataframe\">\n  <thead>\n    <tr style=\"text-align: right;\">\n      <th></th>\n      <th>filename</th>\n      <th>unprocessed_code</th>\n      <th>project</th>\n    </tr>\n  </thead>\n  <tbody>\n  </tbody>\n</table>\n</div>"
     },
     "metadata": {}
    },
    {
     "output_type": "stream",
     "name": "stdout",
     "text": [
      "org.apache.commons.collections4.functors.instantiatetransformer.java\n"
     ]
    },
    {
     "output_type": "display_data",
     "data": {
      "text/plain": "Empty DataFrame\nColumns: [filename, unprocessed_code, project]\nIndex: []",
      "text/html": "<div>\n<style scoped>\n    .dataframe tbody tr th:only-of-type {\n        vertical-align: middle;\n    }\n\n    .dataframe tbody tr th {\n        vertical-align: top;\n    }\n\n    .dataframe thead th {\n        text-align: right;\n    }\n</style>\n<table border=\"1\" class=\"dataframe\">\n  <thead>\n    <tr style=\"text-align: right;\">\n      <th></th>\n      <th>filename</th>\n      <th>unprocessed_code</th>\n      <th>project</th>\n    </tr>\n  </thead>\n  <tbody>\n  </tbody>\n</table>\n</div>"
     },
     "metadata": {}
    },
    {
     "output_type": "stream",
     "name": "stdout",
     "text": [
      "[-1, -1, -1, -1, -1, -1, -1, -1, -1, -1, -1, -1, -1, -1, -1, -1, -1, -1, -1, -1, -1, -1, -1, -1, -1, -1, -1, -1]\n['org.apache.commons.collections4.trie.abstractpatriciatrie.java'\n 'org.apache.commons.collections4.trie.patriciatrietest.java']\norg.apache.commons.collections4.trie.abstractpatriciatrie.java\n"
     ]
    },
    {
     "output_type": "display_data",
     "data": {
      "text/plain": "Empty DataFrame\nColumns: [filename, unprocessed_code, project]\nIndex: []",
      "text/html": "<div>\n<style scoped>\n    .dataframe tbody tr th:only-of-type {\n        vertical-align: middle;\n    }\n\n    .dataframe tbody tr th {\n        vertical-align: top;\n    }\n\n    .dataframe thead th {\n        text-align: right;\n    }\n</style>\n<table border=\"1\" class=\"dataframe\">\n  <thead>\n    <tr style=\"text-align: right;\">\n      <th></th>\n      <th>filename</th>\n      <th>unprocessed_code</th>\n      <th>project</th>\n    </tr>\n  </thead>\n  <tbody>\n  </tbody>\n</table>\n</div>"
     },
     "metadata": {}
    },
    {
     "output_type": "stream",
     "name": "stdout",
     "text": [
      "org.apache.commons.collections4.trie.patriciatrietest.java\n"
     ]
    },
    {
     "output_type": "display_data",
     "data": {
      "text/plain": "Empty DataFrame\nColumns: [filename, unprocessed_code, project]\nIndex: []",
      "text/html": "<div>\n<style scoped>\n    .dataframe tbody tr th:only-of-type {\n        vertical-align: middle;\n    }\n\n    .dataframe tbody tr th {\n        vertical-align: top;\n    }\n\n    .dataframe thead th {\n        text-align: right;\n    }\n</style>\n<table border=\"1\" class=\"dataframe\">\n  <thead>\n    <tr style=\"text-align: right;\">\n      <th></th>\n      <th>filename</th>\n      <th>unprocessed_code</th>\n      <th>project</th>\n    </tr>\n  </thead>\n  <tbody>\n  </tbody>\n</table>\n</div>"
     },
     "metadata": {}
    },
    {
     "output_type": "stream",
     "name": "stdout",
     "text": [
      "[-1, -1]\n['org.apache.commons.collections4.functors.catchandrethrowclosure.java']\norg.apache.commons.collections4.functors.catchandrethrowclosure.java\n"
     ]
    },
    {
     "output_type": "display_data",
     "data": {
      "text/plain": "Empty DataFrame\nColumns: [filename, unprocessed_code, project]\nIndex: []",
      "text/html": "<div>\n<style scoped>\n    .dataframe tbody tr th:only-of-type {\n        vertical-align: middle;\n    }\n\n    .dataframe tbody tr th {\n        vertical-align: top;\n    }\n\n    .dataframe thead th {\n        text-align: right;\n    }\n</style>\n<table border=\"1\" class=\"dataframe\">\n  <thead>\n    <tr style=\"text-align: right;\">\n      <th></th>\n      <th>filename</th>\n      <th>unprocessed_code</th>\n      <th>project</th>\n    </tr>\n  </thead>\n  <tbody>\n  </tbody>\n</table>\n</div>"
     },
     "metadata": {}
    },
    {
     "output_type": "stream",
     "name": "stdout",
     "text": [
      "[-1]\n[[233, 436], [292, 22], [303, 288, 15], [233, 436], [27], [303, 288, 15], [303, 288, 15], [303, 288, 15], [223], [303, 288, 15], [-1, -1], [303, 288, 15], [387, 178], [169, 385, 108], [235, 221, 228, 223, 437, 438, 234, 431, 441, 238], [36], [303, 288, 15], [152, 24], [57], [15], [36], [303, 33], [261], [261], [77], [15], [206], [303, 288, 15], [303, 288, 15], [303, 288, 15], [223], [223], [303, 33], [215, 420], [33], [431, 228], [292, 22], [203, 409], [215, 420], [242, 446], [325, 313, 71, 58], [240], [215, 420], [292, 22], [36], [432, 461, 100, 229, 354], [350, 96, 273], [242, 446], [303, 288, 15], [113, -1, 16], [-1, -1, -1, 100, 260], [-1, -1, -1, 215], [-1, -1], [323, 51, 470, 12, 70, 69, 217, 33, 349, 103, 471, 268, 94, 422, 15, 2, 267, 357, 324], [-1], [-1, -1, -1, -1, -1, -1], [-1], [-1, -1, -1, -1], [-1, -1], [-1, -1], [303, 288, 15], [-1, -1], [-1, -1], [-1, -1, -1], [-1, -1], [-1, -1, -1], [-1, -1], [-1], [-1], [-1, -1], [-1], [-1], [-1], [-1], [-1, -1, -1, -1, -1, -1, -1, -1, -1, -1], [-1, -1], [-1, -1, -1, -1], [-1], [-1, -1, -1, -1, -1, -1, -1, -1, -1, -1, -1, -1, -1, -1, -1], [-1], [-1, -1, 261, -1], [-1, -1, -1, 215], [-1, -1], [-1], [-1, -1], [-1, -1, -1, -1, -1, -1, -1, -1, -1, -1, -1, -1, -1, -1, -1, -1, -1, -1, -1, -1, -1, -1, -1, -1, -1, -1, -1, -1, -1, -1, -1, -1, -1, -1, -1, -1, -1, -1, -1, -1, -1, -1, -1, -1, -1, -1, -1, -1, -1, -1, -1, -1, -1, -1, -1, -1, -1, -1, -1, -1, -1, -1, -1, -1, -1, -1, -1, -1, -1, -1, -1, -1, -1, -1, -1, -1, -1, -1, -1, -1, -1, -1, -1, -1, -1, -1, -1, -1, -1, -1, -1, -1, -1, -1, -1, -1, -1, -1, -1, -1, -1, -1, -1, -1, -1, -1, -1, -1, -1, -1, -1, -1, -1, -1, -1, -1, -1, -1, -1, -1, -1, -1, -1, -1, -1, -1, -1, -1, -1, -1, -1, -1, -1, -1, -1, -1, -1, -1, -1, -1, -1, -1, -1, -1, -1, -1, -1, -1, -1, -1, -1, -1, -1, -1, -1, -1, -1, -1, -1, -1, -1, -1, -1, -1, -1, -1, -1, -1, -1, -1, -1, -1, -1], [-1, -1], [-1], [-1, -1, -1, -1, -1, -1, -1, -1, -1, -1, -1, -1, -1, -1, -1, -1, -1, -1, -1, -1, -1, -1, -1, -1, -1, -1, -1, -1], [-1, -1, -1, -1, -1, -1, -1, -1, -1, -1, -1, -1, -1, -1, -1, -1, -1, -1, -1, -1, -1, -1, -1, -1, -1, -1, -1, -1], [-1, -1], [-1]]\n328\n"
     ]
    }
   ],
   "source": [
    "src = sc_grouped_df.get_group(\"COLLECTIONS\")\n",
    "bug = bg_grouped_df.get_group(\"COLLECTIONS\")\n",
    "count = 0\n",
    "fix_list = list()\n",
    "for fixes in bug[\"fix\"]:\n",
    "    print(fixes)\n",
    "    fix_sub=list()\n",
    "    for fix in fixes:\n",
    "        print(fix)\n",
    "        df = src[src[\"filename\"].str.match(fix)]\n",
    "        display(df)\n",
    "        try:\n",
    "            print(df.index[0])\n",
    "            fix_sub.append(df.index[0])\n",
    "        except:\n",
    "            count += 1\n",
    "            fix_sub.append(-1)\n",
    "    print(fix_sub)\n",
    "    fix_list.append(fix_sub)\n",
    "print(fix_list)\n",
    "print(count) # 328 missing\n",
    "# this is a list of the indexes of the file where the fix was located\n"
   ]
  },
  {
   "cell_type": "code",
   "execution_count": null,
   "metadata": {},
   "outputs": [],
   "source": []
  }
 ],
 "metadata": {
  "kernelspec": {
   "display_name": "Python 3",
   "language": "python",
   "name": "python3"
  },
  "language_info": {
   "codemirror_mode": {
    "name": "ipython",
    "version": 3
   },
   "file_extension": ".py",
   "mimetype": "text/x-python",
   "name": "python",
   "nbconvert_exporter": "python",
   "pygments_lexer": "ipython3",
   "version": "3.8.3-final"
  }
 },
 "nbformat": 4,
 "nbformat_minor": 4
}