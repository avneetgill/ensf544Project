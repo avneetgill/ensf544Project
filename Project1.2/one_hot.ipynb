{
 "cells": [
  {
   "cell_type": "code",
   "execution_count": null,
   "metadata": {},
   "outputs": [],
   "source": [
    "import pandas as pd\n",
    "import numpy as np\n",
    "import matplotlib.pyplot as plt\n",
    "from sklearn.model_selection import train_test_split\n",
    "\n",
    "white_path = \"wine-white.csv\"\n",
    "red_path = \"wine-red.csv\"\n",
    "\n",
    "red_whine = pd.read_csv(red_path)\n",
    "white_whine = pd.read_csv(white_path)\n",
    "\n",
    "white_whine['label'] = 'default'\n",
    "red_whine['label'] = 'default'\n"
   ]
  },
  {
   "cell_type": "code",
   "execution_count": null,
   "metadata": {},
   "outputs": [],
   "source": [
    "def labelWhine(threshhold, whine_type, data): # function labels the white as being good or bad based on the threshhold value provided\n",
    "    for index, row in data.iterrows():\n",
    "        quality = row['quality']\n",
    "        if quality<threshhold: \n",
    "            data.at[index,'label'] = \"bad \" + whine_type\n",
    "        else:\n",
    "            data.at[index,'label'] = \"good \" + whine_type\n",
    "            \n",
    "    return data\n",
    "\n",
    "\n",
    "red_whine = labelWhine(6, \"red\", red_whine)  #labeling the whine as being good or bad for both white and red whites\n",
    "white_whine = labelWhine(6, \"white\",white_whine)     \n",
    "\n",
    "whine = pd.concat([red_whine,white_whine], ignore_index=True) # combining the red and white whine dataset after labeling \n",
    "\n",
    "\n",
    "            \n",
    "whine"
   ]
  },
  {
   "cell_type": "code",
   "execution_count": null,
   "metadata": {},
   "outputs": [],
   "source": [
    "dummies = pd.get_dummies(whine.label) # getting dummy values for one hot encoding\n",
    "dummies"
   ]
  },
  {
   "cell_type": "code",
   "execution_count": null,
   "metadata": {},
   "outputs": [],
   "source": [
    "merged = pd.concat([whine,dummies], axis = 'columns') # merging the \"dummies\" column with the whine dataset\n",
    "merged"
   ]
  }
 ],
 "metadata": {
  "kernelspec": {
   "display_name": "Python 3",
   "language": "python",
   "name": "python3"
  },
  "language_info": {
   "codemirror_mode": {
    "name": "ipython",
    "version": 3
   },
   "file_extension": ".py",
   "mimetype": "text/x-python",
   "name": "python",
   "nbconvert_exporter": "python",
   "pygments_lexer": "ipython3",
   "version": "3.7.6"
  }
 },
 "nbformat": 4,
 "nbformat_minor": 4
}
