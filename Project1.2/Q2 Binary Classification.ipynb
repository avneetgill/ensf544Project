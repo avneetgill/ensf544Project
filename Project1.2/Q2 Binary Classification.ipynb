{
 "cells": [
  {
   "cell_type": "markdown",
   "metadata": {},
   "source": [
    "# Question 2: Classifying wines as red and white\n",
    "\n",
    "In this section we will attempt to build, train and test 4 different models for classifying wines as either red or white. We will also take a look at how normalizing our data affects the performance of each of these models. The four models we will look at are:\n",
    "- Logistic Regression (using `liblinear` solver)\n",
    "- K neighbours (using `KNeighborsClassifier`)\n",
    "- Linear SVM (using `svm.SVC` with `kernel=linear`)\n",
    "- Combined Model of the above (using `votingClassifier`)\n",
    "After comparing the performance of these models with the original and normalized data, we will perform dimension reduction with `pca` and re-evaluate the models.\n",
    "By the end of our analysis we will be able to answer which model is best suited for the original, normalized and reduced dimension data. "
   ]
  },
  {
   "cell_type": "markdown",
   "metadata": {},
   "source": [
    "## Importing and reading data from svc"
   ]
  },
  {
   "cell_type": "code",
   "execution_count": 56,
   "metadata": {},
   "outputs": [
    {
     "name": "stdout",
     "output_type": "stream",
     "text": [
      "(1599, 13)\n",
      "(4898, 13)\n"
     ]
    },
    {
     "data": {
      "text/html": [
       "<div>\n",
       "<style scoped>\n",
       "    .dataframe tbody tr th:only-of-type {\n",
       "        vertical-align: middle;\n",
       "    }\n",
       "\n",
       "    .dataframe tbody tr th {\n",
       "        vertical-align: top;\n",
       "    }\n",
       "\n",
       "    .dataframe thead th {\n",
       "        text-align: right;\n",
       "    }\n",
       "</style>\n",
       "<table border=\"1\" class=\"dataframe\">\n",
       "  <thead>\n",
       "    <tr style=\"text-align: right;\">\n",
       "      <th></th>\n",
       "      <th>fixed acidity</th>\n",
       "      <th>volatile acidity</th>\n",
       "      <th>citric acid</th>\n",
       "      <th>residual sugar</th>\n",
       "      <th>chlorides</th>\n",
       "      <th>free sulfur dioxide</th>\n",
       "      <th>total sulfur dioxide</th>\n",
       "      <th>density</th>\n",
       "      <th>pH</th>\n",
       "      <th>sulphates</th>\n",
       "      <th>alcohol</th>\n",
       "      <th>quality</th>\n",
       "      <th>type</th>\n",
       "    </tr>\n",
       "  </thead>\n",
       "  <tbody>\n",
       "    <tr>\n",
       "      <th>0</th>\n",
       "      <td>7.4</td>\n",
       "      <td>0.70</td>\n",
       "      <td>0.00</td>\n",
       "      <td>1.9</td>\n",
       "      <td>0.076</td>\n",
       "      <td>11.0</td>\n",
       "      <td>34.0</td>\n",
       "      <td>0.99780</td>\n",
       "      <td>3.51</td>\n",
       "      <td>0.56</td>\n",
       "      <td>9.4</td>\n",
       "      <td>5</td>\n",
       "      <td>white</td>\n",
       "    </tr>\n",
       "    <tr>\n",
       "      <th>1</th>\n",
       "      <td>7.8</td>\n",
       "      <td>0.88</td>\n",
       "      <td>0.00</td>\n",
       "      <td>2.6</td>\n",
       "      <td>0.098</td>\n",
       "      <td>25.0</td>\n",
       "      <td>67.0</td>\n",
       "      <td>0.99680</td>\n",
       "      <td>3.20</td>\n",
       "      <td>0.68</td>\n",
       "      <td>9.8</td>\n",
       "      <td>5</td>\n",
       "      <td>white</td>\n",
       "    </tr>\n",
       "    <tr>\n",
       "      <th>2</th>\n",
       "      <td>7.8</td>\n",
       "      <td>0.76</td>\n",
       "      <td>0.04</td>\n",
       "      <td>2.3</td>\n",
       "      <td>0.092</td>\n",
       "      <td>15.0</td>\n",
       "      <td>54.0</td>\n",
       "      <td>0.99700</td>\n",
       "      <td>3.26</td>\n",
       "      <td>0.65</td>\n",
       "      <td>9.8</td>\n",
       "      <td>5</td>\n",
       "      <td>white</td>\n",
       "    </tr>\n",
       "    <tr>\n",
       "      <th>3</th>\n",
       "      <td>11.2</td>\n",
       "      <td>0.28</td>\n",
       "      <td>0.56</td>\n",
       "      <td>1.9</td>\n",
       "      <td>0.075</td>\n",
       "      <td>17.0</td>\n",
       "      <td>60.0</td>\n",
       "      <td>0.99800</td>\n",
       "      <td>3.16</td>\n",
       "      <td>0.58</td>\n",
       "      <td>9.8</td>\n",
       "      <td>6</td>\n",
       "      <td>white</td>\n",
       "    </tr>\n",
       "    <tr>\n",
       "      <th>4</th>\n",
       "      <td>7.4</td>\n",
       "      <td>0.70</td>\n",
       "      <td>0.00</td>\n",
       "      <td>1.9</td>\n",
       "      <td>0.076</td>\n",
       "      <td>11.0</td>\n",
       "      <td>34.0</td>\n",
       "      <td>0.99780</td>\n",
       "      <td>3.51</td>\n",
       "      <td>0.56</td>\n",
       "      <td>9.4</td>\n",
       "      <td>5</td>\n",
       "      <td>white</td>\n",
       "    </tr>\n",
       "    <tr>\n",
       "      <th>...</th>\n",
       "      <td>...</td>\n",
       "      <td>...</td>\n",
       "      <td>...</td>\n",
       "      <td>...</td>\n",
       "      <td>...</td>\n",
       "      <td>...</td>\n",
       "      <td>...</td>\n",
       "      <td>...</td>\n",
       "      <td>...</td>\n",
       "      <td>...</td>\n",
       "      <td>...</td>\n",
       "      <td>...</td>\n",
       "      <td>...</td>\n",
       "    </tr>\n",
       "    <tr>\n",
       "      <th>6492</th>\n",
       "      <td>6.2</td>\n",
       "      <td>0.21</td>\n",
       "      <td>0.29</td>\n",
       "      <td>1.6</td>\n",
       "      <td>0.039</td>\n",
       "      <td>24.0</td>\n",
       "      <td>92.0</td>\n",
       "      <td>0.99114</td>\n",
       "      <td>3.27</td>\n",
       "      <td>0.50</td>\n",
       "      <td>11.2</td>\n",
       "      <td>6</td>\n",
       "      <td>red</td>\n",
       "    </tr>\n",
       "    <tr>\n",
       "      <th>6493</th>\n",
       "      <td>6.6</td>\n",
       "      <td>0.32</td>\n",
       "      <td>0.36</td>\n",
       "      <td>8.0</td>\n",
       "      <td>0.047</td>\n",
       "      <td>57.0</td>\n",
       "      <td>168.0</td>\n",
       "      <td>0.99490</td>\n",
       "      <td>3.15</td>\n",
       "      <td>0.46</td>\n",
       "      <td>9.6</td>\n",
       "      <td>5</td>\n",
       "      <td>red</td>\n",
       "    </tr>\n",
       "    <tr>\n",
       "      <th>6494</th>\n",
       "      <td>6.5</td>\n",
       "      <td>0.24</td>\n",
       "      <td>0.19</td>\n",
       "      <td>1.2</td>\n",
       "      <td>0.041</td>\n",
       "      <td>30.0</td>\n",
       "      <td>111.0</td>\n",
       "      <td>0.99254</td>\n",
       "      <td>2.99</td>\n",
       "      <td>0.46</td>\n",
       "      <td>9.4</td>\n",
       "      <td>6</td>\n",
       "      <td>red</td>\n",
       "    </tr>\n",
       "    <tr>\n",
       "      <th>6495</th>\n",
       "      <td>5.5</td>\n",
       "      <td>0.29</td>\n",
       "      <td>0.30</td>\n",
       "      <td>1.1</td>\n",
       "      <td>0.022</td>\n",
       "      <td>20.0</td>\n",
       "      <td>110.0</td>\n",
       "      <td>0.98869</td>\n",
       "      <td>3.34</td>\n",
       "      <td>0.38</td>\n",
       "      <td>12.8</td>\n",
       "      <td>7</td>\n",
       "      <td>red</td>\n",
       "    </tr>\n",
       "    <tr>\n",
       "      <th>6496</th>\n",
       "      <td>6.0</td>\n",
       "      <td>0.21</td>\n",
       "      <td>0.38</td>\n",
       "      <td>0.8</td>\n",
       "      <td>0.020</td>\n",
       "      <td>22.0</td>\n",
       "      <td>98.0</td>\n",
       "      <td>0.98941</td>\n",
       "      <td>3.26</td>\n",
       "      <td>0.32</td>\n",
       "      <td>11.8</td>\n",
       "      <td>6</td>\n",
       "      <td>red</td>\n",
       "    </tr>\n",
       "  </tbody>\n",
       "</table>\n",
       "<p>6497 rows × 13 columns</p>\n",
       "</div>"
      ],
      "text/plain": [
       "      fixed acidity  volatile acidity  citric acid  residual sugar  chlorides  \\\n",
       "0               7.4              0.70         0.00             1.9      0.076   \n",
       "1               7.8              0.88         0.00             2.6      0.098   \n",
       "2               7.8              0.76         0.04             2.3      0.092   \n",
       "3              11.2              0.28         0.56             1.9      0.075   \n",
       "4               7.4              0.70         0.00             1.9      0.076   \n",
       "...             ...               ...          ...             ...        ...   \n",
       "6492            6.2              0.21         0.29             1.6      0.039   \n",
       "6493            6.6              0.32         0.36             8.0      0.047   \n",
       "6494            6.5              0.24         0.19             1.2      0.041   \n",
       "6495            5.5              0.29         0.30             1.1      0.022   \n",
       "6496            6.0              0.21         0.38             0.8      0.020   \n",
       "\n",
       "      free sulfur dioxide  total sulfur dioxide  density    pH  sulphates  \\\n",
       "0                    11.0                  34.0  0.99780  3.51       0.56   \n",
       "1                    25.0                  67.0  0.99680  3.20       0.68   \n",
       "2                    15.0                  54.0  0.99700  3.26       0.65   \n",
       "3                    17.0                  60.0  0.99800  3.16       0.58   \n",
       "4                    11.0                  34.0  0.99780  3.51       0.56   \n",
       "...                   ...                   ...      ...   ...        ...   \n",
       "6492                 24.0                  92.0  0.99114  3.27       0.50   \n",
       "6493                 57.0                 168.0  0.99490  3.15       0.46   \n",
       "6494                 30.0                 111.0  0.99254  2.99       0.46   \n",
       "6495                 20.0                 110.0  0.98869  3.34       0.38   \n",
       "6496                 22.0                  98.0  0.98941  3.26       0.32   \n",
       "\n",
       "      alcohol  quality   type  \n",
       "0         9.4        5  white  \n",
       "1         9.8        5  white  \n",
       "2         9.8        5  white  \n",
       "3         9.8        6  white  \n",
       "4         9.4        5  white  \n",
       "...       ...      ...    ...  \n",
       "6492     11.2        6    red  \n",
       "6493      9.6        5    red  \n",
       "6494      9.4        6    red  \n",
       "6495     12.8        7    red  \n",
       "6496     11.8        6    red  \n",
       "\n",
       "[6497 rows x 13 columns]"
      ]
     },
     "execution_count": 56,
     "metadata": {},
     "output_type": "execute_result"
    }
   ],
   "source": [
    "import pandas as pd\n",
    "import numpy as np\n",
    "import matplotlib.pyplot as plt\n",
    "from sklearn.model_selection import train_test_split\n",
    "from sklearn.linear_model import LinearRegression, Ridge, Lasso\n",
    "white_path = \"wine-white.csv\"\n",
    "red_path = \"wine-red.csv\"\n",
    "\n",
    "def import_merge_df(file_name1, file_name2):\n",
    "    #white wines\n",
    "    df1 = pd.read_csv(file_name1)\n",
    "    df1['type']='white'\n",
    "    #red wines\n",
    "    df2 = pd.read_csv(file_name2)\n",
    "    df2['type']='red'\n",
    "    print(df1.shape)\n",
    "    print(df2.shape)\n",
    "    # merge the dataframes \n",
    "    df = pd.concat([df1, df2], ignore_index=True)\n",
    "    return df\n",
    "\n",
    "\n",
    "df = import_merge_df(red_path, white_path)\n",
    "df"
   ]
  },
  {
   "cell_type": "markdown",
   "metadata": {},
   "source": [
    "## Splitting data into features and labels\n",
    "\n",
    "The 'type' of the wine is the label in this question, and the rest are the features."
   ]
  },
  {
   "cell_type": "code",
   "execution_count": 57,
   "metadata": {},
   "outputs": [
    {
     "name": "stdout",
     "output_type": "stream",
     "text": [
      "(6497, 12) (6497,)\n"
     ]
    }
   ],
   "source": [
    "features = df.drop('type',1)\n",
    "labels = df['type']\n",
    "\n",
    "print(features.shape, labels.shape) "
   ]
  },
  {
   "cell_type": "markdown",
   "metadata": {},
   "source": [
    "## Finding best KNN \n",
    "\n",
    "Before we compare different models we need to narrow down which number of neighbours for `KNN` yields the highest train and test score. We will look at the weighted train test accuracies for all odd `k`'s in the range of `k` = 1 to `k` = 25.\n",
    "\n"
   ]
  },
  {
   "cell_type": "code",
   "execution_count": 58,
   "metadata": {},
   "outputs": [
    {
     "data": {
      "image/png": "[encoded data removed]",
      "text/plain": [
       "<Figure size 432x288 with 1 Axes>"
      ]
     },
     "metadata": {
      "needs_background": "light"
     },
     "output_type": "display_data"
    }
   ],
   "source": [
    "from sklearn.model_selection import train_test_split\n",
    "from sklearn.neighbors import KNeighborsClassifier\n",
    "\n",
    "#Fixed seed for all different Ks\n",
    "seed = 5026\n",
    "x_train, x_test, y_train, y_test = train_test_split(features, labels, test_size=0.25, random_state=seed)\n",
    "\n",
    "def test_knn(k_range, X_train, X_test, y_train, y_test, **knn_params):\n",
    "#     knn_tmp = pd.DataFrame()\n",
    "    knn_list = []\n",
    "    for k in k_range:\n",
    "        knn = KNeighborsClassifier(n_neighbors=k,**knn_params)\n",
    "        knn.fit(X_train, y_train)\n",
    "        knn_score_train = knn.score(X_train, y_train)\n",
    "        knn_score_test = knn.score(X_test, y_test)\n",
    "        \n",
    "        values = (k,knn_score_train,knn_score_test)\n",
    "        knn_list.append(values)\n",
    "    \n",
    "    \n",
    "    knn_tmp = pd.DataFrame(knn_list, columns =['k', 'train_score', 'test_score']).set_index('k')\n",
    "    return knn_tmp\n",
    "\n",
    "\n",
    "weights={'weights':'distance'}\n",
    "knn_score_weighted = test_knn(range(3,26,2), x_train, x_test, y_train, y_test, **weights)\n",
    "\n",
    "ax = knn_score_weighted.plot()\n",
    "ax.legend([\"weighted knn train accuracy\", \"weighted knn test accuracy\",\"lr score\"]);"
   ]
  },
  {
   "cell_type": "code",
   "execution_count": 59,
   "metadata": {},
   "outputs": [
    {
     "name": "stdout",
     "output_type": "stream",
     "text": [
      "11\n"
     ]
    }
   ],
   "source": [
    "bestK = knn_score_weighted['test_score'].idxmax()\n",
    "print(bestK)"
   ]
  },
  {
   "cell_type": "markdown",
   "metadata": {},
   "source": [
    "As we can see from above the `k` with the highest test accuracy is `k` = 11. We can now compare different models to find the model best fitted for predicted the type of wine."
   ]
  },
  {
   "cell_type": "markdown",
   "metadata": {},
   "source": [
    "## Finding the best classifiers \n",
    "\n",
    "To accurately compare the performance of different models the models need to be trained and tested on the same data sets, we will achieve this by using a fixed random seed. We will loop over 30 seeds to get an average score for each of the models. \n",
    "\n",
    "The different models we are testing are \n",
    "- Logistic Regression (using `liblinear` solver)\n",
    "- K neighbours (using `KNeighborsClassifier`)\n",
    "- Linear SVM (using `svm.SVC` with `kernel=linear`)"
   ]
  },
  {
   "cell_type": "code",
   "execution_count": 60,
   "metadata": {},
   "outputs": [
    {
     "data": {
      "text/plain": [
       "<matplotlib.axes._subplots.AxesSubplot at 0x7fc85b9ce4f0>"
      ]
     },
     "execution_count": 60,
     "metadata": {},
     "output_type": "execute_result"
    },
    {
     "data": {
      "image/png": "[encoded data removed]",
      "text/plain": [
       "<Figure size 432x288 with 1 Axes>"
      ]
     },
     "metadata": {
      "needs_background": "light"
     },
     "output_type": "display_data"
    }
   ],
   "source": [
    "from sklearn.model_selection import train_test_split\n",
    "from sklearn.linear_model import LogisticRegression\n",
    "from sklearn.neighbors import KNeighborsClassifier\n",
    "from sklearn import svm\n",
    "\n",
    "scores = {name: [] for name in ('SVM', 'LR', 'KNN')}\n",
    "\n",
    "for seed in range(5000,5031):\n",
    "    x_train, x_test, y_train, y_test = train_test_split(features, labels, test_size=0.25, random_state=seed)\n",
    "   \n",
    "    lsvc = svm.SVC(kernel='linear').fit(x_train, y_train)\n",
    "    logisticRegr = LogisticRegression(max_iter=10000,solver = 'liblinear').fit(x_train, y_train)\n",
    "    knn = KNeighborsClassifier(n_neighbors=bestK,**weights).fit(x_train, y_train)\n",
    "\n",
    "    \n",
    "    scores['SVM'].append(lsvc.score(x_test,y_test))\n",
    "    scores['LR'].append(logisticRegr.score(x_test,y_test))\n",
    "    scores['KNN'].append(knn.score(x_test,y_test))\n",
    "    \n",
    "\n",
    "df = pd.DataFrame(scores)\n",
    "df.boxplot()"
   ]
  },
  {
   "cell_type": "markdown",
   "metadata": {},
   "source": [
    "From the results above the linear svm model seems to yeild the highest test prediction accuracy. However, this may not be the best approach, another way to increase the accuracy is the train multiple models and use an ensemble of them for predictions. "
   ]
  },
  {
   "cell_type": "markdown",
   "metadata": {},
   "source": [
    "## Combined Ensemble Model\n",
    "\n",
    "In this section we will train  `linear svm`, `logistic regression` and `kneighbours` models and create a combined model of the three. The combined model will use a voting classifier to decide between the three models."
   ]
  },
  {
   "cell_type": "code",
   "execution_count": 61,
   "metadata": {},
   "outputs": [],
   "source": [
    "from sklearn.ensemble import VotingClassifier\n",
    "\n",
    "#create and return trained models\n",
    "def create_models(x_train, y_train, k):\n",
    "    models = []\n",
    "    \n",
    "    weights={'weights':'distance'}\n",
    "    lsvc = svm.SVC(kernel='linear').fit(x_train, y_train)\n",
    "    logisticRegr = LogisticRegression(max_iter=10000,solver = 'liblinear').fit(x_train, y_train)\n",
    "    knn = KNeighborsClassifier(n_neighbors=k,**weights).fit(x_train, y_train)\n",
    "    \n",
    "    models.append(lsvc)\n",
    "    models.append(logisticRegr)\n",
    "    models.append(knn)\n",
    "    \n",
    "    return models\n",
    "\n",
    "models = create_models(x_train, y_train, bestK)"
   ]
  },
  {
   "cell_type": "code",
   "execution_count": 62,
   "metadata": {},
   "outputs": [],
   "source": [
    "from scipy.stats import mode\n",
    "\n",
    "#function used to predict for combined model\n",
    "def predict(models, X):\n",
    "    predictions = []\n",
    "    for model in models:\n",
    "        predictions.append(model.predict(X))\n",
    "        result = mode(predictions)[0][0]\n",
    "    return result"
   ]
  },
  {
   "cell_type": "code",
   "execution_count": 63,
   "metadata": {
    "scrolled": true
   },
   "outputs": [
    {
     "data": {
      "text/plain": [
       "<matplotlib.axes._subplots.AxesSubplot at 0x7fc85bfdff10>"
      ]
     },
     "execution_count": 63,
     "metadata": {},
     "output_type": "execute_result"
    },
    {
     "data": {
      "image/png": "[encoded data removed]",
      "text/plain": [
       "<Figure size 432x288 with 1 Axes>"
      ]
     },
     "metadata": {
      "needs_background": "light"
     },
     "output_type": "display_data"
    }
   ],
   "source": [
    "from sklearn.metrics import accuracy_score\n",
    "\n",
    "scores = {name: [] for name in ('SVM', 'LR', 'KNN', 'Combined')}\n",
    "\n",
    "for seed in range(5000,5031):\n",
    "    x_train, x_test, y_train, y_test = train_test_split(features, labels, test_size=0.25, random_state=seed)\n",
    "    \n",
    "    model_list = create_models(x_train, y_train, bestK)\n",
    "    combined_model = predict(model_list, x_test)\n",
    "    \n",
    "    scores['SVM'].append(model_list[0].score(x_test,y_test))\n",
    "    scores['LR'].append(model_list[1].score(x_test,y_test))\n",
    "    scores['KNN'].append(model_list[2].score(x_test,y_test))\n",
    "    scores['Combined'].append(accuracy_score(y_test,combined_model))\n",
    "\n",
    "df = pd.DataFrame(scores)\n",
    "df.boxplot()\n",
    "\n"
   ]
  },
  {
   "cell_type": "markdown",
   "metadata": {},
   "source": [
    "The graph below shows the mean scores for each of the models. Similar to the boxplot above, the `svm.SVC` model has the highest score."
   ]
  },
  {
   "cell_type": "code",
   "execution_count": 32,
   "metadata": {},
   "outputs": [
    {
     "data": {
      "text/plain": [
       "<matplotlib.axes._subplots.AxesSubplot at 0x7fc875f1df10>"
      ]
     },
     "execution_count": 32,
     "metadata": {},
     "output_type": "execute_result"
    },
    {
     "data": {
      "image/png": "[encoded data removed]",
      "text/plain": [
       "<Figure size 432x288 with 1 Axes>"
      ]
     },
     "metadata": {
      "needs_background": "light"
     },
     "output_type": "display_data"
    }
   ],
   "source": [
    "df.mean().plot.bar(ylim=(0.95,1.0))"
   ]
  },
  {
   "cell_type": "markdown",
   "metadata": {},
   "source": [
    "We can see from above that the `svm.SVC` model remains as the model with the highest test scores, therefor this model is best suited to predict the wine type (red or white) based off of the features in our data set."
   ]
  },
  {
   "cell_type": "markdown",
   "metadata": {},
   "source": [
    "## Normalizing data \n",
    "\n",
    "Normalizing data can be beneficial for multiple alogorithms, particulary ones that deal with distances and magnitudes. This means that normalizing should affect our KNN and SVM model scores. Below we will repeat the steps above but with normalized data. "
   ]
  },
  {
   "cell_type": "code",
   "execution_count": 33,
   "metadata": {},
   "outputs": [
    {
     "data": {
      "image/png": "[encoded data removed]",
      "text/plain": [
       "<Figure size 432x288 with 1 Axes>"
      ]
     },
     "metadata": {
      "needs_background": "light"
     },
     "output_type": "display_data"
    }
   ],
   "source": [
    "from sklearn.preprocessing import normalize\n",
    "\n",
    "features_normalized = normalize(features, axis=1)\n",
    "\n",
    "#same seed we evaluated all ks on above (without normalized data)\n",
    "seed = 5026\n",
    "x_train, x_test, y_train, y_test = train_test_split(features_normalized, labels, test_size=0.25, random_state=seed)\n",
    "\n",
    "weights={'weights':'distance'}\n",
    "knn_score_weighted = test_knn(range(3,26,2), x_train, x_test, y_train, y_test, **weights)\n",
    "\n",
    "ax = knn_score_weighted.plot()\n",
    "ax.legend([\"weighted knn train accuracy\", \"weighted knn test accuracy\",\"lr score\"]);"
   ]
  },
  {
   "cell_type": "code",
   "execution_count": 34,
   "metadata": {},
   "outputs": [
    {
     "name": "stdout",
     "output_type": "stream",
     "text": [
      "9\n"
     ]
    }
   ],
   "source": [
    "postNormalizationBestK = knn_score_weighted['test_score'].idxmax()\n",
    "print(postNormalizationBestK)"
   ]
  },
  {
   "cell_type": "markdown",
   "metadata": {},
   "source": [
    "After normalizing the data, the ideal number of neighbours to take into account is no longer `11`, but `9`."
   ]
  },
  {
   "cell_type": "code",
   "execution_count": 53,
   "metadata": {},
   "outputs": [
    {
     "data": {
      "text/plain": [
       "<matplotlib.axes._subplots.AxesSubplot at 0x7fc85ad6ebb0>"
      ]
     },
     "execution_count": 53,
     "metadata": {},
     "output_type": "execute_result"
    },
    {
     "data": {
      "image/png": "[encoded data removed]",
      "text/plain": [
       "<Figure size 432x288 with 1 Axes>"
      ]
     },
     "metadata": {
      "needs_background": "light"
     },
     "output_type": "display_data"
    }
   ],
   "source": [
    "scores_normalized = {name: [] for name in ('SVM', 'LR', 'KNN', 'Combined')}\n",
    "\n",
    "for seed in range(5000,5031):\n",
    "    x_train, x_test, y_train, y_test = train_test_split(features_normalized, labels, test_size=0.25, random_state=seed)\n",
    "    \n",
    "    #pass in updated k\n",
    "    model_list = create_models(x_train, y_train, postNormalizationBestK)\n",
    "    combined_model = predict(model_list, x_test)\n",
    "    \n",
    "    scores_normalized['SVM'].append(model_list[0].score(x_test,y_test))\n",
    "    scores_normalized['LR'].append(model_list[1].score(x_test,y_test))\n",
    "    scores_normalized['KNN'].append(model_list[2].score(x_test,y_test))\n",
    "    scores_normalized['Combined'].append(accuracy_score(y_test,combined_model))\n",
    "\n",
    "\n",
    "df_normalized = pd.DataFrame(scores_normalized)\n",
    "df_normalized.boxplot()\n"
   ]
  },
  {
   "cell_type": "markdown",
   "metadata": {},
   "source": [
    "After normalizing the data, we notice that the performance of the models changes significantly. The plot below compares the normalized model performances to those we saw before normalizing."
   ]
  },
  {
   "cell_type": "code",
   "execution_count": 54,
   "metadata": {},
   "outputs": [
    {
     "data": {
      "text/plain": [
       "array([[<matplotlib.axes._subplots.AxesSubplot object at 0x7fc85b5f15b0>,\n",
       "        <matplotlib.axes._subplots.AxesSubplot object at 0x7fc85b6e58e0>],\n",
       "       [<matplotlib.axes._subplots.AxesSubplot object at 0x7fc85b7088b0>,\n",
       "        <matplotlib.axes._subplots.AxesSubplot object at 0x7fc85b621760>]],\n",
       "      dtype=object)"
      ]
     },
     "execution_count": 54,
     "metadata": {},
     "output_type": "execute_result"
    },
    {
     "data": {
      "image/png": "[encoded data removed]",
      "text/plain": [
       "<Figure size 432x288 with 4 Axes>"
      ]
     },
     "metadata": {
      "needs_background": "light"
     },
     "output_type": "display_data"
    }
   ],
   "source": [
    "df_normalized['data_type'] = \"normalized\"\n",
    "\n",
    "df['data_type'] = \"regular\"\n",
    "\n",
    "df_merged = pd.concat([df_normalized, df], ignore_index=True)\n",
    "\n",
    "df_merged.boxplot(by='data_type')"
   ]
  },
  {
   "cell_type": "markdown",
   "metadata": {},
   "source": [
    "As we can see the only model who's performance improved after normalizing is the `KNN` model. This can be attributed to the fact that `KNN` depends on the distances between neighbours. Based off the normalized data, the `KNN` model yields the highest test score accuracy making it the best model to solve this problem. \n"
   ]
  },
  {
   "cell_type": "markdown",
   "metadata": {},
   "source": [
    "# Results\n",
    "\n",
    "The best model for each case is outlined below:\n",
    "- Regular Data:  Linear SVM (using `svm.SVC` with `kernel=linear`)\n",
    "- Normalized Data: K neighbours (using `KNeighborsClassifier`)\\\n",
    "- Dimension Reduced Data: K neighbours (using `KNeighborsClassifier`)"
   ]
  }
 ],
 "metadata": {
  "kernelspec": {
   "display_name": "Python 3",
   "language": "python",
   "name": "python3"
  },
  "language_info": {
   "codemirror_mode": {
    "name": "ipython",
    "version": 3
   },
   "file_extension": ".py",
   "mimetype": "text/x-python",
   "name": "python",
   "nbconvert_exporter": "python",
   "pygments_lexer": "ipython3",
   "version": "3.8.3"
  }
 },
 "nbformat": 4,
 "nbformat_minor": 4
}
