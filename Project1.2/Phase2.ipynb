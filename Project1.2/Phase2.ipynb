{
 "cells": [
  {
   "cell_type": "markdown",
   "metadata": {},
   "source": [
    "# ENSF 544 Data Science for Software Engineers\n",
    "\n",
    "## Phase 2\n",
    "\n",
    "#### By: Kyle Friedt, Erslan Salman, Kelvin Tran and Avneet Gill\n",
    "\n",
    "In this phase of the project we will attempt to solve three different questions about wine data using regression, classification, and clustering approaches. We will be repeating the approaches above after performing a dimension reduction using `pca`. The three questions we are answering are:\n",
    "1. Predicting wine qualities using regression\n",
    "2. Binary classification of wines as red and white using classification \n",
    "3. Prediciting if a wine falls into `good-white`, `bad-white`, `good-red` and `bad-red` using clustering\n",
    "\n",
    "Before solving these questions, we did an exploration of the data to understand any differences or trends that may exist in our data set."
   ]
  },
  {
   "cell_type": "markdown",
   "metadata": {},
   "source": [
    "## Exploration\n",
    "\n",
    "Here we will explore our two datasets (red and white wines) individually before we combine them."
   ]
  },
  {
   "cell_type": "code",
   "execution_count": 1,
   "metadata": {},
   "outputs": [
    {
     "name": "stdout",
     "output_type": "stream",
     "text": [
      "White Wine Data:\n"
     ]
    },
    {
     "data": {
      "text/html": [
       "<div>\n",
       "<style scoped>\n",
       "    .dataframe tbody tr th:only-of-type {\n",
       "        vertical-align: middle;\n",
       "    }\n",
       "\n",
       "    .dataframe tbody tr th {\n",
       "        vertical-align: top;\n",
       "    }\n",
       "\n",
       "    .dataframe thead th {\n",
       "        text-align: right;\n",
       "    }\n",
       "</style>\n",
       "<table border=\"1\" class=\"dataframe\">\n",
       "  <thead>\n",
       "    <tr style=\"text-align: right;\">\n",
       "      <th></th>\n",
       "      <th>fixed acidity</th>\n",
       "      <th>volatile acidity</th>\n",
       "      <th>citric acid</th>\n",
       "      <th>residual sugar</th>\n",
       "      <th>chlorides</th>\n",
       "      <th>free sulfur dioxide</th>\n",
       "      <th>total sulfur dioxide</th>\n",
       "      <th>density</th>\n",
       "      <th>pH</th>\n",
       "      <th>sulphates</th>\n",
       "      <th>alcohol</th>\n",
       "      <th>quality</th>\n",
       "    </tr>\n",
       "  </thead>\n",
       "  <tbody>\n",
       "    <tr>\n",
       "      <th>0</th>\n",
       "      <td>7.0</td>\n",
       "      <td>0.27</td>\n",
       "      <td>0.36</td>\n",
       "      <td>20.7</td>\n",
       "      <td>0.045</td>\n",
       "      <td>45.0</td>\n",
       "      <td>170.0</td>\n",
       "      <td>1.00100</td>\n",
       "      <td>3.00</td>\n",
       "      <td>0.45</td>\n",
       "      <td>8.8</td>\n",
       "      <td>6</td>\n",
       "    </tr>\n",
       "    <tr>\n",
       "      <th>1</th>\n",
       "      <td>6.3</td>\n",
       "      <td>0.30</td>\n",
       "      <td>0.34</td>\n",
       "      <td>1.6</td>\n",
       "      <td>0.049</td>\n",
       "      <td>14.0</td>\n",
       "      <td>132.0</td>\n",
       "      <td>0.99400</td>\n",
       "      <td>3.30</td>\n",
       "      <td>0.49</td>\n",
       "      <td>9.5</td>\n",
       "      <td>6</td>\n",
       "    </tr>\n",
       "    <tr>\n",
       "      <th>2</th>\n",
       "      <td>8.1</td>\n",
       "      <td>0.28</td>\n",
       "      <td>0.40</td>\n",
       "      <td>6.9</td>\n",
       "      <td>0.050</td>\n",
       "      <td>30.0</td>\n",
       "      <td>97.0</td>\n",
       "      <td>0.99510</td>\n",
       "      <td>3.26</td>\n",
       "      <td>0.44</td>\n",
       "      <td>10.1</td>\n",
       "      <td>6</td>\n",
       "    </tr>\n",
       "    <tr>\n",
       "      <th>3</th>\n",
       "      <td>7.2</td>\n",
       "      <td>0.23</td>\n",
       "      <td>0.32</td>\n",
       "      <td>8.5</td>\n",
       "      <td>0.058</td>\n",
       "      <td>47.0</td>\n",
       "      <td>186.0</td>\n",
       "      <td>0.99560</td>\n",
       "      <td>3.19</td>\n",
       "      <td>0.40</td>\n",
       "      <td>9.9</td>\n",
       "      <td>6</td>\n",
       "    </tr>\n",
       "    <tr>\n",
       "      <th>4</th>\n",
       "      <td>7.2</td>\n",
       "      <td>0.23</td>\n",
       "      <td>0.32</td>\n",
       "      <td>8.5</td>\n",
       "      <td>0.058</td>\n",
       "      <td>47.0</td>\n",
       "      <td>186.0</td>\n",
       "      <td>0.99560</td>\n",
       "      <td>3.19</td>\n",
       "      <td>0.40</td>\n",
       "      <td>9.9</td>\n",
       "      <td>6</td>\n",
       "    </tr>\n",
       "    <tr>\n",
       "      <th>...</th>\n",
       "      <td>...</td>\n",
       "      <td>...</td>\n",
       "      <td>...</td>\n",
       "      <td>...</td>\n",
       "      <td>...</td>\n",
       "      <td>...</td>\n",
       "      <td>...</td>\n",
       "      <td>...</td>\n",
       "      <td>...</td>\n",
       "      <td>...</td>\n",
       "      <td>...</td>\n",
       "      <td>...</td>\n",
       "    </tr>\n",
       "    <tr>\n",
       "      <th>4893</th>\n",
       "      <td>6.2</td>\n",
       "      <td>0.21</td>\n",
       "      <td>0.29</td>\n",
       "      <td>1.6</td>\n",
       "      <td>0.039</td>\n",
       "      <td>24.0</td>\n",
       "      <td>92.0</td>\n",
       "      <td>0.99114</td>\n",
       "      <td>3.27</td>\n",
       "      <td>0.50</td>\n",
       "      <td>11.2</td>\n",
       "      <td>6</td>\n",
       "    </tr>\n",
       "    <tr>\n",
       "      <th>4894</th>\n",
       "      <td>6.6</td>\n",
       "      <td>0.32</td>\n",
       "      <td>0.36</td>\n",
       "      <td>8.0</td>\n",
       "      <td>0.047</td>\n",
       "      <td>57.0</td>\n",
       "      <td>168.0</td>\n",
       "      <td>0.99490</td>\n",
       "      <td>3.15</td>\n",
       "      <td>0.46</td>\n",
       "      <td>9.6</td>\n",
       "      <td>5</td>\n",
       "    </tr>\n",
       "    <tr>\n",
       "      <th>4895</th>\n",
       "      <td>6.5</td>\n",
       "      <td>0.24</td>\n",
       "      <td>0.19</td>\n",
       "      <td>1.2</td>\n",
       "      <td>0.041</td>\n",
       "      <td>30.0</td>\n",
       "      <td>111.0</td>\n",
       "      <td>0.99254</td>\n",
       "      <td>2.99</td>\n",
       "      <td>0.46</td>\n",
       "      <td>9.4</td>\n",
       "      <td>6</td>\n",
       "    </tr>\n",
       "    <tr>\n",
       "      <th>4896</th>\n",
       "      <td>5.5</td>\n",
       "      <td>0.29</td>\n",
       "      <td>0.30</td>\n",
       "      <td>1.1</td>\n",
       "      <td>0.022</td>\n",
       "      <td>20.0</td>\n",
       "      <td>110.0</td>\n",
       "      <td>0.98869</td>\n",
       "      <td>3.34</td>\n",
       "      <td>0.38</td>\n",
       "      <td>12.8</td>\n",
       "      <td>7</td>\n",
       "    </tr>\n",
       "    <tr>\n",
       "      <th>4897</th>\n",
       "      <td>6.0</td>\n",
       "      <td>0.21</td>\n",
       "      <td>0.38</td>\n",
       "      <td>0.8</td>\n",
       "      <td>0.020</td>\n",
       "      <td>22.0</td>\n",
       "      <td>98.0</td>\n",
       "      <td>0.98941</td>\n",
       "      <td>3.26</td>\n",
       "      <td>0.32</td>\n",
       "      <td>11.8</td>\n",
       "      <td>6</td>\n",
       "    </tr>\n",
       "  </tbody>\n",
       "</table>\n",
       "<p>4898 rows × 12 columns</p>\n",
       "</div>"
      ],
      "text/plain": [
       "      fixed acidity  volatile acidity  citric acid  residual sugar  chlorides  \\\n",
       "0               7.0              0.27         0.36            20.7      0.045   \n",
       "1               6.3              0.30         0.34             1.6      0.049   \n",
       "2               8.1              0.28         0.40             6.9      0.050   \n",
       "3               7.2              0.23         0.32             8.5      0.058   \n",
       "4               7.2              0.23         0.32             8.5      0.058   \n",
       "...             ...               ...          ...             ...        ...   \n",
       "4893            6.2              0.21         0.29             1.6      0.039   \n",
       "4894            6.6              0.32         0.36             8.0      0.047   \n",
       "4895            6.5              0.24         0.19             1.2      0.041   \n",
       "4896            5.5              0.29         0.30             1.1      0.022   \n",
       "4897            6.0              0.21         0.38             0.8      0.020   \n",
       "\n",
       "      free sulfur dioxide  total sulfur dioxide  density    pH  sulphates  \\\n",
       "0                    45.0                 170.0  1.00100  3.00       0.45   \n",
       "1                    14.0                 132.0  0.99400  3.30       0.49   \n",
       "2                    30.0                  97.0  0.99510  3.26       0.44   \n",
       "3                    47.0                 186.0  0.99560  3.19       0.40   \n",
       "4                    47.0                 186.0  0.99560  3.19       0.40   \n",
       "...                   ...                   ...      ...   ...        ...   \n",
       "4893                 24.0                  92.0  0.99114  3.27       0.50   \n",
       "4894                 57.0                 168.0  0.99490  3.15       0.46   \n",
       "4895                 30.0                 111.0  0.99254  2.99       0.46   \n",
       "4896                 20.0                 110.0  0.98869  3.34       0.38   \n",
       "4897                 22.0                  98.0  0.98941  3.26       0.32   \n",
       "\n",
       "      alcohol  quality  \n",
       "0         8.8        6  \n",
       "1         9.5        6  \n",
       "2        10.1        6  \n",
       "3         9.9        6  \n",
       "4         9.9        6  \n",
       "...       ...      ...  \n",
       "4893     11.2        6  \n",
       "4894      9.6        5  \n",
       "4895      9.4        6  \n",
       "4896     12.8        7  \n",
       "4897     11.8        6  \n",
       "\n",
       "[4898 rows x 12 columns]"
      ]
     },
     "execution_count": 1,
     "metadata": {},
     "output_type": "execute_result"
    }
   ],
   "source": [
    "import pandas as pd\n",
    "import numpy as np\n",
    "import matplotlib.pyplot as plt\n",
    "\n",
    "white_path = \"wine-white.csv\"\n",
    "red_path = \"wine-red.csv\"\n",
    "\n",
    "\n",
    "red_df = pd.read_csv(red_path)\n",
    "white_df = pd.read_csv(white_path)\n",
    "print(\"White Wine Data:\")\n",
    "white_df"
   ]
  },
  {
   "cell_type": "code",
   "execution_count": 2,
   "metadata": {},
   "outputs": [
    {
     "name": "stdout",
     "output_type": "stream",
     "text": [
      "Red Wine Data:\n"
     ]
    },
    {
     "data": {
      "text/html": [
       "<div>\n",
       "<style scoped>\n",
       "    .dataframe tbody tr th:only-of-type {\n",
       "        vertical-align: middle;\n",
       "    }\n",
       "\n",
       "    .dataframe tbody tr th {\n",
       "        vertical-align: top;\n",
       "    }\n",
       "\n",
       "    .dataframe thead th {\n",
       "        text-align: right;\n",
       "    }\n",
       "</style>\n",
       "<table border=\"1\" class=\"dataframe\">\n",
       "  <thead>\n",
       "    <tr style=\"text-align: right;\">\n",
       "      <th></th>\n",
       "      <th>fixed acidity</th>\n",
       "      <th>volatile acidity</th>\n",
       "      <th>citric acid</th>\n",
       "      <th>residual sugar</th>\n",
       "      <th>chlorides</th>\n",
       "      <th>free sulfur dioxide</th>\n",
       "      <th>total sulfur dioxide</th>\n",
       "      <th>density</th>\n",
       "      <th>pH</th>\n",
       "      <th>sulphates</th>\n",
       "      <th>alcohol</th>\n",
       "      <th>quality</th>\n",
       "    </tr>\n",
       "  </thead>\n",
       "  <tbody>\n",
       "    <tr>\n",
       "      <th>0</th>\n",
       "      <td>7.4</td>\n",
       "      <td>0.700</td>\n",
       "      <td>0.00</td>\n",
       "      <td>1.9</td>\n",
       "      <td>0.076</td>\n",
       "      <td>11.0</td>\n",
       "      <td>34.0</td>\n",
       "      <td>0.99780</td>\n",
       "      <td>3.51</td>\n",
       "      <td>0.56</td>\n",
       "      <td>9.4</td>\n",
       "      <td>5</td>\n",
       "    </tr>\n",
       "    <tr>\n",
       "      <th>1</th>\n",
       "      <td>7.8</td>\n",
       "      <td>0.880</td>\n",
       "      <td>0.00</td>\n",
       "      <td>2.6</td>\n",
       "      <td>0.098</td>\n",
       "      <td>25.0</td>\n",
       "      <td>67.0</td>\n",
       "      <td>0.99680</td>\n",
       "      <td>3.20</td>\n",
       "      <td>0.68</td>\n",
       "      <td>9.8</td>\n",
       "      <td>5</td>\n",
       "    </tr>\n",
       "    <tr>\n",
       "      <th>2</th>\n",
       "      <td>7.8</td>\n",
       "      <td>0.760</td>\n",
       "      <td>0.04</td>\n",
       "      <td>2.3</td>\n",
       "      <td>0.092</td>\n",
       "      <td>15.0</td>\n",
       "      <td>54.0</td>\n",
       "      <td>0.99700</td>\n",
       "      <td>3.26</td>\n",
       "      <td>0.65</td>\n",
       "      <td>9.8</td>\n",
       "      <td>5</td>\n",
       "    </tr>\n",
       "    <tr>\n",
       "      <th>3</th>\n",
       "      <td>11.2</td>\n",
       "      <td>0.280</td>\n",
       "      <td>0.56</td>\n",
       "      <td>1.9</td>\n",
       "      <td>0.075</td>\n",
       "      <td>17.0</td>\n",
       "      <td>60.0</td>\n",
       "      <td>0.99800</td>\n",
       "      <td>3.16</td>\n",
       "      <td>0.58</td>\n",
       "      <td>9.8</td>\n",
       "      <td>6</td>\n",
       "    </tr>\n",
       "    <tr>\n",
       "      <th>4</th>\n",
       "      <td>7.4</td>\n",
       "      <td>0.700</td>\n",
       "      <td>0.00</td>\n",
       "      <td>1.9</td>\n",
       "      <td>0.076</td>\n",
       "      <td>11.0</td>\n",
       "      <td>34.0</td>\n",
       "      <td>0.99780</td>\n",
       "      <td>3.51</td>\n",
       "      <td>0.56</td>\n",
       "      <td>9.4</td>\n",
       "      <td>5</td>\n",
       "    </tr>\n",
       "    <tr>\n",
       "      <th>...</th>\n",
       "      <td>...</td>\n",
       "      <td>...</td>\n",
       "      <td>...</td>\n",
       "      <td>...</td>\n",
       "      <td>...</td>\n",
       "      <td>...</td>\n",
       "      <td>...</td>\n",
       "      <td>...</td>\n",
       "      <td>...</td>\n",
       "      <td>...</td>\n",
       "      <td>...</td>\n",
       "      <td>...</td>\n",
       "    </tr>\n",
       "    <tr>\n",
       "      <th>1594</th>\n",
       "      <td>6.2</td>\n",
       "      <td>0.600</td>\n",
       "      <td>0.08</td>\n",
       "      <td>2.0</td>\n",
       "      <td>0.090</td>\n",
       "      <td>32.0</td>\n",
       "      <td>44.0</td>\n",
       "      <td>0.99490</td>\n",
       "      <td>3.45</td>\n",
       "      <td>0.58</td>\n",
       "      <td>10.5</td>\n",
       "      <td>5</td>\n",
       "    </tr>\n",
       "    <tr>\n",
       "      <th>1595</th>\n",
       "      <td>5.9</td>\n",
       "      <td>0.550</td>\n",
       "      <td>0.10</td>\n",
       "      <td>2.2</td>\n",
       "      <td>0.062</td>\n",
       "      <td>39.0</td>\n",
       "      <td>51.0</td>\n",
       "      <td>0.99512</td>\n",
       "      <td>3.52</td>\n",
       "      <td>0.76</td>\n",
       "      <td>11.2</td>\n",
       "      <td>6</td>\n",
       "    </tr>\n",
       "    <tr>\n",
       "      <th>1596</th>\n",
       "      <td>6.3</td>\n",
       "      <td>0.510</td>\n",
       "      <td>0.13</td>\n",
       "      <td>2.3</td>\n",
       "      <td>0.076</td>\n",
       "      <td>29.0</td>\n",
       "      <td>40.0</td>\n",
       "      <td>0.99574</td>\n",
       "      <td>3.42</td>\n",
       "      <td>0.75</td>\n",
       "      <td>11.0</td>\n",
       "      <td>6</td>\n",
       "    </tr>\n",
       "    <tr>\n",
       "      <th>1597</th>\n",
       "      <td>5.9</td>\n",
       "      <td>0.645</td>\n",
       "      <td>0.12</td>\n",
       "      <td>2.0</td>\n",
       "      <td>0.075</td>\n",
       "      <td>32.0</td>\n",
       "      <td>44.0</td>\n",
       "      <td>0.99547</td>\n",
       "      <td>3.57</td>\n",
       "      <td>0.71</td>\n",
       "      <td>10.2</td>\n",
       "      <td>5</td>\n",
       "    </tr>\n",
       "    <tr>\n",
       "      <th>1598</th>\n",
       "      <td>6.0</td>\n",
       "      <td>0.310</td>\n",
       "      <td>0.47</td>\n",
       "      <td>3.6</td>\n",
       "      <td>0.067</td>\n",
       "      <td>18.0</td>\n",
       "      <td>42.0</td>\n",
       "      <td>0.99549</td>\n",
       "      <td>3.39</td>\n",
       "      <td>0.66</td>\n",
       "      <td>11.0</td>\n",
       "      <td>6</td>\n",
       "    </tr>\n",
       "  </tbody>\n",
       "</table>\n",
       "<p>1599 rows × 12 columns</p>\n",
       "</div>"
      ],
      "text/plain": [
       "      fixed acidity  volatile acidity  citric acid  residual sugar  chlorides  \\\n",
       "0               7.4             0.700         0.00             1.9      0.076   \n",
       "1               7.8             0.880         0.00             2.6      0.098   \n",
       "2               7.8             0.760         0.04             2.3      0.092   \n",
       "3              11.2             0.280         0.56             1.9      0.075   \n",
       "4               7.4             0.700         0.00             1.9      0.076   \n",
       "...             ...               ...          ...             ...        ...   \n",
       "1594            6.2             0.600         0.08             2.0      0.090   \n",
       "1595            5.9             0.550         0.10             2.2      0.062   \n",
       "1596            6.3             0.510         0.13             2.3      0.076   \n",
       "1597            5.9             0.645         0.12             2.0      0.075   \n",
       "1598            6.0             0.310         0.47             3.6      0.067   \n",
       "\n",
       "      free sulfur dioxide  total sulfur dioxide  density    pH  sulphates  \\\n",
       "0                    11.0                  34.0  0.99780  3.51       0.56   \n",
       "1                    25.0                  67.0  0.99680  3.20       0.68   \n",
       "2                    15.0                  54.0  0.99700  3.26       0.65   \n",
       "3                    17.0                  60.0  0.99800  3.16       0.58   \n",
       "4                    11.0                  34.0  0.99780  3.51       0.56   \n",
       "...                   ...                   ...      ...   ...        ...   \n",
       "1594                 32.0                  44.0  0.99490  3.45       0.58   \n",
       "1595                 39.0                  51.0  0.99512  3.52       0.76   \n",
       "1596                 29.0                  40.0  0.99574  3.42       0.75   \n",
       "1597                 32.0                  44.0  0.99547  3.57       0.71   \n",
       "1598                 18.0                  42.0  0.99549  3.39       0.66   \n",
       "\n",
       "      alcohol  quality  \n",
       "0         9.4        5  \n",
       "1         9.8        5  \n",
       "2         9.8        5  \n",
       "3         9.8        6  \n",
       "4         9.4        5  \n",
       "...       ...      ...  \n",
       "1594     10.5        5  \n",
       "1595     11.2        6  \n",
       "1596     11.0        6  \n",
       "1597     10.2        5  \n",
       "1598     11.0        6  \n",
       "\n",
       "[1599 rows x 12 columns]"
      ]
     },
     "execution_count": 2,
     "metadata": {},
     "output_type": "execute_result"
    }
   ],
   "source": [
    "print(\"Red Wine Data:\")\n",
    "red_df"
   ]
  },
  {
   "cell_type": "code",
   "execution_count": 3,
   "metadata": {},
   "outputs": [
    {
     "data": {
      "image/png": "[encoded data removed]",
      "text/plain": [
       "<Figure size 432x288 with 3 Axes>"
      ]
     },
     "metadata": {
      "needs_background": "light"
     },
     "output_type": "display_data"
    },
    {
     "data": {
      "image/png": "[encoded data removed]",
      "text/plain": [
       "<Figure size 432x288 with 3 Axes>"
      ]
     },
     "metadata": {
      "needs_background": "light"
     },
     "output_type": "display_data"
    },
    {
     "data": {
      "image/png": "[encoded data removed]",
      "text/plain": [
       "<Figure size 432x288 with 3 Axes>"
      ]
     },
     "metadata": {
      "needs_background": "light"
     },
     "output_type": "display_data"
    },
    {
     "data": {
      "image/png": "[encoded data removed]",
      "text/plain": [
       "<Figure size 432x288 with 3 Axes>"
      ]
     },
     "metadata": {
      "needs_background": "light"
     },
     "output_type": "display_data"
    }
   ],
   "source": [
    "# generate histograms for different parameters\n",
    "\n",
    "num_bins = 20\n",
    "num_hist_cols = 3\n",
    "def gen_data(col_name):\n",
    "    rdata = red_df[col_name].to_numpy()\n",
    "    wdata = white_df[col_name].to_numpy()\n",
    "    return [rdata, wdata]\n",
    "\n",
    "def gen_hist(cols, num_bins):\n",
    "    fig, axes = plt.subplots(nrows=1, ncols=len(cols))\n",
    "    lgnd = ['red', 'white']\n",
    "  \n",
    "    for i in range(len(cols)):\n",
    "        data = gen_data(cols[i])\n",
    "        axes[i].hist(data, num_bins, label = lgnd)\n",
    "        axes[i].set_title(cols[i])\n",
    "        axes[i].legend(loc='upper right')\n",
    "#     fig.figsize = (2,8)  # need to figure out how to make these wider\n",
    "    fig.tight_layout()\n",
    "    plt.show()\n",
    "    \n",
    "# generate the plots three at a time\n",
    "labels = list(red_df.columns)\n",
    "for i in range(0,12,num_hist_cols):\n",
    "    names = labels[i:i+num_hist_cols]\n",
    "    gen_hist(names, num_bins)\n",
    "    \n"
   ]
  },
  {
   "cell_type": "markdown",
   "metadata": {},
   "source": [
    "The graphs above compare different features for both red and white wines. This is usefull information as it provides insight on any trends that may exist in the data, for example we can see that the `total sulfur dioxide` in red and white wines is relatively distinct compares to other features."
   ]
  },
  {
   "cell_type": "code",
   "execution_count": 4,
   "metadata": {},
   "outputs": [
    {
     "data": {
      "image/png": "[encoded data removed]",
      "text/plain": [
       "<Figure size 432x288 with 1 Axes>"
      ]
     },
     "metadata": {
      "needs_background": "light"
     },
     "output_type": "display_data"
    },
    {
     "data": {
      "image/png": "[encoded data removed]",
      "text/plain": [
       "<Figure size 432x288 with 1 Axes>"
      ]
     },
     "metadata": {
      "needs_background": "light"
     },
     "output_type": "display_data"
    },
    {
     "data": {
      "image/png": "[encoded data removed]",
      "text/plain": [
       "<Figure size 432x288 with 1 Axes>"
      ]
     },
     "metadata": {
      "needs_background": "light"
     },
     "output_type": "display_data"
    },
    {
     "data": {
      "image/png": "[encoded data removed]",
      "text/plain": [
       "<Figure size 432x288 with 1 Axes>"
      ]
     },
     "metadata": {
      "needs_background": "light"
     },
     "output_type": "display_data"
    },
    {
     "data": {
      "image/png": "[encoded data removed]",
      "text/plain": [
       "<Figure size 432x288 with 1 Axes>"
      ]
     },
     "metadata": {
      "needs_background": "light"
     },
     "output_type": "display_data"
    },
    {
     "data": {
      "image/png": "[encoded data removed]",
      "text/plain": [
       "<Figure size 432x288 with 1 Axes>"
      ]
     },
     "metadata": {
      "needs_background": "light"
     },
     "output_type": "display_data"
    },
    {
     "data": {
      "image/png": "[encoded data removed]",
      "text/plain": [
       "<Figure size 432x288 with 1 Axes>"
      ]
     },
     "metadata": {
      "needs_background": "light"
     },
     "output_type": "display_data"
    },
    {
     "data": {
      "image/png": "[encoded data removed]",
      "text/plain": [
       "<Figure size 432x288 with 1 Axes>"
      ]
     },
     "metadata": {
      "needs_background": "light"
     },
     "output_type": "display_data"
    },
    {
     "data": {
      "image/png": "[encoded data removed]",
      "text/plain": [
       "<Figure size 432x288 with 1 Axes>"
      ]
     },
     "metadata": {
      "needs_background": "light"
     },
     "output_type": "display_data"
    },
    {
     "data": {
      "image/png": "[encoded data removed]",
      "text/plain": [
       "<Figure size 432x288 with 1 Axes>"
      ]
     },
     "metadata": {
      "needs_background": "light"
     },
     "output_type": "display_data"
    },
    {
     "data": {
      "image/png": "[encoded data removed]",
      "text/plain": [
       "<Figure size 432x288 with 1 Axes>"
      ]
     },
     "metadata": {
      "needs_background": "light"
     },
     "output_type": "display_data"
    }
   ],
   "source": [
    "def gen_boxplot(col_names):\n",
    "    lgnd = ['red', 'white']\n",
    "    # potentially see if you could get two box plotes next to each other \n",
    "    for i in range(len(col_names)):\n",
    "        data = gen_data(col_names[i])\n",
    "        fig = plt.figure(figsize = (6,4))\n",
    "        ax = fig.add_axes([0, 0, 1, 1])\n",
    "        ax.set_title(col_names[i])\n",
    "        bplt = ax.boxplot(data, labels=lgnd)\n",
    "   \n",
    "    plt.show()\n",
    "\n",
    "num_box_col = 1 # change this once you figure out how to get box plots next to each other\n",
    "box_labels = labels[:-1]\n",
    "for i in range(0,12,num_box_col):\n",
    "    names = box_labels[i:i+num_box_col]\n",
    "    gen_boxplot(names)"
   ]
  },
  {
   "cell_type": "markdown",
   "metadata": {},
   "source": [
    "The plots above show the range of values for each of the features for red and white wines. Again this information helps us compare any differences or trends among the two data sets. "
   ]
  },
  {
   "cell_type": "markdown",
   "metadata": {},
   "source": [
    "# Section 1 Question 1\n",
    "## Predicting Wine Qualities Using Regression\n",
    "\n",
    "---------- Insert a bit on what is done in this question (overview) --------\n",
    "\n",
    "### Section 1.1 Reading in and Populating DataFrames"
   ]
  },
  {
   "cell_type": "code",
   "execution_count": 5,
   "metadata": {},
   "outputs": [
    {
     "name": "stdout",
     "output_type": "stream",
     "text": [
      "(1599, 12)\n",
      "(4898, 12)\n"
     ]
    },
    {
     "data": {
      "text/html": [
       "<div>\n",
       "<style scoped>\n",
       "    .dataframe tbody tr th:only-of-type {\n",
       "        vertical-align: middle;\n",
       "    }\n",
       "\n",
       "    .dataframe tbody tr th {\n",
       "        vertical-align: top;\n",
       "    }\n",
       "\n",
       "    .dataframe thead th {\n",
       "        text-align: right;\n",
       "    }\n",
       "</style>\n",
       "<table border=\"1\" class=\"dataframe\">\n",
       "  <thead>\n",
       "    <tr style=\"text-align: right;\">\n",
       "      <th></th>\n",
       "      <th>fixed acidity</th>\n",
       "      <th>volatile acidity</th>\n",
       "      <th>citric acid</th>\n",
       "      <th>residual sugar</th>\n",
       "      <th>chlorides</th>\n",
       "      <th>free sulfur dioxide</th>\n",
       "      <th>total sulfur dioxide</th>\n",
       "      <th>density</th>\n",
       "      <th>pH</th>\n",
       "      <th>sulphates</th>\n",
       "      <th>alcohol</th>\n",
       "      <th>quality</th>\n",
       "    </tr>\n",
       "  </thead>\n",
       "  <tbody>\n",
       "    <tr>\n",
       "      <th>0</th>\n",
       "      <td>7.4</td>\n",
       "      <td>0.70</td>\n",
       "      <td>0.00</td>\n",
       "      <td>1.9</td>\n",
       "      <td>0.076</td>\n",
       "      <td>11.0</td>\n",
       "      <td>34.0</td>\n",
       "      <td>0.99780</td>\n",
       "      <td>3.51</td>\n",
       "      <td>0.56</td>\n",
       "      <td>9.4</td>\n",
       "      <td>5</td>\n",
       "    </tr>\n",
       "    <tr>\n",
       "      <th>1</th>\n",
       "      <td>7.8</td>\n",
       "      <td>0.88</td>\n",
       "      <td>0.00</td>\n",
       "      <td>2.6</td>\n",
       "      <td>0.098</td>\n",
       "      <td>25.0</td>\n",
       "      <td>67.0</td>\n",
       "      <td>0.99680</td>\n",
       "      <td>3.20</td>\n",
       "      <td>0.68</td>\n",
       "      <td>9.8</td>\n",
       "      <td>5</td>\n",
       "    </tr>\n",
       "    <tr>\n",
       "      <th>2</th>\n",
       "      <td>7.8</td>\n",
       "      <td>0.76</td>\n",
       "      <td>0.04</td>\n",
       "      <td>2.3</td>\n",
       "      <td>0.092</td>\n",
       "      <td>15.0</td>\n",
       "      <td>54.0</td>\n",
       "      <td>0.99700</td>\n",
       "      <td>3.26</td>\n",
       "      <td>0.65</td>\n",
       "      <td>9.8</td>\n",
       "      <td>5</td>\n",
       "    </tr>\n",
       "    <tr>\n",
       "      <th>3</th>\n",
       "      <td>11.2</td>\n",
       "      <td>0.28</td>\n",
       "      <td>0.56</td>\n",
       "      <td>1.9</td>\n",
       "      <td>0.075</td>\n",
       "      <td>17.0</td>\n",
       "      <td>60.0</td>\n",
       "      <td>0.99800</td>\n",
       "      <td>3.16</td>\n",
       "      <td>0.58</td>\n",
       "      <td>9.8</td>\n",
       "      <td>6</td>\n",
       "    </tr>\n",
       "    <tr>\n",
       "      <th>4</th>\n",
       "      <td>7.4</td>\n",
       "      <td>0.70</td>\n",
       "      <td>0.00</td>\n",
       "      <td>1.9</td>\n",
       "      <td>0.076</td>\n",
       "      <td>11.0</td>\n",
       "      <td>34.0</td>\n",
       "      <td>0.99780</td>\n",
       "      <td>3.51</td>\n",
       "      <td>0.56</td>\n",
       "      <td>9.4</td>\n",
       "      <td>5</td>\n",
       "    </tr>\n",
       "    <tr>\n",
       "      <th>...</th>\n",
       "      <td>...</td>\n",
       "      <td>...</td>\n",
       "      <td>...</td>\n",
       "      <td>...</td>\n",
       "      <td>...</td>\n",
       "      <td>...</td>\n",
       "      <td>...</td>\n",
       "      <td>...</td>\n",
       "      <td>...</td>\n",
       "      <td>...</td>\n",
       "      <td>...</td>\n",
       "      <td>...</td>\n",
       "    </tr>\n",
       "    <tr>\n",
       "      <th>6492</th>\n",
       "      <td>6.2</td>\n",
       "      <td>0.21</td>\n",
       "      <td>0.29</td>\n",
       "      <td>1.6</td>\n",
       "      <td>0.039</td>\n",
       "      <td>24.0</td>\n",
       "      <td>92.0</td>\n",
       "      <td>0.99114</td>\n",
       "      <td>3.27</td>\n",
       "      <td>0.50</td>\n",
       "      <td>11.2</td>\n",
       "      <td>6</td>\n",
       "    </tr>\n",
       "    <tr>\n",
       "      <th>6493</th>\n",
       "      <td>6.6</td>\n",
       "      <td>0.32</td>\n",
       "      <td>0.36</td>\n",
       "      <td>8.0</td>\n",
       "      <td>0.047</td>\n",
       "      <td>57.0</td>\n",
       "      <td>168.0</td>\n",
       "      <td>0.99490</td>\n",
       "      <td>3.15</td>\n",
       "      <td>0.46</td>\n",
       "      <td>9.6</td>\n",
       "      <td>5</td>\n",
       "    </tr>\n",
       "    <tr>\n",
       "      <th>6494</th>\n",
       "      <td>6.5</td>\n",
       "      <td>0.24</td>\n",
       "      <td>0.19</td>\n",
       "      <td>1.2</td>\n",
       "      <td>0.041</td>\n",
       "      <td>30.0</td>\n",
       "      <td>111.0</td>\n",
       "      <td>0.99254</td>\n",
       "      <td>2.99</td>\n",
       "      <td>0.46</td>\n",
       "      <td>9.4</td>\n",
       "      <td>6</td>\n",
       "    </tr>\n",
       "    <tr>\n",
       "      <th>6495</th>\n",
       "      <td>5.5</td>\n",
       "      <td>0.29</td>\n",
       "      <td>0.30</td>\n",
       "      <td>1.1</td>\n",
       "      <td>0.022</td>\n",
       "      <td>20.0</td>\n",
       "      <td>110.0</td>\n",
       "      <td>0.98869</td>\n",
       "      <td>3.34</td>\n",
       "      <td>0.38</td>\n",
       "      <td>12.8</td>\n",
       "      <td>7</td>\n",
       "    </tr>\n",
       "    <tr>\n",
       "      <th>6496</th>\n",
       "      <td>6.0</td>\n",
       "      <td>0.21</td>\n",
       "      <td>0.38</td>\n",
       "      <td>0.8</td>\n",
       "      <td>0.020</td>\n",
       "      <td>22.0</td>\n",
       "      <td>98.0</td>\n",
       "      <td>0.98941</td>\n",
       "      <td>3.26</td>\n",
       "      <td>0.32</td>\n",
       "      <td>11.8</td>\n",
       "      <td>6</td>\n",
       "    </tr>\n",
       "  </tbody>\n",
       "</table>\n",
       "<p>6497 rows × 12 columns</p>\n",
       "</div>"
      ],
      "text/plain": [
       "      fixed acidity  volatile acidity  citric acid  residual sugar  chlorides  \\\n",
       "0               7.4              0.70         0.00             1.9      0.076   \n",
       "1               7.8              0.88         0.00             2.6      0.098   \n",
       "2               7.8              0.76         0.04             2.3      0.092   \n",
       "3              11.2              0.28         0.56             1.9      0.075   \n",
       "4               7.4              0.70         0.00             1.9      0.076   \n",
       "...             ...               ...          ...             ...        ...   \n",
       "6492            6.2              0.21         0.29             1.6      0.039   \n",
       "6493            6.6              0.32         0.36             8.0      0.047   \n",
       "6494            6.5              0.24         0.19             1.2      0.041   \n",
       "6495            5.5              0.29         0.30             1.1      0.022   \n",
       "6496            6.0              0.21         0.38             0.8      0.020   \n",
       "\n",
       "      free sulfur dioxide  total sulfur dioxide  density    pH  sulphates  \\\n",
       "0                    11.0                  34.0  0.99780  3.51       0.56   \n",
       "1                    25.0                  67.0  0.99680  3.20       0.68   \n",
       "2                    15.0                  54.0  0.99700  3.26       0.65   \n",
       "3                    17.0                  60.0  0.99800  3.16       0.58   \n",
       "4                    11.0                  34.0  0.99780  3.51       0.56   \n",
       "...                   ...                   ...      ...   ...        ...   \n",
       "6492                 24.0                  92.0  0.99114  3.27       0.50   \n",
       "6493                 57.0                 168.0  0.99490  3.15       0.46   \n",
       "6494                 30.0                 111.0  0.99254  2.99       0.46   \n",
       "6495                 20.0                 110.0  0.98869  3.34       0.38   \n",
       "6496                 22.0                  98.0  0.98941  3.26       0.32   \n",
       "\n",
       "      alcohol  quality  \n",
       "0         9.4        5  \n",
       "1         9.8        5  \n",
       "2         9.8        5  \n",
       "3         9.8        6  \n",
       "4         9.4        5  \n",
       "...       ...      ...  \n",
       "6492     11.2        6  \n",
       "6493      9.6        5  \n",
       "6494      9.4        6  \n",
       "6495     12.8        7  \n",
       "6496     11.8        6  \n",
       "\n",
       "[6497 rows x 12 columns]"
      ]
     },
     "execution_count": 5,
     "metadata": {},
     "output_type": "execute_result"
    }
   ],
   "source": [
    "import pandas as pd\n",
    "import numpy as np\n",
    "import matplotlib.pyplot as plt\n",
    "from sklearn.model_selection import train_test_split\n",
    "from sklearn.linear_model import LinearRegression, Ridge, Lasso\n",
    "white_path = \"wine-white.csv\"\n",
    "red_path = \"wine-red.csv\"\n",
    "\n",
    "def import_merge_df(file_name1, file_name2):\n",
    "    df1 = pd.read_csv(file_name1)\n",
    "    df2 = pd.read_csv(file_name2)\n",
    "    print(df1.shape)\n",
    "    print(df2.shape)\n",
    "    # merge the dataframes \n",
    "    df = pd.concat([df1, df2], ignore_index=True)\n",
    "    return df\n",
    "\n",
    "\n",
    "df = import_merge_df(red_path, white_path)\n",
    "df"
   ]
  },
  {
   "cell_type": "markdown",
   "metadata": {},
   "source": [
    "### Section 1.2 Setup data\n",
    "Tested a few seeds to find one where the quality median and mean was similar in the training set and testing set. The median did not give us any meaningful insight into the seed. The range of quality values was small so all of the seeds ended up having the same median. We ended up using the mean to determine which seed we should use."
   ]
  },
  {
   "cell_type": "code",
   "execution_count": 6,
   "metadata": {},
   "outputs": [
    {
     "name": "stdout",
     "output_type": "stream",
     "text": [
      "quality median\n",
      "6.0\n",
      "quality mean\n",
      "5.818377712790519\n",
      "3000\n",
      "train median: 6 , test median: 6 , train mean: 5.825123 , test mean: 5.798154 \n",
      "3001\n",
      "train median: 6 , test median: 6 , train mean: 5.818350 , test mean: 5.818462 \n",
      "3002\n",
      "train median: 6 , test median: 6 , train mean: 5.817118 , test mean: 5.822154 \n",
      "3003\n",
      "train median: 6 , test median: 6 , train mean: 5.821223 , test mean: 5.809846 \n",
      "3004\n",
      "train median: 6 , test median: 6 , train mean: 5.817529 , test mean: 5.820923 \n",
      "3005\n",
      "train median: 6 , test median: 6 , train mean: 5.814450 , test mean: 5.830154 \n",
      "3006\n",
      "train median: 6 , test median: 6 , train mean: 5.821839 , test mean: 5.808000 \n",
      "3007\n",
      "train median: 6 , test median: 6 , train mean: 5.824507 , test mean: 5.800000 \n",
      "3008\n",
      "train median: 6 , test median: 6 , train mean: 5.829844 , test mean: 5.784000 \n",
      "3009\n",
      "train median: 6 , test median: 6 , train mean: 5.812192 , test mean: 5.836923 \n"
     ]
    }
   ],
   "source": [
    "# generate features and labels\n",
    "features = df.drop('quality', 1)\n",
    "labels = df['quality']\n",
    "# The median didn't tell us much about the data set, labels are pretty narrow. \n",
    "print(labels.name+ ' median')\n",
    "print(labels.median())\n",
    "\n",
    "\n",
    "# reported and reviewed the mean as well\n",
    "print(labels.name+ ' mean')\n",
    "print(labels.mean())\n",
    "\n",
    "# optimize seeds so the test and train data has similar mean quality\n",
    "def test_seeds():\n",
    "    test_prop = 0.25\n",
    "#     seed = 23\n",
    "    seeds = range(3000, 3010)\n",
    "    for seed in seeds:\n",
    "        X_train, X_test, y_train, y_test = train_test_split(features, labels, \n",
    "                                                        test_size = test_prop, random_state = seed)\n",
    "        \n",
    "        # change this to median\n",
    "        print(seed)\n",
    "        print('train median: %d , test median: %d , train mean: %f , test mean: %f ' \n",
    "              % (y_train.median(), y_test.median(), y_train.mean(), y_test.mean()))\n",
    "\n",
    "        \n",
    "test_seeds()"
   ]
  },
  {
   "cell_type": "code",
   "execution_count": 7,
   "metadata": {},
   "outputs": [
    {
     "name": "stdout",
     "output_type": "stream",
     "text": [
      "[ 0.   0.1  0.2  0.3  0.4  0.5  0.6  0.7  0.8  0.9  1.   1.1  1.2  1.3\n",
      "  1.4  1.5  1.6  1.7  1.8  1.9  2.   2.1  2.2  2.3  2.4  2.5  2.6  2.7\n",
      "  2.8  2.9  3.   3.1  3.2  3.3  3.4  3.5  3.6  3.7  3.8  3.9  4.   4.1\n",
      "  4.2  4.3  4.4  4.5  4.6  4.7  4.8  4.9  5.   5.1  5.2  5.3  5.4  5.5\n",
      "  5.6  5.7  5.8  5.9  6.   6.1  6.2  6.3  6.4  6.5  6.6  6.7  6.8  6.9\n",
      "  7.   7.1  7.2  7.3  7.4  7.5  7.6  7.7  7.8  7.9  8.   8.1  8.2  8.3\n",
      "  8.4  8.5  8.6  8.7  8.8  8.9  9.   9.1  9.2  9.3  9.4  9.5  9.6  9.7\n",
      "  9.8  9.9 10. ]\n"
     ]
    }
   ],
   "source": [
    "# use 3001 as the seed\n",
    "\n",
    "X_train, X_test, y_train, y_test = train_test_split(features, labels, test_size = 0.25, \n",
    "                                                    random_state = 3001)\n",
    "\n",
    "alphas = np.arange(0.0,10.1,0.1)\n",
    "print(alphas)"
   ]
  },
  {
   "cell_type": "markdown",
   "metadata": {},
   "source": [
    "### Finding ideal number of components and applying PCA"
   ]
  },
  {
   "cell_type": "code",
   "execution_count": 9,
   "metadata": {},
   "outputs": [
    {
     "data": {
      "text/html": [
       "<div>\n",
       "<style scoped>\n",
       "    .dataframe tbody tr th:only-of-type {\n",
       "        vertical-align: middle;\n",
       "    }\n",
       "\n",
       "    .dataframe tbody tr th {\n",
       "        vertical-align: top;\n",
       "    }\n",
       "\n",
       "    .dataframe thead th {\n",
       "        text-align: right;\n",
       "    }\n",
       "</style>\n",
       "<table border=\"1\" class=\"dataframe\">\n",
       "  <thead>\n",
       "    <tr style=\"text-align: right;\">\n",
       "      <th></th>\n",
       "      <th>explained variance</th>\n",
       "    </tr>\n",
       "  </thead>\n",
       "  <tbody>\n",
       "    <tr>\n",
       "      <th>0</th>\n",
       "      <td>0.000000</td>\n",
       "    </tr>\n",
       "    <tr>\n",
       "      <th>1</th>\n",
       "      <td>0.726701</td>\n",
       "    </tr>\n",
       "    <tr>\n",
       "      <th>2</th>\n",
       "      <td>0.944201</td>\n",
       "    </tr>\n",
       "    <tr>\n",
       "      <th>3</th>\n",
       "      <td>0.972817</td>\n",
       "    </tr>\n",
       "    <tr>\n",
       "      <th>4</th>\n",
       "      <td>0.988385</td>\n",
       "    </tr>\n",
       "    <tr>\n",
       "      <th>5</th>\n",
       "      <td>0.998697</td>\n",
       "    </tr>\n",
       "    <tr>\n",
       "      <th>6</th>\n",
       "      <td>0.999593</td>\n",
       "    </tr>\n",
       "    <tr>\n",
       "      <th>7</th>\n",
       "      <td>0.999811</td>\n",
       "    </tr>\n",
       "    <tr>\n",
       "      <th>8</th>\n",
       "      <td>0.999924</td>\n",
       "    </tr>\n",
       "    <tr>\n",
       "      <th>9</th>\n",
       "      <td>0.999987</td>\n",
       "    </tr>\n",
       "    <tr>\n",
       "      <th>10</th>\n",
       "      <td>0.999995</td>\n",
       "    </tr>\n",
       "    <tr>\n",
       "      <th>11</th>\n",
       "      <td>1.000000</td>\n",
       "    </tr>\n",
       "  </tbody>\n",
       "</table>\n",
       "</div>"
      ],
      "text/plain": [
       "    explained variance\n",
       "0             0.000000\n",
       "1             0.726701\n",
       "2             0.944201\n",
       "3             0.972817\n",
       "4             0.988385\n",
       "5             0.998697\n",
       "6             0.999593\n",
       "7             0.999811\n",
       "8             0.999924\n",
       "9             0.999987\n",
       "10            0.999995\n",
       "11            1.000000"
      ]
     },
     "execution_count": 9,
     "metadata": {},
     "output_type": "execute_result"
    },
    {
     "data": {
      "image/png": "[encoded data removed]",
      "text/plain": [
       "<Figure size 432x288 with 1 Axes>"
      ]
     },
     "metadata": {
      "needs_background": "light"
     },
     "output_type": "display_data"
    }
   ],
   "source": [
    "\n",
    "from sklearn.decomposition import PCA\n",
    "from sklearn.preprocessing import normalize\n",
    "#scale data first\n",
    "features_norm = normalize(features)\n",
    "#fixed seed for comparing different n_component numbers\n",
    "seed = 5026\n",
    "pca_X_train, pca_X_test = train_test_split(features_norm, test_size=0.25, random_state=seed)\n",
    "\n",
    "variance={'explained variance':[]}\n",
    "\n",
    "for k in range(0,12):\n",
    "    pca = PCA(n_components=k).fit(pca_X_train)\n",
    "    variance['explained variance'].append(pca.explained_variance_ratio_.sum())\n",
    "\n",
    "df = pd.DataFrame(variance)\n",
    "\n",
    "ax = df.plot.bar(ylim=(0.70,1.001),title=\"Number of components vs their explained variance\")\n",
    "ax.set_xlabel(\"number of components\")\n",
    "ax.set_ylabel(\"total explained variance\")\n",
    "ax.get_legend().remove()\n",
    "\n",
    "df"
   ]
  },
  {
   "cell_type": "markdown",
   "metadata": {},
   "source": [
    "The graph above shows different components and their explained variances. There is no way to get 100% explained variation, however it is possible to get close. In `Jake VanderPlas`'s `Python Data Science Handbook` he states that having anywhere over 90% of the total variance explained is good enough to model the dataset. In our case all of the explained variances for components higher than or equal to 2 have sufficient explained variance. We will initially investigate other values to determine if more than 2 would be useful. \n"
   ]
  },
  {
   "cell_type": "code",
   "execution_count": 10,
   "metadata": {},
   "outputs": [],
   "source": [
    "# Function to run PCA with a model and vary the number of parameters\n",
    "def eval_pca_n(model,n, X_train, X_test, y_train, y_test):\n",
    "    \n",
    "    pca = PCA(n_components=n)\n",
    "    pca.fit(X_train)\n",
    "    X_train = pca.transform(X_train)\n",
    "    X_test = pca.transform(X_test)\n",
    "    model.fit(X_train, y_train)\n",
    "    print(\"Training set score with PCA: %f\" % model.score(X_train, y_train))\n",
    "    print(\"Testing set score with PCA : %f\" % model.score(X_test, y_test))\n",
    "    score_train = lr_pca.score(X_train, y_train)\n",
    "    score_test = lr_pca.score(X_test, y_test)\n",
    "    return score_train, score_test\n",
    "    "
   ]
  },
  {
   "cell_type": "markdown",
   "metadata": {},
   "source": [
    "### Section 1.3 Testing Various Regression Models with Different Alpha Values \n",
    "\n",
    "We will perform the same tests with non scaled, scaled data, and pca data to see how that affects the models."
   ]
  },
  {
   "cell_type": "markdown",
   "metadata": {},
   "source": [
    "### Section 1.3.1 Linear Regression (Non-Scaled)"
   ]
  },
  {
   "cell_type": "markdown",
   "metadata": {},
   "source": [
    "#### Section 1.3.1.1 Linear Regression (Non-Scaled)"
   ]
  },
  {
   "cell_type": "code",
   "execution_count": 12,
   "metadata": {},
   "outputs": [
    {
     "name": "stdout",
     "output_type": "stream",
     "text": [
      "Training set score: 0.297718\n",
      "Testing set score: 0.273965\n",
      "0.2977184292827678\n"
     ]
    }
   ],
   "source": [
    "lr = LinearRegression().fit(X_train, y_train)\n",
    "print(\"Training set score: %f\" % lr.score(X_train, y_train))\n",
    "print(\"Testing set score: %f\" % lr.score(X_test, y_test))\n",
    "lr_score_train = lr.score(X_train, y_train)\n",
    "lr_score_test = lr.score(X_test, y_test)\n",
    "print(lr_score_train)"
   ]
  },
  {
   "cell_type": "markdown",
   "metadata": {},
   "source": [
    "#### Section 1.3.1.2 Linear Regression (Scaled)"
   ]
  },
  {
   "cell_type": "code",
   "execution_count": 13,
   "metadata": {},
   "outputs": [
    {
     "name": "stdout",
     "output_type": "stream",
     "text": [
      "Training set score: 0.297718\n",
      "Testing set score: 0.273965\n",
      "0.2977184292827679\n"
     ]
    }
   ],
   "source": [
    "from sklearn.preprocessing import MinMaxScaler\n",
    "\n",
    "scaler = MinMaxScaler()\n",
    "scaler.fit(X_train)\n",
    "X_train_scaled = scaler.transform(X_train)\n",
    "X_test_scaled = scaler.transform(X_test)\n",
    "\n",
    "sc_lr = LinearRegression().fit(X_train_scaled, y_train)\n",
    "print(\"Training set score: %f\" % sc_lr.score(X_train_scaled, y_train))\n",
    "print(\"Testing set score: %f\" % sc_lr.score(X_test_scaled, y_test))\n",
    "sc_lr_score_train = sc_lr.score(X_train_scaled, y_train)\n",
    "sc_lr_score_test = sc_lr.score(X_test_scaled, y_test)\n",
    "print(sc_lr_score_train)"
   ]
  },
  {
   "cell_type": "code",
   "execution_count": 14,
   "metadata": {},
   "outputs": [
    {
     "name": "stdout",
     "output_type": "stream",
     "text": [
      "Number of Components: 2\n",
      "Training set score with PCA: 0.000118\n",
      "Testing set score with PCA : -0.000035\n",
      "Number of Components: 3\n",
      "Training set score with PCA: 0.000145\n",
      "Testing set score with PCA : -0.000138\n",
      "Number of Components: 4\n",
      "Training set score with PCA: 0.000201\n",
      "Testing set score with PCA : -0.000386\n",
      "Number of Components: 5\n",
      "Training set score with PCA: 0.000202\n",
      "Testing set score with PCA : -0.000387\n",
      "Number of Components: 6\n",
      "Training set score with PCA: 0.000218\n",
      "Testing set score with PCA : -0.000284\n"
     ]
    }
   ],
   "source": [
    "lr_pca = LinearRegression()\n",
    "pca_lr_score_train = None\n",
    "pca_lr_score_test = None\n",
    "for n_components in range(2,7):\n",
    "    print('Number of Components: %d' %n_components)\n",
    "    pca_lr_score_train, pca_lr_score_test = eval_pca_n(lr_pca, n_components, pca_X_train, \n",
    "                                                   pca_X_test, y_train, y_test)"
   ]
  },
  {
   "cell_type": "markdown",
   "metadata": {},
   "source": [
    "- PCA did not show any significant improvements.\n",
    "- Since we are trying to reduce the number of componenets as far as possible, we chose 2 as the number of components to use. "
   ]
  },
  {
   "cell_type": "markdown",
   "metadata": {},
   "source": [
    "#### Section 1.3.1.3 Comparing Scaled vs Non-Scaled Results "
   ]
  },
  {
   "cell_type": "code",
   "execution_count": 15,
   "metadata": {},
   "outputs": [
    {
     "data": {
      "image/png": "[encoded data removed]",
      "text/plain": [
       "<Figure size 1008x432 with 3 Axes>"
      ]
     },
     "metadata": {
      "needs_background": "light"
     },
     "output_type": "display_data"
    }
   ],
   "source": [
    "# figure of scaled and non scaled\n",
    "def plot_lr_data(d1,d2,d3,d4,d5,d6):\n",
    "    \n",
    "    f, ax = plt.subplots(1, 1, figsize = (14,6))\n",
    "    \n",
    "    plt.subplot(131)\n",
    "    plt.axhline(d1, c='b', linestyle='-', label= 'Train')\n",
    "    plt.axhline(d2, c='b', linestyle='--', label= 'Test')\n",
    "    plt.legend(bbox_to_anchor=(1.05, 1), loc='upper right', borderaxespad=0.)\n",
    "    plt.suptitle(\"Linear Regression Results Raw Data and Scaled Data\")\n",
    "    \n",
    "    plt.subplot(132)\n",
    "    plt.axhline(d3, c='g', linestyle='-', label= 'Scaled Train')\n",
    "    plt.axhline(d4, c='g', linestyle='--', label= 'Scaled Test')\n",
    "    plt.legend(bbox_to_anchor=(1.05, 1), loc='upper right', borderaxespad=0.)\n",
    "    \n",
    "    plt.subplot(133)\n",
    "    plt.axhline(d5, c='g', linestyle='-', label= 'PCA Train')\n",
    "    plt.axhline(d6, c='g', linestyle='--', label= 'PCA Test')\n",
    "    plt.legend(bbox_to_anchor=(1.05, 1), loc='upper right', borderaxespad=0.)\n",
    "\n",
    "    plt.show()\n",
    "    \n",
    "plot_lr_data(lr_score_train, lr_score_test, sc_lr_score_train, sc_lr_score_test,pca_lr_score_train,pca_lr_score_test)\n"
   ]
  },
  {
   "cell_type": "markdown",
   "metadata": {},
   "source": [
    "As we can see above scaling had no effect on the linear regression model. Next we will use different regression models and iterate through alpha parameters to find the best result.\n",
    "\n",
    "The alpha parameters are used to help avoid overfitting the data to the training set. This should help improve the accuracy on the testing set."
   ]
  },
  {
   "cell_type": "markdown",
   "metadata": {},
   "source": [
    "### Section 1.3.2 Ridge \n",
    "#### Section 1.3.2.1 Training Using Scaled and Non-Scaled Data"
   ]
  },
  {
   "cell_type": "code",
   "execution_count": 17,
   "metadata": {},
   "outputs": [
    {
     "name": "stdout",
     "output_type": "stream",
     "text": [
      "The best result for Ridge was: 0.2740\n"
     ]
    },
    {
     "data": {
      "text/html": [
       "<div>\n",
       "<style scoped>\n",
       "    .dataframe tbody tr th:only-of-type {\n",
       "        vertical-align: middle;\n",
       "    }\n",
       "\n",
       "    .dataframe tbody tr th {\n",
       "        vertical-align: top;\n",
       "    }\n",
       "\n",
       "    .dataframe thead th {\n",
       "        text-align: right;\n",
       "    }\n",
       "</style>\n",
       "<table border=\"1\" class=\"dataframe\">\n",
       "  <thead>\n",
       "    <tr style=\"text-align: right;\">\n",
       "      <th></th>\n",
       "      <th>Training Score</th>\n",
       "      <th>Test Score</th>\n",
       "      <th>Scaled Training Score</th>\n",
       "      <th>Sclaed Test Score</th>\n",
       "      <th>PCA Training Score</th>\n",
       "      <th>PCA Test Score</th>\n",
       "    </tr>\n",
       "  </thead>\n",
       "  <tbody>\n",
       "    <tr>\n",
       "      <th>0</th>\n",
       "      <td>0.297718</td>\n",
       "      <td>0.273965</td>\n",
       "      <td>0.297718</td>\n",
       "      <td>0.273965</td>\n",
       "      <td>0.000948</td>\n",
       "      <td>-0.001361</td>\n",
       "    </tr>\n",
       "    <tr>\n",
       "      <th>1</th>\n",
       "      <td>0.295254</td>\n",
       "      <td>0.272793</td>\n",
       "      <td>0.297678</td>\n",
       "      <td>0.273980</td>\n",
       "      <td>0.000384</td>\n",
       "      <td>-0.000415</td>\n",
       "    </tr>\n",
       "    <tr>\n",
       "      <th>2</th>\n",
       "      <td>0.295183</td>\n",
       "      <td>0.272747</td>\n",
       "      <td>0.297586</td>\n",
       "      <td>0.273932</td>\n",
       "      <td>0.000307</td>\n",
       "      <td>-0.000365</td>\n",
       "    </tr>\n",
       "    <tr>\n",
       "      <th>3</th>\n",
       "      <td>0.295157</td>\n",
       "      <td>0.272728</td>\n",
       "      <td>0.297472</td>\n",
       "      <td>0.273849</td>\n",
       "      <td>0.000277</td>\n",
       "      <td>-0.000347</td>\n",
       "    </tr>\n",
       "    <tr>\n",
       "      <th>4</th>\n",
       "      <td>0.295141</td>\n",
       "      <td>0.272716</td>\n",
       "      <td>0.297350</td>\n",
       "      <td>0.273749</td>\n",
       "      <td>0.000259</td>\n",
       "      <td>-0.000335</td>\n",
       "    </tr>\n",
       "    <tr>\n",
       "      <th>...</th>\n",
       "      <td>...</td>\n",
       "      <td>...</td>\n",
       "      <td>...</td>\n",
       "      <td>...</td>\n",
       "      <td>...</td>\n",
       "      <td>...</td>\n",
       "    </tr>\n",
       "    <tr>\n",
       "      <th>96</th>\n",
       "      <td>0.294090</td>\n",
       "      <td>0.270189</td>\n",
       "      <td>0.289873</td>\n",
       "      <td>0.264708</td>\n",
       "      <td>0.000159</td>\n",
       "      <td>-0.000098</td>\n",
       "    </tr>\n",
       "    <tr>\n",
       "      <th>97</th>\n",
       "      <td>0.294077</td>\n",
       "      <td>0.270157</td>\n",
       "      <td>0.289787</td>\n",
       "      <td>0.264611</td>\n",
       "      <td>0.000158</td>\n",
       "      <td>-0.000097</td>\n",
       "    </tr>\n",
       "    <tr>\n",
       "      <th>98</th>\n",
       "      <td>0.294063</td>\n",
       "      <td>0.270125</td>\n",
       "      <td>0.289702</td>\n",
       "      <td>0.264515</td>\n",
       "      <td>0.000158</td>\n",
       "      <td>-0.000097</td>\n",
       "    </tr>\n",
       "    <tr>\n",
       "      <th>99</th>\n",
       "      <td>0.294049</td>\n",
       "      <td>0.270093</td>\n",
       "      <td>0.289616</td>\n",
       "      <td>0.264418</td>\n",
       "      <td>0.000158</td>\n",
       "      <td>-0.000096</td>\n",
       "    </tr>\n",
       "    <tr>\n",
       "      <th>100</th>\n",
       "      <td>0.294036</td>\n",
       "      <td>0.270061</td>\n",
       "      <td>0.289530</td>\n",
       "      <td>0.264321</td>\n",
       "      <td>0.000157</td>\n",
       "      <td>-0.000095</td>\n",
       "    </tr>\n",
       "  </tbody>\n",
       "</table>\n",
       "<p>101 rows × 6 columns</p>\n",
       "</div>"
      ],
      "text/plain": [
       "     Training Score  Test Score  Scaled Training Score  Sclaed Test Score  \\\n",
       "0          0.297718    0.273965               0.297718           0.273965   \n",
       "1          0.295254    0.272793               0.297678           0.273980   \n",
       "2          0.295183    0.272747               0.297586           0.273932   \n",
       "3          0.295157    0.272728               0.297472           0.273849   \n",
       "4          0.295141    0.272716               0.297350           0.273749   \n",
       "..              ...         ...                    ...                ...   \n",
       "96         0.294090    0.270189               0.289873           0.264708   \n",
       "97         0.294077    0.270157               0.289787           0.264611   \n",
       "98         0.294063    0.270125               0.289702           0.264515   \n",
       "99         0.294049    0.270093               0.289616           0.264418   \n",
       "100        0.294036    0.270061               0.289530           0.264321   \n",
       "\n",
       "     PCA Training Score  PCA Test Score  \n",
       "0              0.000948       -0.001361  \n",
       "1              0.000384       -0.000415  \n",
       "2              0.000307       -0.000365  \n",
       "3              0.000277       -0.000347  \n",
       "4              0.000259       -0.000335  \n",
       "..                  ...             ...  \n",
       "96             0.000159       -0.000098  \n",
       "97             0.000158       -0.000097  \n",
       "98             0.000158       -0.000097  \n",
       "99             0.000158       -0.000096  \n",
       "100            0.000157       -0.000095  \n",
       "\n",
       "[101 rows x 6 columns]"
      ]
     },
     "execution_count": 17,
     "metadata": {},
     "output_type": "execute_result"
    }
   ],
   "source": [
    "ridge_tr_score = list()\n",
    "ridge_tst_score = list()\n",
    "sc_ridge_tr_score = list()\n",
    "sc_ridge_tst_score = list()\n",
    "ridge_pca_tr_score = list()\n",
    "ridge_pca_tst_score = list()\n",
    "\n",
    "for alpha in alphas:\n",
    "    ridge = Ridge(alpha = alpha).fit(X_train, y_train)\n",
    "    ridge_tr_score.append(ridge.score(X_train, y_train))\n",
    "    ridge_tst_score.append(ridge.score(X_test, y_test))    \n",
    "    ridge = Ridge(alpha = alpha).fit(X_train_scaled, y_train)\n",
    "    sc_ridge_tr_score.append(ridge.score(X_train_scaled, y_train))\n",
    "    sc_ridge_tst_score.append(ridge.score(X_test_scaled, y_test))\n",
    "    ridge = Ridge(alpha = alpha).fit(pca_X_train, y_train)\n",
    "    ridge_pca_tr_score.append(ridge.score(pca_X_train, y_train))    \n",
    "    ridge_pca_tst_score.append(ridge.score(pca_X_test, y_test))\n",
    "\n",
    "    \n",
    "ridge_df = pd.DataFrame()\n",
    "ridge_df['Training Score'] = ridge_tr_score\n",
    "ridge_df['Test Score'] = ridge_tst_score \n",
    "ridge_df['Scaled Training Score'] = sc_ridge_tr_score\n",
    "ridge_df['Sclaed Test Score'] = sc_ridge_tst_score\n",
    "ridge_df['PCA Training Score'] = ridge_pca_tr_score\n",
    "ridge_df['PCA Test Score'] = ridge_pca_tst_score\n",
    "print('The best result for Ridge was: %.4f' % max(ridge_tst_score))\n",
    "ridge_df"
   ]
  },
  {
   "cell_type": "markdown",
   "metadata": {},
   "source": [
    "#### Section 1.3.2.2 Comparing Scaled vs Non-Scaled Results "
   ]
  },
  {
   "cell_type": "code",
   "execution_count": 18,
   "metadata": {},
   "outputs": [
    {
     "data": {
      "image/png": "[encoded data removed]",
      "text/plain": [
       "<Figure size 1296x432 with 2 Axes>"
      ]
     },
     "metadata": {
      "needs_background": "light"
     },
     "output_type": "display_data"
    }
   ],
   "source": [
    "# plot the scaled, non scaled, and pca\n",
    "\n",
    "def plot_lr_alphas(d1,d2,d3,d4,d5,d6,labels):\n",
    "    f, ax = plt.subplots(1, 2, figsize = (18,6))\n",
    "    plt.subplot(121)\n",
    "    plt.plot(labels, d1, 'b', marker='o', label='Training Score')\n",
    "    plt.plot(labels, d2, 'c', marker='D', label='Test Score')\n",
    "    plt.plot(labels, d3, 'g', marker='o', label='Scaled Training Score')\n",
    "    plt.plot(labels, d4, 'm', marker='D', label='Scaled Test Score')\n",
    "    plt.legend(bbox_to_anchor=(1.05, 1), loc='lower left', borderaxespad=0.)\n",
    "    plt.subplot(122)\n",
    "    plt.plot(labels, d5, 'r', marker='o', label='PCA Training Score')\n",
    "    plt.plot(labels, d6, 'y', marker='D', label='PCA Test Score')\n",
    "    plt.axhline(0, c='b', linestyle='--', label= 'Zero Line')\n",
    "    plt.legend(bbox_to_anchor=(1.05, 1), loc='lower left', borderaxespad=0.)\n",
    "    plt.show()\n",
    "\n",
    "plot_lr_alphas(ridge_tr_score, ridge_tst_score, sc_ridge_tr_score, sc_ridge_tst_score,\n",
    "               ridge_pca_tr_score,ridge_pca_tst_score,alphas)"
   ]
  },
  {
   "cell_type": "markdown",
   "metadata": {},
   "source": [
    "With ridge regularization the scaled test scores performed better with alpha values below 1.8. After that point the model with the reaw feature data performed better. \n",
    "\n",
    "We also saw that as the training accuracy went down so did the testing accuracy. This indicates that overfitting was not really a problem. Our models low performance score is more so based on how well these features can be used to predict the wine quality. "
   ]
  },
  {
   "cell_type": "markdown",
   "metadata": {},
   "source": [
    "### Section 1.3.3 Lasso\n",
    "#### Section 1.3.3.1 Training Using Scaled and Non-Scaled Data"
   ]
  },
  {
   "cell_type": "code",
   "execution_count": 19,
   "metadata": {},
   "outputs": [
    {
     "name": "stderr",
     "output_type": "stream",
     "text": [
      "C:\\Users\\kfrie\\anaconda3\\lib\\site-packages\\ipykernel_launcher.py:10: UserWarning: With alpha=0, this algorithm does not converge well. You are advised to use the LinearRegression estimator\n",
      "  # Remove the CWD from sys.path while we load stuff.\n",
      "C:\\Users\\kfrie\\anaconda3\\lib\\site-packages\\sklearn\\linear_model\\_coordinate_descent.py:476: UserWarning: Coordinate descent with no regularization may lead to unexpected results and is discouraged.\n",
      "  positive)\n",
      "C:\\Users\\kfrie\\anaconda3\\lib\\site-packages\\sklearn\\linear_model\\_coordinate_descent.py:476: ConvergenceWarning: Objective did not converge. You might want to increase the number of iterations. Duality gap: 1287.3662285861856, tolerance: 0.36662395320197044\n",
      "  positive)\n",
      "C:\\Users\\kfrie\\anaconda3\\lib\\site-packages\\ipykernel_launcher.py:14: UserWarning: With alpha=0, this algorithm does not converge well. You are advised to use the LinearRegression estimator\n",
      "  \n",
      "C:\\Users\\kfrie\\anaconda3\\lib\\site-packages\\sklearn\\linear_model\\_coordinate_descent.py:476: UserWarning: Coordinate descent with no regularization may lead to unexpected results and is discouraged.\n",
      "  positive)\n",
      "C:\\Users\\kfrie\\anaconda3\\lib\\site-packages\\sklearn\\linear_model\\_coordinate_descent.py:476: ConvergenceWarning: Objective did not converge. You might want to increase the number of iterations. Duality gap: 1287.3662285862229, tolerance: 0.36662395320197044\n",
      "  positive)\n",
      "C:\\Users\\kfrie\\anaconda3\\lib\\site-packages\\ipykernel_launcher.py:17: UserWarning: With alpha=0, this algorithm does not converge well. You are advised to use the LinearRegression estimator\n",
      "C:\\Users\\kfrie\\anaconda3\\lib\\site-packages\\sklearn\\linear_model\\_coordinate_descent.py:476: UserWarning: Coordinate descent with no regularization may lead to unexpected results and is discouraged.\n",
      "  positive)\n",
      "C:\\Users\\kfrie\\anaconda3\\lib\\site-packages\\sklearn\\linear_model\\_coordinate_descent.py:476: ConvergenceWarning: Objective did not converge. You might want to increase the number of iterations. Duality gap: 1831.3817658387243, tolerance: 0.36662395320197044\n",
      "  positive)\n"
     ]
    },
    {
     "name": "stdout",
     "output_type": "stream",
     "text": [
      "The best result for Lasso was: 0.2740\n"
     ]
    },
    {
     "data": {
      "text/html": [
       "<div>\n",
       "<style scoped>\n",
       "    .dataframe tbody tr th:only-of-type {\n",
       "        vertical-align: middle;\n",
       "    }\n",
       "\n",
       "    .dataframe tbody tr th {\n",
       "        vertical-align: top;\n",
       "    }\n",
       "\n",
       "    .dataframe thead th {\n",
       "        text-align: right;\n",
       "    }\n",
       "</style>\n",
       "<table border=\"1\" class=\"dataframe\">\n",
       "  <thead>\n",
       "    <tr style=\"text-align: right;\">\n",
       "      <th></th>\n",
       "      <th>Training Score</th>\n",
       "      <th>Test Score</th>\n",
       "      <th>Scaled Training Score</th>\n",
       "      <th>Scaled Test Score</th>\n",
       "      <th>PCA Training Score</th>\n",
       "      <th>PCA Test Score</th>\n",
       "      <th>Number of Features</th>\n",
       "    </tr>\n",
       "  </thead>\n",
       "  <tbody>\n",
       "    <tr>\n",
       "      <th>0</th>\n",
       "      <td>0.297718</td>\n",
       "      <td>2.739652e-01</td>\n",
       "      <td>0.297718</td>\n",
       "      <td>2.739652e-01</td>\n",
       "      <td>0.000948</td>\n",
       "      <td>-1.361267e-03</td>\n",
       "      <td>11</td>\n",
       "    </tr>\n",
       "    <tr>\n",
       "      <th>1</th>\n",
       "      <td>0.223449</td>\n",
       "      <td>1.884751e-01</td>\n",
       "      <td>0.000000</td>\n",
       "      <td>-1.577210e-08</td>\n",
       "      <td>0.000000</td>\n",
       "      <td>-1.577210e-08</td>\n",
       "      <td>4</td>\n",
       "    </tr>\n",
       "    <tr>\n",
       "      <th>2</th>\n",
       "      <td>0.187850</td>\n",
       "      <td>1.604188e-01</td>\n",
       "      <td>0.000000</td>\n",
       "      <td>-1.577210e-08</td>\n",
       "      <td>0.000000</td>\n",
       "      <td>-1.577210e-08</td>\n",
       "      <td>3</td>\n",
       "    </tr>\n",
       "    <tr>\n",
       "      <th>3</th>\n",
       "      <td>0.137403</td>\n",
       "      <td>1.193728e-01</td>\n",
       "      <td>0.000000</td>\n",
       "      <td>-1.577210e-08</td>\n",
       "      <td>0.000000</td>\n",
       "      <td>-1.577210e-08</td>\n",
       "      <td>3</td>\n",
       "    </tr>\n",
       "    <tr>\n",
       "      <th>4</th>\n",
       "      <td>0.066794</td>\n",
       "      <td>5.879134e-02</td>\n",
       "      <td>0.000000</td>\n",
       "      <td>-1.577210e-08</td>\n",
       "      <td>0.000000</td>\n",
       "      <td>-1.577210e-08</td>\n",
       "      <td>3</td>\n",
       "    </tr>\n",
       "    <tr>\n",
       "      <th>...</th>\n",
       "      <td>...</td>\n",
       "      <td>...</td>\n",
       "      <td>...</td>\n",
       "      <td>...</td>\n",
       "      <td>...</td>\n",
       "      <td>...</td>\n",
       "      <td>...</td>\n",
       "    </tr>\n",
       "    <tr>\n",
       "      <th>96</th>\n",
       "      <td>0.000000</td>\n",
       "      <td>-1.577210e-08</td>\n",
       "      <td>0.000000</td>\n",
       "      <td>-1.577210e-08</td>\n",
       "      <td>0.000000</td>\n",
       "      <td>-1.577210e-08</td>\n",
       "      <td>0</td>\n",
       "    </tr>\n",
       "    <tr>\n",
       "      <th>97</th>\n",
       "      <td>0.000000</td>\n",
       "      <td>-1.577210e-08</td>\n",
       "      <td>0.000000</td>\n",
       "      <td>-1.577210e-08</td>\n",
       "      <td>0.000000</td>\n",
       "      <td>-1.577210e-08</td>\n",
       "      <td>0</td>\n",
       "    </tr>\n",
       "    <tr>\n",
       "      <th>98</th>\n",
       "      <td>0.000000</td>\n",
       "      <td>-1.577210e-08</td>\n",
       "      <td>0.000000</td>\n",
       "      <td>-1.577210e-08</td>\n",
       "      <td>0.000000</td>\n",
       "      <td>-1.577210e-08</td>\n",
       "      <td>0</td>\n",
       "    </tr>\n",
       "    <tr>\n",
       "      <th>99</th>\n",
       "      <td>0.000000</td>\n",
       "      <td>-1.577210e-08</td>\n",
       "      <td>0.000000</td>\n",
       "      <td>-1.577210e-08</td>\n",
       "      <td>0.000000</td>\n",
       "      <td>-1.577210e-08</td>\n",
       "      <td>0</td>\n",
       "    </tr>\n",
       "    <tr>\n",
       "      <th>100</th>\n",
       "      <td>0.000000</td>\n",
       "      <td>-1.577210e-08</td>\n",
       "      <td>0.000000</td>\n",
       "      <td>-1.577210e-08</td>\n",
       "      <td>0.000000</td>\n",
       "      <td>-1.577210e-08</td>\n",
       "      <td>0</td>\n",
       "    </tr>\n",
       "  </tbody>\n",
       "</table>\n",
       "<p>101 rows × 7 columns</p>\n",
       "</div>"
      ],
      "text/plain": [
       "     Training Score    Test Score  Scaled Training Score  Scaled Test Score  \\\n",
       "0          0.297718  2.739652e-01               0.297718       2.739652e-01   \n",
       "1          0.223449  1.884751e-01               0.000000      -1.577210e-08   \n",
       "2          0.187850  1.604188e-01               0.000000      -1.577210e-08   \n",
       "3          0.137403  1.193728e-01               0.000000      -1.577210e-08   \n",
       "4          0.066794  5.879134e-02               0.000000      -1.577210e-08   \n",
       "..              ...           ...                    ...                ...   \n",
       "96         0.000000 -1.577210e-08               0.000000      -1.577210e-08   \n",
       "97         0.000000 -1.577210e-08               0.000000      -1.577210e-08   \n",
       "98         0.000000 -1.577210e-08               0.000000      -1.577210e-08   \n",
       "99         0.000000 -1.577210e-08               0.000000      -1.577210e-08   \n",
       "100        0.000000 -1.577210e-08               0.000000      -1.577210e-08   \n",
       "\n",
       "     PCA Training Score  PCA Test Score  Number of Features  \n",
       "0              0.000948   -1.361267e-03                  11  \n",
       "1              0.000000   -1.577210e-08                   4  \n",
       "2              0.000000   -1.577210e-08                   3  \n",
       "3              0.000000   -1.577210e-08                   3  \n",
       "4              0.000000   -1.577210e-08                   3  \n",
       "..                  ...             ...                 ...  \n",
       "96             0.000000   -1.577210e-08                   0  \n",
       "97             0.000000   -1.577210e-08                   0  \n",
       "98             0.000000   -1.577210e-08                   0  \n",
       "99             0.000000   -1.577210e-08                   0  \n",
       "100            0.000000   -1.577210e-08                   0  \n",
       "\n",
       "[101 rows x 7 columns]"
      ]
     },
     "execution_count": 19,
     "metadata": {},
     "output_type": "execute_result"
    }
   ],
   "source": [
    "lasso_tr_score = list()\n",
    "lasso_tst_score = list()\n",
    "sc_lasso_tr_score = list()\n",
    "sc_lasso_tst_score = list()\n",
    "num_coef = list()\n",
    "lasso_PCA_tr_score = list()\n",
    "lasso_PCA_tst_score = list()\n",
    "for alpha in alphas:\n",
    "\n",
    "    lasso = Lasso(alpha = alpha, max_iter = 100000).fit(X_train, y_train)\n",
    "    lasso_tr_score.append(lasso.score(X_train, y_train))\n",
    "    lasso_tst_score.append(lasso.score(X_test, y_test))\n",
    "    num_coef.append(np.sum(lasso.coef_ != 0))\n",
    "    sc_lasso = Lasso(alpha = alpha, max_iter = 100000).fit(X_train_scaled, y_train)\n",
    "    sc_lasso_tr_score.append(sc_lasso.score(X_train_scaled, y_train))\n",
    "    sc_lasso_tst_score.append(sc_lasso.score(X_test_scaled, y_test))\n",
    "    lasso_pca = Lasso(alpha = alpha, max_iter = 100000).fit(pca_X_train, y_train)\n",
    "    lasso_PCA_tr_score.append(lasso_pca.score(pca_X_train, y_train))    \n",
    "    lasso_PCA_tst_score.append(lasso_pca.score(pca_X_test, y_test))\n",
    "    \n",
    "\n",
    "lasso_df = pd.DataFrame()\n",
    "lasso_df['Training Score'] = lasso_tr_score\n",
    "lasso_df['Test Score'] = lasso_tst_score \n",
    "lasso_df['Scaled Training Score'] = sc_lasso_tr_score\n",
    "lasso_df['Scaled Test Score'] = sc_lasso_tst_score\n",
    "lasso_df['PCA Training Score'] = lasso_PCA_tr_score\n",
    "lasso_df['PCA Test Score'] = lasso_PCA_tst_score  \n",
    "lasso_df['Number of Features'] = num_coef\n",
    "    \n",
    "print('The best result for Lasso was: %.4f' % max(lasso_tst_score))\n",
    "lasso_df"
   ]
  },
  {
   "cell_type": "markdown",
   "metadata": {},
   "source": [
    "#### Section 1.3.3.2 Comparing Scaled vs Non-Scaled Results\n",
    "\n",
    "Anything with an alpha higher than 1 gave us very poor results, so we will exclude those from our graph."
   ]
  },
  {
   "cell_type": "code",
   "execution_count": 21,
   "metadata": {},
   "outputs": [
    {
     "data": {
      "image/png": "[encoded data removed]",
      "text/plain": [
       "<Figure size 1296x432 with 2 Axes>"
      ]
     },
     "metadata": {
      "needs_background": "light"
     },
     "output_type": "display_data"
    }
   ],
   "source": [
    "plot_lr_alphas(lasso_tr_score[:12], lasso_tst_score[:12], sc_lasso_tr_score[:12],\n",
    "               sc_lasso_tst_score[:12],lasso_PCA_tr_score[:12],lasso_PCA_tst_score[:12],alphas[:12])"
   ]
  },
  {
   "cell_type": "markdown",
   "metadata": {},
   "source": [
    "### Section 1.3.7 Results\n",
    "\n",
    "Visulaizations of the data, need to show the results for all 3 with and with out scaled data. "
   ]
  },
  {
   "cell_type": "code",
   "execution_count": 22,
   "metadata": {},
   "outputs": [
    {
     "data": {
      "image/png": "[encoded data removed]",
      "text/plain": [
       "<Figure size 864x360 with 1 Axes>"
      ]
     },
     "metadata": {
      "needs_background": "light"
     },
     "output_type": "display_data"
    }
   ],
   "source": [
    "# print testing data for alphas up to 0.6\n",
    "def plot_testing(d1,d2,d3,d4,d5,d6,d7,labels):\n",
    "    f, ax = plt.subplots(1, 1, figsize = (12,5))\n",
    "    plt.plot(labels, d1, 'b', marker='o', label='Ridge Test Score')\n",
    "    plt.plot(labels, d2, 'c', marker='D', label='Scaled Ridge Test Score')\n",
    "    plt.plot(labels, d3, 'g', marker='o', label='Lasso Test Score')\n",
    "    plt.plot(labels, d4, 'm', marker='D', label='Scaled Lasso Test Score')\n",
    "    plt.plot(labels, d6, 'r', marker='s', label='PCA Lasso Test Score')\n",
    "    plt.plot(labels, d7, 'y', marker='s', label='PCA Ridge Test Score')\n",
    "    \n",
    "    plt.axhline(d5, c='r', linestyle='--', label= 'LR')\n",
    "    plt.legend(bbox_to_anchor=(1.05, 1), loc='upper left', borderaxespad=0.)\n",
    "    plt.show()\n",
    "    \n",
    "plot_testing(ridge_tst_score[:8], sc_ridge_tst_score[:8], lasso_tst_score[:8], \n",
    "             sc_lasso_tst_score[:8], lr_score_test,lasso_PCA_tst_score[:8], ridge_pca_tst_score[:8], alphas[:8] )"
   ]
  },
  {
   "cell_type": "markdown",
   "metadata": {},
   "source": [
    "Based off of the data above we noticed that scaling did not help increase our scores by much. We also noticed that lasso eliminated features with alpha above 0 this decreased accuracy. This tells us that all of the features in our data set where helpful in predicting the quality of our wine. We also saw that pca did not help with predicting the quality of the wine. This tells us that there aren't any variances between features in our data set that are closely related.\n",
    "\n",
    "Our best model predicted the quality of the wine with about 27% accuracy. This tells us that either the features of the wines in this data set are not a good predictor of the quality; or that a linear regression model is just not effective at predicting wine quality.\n",
    "\n"
   ]
  },
  {
   "cell_type": "markdown",
   "metadata": {},
   "source": [
    "# Section 2 Question 2\n",
    "## Binary Classification of Wines as Red and White\n",
    "\n",
    "In this section we will attempt to build, train and test 4 different models for classifying wines as either red or white. We will also take a look at how normalizing our data affects the performance of each of these models. The four models we will look at are:\n",
    "- Logistic Regression (using `liblinear` solver)\n",
    "- K neighbours (using `KNeighborsClassifier`)\n",
    "- Linear SVM (using `svm.SVC` with `kernel=linear`)\n",
    "- Combined Model of the above (using `votingClassifier`)\n",
    "After comparing the performance of these models with the original and normalized data, we will perform dimension reduction with `pca` and re-evaluate the models.\n",
    "By the end of our analysis we will be able to answer which model is best suited for the original, normalized and reduced dimension data. "
   ]
  },
  {
   "cell_type": "markdown",
   "metadata": {},
   "source": [
    "### Section 2.1 Reading in and Populating DataFrames"
   ]
  },
  {
   "cell_type": "code",
   "execution_count": 101,
   "metadata": {},
   "outputs": [
    {
     "name": "stdout",
     "output_type": "stream",
     "text": [
      "(1599, 13)\n",
      "(4898, 13)\n"
     ]
    },
    {
     "data": {
      "text/html": [
       "<div>\n",
       "<style scoped>\n",
       "    .dataframe tbody tr th:only-of-type {\n",
       "        vertical-align: middle;\n",
       "    }\n",
       "\n",
       "    .dataframe tbody tr th {\n",
       "        vertical-align: top;\n",
       "    }\n",
       "\n",
       "    .dataframe thead th {\n",
       "        text-align: right;\n",
       "    }\n",
       "</style>\n",
       "<table border=\"1\" class=\"dataframe\">\n",
       "  <thead>\n",
       "    <tr style=\"text-align: right;\">\n",
       "      <th></th>\n",
       "      <th>fixed acidity</th>\n",
       "      <th>volatile acidity</th>\n",
       "      <th>citric acid</th>\n",
       "      <th>residual sugar</th>\n",
       "      <th>chlorides</th>\n",
       "      <th>free sulfur dioxide</th>\n",
       "      <th>total sulfur dioxide</th>\n",
       "      <th>density</th>\n",
       "      <th>pH</th>\n",
       "      <th>sulphates</th>\n",
       "      <th>alcohol</th>\n",
       "      <th>quality</th>\n",
       "      <th>type</th>\n",
       "    </tr>\n",
       "  </thead>\n",
       "  <tbody>\n",
       "    <tr>\n",
       "      <th>0</th>\n",
       "      <td>7.4</td>\n",
       "      <td>0.70</td>\n",
       "      <td>0.00</td>\n",
       "      <td>1.9</td>\n",
       "      <td>0.076</td>\n",
       "      <td>11.0</td>\n",
       "      <td>34.0</td>\n",
       "      <td>0.99780</td>\n",
       "      <td>3.51</td>\n",
       "      <td>0.56</td>\n",
       "      <td>9.4</td>\n",
       "      <td>5</td>\n",
       "      <td>white</td>\n",
       "    </tr>\n",
       "    <tr>\n",
       "      <th>1</th>\n",
       "      <td>7.8</td>\n",
       "      <td>0.88</td>\n",
       "      <td>0.00</td>\n",
       "      <td>2.6</td>\n",
       "      <td>0.098</td>\n",
       "      <td>25.0</td>\n",
       "      <td>67.0</td>\n",
       "      <td>0.99680</td>\n",
       "      <td>3.20</td>\n",
       "      <td>0.68</td>\n",
       "      <td>9.8</td>\n",
       "      <td>5</td>\n",
       "      <td>white</td>\n",
       "    </tr>\n",
       "    <tr>\n",
       "      <th>2</th>\n",
       "      <td>7.8</td>\n",
       "      <td>0.76</td>\n",
       "      <td>0.04</td>\n",
       "      <td>2.3</td>\n",
       "      <td>0.092</td>\n",
       "      <td>15.0</td>\n",
       "      <td>54.0</td>\n",
       "      <td>0.99700</td>\n",
       "      <td>3.26</td>\n",
       "      <td>0.65</td>\n",
       "      <td>9.8</td>\n",
       "      <td>5</td>\n",
       "      <td>white</td>\n",
       "    </tr>\n",
       "    <tr>\n",
       "      <th>3</th>\n",
       "      <td>11.2</td>\n",
       "      <td>0.28</td>\n",
       "      <td>0.56</td>\n",
       "      <td>1.9</td>\n",
       "      <td>0.075</td>\n",
       "      <td>17.0</td>\n",
       "      <td>60.0</td>\n",
       "      <td>0.99800</td>\n",
       "      <td>3.16</td>\n",
       "      <td>0.58</td>\n",
       "      <td>9.8</td>\n",
       "      <td>6</td>\n",
       "      <td>white</td>\n",
       "    </tr>\n",
       "    <tr>\n",
       "      <th>4</th>\n",
       "      <td>7.4</td>\n",
       "      <td>0.70</td>\n",
       "      <td>0.00</td>\n",
       "      <td>1.9</td>\n",
       "      <td>0.076</td>\n",
       "      <td>11.0</td>\n",
       "      <td>34.0</td>\n",
       "      <td>0.99780</td>\n",
       "      <td>3.51</td>\n",
       "      <td>0.56</td>\n",
       "      <td>9.4</td>\n",
       "      <td>5</td>\n",
       "      <td>white</td>\n",
       "    </tr>\n",
       "    <tr>\n",
       "      <th>...</th>\n",
       "      <td>...</td>\n",
       "      <td>...</td>\n",
       "      <td>...</td>\n",
       "      <td>...</td>\n",
       "      <td>...</td>\n",
       "      <td>...</td>\n",
       "      <td>...</td>\n",
       "      <td>...</td>\n",
       "      <td>...</td>\n",
       "      <td>...</td>\n",
       "      <td>...</td>\n",
       "      <td>...</td>\n",
       "      <td>...</td>\n",
       "    </tr>\n",
       "    <tr>\n",
       "      <th>6492</th>\n",
       "      <td>6.2</td>\n",
       "      <td>0.21</td>\n",
       "      <td>0.29</td>\n",
       "      <td>1.6</td>\n",
       "      <td>0.039</td>\n",
       "      <td>24.0</td>\n",
       "      <td>92.0</td>\n",
       "      <td>0.99114</td>\n",
       "      <td>3.27</td>\n",
       "      <td>0.50</td>\n",
       "      <td>11.2</td>\n",
       "      <td>6</td>\n",
       "      <td>red</td>\n",
       "    </tr>\n",
       "    <tr>\n",
       "      <th>6493</th>\n",
       "      <td>6.6</td>\n",
       "      <td>0.32</td>\n",
       "      <td>0.36</td>\n",
       "      <td>8.0</td>\n",
       "      <td>0.047</td>\n",
       "      <td>57.0</td>\n",
       "      <td>168.0</td>\n",
       "      <td>0.99490</td>\n",
       "      <td>3.15</td>\n",
       "      <td>0.46</td>\n",
       "      <td>9.6</td>\n",
       "      <td>5</td>\n",
       "      <td>red</td>\n",
       "    </tr>\n",
       "    <tr>\n",
       "      <th>6494</th>\n",
       "      <td>6.5</td>\n",
       "      <td>0.24</td>\n",
       "      <td>0.19</td>\n",
       "      <td>1.2</td>\n",
       "      <td>0.041</td>\n",
       "      <td>30.0</td>\n",
       "      <td>111.0</td>\n",
       "      <td>0.99254</td>\n",
       "      <td>2.99</td>\n",
       "      <td>0.46</td>\n",
       "      <td>9.4</td>\n",
       "      <td>6</td>\n",
       "      <td>red</td>\n",
       "    </tr>\n",
       "    <tr>\n",
       "      <th>6495</th>\n",
       "      <td>5.5</td>\n",
       "      <td>0.29</td>\n",
       "      <td>0.30</td>\n",
       "      <td>1.1</td>\n",
       "      <td>0.022</td>\n",
       "      <td>20.0</td>\n",
       "      <td>110.0</td>\n",
       "      <td>0.98869</td>\n",
       "      <td>3.34</td>\n",
       "      <td>0.38</td>\n",
       "      <td>12.8</td>\n",
       "      <td>7</td>\n",
       "      <td>red</td>\n",
       "    </tr>\n",
       "    <tr>\n",
       "      <th>6496</th>\n",
       "      <td>6.0</td>\n",
       "      <td>0.21</td>\n",
       "      <td>0.38</td>\n",
       "      <td>0.8</td>\n",
       "      <td>0.020</td>\n",
       "      <td>22.0</td>\n",
       "      <td>98.0</td>\n",
       "      <td>0.98941</td>\n",
       "      <td>3.26</td>\n",
       "      <td>0.32</td>\n",
       "      <td>11.8</td>\n",
       "      <td>6</td>\n",
       "      <td>red</td>\n",
       "    </tr>\n",
       "  </tbody>\n",
       "</table>\n",
       "<p>6497 rows × 13 columns</p>\n",
       "</div>"
      ],
      "text/plain": [
       "      fixed acidity  volatile acidity  citric acid  residual sugar  chlorides  \\\n",
       "0               7.4              0.70         0.00             1.9      0.076   \n",
       "1               7.8              0.88         0.00             2.6      0.098   \n",
       "2               7.8              0.76         0.04             2.3      0.092   \n",
       "3              11.2              0.28         0.56             1.9      0.075   \n",
       "4               7.4              0.70         0.00             1.9      0.076   \n",
       "...             ...               ...          ...             ...        ...   \n",
       "6492            6.2              0.21         0.29             1.6      0.039   \n",
       "6493            6.6              0.32         0.36             8.0      0.047   \n",
       "6494            6.5              0.24         0.19             1.2      0.041   \n",
       "6495            5.5              0.29         0.30             1.1      0.022   \n",
       "6496            6.0              0.21         0.38             0.8      0.020   \n",
       "\n",
       "      free sulfur dioxide  total sulfur dioxide  density    pH  sulphates  \\\n",
       "0                    11.0                  34.0  0.99780  3.51       0.56   \n",
       "1                    25.0                  67.0  0.99680  3.20       0.68   \n",
       "2                    15.0                  54.0  0.99700  3.26       0.65   \n",
       "3                    17.0                  60.0  0.99800  3.16       0.58   \n",
       "4                    11.0                  34.0  0.99780  3.51       0.56   \n",
       "...                   ...                   ...      ...   ...        ...   \n",
       "6492                 24.0                  92.0  0.99114  3.27       0.50   \n",
       "6493                 57.0                 168.0  0.99490  3.15       0.46   \n",
       "6494                 30.0                 111.0  0.99254  2.99       0.46   \n",
       "6495                 20.0                 110.0  0.98869  3.34       0.38   \n",
       "6496                 22.0                  98.0  0.98941  3.26       0.32   \n",
       "\n",
       "      alcohol  quality   type  \n",
       "0         9.4        5  white  \n",
       "1         9.8        5  white  \n",
       "2         9.8        5  white  \n",
       "3         9.8        6  white  \n",
       "4         9.4        5  white  \n",
       "...       ...      ...    ...  \n",
       "6492     11.2        6    red  \n",
       "6493      9.6        5    red  \n",
       "6494      9.4        6    red  \n",
       "6495     12.8        7    red  \n",
       "6496     11.8        6    red  \n",
       "\n",
       "[6497 rows x 13 columns]"
      ]
     },
     "execution_count": 101,
     "metadata": {},
     "output_type": "execute_result"
    }
   ],
   "source": [
    "import pandas as pd\n",
    "import numpy as np\n",
    "import matplotlib.pyplot as plt\n",
    "from sklearn.model_selection import train_test_split\n",
    "from sklearn.linear_model import LinearRegression, Ridge, Lasso\n",
    "white_path = \"wine-white.csv\"\n",
    "red_path = \"wine-red.csv\"\n",
    "\n",
    "def import_merge_df(file_name1, file_name2):\n",
    "    #white wines\n",
    "    df1 = pd.read_csv(file_name1)\n",
    "    df1['type']='white'\n",
    "    #red wines\n",
    "    df2 = pd.read_csv(file_name2)\n",
    "    df2['type']='red'\n",
    "    print(df1.shape)\n",
    "    print(df2.shape)\n",
    "    # merge the dataframes \n",
    "    df = pd.concat([df1, df2], ignore_index=True)\n",
    "    return df\n",
    "\n",
    "\n",
    "df = import_merge_df(red_path, white_path)\n",
    "df"
   ]
  },
  {
   "cell_type": "markdown",
   "metadata": {},
   "source": [
    "### Section 2.2 Splitting data into features and labels\n",
    "\n",
    "The 'type' of the wine is the label in this question, and the rest are the features."
   ]
  },
  {
   "cell_type": "code",
   "execution_count": 102,
   "metadata": {},
   "outputs": [
    {
     "name": "stdout",
     "output_type": "stream",
     "text": [
      "(6497, 12) (6497,)\n"
     ]
    }
   ],
   "source": [
    "features = df.drop('type',1)\n",
    "labels = df['type']\n",
    "\n",
    "print(features.shape, labels.shape)"
   ]
  },
  {
   "cell_type": "markdown",
   "metadata": {},
   "source": [
    "### Section 2.3 Finding best KNN \n",
    "\n",
    "Before we compare different models we need to narrow down which number of neighbours for `KNN` yields the highest train and test score. We will look at the weighted train test accuracies for all odd `k`'s in the range of `k` = 1 to `k` = 25.\n"
   ]
  },
  {
   "cell_type": "code",
   "execution_count": 103,
   "metadata": {},
   "outputs": [
    {
     "data": {
      "image/png": "[encoded data removed]",
      "text/plain": [
       "<Figure size 432x288 with 1 Axes>"
      ]
     },
     "metadata": {
      "needs_background": "light"
     },
     "output_type": "display_data"
    }
   ],
   "source": [
    "from sklearn.model_selection import train_test_split\n",
    "from sklearn.neighbors import KNeighborsClassifier\n",
    "\n",
    "#Fixed seed for all different Ks\n",
    "seed = 5026\n",
    "x_train, x_test, y_train, y_test = train_test_split(features, labels, test_size=0.25, random_state=seed)\n",
    "\n",
    "def test_knn(k_range, X_train, X_test, y_train, y_test, **knn_params):\n",
    "#     knn_tmp = pd.DataFrame()\n",
    "    knn_list = []\n",
    "    for k in k_range:\n",
    "        knn = KNeighborsClassifier(n_neighbors=k,**knn_params)\n",
    "        knn.fit(X_train, y_train)\n",
    "        knn_score_train = knn.score(X_train, y_train)\n",
    "        knn_score_test = knn.score(X_test, y_test)\n",
    "        \n",
    "        values = (k,knn_score_train,knn_score_test)\n",
    "        knn_list.append(values)\n",
    "    \n",
    "    \n",
    "    knn_tmp = pd.DataFrame(knn_list, columns =['k', 'train_score', 'test_score']).set_index('k')\n",
    "    return knn_tmp\n",
    "\n",
    "\n",
    "weights={'weights':'distance'}\n",
    "knn_score_weighted = test_knn(range(3,26,2), x_train, x_test, y_train, y_test, **weights)\n",
    "\n",
    "ax = knn_score_weighted.plot()\n",
    "ax.legend([\"weighted knn train accuracy\", \"weighted knn test accuracy\",\"lr score\"]);"
   ]
  },
  {
   "cell_type": "code",
   "execution_count": 104,
   "metadata": {},
   "outputs": [
    {
     "name": "stdout",
     "output_type": "stream",
     "text": [
      "11\n"
     ]
    }
   ],
   "source": [
    "bestK = knn_score_weighted['test_score'].idxmax()\n",
    "print(bestK)"
   ]
  },
  {
   "cell_type": "markdown",
   "metadata": {},
   "source": [
    "As we can see from above the `k` with the highest test accuracy is `k` = 11. We can now compare different models to find the model best fitted for predicted the type of wine.\n",
    "\n",
    "### Section 2.4 Finding the best classifiers \n",
    "\n",
    "To accurately compare the performance of different models the models need to be trained and tested on the same data sets, we will achieve this by using a fixed random seed. We will loop over 30 seeds to get an average score for each of the models. \n",
    "\n",
    "The different models we are testing are \n",
    "- Logistic Regression (using `liblinear` solver)\n",
    "- K neighbours (using `KNeighborsClassifier`)\n",
    "- Linear SVM (using `svm.SVC` with `kernel=linear`)"
   ]
  },
  {
   "cell_type": "code",
   "execution_count": 105,
   "metadata": {},
   "outputs": [
    {
     "data": {
      "text/plain": [
       "<matplotlib.axes._subplots.AxesSubplot at 0x7f81f37bd220>"
      ]
     },
     "execution_count": 105,
     "metadata": {},
     "output_type": "execute_result"
    },
    {
     "data": {
      "image/png": "[encoded data removed]",
      "text/plain": [
       "<Figure size 432x288 with 1 Axes>"
      ]
     },
     "metadata": {
      "needs_background": "light"
     },
     "output_type": "display_data"
    }
   ],
   "source": [
    "from sklearn.model_selection import train_test_split\n",
    "from sklearn.linear_model import LogisticRegression\n",
    "from sklearn.neighbors import KNeighborsClassifier\n",
    "from sklearn import svm\n",
    "\n",
    "scores = {name: [] for name in ('SVM', 'LR', 'KNN')}\n",
    "\n",
    "for seed in range(5000,5031):\n",
    "    x_train, x_test, y_train, y_test = train_test_split(features, labels, test_size=0.25, random_state=seed)\n",
    "   \n",
    "    lsvc = svm.SVC(kernel='linear').fit(x_train, y_train)\n",
    "    logisticRegr = LogisticRegression(max_iter=10000,solver = 'liblinear').fit(x_train, y_train)\n",
    "    knn = KNeighborsClassifier(n_neighbors=bestK,**weights).fit(x_train, y_train)\n",
    "\n",
    "    \n",
    "    scores['SVM'].append(lsvc.score(x_test,y_test))\n",
    "    scores['LR'].append(logisticRegr.score(x_test,y_test))\n",
    "    scores['KNN'].append(knn.score(x_test,y_test))\n",
    "    \n",
    "\n",
    "df = pd.DataFrame(scores)\n",
    "df.boxplot()"
   ]
  },
  {
   "cell_type": "markdown",
   "metadata": {},
   "source": [
    "From the results above the linear svm model seems to yeild the highest test prediction accuracy. However, this may not be the best approach, another way to increase the accuracy is the train multiple models and use an ensemble of them for predictions. \n",
    "\n",
    "### Section 2.5 Combined Ensemble Model\n",
    "\n",
    "In this section we will train  `linear svm`, `logistic regression` and `kneighbours` models and create a combined model of the three. The combined model will use a voting classifier to decide between the three models."
   ]
  },
  {
   "cell_type": "code",
   "execution_count": 106,
   "metadata": {},
   "outputs": [],
   "source": [
    "from sklearn.ensemble import VotingClassifier\n",
    "\n",
    "#create and return trained models\n",
    "def create_models(x_train, y_train, k):\n",
    "    models = []\n",
    "    \n",
    "    weights={'weights':'distance'}\n",
    "    lsvc = svm.SVC(kernel='linear').fit(x_train, y_train)\n",
    "    logisticRegr = LogisticRegression(max_iter=10000,solver = 'liblinear').fit(x_train, y_train)\n",
    "    knn = KNeighborsClassifier(n_neighbors=k,**weights).fit(x_train, y_train)\n",
    "    \n",
    "    models.append(lsvc)\n",
    "    models.append(logisticRegr)\n",
    "    models.append(knn)\n",
    "    \n",
    "    return models\n",
    "\n",
    "models = create_models(x_train, y_train, bestK)"
   ]
  },
  {
   "cell_type": "code",
   "execution_count": 107,
   "metadata": {},
   "outputs": [],
   "source": [
    "from scipy.stats import mode\n",
    "\n",
    "#function used to predict for combined model\n",
    "def predict(models, X):\n",
    "    predictions = []\n",
    "    for model in models:\n",
    "        predictions.append(model.predict(X))\n",
    "        result = mode(predictions)[0][0]\n",
    "    return result"
   ]
  },
  {
   "cell_type": "code",
   "execution_count": 108,
   "metadata": {},
   "outputs": [
    {
     "data": {
      "text/plain": [
       "<matplotlib.axes._subplots.AxesSubplot at 0x7f81f635e640>"
      ]
     },
     "execution_count": 108,
     "metadata": {},
     "output_type": "execute_result"
    },
    {
     "data": {
      "image/png": "[encoded data removed]",
      "text/plain": [
       "<Figure size 432x288 with 1 Axes>"
      ]
     },
     "metadata": {
      "needs_background": "light"
     },
     "output_type": "display_data"
    }
   ],
   "source": [
    "from sklearn.metrics import accuracy_score\n",
    "\n",
    "scores = {name: [] for name in ('SVM', 'LR', 'KNN', 'Combined')}\n",
    "\n",
    "for seed in range(5000,5031):\n",
    "    x_train, x_test, y_train, y_test = train_test_split(features, labels, test_size=0.25, random_state=seed)\n",
    "    \n",
    "    model_list = create_models(x_train, y_train, bestK)\n",
    "    combined_model = predict(model_list, x_test)\n",
    "    \n",
    "    scores['SVM'].append(model_list[0].score(x_test,y_test))\n",
    "    scores['LR'].append(model_list[1].score(x_test,y_test))\n",
    "    scores['KNN'].append(model_list[2].score(x_test,y_test))\n",
    "    scores['Combined'].append(accuracy_score(y_test,combined_model))\n",
    "\n",
    "df = pd.DataFrame(scores)\n",
    "df.boxplot()\n",
    "\n"
   ]
  },
  {
   "cell_type": "markdown",
   "metadata": {},
   "source": [
    "The graph below shows the mean scores for each of the models. Similar to the boxplot above, the `svm.SVC` model has the highest score."
   ]
  },
  {
   "cell_type": "code",
   "execution_count": 109,
   "metadata": {},
   "outputs": [
    {
     "data": {
      "text/plain": [
       "<matplotlib.axes._subplots.AxesSubplot at 0x7f81f3a28250>"
      ]
     },
     "execution_count": 109,
     "metadata": {},
     "output_type": "execute_result"
    },
    {
     "data": {
      "image/png": "[encoded data removed]",
      "text/plain": [
       "<Figure size 432x288 with 1 Axes>"
      ]
     },
     "metadata": {
      "needs_background": "light"
     },
     "output_type": "display_data"
    }
   ],
   "source": [
    "df.mean().plot.bar(ylim=(0.95,1.0))"
   ]
  },
  {
   "cell_type": "markdown",
   "metadata": {},
   "source": [
    "We can see from above that the `svm.SVC` model remains as the model with the highest test scores, therefor this model is best suited to predict the wine type (red or white) based off of the features in our data set.\n",
    "\n",
    "### Section 2.6 Normalizing data \n",
    "\n",
    "Normalizing data can be beneficial for multiple alogorithms, particulary ones that deal with distances and magnitudes. This means that normalizing should affect our KNN and SVM model scores. Below we will repeat the steps above but with normalized data. "
   ]
  },
  {
   "cell_type": "code",
   "execution_count": 110,
   "metadata": {},
   "outputs": [
    {
     "data": {
      "image/png": "[encoded data removed]",
      "text/plain": [
       "<Figure size 432x288 with 1 Axes>"
      ]
     },
     "metadata": {
      "needs_background": "light"
     },
     "output_type": "display_data"
    }
   ],
   "source": [
    "from sklearn.preprocessing import normalize\n",
    "\n",
    "features_normalized = normalize(features, axis=1)\n",
    "\n",
    "#same seed we evaluated all ks on above (without normalized data)\n",
    "seed = 5026\n",
    "x_train, x_test, y_train, y_test = train_test_split(features_normalized, labels, test_size=0.25, random_state=seed)\n",
    "\n",
    "weights={'weights':'distance'}\n",
    "knn_score_weighted = test_knn(range(3,26,2), x_train, x_test, y_train, y_test, **weights)\n",
    "\n",
    "ax = knn_score_weighted.plot()\n",
    "ax.legend([\"weighted knn train accuracy\", \"weighted knn test accuracy\",\"lr score\"]);"
   ]
  },
  {
   "cell_type": "code",
   "execution_count": 111,
   "metadata": {},
   "outputs": [
    {
     "name": "stdout",
     "output_type": "stream",
     "text": [
      "9\n"
     ]
    }
   ],
   "source": [
    "postNormalizationBestK = knn_score_weighted['test_score'].idxmax()\n",
    "print(postNormalizationBestK)"
   ]
  },
  {
   "cell_type": "markdown",
   "metadata": {},
   "source": [
    "After normalizing the data, the ideal number of neighbours to take into account is no longer `11`, but `9`."
   ]
  },
  {
   "cell_type": "code",
   "execution_count": 112,
   "metadata": {},
   "outputs": [
    {
     "data": {
      "text/plain": [
       "<matplotlib.axes._subplots.AxesSubplot at 0x7f81db7cc7f0>"
      ]
     },
     "execution_count": 112,
     "metadata": {},
     "output_type": "execute_result"
    },
    {
     "data": {
      "image/png": "[encoded data removed]",
      "text/plain": [
       "<Figure size 432x288 with 1 Axes>"
      ]
     },
     "metadata": {
      "needs_background": "light"
     },
     "output_type": "display_data"
    }
   ],
   "source": [
    "scores_normalized = {name: [] for name in ('SVM', 'LR', 'KNN', 'Combined')}\n",
    "\n",
    "for seed in range(5000,5031):\n",
    "    x_train, x_test, y_train, y_test = train_test_split(features_normalized, labels, test_size=0.25, random_state=seed)\n",
    "    \n",
    "    #pass in updated k\n",
    "    model_list = create_models(x_train, y_train, postNormalizationBestK)\n",
    "    combined_model = predict(model_list, x_test)\n",
    "    \n",
    "    scores_normalized['SVM'].append(model_list[0].score(x_test,y_test))\n",
    "    scores_normalized['LR'].append(model_list[1].score(x_test,y_test))\n",
    "    scores_normalized['KNN'].append(model_list[2].score(x_test,y_test))\n",
    "    scores_normalized['Combined'].append(accuracy_score(y_test,combined_model))\n",
    "\n",
    "\n",
    "df_normalized = pd.DataFrame(scores_normalized)\n",
    "df_normalized.boxplot()\n"
   ]
  },
  {
   "cell_type": "markdown",
   "metadata": {},
   "source": [
    "After normalizing the data, we notice that the performance of the models changes significantly. The plot below compares the normalized model performances to those we saw before normalizing."
   ]
  },
  {
   "cell_type": "code",
   "execution_count": 113,
   "metadata": {},
   "outputs": [
    {
     "data": {
      "text/plain": [
       "array([[<matplotlib.axes._subplots.AxesSubplot object at 0x7f81deaccf70>,\n",
       "        <matplotlib.axes._subplots.AxesSubplot object at 0x7f81dd3e1130>],\n",
       "       [<matplotlib.axes._subplots.AxesSubplot object at 0x7f81dd0344f0>,\n",
       "        <matplotlib.axes._subplots.AxesSubplot object at 0x7f81dd02b850>]],\n",
       "      dtype=object)"
      ]
     },
     "execution_count": 113,
     "metadata": {},
     "output_type": "execute_result"
    },
    {
     "data": {
      "image/png": "[encoded data removed]",
      "text/plain": [
       "<Figure size 432x288 with 4 Axes>"
      ]
     },
     "metadata": {
      "needs_background": "light"
     },
     "output_type": "display_data"
    }
   ],
   "source": [
    "df_normalized['data_type'] = \"normalized\"\n",
    "\n",
    "df['data_type'] = \"regular\"\n",
    "\n",
    "df_merged = pd.concat([df_normalized, df], ignore_index=True)\n",
    "\n",
    "df_merged.boxplot(by='data_type')"
   ]
  },
  {
   "cell_type": "markdown",
   "metadata": {},
   "source": [
    "As we can see the only model who's performance improved after normalizing is the `KNN` model. This can be attributed to the fact that `KNN` depends on the distances between neighbours. Based off the normalized data, the `KNN` model yields the highest test score accuracy making it the best model to solve this problem. "
   ]
  },
  {
   "cell_type": "markdown",
   "metadata": {},
   "source": [
    "### Section 2.6 Dimension Reduction using PCA\n",
    "\n",
    "#### Section 2.6.1 Finding ideal number of components for PCA"
   ]
  },
  {
   "cell_type": "code",
   "execution_count": 114,
   "metadata": {},
   "outputs": [
    {
     "data": {
      "text/html": [
       "<div>\n",
       "<style scoped>\n",
       "    .dataframe tbody tr th:only-of-type {\n",
       "        vertical-align: middle;\n",
       "    }\n",
       "\n",
       "    .dataframe tbody tr th {\n",
       "        vertical-align: top;\n",
       "    }\n",
       "\n",
       "    .dataframe thead th {\n",
       "        text-align: right;\n",
       "    }\n",
       "</style>\n",
       "<table border=\"1\" class=\"dataframe\">\n",
       "  <thead>\n",
       "    <tr style=\"text-align: right;\">\n",
       "      <th></th>\n",
       "      <th>explained variance</th>\n",
       "    </tr>\n",
       "  </thead>\n",
       "  <tbody>\n",
       "    <tr>\n",
       "      <th>0</th>\n",
       "      <td>0.000000</td>\n",
       "    </tr>\n",
       "    <tr>\n",
       "      <th>1</th>\n",
       "      <td>0.740005</td>\n",
       "    </tr>\n",
       "    <tr>\n",
       "      <th>2</th>\n",
       "      <td>0.943718</td>\n",
       "    </tr>\n",
       "    <tr>\n",
       "      <th>3</th>\n",
       "      <td>0.970472</td>\n",
       "    </tr>\n",
       "    <tr>\n",
       "      <th>4</th>\n",
       "      <td>0.984737</td>\n",
       "    </tr>\n",
       "    <tr>\n",
       "      <th>5</th>\n",
       "      <td>0.995583</td>\n",
       "    </tr>\n",
       "    <tr>\n",
       "      <th>6</th>\n",
       "      <td>0.998867</td>\n",
       "    </tr>\n",
       "    <tr>\n",
       "      <th>7</th>\n",
       "      <td>0.999671</td>\n",
       "    </tr>\n",
       "    <tr>\n",
       "      <th>8</th>\n",
       "      <td>0.999832</td>\n",
       "    </tr>\n",
       "    <tr>\n",
       "      <th>9</th>\n",
       "      <td>0.999934</td>\n",
       "    </tr>\n",
       "    <tr>\n",
       "      <th>10</th>\n",
       "      <td>0.999988</td>\n",
       "    </tr>\n",
       "    <tr>\n",
       "      <th>11</th>\n",
       "      <td>0.999996</td>\n",
       "    </tr>\n",
       "  </tbody>\n",
       "</table>\n",
       "</div>"
      ],
      "text/plain": [
       "    explained variance\n",
       "0             0.000000\n",
       "1             0.740005\n",
       "2             0.943718\n",
       "3             0.970472\n",
       "4             0.984737\n",
       "5             0.995583\n",
       "6             0.998867\n",
       "7             0.999671\n",
       "8             0.999832\n",
       "9             0.999934\n",
       "10            0.999988\n",
       "11            0.999996"
      ]
     },
     "execution_count": 114,
     "metadata": {},
     "output_type": "execute_result"
    },
    {
     "data": {
      "image/png": "[encoded data removed]",
      "text/plain": [
       "<Figure size 432x288 with 1 Axes>"
      ]
     },
     "metadata": {
      "needs_background": "light"
     },
     "output_type": "display_data"
    }
   ],
   "source": [
    "from sklearn.model_selection import train_test_split\n",
    "\n",
    "#scale data first\n",
    "features_norm = normalize(features)\n",
    "#fixed seed for comparing different n_component numbers\n",
    "seed = 5026\n",
    "x_train, x_test, y_train, y_test = train_test_split(features_norm, labels, test_size=0.25, random_state=seed)\n",
    "\n",
    "variance={'explained variance':[]}\n",
    "\n",
    "for k in range(0,12):\n",
    "    pca = PCA(n_components=k).fit(x_train)\n",
    "    variance['explained variance'].append(pca.explained_variance_ratio_.sum())\n",
    "\n",
    "df = pd.DataFrame(variance)\n",
    "\n",
    "ax = df.plot.bar(ylim=(0.70,1.001),title=\"Number of components vs their explained variance\")\n",
    "ax.set_xlabel(\"number of components\")\n",
    "ax.set_ylabel(\"total explained variance\")\n",
    "ax.get_legend().remove()\n",
    "\n",
    "df"
   ]
  },
  {
   "cell_type": "markdown",
   "metadata": {},
   "source": [
    "The graph above shows different components and their explained variances. There is no way to get 100% explained variation, however it is possible to get close. In `Jake VanderPlas`'s `Python Data Science Handbook` he states that having anywhere over 90% of the total variance explained is good enough to model the dataset. In our case all of the explained variances for components higher than or equal to 2 have sufficient explained variance. Since we are trying to reduce the number of componenets as far as possible, we chose 2 as the number of components to use."
   ]
  },
  {
   "cell_type": "markdown",
   "metadata": {},
   "source": [
    "#### Section 2.6.2 Finding best KNN (With PCA)\n",
    "\n",
    "Similar to before we are going to compare different K values, but using the transformed data from `PCA`."
   ]
  },
  {
   "cell_type": "code",
   "execution_count": 115,
   "metadata": {},
   "outputs": [
    {
     "data": {
      "image/png": "[encoded data removed]",
      "text/plain": [
       "<Figure size 432x288 with 1 Axes>"
      ]
     },
     "metadata": {
      "needs_background": "light"
     },
     "output_type": "display_data"
    }
   ],
   "source": [
    "from sklearn.neighbors import KNeighborsClassifier\n",
    "\n",
    "#Fixed seed for all different Ks\n",
    "seed = 5026\n",
    "x_train, x_test, y_train, y_test = train_test_split(features_norm, labels, test_size=0.25, random_state=seed)\n",
    "\n",
    "#number of components from above\n",
    "comp_num = 2\n",
    "\n",
    "pca = PCA(n_components=comp_num)\n",
    "pca.fit(x_train)\n",
    "x_train = pca.transform(x_train)\n",
    "x_test = pca.transform(x_test)\n",
    "\n",
    "def test_knn(k_range, X_train, X_test, y_train, y_test, **knn_params):\n",
    "#     knn_tmp = pd.DataFrame()\n",
    "    knn_list = []\n",
    "    for k in k_range:\n",
    "        knn = KNeighborsClassifier(n_neighbors=k,**knn_params)\n",
    "        knn.fit(X_train, y_train)\n",
    "        knn_score_train = knn.score(X_train, y_train)\n",
    "        knn_score_test = knn.score(X_test, y_test)\n",
    "        \n",
    "        values = (k,knn_score_train,knn_score_test)\n",
    "        knn_list.append(values)\n",
    "    \n",
    "    \n",
    "    knn_tmp = pd.DataFrame(knn_list, columns =['k', 'train_score', 'test_score']).set_index('k')\n",
    "    return knn_tmp\n",
    "\n",
    "\n",
    "weights={'weights':'distance'}\n",
    "knn_score_weighted = test_knn(range(3,26,2), x_train, x_test, y_train, y_test, **weights)\n",
    "\n",
    "ax = knn_score_weighted.plot()\n",
    "ax.legend([\"weighted knn pca train accuracy\", \"weighted knn pca test accuracy\",\"lr score\"]);"
   ]
  },
  {
   "cell_type": "code",
   "execution_count": 116,
   "metadata": {},
   "outputs": [
    {
     "name": "stdout",
     "output_type": "stream",
     "text": [
      "21\n"
     ]
    }
   ],
   "source": [
    "pcaBestK = knn_score_weighted['test_score'].idxmax()\n",
    "print(pcaBestK)"
   ]
  },
  {
   "cell_type": "markdown",
   "metadata": {},
   "source": [
    "As we can see from above the `k` with the highest test accuracy is `k` = 21. We can now compare different models to find the model best fitted for predicted the type of wine. Previously, when PCA was not used, k was 9 (for normalized data). "
   ]
  },
  {
   "cell_type": "markdown",
   "metadata": {},
   "source": [
    "#### Section 2.6.3 Finding best classifiers (With PCA)\n",
    "\n",
    "In this section we will retrain all models (including the combined model) with the `PCA` dimension reduced data"
   ]
  },
  {
   "cell_type": "code",
   "execution_count": 117,
   "metadata": {},
   "outputs": [
    {
     "data": {
      "text/plain": [
       "<matplotlib.axes._subplots.AxesSubplot at 0x7f81db572ac0>"
      ]
     },
     "execution_count": 117,
     "metadata": {},
     "output_type": "execute_result"
    },
    {
     "data": {
      "image/png": "[encoded data removed]",
      "text/plain": [
       "<Figure size 432x288 with 1 Axes>"
      ]
     },
     "metadata": {
      "needs_background": "light"
     },
     "output_type": "display_data"
    }
   ],
   "source": [
    "scores_normalized = {name: [] for name in ('SVM', 'LR', 'KNN', 'Combined')}\n",
    "\n",
    "for seed in range(5000,5031):\n",
    "    x_train, x_test, y_train, y_test = train_test_split(features_normalized, labels, test_size=0.25, random_state=seed)\n",
    "   \n",
    "    pca = PCA(n_components=comp_num)\n",
    "    pca.fit(x_train)\n",
    "    x_train = pca.transform(x_train)\n",
    "    x_test = pca.transform(x_test)\n",
    "    \n",
    "    #pass in updated k\n",
    "    model_list = create_models(x_train, y_train, pcaBestK)\n",
    "    combined_model = predict(model_list, x_test)\n",
    "    \n",
    "    scores_normalized['SVM'].append(model_list[0].score(x_test,y_test))\n",
    "    scores_normalized['LR'].append(model_list[1].score(x_test,y_test))\n",
    "    scores_normalized['KNN'].append(model_list[2].score(x_test,y_test))\n",
    "    scores_normalized['Combined'].append(accuracy_score(y_test,combined_model))\n",
    "\n",
    "\n",
    "df_pca = pd.DataFrame(scores_normalized)\n",
    "df_pca.boxplot()\n"
   ]
  },
  {
   "cell_type": "code",
   "execution_count": 118,
   "metadata": {},
   "outputs": [
    {
     "data": {
      "text/plain": [
       "array([[<matplotlib.axes._subplots.AxesSubplot object at 0x7f81de850cd0>,\n",
       "        <matplotlib.axes._subplots.AxesSubplot object at 0x7f81dd099c40>],\n",
       "       [<matplotlib.axes._subplots.AxesSubplot object at 0x7f81daf6f8b0>,\n",
       "        <matplotlib.axes._subplots.AxesSubplot object at 0x7f81dd480790>]],\n",
       "      dtype=object)"
      ]
     },
     "execution_count": 118,
     "metadata": {},
     "output_type": "execute_result"
    },
    {
     "data": {
      "image/png": "[encoded data removed]",
      "text/plain": [
       "<Figure size 432x288 with 4 Axes>"
      ]
     },
     "metadata": {
      "needs_background": "light"
     },
     "output_type": "display_data"
    }
   ],
   "source": [
    "df_pca['data_type'] = \"pca\"\n",
    "\n",
    "df_merged2 = pd.concat([df_merged, df_pca], ignore_index=True)\n",
    "\n",
    "df_merged2.boxplot(by='data_type')"
   ]
  },
  {
   "cell_type": "markdown",
   "metadata": {},
   "source": [
    "We can see from above that the `KNN` model remains as the model with the highest test scores, therefor this model is best suited to predict the wine type (red or white) based off of the features in our data set. The same is true for our normalized data."
   ]
  },
  {
   "cell_type": "markdown",
   "metadata": {},
   "source": [
    "### Section 2.7 Results \n",
    "\n",
    "The best model for each case is outlined below:\n",
    "- Regular Data:  Linear SVM (using `svm.SVC` with `kernel=linear`)\n",
    "- Normalized Data: K neighbours (using `KNeighborsClassifier`)\\\n",
    "- Dimension Reduced Data: K neighbours (using `KNeighborsClassifier`)"
   ]
  }
 ],
 "metadata": {
  "kernelspec": {
   "display_name": "Python 3",
   "language": "python",
   "name": "python3"
  },
  "language_info": {
   "codemirror_mode": {
    "name": "ipython",
    "version": 3
   },
   "file_extension": ".py",
   "mimetype": "text/x-python",
   "name": "python",
   "nbconvert_exporter": "python",
   "pygments_lexer": "ipython3",
   "version": "3.7.6"
  }
 },
 "nbformat": 4,
 "nbformat_minor": 4
}
